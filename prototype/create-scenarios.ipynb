{
 "cells": [
  {
   "cell_type": "code",
   "execution_count": 1,
   "id": "74a36626-2b35-4b69-ae7f-92539288d323",
   "metadata": {},
   "outputs": [
    {
     "name": "stdout",
     "output_type": "stream",
     "text": [
      "Creating data for all 1 scenarios using following configuration from (single.json):\n",
      "  eur_to_sek: 11.68\n",
      "  onwind_turbine: 2030_5MW_onshore.yaml\n",
      "  offwind_turbine: 2030_20MW_offshore.yaml\n",
      "  profiles: {'biogas': {'Ingen': 0, 'Liten': 200, 'Mellan': 500, 'Stor': 1000}}\n",
      "\n",
      "Clear result folder\n"
     ]
    },
    {
     "name": "stderr",
     "output_type": "stream",
     "text": [
      "/home/viktor/miniforge3/envs/pypsa-eur/lib/python3.11/site-packages/atlite/cutout.py:190: UserWarning:\n",
      "\n",
      "Arguments module, x, y, time, dx, dy, dt are ignored, since cutout is already built.\n",
      "\n",
      "Compute availability matrix: 100%|██████████| 1/1 [00:00<00:00,  4.36 gridcells/s]\n",
      "Compute availability matrix: 100%|██████████| 1/1 [00:00<00:00,  3.89 gridcells/s]\n",
      "Compute availability matrix: 100%|██████████| 1/1 [00:00<00:00,  5.47 gridcells/s]\n",
      "/home/viktor/miniforge3/envs/pypsa-eur/lib/python3.11/site-packages/atlite/resource.py:72: FutureWarning:\n",
      "\n",
      "'add_cutout_windspeed' for wind turbine\n",
      "power curves will default to True in atlite relase v0.2.13.\n",
      "\n",
      "/home/viktor/miniforge3/envs/pypsa-eur/lib/python3.11/site-packages/atlite/resource.py:72: FutureWarning:\n",
      "\n",
      "'add_cutout_windspeed' for wind turbine\n",
      "power curves will default to True in atlite relase v0.2.13.\n",
      "\n"
     ]
    },
    {
     "name": "stdout",
     "output_type": "stream",
     "text": [
      "Using config:\n",
      "\th2:True\n",
      "\tnuclear:True\n",
      "\tbiogas:Stor\n"
     ]
    },
    {
     "name": "stderr",
     "output_type": "stream",
     "text": [
      "INFO:pypsa.io:Exported network network.nc has links, generators, stores, carriers, buses, loads\n",
      "INFO:pypsa.io:Imported network network.nc has buses, carriers, generators, links, loads, stores\n",
      "INFO:linopy.model: Solve problem using Highs solver\n",
      "INFO:linopy.io:Writing objective.\n",
      "Writing constraints.: 100%|\u001b[38;2;128;191;255m██████████\u001b[0m| 19/19 [00:00<00:00, 27.79it/s]\n",
      "Writing continuous variables.: 100%|\u001b[38;2;128;191;255m██████████\u001b[0m| 9/9 [00:00<00:00, 74.51it/s]\n",
      "Writing integer variables.: 100%|\u001b[38;2;128;191;255m██████████\u001b[0m| 2/2 [00:00<00:00, 625.41it/s]\n",
      "INFO:linopy.io: Writing time: 0.84s\n",
      "INFO:linopy.solvers:Log file at /tmp/highs.log.\n"
     ]
    },
    {
     "name": "stdout",
     "output_type": "stream",
     "text": [
      "Running HiGHS 1.5.3 [date: 2023-05-16, git hash: 594fa5a9d-dirty]\n",
      "Copyright (c) 2023 HiGHS under MIT licence terms\n",
      "Presolving model\n",
      "61328 rows, 73025 cols, 191296 nonzeros\n",
      "48184 rows, 59881 cols, 170848 nonzeros\n",
      "48184 rows, 59881 cols, 170848 nonzeros\n",
      "\n",
      "Solving MIP model with:\n",
      "   48184 rows\n",
      "   59881 cols (0 binary, 6 integer, 0 implied int., 59875 continuous)\n",
      "   170848 nonzeros\n",
      "\n",
      "        Nodes      |    B&B Tree     |            Objective Bounds              |  Dynamic Constraints |       Work      \n",
      "     Proc. InQueue |  Leaves   Expl. | BestBound       BestSol              Gap |   Cuts   InLp Confl. | LpIters     Time\n",
      "\n",
      "         0       0         0   0.00%   0               inf                  inf        0      0      0         0     0.3s\n",
      " S       0       0         0   0.00%   0               16785798545.36   100.00%        0      0      0         0    42.7s\n",
      " R       0       0         0   0.00%   16403346754.45  16533498177.17     0.79%        0      0      0     64807    52.1s\n",
      "         0       0         0   0.00%   16403346754.48  16533498177.17     0.79%       12      1      0     64808    59.5s\n",
      "         0       0         0   0.00%   16403346754.7   16533498177.17     0.79%       16      2      0     64809    66.9s\n",
      "         0       0         0   0.00%   16403346754.71  16533498177.17     0.79%       16      3      0     64810    74.4s\n",
      "         0       0         0   0.00%   16403346754.8   16533498177.17     0.79%       16      4      0     64815    82.7s\n",
      "         0       0         0   0.00%   16403346774.74  16533498177.17     0.79%       16      5      1     64819    90.2s\n",
      "         0       0         0   0.00%   16403346774.76  16533498177.17     0.79%       16      6      1     64820    97.9s\n",
      " S       0       0         0   0.00%   16403346774.76  16458404428.01     0.33%       16      6      1     64820   106.4s\n",
      " L       0       0         0   0.00%   16403346774.76  16405267225.49     0.01%       16      6      1     64820   171.4s\n",
      "\n",
      "16.7% inactive integer columns, restarting\n",
      "Model after restart has 42682 rows, 48542 cols (0 bin., 5 int., 0 impl., 48537 cont.), and 160800 nonzeros\n",
      "\n",
      "         0       0         0   0.00%   16403346774.76  16405267225.49     0.01%        6      0      0     70985   171.7s\n",
      "         0       0         0   0.00%   16403346774.76  16405267225.49     0.01%        6      6      0     70991   185.2s\n",
      "         0       0         0   0.00%   16403346774.76  16405267225.49     0.01%        6      6      0     75707   220.2s\n",
      " L       0       0         0   0.00%   16403346774.76  16405021604.88     0.01%        6      6      1     75707   368.9s\n",
      "\n",
      "Solving report\n",
      "  Status            Optimal\n",
      "  Primal bound      16405021604.9\n",
      "  Dual bound        16403424082.2\n",
      "  Gap               0.00974% (tolerance: 0.01%)\n",
      "  Solution status   feasible\n",
      "                    16405021604.9 (objective)\n",
      "                    0 (bound viol.)\n",
      "                    0 (int. viol.)\n",
      "                    0 (row viol.)\n",
      "  Timing            370.20 (total)\n",
      "                    0.41 (presolve)\n",
      "                    0.00 (postsolve)\n",
      "  Nodes             1\n",
      "  LP iterations     89674 (total)\n",
      "                    505 (strong br.)\n",
      "                    13 (separation)\n",
      "                    24225 (heuristics)\n"
     ]
    },
    {
     "name": "stderr",
     "output_type": "stream",
     "text": [
      "INFO:linopy.constants: Optimization successful: \n",
      "Status: ok\n",
      "Termination condition: optimal\n",
      "Solution: 84712 primals, 195674 duals\n",
      "Objective: 1.64e+10\n",
      "Solver model: available\n",
      "Solver message: optimal\n",
      "\n",
      "/home/viktor/miniforge3/envs/pypsa-eur/lib/python3.11/site-packages/pypsa/optimization/optimize.py:357: FutureWarning:\n",
      "\n",
      "A value is trying to be set on a copy of a DataFrame or Series through chained assignment using an inplace method.\n",
      "The behavior will change in pandas 3.0. This inplace method will never work because the intermediate object on which we are setting values always behaves as a copy.\n",
      "\n",
      "For example, when doing 'df[col].method(value, inplace=True)', try using 'df.method({col: value}, inplace=True)' or df[col] = df[col].method(value) instead, to perform the operation inplace on the original object.\n",
      "\n",
      "\n",
      "\n",
      "INFO:pypsa.optimization.optimize:The shadow-prices of the constraints Generator-fix-p-lower, Generator-fix-p-upper, Generator-ext-p-lower, Generator-ext-p-upper, Link-ext-p-lower, Link-ext-p-upper, Store-ext-e-lower, Store-ext-e-upper, Store-energy_balance were not assigned to the network.\n",
      "INFO:pypsa.io:Exported network network.nc has links, generators, stores, carriers, buses, loads\n"
     ]
    },
    {
     "name": "stdout",
     "output_type": "stream",
     "text": [
      "1 out of 1: (2023, 2030, 2023, 19, True, True, 'Stor', '14')\n",
      "Execution time: 6.2932 minutes\n"
     ]
    }
   ],
   "source": [
    "CONFIG_NAME=\"default\"\n",
    "\n",
    "# Iterates using the configuration specified, and runs everything needed to create all the outputs\n",
    "%run scenarios.py \"create\" \"$CONFIG_NAME\" True"
   ]
  }
 ],
 "metadata": {
  "kernelspec": {
   "display_name": "pypsa-eur",
   "language": "python",
   "name": "python3"
  },
  "language_info": {
   "codemirror_mode": {
    "name": "ipython",
    "version": 3
   },
   "file_extension": ".py",
   "mimetype": "text/x-python",
   "name": "python",
   "nbconvert_exporter": "python",
   "pygments_lexer": "ipython3",
   "version": "3.11.9"
  }
 },
 "nbformat": 4,
 "nbformat_minor": 5
}
