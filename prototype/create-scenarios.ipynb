{
 "cells": [
  {
   "cell_type": "code",
   "execution_count": null,
   "id": "74a36626-2b35-4b69-ae7f-92539288d323",
   "metadata": {},
   "outputs": [],
   "source": [
    "CONFIG_NAME=\"default\"\n",
    "\n",
    "# Iterates using the configuration specified, and runs everything needed to create all the outputs\n",
    "%run scenarios.py \"create\" \"$CONFIG_NAME\" \"dashboard\""
   ]
  },
  {
   "cell_type": "code",
   "execution_count": null,
   "id": "5473b36d-4a9b-49b9-997b-bd5a4e1e2b38",
   "metadata": {},
   "outputs": [],
   "source": []
  }
 ],
 "metadata": {
  "kernelspec": {
   "display_name": "pypsa-eur",
   "language": "python",
   "name": "python3"
  },
  "language_info": {
   "codemirror_mode": {
    "name": "ipython",
    "version": 3
   },
   "file_extension": ".py",
   "mimetype": "text/x-python",
   "name": "python",
   "nbconvert_exporter": "python",
   "pygments_lexer": "ipython3",
   "version": "3.11.9"
  }
 },
 "nbformat": 4,
 "nbformat_minor": 5
}
