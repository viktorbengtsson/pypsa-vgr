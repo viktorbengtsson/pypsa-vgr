{
 "cells": [
  {
   "cell_type": "code",
   "execution_count": 1,
   "id": "74a36626-2b35-4b69-ae7f-92539288d323",
   "metadata": {},
   "outputs": [
    {
     "name": "stdout",
     "output_type": "stream",
     "text": [
      "Creating data for all 96 scenarios using following configuration from (default.json):\n",
      "  eur_to_sek: 11.68\n",
      "  onwind_turbine: 2030_5MW_onshore.yaml\n",
      "  offwind_turbine: 2030_20MW_offshore.yaml\n",
      "  profiles: {'biogas': {'Ingen': 0, 'Liten': 200, 'Mellan': 500, 'Stor': 1000}}\n",
      "\n",
      "Clear result folder\n"
     ]
    },
    {
     "name": "stderr",
     "output_type": "stream",
     "text": [
      "/home/viktor/miniforge3/envs/pypsa-eur/lib/python3.11/site-packages/atlite/cutout.py:190: UserWarning:\n",
      "\n",
      "Arguments module, x, y, time, dx, dy, dt are ignored, since cutout is already built.\n",
      "\n",
      "Compute availability matrix: 100%|██████████| 1/1 [00:00<00:00,  4.70 gridcells/s]\n",
      "Compute availability matrix: 100%|██████████| 1/1 [00:00<00:00,  5.31 gridcells/s]\n",
      "Compute availability matrix: 100%|██████████| 1/1 [00:00<00:00,  8.00 gridcells/s]\n",
      "/home/viktor/miniforge3/envs/pypsa-eur/lib/python3.11/site-packages/atlite/resource.py:72: FutureWarning:\n",
      "\n",
      "'add_cutout_windspeed' for wind turbine\n",
      "power curves will default to True in atlite relase v0.2.13.\n",
      "\n",
      "/home/viktor/miniforge3/envs/pypsa-eur/lib/python3.11/site-packages/atlite/resource.py:72: FutureWarning:\n",
      "\n",
      "'add_cutout_windspeed' for wind turbine\n",
      "power curves will default to True in atlite relase v0.2.13.\n",
      "\n"
     ]
    },
    {
     "name": "stdout",
     "output_type": "stream",
     "text": [
      "Using config:\n",
      "\th2:True\n",
      "\tnuclear:True\n",
      "\tbiogas:Ingen\n"
     ]
    },
    {
     "name": "stderr",
     "output_type": "stream",
     "text": [
      "INFO:pypsa.io:Exported network network.nc has links, generators, buses, carriers, loads, stores\n",
      "INFO:pypsa.io:Imported network network.nc has buses, carriers, generators, links, loads, stores\n",
      "INFO:linopy.model: Solve problem using Highs solver\n",
      "INFO:linopy.io:Writing objective.\n",
      "Writing constraints.: 100%|\u001b[38;2;128;191;255m██████████\u001b[0m| 18/18 [00:00<00:00, 20.54it/s]\n",
      "Writing continuous variables.: 100%|\u001b[38;2;128;191;255m██████████\u001b[0m| 9/9 [00:00<00:00, 74.44it/s]\n",
      "Writing integer variables.: 100%|\u001b[38;2;128;191;255m██████████\u001b[0m| 2/2 [00:00<00:00, 506.44it/s]\n",
      "INFO:linopy.io: Writing time: 1.04s\n",
      "INFO:linopy.solvers:Log file at /tmp/highs.log.\n"
     ]
    },
    {
     "name": "stdout",
     "output_type": "stream",
     "text": [
      "Running HiGHS 1.5.3 [date: 2023-05-16, git hash: 594fa5a9d-dirty]\n",
      "Copyright (c) 2023 HiGHS under MIT licence terms\n"
     ]
    },
    {
     "name": "stderr",
     "output_type": "stream",
     "text": [
      "INFO:linopy.constants: Optimization successful: \n",
      "Status: ok\n",
      "Termination condition: optimal\n",
      "Solution: 87636 primals, 201521 duals\n",
      "Objective: 8.92e+09\n",
      "Solver model: available\n",
      "Solver message: optimal\n",
      "\n"
     ]
    },
    {
     "name": "stdout",
     "output_type": "stream",
     "text": [
      "Presolving model\n",
      "64249 rows, 70106 cols, 194218 nonzeros\n",
      "48185 rows, 54042 cols, 171266 nonzeros\n",
      "48185 rows, 54042 cols, 171266 nonzeros\n",
      "\n",
      "Solving MIP model with:\n",
      "   48185 rows\n",
      "   54042 cols (0 binary, 7 integer, 0 implied int., 54035 continuous)\n",
      "   171266 nonzeros\n",
      "\n",
      "        Nodes      |    B&B Tree     |            Objective Bounds              |  Dynamic Constraints |       Work      \n",
      "     Proc. InQueue |  Leaves   Expl. | BestBound       BestSol              Gap |   Cuts   InLp Confl. | LpIters     Time\n",
      "\n",
      "         0       0         0   0.00%   0               inf                  inf        0      0      0         0     0.4s\n",
      "         0       0         0   0.00%   8899641340.928  inf                  inf        0      0      1     70501    39.6s\n",
      "         0       0         0   0.00%   8899641353.216  inf                  inf       27      4      4     70507    44.9s\n",
      "         0       0         0   0.00%   8899642278.338  inf                  inf       27      8      9     70511    51.5s\n",
      " S       0       0         0   0.00%   8899642278.338  9158025326.684     2.82%       27      8     12     70511    56.2s\n",
      " H       0       0         0   0.00%   8899642278.338  8994625479.657     1.06%       27      8     12     70511    57.3s\n",
      " L       0       0         0   0.00%   8899642278.338  8989522903.751     1.00%       29      8     13     70511    80.0s\n",
      "\n",
      "14.3% inactive integer columns, restarting\n",
      "Model after restart has 39761 rows, 48537 cols (0 bin., 6 int., 0 impl., 48531 cont.), and 172041 nonzeros\n",
      "\n",
      "         0       0         0   0.00%   8899642278.338  8989522903.751     1.00%        8      0      0     85449    80.5s\n",
      "         0       0         0   0.00%   8899642278.338  8989522903.751     1.00%        8      8      1    111517    97.2s\n",
      "         0       0         0   0.00%   8899642278.338  8989522903.751     1.00%       14     10      6    123847   116.2s\n",
      " T       0       0         0   0.00%   8899642278.338  8989475216.435     1.00%       13     10      6    123847   151.7s\n",
      " S       6       0         1   3.12%   8899642278.338  8989129924.318     1.00%       14     10      6    147228   152.1s\n",
      " S       7       1         1  25.00%   8910790580.678  8981333877.242     0.79%       14     10      6    147583   166.9s\n",
      " S       7       0         1  50.00%   8910790580.678  8922158184.689     0.13%       14     10      6    147583   168.8s\n",
      " S       7       0         1  50.00%   8910790580.678  8922042798.415     0.13%       14     10      6    147583   168.9s\n",
      " T      12       0         2  53.12%   8910790580.678  8920379015.086     0.11%       15     10      7    157604   169.1s\n",
      " S      13       0         3  87.50%   8916551193.13   8916568494.673     0.00%       17     10      8    157632   172.9s\n",
      "\n",
      "Solving report\n",
      "  Status            Optimal\n",
      "  Primal bound      8916568494.67\n",
      "  Dual bound        8916552542.38\n",
      "  Gap               0.000179% (tolerance: 0.01%)\n",
      "  Solution status   feasible\n",
      "                    8916568494.67 (objective)\n",
      "                    0 (bound viol.)\n",
      "                    0 (int. viol.)\n",
      "                    0 (row viol.)\n",
      "  Timing            172.91 (total)\n",
      "                    0.47 (presolve)\n",
      "                    0.00 (postsolve)\n",
      "  Nodes             14\n",
      "  LP iterations     158820 (total)\n",
      "                    20469 (strong br.)\n",
      "                    13 (separation)\n",
      "                    27265 (heuristics)\n"
     ]
    },
    {
     "name": "stderr",
     "output_type": "stream",
     "text": [
      "/home/viktor/miniforge3/envs/pypsa-eur/lib/python3.11/site-packages/pypsa/optimization/optimize.py:357: FutureWarning:\n",
      "\n",
      "A value is trying to be set on a copy of a DataFrame or Series through chained assignment using an inplace method.\n",
      "The behavior will change in pandas 3.0. This inplace method will never work because the intermediate object on which we are setting values always behaves as a copy.\n",
      "\n",
      "For example, when doing 'df[col].method(value, inplace=True)', try using 'df.method({col: value}, inplace=True)' or df[col] = df[col].method(value) instead, to perform the operation inplace on the original object.\n",
      "\n",
      "\n",
      "\n",
      "INFO:pypsa.optimization.optimize:The shadow-prices of the constraints Generator-ext-p-lower, Generator-ext-p-upper, Link-ext-p-lower, Link-ext-p-upper, Store-ext-e-lower, Store-ext-e-upper, Store-energy_balance, Offwind_constraint were not assigned to the network.\n",
      "INFO:pypsa.io:Exported network network.nc has links, generators, buses, carriers, loads, stores\n"
     ]
    },
    {
     "name": "stdout",
     "output_type": "stream",
     "text": [
      "1 out of 96: (2023, 2030, 2023, 10, True, True, 'Ingen', '14')\n"
     ]
    },
    {
     "name": "stderr",
     "output_type": "stream",
     "text": [
      "/home/viktor/miniforge3/envs/pypsa-eur/lib/python3.11/site-packages/atlite/cutout.py:190: UserWarning:\n",
      "\n",
      "Arguments module, x, y, time, dx, dy, dt are ignored, since cutout is already built.\n",
      "\n",
      "INFO:atlite.data:Storing temporary files in /tmp/tmp6gnbotgm\n",
      "Compute availability matrix: 100%|██████████| 1/1 [00:00<00:00, 12.00 gridcells/s]\n",
      "Compute availability matrix: 100%|██████████| 1/1 [00:00<00:00, 13.66 gridcells/s]\n",
      "Compute availability matrix: 100%|██████████| 1/1 [00:00<00:00, 14.16 gridcells/s]\n",
      "INFO:atlite.convert:Convert and aggregate 'pv'.\n",
      "/home/viktor/miniforge3/envs/pypsa-eur/lib/python3.11/site-packages/atlite/resource.py:72: FutureWarning:\n",
      "\n",
      "'add_cutout_windspeed' for wind turbine\n",
      "power curves will default to True in atlite relase v0.2.13.\n",
      "\n",
      "INFO:atlite.convert:Convert and aggregate 'wind'.\n",
      "/home/viktor/miniforge3/envs/pypsa-eur/lib/python3.11/site-packages/atlite/resource.py:72: FutureWarning:\n",
      "\n",
      "'add_cutout_windspeed' for wind turbine\n",
      "power curves will default to True in atlite relase v0.2.13.\n",
      "\n",
      "INFO:atlite.convert:Convert and aggregate 'wind'.\n"
     ]
    },
    {
     "name": "stdout",
     "output_type": "stream",
     "text": [
      "Using config:\n",
      "\th2:True\n",
      "\tnuclear:True\n",
      "\tbiogas:Ingen\n"
     ]
    },
    {
     "name": "stderr",
     "output_type": "stream",
     "text": [
      "INFO:pypsa.io:Exported network network.nc has links, generators, buses, carriers, loads, stores\n",
      "INFO:pypsa.io:Imported network network.nc has buses, carriers, generators, links, loads, stores\n",
      "INFO:linopy.model: Solve problem using Highs solver\n",
      "INFO:linopy.io:Writing objective.\n",
      "Writing constraints.: 100%|\u001b[38;2;128;191;255m██████████\u001b[0m| 18/18 [00:01<00:00, 13.20it/s]\n",
      "Writing continuous variables.: 100%|\u001b[38;2;128;191;255m██████████\u001b[0m| 9/9 [00:00<00:00, 41.34it/s]\n",
      "Writing integer variables.: 100%|\u001b[38;2;128;191;255m██████████\u001b[0m| 2/2 [00:00<00:00, 254.48it/s]\n",
      "INFO:linopy.io: Writing time: 1.65s\n",
      "INFO:linopy.solvers:Log file at /tmp/highs.log.\n"
     ]
    },
    {
     "name": "stdout",
     "output_type": "stream",
     "text": [
      "Running HiGHS 1.5.3 [date: 2023-05-16, git hash: 594fa5a9d-dirty]\n",
      "Copyright (c) 2023 HiGHS under MIT licence terms\n",
      "Presolving model\n"
     ]
    },
    {
     "name": "stderr",
     "output_type": "stream",
     "text": [
      "INFO:linopy.constants: Optimization successful: \n",
      "Status: ok\n",
      "Termination condition: optimal\n",
      "Solution: 87636 primals, 201521 duals\n",
      "Objective: 8.67e+09\n",
      "Solver model: available\n",
      "Solver message: optimal\n",
      "\n"
     ]
    },
    {
     "name": "stdout",
     "output_type": "stream",
     "text": [
      "63535 rows, 68752 cols, 191190 nonzeros\n",
      "47865 rows, 53082 cols, 168781 nonzeros\n",
      "47865 rows, 53082 cols, 168781 nonzeros\n",
      "\n",
      "Solving MIP model with:\n",
      "   47865 rows\n",
      "   53082 cols (0 binary, 7 integer, 0 implied int., 53075 continuous)\n",
      "   168781 nonzeros\n",
      "\n",
      "        Nodes      |    B&B Tree     |            Objective Bounds              |  Dynamic Constraints |       Work      \n",
      "     Proc. InQueue |  Leaves   Expl. | BestBound       BestSol              Gap |   Cuts   InLp Confl. | LpIters     Time\n",
      "\n",
      "         0       0         0   0.00%   0               inf                  inf        0      0      0         0     0.5s\n",
      "         0       0         0   0.00%   8628074237.2    inf                  inf        0      0      1     67818    55.2s\n",
      "         0       0         0   0.00%   8628074249.363  inf                  inf       16      3      4     67851    61.4s\n",
      " S       0       0         0   0.00%   8628074278.174  8817498491.723     2.15%       16      5      9     67854    70.2s\n",
      " S       0       0         0   0.00%   8628074278.174  8809751293.853     2.06%       16      5      9     67854    70.5s\n",
      " L       0       0         0   0.00%   8628074278.174  8678565395.8       0.58%       16      5      9     67854    93.3s\n",
      " L       0       0         0   0.00%   8628074278.174  8670869779.649     0.49%       16      5     11     79661   181.0s\n",
      "         4       3         0  12.50%   8657288671.232  8670869779.649     0.16%       16      5     11    137549   223.2s\n",
      "         5       2         1  62.50%   8657288671.232  8670869779.649     0.16%       19      6     13    145152   241.8s\n",
      "         6       1         2  75.00%   8657288671.232  8670869779.649     0.16%       19      6     13    155706   258.7s\n",
      "\n",
      "Solving report\n",
      "  Status            Optimal\n",
      "  Primal bound      8670869779.65\n",
      "  Dual bound        8670416769.19\n",
      "  Gap               0.00522% (tolerance: 0.01%)\n",
      "  Solution status   feasible\n",
      "                    8670869779.65 (objective)\n",
      "                    0 (bound viol.)\n",
      "                    0 (int. viol.)\n",
      "                    0 (row viol.)\n",
      "  Timing            263.29 (total)\n",
      "                    0.43 (presolve)\n",
      "                    0.00 (postsolve)\n",
      "  Nodes             7\n",
      "  LP iterations     158662 (total)\n",
      "                    23382 (strong br.)\n",
      "                    37 (separation)\n",
      "                    43895 (heuristics)\n"
     ]
    },
    {
     "name": "stderr",
     "output_type": "stream",
     "text": [
      "/home/viktor/miniforge3/envs/pypsa-eur/lib/python3.11/site-packages/pypsa/optimization/optimize.py:357: FutureWarning:\n",
      "\n",
      "A value is trying to be set on a copy of a DataFrame or Series through chained assignment using an inplace method.\n",
      "The behavior will change in pandas 3.0. This inplace method will never work because the intermediate object on which we are setting values always behaves as a copy.\n",
      "\n",
      "For example, when doing 'df[col].method(value, inplace=True)', try using 'df.method({col: value}, inplace=True)' or df[col] = df[col].method(value) instead, to perform the operation inplace on the original object.\n",
      "\n",
      "\n",
      "\n",
      "INFO:pypsa.optimization.optimize:The shadow-prices of the constraints Generator-ext-p-lower, Generator-ext-p-upper, Link-ext-p-lower, Link-ext-p-upper, Store-ext-e-lower, Store-ext-e-upper, Store-energy_balance, Offwind_constraint were not assigned to the network.\n",
      "INFO:pypsa.io:Exported network network.nc has links, generators, buses, carriers, loads, stores\n"
     ]
    },
    {
     "name": "stdout",
     "output_type": "stream",
     "text": [
      "2 out of 96: (2023, 2030, 2023, 10, True, True, 'Ingen', '14:1480')\n"
     ]
    },
    {
     "name": "stderr",
     "output_type": "stream",
     "text": [
      "INFO:atlite.cutout:Building new cutout ../data/cutout-12-2023-01-2023-12.nc\n",
      "INFO:atlite.data:Storing temporary files in /tmp/tmpzoamna2_\n",
      "INFO:atlite.data:Calculating and writing with module era5:\n",
      "INFO:atlite.datasets.era5:Requesting data for feature wind...\n",
      "INFO:atlite.datasets.era5:Requesting data for feature temperature...\n",
      "INFO:atlite.datasets.era5:Requesting data for feature influx...\n",
      "INFO:atlite.datasets.era5:CDS: Downloading variables\n",
      "\t100m_u_component_of_wind (2023-1)\n",
      "\t100m_v_component_of_wind (2023-1)\n",
      "\tforecast_surface_roughness (2023-1)\n",
      "\n",
      "/home/viktor/miniforge3/envs/pypsa-eur/lib/python3.11/site-packages/atlite/datasets/era5.py:99: FutureWarning:\n",
      "\n",
      "The return type of `Dataset.dims` will be changed to return a set of dimension names in future, in order to be more consistent with `DataArray.dims`. To access a mapping from dimension names to lengths, please use `Dataset.sizes`.\n",
      "\n",
      "INFO:atlite.datasets.era5:CDS: Downloading variables\n",
      "\t2m_temperature (2023-1)\n",
      "\tsoil_temperature_level_4 (2023-1)\n",
      "\n",
      "/home/viktor/miniforge3/envs/pypsa-eur/lib/python3.11/site-packages/atlite/datasets/era5.py:99: FutureWarning:\n",
      "\n",
      "The return type of `Dataset.dims` will be changed to return a set of dimension names in future, in order to be more consistent with `DataArray.dims`. To access a mapping from dimension names to lengths, please use `Dataset.sizes`.\n",
      "\n",
      "INFO:atlite.datasets.era5:CDS: Downloading variables\n",
      "\tsurface_net_solar_radiation (2023-1)\n",
      "\tsurface_solar_radiation_downwards (2023-1)\n",
      "\ttoa_incident_solar_radiation (2023-1)\n",
      "\ttotal_sky_direct_solar_radiation_at_surface (2023-1)\n",
      "\n",
      "/home/viktor/miniforge3/envs/pypsa-eur/lib/python3.11/site-packages/atlite/datasets/era5.py:99: FutureWarning:\n",
      "\n",
      "The return type of `Dataset.dims` will be changed to return a set of dimension names in future, in order to be more consistent with `DataArray.dims`. To access a mapping from dimension names to lengths, please use `Dataset.sizes`.\n",
      "\n",
      "INFO:atlite.datasets.era5:CDS: Downloading variables\n",
      "\t100m_u_component_of_wind (2023-2)\n",
      "\t100m_v_component_of_wind (2023-2)\n",
      "\tforecast_surface_roughness (2023-2)\n",
      "\n",
      "/home/viktor/miniforge3/envs/pypsa-eur/lib/python3.11/site-packages/atlite/datasets/era5.py:99: FutureWarning:\n",
      "\n",
      "The return type of `Dataset.dims` will be changed to return a set of dimension names in future, in order to be more consistent with `DataArray.dims`. To access a mapping from dimension names to lengths, please use `Dataset.sizes`.\n",
      "\n"
     ]
    },
    {
     "ename": "KeyboardInterrupt",
     "evalue": "",
     "output_type": "error",
     "traceback": [
      "\u001b[0;31m---------------------------------------------------------------------------\u001b[0m",
      "\u001b[0;31mKeyboardInterrupt\u001b[0m                         Traceback (most recent call last)",
      "File \u001b[0;32m~/pypsa-vgr/prototype/scenarios.py:113\u001b[0m\n\u001b[1;32m    111\u001b[0m \u001b[38;5;28;01mfor\u001b[39;00m idx, scenario \u001b[38;5;129;01min\u001b[39;00m \u001b[38;5;28menumerate\u001b[39m(scenarios):\n\u001b[1;32m    112\u001b[0m     \u001b[38;5;28;01mif\u001b[39;00m action \u001b[38;5;241m==\u001b[39m \u001b[38;5;124m\"\u001b[39m\u001b[38;5;124mcreate\u001b[39m\u001b[38;5;124m\"\u001b[39m:\n\u001b[0;32m--> 113\u001b[0m         \u001b[43mcreate_scenario\u001b[49m\u001b[43m(\u001b[49m\u001b[43mconfig\u001b[49m\u001b[43m,\u001b[49m\u001b[43m \u001b[49m\u001b[43mscenario\u001b[49m\u001b[43m,\u001b[49m\u001b[43m \u001b[49m\u001b[43mkeys\u001b[49m\u001b[43m)\u001b[49m\n\u001b[1;32m    114\u001b[0m         \u001b[38;5;28mprint\u001b[39m(\u001b[38;5;124mf\u001b[39m\u001b[38;5;124m\"\u001b[39m\u001b[38;5;132;01m{\u001b[39;00midx\u001b[38;5;241m+\u001b[39m\u001b[38;5;241m1\u001b[39m\u001b[38;5;132;01m}\u001b[39;00m\u001b[38;5;124m out of \u001b[39m\u001b[38;5;132;01m{\u001b[39;00m\u001b[38;5;28mlen\u001b[39m(scenarios)\u001b[38;5;132;01m}\u001b[39;00m\u001b[38;5;124m: \u001b[39m\u001b[38;5;132;01m{\u001b[39;00mscenario\u001b[38;5;132;01m}\u001b[39;00m\u001b[38;5;124m\"\u001b[39m)\n\u001b[1;32m    115\u001b[0m     \u001b[38;5;28;01mif\u001b[39;00m action \u001b[38;5;241m==\u001b[39m \u001b[38;5;124m\"\u001b[39m\u001b[38;5;124mlist\u001b[39m\u001b[38;5;124m\"\u001b[39m:\n",
      "File \u001b[0;32m~/pypsa-vgr/prototype/scenarios.py:84\u001b[0m, in \u001b[0;36mcreate_scenario\u001b[0;34m(config, scenario, keys)\u001b[0m\n\u001b[1;32m     81\u001b[0m \u001b[38;5;28;01mwith\u001b[39;00m \u001b[38;5;28mopen\u001b[39m(\u001b[38;5;124mf\u001b[39m\u001b[38;5;124m\"\u001b[39m\u001b[38;5;124m../\u001b[39m\u001b[38;5;132;01m{\u001b[39;00mfolder\u001b[38;5;132;01m}\u001b[39;00m\u001b[38;5;124m/config.json\u001b[39m\u001b[38;5;124m\"\u001b[39m, \u001b[38;5;124m\"\u001b[39m\u001b[38;5;124mw\u001b[39m\u001b[38;5;124m\"\u001b[39m) \u001b[38;5;28;01mas\u001b[39;00m fp:\n\u001b[1;32m     82\u001b[0m     json\u001b[38;5;241m.\u001b[39mdump(config, fp, indent\u001b[38;5;241m=\u001b[39m\u001b[38;5;241m4\u001b[39m)\n\u001b[0;32m---> 84\u001b[0m \u001b[43mstore_data\u001b[49m\u001b[43m(\u001b[49m\u001b[43mconfig\u001b[49m\u001b[43m)\u001b[49m\n",
      "File \u001b[0;32m~/pypsa-vgr/prototype/store_data.py:14\u001b[0m, in \u001b[0;36mstore_data\u001b[0;34m(config)\u001b[0m\n\u001b[1;32m      8\u001b[0m \u001b[38;5;28;01mdef\u001b[39;00m \u001b[38;5;21mstore_data\u001b[39m(config):\n\u001b[1;32m      9\u001b[0m \n\u001b[1;32m     10\u001b[0m     \u001b[38;5;66;03m# Files: costs.csv\u001b[39;00m\n\u001b[1;32m     11\u001b[0m     \u001b[38;5;66;03m#create_and_store_costs(config)\u001b[39;00m\n\u001b[1;32m     12\u001b[0m \n\u001b[1;32m     13\u001b[0m     \u001b[38;5;66;03m# Files: cutout.nc, time_index.csv, selection.shp (incl .cpg, .dbf, .prj, .shx), eez.shp (incl .cpg, .dbf, .prj, .shx)\u001b[39;00m\n\u001b[0;32m---> 14\u001b[0m     \u001b[43mcreate_and_store_cutout\u001b[49m\u001b[43m(\u001b[49m\u001b[43mconfig\u001b[49m\u001b[43m)\u001b[49m\n\u001b[1;32m     16\u001b[0m     \u001b[38;5;66;03m# Files: avail_{solar|onwind|offwind}.nc, avail_capacity_{solar|onwind|offwind}.nc\u001b[39;00m\n\u001b[1;32m     17\u001b[0m     create_and_store_availability(config)\n",
      "File \u001b[0;32m~/pypsa-vgr/prototype/lib/cutout.py:40\u001b[0m, in \u001b[0;36mcreate_and_store_cutout\u001b[0;34m(config)\u001b[0m\n\u001b[1;32m     28\u001b[0m fname \u001b[38;5;241m=\u001b[39m \u001b[38;5;28mstr\u001b[39m(\u001b[38;5;124mf\u001b[39m\u001b[38;5;124m\"\u001b[39m\u001b[38;5;124m../data/cutout-\u001b[39m\u001b[38;5;132;01m{\u001b[39;00mLAN_CODE\u001b[38;5;132;01m}\u001b[39;00m\u001b[38;5;124m-\u001b[39m\u001b[38;5;132;01m{\u001b[39;00mSTART\u001b[38;5;132;01m}\u001b[39;00m\u001b[38;5;124m-\u001b[39m\u001b[38;5;132;01m{\u001b[39;00mEND\u001b[38;5;132;01m}\u001b[39;00m\u001b[38;5;124m.nc\u001b[39m\u001b[38;5;124m\"\u001b[39m)\n\u001b[1;32m     30\u001b[0m cutout \u001b[38;5;241m=\u001b[39m atlite\u001b[38;5;241m.\u001b[39mCutout(\n\u001b[1;32m     31\u001b[0m     path\u001b[38;5;241m=\u001b[39mfname,\n\u001b[1;32m     32\u001b[0m     module\u001b[38;5;241m=\u001b[39m\u001b[38;5;124m\"\u001b[39m\u001b[38;5;124mera5\u001b[39m\u001b[38;5;124m\"\u001b[39m,\n\u001b[0;32m   (...)\u001b[0m\n\u001b[1;32m     38\u001b[0m     dt\u001b[38;5;241m=\u001b[39m\u001b[38;5;124m\"\u001b[39m\u001b[38;5;124m3h\u001b[39m\u001b[38;5;124m\"\u001b[39m\n\u001b[1;32m     39\u001b[0m )\n\u001b[0;32m---> 40\u001b[0m \u001b[43mcutout\u001b[49m\u001b[38;5;241;43m.\u001b[39;49m\u001b[43mprepare\u001b[49m\u001b[43m(\u001b[49m\u001b[43mfeatures\u001b[49m\u001b[38;5;241;43m=\u001b[39;49m\u001b[43m[\u001b[49m\u001b[38;5;124;43m'\u001b[39;49m\u001b[38;5;124;43minflux\u001b[39;49m\u001b[38;5;124;43m'\u001b[39;49m\u001b[43m,\u001b[49m\u001b[43m \u001b[49m\u001b[38;5;124;43m'\u001b[39;49m\u001b[38;5;124;43mtemperature\u001b[39;49m\u001b[38;5;124;43m'\u001b[39;49m\u001b[43m,\u001b[49m\u001b[43m \u001b[49m\u001b[38;5;124;43m'\u001b[39;49m\u001b[38;5;124;43mwind\u001b[39;49m\u001b[38;5;124;43m'\u001b[39;49m\u001b[43m]\u001b[49m\u001b[43m)\u001b[49m\n\u001b[1;32m     42\u001b[0m shutil\u001b[38;5;241m.\u001b[39mcopyfile(fname, \u001b[38;5;124mf\u001b[39m\u001b[38;5;124m\"\u001b[39m\u001b[38;5;124m../\u001b[39m\u001b[38;5;132;01m{\u001b[39;00mDATA_PATH\u001b[38;5;132;01m}\u001b[39;00m\u001b[38;5;124m/cutout.nc\u001b[39m\u001b[38;5;124m\"\u001b[39m)\n\u001b[1;32m     44\u001b[0m \u001b[38;5;28;01mif\u001b[39;00m KOM_CODE \u001b[38;5;129;01mis\u001b[39;00m \u001b[38;5;28;01mNone\u001b[39;00m:\n",
      "File \u001b[0;32m~/miniforge3/envs/pypsa-eur/lib/python3.11/site-packages/atlite/data.py:103\u001b[0m, in \u001b[0;36mmaybe_remove_tmpdir.<locals>.wrapper\u001b[0;34m(*args, **kwargs)\u001b[0m\n\u001b[1;32m    101\u001b[0m kwargs[\u001b[38;5;124m\"\u001b[39m\u001b[38;5;124mtmpdir\u001b[39m\u001b[38;5;124m\"\u001b[39m] \u001b[38;5;241m=\u001b[39m mkdtemp()\n\u001b[1;32m    102\u001b[0m \u001b[38;5;28;01mtry\u001b[39;00m:\n\u001b[0;32m--> 103\u001b[0m     res \u001b[38;5;241m=\u001b[39m \u001b[43mfunc\u001b[49m\u001b[43m(\u001b[49m\u001b[38;5;241;43m*\u001b[39;49m\u001b[43margs\u001b[49m\u001b[43m,\u001b[49m\u001b[43m \u001b[49m\u001b[38;5;241;43m*\u001b[39;49m\u001b[38;5;241;43m*\u001b[39;49m\u001b[43mkwargs\u001b[49m\u001b[43m)\u001b[49m\n\u001b[1;32m    104\u001b[0m \u001b[38;5;28;01mfinally\u001b[39;00m:\n\u001b[1;32m    105\u001b[0m     rmtree(kwargs[\u001b[38;5;124m\"\u001b[39m\u001b[38;5;124mtmpdir\u001b[39m\u001b[38;5;124m\"\u001b[39m])\n",
      "File \u001b[0;32m~/miniforge3/envs/pypsa-eur/lib/python3.11/site-packages/atlite/data.py:177\u001b[0m, in \u001b[0;36mcutout_prepare\u001b[0;34m(cutout, features, tmpdir, overwrite, compression)\u001b[0m\n\u001b[1;32m    175\u001b[0m logger\u001b[38;5;241m.\u001b[39minfo(\u001b[38;5;124mf\u001b[39m\u001b[38;5;124m\"\u001b[39m\u001b[38;5;124mCalculating and writing with module \u001b[39m\u001b[38;5;132;01m{\u001b[39;00mmodule\u001b[38;5;132;01m}\u001b[39;00m\u001b[38;5;124m:\u001b[39m\u001b[38;5;124m\"\u001b[39m)\n\u001b[1;32m    176\u001b[0m missing_features \u001b[38;5;241m=\u001b[39m missing_vars\u001b[38;5;241m.\u001b[39mindex\u001b[38;5;241m.\u001b[39munique(\u001b[38;5;124m\"\u001b[39m\u001b[38;5;124mfeature\u001b[39m\u001b[38;5;124m\"\u001b[39m)\n\u001b[0;32m--> 177\u001b[0m ds \u001b[38;5;241m=\u001b[39m \u001b[43mget_features\u001b[49m\u001b[43m(\u001b[49m\u001b[43mcutout\u001b[49m\u001b[43m,\u001b[49m\u001b[43m \u001b[49m\u001b[43mmodule\u001b[49m\u001b[43m,\u001b[49m\u001b[43m \u001b[49m\u001b[43mmissing_features\u001b[49m\u001b[43m,\u001b[49m\u001b[43m \u001b[49m\u001b[43mtmpdir\u001b[49m\u001b[38;5;241;43m=\u001b[39;49m\u001b[43mtmpdir\u001b[49m\u001b[43m)\u001b[49m\n\u001b[1;32m    178\u001b[0m prepared \u001b[38;5;241m|\u001b[39m\u001b[38;5;241m=\u001b[39m \u001b[38;5;28mset\u001b[39m(missing_features)\n\u001b[1;32m    180\u001b[0m cutout\u001b[38;5;241m.\u001b[39mdata\u001b[38;5;241m.\u001b[39mattrs\u001b[38;5;241m.\u001b[39mupdate(\u001b[38;5;28mdict\u001b[39m(prepared_features\u001b[38;5;241m=\u001b[39m\u001b[38;5;28mlist\u001b[39m(prepared)))\n",
      "File \u001b[0;32m~/miniforge3/envs/pypsa-eur/lib/python3.11/site-packages/atlite/data.py:46\u001b[0m, in \u001b[0;36mget_features\u001b[0;34m(cutout, module, features, tmpdir)\u001b[0m\n\u001b[1;32m     41\u001b[0m     feature_data \u001b[38;5;241m=\u001b[39m delayed(get_data)(\n\u001b[1;32m     42\u001b[0m         cutout, feature, tmpdir\u001b[38;5;241m=\u001b[39mtmpdir, lock\u001b[38;5;241m=\u001b[39mlock, \u001b[38;5;241m*\u001b[39m\u001b[38;5;241m*\u001b[39mparameters\n\u001b[1;32m     43\u001b[0m     )\n\u001b[1;32m     44\u001b[0m     datasets\u001b[38;5;241m.\u001b[39mappend(feature_data)\n\u001b[0;32m---> 46\u001b[0m datasets \u001b[38;5;241m=\u001b[39m \u001b[43mcompute\u001b[49m\u001b[43m(\u001b[49m\u001b[38;5;241;43m*\u001b[39;49m\u001b[43mdatasets\u001b[49m\u001b[43m)\u001b[49m\n\u001b[1;32m     48\u001b[0m ds \u001b[38;5;241m=\u001b[39m xr\u001b[38;5;241m.\u001b[39mmerge(datasets, compat\u001b[38;5;241m=\u001b[39m\u001b[38;5;124m\"\u001b[39m\u001b[38;5;124mequals\u001b[39m\u001b[38;5;124m\"\u001b[39m)\n\u001b[1;32m     49\u001b[0m \u001b[38;5;28;01mfor\u001b[39;00m v \u001b[38;5;129;01min\u001b[39;00m ds:\n",
      "File \u001b[0;32m~/miniforge3/envs/pypsa-eur/lib/python3.11/site-packages/dask/base.py:661\u001b[0m, in \u001b[0;36mcompute\u001b[0;34m(traverse, optimize_graph, scheduler, get, *args, **kwargs)\u001b[0m\n\u001b[1;32m    658\u001b[0m     postcomputes\u001b[38;5;241m.\u001b[39mappend(x\u001b[38;5;241m.\u001b[39m__dask_postcompute__())\n\u001b[1;32m    660\u001b[0m \u001b[38;5;28;01mwith\u001b[39;00m shorten_traceback():\n\u001b[0;32m--> 661\u001b[0m     results \u001b[38;5;241m=\u001b[39m \u001b[43mschedule\u001b[49m\u001b[43m(\u001b[49m\u001b[43mdsk\u001b[49m\u001b[43m,\u001b[49m\u001b[43m \u001b[49m\u001b[43mkeys\u001b[49m\u001b[43m,\u001b[49m\u001b[43m \u001b[49m\u001b[38;5;241;43m*\u001b[39;49m\u001b[38;5;241;43m*\u001b[39;49m\u001b[43mkwargs\u001b[49m\u001b[43m)\u001b[49m\n\u001b[1;32m    663\u001b[0m \u001b[38;5;28;01mreturn\u001b[39;00m repack([f(r, \u001b[38;5;241m*\u001b[39ma) \u001b[38;5;28;01mfor\u001b[39;00m r, (f, a) \u001b[38;5;129;01min\u001b[39;00m \u001b[38;5;28mzip\u001b[39m(results, postcomputes)])\n",
      "File \u001b[0;32m~/miniforge3/envs/pypsa-eur/lib/python3.11/queue.py:171\u001b[0m, in \u001b[0;36mQueue.get\u001b[0;34m(self, block, timeout)\u001b[0m\n\u001b[1;32m    169\u001b[0m \u001b[38;5;28;01melif\u001b[39;00m timeout \u001b[38;5;129;01mis\u001b[39;00m \u001b[38;5;28;01mNone\u001b[39;00m:\n\u001b[1;32m    170\u001b[0m     \u001b[38;5;28;01mwhile\u001b[39;00m \u001b[38;5;129;01mnot\u001b[39;00m \u001b[38;5;28mself\u001b[39m\u001b[38;5;241m.\u001b[39m_qsize():\n\u001b[0;32m--> 171\u001b[0m         \u001b[38;5;28;43mself\u001b[39;49m\u001b[38;5;241;43m.\u001b[39;49m\u001b[43mnot_empty\u001b[49m\u001b[38;5;241;43m.\u001b[39;49m\u001b[43mwait\u001b[49m\u001b[43m(\u001b[49m\u001b[43m)\u001b[49m\n\u001b[1;32m    172\u001b[0m \u001b[38;5;28;01melif\u001b[39;00m timeout \u001b[38;5;241m<\u001b[39m \u001b[38;5;241m0\u001b[39m:\n\u001b[1;32m    173\u001b[0m     \u001b[38;5;28;01mraise\u001b[39;00m \u001b[38;5;167;01mValueError\u001b[39;00m(\u001b[38;5;124m\"\u001b[39m\u001b[38;5;124m'\u001b[39m\u001b[38;5;124mtimeout\u001b[39m\u001b[38;5;124m'\u001b[39m\u001b[38;5;124m must be a non-negative number\u001b[39m\u001b[38;5;124m\"\u001b[39m)\n",
      "File \u001b[0;32m~/miniforge3/envs/pypsa-eur/lib/python3.11/threading.py:327\u001b[0m, in \u001b[0;36mCondition.wait\u001b[0;34m(self, timeout)\u001b[0m\n\u001b[1;32m    325\u001b[0m \u001b[38;5;28;01mtry\u001b[39;00m:    \u001b[38;5;66;03m# restore state no matter what (e.g., KeyboardInterrupt)\u001b[39;00m\n\u001b[1;32m    326\u001b[0m     \u001b[38;5;28;01mif\u001b[39;00m timeout \u001b[38;5;129;01mis\u001b[39;00m \u001b[38;5;28;01mNone\u001b[39;00m:\n\u001b[0;32m--> 327\u001b[0m         \u001b[43mwaiter\u001b[49m\u001b[38;5;241;43m.\u001b[39;49m\u001b[43macquire\u001b[49m\u001b[43m(\u001b[49m\u001b[43m)\u001b[49m\n\u001b[1;32m    328\u001b[0m         gotit \u001b[38;5;241m=\u001b[39m \u001b[38;5;28;01mTrue\u001b[39;00m\n\u001b[1;32m    329\u001b[0m     \u001b[38;5;28;01melse\u001b[39;00m:\n",
      "\u001b[0;31mKeyboardInterrupt\u001b[0m: "
     ]
    }
   ],
   "source": [
    "CONFIG_NAME=\"single\"\n",
    "\n",
    "# Iterates using the configuration specified, and runs everything needed to create all the outputs\n",
    "%run scenarios.py \"create\" \"$CONFIG_NAME\" True"
   ]
  }
 ],
 "metadata": {
  "kernelspec": {
   "display_name": "pypsa-eur",
   "language": "python",
   "name": "python3"
  },
  "language_info": {
   "codemirror_mode": {
    "name": "ipython",
    "version": 3
   },
   "file_extension": ".py",
   "mimetype": "text/x-python",
   "name": "python",
   "nbconvert_exporter": "python",
   "pygments_lexer": "ipython3",
   "version": "3.11.9"
  }
 },
 "nbformat": 4,
 "nbformat_minor": 5
}
