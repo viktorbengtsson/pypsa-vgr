{
 "cells": [
  {
   "cell_type": "code",
   "execution_count": 1,
   "id": "74a36626-2b35-4b69-ae7f-92539288d323",
   "metadata": {},
   "outputs": [
    {
     "name": "stdout",
     "output_type": "stream",
     "text": [
      "Creating data for all 1 scenarios using following configuration from (single.json):\n",
      "  base-currency: SEK\n",
      "  exchange-rates: {'EUR': 11.68}\n",
      "  eur_to_sek: 11.68\n",
      "  models: {'solar': '', 'onwind': '2030_5MW_onshore.yaml', 'offwind': '2030_20MW_offshore.yaml'}\n",
      "  profiles: {'biogas': {'Ingen': 0, 'Liten': 200, 'Mellan': 500, 'Stor': 1000}}\n",
      "\n",
      "Costs: Files already exists, continue\n",
      "Costs: Files already exists, continue\n"
     ]
    },
    {
     "name": "stderr",
     "output_type": "stream",
     "text": [
      "/home/viktor/miniforge3/envs/pypsa-vgr/lib/python3.11/site-packages/atlite/cutout.py:191: UserWarning:\n",
      "\n",
      "Arguments module, x, y, time, dx, dy, dt are ignored, since cutout is already built.\n",
      "\n"
     ]
    },
    {
     "name": "stdout",
     "output_type": "stream",
     "text": [
      "Costs: Files already exists, continue\n"
     ]
    },
    {
     "name": "stderr",
     "output_type": "stream",
     "text": [
      "Compute availability matrix: 100%|██████████| 1/1 [00:00<00:00,  3.84 gridcells/s]\n",
      "Compute availability matrix: 100%|██████████| 1/1 [00:00<00:00,  6.93 gridcells/s]\n",
      "Compute availability matrix: 100%|██████████| 1/1 [00:00<00:00,  6.20 gridcells/s]\n",
      "Compute availability matrix: 100%|██████████| 1/1 [00:00<00:00,  5.38 gridcells/s]\n",
      "/home/viktor/miniforge3/envs/pypsa-vgr/lib/python3.11/site-packages/atlite/resource.py:72: FutureWarning:\n",
      "\n",
      "'add_cutout_windspeed' for wind turbine\n",
      "power curves will default to True in atlite relase v0.2.13.\n",
      "\n",
      "Compute availability matrix: 100%|██████████| 1/1 [00:00<00:00,  4.78 gridcells/s]\n",
      "Compute availability matrix: 100%|██████████| 1/1 [00:00<00:00,  5.36 gridcells/s]\n",
      "/home/viktor/miniforge3/envs/pypsa-vgr/lib/python3.11/site-packages/atlite/resource.py:72: FutureWarning:\n",
      "\n",
      "'add_cutout_windspeed' for wind turbine\n",
      "power curves will default to True in atlite relase v0.2.13.\n",
      "\n"
     ]
    },
    {
     "name": "stdout",
     "output_type": "stream",
     "text": [
      "Costs: Files already exists, continue\n",
      "Costs: Files already exists, continue\n",
      "Using config:\n",
      "\th2:True\n",
      "\tnuclear:True\n",
      "\toffwind:True\n",
      "\tbiogas:Stor\n"
     ]
    },
    {
     "name": "stderr",
     "output_type": "stream",
     "text": [
      "INFO:pypsa.io:Exported network network.nc has stores, buses, carriers, generators, loads, links\n",
      "INFO:pypsa.io:Imported network network.nc has buses, carriers, generators, links, loads, stores\n"
     ]
    },
    {
     "name": "stdout",
     "output_type": "stream",
     "text": [
      "Costs: Files already exists, continue\n"
     ]
    },
    {
     "name": "stderr",
     "output_type": "stream",
     "text": [
      "INFO:linopy.model: Solve problem using Highs solver\n",
      "INFO:linopy.io:Writing objective.\n",
      "Writing constraints.: 100%|\u001b[38;2;128;191;255m██████████\u001b[0m| 18/18 [00:00<00:00, 19.32it/s]\n",
      "Writing continuous variables.: 100%|\u001b[38;2;128;191;255m██████████\u001b[0m| 9/9 [00:00<00:00, 63.04it/s]\n",
      "Writing integer variables.: 100%|\u001b[38;2;128;191;255m██████████\u001b[0m| 2/2 [00:00<00:00, 1003.42it/s]\n",
      "INFO:linopy.io: Writing time: 1.11s\n",
      "INFO:linopy.solvers:Log file at /tmp/highs.log\n"
     ]
    },
    {
     "name": "stdout",
     "output_type": "stream",
     "text": [
      "Running HiGHS 1.7.2 (git hash: 184e327): Copyright (c) 2024 HiGHS under MIT licence terms\n"
     ]
    },
    {
     "name": "stderr",
     "output_type": "stream",
     "text": [
      "INFO:linopy.constants: Optimization successful: \n",
      "Status: ok\n",
      "Termination condition: optimal\n",
      "Solution: 87636 primals, 201521 duals\n",
      "Objective: 4.19e+10\n",
      "Solver model: available\n",
      "Solver message: optimal\n",
      "\n"
     ]
    },
    {
     "name": "stdout",
     "output_type": "stream",
     "text": [
      "Coefficient ranges:\n",
      "  Matrix [4e-06, 2e+03]\n",
      "  Cost   [7e+01, 3e+06]\n",
      "  Bound  [0e+00, 0e+00]\n",
      "  RHS    [6e+02, 4e+03]\n",
      "Presolving model\n",
      "55553 rows, 58536 cols, 165261 nonzeros  0s\n",
      "42951 rows, 45934 cols, 148333 nonzeros  0s\n",
      "41213 rows, 44196 cols, 154101 nonzeros  0s\n",
      "\n",
      "Solving MIP model with:\n",
      "   41213 rows\n",
      "   44196 cols (0 binary, 7 integer, 0 implied int., 44189 continuous)\n",
      "   154101 nonzeros\n",
      "\n",
      "        Nodes      |    B&B Tree     |            Objective Bounds              |  Dynamic Constraints |       Work      \n",
      "     Proc. InQueue |  Leaves   Expl. | BestBound       BestSol              Gap |   Cuts   InLp Confl. | LpIters     Time\n",
      "\n",
      "         0       0         0   0.00%   0               inf                  inf        0      0      0         0     0.4s\n",
      " S       0       0         0   0.00%   0               41967233447.29   100.00%        0      0      0         0    18.3s\n",
      " R       0       0         0   0.00%   41887551104.2   41891025605.32     0.01%        0      0      0     43298    18.7s\n",
      "\n",
      "Solving report\n",
      "  Status            Optimal\n",
      "  Primal bound      41891025605.3\n",
      "  Dual bound        41887551104.2\n",
      "  Gap               0.00829% (tolerance: 0.01%)\n",
      "  Solution status   feasible\n",
      "                    41891025605.3 (objective)\n",
      "                    0 (bound viol.)\n",
      "                    0 (int. viol.)\n",
      "                    0 (row viol.)\n",
      "  Timing            18.68 (total)\n",
      "                    0.34 (presolve)\n",
      "                    0.00 (postsolve)\n",
      "  Nodes             1\n",
      "  LP iterations     43298 (total)\n",
      "                    0 (strong br.)\n",
      "                    0 (separation)\n",
      "                    0 (heuristics)\n",
      "Writing the solution to /tmp/linopy-solve-bm29qyd0.sol\n"
     ]
    },
    {
     "name": "stderr",
     "output_type": "stream",
     "text": [
      "INFO:pypsa.optimization.optimize:The shadow-prices of the constraints Generator-ext-p-lower, Generator-ext-p-upper, Link-ext-p-lower, Link-ext-p-upper, Store-ext-e-lower, Store-ext-e-upper, Store-energy_balance, Offwind_constraint were not assigned to the network.\n",
      "INFO:pypsa.io:Exported network network.nc has stores, buses, carriers, generators, loads, links\n",
      "INFO:pypsa.io:Imported network network.nc has buses, carriers, generators, links, loads, stores\n"
     ]
    },
    {
     "name": "stdout",
     "output_type": "stream",
     "text": [
      "Costs: Files already exists, continue\n",
      "1 out of 1: (2023, 2024, 2035, 2030, 0.04, 2023, 19, True, True, True, 'Stor', '14')\n",
      "Execution time: 0.6187 minutes\n"
     ]
    },
    {
     "name": "stderr",
     "output_type": "stream",
     "text": [
      "/home/viktor/code/pypsa-vgr/prototype/lib/collect_analytics.py:88: FutureWarning:\n",
      "\n",
      "The behavior of DataFrame concatenation with empty or all-NA entries is deprecated. In a future version, this will no longer exclude empty or all-NA columns when determining the result dtypes. To retain the old behavior, exclude the relevant entries before the concat operation.\n",
      "\n"
     ]
    }
   ],
   "source": [
    "CONFIG_NAME=\"single\"\n",
    "\n",
    "# Iterates using the configuration specified, and runs everything needed to create all the outputs\n",
    "%run scenarios.py \"create\" \"$CONFIG_NAME\" False"
   ]
  },
  {
   "cell_type": "code",
   "execution_count": null,
   "id": "5473b36d-4a9b-49b9-997b-bd5a4e1e2b38",
   "metadata": {},
   "outputs": [],
   "source": []
  }
 ],
 "metadata": {
  "kernelspec": {
   "display_name": "pypsa-eur",
   "language": "python",
   "name": "python3"
  },
  "language_info": {
   "codemirror_mode": {
    "name": "ipython",
    "version": 3
   },
   "file_extension": ".py",
   "mimetype": "text/x-python",
   "name": "python",
   "nbconvert_exporter": "python",
   "pygments_lexer": "ipython3",
   "version": "3.11.9"
  }
 },
 "nbformat": 4,
 "nbformat_minor": 5
}
