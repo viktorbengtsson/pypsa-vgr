{
 "cells": [
  {
   "cell_type": "code",
   "execution_count": null,
   "id": "e9d2f90a-f9b7-4ace-a32d-53b33def2c52",
   "metadata": {},
   "outputs": [],
   "source": [
    "# Config and imports\n",
    "\n",
    "import logging\n",
    "import pandas as pd\n",
    "from lib.optimize import create_and_store_optimize\n",
    "from lib.network import create_and_store_network\n",
    "from lib.costs import create_and_store_costs\n",
    "from lib.cutout import create_and_store_cutout\n",
    "from lib.availability import create_and_store_availability\n",
    "from lib.demand import create_and_store_demand\n",
    "logging.basicConfig(level=logging.INFO)\n",
    "\n",
    "\n",
    "# Configuration specified in /prototypes/configs\n",
    "CONFIG_NAME = \"default\"\n",
    "\n",
    "# In the config file, we have a secnarios configuration that is used to create files per scenario. In this notebook, we use the following scenario\n",
    "SCENARIO = \"weather=2011,costs=2020,demand=2025,demand-target=0.03,load-target=10,network-nuclear=on,network-h2=on,network-biogas=none,network-onwind-limit=None,network-offwind-limit=None,geography=14\"\n"
   ]
  },
  {
   "cell_type": "code",
   "execution_count": null,
   "id": "9c295d0b-0d8f-489b-a227-633920b7c79c",
   "metadata": {},
   "outputs": [],
   "source": [
    "# Setting variables based on config\n",
    "%run scenarios.py \"validate\" \"$CONFIG_NAME\" \"$SCENARIO\"\n",
    "\n",
    "with open(f\"../data/result/{SCENARIO}/config.json\", \"r\") as f:\n",
    "    CONFIG = json.load(f)\n",
    "\n",
    "DATA_PATH=CONFIG[\"scenario\"][\"data-path\"]"
   ]
  },
  {
   "cell_type": "code",
   "execution_count": null,
   "id": "90d3f60c",
   "metadata": {},
   "outputs": [],
   "source": [
    "## OVERRIDING VARIABLES?\n",
    "#CONFIG[\"demand-target\"] = 0.05\n",
    "# And then, to update any step, just uncomment and run\n",
    "#create_and_store_costs(CONFIG)\n",
    "#create_and_store_cutout(CONFIG)\n",
    "#create_and_store_availability(CONFIG)\n",
    "#create_and_store_demand(CONFIG)\n",
    "#create_and_store_network(CONFIG)\n",
    "#create_and_store_optimize(CONFIG)\n",
    "\n",
    "STATISTICS = pd.read_pickle(f\"../{DATA_PATH}/statistics.pkl\")\n",
    "STATISTICS"
   ]
  },
  {
   "cell_type": "code",
   "execution_count": null,
   "id": "de905dcc-570b-43d7-be0c-827095af3094",
   "metadata": {},
   "outputs": [],
   "source": [
    "STATISTICS"
   ]
  },
  {
   "cell_type": "code",
   "execution_count": null,
   "id": "1a5c8258-c9c3-4133-aeb7-1f8a230a3ca7",
   "metadata": {},
   "outputs": [],
   "source": []
  }
 ],
 "metadata": {
  "kernelspec": {
   "display_name": "pypsa-eur",
   "language": "python",
   "name": "python3"
  },
  "language_info": {
   "codemirror_mode": {
    "name": "ipython",
    "version": 3
   },
   "file_extension": ".py",
   "mimetype": "text/x-python",
   "name": "python",
   "nbconvert_exporter": "python",
   "pygments_lexer": "ipython3",
   "version": "3.11.9"
  }
 },
 "nbformat": 4,
 "nbformat_minor": 5
}
