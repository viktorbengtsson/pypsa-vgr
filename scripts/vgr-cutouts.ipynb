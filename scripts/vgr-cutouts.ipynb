{
 "cells": [
  {
   "cell_type": "code",
   "execution_count": null,
   "id": "ed8fff3f-4c4c-4307-bd61-741e759f8431",
   "metadata": {},
   "outputs": [],
   "source": [
    "# Config and imports\n",
    "\n",
    "import pypsa\n",
    "import logging\n",
    "import atlite\n",
    "import time\n",
    "import warnings\n",
    "import geopandas as gpd\n",
    "import pandas as pd\n",
    "import numpy as np\n",
    "import cartopy.crs as ccrs\n",
    "from plotly import express as px\n",
    "from plotly import graph_objects as go\n",
    "from datetime import datetime\n",
    "import matplotlib.pyplot as plt\n",
    "import xarray as xr\n",
    "from matplotlib.gridspec import GridSpec\n",
    "import ipywidgets as widgets\n",
    "from atlite.gis import shape_availability, ExclusionContainer\n",
    "\n",
    "from library.weather import generate_cutout\n",
    "\n",
    "logging.basicConfig(level=logging.INFO)"
   ]
  },
  {
   "cell_type": "code",
   "execution_count": null,
   "id": "74a36626-2b35-4b69-ae7f-92539288d323",
   "metadata": {},
   "outputs": [],
   "source": [
    "generate_cutout(\"14\", \"1480\", \"2023-01\", \"2023-12\")"
   ]
  },
  {
   "cell_type": "code",
   "execution_count": null,
   "id": "5473b36d-4a9b-49b9-997b-bd5a4e1e2b38",
   "metadata": {},
   "outputs": [],
   "source": []
  }
 ],
 "metadata": {
  "kernelspec": {
   "display_name": "pypsa-eur",
   "language": "python",
   "name": "python3"
  },
  "language_info": {
   "codemirror_mode": {
    "name": "ipython",
    "version": 3
   },
   "file_extension": ".py",
   "mimetype": "text/x-python",
   "name": "python",
   "nbconvert_exporter": "python",
   "pygments_lexer": "ipython3",
   "version": "3.11.9"
  }
 },
 "nbformat": 4,
 "nbformat_minor": 5
}
