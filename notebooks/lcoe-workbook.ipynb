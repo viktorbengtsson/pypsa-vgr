{
 "cells": [
  {
   "cell_type": "code",
   "execution_count": null,
   "id": "e9d2f90a-f9b7-4ace-a32d-53b33def2c52",
   "metadata": {},
   "outputs": [],
   "source": [
    "# Import libraries\n",
    "\n",
    "import sys\n",
    "import pypsa\n",
    "import logging\n",
    "import pandas as pd\n",
    "import numpy as np\n",
    "import xarray as xr\n",
    "from plotly import graph_objects as go\n",
    "from pathlib import Path\n",
    "\n",
    "root_path = Path(globals()['_dh'][0]).resolve().parent\n",
    "sys.path.append(str(root_path))\n",
    "\n",
    "import paths\n",
    "from library.assumptions import read_assumptions\n",
    "from library.weather import load_weather\n",
    "from library.network import build_network\n",
    "\n",
    "logging.basicConfig(level=logging.INFO)"
   ]
  },
  {
   "cell_type": "code",
   "execution_count": null,
   "id": "45b3fd95",
   "metadata": {},
   "outputs": [],
   "source": [
    "# Set the configuration\n",
    "\n",
    "## Parameters you won't change very often\n",
    "base_currency = 'SEK'\n",
    "exchange_rates = {\n",
    "    'EUR': 11.68,\n",
    "    'USD': 10.70\n",
    "}\n",
    "base_year = 2024\n",
    "discount_rate = 0.05\n",
    "onwind_turbine =  \"2030_5MW_onshore.yaml\"\n",
    "offwind_turbine = \"2030_20MW_offshore.yaml\"\n",
    "resolution = 3\n",
    "\n",
    "## Parameters that will change frequently\n",
    "target_year = 2030\n",
    "use_offwind = True\n",
    "use_h2 = False\n",
    "h2_initial = 1000\n",
    "biogas_limit = 0\n",
    "load_target = 15"
   ]
  },
  {
   "cell_type": "code",
   "execution_count": null,
   "id": "4aa5808f",
   "metadata": {},
   "outputs": [],
   "source": [
    "# Load the data needed from assumptions, the electricity demand, and the atlite output from ERA5 weather data for VGR 2023\n",
    "\n",
    "## Transform assumptions to range base_year to target_year\n",
    "assumptions = read_assumptions(paths.input_path / 'assumptions.csv', base_year, target_year, base_currency, exchange_rates, discount_rate)\n",
    "\n",
    "# Read the normalized demand from csv file (see normalize_demand() in library.demand for details)\n",
    "# And then calculate target_load using projection of energy need in target_year\n",
    "normalized_demand = pd.read_csv(paths.input_path / 'demand/normalized-demand-2023-3h.csv', delimiter=',')\n",
    "target_load = load_target * normalized_demand['value'].values.flatten() * 1_000_000\n",
    "\n",
    "# Create of load the cutout from atlite (we assume weather data from 2023 and a 3h window)\n",
    "geo = '14' # All of VGR\n",
    "section = None\n",
    "cutout, selection, index = load_weather(geo, section, '2023-01', '2023-12')\n",
    "geography = selection.total_bounds  \n",
    "\n",
    "capacity_factor_solar = xr.open_dataarray(paths.input_path / 'renewables' / f\"capacity-factor-{geo}-2023-01-2023-12-solar.nc\").values.flatten()\n",
    "capacity_factor_onwind = xr.open_dataarray(paths.input_path / 'renewables' / f\"capacity-factor-{geo}-2023-01-2023-12-onwind.nc\").values.flatten()\n",
    "capacity_factor_offwind = xr.open_dataarray(paths.input_path / 'renewables' / f\"capacity-factor-{geo}-2023-01-2023-12-offwind.nc\").values.flatten()"
   ]
  },
  {
   "cell_type": "code",
   "execution_count": null,
   "id": "3fa1c39b",
   "metadata": {},
   "outputs": [],
   "source": [
    "network = build_network(index, resolution, geography, target_load, assumptions, capacity_factor_solar, capacity_factor_onwind, capacity_factor_offwind, use_offwind, use_h2, h2_initial, biogas_limit)"
   ]
  },
  {
   "cell_type": "code",
   "execution_count": null,
   "id": "77c1898c",
   "metadata": {},
   "outputs": [],
   "source": [
    "# Add constraints to the model and run the optimization\n",
    "\n",
    "## Create the model\n",
    "model = network.optimize.create_model()\n",
    "\n",
    "## Add battery charge/discharge ratio constraint\n",
    "link_capacity = model.variables[\"Link-p_nom\"]\n",
    "lhs = link_capacity.loc[\"battery-charge\"] - network.links.at[\"battery-charge\", \"efficiency\"] * link_capacity.loc[\"battery-discharge\"]\n",
    "model.add_constraints(lhs == 0, name=\"Link-battery_fix_ratio\")\n",
    "\n",
    "## Run optimization\n",
    "network.optimize.solve_model(solver_name='highs')"
   ]
  },
  {
   "cell_type": "code",
   "execution_count": null,
   "id": "7281e1cc",
   "metadata": {},
   "outputs": [],
   "source": [
    "renewable_generators = ['solar', 'onwind']\n",
    "links_charge = ['battery-charge']\n",
    "links_discharge = ['battery-discharge']\n",
    "\n",
    "if use_offwind:\n",
    "    renewable_generators += ['offwind']\n",
    "if use_h2:\n",
    "    links_charge += ['h2-electrolysis']\n",
    "if use_h2 or biogas_limit > 0:\n",
    "    links_discharge += ['gas-turbine']\n",
    "\n",
    "\n",
    "# Calculate renewables distribution and cost distribution (helper for the LCOE further down)\n",
    "energy = pd.DataFrame(columns=['energy_to_load', 'cost_to_load', 'energy_to_battery', 'cost_to_battery', 'energy_to_h2', 'cost_to_h2', 'total_energy', 'total_cost'])\n",
    "\n",
    "energy['total_energy'] = network.generators_t.p[renewable_generators].sum() * 3\n",
    "energy['total_cost'] = network.generators.loc[renewable_generators]['p_nom_opt']*network.generators.loc[renewable_generators]['capital_cost'] + energy['total_energy'] * network.generators.loc[renewable_generators]['marginal_cost']\n",
    "\n",
    "energy['energy_to_load'] = (network.generators_t.p[renewable_generators] - network.generators_t.p[renewable_generators].div(\n",
    "network.generators_t.p[renewable_generators].sum(axis=1), axis=0).mul(\n",
    "    network.links_t.p0[links_charge].sum(axis=1), axis=0)).sum() * 3\n",
    "energy['cost_to_load'] = energy['energy_to_load'] / energy['total_energy'] * energy['total_cost']\n",
    "\n",
    "energy['energy_to_battery'] = network.generators_t.p[renewable_generators].div(network.generators_t.p[renewable_generators].sum(axis=1), axis=0).mul(network.links_t.p0['battery-charge'], axis=0).sum() * 3\n",
    "energy['cost_to_battery'] = energy['energy_to_battery'] / energy['total_energy'] * energy['total_cost']\n",
    "\n",
    "if use_h2:\n",
    "    energy['energy_to_h2'] = network.generators_t.p[renewable_generators].div(network.generators_t.p[renewable_generators].sum(axis=1), axis=0).mul(network.links_t.p0['h2-electrolysis'], axis=0).sum() * 3\n",
    "    energy['cost_to_h2'] = energy['energy_to_h2'] / energy['total_energy'] * energy['total_cost']\n",
    "\n",
    "energy"
   ]
  },
  {
   "cell_type": "code",
   "execution_count": null,
   "id": "ef8cfa59",
   "metadata": {},
   "outputs": [],
   "source": [
    "# Define the LCOE data frame\n",
    "lcoe = pd.DataFrame(columns=['total_energy', 'total_cost', 'lcoe', 'curtailment'], index=['solar', 'onwind', 'offwind', 'battery', 'biogas', 'h2'])\n",
    "\n",
    "# Add renewables to load (calculated above)\n",
    "lcoe['total_energy'] = energy['energy_to_load']\n",
    "lcoe['total_cost'] = energy['cost_to_load']"
   ]
  },
  {
   "cell_type": "code",
   "execution_count": null,
   "id": "0e034e99",
   "metadata": {},
   "outputs": [],
   "source": [
    "# Battery calculations\n",
    "\n",
    "# Add total energy output\n",
    "lcoe.loc['battery', 'total_energy'] = -network.links_t.p1['battery-discharge'].sum() * 3\n",
    "\n",
    "# Add electricity input cost\n",
    "lcoe.loc['battery', 'total_cost'] = energy['cost_to_battery'].sum()\n",
    "# Add inverter (modelled as links) capital costs (for now these have no marginal costs)\n",
    "lcoe.loc['battery', 'total_cost'] += (network.links.loc[['battery-charge', 'battery-discharge']]['capital_cost']*network.links.loc[['battery-charge', 'battery-discharge']]['p_nom_opt']).sum()\n",
    "# Add storage capital costs\n",
    "lcoe.loc['battery', 'total_cost'] += network.stores.loc['battery', 'capital_cost'] * network.stores.loc['battery', 'e_nom_opt']\n",
    "# Add storage marginal costs (do not include for now)\n",
    "#stored_energy.loc['battery', 'total_cost'] += network.stores.loc['battery', 'marginal_cost'] * (-network.links_t.p1['battery-charge'].sum() * 3 * network.stores.loc['battery', 'marginal_cost'])\n"
   ]
  },
  {
   "cell_type": "code",
   "execution_count": null,
   "id": "d54aaafa",
   "metadata": {},
   "outputs": [],
   "source": [
    "#H2 calculations\n",
    "\n",
    "if use_h2:\n",
    "    if biogas_limit > 0:\n",
    "        h2_gas_fraction = network.links_t.p0['H2 pipeline'].sum() / (network.generators_t.p[['biogas-market']].sum().values[0] + network.links_t.p0['H2 pipeline'].sum())\n",
    "    else:\n",
    "        h2_gas_fraction = 1\n",
    "\n",
    "    # Add total energy output\n",
    "    lcoe.loc['h2', 'total_energy'] = -network.links_t.p1['gas-turbine'].sum() * 3 * h2_gas_fraction\n",
    "\n",
    "    # Add electricity input cost\n",
    "    lcoe.loc['h2', 'total_cost'] = energy['cost_to_h2'].sum()\n",
    "    # Add electrolysis (modelled as link) capital cost (for now this has no marginal costs)\n",
    "    lcoe.loc['h2', 'total_cost'] += network.links.loc['h2-electrolysis', 'capital_cost'] * network.links.loc['h2-electrolysis','p_nom_opt']\n",
    "    # Add storage capical cost (for not there is not marginal cost)\n",
    "    lcoe.loc['h2', 'total_cost'] += network.stores.loc['h2', 'capital_cost'] * network.stores.loc['h2','e_nom_opt']\n",
    "    # Add gas turbine (modelled as link) fractional capital cost (fraction of h2 in total gas)\n",
    "    lcoe.loc['h2', 'total_cost'] += network.links.loc['gas-turbine', 'capital_cost'] * network.links.loc['gas-turbine','p_nom_opt'] * h2_gas_fraction\n",
    "    # Add gas turbine (modelled as link) marginal cost\n",
    "    lcoe.loc['h2', 'total_cost'] += network.links.loc['gas-turbine', 'marginal_cost'] * lcoe.loc['h2', 'total_energy']"
   ]
  },
  {
   "cell_type": "code",
   "execution_count": null,
   "id": "96488bda",
   "metadata": {},
   "outputs": [],
   "source": [
    "# Biogas calculations\n",
    "\n",
    "if biogas_limit > 0:\n",
    "    # Add total energy output\n",
    "    lcoe.loc['biogas', 'total_energy'] = -network.links_t.p1['gas-turbine'].sum() * 3 * (1 - h2_gas_fraction)\n",
    "\n",
    "    # Add biogas input cost\n",
    "    lcoe.loc['biogas', 'total_cost'] = network.generators_t.p[['biogas-market']].sum().iloc[0] * network.generators.loc['biogas-market', 'marginal_cost'] * resolution\n",
    "    # Add gas turbine (modelled as link) fractional capital cost (fraction of h2 in total gas)\n",
    "    lcoe.loc['biogas', 'total_cost'] += network.links.loc['gas-turbine', 'capital_cost'] * network.links.loc['gas-turbine','p_nom_opt'] * (1 - h2_gas_fraction)\n",
    "    # Add gas turbine (modelled as link) marginal cost\n",
    "    lcoe.loc['biogas', 'total_cost'] += network.links.loc['gas-turbine', 'marginal_cost'] * lcoe.loc['biogas', 'total_energy']\n"
   ]
  },
  {
   "cell_type": "code",
   "execution_count": null,
   "id": "30b38a72",
   "metadata": {},
   "outputs": [],
   "source": [
    "# Calculate LCOE per energy type\n",
    "\n",
    "lcoe.round(9)\n",
    "\n",
    "lcoe['lcoe'] = (lcoe['total_cost']/lcoe['total_energy']) / 1_000\n",
    "\n",
    "# Show table\n",
    "lcoe"
   ]
  },
  {
   "cell_type": "code",
   "execution_count": null,
   "id": "8abe1775",
   "metadata": {},
   "outputs": [],
   "source": [
    "# Calculate and show overall LCOE for reference\n",
    "lcoe['total_cost'].sum()/lcoe['total_energy'].sum() / 1000\n"
   ]
  },
  {
   "cell_type": "markdown",
   "id": "5c04416d",
   "metadata": {},
   "source": [
    "### Validation\n",
    "\n",
    "Below follows some code for validation of the LCOE calculation. The end point is an overall LCOE (not by energy type) that can be compared with the one above"
   ]
  },
  {
   "cell_type": "code",
   "execution_count": null,
   "id": "1775df20",
   "metadata": {},
   "outputs": [],
   "source": [
    "# Calculate generator costs\n",
    "generator_capital_costs = (network.generators['p_nom_opt']*network.generators['capital_cost']).drop('backstop')\n",
    "generator_marginal_costs = (network.generators_t.p.sum()*network.generators['marginal_cost']).drop('backstop') * resolution\n",
    "generator_costs = generator_capital_costs + generator_marginal_costs"
   ]
  },
  {
   "cell_type": "code",
   "execution_count": null,
   "id": "557b3099",
   "metadata": {},
   "outputs": [],
   "source": [
    "# Calculate converter costs\n",
    "converter_links = ['battery-charge', 'battery-discharge']\n",
    "if use_h2 or biogas_limit > 0:\n",
    "    converter_links += ['gas-turbine']\n",
    "if use_h2:\n",
    "    converter_links += ['h2_electrolysis']\n",
    "\n",
    "converter_capital_costs = network.links.loc[converter_links]['p_nom_opt']*network.links.loc[converter_links]['capital_cost']\n",
    "converter_marginal_costs = network.links_t.p0[converter_links].sum()*network.links.loc[converter_links]['marginal_cost']*resolution\n",
    "if use_h2 or biogas_limit > 0:\n",
    "    converter_marginal_costs.loc['gas-turbine'] = -network.links_t.p1['gas-turbine'].sum()*network.links.loc['gas-turbine', 'marginal_cost'] * resolution\n",
    "\n",
    "converter_costs = converter_capital_costs + converter_marginal_costs"
   ]
  },
  {
   "cell_type": "code",
   "execution_count": null,
   "id": "923c70cb",
   "metadata": {},
   "outputs": [],
   "source": [
    "# Calculate store costs (exclude marginal costs for now)\n",
    "store_capital_costs = network.stores['e_nom_opt']*network.stores['capital_cost']\n",
    "#store_marginal_costs = -network.links_t.p1['battery-charge'].sum()*3*network.stores.loc[['battery']]['marginal_cost']\n",
    "#store_marginal_costs['h2'] = 0\n",
    "store_costs = store_capital_costs #+ store_marginal_costs"
   ]
  },
  {
   "cell_type": "code",
   "execution_count": null,
   "id": "624fb0eb",
   "metadata": {},
   "outputs": [],
   "source": [
    "# Add up total costs, calculate total energy, and calculate the LCOE\n",
    "total_costs = generator_costs.sum() + converter_costs.sum() + store_costs.sum()\n",
    "total_energy = network.loads_t.p.sum()*3 - network.generators_t.p['backstop'].sum()*3\n",
    "validation_lcoe = total_costs / total_energy['load'] / 1000\n",
    "\n",
    "validation_lcoe"
   ]
  },
  {
   "cell_type": "code",
   "execution_count": null,
   "id": "01ac4182",
   "metadata": {},
   "outputs": [],
   "source": [
    "# Comparison (should be zero)\n",
    "\n",
    "round(lcoe['total_cost'].sum()/lcoe['total_energy'].sum() / 1000 - validation_lcoe, 10)"
   ]
  }
 ],
 "metadata": {
  "kernelspec": {
   "display_name": "pypsa-eur",
   "language": "python",
   "name": "python3"
  },
  "language_info": {
   "codemirror_mode": {
    "name": "ipython",
    "version": 3
   },
   "file_extension": ".py",
   "mimetype": "text/x-python",
   "name": "python",
   "nbconvert_exporter": "python",
   "pygments_lexer": "ipython3",
   "version": "3.11.9"
  }
 },
 "nbformat": 4,
 "nbformat_minor": 5
}
