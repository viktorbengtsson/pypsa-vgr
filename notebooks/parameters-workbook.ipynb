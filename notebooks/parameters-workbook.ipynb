{
 "cells": [
  {
   "cell_type": "code",
   "execution_count": null,
   "id": "e9d2f90a-f9b7-4ace-a32d-53b33def2c52",
   "metadata": {},
   "outputs": [],
   "source": [
    "# Import libraries\n",
    "\n",
    "import sys\n",
    "import logging\n",
    "import pandas as pd\n",
    "import xarray as xr\n",
    "from pathlib import Path\n",
    "\n",
    "root_path = Path(globals()['_dh'][0]).resolve().parent\n",
    "sys.path.append(str(root_path))\n",
    "\n",
    "import paths\n",
    "from library.assumptions import read_assumptions\n",
    "from library.weather import load_weather\n",
    "from library.network import build_network\n",
    "\n",
    "logging.basicConfig(level=logging.INFO)"
   ]
  },
  {
   "cell_type": "code",
   "execution_count": null,
   "id": "45b3fd95",
   "metadata": {},
   "outputs": [],
   "source": [
    "# Set the configuration\n",
    "\n",
    "## Parameters you won't change very often\n",
    "base_currency = 'SEK'\n",
    "exchange_rates = {\n",
    "    'EUR': 11.68,\n",
    "    'USD': 10.70\n",
    "}\n",
    "base_year = 2024\n",
    "discount_rate = 0.05\n",
    "onwind_turbine =  \"2030_5MW_onshore.yaml\"\n",
    "offwind_turbine = \"2030_20MW_offshore.yaml\"\n",
    "resolution = 3\n",
    "\n",
    "## Parameters that will change frequently\n",
    "target_year = 2030\n",
    "use_offwind = True\n",
    "use_h2 = True\n",
    "h2_initial = 1000\n",
    "biogas_limit = 5000\n",
    "load_target = 15"
   ]
  },
  {
   "cell_type": "code",
   "execution_count": null,
   "id": "4aa5808f",
   "metadata": {},
   "outputs": [],
   "source": [
    "# Load the data needed from assumptions, the electricity demand, and the atlite output from ERA5 weather data for VGR 2023\n",
    "\n",
    "## Transform assumptions to range base_year to target_year\n",
    "assumptions = read_assumptions(paths.input_path / 'assumptions.csv', base_year, target_year, base_currency, exchange_rates, discount_rate)\n",
    "\n",
    "# Read the normalized demand from csv file (see normalize_demand() in library.demand for details)\n",
    "# And then calculate target_load using projection of energy need in target_year\n",
    "normalized_demand = pd.read_csv(paths.input_path / 'demand/normalized-demand-2023-3h.csv', delimiter=',')\n",
    "target_load = load_target * normalized_demand['value'].values.flatten() * 1_000_000\n",
    "\n",
    "# Create of load the cutout from atlite (we assume weather data from 2023 and a 3h window)\n",
    "geo = '14' # All of VGR\n",
    "section = None\n",
    "cutout, selection, index = load_weather(geo, section, '2023-01', '2023-12')\n",
    "geography = selection.total_bounds  \n",
    "\n",
    "capacity_factor_solar = xr.open_dataarray(paths.input_path / 'renewables' / f\"capacity-factor-{geo}-2023-01-2023-12-solar.nc\").values.flatten()\n",
    "capacity_factor_onwind = xr.open_dataarray(paths.input_path / 'renewables' / f\"capacity-factor-{geo}-2023-01-2023-12-onwind.nc\").values.flatten()\n",
    "capacity_factor_offwind = xr.open_dataarray(paths.input_path / 'renewables' / f\"capacity-factor-{geo}-2023-01-2023-12-offwind.nc\").values.flatten()"
   ]
  },
  {
   "cell_type": "code",
   "execution_count": null,
   "id": "3fa1c39b",
   "metadata": {},
   "outputs": [],
   "source": [
    "network = build_network(index, resolution, geography, target_load, assumptions, capacity_factor_solar, capacity_factor_onwind, capacity_factor_offwind, use_offwind, use_h2, h2_initial, biogas_limit)"
   ]
  },
  {
   "cell_type": "code",
   "execution_count": null,
   "id": "77c1898c",
   "metadata": {},
   "outputs": [],
   "source": [
    "# Add constraints to the model and run the optimization\n",
    "\n",
    "## Create the model\n",
    "model = network.optimize.create_model()\n",
    "\n",
    "## Add battery charge/discharge ratio constraint\n",
    "link_capacity = model.variables[\"Link-p_nom\"]\n",
    "lhs = link_capacity.loc[\"battery-charge\"] - network.links.at[\"battery-charge\", \"efficiency\"] * link_capacity.loc[\"battery-discharge\"]\n",
    "model.add_constraints(lhs == 0, name=\"Link-battery_fix_ratio\")\n",
    "\n",
    "## Run optimization\n",
    "network.optimize.solve_model(solver_name='highs')"
   ]
  },
  {
   "cell_type": "code",
   "execution_count": null,
   "id": "a076598e",
   "metadata": {},
   "outputs": [],
   "source": [
    "network.statistics().round(0)"
   ]
  }
 ],
 "metadata": {
  "kernelspec": {
   "display_name": "pypsa-eur",
   "language": "python",
   "name": "python3"
  },
  "language_info": {
   "codemirror_mode": {
    "name": "ipython",
    "version": 3
   },
   "file_extension": ".py",
   "mimetype": "text/x-python",
   "name": "python",
   "nbconvert_exporter": "python",
   "pygments_lexer": "ipython3",
   "version": "3.11.9"
  }
 },
 "nbformat": 4,
 "nbformat_minor": 5
}
