{
 "cells": [
  {
   "cell_type": "markdown",
   "metadata": {},
   "source": [
    "# Generate weather data\n",
    "\n",
    "Use this notebook to generate weather data when none exists.\n",
    "\n",
    "1. Find the weather.json file in this directory.\n",
    "2. Set the weather-start and weather-end dates\n",
    "3. Add or remove geographies\n",
    "4. Then run all cells in this notebook\n",
    "5. You will have to then generate the renewables files in the input/renewables directory"
   ]
  },
  {
   "cell_type": "code",
   "execution_count": 1,
   "metadata": {},
   "outputs": [],
   "source": [
    "# Import libraries\n",
    "\n",
    "import sys\n",
    "import logging\n",
    "import json\n",
    "from pathlib import Path\n",
    "\n",
    "root_path = Path(globals()['_dh'][0]).resolve().parent.parent\n",
    "sys.path.append(str(root_path))\n",
    "\n",
    "import paths\n",
    "from weather import store_weather\n",
    "\n",
    "logging.basicConfig(level=logging.INFO)"
   ]
  },
  {
   "cell_type": "code",
   "execution_count": 2,
   "metadata": {},
   "outputs": [],
   "source": [
    "# Read and set configuration\n",
    "\n",
    "with (paths.geo_root / 'config.json').open('r') as f:\n",
    "    config = json.load(f)"
   ]
  },
  {
   "cell_type": "code",
   "execution_count": 4,
   "metadata": {},
   "outputs": [
    {
     "name": "stdout",
     "output_type": "stream",
     "text": [
      "Västra Götalands län: 14 (53 sections)\n"
     ]
    }
   ],
   "source": [
    "for name, item in config['weather-geo'].items():\n",
    "    print(f\"{name}: {item['geo']} ({len(item['sections'])} sections)\")\n",
    "    store_weather(item['geo'], item['sections'], config['weather-start'], config['weather-end'])"
   ]
  }
 ],
 "metadata": {
  "kernelspec": {
   "display_name": "pypsa-eur",
   "language": "python",
   "name": "python3"
  },
  "language_info": {
   "codemirror_mode": {
    "name": "ipython",
    "version": 3
   },
   "file_extension": ".py",
   "mimetype": "text/x-python",
   "name": "python",
   "nbconvert_exporter": "python",
   "pygments_lexer": "ipython3",
   "version": "3.11.9"
  }
 },
 "nbformat": 4,
 "nbformat_minor": 4
}
