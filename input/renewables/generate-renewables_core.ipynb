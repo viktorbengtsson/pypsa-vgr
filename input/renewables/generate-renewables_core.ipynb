{
 "cells": [
  {
   "cell_type": "markdown",
   "metadata": {},
   "source": [
    "# Generate renewables data"
   ]
  },
  {
   "cell_type": "code",
   "execution_count": 1,
   "metadata": {},
   "outputs": [],
   "source": [
    "# Import libraries\n",
    "\n",
    "import sys\n",
    "import logging\n",
    "import json\n",
    "from pathlib import Path\n",
    "\n",
    "root_path = Path(globals()['_dh'][0]).resolve().parent.parent\n",
    "sys.path.append(str(root_path))\n",
    "\n",
    "import paths\n",
    "from input.weather.weather import load_weather\n",
    "from renewables import store_availability_matrix, store_capacity_factor\n",
    "\n",
    "logging.basicConfig(level=logging.INFO)"
   ]
  },
  {
   "cell_type": "code",
   "execution_count": 2,
   "metadata": {},
   "outputs": [],
   "source": [
    "# Read and set configuration\n",
    "\n",
    "with (paths.geo_root / 'config.json').open('r') as f:\n",
    "    config = json.load(f)"
   ]
  },
  {
   "cell_type": "code",
   "execution_count": 3,
   "metadata": {},
   "outputs": [
    {
     "name": "stdout",
     "output_type": "stream",
     "text": [
      "Västra Götalands län: 14 (54 sections)\n",
      "Load weather\n"
     ]
    },
    {
     "name": "stderr",
     "output_type": "stream",
     "text": [
      "Compute availability matrix: 100%|██████████| 1/1 [00:00<00:00,  8.07 gridcells/s]\n",
      "INFO:atlite.convert:Convert and aggregate 'pv'.\n",
      "Compute availability matrix: 100%|██████████| 1/1 [00:00<00:00, 20.52 gridcells/s]\n",
      "/home/viktor/miniforge3/envs/pypsa-vgr/lib/python3.11/site-packages/atlite/resource.py:72: FutureWarning: 'add_cutout_windspeed' for wind turbine\n",
      "power curves will default to True in atlite relase v0.2.13.\n",
      "  warnings.warn(msg, FutureWarning)\n",
      "INFO:atlite.convert:Convert and aggregate 'wind'.\n",
      "Compute availability matrix: 100%|██████████| 1/1 [00:00<00:00, 22.30 gridcells/s]\n",
      "/home/viktor/miniforge3/envs/pypsa-vgr/lib/python3.11/site-packages/atlite/resource.py:72: FutureWarning: 'add_cutout_windspeed' for wind turbine\n",
      "power curves will default to True in atlite relase v0.2.13.\n",
      "  warnings.warn(msg, FutureWarning)\n",
      "INFO:atlite.convert:Convert and aggregate 'wind'.\n",
      "Compute availability matrix: 100%|██████████| 1/1 [00:00<00:00, 11.00 gridcells/s]\n",
      "INFO:atlite.convert:Convert and aggregate 'pv'.\n",
      "Compute availability matrix: 100%|██████████| 1/1 [00:00<00:00, 11.58 gridcells/s]\n",
      "/home/viktor/miniforge3/envs/pypsa-vgr/lib/python3.11/site-packages/atlite/resource.py:72: FutureWarning: 'add_cutout_windspeed' for wind turbine\n",
      "power curves will default to True in atlite relase v0.2.13.\n",
      "  warnings.warn(msg, FutureWarning)\n",
      "INFO:atlite.convert:Convert and aggregate 'wind'.\n",
      "Compute availability matrix: 100%|██████████| 1/1 [00:00<00:00, 13.08 gridcells/s]\n",
      "/home/viktor/miniforge3/envs/pypsa-vgr/lib/python3.11/site-packages/atlite/resource.py:72: FutureWarning: 'add_cutout_windspeed' for wind turbine\n",
      "power curves will default to True in atlite relase v0.2.13.\n",
      "  warnings.warn(msg, FutureWarning)\n",
      "INFO:atlite.convert:Convert and aggregate 'wind'.\n"
     ]
    }
   ],
   "source": [
    "# Generate and store availability matrices and capacity factors\n",
    "for name, item in config['weather-geo'].items():\n",
    "    print(f\"{name}: {item['geo']} ({len(item['sections'])} sections)\")\n",
    "    print(\"Load weather\")\n",
    "\n",
    "    cutout, selection, index = load_weather(item['geo'], None, config['weather-start'], config['weather-end'])\n",
    "    for energy_type in config['energy-types']:\n",
    "        store_availability_matrix(cutout, selection, energy_type, item['geo'], None, config['weather-start'], config['weather-end'])\n",
    "        store_capacity_factor(cutout, selection, energy_type, config['generators'][energy_type], item['geo'], None, config['weather-start'], config['weather-end'])\n",
    "    \n",
    "    for _, section in item['sections'].items():\n",
    "        section_geo = '-'.join(section) if isinstance(section, list ) else section\n",
    "        cutout, selection, index = load_weather(item['geo'], section_geo, config['weather-start'], config['weather-end'])\n",
    "        for energy_type in config['energy-types']:\n",
    "            store_availability_matrix(cutout, selection, energy_type, item['geo'], section_geo, config['weather-start'], config['weather-end'])\n",
    "            store_capacity_factor(cutout, selection, energy_type, config['generators'][energy_type], item['geo'], section_geo, config['weather-start'], config['weather-end'])\n"
   ]
  }
 ],
 "metadata": {
  "kernelspec": {
   "display_name": "pypsa-vgr",
   "language": "python",
   "name": "python3"
  },
  "language_info": {
   "codemirror_mode": {
    "name": "ipython",
    "version": 3
   },
   "file_extension": ".py",
   "mimetype": "text/x-python",
   "name": "python",
   "nbconvert_exporter": "python",
   "pygments_lexer": "ipython3",
   "version": "3.11.9"
  }
 },
 "nbformat": 4,
 "nbformat_minor": 4
}
