{
 "cells": [
  {
   "cell_type": "markdown",
   "metadata": {},
   "source": [
    "# Generate renewables data"
   ]
  },
  {
   "cell_type": "code",
   "execution_count": null,
   "metadata": {},
   "outputs": [],
   "source": [
    "# Import libraries\n",
    "\n",
    "import sys\n",
    "import logging\n",
    "import json\n",
    "from pathlib import Path\n",
    "\n",
    "root_path = Path(globals()['_dh'][0]).resolve().parent.parent\n",
    "sys.path.append(str(root_path))\n",
    "\n",
    "import paths\n",
    "from library.weather import load_weather\n",
    "from library.renewables import store_availability_matrix, store_capacity_factor\n",
    "\n",
    "logging.basicConfig(level=logging.INFO)"
   ]
  },
  {
   "cell_type": "code",
   "execution_count": null,
   "metadata": {},
   "outputs": [],
   "source": [
    "# Read and set configuration\n",
    "\n",
    "renewables_path = paths.input_path / 'renewables'\n",
    "\n",
    "with (paths.input_path / 'config.json').open('r') as f:\n",
    "    config = json.load(f)\n"
   ]
  },
  {
   "cell_type": "code",
   "execution_count": null,
   "metadata": {},
   "outputs": [],
   "source": [
    "# Generate and store availability matrices and capacity factors\n",
    "for name, item in config['weather-geo'].items():\n",
    "    print(f\"{name}: {item['geo']} ({len(item['sections'])} sections)\")\n",
    "    print(\"Load weather\")\n",
    "\n",
    "    cutout, selection = load_weather(item['geo'], None, config['weather-start'], config['weather-end'])\n",
    "    for energy_type in config['energy-types']:\n",
    "        store_availability_matrix(cutout, selection, energy_type, item['geo'], None, config['weather-start'], config['weather-end'])\n",
    "        store_capacity_factor(cutout, selection, energy_type, config['generators'][energy_type], item['geo'], None, config['weather-start'], config['weather-end'])\n",
    "    \n",
    "    for section_name, section_geo in item['sections'].items():\n",
    "        cutout, selection = load_weather(item['geo'], section_geo, config['weather-start'], config['weather-end'])\n",
    "        for energy_type in config['energy-types']:\n",
    "            store_availability_matrix(cutout, selection, energy_type, item['geo'], section_geo, config['weather-start'], config['weather-end'])\n",
    "            store_capacity_factor(cutout, selection, energy_type, config['generators'][energy_type], item['geo'], section_geo, config['weather-start'], config['weather-end'])\n",
    "    print(\"\")\n",
    "    print(\"\")\n",
    "    print(\"\")"
   ]
  },
  {
   "cell_type": "code",
   "execution_count": null,
   "metadata": {},
   "outputs": [],
   "source": []
  }
 ],
 "metadata": {
  "kernelspec": {
   "display_name": "pypsa-eur",
   "language": "python",
   "name": "python3"
  },
  "language_info": {
   "codemirror_mode": {
    "name": "ipython",
    "version": 3
   },
   "file_extension": ".py",
   "mimetype": "text/x-python",
   "name": "python",
   "nbconvert_exporter": "python",
   "pygments_lexer": "ipython3",
   "version": "3.11.9"
  }
 },
 "nbformat": 4,
 "nbformat_minor": 4
}
