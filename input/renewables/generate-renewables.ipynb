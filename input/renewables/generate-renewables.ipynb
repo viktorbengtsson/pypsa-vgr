{
 "cells": [
  {
   "cell_type": "markdown",
   "metadata": {},
   "source": [
    "# Generate renewables data"
   ]
  },
  {
   "cell_type": "code",
   "execution_count": 1,
   "metadata": {},
   "outputs": [],
   "source": [
    "# Import libraries\n",
    "\n",
    "import sys\n",
    "import logging\n",
    "import json\n",
    "from pathlib import Path\n",
    "\n",
    "root_path = Path(globals()['_dh'][0]).resolve().parent.parent\n",
    "sys.path.append(str(root_path))\n",
    "\n",
    "import paths\n",
    "from library.weather import load_weather\n",
    "from library.renewables import store_availability_matrix, store_capacity_factor\n",
    "\n",
    "logging.basicConfig(level=logging.INFO)"
   ]
  },
  {
   "cell_type": "code",
   "execution_count": 2,
   "metadata": {},
   "outputs": [],
   "source": [
    "# Read and set configuration\n",
    "\n",
    "renewables_path = paths.input_path / 'renewables'\n",
    "\n",
    "with (paths.input_path / 'config.json').open('r') as f:\n",
    "    config = json.load(f)\n"
   ]
  },
  {
   "cell_type": "code",
   "execution_count": 3,
   "metadata": {},
   "outputs": [
    {
     "name": "stdout",
     "output_type": "stream",
     "text": [
      "Västra Götalands Län: 14\n",
      "Load weather\n"
     ]
    },
    {
     "name": "stderr",
     "output_type": "stream",
     "text": [
      "INFO:atlite.convert:Convert and aggregate 'pv'.\n",
      "/home/viktor/miniforge3/envs/pypsa-vgr/lib/python3.11/site-packages/atlite/resource.py:72: FutureWarning: 'add_cutout_windspeed' for wind turbine\n",
      "power curves will default to True in atlite relase v0.2.13.\n",
      "  warnings.warn(msg, FutureWarning)\n",
      "INFO:atlite.convert:Convert and aggregate 'wind'.\n",
      "/home/viktor/miniforge3/envs/pypsa-vgr/lib/python3.11/site-packages/atlite/resource.py:72: FutureWarning: 'add_cutout_windspeed' for wind turbine\n",
      "power curves will default to True in atlite relase v0.2.13.\n",
      "  warnings.warn(msg, FutureWarning)\n",
      "INFO:atlite.convert:Convert and aggregate 'wind'.\n"
     ]
    }
   ],
   "source": [
    "# Generate and store availability matrices and capacity factors\n",
    "for name, geo in config['geo'].items():\n",
    "    print(f\"{name}: {geo}\")\n",
    "    print(\"Load weather\")\n",
    "    cutout, selection = load_weather(geo, config['weather-start'], config['weather-end'])\n",
    "    for energy_type in config['energy-types']:\n",
    "        store_availability_matrix(cutout, selection, energy_type, geo, config['weather-start'], config['weather-end'])\n",
    "        store_capacity_factor(cutout, selection, energy_type, config['generators'][energy_type], geo, config['weather-start'], config['weather-end'])"
   ]
  }
 ],
 "metadata": {
  "kernelspec": {
   "display_name": "pypsa-vgr",
   "language": "python",
   "name": "python3"
  },
  "language_info": {
   "codemirror_mode": {
    "name": "ipython",
    "version": 3
   },
   "file_extension": ".py",
   "mimetype": "text/x-python",
   "name": "python",
   "nbconvert_exporter": "python",
   "pygments_lexer": "ipython3",
   "version": "3.11.9"
  }
 },
 "nbformat": 4,
 "nbformat_minor": 2
}
