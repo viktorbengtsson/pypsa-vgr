{
 "cells": [
  {
   "cell_type": "markdown",
   "metadata": {},
   "source": [
    "# Generate normalized demand profile"
   ]
  },
  {
   "cell_type": "code",
   "execution_count": null,
   "metadata": {},
   "outputs": [],
   "source": [
    "# Import libraries\n",
    "\n",
    "import sys\n",
    "import pandas as pd\n",
    "from pathlib import Path\n",
    "\n",
    "root_path = Path(globals()['_dh'][0]).resolve().parent.parent\n",
    "sys.path.append(str(root_path))\n",
    "\n",
    "import paths"
   ]
  },
  {
   "cell_type": "code",
   "execution_count": null,
   "metadata": {},
   "outputs": [],
   "source": [
    "# Read and set configuration\n",
    "\n",
    "resolution = '3h'"
   ]
  },
  {
   "cell_type": "code",
   "execution_count": null,
   "metadata": {},
   "outputs": [],
   "source": [
    "# This script takes the timvärden output from Svenska Kraftnät statistics (currently for 2023) and creates a normalized data for SE3 (elområde/electricity area)\n",
    "# The file is part of the repo so only need to run this file if the downloaded statistics changes\n",
    "\n",
    "## Load the data, use only the timestamp column and the total consumption for SE3 (in column 4) and skip the first 5 rows that consist of header data. Create a new header.\n",
    "timvarden = pd.read_csv(paths.demand_root / 'timvarden-2023-01-12.csv', delimiter=',', skiprows=5, usecols=[0,3], header=None)\n",
    "timvarden.columns = ['timestamp', 'value']\n",
    "\n",
    "## Create an index from the timestamp column. Convert the se3 column to float, remove the thousand separator and change the sign to positive.\n",
    "timvarden['timestamp'] = pd.to_datetime(timvarden['timestamp'], format='%d.%m.%Y %H:%M')\n",
    "timvarden.set_index('timestamp', inplace=True)\n",
    "timvarden['value'] = -timvarden['value'].str.replace(',', '').astype(float)\n",
    "\n",
    "## Resample the hourly data to 3h data selecting the mean value in each 3h period\n",
    "tretimvarden = timvarden.resample('3h').mean()\n",
    "\n",
    "## Normalize the load so that total production for the year is 1MWh\n",
    "normalized_load = tretimvarden / (tretimvarden.sum() * 3)\n",
    "\n",
    "## Save to file\n",
    "normalized_load.to_csv(paths.demand_root / f\"normalized-demand-2023-{resolution}.csv\")"
   ]
  }
 ],
 "metadata": {
  "kernelspec": {
   "display_name": "pypsa-vgr",
   "language": "python",
   "name": "python3"
  },
  "language_info": {
   "codemirror_mode": {
    "name": "ipython",
    "version": 3
   },
   "file_extension": ".py",
   "mimetype": "text/x-python",
   "name": "python",
   "nbconvert_exporter": "python",
   "pygments_lexer": "ipython3",
   "version": "3.11.9"
  }
 },
 "nbformat": 4,
 "nbformat_minor": 2
}
