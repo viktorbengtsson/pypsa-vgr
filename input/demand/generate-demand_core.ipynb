{
 "cells": [
  {
   "cell_type": "markdown",
   "id": "b647b89d",
   "metadata": {},
   "source": [
    "# Generate demand timeseries per geo\n",
    "\n",
    "- This notebook feches creates a demand/load profile for a given year (target year).\n",
    "- It uses a normalized demand profile and parameters dictating total annual energy to do this.\n",
    "- The output data is used by generator if it exists and otherwise interpolated data is used. (TODO: code this functionality)\n",
    "- **NOTE: This notebook uses functions in order to facilitate moving these functions into generator when useful.**"
   ]
  },
  {
   "cell_type": "code",
   "execution_count": 1,
   "id": "e9d2f90a-f9b7-4ace-a32d-53b33def2c52",
   "metadata": {},
   "outputs": [],
   "source": [
    "# Import libraries\n",
    "\n",
    "import sys\n",
    "import logging\n",
    "import pandas as pd\n",
    "import json\n",
    "from pathlib import Path\n",
    "\n",
    "root_path = Path(globals()['_dh'][0]).resolve().parent.parent\n",
    "sys.path.append(str(root_path))\n",
    "\n",
    "import paths\n",
    "\n",
    "logging.basicConfig(level=logging.INFO)"
   ]
  },
  {
   "cell_type": "code",
   "execution_count": 2,
   "id": "9f3c5cc7",
   "metadata": {},
   "outputs": [],
   "source": [
    "# Load the generator config that we base the calculations on, or else create this config in notebook\n",
    "\n",
    "config_path = paths.generator_path / 'configs' / 'default.json'\n",
    "\n",
    "if config_path.is_file():\n",
    "    with open(config_path, \"r\") as f:\n",
    "        config = json.load(f)\n",
    "else:\n",
    "    config = {\n",
    "        'base-year': 2024,\n",
    "        'demand': {\n",
    "            'base-demand': 19000000,\n",
    "            'projection': {\n",
    "                '2030': 34000000,\n",
    "                '2040': 49000000\n",
    "            },\n",
    "            'growth-only': True\n",
    "        },\n",
    "        'scenarios': {\n",
    "            'geography': ['14', '14:1488'],\n",
    "            'target-year': [2030]\n",
    "        }\n",
    "    }\n",
    "\n",
    "# Load the energy percentages per geo file and normalized load profile\n",
    "energy_percentages = pd.read_csv(paths.demand_root / 'energy-percentages-vgr.csv.gz', compression='gzip', index_col='Kod')\n",
    "normalized_demand = pd.read_csv(paths.demand_root / 'normalized-demand-2023-3h.csv', index_col='timestamp')"
   ]
  },
  {
   "cell_type": "code",
   "execution_count": 3,
   "id": "7a80994c",
   "metadata": {},
   "outputs": [],
   "source": [
    "# A function that either extrapolates the demand for target years beyond the projection, or else interpolates the demand for target years inside the projection\n",
    "\n",
    "def interpolate_demand(target_year, base_year, base_demand, projection):\n",
    "    # Build a dataframe out of the config energy parameters\n",
    "    energy_t = pd.DataFrame([base_demand] + list(projection.values()), index=([base_year] + [int(key) for key in projection.keys()]), columns=['energy'])\n",
    "    energy_t = energy_t.sort_index()\n",
    "\n",
    "    # If target year falls beyond the last year in the projection, extrapolate from the final two values\n",
    "    if target_year > energy_t.index.max():\n",
    "        return energy_t.iloc[-1]['energy'] + (target_year - energy_t.index[-1]) * (energy_t.iloc[-1]['energy'] - energy_t.iloc[-2]['energy']) / (energy_t.index[-1] - energy_t.index[-2])\n",
    "\n",
    "    # Else, use pandas interpolation to calculate the value\n",
    "    # Add the target_year to the dataframe with an empty 'energy' value if the year is not already in the projection\n",
    "    if target_year not in energy_t.index: energy_t.loc[target_year] = None\n",
    "    energy_t = energy_t.sort_index()\n",
    "\n",
    "    # Interpolate missing values\n",
    "    energy_t['energy'] = energy_t['energy'].interpolate(method='linear')\n",
    "\n",
    "    return energy_t.loc[target_year, 'energy']"
   ]
  },
  {
   "cell_type": "code",
   "execution_count": 4,
   "id": "d9c20127",
   "metadata": {},
   "outputs": [],
   "source": [
    "# A function that calculates the demand time series\n",
    "\n",
    "def project_annual_demand(target_year, base_year, base_demand, projection, growth_only, percentage):\n",
    "    return (interpolate_demand(target_year, base_year, base_demand, projection) - (1 if growth_only else 0) * base_demand) * percentage"
   ]
  },
  {
   "cell_type": "code",
   "execution_count": 5,
   "id": "b2973d93",
   "metadata": {},
   "outputs": [],
   "source": [
    "# Iterate through the configuration and output projected-demand for each geography and target_year combo\n",
    "\n",
    "base_year = config['base-year']\n",
    "base_demand = config['demand']['base-demand']\n",
    "demand_projection = config['demand']['projection']\n",
    "growth_only = config['demand']['growth-only']\n",
    "geography = config['scenarios']['geography']\n",
    "target_year = config['scenarios']['target-year']\n",
    "\n",
    "# Iterate through geography and target_year and write each demand profile to file\n",
    "for geo in geography:\n",
    "    for year in target_year:\n",
    "        energy_percentage = energy_percentages.loc[geo, 'percentage']\n",
    "        projected_demand = project_annual_demand(year, base_year, base_demand, demand_projection, growth_only, energy_percentage) * normalized_demand\n",
    "        projected_demand.to_csv(paths.demand / f\"projected-demand,geography={geo},target-year={year},growth-only={growth_only}.csv.gz\", compression='gzip')"
   ]
  }
 ],
 "metadata": {
  "kernelspec": {
   "display_name": "pypsa-vgr",
   "language": "python",
   "name": "python3"
  },
  "language_info": {
   "codemirror_mode": {
    "name": "ipython",
    "version": 3
   },
   "file_extension": ".py",
   "mimetype": "text/x-python",
   "name": "python",
   "nbconvert_exporter": "python",
   "pygments_lexer": "ipython3",
   "version": "3.11.9"
  }
 },
 "nbformat": 4,
 "nbformat_minor": 5
}
