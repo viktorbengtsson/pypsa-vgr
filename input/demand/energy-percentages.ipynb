{
 "cells": [
  {
   "cell_type": "markdown",
   "id": "b647b89d",
   "metadata": {},
   "source": [
    "# Calculate energy percentages per geo\n",
    "\n",
    "- This notebook feches data about the energy consumption per Swedish municipality from the SCB API.\n",
    "- The data is patchy but covers 2009-2022.\n",
    "- We add 4 aggregations, summing over 4 groups of municipalities (kommunförbund), to this data.\n",
    "- We then calculate the energy used in each municipality as a percentage of the total (the region VGR).\n",
    "- In the current version we use only data from 2022 as that year has data from every municipality."
   ]
  },
  {
   "cell_type": "code",
   "execution_count": 1,
   "id": "e9d2f90a-f9b7-4ace-a32d-53b33def2c52",
   "metadata": {},
   "outputs": [],
   "source": [
    "# Import libraries\n",
    "\n",
    "import sys\n",
    "import logging\n",
    "import pandas as pd\n",
    "import requests\n",
    "import json\n",
    "from io import StringIO\n",
    "from pathlib import Path\n",
    "\n",
    "root_path = Path(globals()['_dh'][0]).resolve().parent.parent\n",
    "sys.path.append(str(root_path))\n",
    "\n",
    "import paths\n",
    "\n",
    "logging.basicConfig(level=logging.INFO)"
   ]
  },
  {
   "cell_type": "code",
   "execution_count": 2,
   "id": "2cf7fcbb",
   "metadata": {},
   "outputs": [],
   "source": [
    "# Load the data from SCB API\n",
    "\n",
    "url = \"https://api.scb.se/OV0104/v1/doris/sv/ssd/START/EN/EN0203/EN0203A/SlutAnvSektor\"\n",
    "query = {\n",
    "  \"query\": [\n",
    "    {\n",
    "      \"code\": \"Region\",\n",
    "      \"selection\": {\n",
    "        \"filter\": \"item\",\n",
    "        \"values\": [\n",
    "          \"14\", \"1401\", \"1402\", \"1407\", \"1415\", \"1419\", \"1421\", \"1427\", \"1430\", \"1435\",\n",
    "          \"1438\", \"1439\", \"1440\", \"1441\", \"1442\", \"1443\", \"1444\", \"1445\", \"1446\", \"1447\",\n",
    "          \"1452\", \"1460\", \"1461\", \"1462\", \"1463\", \"1465\", \"1466\", \"1470\", \"1471\", \"1472\",\n",
    "          \"1473\", \"1480\", \"1481\", \"1482\", \"1484\", \"1485\", \"1486\", \"1487\", \"1488\", \"1489\",\n",
    "          \"1490\", \"1491\", \"1492\", \"1493\", \"1494\", \"1495\", \"1496\", \"1497\", \"1498\", \"1499\"\n",
    "        ]\n",
    "      }\n",
    "    },\n",
    "    {\n",
    "      \"code\": \"Forbrukningskategri\",\n",
    "      \"selection\": {\n",
    "        \"filter\": \"item\",\n",
    "        \"values\": [\"999\"]\n",
    "      }\n",
    "    },\n",
    "    {\n",
    "      \"code\": \"Bransle\",\n",
    "      \"selection\": {\n",
    "        \"filter\": \"item\",\n",
    "        \"values\": [\"955\"]\n",
    "      }\n",
    "    }\n",
    "  ],\n",
    "  \"response\": {\n",
    "    \"format\": \"csv\"\n",
    "  }\n",
    "}\n",
    "\n",
    "##  Make the request (POST)\n",
    "response = requests.post(url, json=query)\n",
    "if response.status_code == 200:\n",
    "    csv_data = StringIO(response.text)\n",
    "    response_csv = pd.read_csv(csv_data)    \n",
    "else:\n",
    "    print(f\"Error: {response.status_code}\")\n",
    "\n",
    "## Format dataframe\n",
    "energy_data = response_csv.copy()\n",
    "energy_data['Kod'] = energy_data['region'].apply(lambda x: x.split(' ', 1)[0])\n",
    "energy_data.set_index('Kod', inplace=True)\n",
    "energy_data['region'] = energy_data['region'].apply(lambda x: x.split(' ', 1)[1])"
   ]
  },
  {
   "cell_type": "code",
   "execution_count": 3,
   "id": "9ee74ecb",
   "metadata": {},
   "outputs": [],
   "source": [
    "# Build kommunförbunden (only the 4 in VGR for now)\n",
    "\n",
    "geo_config_path = paths.geo_root / 'config.json'\n",
    "\n",
    "with open(geo_config_path, \"r\") as f:\n",
    "    config = json.load(f)\n",
    "\n",
    "sections = config['weather-geo']['Västra Götalands län']['sections']\n",
    "\n",
    "groups = {key: value for key, value in sections.items() if isinstance(value, list)}"
   ]
  },
  {
   "cell_type": "code",
   "execution_count": 4,
   "id": "f327cb30",
   "metadata": {},
   "outputs": [],
   "source": [
    "# Add kommunforbund by summing up municipalities\n",
    "for region, codes in groups.items():\n",
    "    selection = energy_data.loc[codes]\n",
    "    summed_selection = selection.iloc[:, 3:].apply(pd.to_numeric, errors='coerce').sum()\n",
    "    new_row = pd.Series([region, 'totalt', 'totalt'] + summed_selection.tolist(), index=energy_data.columns)\n",
    "    kod = '-'.join(codes)\n",
    "    energy_data.loc[kod] = new_row"
   ]
  },
  {
   "cell_type": "code",
   "execution_count": 5,
   "id": "44db8f4d",
   "metadata": {},
   "outputs": [],
   "source": [
    "# Calculate percentages as energy per geo divided by total (VGR=14)\n",
    "\n",
    "energy_percentages = pd.DataFrame(energy_data['Slutanvändning (MWh) 2022'] / energy_data.loc['14', 'Slutanvändning (MWh) 2022'])\n",
    "energy_percentages.rename(columns={'Slutanvändning (MWh) 2022': 'percentage'}, inplace=True)"
   ]
  },
  {
   "cell_type": "code",
   "execution_count": 6,
   "id": "d3097d6c",
   "metadata": {},
   "outputs": [],
   "source": [
    "# Write the file\n",
    "\n",
    "energy_percentages.to_csv(paths.demand_root / 'energy-percentages-vgr.csv.gz', compression='gzip')"
   ]
  }
 ],
 "metadata": {
  "kernelspec": {
   "display_name": "pypsa-eur",
   "language": "python",
   "name": "python3"
  },
  "language_info": {
   "codemirror_mode": {
    "name": "ipython",
    "version": 3
   },
   "file_extension": ".py",
   "mimetype": "text/x-python",
   "name": "python",
   "nbconvert_exporter": "python",
   "pygments_lexer": "ipython3",
   "version": "3.11.9"
  }
 },
 "nbformat": 4,
 "nbformat_minor": 5
}
