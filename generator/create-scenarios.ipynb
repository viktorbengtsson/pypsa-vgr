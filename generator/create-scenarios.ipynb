{
 "cells": [
  {
   "cell_type": "code",
   "execution_count": null,
   "id": "74a36626-2b35-4b69-ae7f-92539288d323",
   "metadata": {},
   "outputs": [],
   "source": [
    "CONFIG_NAME=\"small\"\n",
    "\n",
    "# Iterates using the configuration specified, and runs everything needed to create all the outputs\n",
    "%run scenarios.py \"create\" \"$CONFIG_NAME\" False False"
   ]
  },
  {
   "cell_type": "markdown",
   "id": "5ef01af3-efa1-4791-ab78-76fcd372f3ae",
   "metadata": {},
   "source": [
    "### "
   ]
  }
 ],
 "metadata": {
  "kernelspec": {
   "display_name": "pypsa-eur",
   "language": "python",
   "name": "python3"
  },
  "language_info": {
   "codemirror_mode": {
    "name": "ipython",
    "version": 3
   },
   "file_extension": ".py",
   "mimetype": "text/x-python",
   "name": "python",
   "nbconvert_exporter": "python",
   "pygments_lexer": "ipython3",
   "version": "3.11.9"
  }
 },
 "nbformat": 4,
 "nbformat_minor": 5
}
