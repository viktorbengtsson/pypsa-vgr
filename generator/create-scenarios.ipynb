{
 "cells": [
  {
   "cell_type": "code",
   "execution_count": 1,
   "id": "74a36626-2b35-4b69-ae7f-92539288d323",
   "metadata": {},
   "outputs": [
    {
     "name": "stdout",
     "output_type": "stream",
     "text": [
      "Creating data for all 1 scenarios using following configuration from (single.json):\n",
      "  config-name: single\n",
      "  base-currency: SEK\n",
      "  exchange-rates: {'EUR': 10.508, 'USD': 9.2521}\n",
      "  base-year: 2024\n",
      "  discount-rate: 0.04\n",
      "  h2-initial: 1000\n",
      "  offwind-ratio: 0.5\n",
      "\n",
      "Clear output folder\n",
      "Create and store parameters\n",
      "Check weather files\n",
      "Check renewables data\n",
      "Create and store demand\n",
      "Create and store network\n",
      "Using config:\n",
      "\th2:True\n",
      "\toffwind:True\n",
      "\tbiogas:5000\n"
     ]
    },
    {
     "name": "stderr",
     "output_type": "stream",
     "text": [
      "INFO:pypsa.io:Exported network network.nc has links, buses, generators, loads, stores, carriers\n",
      "INFO:pypsa.io:Imported network network.nc has buses, carriers, generators, links, loads, stores\n"
     ]
    },
    {
     "name": "stdout",
     "output_type": "stream",
     "text": [
      "Run optimization\n"
     ]
    },
    {
     "name": "stderr",
     "output_type": "stream",
     "text": [
      "INFO:linopy.model: Solve problem using Highs solver\n",
      "INFO:linopy.io:Writing objective.\n",
      "Writing constraints.: 100%|\u001b[38;2;128;191;255m██████████\u001b[0m| 17/17 [00:00<00:00, 42.75it/s]\n",
      "Writing continuous variables.: 100%|\u001b[38;2;128;191;255m██████████\u001b[0m| 9/9 [00:00<00:00, 113.19it/s]\n",
      "Writing integer variables.: 100%|\u001b[38;2;128;191;255m██████████\u001b[0m| 2/2 [00:00<00:00, 902.39it/s]\n",
      "INFO:linopy.io: Writing time: 0.51s\n",
      "INFO:linopy.solvers:Log file at /tmp/highs.log\n"
     ]
    },
    {
     "name": "stdout",
     "output_type": "stream",
     "text": [
      "Running HiGHS 1.7.2 (git hash: 184e327): Copyright (c) 2024 HiGHS under MIT licence terms\n"
     ]
    },
    {
     "name": "stderr",
     "output_type": "stream",
     "text": [
      "INFO:linopy.constants: Optimization successful: \n",
      "Status: ok\n",
      "Termination condition: optimal\n",
      "Solution: 46739 primals, 105141 duals\n",
      "Objective: 1.25e+10\n",
      "Solver model: available\n",
      "Solver message: optimal\n",
      "\n",
      "INFO:pypsa.optimization.optimize:The shadow-prices of the constraints Generator-ext-p-lower, Generator-ext-p-upper, Link-ext-p-lower, Link-ext-p-upper, Store-ext-e-lower, Store-ext-e-upper, Store-energy_balance were not assigned to the network.\n"
     ]
    },
    {
     "name": "stdout",
     "output_type": "stream",
     "text": [
      "Coefficient ranges:\n",
      "  Matrix [4e-06, 3e+02]\n",
      "  Cost   [6e+01, 2e+06]\n",
      "  Bound  [0e+00, 0e+00]\n",
      "  RHS    [1e+03, 5e+03]\n",
      "Presolving model\n",
      "48184 rows, 42352 cols, 127032 nonzeros  0s\n",
      "38071 rows, 32239 cols, 117366 nonzeros  0s\n",
      "37991 rows, 32159 cols, 117722 nonzeros  0s\n",
      "\n",
      "Solving MIP model with:\n",
      "   37991 rows\n",
      "   32159 cols (0 binary, 5 integer, 0 implied int., 32154 continuous)\n",
      "   117722 nonzeros\n",
      "\n",
      "        Nodes      |    B&B Tree     |            Objective Bounds              |  Dynamic Constraints |       Work      \n",
      "     Proc. InQueue |  Leaves   Expl. | BestBound       BestSol              Gap |   Cuts   InLp Confl. | LpIters     Time\n",
      "\n",
      "         0       0         0   0.00%   -inf            inf                  inf        0      0      0         0     0.7s\n",
      " S       0       0         0   0.00%   -inf            12742122373.42     Large        0      0      0         0    14.8s\n",
      " R       0       0         0   0.00%   12489867485.82  12563510880.01     0.59%        0      0      0     62612    15.6s\n",
      "         0       0         0   0.00%   12490395980.62  12563510880.01     0.58%       82     12      0     62677    20.8s\n",
      " L       0       0         0   0.00%   12490527499.39  12493258641.88     0.02%       82     15      0     62717    32.5s\n",
      "         0       0         0   0.00%   12490527500.35  12493258641.88     0.02%       91     15      0     89226    40.4s\n",
      "\n",
      "40.0% inactive integer columns, restarting\n",
      "Model after restart has 27799 rows, 21965 cols (0 bin., 3 int., 0 impl., 21962 cont.), and 96916 nonzeros\n",
      "\n",
      "         0       0         0   0.00%   12490527500.35  12493258641.88     0.02%       15      0      0     89226    40.5s\n",
      "         0       0         0   0.00%   12490527500.35  12493258641.88     0.02%       15     15      0     90259    40.9s\n",
      "\n",
      "Solving report\n",
      "  Status            Optimal\n",
      "  Primal bound      12493258641.9\n",
      "  Dual bound        12493254475.1\n",
      "  Gap               3.3e-05% (tolerance: 0.01%)\n",
      "  Solution status   feasible\n",
      "                    12493258641.9 (objective)\n",
      "                    0 (bound viol.)\n",
      "                    0 (int. viol.)\n",
      "                    0 (row viol.)\n",
      "  Timing            41.65 (total)\n",
      "                    0.72 (presolve)\n",
      "                    0.00 (postsolve)\n",
      "  Nodes             1\n",
      "  LP iterations     90560 (total)\n",
      "                    260 (strong br.)\n",
      "                    109 (separation)\n",
      "                    26507 (heuristics)\n",
      "Writing the solution to /tmp/linopy-solve-3l2sr3ub.sol\n"
     ]
    },
    {
     "name": "stderr",
     "output_type": "stream",
     "text": [
      "INFO:pypsa.io:Exported network network.nc has links, buses, generators, loads, stores, carriers\n",
      "INFO:pypsa.io:Imported network network.nc has buses, carriers, generators, links, loads, stores\n"
     ]
    },
    {
     "ename": "TypeError",
     "evalue": "create_and_store_demand() takes 1 positional argument but 3 were given",
     "output_type": "error",
     "traceback": [
      "\u001b[0;31m---------------------------------------------------------------------------\u001b[0m",
      "\u001b[0;31mTypeError\u001b[0m                                 Traceback (most recent call last)",
      "File \u001b[0;32m~/code/pypsa-vgr/generator/scenarios.py:121\u001b[0m\n\u001b[1;32m    119\u001b[0m \u001b[38;5;28;01mfor\u001b[39;00m idx, scenario \u001b[38;5;129;01min\u001b[39;00m \u001b[38;5;28menumerate\u001b[39m(scenarios):\n\u001b[1;32m    120\u001b[0m     \u001b[38;5;28;01mif\u001b[39;00m action \u001b[38;5;241m==\u001b[39m \u001b[38;5;124m\"\u001b[39m\u001b[38;5;124mcreate\u001b[39m\u001b[38;5;124m\"\u001b[39m:\n\u001b[0;32m--> 121\u001b[0m         \u001b[43m_create_scenario\u001b[49m\u001b[43m(\u001b[49m\u001b[43mconfig\u001b[49m\u001b[43m,\u001b[49m\u001b[43m \u001b[49m\u001b[43mscenario\u001b[49m\u001b[43m,\u001b[49m\u001b[43m \u001b[49m\u001b[43mkeys\u001b[49m\u001b[43m,\u001b[49m\u001b[43m \u001b[49m\u001b[43mtidy\u001b[49m\u001b[43m)\u001b[49m\n\u001b[1;32m    122\u001b[0m         \u001b[38;5;28mprint\u001b[39m(\u001b[38;5;124mf\u001b[39m\u001b[38;5;124m\"\u001b[39m\u001b[38;5;132;01m{\u001b[39;00midx\u001b[38;5;241m+\u001b[39m\u001b[38;5;241m1\u001b[39m\u001b[38;5;132;01m}\u001b[39;00m\u001b[38;5;124m out of \u001b[39m\u001b[38;5;132;01m{\u001b[39;00m\u001b[38;5;28mlen\u001b[39m(scenarios)\u001b[38;5;132;01m}\u001b[39;00m\u001b[38;5;124m: \u001b[39m\u001b[38;5;132;01m{\u001b[39;00mscenario\u001b[38;5;132;01m}\u001b[39;00m\u001b[38;5;124m\"\u001b[39m)\n\u001b[1;32m    123\u001b[0m     \u001b[38;5;28;01mif\u001b[39;00m action \u001b[38;5;241m==\u001b[39m \u001b[38;5;124m\"\u001b[39m\u001b[38;5;124mlist\u001b[39m\u001b[38;5;124m\"\u001b[39m:\n",
      "File \u001b[0;32m~/code/pypsa-vgr/generator/scenarios.py:84\u001b[0m, in \u001b[0;36m_create_scenario\u001b[0;34m(config, scenario, keys, tidy)\u001b[0m\n\u001b[1;32m     81\u001b[0m \u001b[38;5;28;01mwith\u001b[39;00m (data_path \u001b[38;5;241m/\u001b[39m \u001b[38;5;124m'\u001b[39m\u001b[38;5;124mconfig.json\u001b[39m\u001b[38;5;124m'\u001b[39m)\u001b[38;5;241m.\u001b[39mopen(\u001b[38;5;124m'\u001b[39m\u001b[38;5;124mw\u001b[39m\u001b[38;5;124m'\u001b[39m) \u001b[38;5;28;01mas\u001b[39;00m fp:\n\u001b[1;32m     82\u001b[0m     json\u001b[38;5;241m.\u001b[39mdump(config, fp, indent\u001b[38;5;241m=\u001b[39m\u001b[38;5;241m4\u001b[39m)\n\u001b[0;32m---> 84\u001b[0m \u001b[43mrun_scenario\u001b[49m\u001b[43m(\u001b[49m\u001b[43mconfig\u001b[49m\u001b[43m,\u001b[49m\u001b[43m \u001b[49m\u001b[43mtidy\u001b[49m\u001b[43m)\u001b[49m\n",
      "File \u001b[0;32m~/code/pypsa-vgr/generator/lib/orchestrate.py:30\u001b[0m, in \u001b[0;36mrun_scenario\u001b[0;34m(config, tidy)\u001b[0m\n\u001b[1;32m     27\u001b[0m create_and_store_optimize(config)\n\u001b[1;32m     29\u001b[0m \u001b[38;5;66;03m# Files: multiple\u001b[39;00m\n\u001b[0;32m---> 30\u001b[0m \u001b[43mcreate_and_store_results\u001b[49m\u001b[43m(\u001b[49m\u001b[43mconfig\u001b[49m\u001b[43m)\u001b[49m\n\u001b[1;32m     32\u001b[0m \u001b[38;5;28;01mif\u001b[39;00m tidy:\n\u001b[1;32m     33\u001b[0m     clear_working_files(config)\n",
      "File \u001b[0;32m~/code/pypsa-vgr/generator/lib/steps.py:175\u001b[0m, in \u001b[0;36mcreate_and_store_results\u001b[0;34m(config)\u001b[0m\n\u001b[1;32m    172\u001b[0m shutil\u001b[38;5;241m.\u001b[39mcopy(paths\u001b[38;5;241m.\u001b[39mgenerator_path \u001b[38;5;241m/\u001b[39m \u001b[38;5;124m'\u001b[39m\u001b[38;5;124mconfigs\u001b[39m\u001b[38;5;124m'\u001b[39m \u001b[38;5;241m/\u001b[39m \u001b[38;5;124mf\u001b[39m\u001b[38;5;124m\"\u001b[39m\u001b[38;5;132;01m{\u001b[39;00mconfig[\u001b[38;5;124m'\u001b[39m\u001b[38;5;124mconfig-name\u001b[39m\u001b[38;5;124m'\u001b[39m]\u001b[38;5;132;01m}\u001b[39;00m\u001b[38;5;124m.json\u001b[39m\u001b[38;5;124m\"\u001b[39m, paths\u001b[38;5;241m.\u001b[39moutput_path \u001b[38;5;241m/\u001b[39m \u001b[38;5;124m'\u001b[39m\u001b[38;5;124mscenarios.json\u001b[39m\u001b[38;5;124m'\u001b[39m)\n\u001b[1;32m    174\u001b[0m \u001b[38;5;66;03m## Create files for demand data\u001b[39;00m\n\u001b[0;32m--> 175\u001b[0m \u001b[43mcreate_and_store_demand\u001b[49m\u001b[43m(\u001b[49m\u001b[43mdata_path\u001b[49m\u001b[43m \u001b[49m\u001b[38;5;241;43m/\u001b[39;49m\u001b[43m \u001b[49m\u001b[38;5;124;43m'\u001b[39;49m\u001b[38;5;124;43mdemand.csv\u001b[39;49m\u001b[38;5;124;43m'\u001b[39;49m\u001b[43m,\u001b[49m\u001b[43m \u001b[49m\u001b[43mdata_path\u001b[49m\u001b[43m \u001b[49m\u001b[38;5;241;43m/\u001b[39;49m\u001b[43m \u001b[49m\u001b[38;5;124;43m'\u001b[39;49m\u001b[38;5;124;43mdemand\u001b[39;49m\u001b[38;5;124;43m'\u001b[39;49m\u001b[43m,\u001b[49m\u001b[43m \u001b[49m\u001b[43mresolution\u001b[49m\u001b[43m)\u001b[49m\n\u001b[1;32m    178\u001b[0m \u001b[38;5;66;03m## Add active links data (battery inverters, electrolysis, and gas turbines)\u001b[39;00m\n\u001b[1;32m    179\u001b[0m links_charge \u001b[38;5;241m=\u001b[39m [\u001b[38;5;124m'\u001b[39m\u001b[38;5;124mbattery-charge\u001b[39m\u001b[38;5;124m'\u001b[39m]\n",
      "\u001b[0;31mTypeError\u001b[0m: create_and_store_demand() takes 1 positional argument but 3 were given"
     ]
    }
   ],
   "source": [
    "CONFIG_NAME=\"single\"\n",
    "\n",
    "# Iterates using the configuration specified, and runs everything needed to create all the outputs\n",
    "%run scenarios.py \"create\" \"$CONFIG_NAME\" True True"
   ]
  },
  {
   "cell_type": "markdown",
   "id": "5ef01af3-efa1-4791-ab78-76fcd372f3ae",
   "metadata": {},
   "source": [
    "### "
   ]
  }
 ],
 "metadata": {
  "kernelspec": {
   "display_name": "pypsa-eur",
   "language": "python",
   "name": "python3"
  },
  "language_info": {
   "codemirror_mode": {
    "name": "ipython",
    "version": 3
   },
   "file_extension": ".py",
   "mimetype": "text/x-python",
   "name": "python",
   "nbconvert_exporter": "python",
   "pygments_lexer": "ipython3",
   "version": "3.11.9"
  }
 },
 "nbformat": 4,
 "nbformat_minor": 5
}
