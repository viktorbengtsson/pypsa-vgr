{
 "cells": [
  {
   "cell_type": "code",
   "execution_count": 1,
   "id": "74a36626-2b35-4b69-ae7f-92539288d323",
   "metadata": {},
   "outputs": [
    {
     "name": "stdout",
     "output_type": "stream",
     "text": [
      "Creating data for all 1 scenarios using following configuration from (single.json):\n",
      "  config-name: single\n",
      "  base-currency: SEK\n",
      "  exchange-rates: {'EUR': 11.68, 'USD': 10.7}\n",
      "  base-year: 2024\n",
      "  discount-rate: 0.05\n",
      "  h2-initial: 150000\n",
      "  offwind-ratio: 0.5\n",
      "\n",
      "Clear output folder\n",
      "Create and store parameters\n",
      "Check weather files\n",
      "Check renewables data\n",
      "Create and store demand\n",
      "Create and store network\n"
     ]
    },
    {
     "name": "stderr",
     "output_type": "stream",
     "text": [
      "INFO:pypsa.io:Exported network network.nc has links, loads, buses, carriers, generators, stores\n"
     ]
    },
    {
     "name": "stdout",
     "output_type": "stream",
     "text": [
      "Using config:\n",
      "\th2:True\n",
      "\toffwind:True\n",
      "\tbiogas:500\n"
     ]
    },
    {
     "name": "stderr",
     "output_type": "stream",
     "text": [
      "INFO:pypsa.io:Imported network network.nc has buses, carriers, generators, links, loads, stores\n"
     ]
    },
    {
     "name": "stdout",
     "output_type": "stream",
     "text": [
      "Run optimization\n"
     ]
    },
    {
     "name": "stderr",
     "output_type": "stream",
     "text": [
      "INFO:linopy.model: Solve problem using Highs solver\n",
      "INFO:linopy.io:Writing objective.\n",
      "Writing constraints.: 100%|\u001b[38;2;128;191;255m██████████\u001b[0m| 18/18 [00:00<00:00, 44.92it/s]\n",
      "Writing continuous variables.: 100%|\u001b[38;2;128;191;255m██████████\u001b[0m| 9/9 [00:00<00:00, 138.40it/s]\n",
      "Writing integer variables.: 100%|\u001b[38;2;128;191;255m██████████\u001b[0m| 2/2 [00:00<00:00, 733.78it/s]\n",
      "INFO:linopy.io: Writing time: 0.5s\n",
      "INFO:linopy.solvers:Log file at /tmp/highs.log\n"
     ]
    },
    {
     "name": "stdout",
     "output_type": "stream",
     "text": [
      "Running HiGHS 1.7.2 (git hash: 184e327): Copyright (c) 2024 HiGHS under MIT licence terms\n"
     ]
    },
    {
     "name": "stderr",
     "output_type": "stream",
     "text": [
      "INFO:linopy.constants: Optimization successful: \n",
      "Status: ok\n",
      "Termination condition: optimal\n",
      "Solution: 46739 primals, 105142 duals\n",
      "Objective: 4.38e+10\n",
      "Solver model: available\n",
      "Solver message: optimal\n",
      "\n",
      "INFO:pypsa.optimization.optimize:The shadow-prices of the constraints Generator-ext-p-lower, Generator-ext-p-upper, Link-ext-p-lower, Link-ext-p-upper, Store-ext-e-lower, Store-ext-e-upper, Store-energy_balance, Offwind_constraint were not assigned to the network.\n"
     ]
    },
    {
     "name": "stdout",
     "output_type": "stream",
     "text": [
      "Coefficient ranges:\n",
      "  Matrix [4e-06, 3e+02]\n",
      "  Cost   [8e+01, 2e+06]\n",
      "  Bound  [0e+00, 0e+00]\n",
      "  RHS    [5e+02, 3e+03]\n",
      "Presolving model\n",
      "48185 rows, 42352 cols, 127034 nonzeros  0s\n",
      "38072 rows, 32239 cols, 117368 nonzeros  0s\n",
      "37992 rows, 32159 cols, 117724 nonzeros  0s\n",
      "\n",
      "Solving MIP model with:\n",
      "   37992 rows\n",
      "   32159 cols (0 binary, 5 integer, 0 implied int., 32154 continuous)\n",
      "   117724 nonzeros\n",
      "\n",
      "        Nodes      |    B&B Tree     |            Objective Bounds              |  Dynamic Constraints |       Work      \n",
      "     Proc. InQueue |  Leaves   Expl. | BestBound       BestSol              Gap |   Cuts   InLp Confl. | LpIters     Time\n",
      "\n",
      "         0       0         0   0.00%   -inf            inf                  inf        0      0      0         0     0.2s\n",
      "         0       0         0   0.00%   29331394846.82  inf                  inf        0      0      1     54889    17.3s\n",
      " S       0       0         0   0.00%   29331394846.82  44096989929.81    33.48%        0      0      5     54889    23.3s\n",
      " S       0       0         0   0.00%   29331394846.82  43799126349.04    33.03%        0      0      5     54889    23.5s\n",
      " L       0       0         0   0.00%   29331394846.82  43785267861.03    33.01%        0      0      5     54889    32.6s\n",
      " S       0       0         0   0.00%   29331394846.82  43773111944.46    32.99%        0      0      5     97408    47.9s\n",
      "         4       0         1 100.00%   43771752807.17  43773111944.46     0.00%        0      0      5    145025    58.1s\n",
      "\n",
      "Solving report\n",
      "  Status            Optimal\n",
      "  Primal bound      43773111944.5\n",
      "  Dual bound        43771752807.2\n",
      "  Gap               0.0031% (tolerance: 0.01%)\n",
      "  Solution status   feasible\n",
      "                    43773111944.5 (objective)\n",
      "                    0 (bound viol.)\n",
      "                    3.46790329786e-09 (int. viol.)\n",
      "                    0 (row viol.)\n",
      "  Timing            58.14 (total)\n",
      "                    0.16 (presolve)\n",
      "                    0.00 (postsolve)\n",
      "  Nodes             4\n",
      "  LP iterations     145025 (total)\n",
      "                    14171 (strong br.)\n",
      "                    0 (separation)\n",
      "                    42519 (heuristics)\n",
      "Writing the solution to /tmp/linopy-solve-gri8oskw.sol\n"
     ]
    },
    {
     "name": "stderr",
     "output_type": "stream",
     "text": [
      "INFO:pypsa.io:Exported network network.nc has links, loads, buses, carriers, generators, stores\n",
      "INFO:pypsa.io:Imported network network.nc has buses, carriers, generators, links, loads, stores\n"
     ]
    },
    {
     "name": "stdout",
     "output_type": "stream",
     "text": [
      "1 out of 1: ('14', 2030, 0.5, 19, True, True, 500)\n",
      "Execution time: 1.0227 minutes\n"
     ]
    },
    {
     "name": "stderr",
     "output_type": "stream",
     "text": [
      "/home/viktor/code/pypsa-vgr/generator/lib/create_files.py:180: SettingWithCopyWarning:\n",
      "\n",
      "\n",
      "A value is trying to be set on a copy of a slice from a DataFrame.\n",
      "Try using .loc[row_indexer,col_indexer] = value instead\n",
      "\n",
      "See the caveats in the documentation: https://pandas.pydata.org/pandas-docs/stable/user_guide/indexing.html#returning-a-view-versus-a-copy\n",
      "\n",
      "/home/viktor/code/pypsa-vgr/generator/lib/create_files.py:196: SettingWithCopyWarning:\n",
      "\n",
      "\n",
      "A value is trying to be set on a copy of a slice from a DataFrame.\n",
      "Try using .loc[row_indexer,col_indexer] = value instead\n",
      "\n",
      "See the caveats in the documentation: https://pandas.pydata.org/pandas-docs/stable/user_guide/indexing.html#returning-a-view-versus-a-copy\n",
      "\n"
     ]
    }
   ],
   "source": [
    "CONFIG_NAME=\"small\"\n",
    "\n",
    "# Iterates using the configuration specified, and runs everything needed to create all the outputs\n",
    "%run scenarios.py \"create\" \"$CONFIG_NAME\" True True"
   ]
  }
 ],
 "metadata": {
  "kernelspec": {
   "display_name": "pypsa-eur",
   "language": "python",
   "name": "python3"
  },
  "language_info": {
   "codemirror_mode": {
    "name": "ipython",
    "version": 3
   },
   "file_extension": ".py",
   "mimetype": "text/x-python",
   "name": "python",
   "nbconvert_exporter": "python",
   "pygments_lexer": "ipython3",
   "version": "3.11.9"
  }
 },
 "nbformat": 4,
 "nbformat_minor": 5
}
