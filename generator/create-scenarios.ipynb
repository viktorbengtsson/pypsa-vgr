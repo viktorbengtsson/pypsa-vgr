{
 "cells": [
  {
   "cell_type": "code",
   "execution_count": 1,
   "id": "74a36626-2b35-4b69-ae7f-92539288d323",
   "metadata": {},
   "outputs": [
    {
     "name": "stdout",
     "output_type": "stream",
     "text": [
      "Creating data for all 120 scenarios using following configuration from (pilot1_vgr_fyrbodal_trollhattan.json):\n",
      "  config-name: pilot1_vgr_fyrbodal_trollhattan\n",
      "  base-currency: SEK\n",
      "  exchange-rates: {'EUR': 10.508, 'USD': 9.2521}\n",
      "  base-year: 2024\n",
      "  discount-rate: 0.04\n",
      "  h2-initial: 1000\n",
      "  offwind-ratio: 0.5\n",
      "\n",
      "Clear output folder\n",
      "Create and store parameters\n",
      "Check weather files\n",
      "Check renewables data\n",
      "Create and store demand\n",
      "Create and store network\n",
      "Using config:\n",
      "\th2:True\n",
      "\toffwind:True\n",
      "\tbiogas:0\n"
     ]
    },
    {
     "name": "stderr",
     "output_type": "stream",
     "text": [
      "INFO:pypsa.io:Exported network network.nc has stores, carriers, loads, buses, generators, links\n"
     ]
    },
    {
     "name": "stdout",
     "output_type": "stream",
     "text": [
      "Run optimization\n"
     ]
    },
    {
     "name": "stderr",
     "output_type": "stream",
     "text": [
      "INFO:pypsa.io:Imported network network.nc has buses, carriers, generators, links, loads, stores\n",
      "INFO:linopy.model: Solve problem using Highs solver\n",
      "INFO:linopy.io:Writing objective.\n",
      "Writing constraints.: 100%|\u001b[38;2;128;191;255m██████████\u001b[0m| 17/17 [00:00<00:00, 29.19it/s]\n",
      "Writing continuous variables.: 100%|\u001b[38;2;128;191;255m██████████\u001b[0m| 9/9 [00:00<00:00, 85.21it/s]\n",
      "Writing integer variables.: 100%|\u001b[38;2;128;191;255m██████████\u001b[0m| 2/2 [00:00<00:00, 586.08it/s]\n",
      "INFO:linopy.io: Writing time: 0.74s\n",
      "INFO:linopy.solvers:Log file at /tmp/highs.log\n"
     ]
    },
    {
     "name": "stdout",
     "output_type": "stream",
     "text": [
      "Running HiGHS 1.7.2 (git hash: 184e327): Copyright (c) 2024 HiGHS under MIT licence terms\n",
      "Coefficient ranges:\n",
      "  Matrix [4e-06, 3e+02]\n",
      "  Cost   [6e+01, 2e+06]\n",
      "  Bound  [0e+00, 0e+00]\n",
      "  RHS    [3e+01, 9e+01]\n",
      "Presolving model\n",
      "45264 rows, 36512 cols, 118272 nonzeros  0s\n",
      "37991 rows, 29239 cols, 111910 nonzeros  0s\n",
      "37991 rows, 29239 cols, 111910 nonzeros  0s\n",
      "\n",
      "Solving MIP model with:\n",
      "   37991 rows\n",
      "   29239 cols (0 binary, 5 integer, 0 implied int., 29234 continuous)\n",
      "   111910 nonzeros\n",
      "\n",
      "        Nodes      |    B&B Tree     |            Objective Bounds              |  Dynamic Constraints |       Work      \n",
      "     Proc. InQueue |  Leaves   Expl. | BestBound       BestSol              Gap |   Cuts   InLp Confl. | LpIters     Time\n",
      "\n",
      "         0       0         0   0.00%   -inf            inf                  inf        0      0      0         0     0.2s\n",
      " S       0       0         0   0.00%   -inf            641555992.1814     Large        0      0      0         0     4.6s\n",
      " R       0       0         0   0.00%   640356603.8901  640404462.5294     0.01%        0      0      0     32172     4.9s\n",
      "\n",
      "Solving report"
     ]
    },
    {
     "name": "stderr",
     "output_type": "stream",
     "text": [
      "INFO:linopy.constants: Optimization successful: \n",
      "Status: ok\n",
      "Termination condition: optimal\n",
      "Solution: 40897 primals, 90538 duals\n",
      "Objective: 6.40e+08\n",
      "Solver model: available\n",
      "Solver message: optimal\n",
      "\n"
     ]
    },
    {
     "name": "stdout",
     "output_type": "stream",
     "text": [
      "\n",
      "  Status            Optimal\n",
      "  Primal bound      640404462.529\n",
      "  Dual bound        640356603.89\n",
      "  Gap               0.00747% (tolerance: 0.01%)\n",
      "  Solution status   feasible\n",
      "                    640404462.529 (objective)\n",
      "                    0 (bound viol.)\n",
      "                    0 (int. viol.)\n",
      "                    0 (row viol.)\n",
      "  Timing            4.91 (total)\n",
      "                    0.21 (presolve)\n",
      "                    0.00 (postsolve)\n",
      "  Nodes             1\n",
      "  LP iterations     32172 (total)\n",
      "                    0 (strong br.)\n",
      "                    0 (separation)\n",
      "                    0 (heuristics)\n",
      "Writing the solution to /tmp/linopy-solve-kwtx26ce.sol\n"
     ]
    },
    {
     "name": "stderr",
     "output_type": "stream",
     "text": [
      "INFO:pypsa.optimization.optimize:The shadow-prices of the constraints Generator-ext-p-lower, Generator-ext-p-upper, Link-ext-p-lower, Link-ext-p-upper, Store-ext-e-lower, Store-ext-e-upper, Store-energy_balance were not assigned to the network.\n",
      "INFO:pypsa.io:Exported network network.nc has stores, carriers, loads, buses, generators, links\n",
      "INFO:pypsa.io:Imported network network.nc has buses, carriers, generators, links, loads, stores\n",
      "/home/viktor/code/pypsa-vgr/generator/library/output_files.py:289: FutureWarning:\n",
      "\n",
      "A value is trying to be set on a copy of a DataFrame or Series through chained assignment using an inplace method.\n",
      "The behavior will change in pandas 3.0. This inplace method will never work because the intermediate object on which we are setting values always behaves as a copy.\n",
      "\n",
      "For example, when doing 'df[col].method(value, inplace=True)', try using 'df.method({col: value}, inplace=True)' or df[col] = df[col].method(value) instead, to perform the operation inplace on the original object.\n",
      "\n",
      "\n",
      "\n"
     ]
    },
    {
     "name": "stdout",
     "output_type": "stream",
     "text": [
      "1 out of 120: ('14', 2030, 1, 0.5, True, True, 0)\n",
      "Create and store parameters\n",
      "Check weather files\n",
      "Check renewables data\n",
      "Create and store demand\n",
      "Create and store network\n",
      "Using config:\n",
      "\th2:True\n",
      "\toffwind:True\n",
      "\tbiogas:300\n"
     ]
    },
    {
     "name": "stderr",
     "output_type": "stream",
     "text": [
      "INFO:pypsa.io:Exported network network.nc has stores, carriers, loads, buses, generators, links\n"
     ]
    },
    {
     "name": "stdout",
     "output_type": "stream",
     "text": [
      "Run optimization\n"
     ]
    },
    {
     "name": "stderr",
     "output_type": "stream",
     "text": [
      "INFO:pypsa.io:Imported network network.nc has buses, carriers, generators, links, loads, stores\n",
      "INFO:linopy.model: Solve problem using Highs solver\n",
      "INFO:linopy.io:Writing objective.\n",
      "Writing constraints.: 100%|\u001b[38;2;128;191;255m██████████\u001b[0m| 17/17 [00:00<00:00, 30.25it/s]\n",
      "Writing continuous variables.: 100%|\u001b[38;2;128;191;255m██████████\u001b[0m| 9/9 [00:00<00:00, 72.71it/s]\n",
      "Writing integer variables.: 100%|\u001b[38;2;128;191;255m██████████\u001b[0m| 2/2 [00:00<00:00, 536.36it/s]\n",
      "INFO:linopy.io: Writing time: 0.73s\n",
      "INFO:linopy.solvers:Log file at /tmp/highs.log\n"
     ]
    },
    {
     "name": "stdout",
     "output_type": "stream",
     "text": [
      "Running HiGHS 1.7.2 (git hash: 184e327): Copyright (c) 2024 HiGHS under MIT licence terms\n"
     ]
    },
    {
     "name": "stderr",
     "output_type": "stream",
     "text": [
      "INFO:linopy.constants: Optimization successful: \n",
      "Status: ok\n",
      "Termination condition: optimal\n",
      "Solution: 46739 primals, 105141 duals\n",
      "Objective: 6.08e+08\n",
      "Solver model: available\n",
      "Solver message: optimal\n",
      "\n",
      "INFO:pypsa.optimization.optimize:The shadow-prices of the constraints Generator-ext-p-lower, Generator-ext-p-upper, Link-ext-p-lower, Link-ext-p-upper, Store-ext-e-lower, Store-ext-e-upper, Store-energy_balance were not assigned to the network.\n"
     ]
    },
    {
     "name": "stdout",
     "output_type": "stream",
     "text": [
      "Coefficient ranges:\n",
      "  Matrix [4e-06, 3e+02]\n",
      "  Cost   [6e+01, 2e+06]\n",
      "  Bound  [0e+00, 0e+00]\n",
      "  RHS    [3e+01, 3e+02]\n",
      "Presolving model\n",
      "48184 rows, 42352 cols, 127032 nonzeros  0s\n",
      "38071 rows, 32239 cols, 117366 nonzeros  0s\n",
      "37991 rows, 32159 cols, 117722 nonzeros  0s\n",
      "\n",
      "Solving MIP model with:\n",
      "   37991 rows\n",
      "   32159 cols (0 binary, 5 integer, 0 implied int., 32154 continuous)\n",
      "   117722 nonzeros\n",
      "\n",
      "        Nodes      |    B&B Tree     |            Objective Bounds              |  Dynamic Constraints |       Work      \n",
      "     Proc. InQueue |  Leaves   Expl. | BestBound       BestSol              Gap |   Cuts   InLp Confl. | LpIters     Time\n",
      "\n",
      "         0       0         0   0.00%   -inf            inf                  inf        0      0      0         0     0.2s\n",
      " S       0       0         0   0.00%   -inf            667727286.8929     Large        0      0      0         0    18.1s\n",
      " R       0       0         0   0.00%   544172187.3328  617268770.5887    11.84%        0      0      0     71221    20.3s\n",
      "         0       0         0   0.00%   544172331.9896  617268770.5887    11.84%       63     10      0     71231    25.5s\n",
      " L       0       0         0   0.00%   544172595.4191  607936990.5767    10.49%       63     19      0     71242    71.5s\n",
      "         1       0         0 100.00%   607936774.8717  607936990.5767     0.00%       63     18      0    150479    86.6s\n",
      "\n",
      "Solving report\n",
      "  Status            Optimal\n",
      "  Primal bound      607936990.577\n",
      "  Dual bound        607936774.872\n",
      "  Gap               3.5e-05% (tolerance: 0.01%)\n",
      "  Solution status   feasible\n",
      "                    607936990.577 (objective)\n",
      "                    0 (bound viol.)\n",
      "                    0 (int. viol.)\n",
      "                    0 (row viol.)\n",
      "  Timing            86.64 (total)\n",
      "                    0.22 (presolve)\n",
      "                    0.00 (postsolve)\n",
      "  Nodes             1\n",
      "  LP iterations     150479 (total)\n",
      "                    8129 (strong br.)\n",
      "                    24 (separation)\n",
      "                    62143 (heuristics)\n",
      "Writing the solution to /tmp/linopy-solve-_is6qr98.sol\n"
     ]
    },
    {
     "name": "stderr",
     "output_type": "stream",
     "text": [
      "INFO:pypsa.io:Exported network network.nc has stores, carriers, loads, buses, generators, links\n",
      "INFO:pypsa.io:Imported network network.nc has buses, carriers, generators, links, loads, stores\n",
      "/home/viktor/code/pypsa-vgr/generator/library/output_files.py:289: FutureWarning:\n",
      "\n",
      "A value is trying to be set on a copy of a DataFrame or Series through chained assignment using an inplace method.\n",
      "The behavior will change in pandas 3.0. This inplace method will never work because the intermediate object on which we are setting values always behaves as a copy.\n",
      "\n",
      "For example, when doing 'df[col].method(value, inplace=True)', try using 'df.method({col: value}, inplace=True)' or df[col] = df[col].method(value) instead, to perform the operation inplace on the original object.\n",
      "\n",
      "\n",
      "\n"
     ]
    },
    {
     "name": "stdout",
     "output_type": "stream",
     "text": [
      "2 out of 120: ('14', 2030, 1, 0.5, True, True, 300)\n",
      "Create and store parameters\n",
      "Check weather files\n",
      "Check renewables data\n",
      "Create and store demand\n",
      "Create and store network\n",
      "Using config:\n",
      "\th2:True\n",
      "\toffwind:True\n",
      "\tbiogas:600\n"
     ]
    },
    {
     "name": "stderr",
     "output_type": "stream",
     "text": [
      "INFO:pypsa.io:Exported network network.nc has stores, carriers, loads, buses, generators, links\n"
     ]
    },
    {
     "name": "stdout",
     "output_type": "stream",
     "text": [
      "Run optimization\n"
     ]
    },
    {
     "name": "stderr",
     "output_type": "stream",
     "text": [
      "INFO:pypsa.io:Imported network network.nc has buses, carriers, generators, links, loads, stores\n",
      "INFO:linopy.model: Solve problem using Highs solver\n",
      "INFO:linopy.io:Writing objective.\n",
      "Writing constraints.: 100%|\u001b[38;2;128;191;255m██████████\u001b[0m| 17/17 [00:00<00:00, 32.01it/s]\n",
      "Writing continuous variables.: 100%|\u001b[38;2;128;191;255m██████████\u001b[0m| 9/9 [00:00<00:00, 92.16it/s]\n",
      "Writing integer variables.: 100%|\u001b[38;2;128;191;255m██████████\u001b[0m| 2/2 [00:00<00:00, 646.57it/s]\n",
      "INFO:linopy.io: Writing time: 0.68s\n",
      "INFO:linopy.solvers:Log file at /tmp/highs.log\n"
     ]
    },
    {
     "name": "stdout",
     "output_type": "stream",
     "text": [
      "Running HiGHS 1.7.2 (git hash: 184e327): Copyright (c) 2024 HiGHS under MIT licence terms\n",
      "Coefficient ranges:\n",
      "  Matrix [4e-06, 3e+02]\n",
      "  Cost   [6e+01, 2e+06]\n",
      "  Bound  [0e+00, 0e+00]\n",
      "  RHS    [3e+01, 6e+02]\n",
      "Presolving model\n",
      "48184 rows, 42352 cols, 127032 nonzeros  0s\n",
      "38071 rows, 32239 cols, 117366 nonzeros  0s\n",
      "37991 rows, 32159 cols, 117722 nonzeros  0s\n",
      "\n",
      "Solving MIP model with:\n",
      "   37991 rows\n",
      "   32159 cols (0 binary, 5 integer, 0 implied int., 32154 continuous)\n",
      "   117722 nonzeros\n",
      "\n",
      "        Nodes      |    B&B Tree     |            Objective Bounds              |  Dynamic Constraints |       Work      \n",
      "     Proc. InQueue |  Leaves   Expl. | BestBound       BestSol              Gap |   Cuts   InLp Confl. | LpIters     Time\n",
      "\n",
      "         0       0         0   0.00%   -inf            inf                  inf        0      0      0         0     0.3s\n",
      " S       0       0         0   0.00%   -inf            667727286.8929     Large        0      0      0         0    16.8s\n",
      " R       0       0         0   0.00%   544172187.3328  617268770.5887    11.84%        0      0      0     71221    18.8s\n",
      "         0     "
     ]
    },
    {
     "name": "stderr",
     "output_type": "stream",
     "text": [
      "INFO:linopy.constants: Optimization successful: \n",
      "Status: ok\n",
      "Termination condition: optimal\n",
      "Solution: 46739 primals, 105141 duals\n",
      "Objective: 6.08e+08\n",
      "Solver model: available\n",
      "Solver message: optimal\n",
      "\n",
      "INFO:pypsa.optimization.optimize:The shadow-prices of the constraints Generator-ext-p-lower, Generator-ext-p-upper, Link-ext-p-lower, Link-ext-p-upper, Store-ext-e-lower, Store-ext-e-upper, Store-energy_balance were not assigned to the network.\n"
     ]
    },
    {
     "name": "stdout",
     "output_type": "stream",
     "text": [
      "  0         0   0.00%   544172387.9113  617268770.5887    11.84%       63     11      0     71232    23.8s\n",
      " L       0       0         0   0.00%   544172595.4191  607936990.5767    10.49%       63     19      0     71242    68.9s\n",
      "         1       0         0 100.00%   607936774.8717  607936990.5767     0.00%       63     18      0    150479    79.5s\n",
      "\n",
      "Solving report\n",
      "  Status            Optimal\n",
      "  Primal bound      607936990.577\n",
      "  Dual bound        607936774.872\n",
      "  Gap               3.5e-05% (tolerance: 0.01%)\n",
      "  Solution status   feasible\n",
      "                    607936990.577 (objective)\n",
      "                    0 (bound viol.)\n",
      "                    0 (int. viol.)\n",
      "                    0 (row viol.)\n",
      "  Timing            79.50 (total)\n",
      "                    0.25 (presolve)\n",
      "                    0.00 (postsolve)\n",
      "  Nodes             1\n",
      "  LP iterations     150479 (total)\n",
      "                    8129 (strong br.)\n",
      "                    24 (separation)\n",
      "                    62143 (heuristics)\n",
      "Writing the solution to /tmp/linopy-solve-_ejnplcx.sol\n"
     ]
    },
    {
     "name": "stderr",
     "output_type": "stream",
     "text": [
      "INFO:pypsa.io:Exported network network.nc has stores, carriers, loads, buses, generators, links\n",
      "INFO:pypsa.io:Imported network network.nc has buses, carriers, generators, links, loads, stores\n",
      "/home/viktor/code/pypsa-vgr/generator/library/output_files.py:289: FutureWarning:\n",
      "\n",
      "A value is trying to be set on a copy of a DataFrame or Series through chained assignment using an inplace method.\n",
      "The behavior will change in pandas 3.0. This inplace method will never work because the intermediate object on which we are setting values always behaves as a copy.\n",
      "\n",
      "For example, when doing 'df[col].method(value, inplace=True)', try using 'df.method({col: value}, inplace=True)' or df[col] = df[col].method(value) instead, to perform the operation inplace on the original object.\n",
      "\n",
      "\n",
      "\n"
     ]
    },
    {
     "name": "stdout",
     "output_type": "stream",
     "text": [
      "3 out of 120: ('14', 2030, 1, 0.5, True, True, 600)\n",
      "Create and store parameters\n",
      "Check weather files\n",
      "Check renewables data\n",
      "Create and store demand\n",
      "Create and store network\n",
      "Using config:\n",
      "\th2:True\n",
      "\toffwind:True\n",
      "\tbiogas:1200\n"
     ]
    },
    {
     "name": "stderr",
     "output_type": "stream",
     "text": [
      "INFO:pypsa.io:Exported network network.nc has stores, carriers, loads, buses, generators, links\n"
     ]
    },
    {
     "name": "stdout",
     "output_type": "stream",
     "text": [
      "Run optimization\n"
     ]
    },
    {
     "name": "stderr",
     "output_type": "stream",
     "text": [
      "INFO:pypsa.io:Imported network network.nc has buses, carriers, generators, links, loads, stores\n",
      "INFO:linopy.model: Solve problem using Highs solver\n",
      "INFO:linopy.io:Writing objective.\n",
      "Writing constraints.: 100%|\u001b[38;2;128;191;255m██████████\u001b[0m| 17/17 [00:00<00:00, 33.01it/s]\n",
      "Writing continuous variables.: 100%|\u001b[38;2;128;191;255m██████████\u001b[0m| 9/9 [00:00<00:00, 95.96it/s]\n",
      "Writing integer variables.: 100%|\u001b[38;2;128;191;255m██████████\u001b[0m| 2/2 [00:00<00:00, 768.47it/s]\n",
      "INFO:linopy.io: Writing time: 0.65s\n",
      "INFO:linopy.solvers:Log file at /tmp/highs.log\n"
     ]
    },
    {
     "name": "stdout",
     "output_type": "stream",
     "text": [
      "Running HiGHS 1.7.2 (git hash: 184e327): Copyright (c) 2024 HiGHS under MIT licence terms\n"
     ]
    },
    {
     "name": "stderr",
     "output_type": "stream",
     "text": [
      "INFO:linopy.constants: Optimization successful: \n",
      "Status: ok\n",
      "Termination condition: optimal\n",
      "Solution: 46739 primals, 105141 duals\n",
      "Objective: 6.08e+08\n",
      "Solver model: available\n",
      "Solver message: optimal\n",
      "\n",
      "INFO:pypsa.optimization.optimize:The shadow-prices of the constraints Generator-ext-p-lower, Generator-ext-p-upper, Link-ext-p-lower, Link-ext-p-upper, Store-ext-e-lower, Store-ext-e-upper, Store-energy_balance were not assigned to the network.\n"
     ]
    },
    {
     "name": "stdout",
     "output_type": "stream",
     "text": [
      "Coefficient ranges:\n",
      "  Matrix [4e-06, 3e+02]\n",
      "  Cost   [6e+01, 2e+06]\n",
      "  Bound  [0e+00, 0e+00]\n",
      "  RHS    [3e+01, 1e+03]\n",
      "Presolving model\n",
      "48184 rows, 42352 cols, 127032 nonzeros  0s\n",
      "38071 rows, 32239 cols, 117366 nonzeros  0s\n",
      "37991 rows, 32159 cols, 117722 nonzeros  0s\n",
      "\n",
      "Solving MIP model with:\n",
      "   37991 rows\n",
      "   32159 cols (0 binary, 5 integer, 0 implied int., 32154 continuous)\n",
      "   117722 nonzeros\n",
      "\n",
      "        Nodes      |    B&B Tree     |            Objective Bounds              |  Dynamic Constraints |       Work      \n",
      "     Proc. InQueue |  Leaves   Expl. | BestBound       BestSol              Gap |   Cuts   InLp Confl. | LpIters     Time\n",
      "\n",
      "         0       0         0   0.00%   -inf            inf                  inf        0      0      0         0     0.3s\n",
      " S       0       0         0   0.00%   -inf            667727286.8929     Large        0      0      0         0    18.0s\n",
      " R       0       0         0   0.00%   544172187.3328  617268770.5887    11.84%        0      0      0     71221    21.2s\n",
      "         0       0         0   0.00%   544172331.9895  617268770.5887    11.84%       63      9      0     71230    28.5s\n",
      " L       0       0         0   0.00%   544172595.4191  607936990.5767    10.49%       63     19      0     71242    84.4s\n",
      "         1       0         0 100.00%   607936774.8717  607936990.5767     0.00%       63     18      0    150479    96.5s\n",
      "\n",
      "Solving report\n",
      "  Status            Optimal\n",
      "  Primal bound      607936990.577\n",
      "  Dual bound        607936774.872\n",
      "  Gap               3.5e-05% (tolerance: 0.01%)\n",
      "  Solution status   feasible\n",
      "                    607936990.577 (objective)\n",
      "                    0 (bound viol.)\n",
      "                    0 (int. viol.)\n",
      "                    0 (row viol.)\n",
      "  Timing            96.50 (total)\n",
      "                    0.27 (presolve)\n",
      "                    0.00 (postsolve)\n",
      "  Nodes             1\n",
      "  LP iterations     150479 (total)\n",
      "                    8129 (strong br.)\n",
      "                    24 (separation)\n",
      "                    62143 (heuristics)\n",
      "Writing the solution to /tmp/linopy-solve-k74502qg.sol\n"
     ]
    },
    {
     "name": "stderr",
     "output_type": "stream",
     "text": [
      "INFO:pypsa.io:Exported network network.nc has stores, carriers, loads, buses, generators, links\n",
      "INFO:pypsa.io:Imported network network.nc has buses, carriers, generators, links, loads, stores\n",
      "/home/viktor/code/pypsa-vgr/generator/library/output_files.py:289: FutureWarning:\n",
      "\n",
      "A value is trying to be set on a copy of a DataFrame or Series through chained assignment using an inplace method.\n",
      "The behavior will change in pandas 3.0. This inplace method will never work because the intermediate object on which we are setting values always behaves as a copy.\n",
      "\n",
      "For example, when doing 'df[col].method(value, inplace=True)', try using 'df.method({col: value}, inplace=True)' or df[col] = df[col].method(value) instead, to perform the operation inplace on the original object.\n",
      "\n",
      "\n",
      "\n"
     ]
    },
    {
     "name": "stdout",
     "output_type": "stream",
     "text": [
      "4 out of 120: ('14', 2030, 1, 0.5, True, True, 1200)\n",
      "Create and store parameters\n",
      "Check weather files\n",
      "Check renewables data\n",
      "Create and store demand\n",
      "Create and store network\n",
      "Using config:\n",
      "\th2:True\n",
      "\toffwind:True\n",
      "\tbiogas:1800\n"
     ]
    },
    {
     "name": "stderr",
     "output_type": "stream",
     "text": [
      "INFO:pypsa.io:Exported network network.nc has stores, carriers, loads, buses, generators, links\n"
     ]
    },
    {
     "name": "stdout",
     "output_type": "stream",
     "text": [
      "Run optimization\n"
     ]
    },
    {
     "name": "stderr",
     "output_type": "stream",
     "text": [
      "INFO:pypsa.io:Imported network network.nc has buses, carriers, generators, links, loads, stores\n",
      "INFO:linopy.model: Solve problem using Highs solver\n",
      "INFO:linopy.io:Writing objective.\n",
      "Writing constraints.: 100%|\u001b[38;2;128;191;255m██████████\u001b[0m| 17/17 [00:00<00:00, 20.28it/s]\n",
      "Writing continuous variables.: 100%|\u001b[38;2;128;191;255m██████████\u001b[0m| 9/9 [00:00<00:00, 69.63it/s]\n",
      "Writing integer variables.: 100%|\u001b[38;2;128;191;255m██████████\u001b[0m| 2/2 [00:00<00:00, 459.45it/s]\n",
      "INFO:linopy.io: Writing time: 1.03s\n",
      "INFO:linopy.solvers:Log file at /tmp/highs.log\n"
     ]
    },
    {
     "name": "stdout",
     "output_type": "stream",
     "text": [
      "Running HiGHS 1.7.2 (git hash: 184e327): Copyright (c) 2024 HiGHS under MIT licence terms\n",
      "Coefficient ranges:\n",
      "  Matrix [4e-06, 3e+02]\n",
      "  Cost   [6e+01, 2e+06]\n",
      "  Bound  [0e+00, 0e+00]\n",
      "  RHS    [3e+01, 2e+03]\n",
      "Presolving model\n",
      "48184 rows, 42352 cols, 127032 nonzeros  0s\n",
      "38071 rows, 32239 cols, 117366 nonzeros  0s\n",
      "37991 rows, 32159 cols, 117722 nonzeros  0s\n",
      "\n",
      "Solving MIP model with:\n",
      "   37991 rows\n",
      "   32159 cols (0 binary, 5 integer, 0 implied int., 32154 continuous)\n",
      "   117722 nonzeros\n",
      "\n",
      "        Nodes      |    B&B Tree     |            Objective Bounds              |  Dynamic Constraints |       Work      \n",
      "     Proc. InQueue |  Leaves   Expl. | BestBound       BestSol              Gap |   Cuts   InLp Confl. | LpIters     Time\n",
      "\n",
      "         0       0         0   0.00%   -inf            inf                  inf        0      0      0         0     0.5s\n",
      " S       0       0         0   0.00%   -inf            667727286.8929     Large        0      0      0         0    24.5s\n",
      " R       0       0         0   0.00%   544172187.3328  617268770.5887    11.84%        0      0      0     71221    27.1s\n",
      "         0       0         0   0.00%   544172331.9895  617268770.5887    11.84%       63      9      0     71230    33.2s\n",
      " L       0       0         0   0.00%   544172595.4191  607936990.5767    10.49%       63     19      0     71242    98.1s\n",
      "         1       0         0 100.00%   607936774.8717  607936990.5767     0.00%       63     18      0    150479   114.2s\n",
      "\n",
      "Solving report\n",
      "  Status            Optimal\n",
      "  Primal bound      607936990.577\n",
      "  Dual bound        607936774.872\n",
      "  Gap               3.5e-05% (tolerance: 0.01%)\n",
      "  Solution status   feasible\n",
      "                    607936990.577 (objective)\n",
      "                    0 (bound viol.)\n",
      "                    0 (int. viol.)\n",
      "                    0 (row viol.)\n",
      "  Timing            114.20 (total)\n",
      "                    0.44 (presolve)\n",
      "                    0.00 (postsolve)\n",
      "  Nodes             1\n",
      "  LP iterations     150479 (total)\n",
      "                    8129 (strong br.)\n",
      "                    24 (separation)\n",
      "                    62143 (heuristics)\n",
      "Writing the solution to /tmp/linopy-solve-d9h3__hp.sol\n"
     ]
    },
    {
     "name": "stderr",
     "output_type": "stream",
     "text": [
      "INFO:linopy.constants: Optimization successful: \n",
      "Status: ok\n",
      "Termination condition: optimal\n",
      "Solution: 46739 primals, 105141 duals\n",
      "Objective: 6.08e+08\n",
      "Solver model: available\n",
      "Solver message: optimal\n",
      "\n",
      "INFO:pypsa.optimization.optimize:The shadow-prices of the constraints Generator-ext-p-lower, Generator-ext-p-upper, Link-ext-p-lower, Link-ext-p-upper, Store-ext-e-lower, Store-ext-e-upper, Store-energy_balance were not assigned to the network.\n",
      "INFO:pypsa.io:Exported network network.nc has stores, carriers, loads, buses, generators, links\n",
      "INFO:pypsa.io:Imported network network.nc has buses, carriers, generators, links, loads, stores\n",
      "/home/viktor/code/pypsa-vgr/generator/library/output_files.py:289: FutureWarning:\n",
      "\n",
      "A value is trying to be set on a copy of a DataFrame or Series through chained assignment using an inplace method.\n",
      "The behavior will change in pandas 3.0. This inplace method will never work because the intermediate object on which we are setting values always behaves as a copy.\n",
      "\n",
      "For example, when doing 'df[col].method(value, inplace=True)', try using 'df.method({col: value}, inplace=True)' or df[col] = df[col].method(value) instead, to perform the operation inplace on the original object.\n",
      "\n",
      "\n",
      "\n"
     ]
    },
    {
     "name": "stdout",
     "output_type": "stream",
     "text": [
      "5 out of 120: ('14', 2030, 1, 0.5, True, True, 1800)\n",
      "Create and store parameters\n",
      "Check weather files\n",
      "Check renewables data\n",
      "Create and store demand\n",
      "Create and store network\n",
      "Using config:\n",
      "\th2:True\n",
      "\toffwind:True\n",
      "\tbiogas:0\n"
     ]
    },
    {
     "name": "stderr",
     "output_type": "stream",
     "text": [
      "INFO:pypsa.io:Exported network network.nc has stores, carriers, loads, buses, generators, links\n"
     ]
    },
    {
     "name": "stdout",
     "output_type": "stream",
     "text": [
      "Run optimization\n"
     ]
    },
    {
     "name": "stderr",
     "output_type": "stream",
     "text": [
      "INFO:pypsa.io:Imported network network.nc has buses, carriers, generators, links, loads, stores\n",
      "INFO:linopy.model: Solve problem using Highs solver\n",
      "INFO:linopy.io:Writing objective.\n",
      "Writing constraints.: 100%|\u001b[38;2;128;191;255m██████████\u001b[0m| 17/17 [00:00<00:00, 20.87it/s]\n",
      "Writing continuous variables.: 100%|\u001b[38;2;128;191;255m██████████\u001b[0m| 9/9 [00:00<00:00, 61.11it/s]\n",
      "Writing integer variables.: 100%|\u001b[38;2;128;191;255m██████████\u001b[0m| 2/2 [00:00<00:00, 423.58it/s]\n",
      "INFO:linopy.io: Writing time: 1.02s\n",
      "INFO:linopy.solvers:Log file at /tmp/highs.log\n"
     ]
    },
    {
     "name": "stdout",
     "output_type": "stream",
     "text": [
      "Running HiGHS 1.7.2 (git hash: 184e327): Copyright (c) 2024 HiGHS under MIT licence terms\n",
      "Coefficient ranges:\n",
      "  Matrix [4e-06, 3e+02]\n",
      "  Cost   [6e+01, 2e+06]\n",
      "  Bound  [0e+00, 0e+00]\n",
      "  RHS    [5e+01, 1e+02]\n",
      "Presolving model\n",
      "45264 rows, 36512 cols, 118272 nonzeros  0s\n",
      "37991 rows, 29239 cols, 111910 nonzeros  0s\n",
      "37991 rows, 29239 cols, 111910 nonzeros  0s\n",
      "\n",
      "Solving MIP model with:\n",
      "   37991 rows\n",
      "   29239 cols (0 binary, 5 integer, 0 implied int., 29234 continuous)\n",
      "   111910 nonzeros\n",
      "\n",
      "        Nodes      |    B&B Tree     |            Objective Bounds              |  Dynamic Constraints |       Work      \n",
      "     Proc. InQueue |  Leaves   Expl. | BestBound       BestSol              Gap |   Cuts   InLp Confl. | LpIters     Time\n",
      "\n",
      "         0       0         0   0.00%   -inf            inf                  inf        0      0      0         0     0.4s\n",
      " S       0       0         0   0.00%   -inf            964378015.9491     Large        0      0      0         0     8.0s\n",
      " R       0       0         0   0.00%   960534905.8352  960694241.7941     0.02%        0      0      0     36781     8.7s\n",
      "\n",
      "60.0% inactive"
     ]
    },
    {
     "name": "stderr",
     "output_type": "stream",
     "text": [
      "INFO:linopy.constants: Optimization successful: \n",
      "Status: ok\n",
      "Termination condition: optimal\n",
      "Solution: 40897 primals, 90538 duals\n",
      "Objective: 9.61e+08\n",
      "Solver model: available\n",
      "Solver message: optimal\n",
      "\n"
     ]
    },
    {
     "name": "stdout",
     "output_type": "stream",
     "text": [
      " integer columns, restarting\n",
      "Model after restart has 21492 rows, 15656 cols (0 bin., 2 int., 0 impl., 15654 cont.), and 66806 nonzeros\n",
      "\n",
      "         0       0         0   0.00%   960534905.8352  960694241.7941     0.02%        0      0      0     36781     8.8s\n",
      " R       0       0         0   0.00%   960534905.8352  960542269.4648     0.00%        0      0      0     37543     9.3s\n",
      "\n",
      "Solving report\n",
      "  Status            Optimal\n",
      "  Primal bound      960542269.465\n",
      "  Dual bound        960534905.835\n",
      "  Gap               0.000767% (tolerance: 0.01%)\n",
      "  Solution status   feasible\n",
      "                    960542269.465 (objective)\n",
      "                    0 (bound viol.)\n",
      "                    0 (int. viol.)\n",
      "                    0 (row viol.)\n",
      "  Timing            9.27 (total)\n",
      "                    0.51 (presolve)\n",
      "                    0.00 (postsolve)\n",
      "  Nodes             1\n",
      "  LP iterations     37543 (total)\n",
      "                    0 (strong br.)\n",
      "                    0 (separation)\n",
      "                    0 (heuristics)\n",
      "Writing the solution to /tmp/linopy-solve-mxwvbd2l.sol\n"
     ]
    },
    {
     "name": "stderr",
     "output_type": "stream",
     "text": [
      "INFO:pypsa.optimization.optimize:The shadow-prices of the constraints Generator-ext-p-lower, Generator-ext-p-upper, Link-ext-p-lower, Link-ext-p-upper, Store-ext-e-lower, Store-ext-e-upper, Store-energy_balance were not assigned to the network.\n",
      "INFO:pypsa.io:Exported network network.nc has stores, carriers, loads, buses, generators, links\n",
      "INFO:pypsa.io:Imported network network.nc has buses, carriers, generators, links, loads, stores\n",
      "/home/viktor/code/pypsa-vgr/generator/library/output_files.py:289: FutureWarning:\n",
      "\n",
      "A value is trying to be set on a copy of a DataFrame or Series through chained assignment using an inplace method.\n",
      "The behavior will change in pandas 3.0. This inplace method will never work because the intermediate object on which we are setting values always behaves as a copy.\n",
      "\n",
      "For example, when doing 'df[col].method(value, inplace=True)', try using 'df.method({col: value}, inplace=True)' or df[col] = df[col].method(value) instead, to perform the operation inplace on the original object.\n",
      "\n",
      "\n",
      "\n"
     ]
    },
    {
     "name": "stdout",
     "output_type": "stream",
     "text": [
      "6 out of 120: ('14', 2030, 1, 0.75, True, True, 0)\n",
      "Create and store parameters\n",
      "Check weather files\n",
      "Check renewables data\n",
      "Create and store demand\n",
      "Create and store network\n",
      "Using config:\n",
      "\th2:True\n",
      "\toffwind:True\n",
      "\tbiogas:300\n"
     ]
    },
    {
     "name": "stderr",
     "output_type": "stream",
     "text": [
      "INFO:pypsa.io:Exported network network.nc has stores, carriers, loads, buses, generators, links\n"
     ]
    },
    {
     "name": "stdout",
     "output_type": "stream",
     "text": [
      "Run optimization\n"
     ]
    },
    {
     "name": "stderr",
     "output_type": "stream",
     "text": [
      "INFO:pypsa.io:Imported network network.nc has buses, carriers, generators, links, loads, stores\n",
      "INFO:linopy.model: Solve problem using Highs solver\n",
      "INFO:linopy.io:Writing objective.\n",
      "Writing constraints.: 100%|\u001b[38;2;128;191;255m██████████\u001b[0m| 17/17 [00:00<00:00, 24.59it/s]\n",
      "Writing continuous variables.: 100%|\u001b[38;2;128;191;255m██████████\u001b[0m| 9/9 [00:00<00:00, 68.69it/s]\n",
      "Writing integer variables.: 100%|\u001b[38;2;128;191;255m██████████\u001b[0m| 2/2 [00:00<00:00, 537.87it/s]\n",
      "INFO:linopy.io: Writing time: 0.88s\n",
      "INFO:linopy.solvers:Log file at /tmp/highs.log\n"
     ]
    },
    {
     "name": "stdout",
     "output_type": "stream",
     "text": [
      "Running HiGHS 1.7.2 (git hash: 184e327): Copyright (c) 2024 HiGHS under MIT licence terms\n",
      "Coefficient ranges:\n",
      "  Matrix [4e-06, 3e+02]\n",
      "  Cost   [6e+01, 2e+06]\n",
      "  Bound  [0e+00, 0e+00]\n",
      "  RHS    [5e+01, 3e+02]\n",
      "Presolving model\n",
      "48184 rows, 42352 cols, 127032 nonzeros  0s\n",
      "38071 rows, 32239 cols, 117366 nonzeros  0s\n",
      "37991 rows, 32159 cols, 117722 nonzeros  0s\n",
      "\n",
      "Solving MIP model with:\n",
      "   37991 rows\n",
      "   32159 cols (0 binary, 5 integer, 0 implied int., 32154 continuous)\n",
      "   117722 nonzeros\n",
      "\n",
      "        Nodes      |    B&B Tree     |            Objective Bounds              |  Dynamic Constraints |       Work      \n",
      "     Proc. InQueue |  Leaves   Expl. | BestBound       BestSol              Gap |   Cuts   InLp Confl. | LpIters     Time\n",
      "\n",
      "         0       0         0   0.00%   -inf            inf                  inf        0      0      0         0     0.3s\n",
      " S       0       0         0   0.00%   -inf            797542742.2771     Large        0      0      0         0    30.4s\n",
      " R       0       0         0   0.00%   717072987.0985  768547176.1836     6.70%        0      0      0     69468    32.9s\n",
      "         0       0         0   0.00%   717073003.4671  768547176.1836     6.70%       20      6      0     69473    41.6s\n",
      " L       0       0         0   0.00%   717073007.8657  764063143.9458     6.15%       20     11      0     69478   116.5s\n",
      "         1       0         0 100.00%   764062820.3882  764063143.9458     0.00%       20     10      0    143593   131.9s\n",
      "\n",
      "Solving report\n",
      "  Status            Optimal\n",
      "  Primal bound      764063143.946\n",
      "  Dual bound        764062820.388\n",
      "  Gap               4.2e-05% (tolerance: 0.01%)\n",
      "  Solution status   feasible\n",
      "                    764063143.946 (objective)\n",
      "                    0 (bound viol.)\n",
      "                    0 (int. viol.)\n",
      "                    0 (row viol.)\n",
      "  Timing            131.90 (total)\n",
      "                    0.30 (presolve)\n",
      "                    0.00 (postsolve)\n",
      "  Nodes             1\n",
      "  LP iterations     143593 (total)\n",
      "                    10446 (strong br.)\n",
      "                    10 (separation)\n",
      "                    57536 (heuristics)\n",
      "Writing the solution to /tmp/linopy-solve-6y6l8kho.sol\n"
     ]
    },
    {
     "name": "stderr",
     "output_type": "stream",
     "text": [
      "INFO:linopy.constants: Optimization successful: \n",
      "Status: ok\n",
      "Termination condition: optimal\n",
      "Solution: 46739 primals, 105141 duals\n",
      "Objective: 7.64e+08\n",
      "Solver model: available\n",
      "Solver message: optimal\n",
      "\n",
      "INFO:pypsa.optimization.optimize:The shadow-prices of the constraints Generator-ext-p-lower, Generator-ext-p-upper, Link-ext-p-lower, Link-ext-p-upper, Store-ext-e-lower, Store-ext-e-upper, Store-energy_balance were not assigned to the network.\n",
      "INFO:pypsa.io:Exported network network.nc has stores, carriers, loads, buses, generators, links\n",
      "INFO:pypsa.io:Imported network network.nc has buses, carriers, generators, links, loads, stores\n",
      "/home/viktor/code/pypsa-vgr/generator/library/output_files.py:289: FutureWarning:\n",
      "\n",
      "A value is trying to be set on a copy of a DataFrame or Series through chained assignment using an inplace method.\n",
      "The behavior will change in pandas 3.0. This inplace method will never work because the intermediate object on which we are setting values always behaves as a copy.\n",
      "\n",
      "For example, when doing 'df[col].method(value, inplace=True)', try using 'df.method({col: value}, inplace=True)' or df[col] = df[col].method(value) instead, to perform the operation inplace on the original object.\n",
      "\n",
      "\n",
      "\n"
     ]
    },
    {
     "name": "stdout",
     "output_type": "stream",
     "text": [
      "7 out of 120: ('14', 2030, 1, 0.75, True, True, 300)\n",
      "Create and store parameters\n",
      "Check weather files\n",
      "Check renewables data\n",
      "Create and store demand\n",
      "Create and store network\n",
      "Using config:\n",
      "\th2:True\n",
      "\toffwind:True\n",
      "\tbiogas:600\n"
     ]
    },
    {
     "name": "stderr",
     "output_type": "stream",
     "text": [
      "INFO:pypsa.io:Exported network network.nc has stores, carriers, loads, buses, generators, links\n"
     ]
    },
    {
     "name": "stdout",
     "output_type": "stream",
     "text": [
      "Run optimization\n"
     ]
    },
    {
     "name": "stderr",
     "output_type": "stream",
     "text": [
      "INFO:pypsa.io:Imported network network.nc has buses, carriers, generators, links, loads, stores\n",
      "INFO:linopy.model: Solve problem using Highs solver\n",
      "INFO:linopy.io:Writing objective.\n",
      "Writing constraints.: 100%|\u001b[38;2;128;191;255m██████████\u001b[0m| 17/17 [00:01<00:00, 12.06it/s]\n",
      "Writing continuous variables.: 100%|\u001b[38;2;128;191;255m██████████\u001b[0m| 9/9 [00:00<00:00, 49.34it/s]\n",
      "Writing integer variables.: 100%|\u001b[38;2;128;191;255m██████████\u001b[0m| 2/2 [00:00<00:00, 467.91it/s]\n",
      "INFO:linopy.io: Writing time: 1.66s\n",
      "INFO:linopy.solvers:Log file at /tmp/highs.log\n"
     ]
    },
    {
     "name": "stdout",
     "output_type": "stream",
     "text": [
      "Running HiGHS 1.7.2 (git hash: 184e327): Copyright (c) 2024 HiGHS under MIT licence terms\n",
      "Coefficient ranges:\n",
      "  Matrix [4e-06, 3e+02]\n",
      "  Cost   [6e+01, 2e+06]\n",
      "  Bound  [0e+00, 0e+00]\n",
      "  RHS    [5e+01, 6e+02]\n",
      "Presolving model\n",
      "48184 rows, 42352 cols, 127032 nonzeros  0s\n",
      "38071 rows, 32239 cols, 117366 nonzeros  0s\n",
      "37991 rows, 32159 cols, 117722 nonzeros  0s\n",
      "\n",
      "Solving MIP model with:\n",
      "   37991 rows\n",
      "   32159 cols (0 binary, 5 integer, 0 implied int., 32154 continuous)\n",
      "   117722 nonzeros\n",
      "\n",
      "        Nodes      |    B&B Tree     |            Objective Bounds              |  Dynamic Constraints |       Work      \n",
      "     Proc. InQueue |  Leaves   Expl. | BestBound       BestSol              Gap |   Cuts   InLp Confl. | LpIters     Time\n",
      "\n",
      "         0       0         0   0.00%   -inf            inf                  inf        0      0      0         0     0.4s\n",
      " S       0       0         0   0.00%   -inf            797542742.2771     Large        0      0      0         0    38.7s\n",
      " R       0       0         0   0.00%   717072987.0985  768547176.1836     6.70%        0      0      0     69468    41.0s\n",
      "         0       0         0   0.00%   717073003.4671  768547176.1836     6.70%       20      6      0     69473    49.5s\n",
      " L       0       0         0   0.00%   717073007.8657  764063143.9458     6.15%       20     11      0     69478   120.4s\n",
      "         1       0         0 100.00%   764062820.3882  764063143.9458     0.00%       20     10      0    143593   134.6s\n",
      "\n",
      "Solving report\n",
      "  Status            Optimal\n",
      "  Primal bound      764063143.946\n",
      "  Dual bound        764062820.388\n",
      "  Gap               4.2e-05% (tolerance: 0.01%)\n",
      "  Solution status   feasible\n",
      "                    764063143.946 (objective)\n",
      "                    0 (bound viol.)\n",
      "                    0 (int. viol.)\n",
      "                    0 (row viol.)\n",
      "  Timing            134.64 (total)\n",
      "                    0.40 (presolve)\n",
      "                    0.00 (postsolve)\n",
      "  Nodes             1\n",
      "  LP iterations     143593 (total)\n",
      "                    10446 (strong br.)\n",
      "                    10 (separation)\n",
      "                    57536 (heuristics)\n",
      "Writing the solution to /tmp/linopy-solve-v0kfbp39.sol\n"
     ]
    },
    {
     "name": "stderr",
     "output_type": "stream",
     "text": [
      "INFO:linopy.constants: Optimization successful: \n",
      "Status: ok\n",
      "Termination condition: optimal\n",
      "Solution: 46739 primals, 105141 duals\n",
      "Objective: 7.64e+08\n",
      "Solver model: available\n",
      "Solver message: optimal\n",
      "\n",
      "INFO:pypsa.optimization.optimize:The shadow-prices of the constraints Generator-ext-p-lower, Generator-ext-p-upper, Link-ext-p-lower, Link-ext-p-upper, Store-ext-e-lower, Store-ext-e-upper, Store-energy_balance were not assigned to the network.\n",
      "INFO:pypsa.io:Exported network network.nc has stores, carriers, loads, buses, generators, links\n",
      "INFO:pypsa.io:Imported network network.nc has buses, carriers, generators, links, loads, stores\n",
      "/home/viktor/code/pypsa-vgr/generator/library/output_files.py:289: FutureWarning:\n",
      "\n",
      "A value is trying to be set on a copy of a DataFrame or Series through chained assignment using an inplace method.\n",
      "The behavior will change in pandas 3.0. This inplace method will never work because the intermediate object on which we are setting values always behaves as a copy.\n",
      "\n",
      "For example, when doing 'df[col].method(value, inplace=True)', try using 'df.method({col: value}, inplace=True)' or df[col] = df[col].method(value) instead, to perform the operation inplace on the original object.\n",
      "\n",
      "\n",
      "\n"
     ]
    },
    {
     "name": "stdout",
     "output_type": "stream",
     "text": [
      "8 out of 120: ('14', 2030, 1, 0.75, True, True, 600)\n",
      "Create and store parameters\n",
      "Check weather files\n",
      "Check renewables data\n",
      "Create and store demand\n",
      "Create and store network\n",
      "Using config:\n",
      "\th2:True\n",
      "\toffwind:True\n",
      "\tbiogas:1200\n"
     ]
    },
    {
     "name": "stderr",
     "output_type": "stream",
     "text": [
      "INFO:pypsa.io:Exported network network.nc has stores, carriers, loads, buses, generators, links\n"
     ]
    },
    {
     "name": "stdout",
     "output_type": "stream",
     "text": [
      "Run optimization\n"
     ]
    },
    {
     "name": "stderr",
     "output_type": "stream",
     "text": [
      "INFO:pypsa.io:Imported network network.nc has buses, carriers, generators, links, loads, stores\n",
      "INFO:linopy.model: Solve problem using Highs solver\n",
      "INFO:linopy.io:Writing objective.\n",
      "Writing constraints.: 100%|\u001b[38;2;128;191;255m██████████\u001b[0m| 17/17 [00:01<00:00, 13.49it/s]\n",
      "Writing continuous variables.: 100%|\u001b[38;2;128;191;255m██████████\u001b[0m| 9/9 [00:00<00:00, 36.21it/s]\n",
      "Writing integer variables.: 100%|\u001b[38;2;128;191;255m██████████\u001b[0m| 2/2 [00:00<00:00, 407.10it/s]\n",
      "INFO:linopy.io: Writing time: 1.6s\n",
      "INFO:linopy.solvers:Log file at /tmp/highs.log\n"
     ]
    },
    {
     "name": "stdout",
     "output_type": "stream",
     "text": [
      "Running HiGHS 1.7.2 (git hash: 184e327): Copyright (c) 2024 HiGHS under MIT licence terms\n",
      "Coefficient ranges:\n",
      "  Matrix [4e-06, 3e+02]\n",
      "  Cost   [6e+01, 2e+06]\n",
      "  Bound  [0e+00, 0e+00]\n",
      "  RHS    [5e+01, 1e+03]\n",
      "Presolving model\n",
      "48184 rows, 42352 cols, 127032 nonzeros  0s\n",
      "38071 rows, 32239 cols, 117366 nonzeros  0s\n",
      "37991 rows, 32159 cols, 117722 nonzeros  0s\n",
      "\n",
      "Solving MIP model with:\n",
      "   37991 rows\n",
      "   32159 cols (0 binary, 5 integer, 0 implied int., 32154 continuous)\n",
      "   117722 nonzeros\n",
      "\n",
      "        Nodes      |    B&B Tree     |            Objective Bounds              |  Dynamic Constraints |       Work      \n",
      "     Proc. InQueue |  Leaves   Expl. | BestBound       BestSol              Gap |   Cuts   InLp Confl. | LpIters     Time\n",
      "\n",
      "         0       0         0   0.00%   -inf            inf                  inf        0      0      0         0     0.5s\n",
      " S       0       0         0   0.00%   -inf            797542742.2771     Large        0      0      0         0    30.6s\n",
      " R       0       0         0   0.00%   717072987.0985  768547176.1836     6.70%        0      0      0     69468    32.6s\n",
      "         0       0         0   0.00%   717073003.4671  768547176.1836     6.70%       20      6      0     69473    41.2s\n",
      " L       0       0         0   0.00%   717073007.8657  764063143.9458     6.15%       20     11      0     69478   179.4s\n",
      "         1       0         0 100.00%   764062820.3882  764063143.9458     0.00%       20     10      0    143593   194.8s\n",
      "\n",
      "Solving report\n",
      "  Status            Optimal\n",
      "  Primal bound      764063143.946\n",
      "  Dual bound        764062820.388\n",
      "  Gap               4.2e-05% (tolerance: 0.01%)\n",
      "  Solution status   feasible\n",
      "                    764063143.946 (objective)\n",
      "                    0 (bound viol.)\n",
      "                    0 (int. viol.)\n",
      "                    0 (row viol.)\n",
      "  Timing            194.82 (total)\n",
      "                    0.46 (presolve)\n",
      "                    0.00 (postsolve)\n",
      "  Nodes             1\n",
      "  LP iterations     143593 (total)\n",
      "                    10446 (strong br.)\n",
      "                    10 (separation)\n",
      "                    57536 (heuristics)\n",
      "Writing the solution to /tmp/linopy-solve-_8dwl0bu.sol\n"
     ]
    },
    {
     "name": "stderr",
     "output_type": "stream",
     "text": [
      "INFO:linopy.constants: Optimization successful: \n",
      "Status: ok\n",
      "Termination condition: optimal\n",
      "Solution: 46739 primals, 105141 duals\n",
      "Objective: 7.64e+08\n",
      "Solver model: available\n",
      "Solver message: optimal\n",
      "\n",
      "INFO:pypsa.optimization.optimize:The shadow-prices of the constraints Generator-ext-p-lower, Generator-ext-p-upper, Link-ext-p-lower, Link-ext-p-upper, Store-ext-e-lower, Store-ext-e-upper, Store-energy_balance were not assigned to the network.\n",
      "INFO:pypsa.io:Exported network network.nc has stores, carriers, loads, buses, generators, links\n",
      "INFO:pypsa.io:Imported network network.nc has buses, carriers, generators, links, loads, stores\n",
      "/home/viktor/code/pypsa-vgr/generator/library/output_files.py:289: FutureWarning:\n",
      "\n",
      "A value is trying to be set on a copy of a DataFrame or Series through chained assignment using an inplace method.\n",
      "The behavior will change in pandas 3.0. This inplace method will never work because the intermediate object on which we are setting values always behaves as a copy.\n",
      "\n",
      "For example, when doing 'df[col].method(value, inplace=True)', try using 'df.method({col: value}, inplace=True)' or df[col] = df[col].method(value) instead, to perform the operation inplace on the original object.\n",
      "\n",
      "\n",
      "\n"
     ]
    },
    {
     "name": "stdout",
     "output_type": "stream",
     "text": [
      "9 out of 120: ('14', 2030, 1, 0.75, True, True, 1200)\n",
      "Create and store parameters\n",
      "Check weather files\n",
      "Check renewables data\n",
      "Create and store demand\n",
      "Create and store network\n",
      "Using config:\n",
      "\th2:True\n",
      "\toffwind:True\n",
      "\tbiogas:1800\n"
     ]
    },
    {
     "name": "stderr",
     "output_type": "stream",
     "text": [
      "INFO:pypsa.io:Exported network network.nc has stores, carriers, loads, buses, generators, links\n"
     ]
    },
    {
     "name": "stdout",
     "output_type": "stream",
     "text": [
      "Run optimization\n"
     ]
    },
    {
     "name": "stderr",
     "output_type": "stream",
     "text": [
      "INFO:pypsa.io:Imported network network.nc has buses, carriers, generators, links, loads, stores\n",
      "INFO:linopy.model: Solve problem using Highs solver\n",
      "INFO:linopy.io:Writing objective.\n",
      "Writing constraints.: 100%|\u001b[38;2;128;191;255m██████████\u001b[0m| 17/17 [00:00<00:00, 21.09it/s]\n",
      "Writing continuous variables.: 100%|\u001b[38;2;128;191;255m██████████\u001b[0m| 9/9 [00:00<00:00, 63.14it/s]\n",
      "Writing integer variables.: 100%|\u001b[38;2;128;191;255m██████████\u001b[0m| 2/2 [00:00<00:00, 458.17it/s]\n",
      "INFO:linopy.io: Writing time: 1.02s\n",
      "INFO:linopy.solvers:Log file at /tmp/highs.log\n"
     ]
    },
    {
     "name": "stdout",
     "output_type": "stream",
     "text": [
      "Running HiGHS 1.7.2 (git hash: 184e327): Copyright (c) 2024 HiGHS under MIT licence terms\n",
      "Coefficient ranges:\n",
      "  Matrix [4e-06, 3e+02]\n",
      "  Cost   [6e+01, 2e+06]\n",
      "  Bound  [0e+00, 0e+00]\n",
      "  RHS    [5e+01, 2e+03]\n",
      "Presolving model\n",
      "48184 rows, 42352 cols, 127032 nonzeros  0s\n",
      "38071 rows, 32239 cols, 117366 nonzeros  0s\n",
      "37991 rows, 32159 cols, 117722 nonzeros  0s\n",
      "\n",
      "Solving MIP model with:\n",
      "   37991 rows\n",
      "   32159 cols (0 binary, 5 integer, 0 implied int., 32154 continuous)\n",
      "   117722 nonzeros\n",
      "\n",
      "        Nodes      |    B&B Tree     |            Objective Bounds              |  Dynamic Constraints |       Work      \n",
      "     Proc. InQueue |  Leaves   Expl. | BestBound       BestSol              Gap |   Cuts   InLp Confl. | LpIters     Time\n",
      "\n",
      "         0       0         0   0.00%   -inf            inf                  inf        0      0      0         0     0.5s\n",
      " S       0       0         0   0.00%   -inf            797542742.2771     Large        0      0      0         0    32.4s\n",
      " R       0       0         0   0.00%   717072987.0985  768547176.1836     6.70%        0      0      0     69468    35.5s\n",
      "         0       0         0   0.00%   717073003.4671  768547176.1836     6.70%       20      6      0     69473    43.2s\n",
      " L       0       0         0   0.00%   717073007.8657  764063143.9458     6.15%       20     11      0     69478   110.6s\n",
      "         1       0         0 100.00%   764062820.3882  764063143.9458     0.00%       20     10      0    143593   122.7s\n",
      "\n",
      "Solving report\n",
      "  Status            Optimal\n",
      "  Primal bound      764063143.946\n",
      "  Dual bound        764062820.388\n",
      "  Gap               4.2e-05% (tolerance: 0.01%)\n",
      "  Solution status   feasible\n",
      "                    764063143.946 (objective)\n",
      "                    0 (bound viol.)\n",
      "                    0 (int. viol.)\n",
      "                    0 (row viol.)\n",
      "  Timing            122.73 (total)\n",
      "                    0.42 (presolve)\n",
      "                    0.00 (postsolve)\n",
      "  Nodes             1\n",
      "  LP iterations     143593 (total)\n",
      "                    10446 (strong br.)\n",
      "                    10 (separation)\n",
      "                    57536 (heuristics)\n",
      "Writing the solution to /tmp/linopy-solve-ajxdcxs2.sol\n"
     ]
    },
    {
     "name": "stderr",
     "output_type": "stream",
     "text": [
      "INFO:linopy.constants: Optimization successful: \n",
      "Status: ok\n",
      "Termination condition: optimal\n",
      "Solution: 46739 primals, 105141 duals\n",
      "Objective: 7.64e+08\n",
      "Solver model: available\n",
      "Solver message: optimal\n",
      "\n",
      "INFO:pypsa.optimization.optimize:The shadow-prices of the constraints Generator-ext-p-lower, Generator-ext-p-upper, Link-ext-p-lower, Link-ext-p-upper, Store-ext-e-lower, Store-ext-e-upper, Store-energy_balance were not assigned to the network.\n",
      "INFO:pypsa.io:Exported network network.nc has stores, carriers, loads, buses, generators, links\n",
      "INFO:pypsa.io:Imported network network.nc has buses, carriers, generators, links, loads, stores\n",
      "/home/viktor/code/pypsa-vgr/generator/library/output_files.py:289: FutureWarning:\n",
      "\n",
      "A value is trying to be set on a copy of a DataFrame or Series through chained assignment using an inplace method.\n",
      "The behavior will change in pandas 3.0. This inplace method will never work because the intermediate object on which we are setting values always behaves as a copy.\n",
      "\n",
      "For example, when doing 'df[col].method(value, inplace=True)', try using 'df.method({col: value}, inplace=True)' or df[col] = df[col].method(value) instead, to perform the operation inplace on the original object.\n",
      "\n",
      "\n",
      "\n"
     ]
    },
    {
     "name": "stdout",
     "output_type": "stream",
     "text": [
      "10 out of 120: ('14', 2030, 1, 0.75, True, True, 1800)\n",
      "Create and store parameters\n",
      "Check weather files\n",
      "Check renewables data\n",
      "Create and store demand\n",
      "Create and store network\n",
      "Using config:\n",
      "\th2:True\n",
      "\toffwind:True\n",
      "\tbiogas:0\n"
     ]
    },
    {
     "name": "stderr",
     "output_type": "stream",
     "text": [
      "INFO:pypsa.io:Exported network network.nc has stores, carriers, loads, buses, generators, links\n"
     ]
    },
    {
     "name": "stdout",
     "output_type": "stream",
     "text": [
      "Run optimization\n"
     ]
    },
    {
     "name": "stderr",
     "output_type": "stream",
     "text": [
      "INFO:pypsa.io:Imported network network.nc has buses, carriers, generators, links, loads, stores\n",
      "INFO:linopy.model: Solve problem using Highs solver\n",
      "INFO:linopy.io:Writing objective.\n",
      "Writing constraints.: 100%|\u001b[38;2;128;191;255m██████████\u001b[0m| 17/17 [00:00<00:00, 29.25it/s]\n",
      "Writing continuous variables.: 100%|\u001b[38;2;128;191;255m██████████\u001b[0m| 9/9 [00:00<00:00, 79.12it/s]\n",
      "Writing integer variables.: 100%|\u001b[38;2;128;191;255m██████████\u001b[0m| 2/2 [00:00<00:00, 605.89it/s]\n",
      "INFO:linopy.io: Writing time: 0.75s\n",
      "INFO:linopy.solvers:Log file at /tmp/highs.log\n"
     ]
    },
    {
     "name": "stdout",
     "output_type": "stream",
     "text": [
      "Running HiGHS 1.7.2 (git hash: 184e327): Copyright (c) 2024 HiGHS under MIT licence terms\n",
      "Coefficient ranges:\n",
      "  Matrix [4e-06, 3e+02]\n",
      "  Cost   [6e+01, 2e+06]\n",
      "  Bound  [0e+00, 0e+00]\n",
      "  RHS    [7e+01, 2e+02]\n",
      "Presolving model\n",
      "45264 rows, 36512 cols, 118272 nonzeros  0s\n",
      "37991 rows, 29239 cols, 111910 nonzeros  0s\n",
      "37991 rows, 29239 cols, 111910 nonzeros  0s\n",
      "\n",
      "Solving MIP model with:\n",
      "   37991 rows\n",
      "   29239 cols (0 binary, 5 integer, 0 implied int., 29234 continuous)\n",
      "   111910 nonzeros\n",
      "\n",
      "        Nodes      |    B&B Tree     |            Objective Bounds              |  Dynamic Constraints |       Work      \n",
      "     Proc. InQueue |  Leaves   Expl. | BestBound       BestSol              Gap |   Cuts   InLp Confl. | LpIters     Time\n",
      "\n",
      "         0       0         0   0.00%   -inf            inf                  inf        0      0      0         0     0.3s\n",
      " S       0       0         0   0.00%   -inf            1282808581.447     Large        0      0      0         0    10.5s\n",
      " R       0       0         0   0.00%   1280713207.78   1280792623.771     0.01%        0      0      0     38902    11.0s\n",
      "\n",
      "Solving report\n",
      "  Status            Optimal\n",
      "  Primal bound      1280792623.77\n",
      "  Dual bound        1280713207.78"
     ]
    },
    {
     "name": "stderr",
     "output_type": "stream",
     "text": [
      "INFO:linopy.constants: Optimization successful: \n",
      "Status: ok\n",
      "Termination condition: optimal\n",
      "Solution: 40897 primals, 90538 duals\n",
      "Objective: 1.28e+09\n",
      "Solver model: available\n",
      "Solver message: optimal\n",
      "\n",
      "INFO:pypsa.optimization.optimize:The shadow-prices of the constraints Generator-ext-p-lower, Generator-ext-p-upper, Link-ext-p-lower, Link-ext-p-upper, Store-ext-e-lower, Store-ext-e-upper, Store-energy_balance were not assigned to the network.\n"
     ]
    },
    {
     "name": "stdout",
     "output_type": "stream",
     "text": [
      "\n",
      "  Gap               0.0062% (tolerance: 0.01%)\n",
      "  Solution status   feasible\n",
      "                    1280792623.77 (objective)\n",
      "                    0 (bound viol.)\n",
      "                    1.20434459705e-18 (int. viol.)\n",
      "                    0 (row viol.)\n",
      "  Timing            12.38 (total)\n",
      "                    0.25 (presolve)\n",
      "                    0.00 (postsolve)\n",
      "  Nodes             1\n",
      "  LP iterations     38902 (total)\n",
      "                    0 (strong br.)\n",
      "                    0 (separation)\n",
      "                    0 (heuristics)\n",
      "Writing the solution to /tmp/linopy-solve-cuz52b8m.sol\n"
     ]
    },
    {
     "name": "stderr",
     "output_type": "stream",
     "text": [
      "INFO:pypsa.io:Exported network network.nc has stores, carriers, loads, buses, generators, links\n",
      "INFO:pypsa.io:Imported network network.nc has buses, carriers, generators, links, loads, stores\n",
      "/home/viktor/code/pypsa-vgr/generator/library/output_files.py:289: FutureWarning:\n",
      "\n",
      "A value is trying to be set on a copy of a DataFrame or Series through chained assignment using an inplace method.\n",
      "The behavior will change in pandas 3.0. This inplace method will never work because the intermediate object on which we are setting values always behaves as a copy.\n",
      "\n",
      "For example, when doing 'df[col].method(value, inplace=True)', try using 'df.method({col: value}, inplace=True)' or df[col] = df[col].method(value) instead, to perform the operation inplace on the original object.\n",
      "\n",
      "\n",
      "\n"
     ]
    },
    {
     "name": "stdout",
     "output_type": "stream",
     "text": [
      "11 out of 120: ('14', 2030, 1, 1, True, True, 0)\n",
      "Create and store parameters\n",
      "Check weather files\n",
      "Check renewables data\n",
      "Create and store demand\n",
      "Create and store network\n",
      "Using config:\n",
      "\th2:True\n",
      "\toffwind:True\n",
      "\tbiogas:300\n"
     ]
    },
    {
     "name": "stderr",
     "output_type": "stream",
     "text": [
      "INFO:pypsa.io:Exported network network.nc has stores, carriers, loads, buses, generators, links\n"
     ]
    },
    {
     "name": "stdout",
     "output_type": "stream",
     "text": [
      "Run optimization\n"
     ]
    },
    {
     "name": "stderr",
     "output_type": "stream",
     "text": [
      "INFO:pypsa.io:Imported network network.nc has buses, carriers, generators, links, loads, stores\n",
      "INFO:linopy.model: Solve problem using Highs solver\n",
      "INFO:linopy.io:Writing objective.\n",
      "Writing constraints.: 100%|\u001b[38;2;128;191;255m██████████\u001b[0m| 17/17 [00:00<00:00, 25.59it/s]\n",
      "Writing continuous variables.: 100%|\u001b[38;2;128;191;255m██████████\u001b[0m| 9/9 [00:00<00:00, 68.84it/s]\n",
      "Writing integer variables.: 100%|\u001b[38;2;128;191;255m██████████\u001b[0m| 2/2 [00:00<00:00, 459.62it/s]\n",
      "INFO:linopy.io: Writing time: 0.85s\n",
      "INFO:linopy.solvers:Log file at /tmp/highs.log\n"
     ]
    },
    {
     "name": "stdout",
     "output_type": "stream",
     "text": [
      "Running HiGHS 1.7.2 (git hash: 184e327): Copyright (c) 2024 HiGHS under MIT licence terms\n",
      "Coefficient ranges:\n",
      "  Matrix [4e-06, 3e+02]\n",
      "  Cost   [6e+01, 2e+06]\n",
      "  Bound  [0e+00, 0e+00]\n",
      "  RHS    [7e+01, 3e+02]\n",
      "Presolving model\n",
      "48184 rows, 42352 cols, 127032 nonzeros  0s\n",
      "38071 rows, 32239 cols, 117366 nonzeros  0s\n",
      "37991 rows, 32159 cols, 117722 nonzeros  0s\n",
      "\n",
      "Solving MIP model with:\n",
      "   37991 rows\n",
      "   32159 cols (0 binary, 5 integer, 0 implied int., 32154 continuous)\n",
      "   117722 nonzeros\n",
      "\n",
      "        Nodes      |    B&B Tree     |            Objective Bounds              |  Dynamic Constraints |       Work      \n",
      "     Proc. InQueue |  Leaves   Expl. | BestBound       BestSol              Gap |   Cuts   InLp Confl. | LpIters     Time\n",
      "\n",
      "         0       0         0   0.00%   -inf            inf                  inf        0      0      0         0     0.4s\n",
      " S       0       0         0   0.00%   -inf            942662450.8342     Large        0      0      0         0    28.6s\n",
      " R       0       0         0   0.00%   881206825.387   923214740.7096     4.55%        0      0      0     72312    30.0s\n",
      "         0       0         0   0.00%   881206878.2132  923214740.7096     4.55%       14      8      0     7231"
     ]
    },
    {
     "name": "stderr",
     "output_type": "stream",
     "text": [
      "INFO:linopy.constants: Optimization successful: \n",
      "Status: ok\n",
      "Termination condition: optimal\n",
      "Solution: 46739 primals, 105141 duals\n",
      "Objective: 9.20e+08\n",
      "Solver model: available\n",
      "Solver message: optimal\n",
      "\n"
     ]
    },
    {
     "name": "stdout",
     "output_type": "stream",
     "text": [
      "8    37.3s\n",
      " L       0       0         0   0.00%   881206880.8449  920189297.3149     4.24%       14      9      0     72319    71.8s\n",
      "         1       0         0 100.00%   920189011.2045  920189297.3149     0.00%       14      7      0    114110    82.4s\n",
      "\n",
      "Solving report\n",
      "  Status            Optimal\n",
      "  Primal bound      920189297.315\n",
      "  Dual bound        920189011.205\n",
      "  Gap               3.1e-05% (tolerance: 0.01%)\n",
      "  Solution status   feasible\n",
      "                    920189297.315 (objective)\n",
      "                    0 (bound viol.)\n",
      "                    0 (int. viol.)\n",
      "                    0 (row viol.)\n",
      "  Timing            82.36 (total)\n",
      "                    0.34 (presolve)\n",
      "                    0.00 (postsolve)\n",
      "  Nodes             1\n",
      "  LP iterations     114110 (total)\n",
      "                    10679 (strong br.)\n",
      "                    7 (separation)\n",
      "                    27120 (heuristics)\n",
      "Writing the solution to /tmp/linopy-solve-c2ht0fj9.sol\n"
     ]
    },
    {
     "name": "stderr",
     "output_type": "stream",
     "text": [
      "INFO:pypsa.optimization.optimize:The shadow-prices of the constraints Generator-ext-p-lower, Generator-ext-p-upper, Link-ext-p-lower, Link-ext-p-upper, Store-ext-e-lower, Store-ext-e-upper, Store-energy_balance were not assigned to the network.\n",
      "INFO:pypsa.io:Exported network network.nc has stores, carriers, loads, buses, generators, links\n",
      "INFO:pypsa.io:Imported network network.nc has buses, carriers, generators, links, loads, stores\n",
      "/home/viktor/code/pypsa-vgr/generator/library/output_files.py:289: FutureWarning:\n",
      "\n",
      "A value is trying to be set on a copy of a DataFrame or Series through chained assignment using an inplace method.\n",
      "The behavior will change in pandas 3.0. This inplace method will never work because the intermediate object on which we are setting values always behaves as a copy.\n",
      "\n",
      "For example, when doing 'df[col].method(value, inplace=True)', try using 'df.method({col: value}, inplace=True)' or df[col] = df[col].method(value) instead, to perform the operation inplace on the original object.\n",
      "\n",
      "\n",
      "\n"
     ]
    },
    {
     "name": "stdout",
     "output_type": "stream",
     "text": [
      "12 out of 120: ('14', 2030, 1, 1, True, True, 300)\n",
      "Create and store parameters\n",
      "Check weather files\n",
      "Check renewables data\n",
      "Create and store demand\n",
      "Create and store network\n",
      "Using config:\n",
      "\th2:True\n",
      "\toffwind:True\n",
      "\tbiogas:600\n"
     ]
    },
    {
     "name": "stderr",
     "output_type": "stream",
     "text": [
      "INFO:pypsa.io:Exported network network.nc has stores, carriers, loads, buses, generators, links\n"
     ]
    },
    {
     "name": "stdout",
     "output_type": "stream",
     "text": [
      "Run optimization\n"
     ]
    },
    {
     "name": "stderr",
     "output_type": "stream",
     "text": [
      "INFO:pypsa.io:Imported network network.nc has buses, carriers, generators, links, loads, stores\n",
      "INFO:linopy.model: Solve problem using Highs solver\n",
      "INFO:linopy.io:Writing objective.\n",
      "Writing constraints.: 100%|\u001b[38;2;128;191;255m██████████\u001b[0m| 17/17 [00:00<00:00, 25.06it/s]\n",
      "Writing continuous variables.: 100%|\u001b[38;2;128;191;255m██████████\u001b[0m| 9/9 [00:00<00:00, 70.35it/s]\n",
      "Writing integer variables.: 100%|\u001b[38;2;128;191;255m██████████\u001b[0m| 2/2 [00:00<00:00, 517.88it/s]\n",
      "INFO:linopy.io: Writing time: 0.86s\n",
      "INFO:linopy.solvers:Log file at /tmp/highs.log\n"
     ]
    },
    {
     "name": "stdout",
     "output_type": "stream",
     "text": [
      "Running HiGHS 1.7.2 (git hash: 184e327): Copyright (c) 2024 HiGHS under MIT licence terms\n",
      "Coefficient ranges:\n",
      "  Matrix [4e-06, 3e+02]\n",
      "  Cost   [6e+01, 2e+06]\n",
      "  Bound  [0e+00, 0e+00]\n",
      "  RHS    [7e+01, 6e+02]\n"
     ]
    },
    {
     "name": "stderr",
     "output_type": "stream",
     "text": [
      "INFO:linopy.constants: Optimization successful: \n",
      "Status: ok\n",
      "Termination condition: optimal\n",
      "Solution: 46739 primals, 105141 duals\n",
      "Objective: 9.20e+08\n",
      "Solver model: available\n",
      "Solver message: optimal\n",
      "\n"
     ]
    },
    {
     "name": "stdout",
     "output_type": "stream",
     "text": [
      "Presolving model\n",
      "48184 rows, 42352 cols, 127032 nonzeros  0s\n",
      "38071 rows, 32239 cols, 117366 nonzeros  0s\n",
      "37991 rows, 32159 cols, 117722 nonzeros  0s\n",
      "\n",
      "Solving MIP model with:\n",
      "   37991 rows\n",
      "   32159 cols (0 binary, 5 integer, 0 implied int., 32154 continuous)\n",
      "   117722 nonzeros\n",
      "\n",
      "        Nodes      |    B&B Tree     |            Objective Bounds              |  Dynamic Constraints |       Work      \n",
      "     Proc. InQueue |  Leaves   Expl. | BestBound       BestSol              Gap |   Cuts   InLp Confl. | LpIters     Time\n",
      "\n",
      "         0       0         0   0.00%   -inf            inf                  inf        0      0      0         0     0.3s\n",
      " S       0       0         0   0.00%   -inf            942662450.8342     Large        0      0      0         0    28.5s\n",
      " R       0       0         0   0.00%   881206825.387   923214740.7096     4.55%        0      0      0     70759    29.9s\n",
      "         0       0         0   0.00%   881206878.2132  923214740.7096     4.55%       14      8      0     70767    37.0s\n",
      " L       0       0         0   0.00%   881206880.8449  920189297.3149     4.24%       14      9      0     70768    65.7s\n",
      "         1       0         0 100.00%   920189011.2045  920189297.3149     0.00%       14      7      0    107868    77.5s\n",
      "\n",
      "Solving report\n",
      "  Status            Optimal\n",
      "  Primal bound      920189297.315\n",
      "  Dual bound        920189011.205\n",
      "  Gap               3.1e-05% (tolerance: 0.01%)\n",
      "  Solution status   feasible\n",
      "                    920189297.315 (objective)\n",
      "                    0 (bound viol.)\n",
      "                    0 (int. viol.)\n",
      "                    0 (row viol.)\n",
      "  Timing            77.45 (total)\n",
      "                    0.25 (presolve)\n",
      "                    0.00 (postsolve)\n",
      "  Nodes             1\n",
      "  LP iterations     107868 (total)\n",
      "                    12004 (strong br.)\n",
      "                    9 (separation)\n",
      "                    20623 (heuristics)\n",
      "Writing the solution to /tmp/linopy-solve-_2gkpxvo.sol\n"
     ]
    },
    {
     "name": "stderr",
     "output_type": "stream",
     "text": [
      "INFO:pypsa.optimization.optimize:The shadow-prices of the constraints Generator-ext-p-lower, Generator-ext-p-upper, Link-ext-p-lower, Link-ext-p-upper, Store-ext-e-lower, Store-ext-e-upper, Store-energy_balance were not assigned to the network.\n",
      "INFO:pypsa.io:Exported network network.nc has stores, carriers, loads, buses, generators, links\n",
      "INFO:pypsa.io:Imported network network.nc has buses, carriers, generators, links, loads, stores\n",
      "/home/viktor/code/pypsa-vgr/generator/library/output_files.py:289: FutureWarning:\n",
      "\n",
      "A value is trying to be set on a copy of a DataFrame or Series through chained assignment using an inplace method.\n",
      "The behavior will change in pandas 3.0. This inplace method will never work because the intermediate object on which we are setting values always behaves as a copy.\n",
      "\n",
      "For example, when doing 'df[col].method(value, inplace=True)', try using 'df.method({col: value}, inplace=True)' or df[col] = df[col].method(value) instead, to perform the operation inplace on the original object.\n",
      "\n",
      "\n",
      "\n"
     ]
    },
    {
     "name": "stdout",
     "output_type": "stream",
     "text": [
      "13 out of 120: ('14', 2030, 1, 1, True, True, 600)\n",
      "Create and store parameters\n",
      "Check weather files\n",
      "Check renewables data\n",
      "Create and store demand\n",
      "Create and store network\n",
      "Using config:\n",
      "\th2:True\n",
      "\toffwind:True\n",
      "\tbiogas:1200\n"
     ]
    },
    {
     "name": "stderr",
     "output_type": "stream",
     "text": [
      "INFO:pypsa.io:Exported network network.nc has stores, carriers, loads, buses, generators, links\n"
     ]
    },
    {
     "name": "stdout",
     "output_type": "stream",
     "text": [
      "Run optimization\n"
     ]
    },
    {
     "name": "stderr",
     "output_type": "stream",
     "text": [
      "INFO:pypsa.io:Imported network network.nc has buses, carriers, generators, links, loads, stores\n",
      "INFO:linopy.model: Solve problem using Highs solver\n",
      "INFO:linopy.io:Writing objective.\n",
      "Writing constraints.: 100%|\u001b[38;2;128;191;255m██████████\u001b[0m| 17/17 [00:00<00:00, 26.25it/s]\n",
      "Writing continuous variables.: 100%|\u001b[38;2;128;191;255m██████████\u001b[0m| 9/9 [00:00<00:00, 72.71it/s]\n",
      "Writing integer variables.: 100%|\u001b[38;2;128;191;255m██████████\u001b[0m| 2/2 [00:00<00:00, 457.22it/s]\n",
      "INFO:linopy.io: Writing time: 0.83s\n",
      "INFO:linopy.solvers:Log file at /tmp/highs.log\n"
     ]
    },
    {
     "name": "stdout",
     "output_type": "stream",
     "text": [
      "Running HiGHS 1.7.2 (git hash: 184e327): Copyright (c) 2024 HiGHS under MIT licence terms\n",
      "Coefficient ranges:\n",
      "  Matrix [4e-06, 3e+02]\n",
      "  Cost   [6e+01, 2e+06]\n",
      "  Bound  [0e+00, 0e+00]\n",
      "  RHS    [7e+01, 1e+03]\n",
      "Presolving model\n",
      "48184 rows, 42352 cols, 127032 nonzeros  0s\n",
      "38071 rows, 32239 cols, 117366 nonzeros  0s\n",
      "37991 rows, 32159 cols, 117722 nonzeros  0s\n",
      "\n",
      "Solving MIP model with:\n",
      "   37991 rows\n",
      "   32159 cols (0 binary, 5 integer, 0 implied int., 32154 continuous)\n",
      "   117722 nonzeros\n",
      "\n",
      "        Nodes      |    B&B Tree     |            Objective Bounds              |  Dynamic Constraints |       Work      \n",
      "     Proc. InQueue |  Leaves   Expl. | BestBound       BestSol              Gap |   Cuts   InLp Confl. | LpIters     Time\n",
      "\n",
      "         0       0         0   0.00%   -inf            inf                  inf        0      0      0         0     0.3s\n",
      " S       0       0         0   0.00%   -inf            942662450.8342     Large        0      0      0         0    27.9s\n",
      " R       0       0         0   0.00%   881206825.387   923214740.7096     4.55%        0      0      0     70759    29.2s\n",
      "         0       0         0   0.00%   881206878.2132  923214740.7096     4.55%       14      8      0     7076"
     ]
    },
    {
     "name": "stderr",
     "output_type": "stream",
     "text": [
      "INFO:linopy.constants: Optimization successful: \n",
      "Status: ok\n",
      "Termination condition: optimal\n",
      "Solution: 46739 primals, 105141 duals\n",
      "Objective: 9.20e+08\n",
      "Solver model: available\n",
      "Solver message: optimal\n",
      "\n",
      "INFO:pypsa.optimization.optimize:The shadow-prices of the constraints Generator-ext-p-lower, Generator-ext-p-upper, Link-ext-p-lower, Link-ext-p-upper, Store-ext-e-lower, Store-ext-e-upper, Store-energy_balance were not assigned to the network.\n"
     ]
    },
    {
     "name": "stdout",
     "output_type": "stream",
     "text": [
      "7    36.2s\n",
      " L       0       0         0   0.00%   881206880.8449  920189297.3149     4.24%       14      9      0     70768    65.2s\n",
      "         1       0         0 100.00%   920189011.2045  920189297.3149     0.00%       14      7      0    107868    74.1s\n",
      "\n",
      "Solving report\n",
      "  Status            Optimal\n",
      "  Primal bound      920189297.315\n",
      "  Dual bound        920189011.205\n",
      "  Gap               3.1e-05% (tolerance: 0.01%)\n",
      "  Solution status   feasible\n",
      "                    920189297.315 (objective)\n",
      "                    0 (bound viol.)\n",
      "                    0 (int. viol.)\n",
      "                    0 (row viol.)\n",
      "  Timing            74.09 (total)\n",
      "                    0.30 (presolve)\n",
      "                    0.00 (postsolve)\n",
      "  Nodes             1\n",
      "  LP iterations     107868 (total)\n",
      "                    12004 (strong br.)\n",
      "                    9 (separation)\n",
      "                    20623 (heuristics)\n",
      "Writing the solution to /tmp/linopy-solve-d6q_tz3c.sol\n"
     ]
    },
    {
     "name": "stderr",
     "output_type": "stream",
     "text": [
      "INFO:pypsa.io:Exported network network.nc has stores, carriers, loads, buses, generators, links\n",
      "INFO:pypsa.io:Imported network network.nc has buses, carriers, generators, links, loads, stores\n",
      "/home/viktor/code/pypsa-vgr/generator/library/output_files.py:289: FutureWarning:\n",
      "\n",
      "A value is trying to be set on a copy of a DataFrame or Series through chained assignment using an inplace method.\n",
      "The behavior will change in pandas 3.0. This inplace method will never work because the intermediate object on which we are setting values always behaves as a copy.\n",
      "\n",
      "For example, when doing 'df[col].method(value, inplace=True)', try using 'df.method({col: value}, inplace=True)' or df[col] = df[col].method(value) instead, to perform the operation inplace on the original object.\n",
      "\n",
      "\n",
      "\n"
     ]
    },
    {
     "name": "stdout",
     "output_type": "stream",
     "text": [
      "14 out of 120: ('14', 2030, 1, 1, True, True, 1200)\n",
      "Create and store parameters\n",
      "Check weather files\n",
      "Check renewables data\n",
      "Create and store demand\n",
      "Create and store network\n",
      "Using config:\n",
      "\th2:True\n",
      "\toffwind:True\n",
      "\tbiogas:1800\n"
     ]
    },
    {
     "name": "stderr",
     "output_type": "stream",
     "text": [
      "INFO:pypsa.io:Exported network network.nc has stores, carriers, loads, buses, generators, links\n"
     ]
    },
    {
     "name": "stdout",
     "output_type": "stream",
     "text": [
      "Run optimization\n"
     ]
    },
    {
     "name": "stderr",
     "output_type": "stream",
     "text": [
      "INFO:pypsa.io:Imported network network.nc has buses, carriers, generators, links, loads, stores\n",
      "INFO:linopy.model: Solve problem using Highs solver\n",
      "INFO:linopy.io:Writing objective.\n",
      "Writing constraints.: 100%|\u001b[38;2;128;191;255m██████████\u001b[0m| 17/17 [00:00<00:00, 32.83it/s]\n",
      "Writing continuous variables.: 100%|\u001b[38;2;128;191;255m██████████\u001b[0m| 9/9 [00:00<00:00, 91.83it/s]\n",
      "Writing integer variables.: 100%|\u001b[38;2;128;191;255m██████████\u001b[0m| 2/2 [00:00<00:00, 782.01it/s]\n",
      "INFO:linopy.io: Writing time: 0.66s\n",
      "INFO:linopy.solvers:Log file at /tmp/highs.log\n"
     ]
    },
    {
     "name": "stdout",
     "output_type": "stream",
     "text": [
      "Running HiGHS 1.7.2 (git hash: 184e327): Copyright (c) 2024 HiGHS under MIT licence terms\n"
     ]
    },
    {
     "name": "stderr",
     "output_type": "stream",
     "text": [
      "INFO:linopy.constants: Optimization successful: \n",
      "Status: ok\n",
      "Termination condition: optimal\n",
      "Solution: 46739 primals, 105141 duals\n",
      "Objective: 9.20e+08\n",
      "Solver model: available\n",
      "Solver message: optimal\n",
      "\n",
      "INFO:pypsa.optimization.optimize:The shadow-prices of the constraints Generator-ext-p-lower, Generator-ext-p-upper, Link-ext-p-lower, Link-ext-p-upper, Store-ext-e-lower, Store-ext-e-upper, Store-energy_balance were not assigned to the network.\n"
     ]
    },
    {
     "name": "stdout",
     "output_type": "stream",
     "text": [
      "Coefficient ranges:\n",
      "  Matrix [4e-06, 3e+02]\n",
      "  Cost   [6e+01, 2e+06]\n",
      "  Bound  [0e+00, 0e+00]\n",
      "  RHS    [7e+01, 2e+03]\n",
      "Presolving model\n",
      "48184 rows, 42352 cols, 127032 nonzeros  0s\n",
      "38071 rows, 32239 cols, 117366 nonzeros  0s\n",
      "37991 rows, 32159 cols, 117722 nonzeros  0s\n",
      "\n",
      "Solving MIP model with:\n",
      "   37991 rows\n",
      "   32159 cols (0 binary, 5 integer, 0 implied int., 32154 continuous)\n",
      "   117722 nonzeros\n",
      "\n",
      "        Nodes      |    B&B Tree     |            Objective Bounds              |  Dynamic Constraints |       Work      \n",
      "     Proc. InQueue |  Leaves   Expl. | BestBound       BestSol              Gap |   Cuts   InLp Confl. | LpIters     Time\n",
      "\n",
      "         0       0         0   0.00%   -inf            inf                  inf        0      0      0         0     0.3s\n",
      " S       0       0         0   0.00%   -inf            942662450.8342     Large        0      0      0         0    22.3s\n",
      " R       0       0         0   0.00%   881206825.387   923214740.7096     4.55%        0      0      0     70759    23.4s\n",
      "         0       0         0   0.00%   881206878.2132  923214740.7096     4.55%       14      8      0     70767    29.1s\n",
      " L       0       0         0   0.00%   881206880.8449  920189297.3149     4.24%       14      9      0     70768    52.0s\n",
      "         1       0         0 100.00%   920189011.2045  920189297.3149     0.00%       14      7      0    107868    60.9s\n",
      "\n",
      "Solving report\n",
      "  Status            Optimal\n",
      "  Primal bound      920189297.315\n",
      "  Dual bound        920189011.205\n",
      "  Gap               3.1e-05% (tolerance: 0.01%)\n",
      "  Solution status   feasible\n",
      "                    920189297.315 (objective)\n",
      "                    0 (bound viol.)\n",
      "                    0 (int. viol.)\n",
      "                    0 (row viol.)\n",
      "  Timing            60.94 (total)\n",
      "                    0.25 (presolve)\n",
      "                    0.00 (postsolve)\n",
      "  Nodes             1\n",
      "  LP iterations     107868 (total)\n",
      "                    12004 (strong br.)\n",
      "                    9 (separation)\n",
      "                    20623 (heuristics)\n",
      "Writing the solution to /tmp/linopy-solve-5rwo4f7y.sol\n"
     ]
    },
    {
     "name": "stderr",
     "output_type": "stream",
     "text": [
      "INFO:pypsa.io:Exported network network.nc has stores, carriers, loads, buses, generators, links\n",
      "INFO:pypsa.io:Imported network network.nc has buses, carriers, generators, links, loads, stores\n",
      "/home/viktor/code/pypsa-vgr/generator/library/output_files.py:289: FutureWarning:\n",
      "\n",
      "A value is trying to be set on a copy of a DataFrame or Series through chained assignment using an inplace method.\n",
      "The behavior will change in pandas 3.0. This inplace method will never work because the intermediate object on which we are setting values always behaves as a copy.\n",
      "\n",
      "For example, when doing 'df[col].method(value, inplace=True)', try using 'df.method({col: value}, inplace=True)' or df[col] = df[col].method(value) instead, to perform the operation inplace on the original object.\n",
      "\n",
      "\n",
      "\n"
     ]
    },
    {
     "name": "stdout",
     "output_type": "stream",
     "text": [
      "15 out of 120: ('14', 2030, 1, 1, True, True, 1800)\n",
      "Create and store parameters\n",
      "Check weather files\n",
      "Check renewables data\n",
      "Create and store demand\n",
      "Create and store network\n",
      "Using config:\n",
      "\th2:True\n",
      "\toffwind:True\n",
      "\tbiogas:0\n"
     ]
    },
    {
     "name": "stderr",
     "output_type": "stream",
     "text": [
      "INFO:pypsa.io:Exported network network.nc has stores, carriers, loads, buses, generators, links\n"
     ]
    },
    {
     "name": "stdout",
     "output_type": "stream",
     "text": [
      "Run optimization\n"
     ]
    },
    {
     "name": "stderr",
     "output_type": "stream",
     "text": [
      "INFO:pypsa.io:Imported network network.nc has buses, carriers, generators, links, loads, stores\n",
      "INFO:linopy.model: Solve problem using Highs solver\n",
      "INFO:linopy.io:Writing objective.\n",
      "Writing constraints.: 100%|\u001b[38;2;128;191;255m██████████\u001b[0m| 17/17 [00:00<00:00, 35.41it/s]\n",
      "Writing continuous variables.: 100%|\u001b[38;2;128;191;255m██████████\u001b[0m| 9/9 [00:00<00:00, 99.45it/s]\n",
      "Writing integer variables.: 100%|\u001b[38;2;128;191;255m██████████\u001b[0m| 2/2 [00:00<00:00, 760.11it/s]\n",
      "INFO:linopy.io: Writing time: 0.61s\n",
      "INFO:linopy.solvers:Log file at /tmp/highs.log\n"
     ]
    },
    {
     "name": "stdout",
     "output_type": "stream",
     "text": [
      "Running HiGHS 1.7.2 (git hash: 184e327): Copyright (c) 2024 HiGHS under MIT licence terms\n"
     ]
    },
    {
     "name": "stderr",
     "output_type": "stream",
     "text": [
      "INFO:linopy.constants: Optimization successful: \n",
      "Status: ok\n",
      "Termination condition: optimal\n",
      "Solution: 40897 primals, 90538 duals\n",
      "Objective: 3.20e+09\n",
      "Solver model: available\n",
      "Solver message: optimal\n",
      "\n",
      "INFO:pypsa.optimization.optimize:The shadow-prices of the constraints Generator-ext-p-lower, Generator-ext-p-upper, Link-ext-p-lower, Link-ext-p-upper, Store-ext-e-lower, Store-ext-e-upper, Store-energy_balance were not assigned to the network.\n"
     ]
    },
    {
     "name": "stdout",
     "output_type": "stream",
     "text": [
      "Coefficient ranges:\n",
      "  Matrix [4e-06, 3e+02]\n",
      "  Cost   [6e+01, 2e+06]\n",
      "  Bound  [0e+00, 0e+00]\n",
      "  RHS    [2e+02, 5e+02]\n",
      "Presolving model\n",
      "45264 rows, 36512 cols, 118272 nonzeros  0s\n",
      "37991 rows, 29239 cols, 111910 nonzeros  0s\n",
      "37991 rows, 29239 cols, 111910 nonzeros  0s\n",
      "\n",
      "Solving MIP model with:\n",
      "   37991 rows\n",
      "   29239 cols (0 binary, 5 integer, 0 implied int., 29234 continuous)\n",
      "   111910 nonzeros\n",
      "\n",
      "        Nodes      |    B&B Tree     |            Objective Bounds              |  Dynamic Constraints |       Work      \n",
      "     Proc. InQueue |  Leaves   Expl. | BestBound       BestSol              Gap |   Cuts   InLp Confl. | LpIters     Time\n",
      "\n",
      "         0       0         0   0.00%   -inf            inf                  inf        0      0      0         0     0.2s\n",
      " S       0       0         0   0.00%   -inf            3202174890.972     Large        0      0      0         0     8.4s\n",
      " R       0       0         0   0.00%   3201783019.451  3201800772.013     0.00%        0      0      0     39853     8.8s\n",
      "\n",
      "Solving report\n",
      "  Status            Optimal\n",
      "  Primal bound      3201800772.01\n",
      "  Dual bound        3201783019.45\n",
      "  Gap               0.000554% (tolerance: 0.01%)\n",
      "  Solution status   feasible\n",
      "                    3201800772.01 (objective)\n",
      "                    0 (bound viol.)\n",
      "                    1.74537207335e-19 (int. viol.)\n",
      "                    0 (row viol.)\n",
      "  Timing            8.78 (total)\n",
      "                    0.18 (presolve)\n",
      "                    0.00 (postsolve)\n",
      "  Nodes             1\n",
      "  LP iterations     39853 (total)\n",
      "                    0 (strong br.)\n",
      "                    0 (separation)\n",
      "                    0 (heuristics)\n",
      "Writing the solution to /tmp/linopy-solve-d0b0mc2q.sol\n"
     ]
    },
    {
     "name": "stderr",
     "output_type": "stream",
     "text": [
      "INFO:pypsa.io:Exported network network.nc has stores, carriers, loads, buses, generators, links\n",
      "INFO:pypsa.io:Imported network network.nc has buses, carriers, generators, links, loads, stores\n",
      "/home/viktor/code/pypsa-vgr/generator/library/output_files.py:289: FutureWarning:\n",
      "\n",
      "A value is trying to be set on a copy of a DataFrame or Series through chained assignment using an inplace method.\n",
      "The behavior will change in pandas 3.0. This inplace method will never work because the intermediate object on which we are setting values always behaves as a copy.\n",
      "\n",
      "For example, when doing 'df[col].method(value, inplace=True)', try using 'df.method({col: value}, inplace=True)' or df[col] = df[col].method(value) instead, to perform the operation inplace on the original object.\n",
      "\n",
      "\n",
      "\n"
     ]
    },
    {
     "name": "stdout",
     "output_type": "stream",
     "text": [
      "16 out of 120: ('14', 2030, 1, 2.5, True, True, 0)\n",
      "Create and store parameters\n",
      "Check weather files\n",
      "Check renewables data\n",
      "Create and store demand\n",
      "Create and store network\n",
      "Using config:\n",
      "\th2:True\n",
      "\toffwind:True\n",
      "\tbiogas:300\n"
     ]
    },
    {
     "name": "stderr",
     "output_type": "stream",
     "text": [
      "INFO:pypsa.io:Exported network network.nc has stores, carriers, loads, buses, generators, links\n"
     ]
    },
    {
     "name": "stdout",
     "output_type": "stream",
     "text": [
      "Run optimization\n"
     ]
    },
    {
     "name": "stderr",
     "output_type": "stream",
     "text": [
      "INFO:pypsa.io:Imported network network.nc has buses, carriers, generators, links, loads, stores\n",
      "INFO:linopy.model: Solve problem using Highs solver\n",
      "INFO:linopy.io:Writing objective.\n",
      "Writing constraints.: 100%|\u001b[38;2;128;191;255m██████████\u001b[0m| 17/17 [00:00<00:00, 33.08it/s]\n",
      "Writing continuous variables.: 100%|\u001b[38;2;128;191;255m██████████\u001b[0m| 9/9 [00:00<00:00, 100.77it/s]\n",
      "Writing integer variables.: 100%|\u001b[38;2;128;191;255m██████████\u001b[0m| 2/2 [00:00<00:00, 792.50it/s]\n",
      "INFO:linopy.io: Writing time: 0.64s\n",
      "INFO:linopy.solvers:Log file at /tmp/highs.log\n"
     ]
    },
    {
     "name": "stdout",
     "output_type": "stream",
     "text": [
      "Running HiGHS 1.7.2 (git hash: 184e327): Copyright (c) 2024 HiGHS under MIT licence terms\n",
      "Coefficient ranges:\n",
      "  Matrix [4e-06, 3e+02]\n",
      "  Cost   [6e+01, 2e+06]\n",
      "  Bound  [0e+00, 0e+00]\n",
      "  RHS    [2e+02, 5e+02]\n",
      "Presolving model\n",
      "48184 rows, 42352 cols, 127032 nonzeros  0s\n",
      "38071 rows, 32239 cols, 117366 nonzeros  0s\n",
      "37991 rows, 32159 cols, 117722 nonzeros  0s\n",
      "\n",
      "Solving MIP model with:\n",
      "   37991 rows\n",
      "   32159 cols (0 binary, 5 integer, 0 implied int., 32154 continuous)\n",
      "   117722 nonzeros\n",
      "\n",
      "        Nodes      |    B&B Tree     |            Objective Bounds              |  Dynamic Constraints |       Work      \n",
      "     Proc. InQueue |  Leaves   Expl. | BestBound       BestSol              Gap |   Cuts   InLp Confl. | LpIters     Time\n",
      "\n",
      "         0       0         0   0.00%   -inf            inf                  inf        0      0      0         0     0.2s\n",
      " S       0       0         0   0.00%   -inf            2282561244.717     Large        0      0      0         0    21.6s\n",
      " R       0       0         0   0.00%   2280764719.213  2280828970.502     0.00%        0      0      0     72478    21.8s\n",
      "\n",
      "Solving report\n",
      "  Status            Optimal\n",
      "  Primal bound      2280828970.5\n",
      "  Dual bound        2280764719.21\n"
     ]
    },
    {
     "name": "stderr",
     "output_type": "stream",
     "text": [
      "INFO:linopy.constants: Optimization successful: \n",
      "Status: ok\n",
      "Termination condition: optimal\n",
      "Solution: 46739 primals, 105141 duals\n",
      "Objective: 2.28e+09\n",
      "Solver model: available\n",
      "Solver message: optimal\n",
      "\n",
      "INFO:pypsa.optimization.optimize:The shadow-prices of the constraints Generator-ext-p-lower, Generator-ext-p-upper, Link-ext-p-lower, Link-ext-p-upper, Store-ext-e-lower, Store-ext-e-upper, Store-energy_balance were not assigned to the network.\n"
     ]
    },
    {
     "name": "stdout",
     "output_type": "stream",
     "text": [
      "  Gap               0.00282% (tolerance: 0.01%)\n",
      "  Solution status   feasible\n",
      "                    2280828970.5 (objective)\n",
      "                    0 (bound viol.)\n",
      "                    0 (int. viol.)\n",
      "                    0 (row viol.)\n",
      "  Timing            21.85 (total)\n",
      "                    0.22 (presolve)\n",
      "                    0.00 (postsolve)\n",
      "  Nodes             1\n",
      "  LP iterations     72478 (total)\n",
      "                    0 (strong br.)\n",
      "                    0 (separation)\n",
      "                    0 (heuristics)\n",
      "Writing the solution to /tmp/linopy-solve-7kp2kix9.sol\n"
     ]
    },
    {
     "name": "stderr",
     "output_type": "stream",
     "text": [
      "INFO:pypsa.io:Exported network network.nc has stores, carriers, loads, buses, generators, links\n",
      "INFO:pypsa.io:Imported network network.nc has buses, carriers, generators, links, loads, stores\n",
      "/home/viktor/code/pypsa-vgr/generator/library/output_files.py:289: FutureWarning:\n",
      "\n",
      "A value is trying to be set on a copy of a DataFrame or Series through chained assignment using an inplace method.\n",
      "The behavior will change in pandas 3.0. This inplace method will never work because the intermediate object on which we are setting values always behaves as a copy.\n",
      "\n",
      "For example, when doing 'df[col].method(value, inplace=True)', try using 'df.method({col: value}, inplace=True)' or df[col] = df[col].method(value) instead, to perform the operation inplace on the original object.\n",
      "\n",
      "\n",
      "\n"
     ]
    },
    {
     "name": "stdout",
     "output_type": "stream",
     "text": [
      "17 out of 120: ('14', 2030, 1, 2.5, True, True, 300)\n",
      "Create and store parameters\n",
      "Check weather files\n",
      "Check renewables data\n",
      "Create and store demand\n",
      "Create and store network\n",
      "Using config:\n",
      "\th2:True\n",
      "\toffwind:True\n",
      "\tbiogas:600\n"
     ]
    },
    {
     "name": "stderr",
     "output_type": "stream",
     "text": [
      "INFO:pypsa.io:Exported network network.nc has stores, carriers, loads, buses, generators, links\n"
     ]
    },
    {
     "name": "stdout",
     "output_type": "stream",
     "text": [
      "Run optimization\n"
     ]
    },
    {
     "name": "stderr",
     "output_type": "stream",
     "text": [
      "INFO:pypsa.io:Imported network network.nc has buses, carriers, generators, links, loads, stores\n",
      "INFO:linopy.model: Solve problem using Highs solver\n",
      "INFO:linopy.io:Writing objective.\n",
      "Writing constraints.: 100%|\u001b[38;2;128;191;255m██████████\u001b[0m| 17/17 [00:00<00:00, 26.10it/s]\n",
      "Writing continuous variables.: 100%|\u001b[38;2;128;191;255m██████████\u001b[0m| 9/9 [00:00<00:00, 76.78it/s]\n",
      "Writing integer variables.: 100%|\u001b[38;2;128;191;255m██████████\u001b[0m| 2/2 [00:00<00:00, 467.07it/s]\n",
      "INFO:linopy.io: Writing time: 0.82s\n",
      "INFO:linopy.solvers:Log file at /tmp/highs.log\n"
     ]
    },
    {
     "name": "stdout",
     "output_type": "stream",
     "text": [
      "Running HiGHS 1.7.2 (git hash: 184e327): Copyright (c) 2024 HiGHS under MIT licence terms\n",
      "Coefficient ranges:\n",
      "  Matrix [4e-06, 3e+02]\n",
      "  Cost   [6e+01, 2e+06]\n",
      "  Bound  [0e+00, 0e+00]\n",
      "  RHS    [2e+02, 6e+02]\n"
     ]
    },
    {
     "name": "stderr",
     "output_type": "stream",
     "text": [
      "INFO:linopy.constants: Optimization successful: \n",
      "Status: ok\n",
      "Termination condition: optimal\n",
      "Solution: 46739 primals, 105141 duals\n",
      "Objective: 2.16e+09\n",
      "Solver model: available\n",
      "Solver message: optimal\n",
      "\n",
      "INFO:pypsa.optimization.optimize:The shadow-prices of the constraints Generator-ext-p-lower, Generator-ext-p-upper, Link-ext-p-lower, Link-ext-p-upper, Store-ext-e-lower, Store-ext-e-upper, Store-energy_balance were not assigned to the network.\n"
     ]
    },
    {
     "name": "stdout",
     "output_type": "stream",
     "text": [
      "Presolving model\n",
      "48184 rows, 42352 cols, 127032 nonzeros  0s\n",
      "38071 rows, 32239 cols, 117366 nonzeros  0s\n",
      "37991 rows, 32159 cols, 117722 nonzeros  0s\n",
      "\n",
      "Solving MIP model with:\n",
      "   37991 rows\n",
      "   32159 cols (0 binary, 5 integer, 0 implied int., 32154 continuous)\n",
      "   117722 nonzeros\n",
      "\n",
      "        Nodes      |    B&B Tree     |            Objective Bounds              |  Dynamic Constraints |       Work      \n",
      "     Proc. InQueue |  Leaves   Expl. | BestBound       BestSol              Gap |   Cuts   InLp Confl. | LpIters     Time\n",
      "\n",
      "         0       0         0   0.00%   -inf            inf                  inf        0      0      0         0     0.3s\n",
      " S       0       0         0   0.00%   -inf            2226363276.449     Large        0      0      0         0    18.6s\n",
      " R       0       0         0   0.00%   2081644580.97   2167274869.356     3.95%        0      0      0     60434    19.6s\n",
      "         0       0         0   0.00%   2082805465.439  2167274869.356     3.90%      615      9      0     60590    24.9s\n",
      " L       0       0         0   0.00%   2084807525.671  2162649077.177     3.60%      618     20      0     61163    48.0s\n",
      "         1       0         0 100.00%   2162648643.696  2162649077.177     0.00%      618     15      0     89721    54.4s\n",
      "\n",
      "Solving report\n",
      "  Status            Optimal\n",
      "  Primal bound      2162649077.18\n",
      "  Dual bound        2162648643.7\n",
      "  Gap               2e-05% (tolerance: 0.01%)\n",
      "  Solution status   feasible\n",
      "                    2162649077.18 (objective)\n",
      "                    0 (bound viol.)\n",
      "                    0 (int. viol.)\n",
      "                    0 (row viol.)\n",
      "  Timing            54.36 (total)\n",
      "                    0.23 (presolve)\n",
      "                    0.00 (postsolve)\n",
      "  Nodes             1\n",
      "  LP iterations     89721 (total)\n",
      "                    5552 (strong br.)\n",
      "                    730 (separation)\n",
      "                    19401 (heuristics)\n",
      "Writing the solution to /tmp/linopy-solve-geynpg3o.sol\n"
     ]
    },
    {
     "name": "stderr",
     "output_type": "stream",
     "text": [
      "INFO:pypsa.io:Exported network network.nc has stores, carriers, loads, buses, generators, links\n",
      "INFO:pypsa.io:Imported network network.nc has buses, carriers, generators, links, loads, stores\n",
      "/home/viktor/code/pypsa-vgr/generator/library/output_files.py:289: FutureWarning:\n",
      "\n",
      "A value is trying to be set on a copy of a DataFrame or Series through chained assignment using an inplace method.\n",
      "The behavior will change in pandas 3.0. This inplace method will never work because the intermediate object on which we are setting values always behaves as a copy.\n",
      "\n",
      "For example, when doing 'df[col].method(value, inplace=True)', try using 'df.method({col: value}, inplace=True)' or df[col] = df[col].method(value) instead, to perform the operation inplace on the original object.\n",
      "\n",
      "\n",
      "\n"
     ]
    },
    {
     "name": "stdout",
     "output_type": "stream",
     "text": [
      "18 out of 120: ('14', 2030, 1, 2.5, True, True, 600)\n",
      "Create and store parameters\n",
      "Check weather files\n",
      "Check renewables data\n",
      "Create and store demand\n",
      "Create and store network\n",
      "Using config:\n",
      "\th2:True\n",
      "\toffwind:True\n",
      "\tbiogas:1200\n"
     ]
    },
    {
     "name": "stderr",
     "output_type": "stream",
     "text": [
      "INFO:pypsa.io:Exported network network.nc has stores, carriers, loads, buses, generators, links\n",
      "INFO:pypsa.io:Imported network network.nc has buses, carriers, generators, links, loads, stores\n"
     ]
    },
    {
     "name": "stdout",
     "output_type": "stream",
     "text": [
      "Run optimization\n"
     ]
    },
    {
     "name": "stderr",
     "output_type": "stream",
     "text": [
      "INFO:linopy.model: Solve problem using Highs solver\n",
      "INFO:linopy.io:Writing objective.\n",
      "Writing constraints.: 100%|\u001b[38;2;128;191;255m██████████\u001b[0m| 17/17 [00:00<00:00, 34.50it/s]\n",
      "Writing continuous variables.: 100%|\u001b[38;2;128;191;255m██████████\u001b[0m| 9/9 [00:00<00:00, 104.07it/s]\n",
      "Writing integer variables.: 100%|\u001b[38;2;128;191;255m██████████\u001b[0m| 2/2 [00:00<00:00, 682.72it/s]\n",
      "INFO:linopy.io: Writing time: 0.62s\n",
      "INFO:linopy.solvers:Log file at /tmp/highs.log\n"
     ]
    },
    {
     "name": "stdout",
     "output_type": "stream",
     "text": [
      "Running HiGHS 1.7.2 (git hash: 184e327): Copyright (c) 2024 HiGHS under MIT licence terms\n",
      "Coefficient ranges:\n",
      "  Matrix [4e-06, 3e+02]\n",
      "  Cost   [6e+01, 2e+06]\n",
      "  Bound  [0e+00, 0e+00]\n",
      "  RHS    [2e+02, 1e+03]\n",
      "Presolving model\n",
      "48184 rows, 42352 cols, 127032 nonzeros  0s\n",
      "38071 rows, 32239 cols, 117366 nonzeros  0s\n",
      "37991 rows, 32159 cols, 117722 nonzeros  0s\n",
      "\n",
      "Solving MIP model with:\n",
      "   37991 rows\n",
      "   32159 cols (0 binary, 5 integer, 0 implied int., 32154 continuous)\n",
      "   117722 nonzeros\n",
      "\n",
      "        Nodes      |    B&B Tree     |            Objective Bounds              |  Dynamic Constraints |       Work      \n",
      "     Proc. InQueue |  Leaves   Expl. | BestBound       BestSol              Gap |   Cuts   InLp Confl. | LpIters     Time\n",
      "\n",
      "         0       0         0   0.00%   -inf            inf                  inf        0      0      0         0     0.3s\n",
      " S       0       0         0   0.00%   -inf            2226363276.449     Large        0      0      0         0    16.0s\n",
      " R       0       0         0   0.00%   2081644580.97   2167274869.356     3.95%        0      0      0     57969    17.3s\n",
      "         0       0         0   0.00%   2082805465.439  2167274869.356     3.90%      613      9      0     58203    22.4s\n",
      " L       0       0         0   0.00%   2084807525.671  2162649077.177     3.60%      618     20      0     58847    46.8s\n",
      "         1       0         0 100.00%   2162648643.696  2162649077.177     0.00%      618     15      0     90075    53.3s\n",
      "\n",
      "Solving report\n",
      "  Status            Optimal\n",
      "  Primal bound      2162649077.18\n",
      "  Dual bound        2162648643.7\n",
      "  Gap               2e-05% (tolerance: 0.01%)\n",
      "  Solution status   feasible\n",
      "                    2162649077.18 (objective)\n",
      "                    0 (bound viol.)\n",
      "                    0 (int. viol.)\n",
      "                    0 (row viol.)\n",
      "  Timing            53.27 (total)\n",
      "                    0.23 (presolve)\n",
      "                    0.00 (postsolve)\n",
      "  Nodes             1\n",
      "  LP iterations     90075 (total)\n",
      "                    5749 (strong br.)\n",
      "                    880 (separation)\n",
      "                    21654 (heuristics)\n",
      "Writing the solution to /tmp/linopy-solve-nb87cqcp.sol\n"
     ]
    },
    {
     "name": "stderr",
     "output_type": "stream",
     "text": [
      "INFO:linopy.constants: Optimization successful: \n",
      "Status: ok\n",
      "Termination condition: optimal\n",
      "Solution: 46739 primals, 105141 duals\n",
      "Objective: 2.16e+09\n",
      "Solver model: available\n",
      "Solver message: optimal\n",
      "\n",
      "INFO:pypsa.optimization.optimize:The shadow-prices of the constraints Generator-ext-p-lower, Generator-ext-p-upper, Link-ext-p-lower, Link-ext-p-upper, Store-ext-e-lower, Store-ext-e-upper, Store-energy_balance were not assigned to the network.\n",
      "INFO:pypsa.io:Exported network network.nc has stores, carriers, loads, buses, generators, links\n",
      "INFO:pypsa.io:Imported network network.nc has buses, carriers, generators, links, loads, stores\n",
      "/home/viktor/code/pypsa-vgr/generator/library/output_files.py:289: FutureWarning:\n",
      "\n",
      "A value is trying to be set on a copy of a DataFrame or Series through chained assignment using an inplace method.\n",
      "The behavior will change in pandas 3.0. This inplace method will never work because the intermediate object on which we are setting values always behaves as a copy.\n",
      "\n",
      "For example, when doing 'df[col].method(value, inplace=True)', try using 'df.method({col: value}, inplace=True)' or df[col] = df[col].method(value) instead, to perform the operation inplace on the original object.\n",
      "\n",
      "\n",
      "\n"
     ]
    },
    {
     "name": "stdout",
     "output_type": "stream",
     "text": [
      "19 out of 120: ('14', 2030, 1, 2.5, True, True, 1200)\n",
      "Create and store parameters\n",
      "Check weather files\n",
      "Check renewables data\n",
      "Create and store demand\n",
      "Create and store network\n",
      "Using config:\n",
      "\th2:True\n",
      "\toffwind:True\n",
      "\tbiogas:1800\n"
     ]
    },
    {
     "name": "stderr",
     "output_type": "stream",
     "text": [
      "INFO:pypsa.io:Exported network network.nc has stores, carriers, loads, buses, generators, links\n"
     ]
    },
    {
     "name": "stdout",
     "output_type": "stream",
     "text": [
      "Run optimization\n"
     ]
    },
    {
     "name": "stderr",
     "output_type": "stream",
     "text": [
      "INFO:pypsa.io:Imported network network.nc has buses, carriers, generators, links, loads, stores\n",
      "INFO:linopy.model: Solve problem using Highs solver\n",
      "INFO:linopy.io:Writing objective.\n",
      "Writing constraints.: 100%|\u001b[38;2;128;191;255m██████████\u001b[0m| 17/17 [00:00<00:00, 34.06it/s]\n",
      "Writing continuous variables.: 100%|\u001b[38;2;128;191;255m██████████\u001b[0m| 9/9 [00:00<00:00, 104.35it/s]\n",
      "Writing integer variables.: 100%|\u001b[38;2;128;191;255m██████████\u001b[0m| 2/2 [00:00<00:00, 670.93it/s]\n",
      "INFO:linopy.io: Writing time: 0.63s\n",
      "INFO:linopy.solvers:Log file at /tmp/highs.log\n"
     ]
    },
    {
     "name": "stdout",
     "output_type": "stream",
     "text": [
      "Running HiGHS 1.7.2 (git hash: 184e327): Copyright (c) 2024 HiGHS under MIT licence terms\n"
     ]
    },
    {
     "name": "stderr",
     "output_type": "stream",
     "text": [
      "INFO:linopy.constants: Optimization successful: \n",
      "Status: ok\n",
      "Termination condition: optimal\n",
      "Solution: 46739 primals, 105141 duals\n",
      "Objective: 2.16e+09\n",
      "Solver model: available\n",
      "Solver message: optimal\n",
      "\n",
      "INFO:pypsa.optimization.optimize:The shadow-prices of the constraints Generator-ext-p-lower, Generator-ext-p-upper, Link-ext-p-lower, Link-ext-p-upper, Store-ext-e-lower, Store-ext-e-upper, Store-energy_balance were not assigned to the network.\n"
     ]
    },
    {
     "name": "stdout",
     "output_type": "stream",
     "text": [
      "Coefficient ranges:\n",
      "  Matrix [4e-06, 3e+02]\n",
      "  Cost   [6e+01, 2e+06]\n",
      "  Bound  [0e+00, 0e+00]\n",
      "  RHS    [2e+02, 2e+03]\n",
      "Presolving model\n",
      "48184 rows, 42352 cols, 127032 nonzeros  0s\n",
      "38071 rows, 32239 cols, 117366 nonzeros  0s\n",
      "37991 rows, 32159 cols, 117722 nonzeros  0s\n",
      "\n",
      "Solving MIP model with:\n",
      "   37991 rows\n",
      "   32159 cols (0 binary, 5 integer, 0 implied int., 32154 continuous)\n",
      "   117722 nonzeros\n",
      "\n",
      "        Nodes      |    B&B Tree     |            Objective Bounds              |  Dynamic Constraints |       Work      \n",
      "     Proc. InQueue |  Leaves   Expl. | BestBound       BestSol              Gap |   Cuts   InLp Confl. | LpIters     Time\n",
      "\n",
      "         0       0         0   0.00%   -inf            inf                  inf        0      0      0         0     0.2s\n",
      " S       0       0         0   0.00%   -inf            2226363276.449     Large        0      0      0         0    15.9s\n",
      " R       0       0         0   0.00%   2081644580.97   2167274869.356     3.95%        0      0      0     57969    17.3s\n",
      "         0       0         0   0.00%   2082805465.439  2167274869.356     3.90%      613      9      0     58203    22.4s\n",
      " L       0       0         0   0.00%   2084807525.671  2162649077.177     3.60%      618     20      0     58847    47.8s\n",
      "         1       0         0 100.00%   2162648643.696  2162649077.177     0.00%      618     15      0     90075    54.6s\n",
      "\n",
      "Solving report\n",
      "  Status            Optimal\n",
      "  Primal bound      2162649077.18\n",
      "  Dual bound        2162648643.7\n",
      "  Gap               2e-05% (tolerance: 0.01%)\n",
      "  Solution status   feasible\n",
      "                    2162649077.18 (objective)\n",
      "                    0 (bound viol.)\n",
      "                    0 (int. viol.)\n",
      "                    0 (row viol.)\n",
      "  Timing            54.61 (total)\n",
      "                    0.18 (presolve)\n",
      "                    0.00 (postsolve)\n",
      "  Nodes             1\n",
      "  LP iterations     90075 (total)\n",
      "                    5749 (strong br.)\n",
      "                    880 (separation)\n",
      "                    21654 (heuristics)\n",
      "Writing the solution to /tmp/linopy-solve-hg50jgka.sol\n"
     ]
    },
    {
     "name": "stderr",
     "output_type": "stream",
     "text": [
      "INFO:pypsa.io:Exported network network.nc has stores, carriers, loads, buses, generators, links\n",
      "INFO:pypsa.io:Imported network network.nc has buses, carriers, generators, links, loads, stores\n",
      "/home/viktor/code/pypsa-vgr/generator/library/output_files.py:289: FutureWarning:\n",
      "\n",
      "A value is trying to be set on a copy of a DataFrame or Series through chained assignment using an inplace method.\n",
      "The behavior will change in pandas 3.0. This inplace method will never work because the intermediate object on which we are setting values always behaves as a copy.\n",
      "\n",
      "For example, when doing 'df[col].method(value, inplace=True)', try using 'df.method({col: value}, inplace=True)' or df[col] = df[col].method(value) instead, to perform the operation inplace on the original object.\n",
      "\n",
      "\n",
      "\n"
     ]
    },
    {
     "name": "stdout",
     "output_type": "stream",
     "text": [
      "20 out of 120: ('14', 2030, 1, 2.5, True, True, 1800)\n",
      "Create and store parameters\n",
      "Check weather files\n",
      "Check renewables data\n",
      "Create and store demand\n",
      "Create and store network\n",
      "Using config:\n",
      "\th2:True\n",
      "\toffwind:True\n",
      "\tbiogas:0\n"
     ]
    },
    {
     "name": "stderr",
     "output_type": "stream",
     "text": [
      "INFO:pypsa.io:Exported network network.nc has stores, carriers, loads, buses, generators, links\n"
     ]
    },
    {
     "name": "stdout",
     "output_type": "stream",
     "text": [
      "Run optimization\n"
     ]
    },
    {
     "name": "stderr",
     "output_type": "stream",
     "text": [
      "INFO:pypsa.io:Imported network network.nc has buses, carriers, generators, links, loads, stores\n",
      "INFO:linopy.model: Solve problem using Highs solver\n",
      "INFO:linopy.io:Writing objective.\n",
      "Writing constraints.: 100%|\u001b[38;2;128;191;255m██████████\u001b[0m| 17/17 [00:00<00:00, 36.23it/s]\n",
      "Writing continuous variables.: 100%|\u001b[38;2;128;191;255m██████████\u001b[0m| 9/9 [00:00<00:00, 108.26it/s]\n",
      "Writing integer variables.: 100%|\u001b[38;2;128;191;255m██████████\u001b[0m| 2/2 [00:00<00:00, 749.72it/s]\n",
      "INFO:linopy.io: Writing time: 0.59s\n",
      "INFO:linopy.solvers:Log file at /tmp/highs.log\n"
     ]
    },
    {
     "name": "stdout",
     "output_type": "stream",
     "text": [
      "Running HiGHS 1.7.2 (git hash: 184e327): Copyright (c) 2024 HiGHS under MIT licence terms\n"
     ]
    },
    {
     "name": "stderr",
     "output_type": "stream",
     "text": [
      "INFO:linopy.constants: Optimization successful: \n",
      "Status: ok\n",
      "Termination condition: optimal\n",
      "Solution: 40897 primals, 90538 duals\n",
      "Objective: 4.80e+09\n",
      "Solver model: available\n",
      "Solver message: optimal\n",
      "\n",
      "INFO:pypsa.optimization.optimize:The shadow-prices of the constraints Generator-ext-p-lower, Generator-ext-p-upper, Link-ext-p-lower, Link-ext-p-upper, Store-ext-e-lower, Store-ext-e-upper, Store-energy_balance were not assigned to the network.\n"
     ]
    },
    {
     "name": "stdout",
     "output_type": "stream",
     "text": [
      "Coefficient ranges:\n",
      "  Matrix [4e-06, 3e+02]\n",
      "  Cost   [6e+01, 2e+06]\n",
      "  Bound  [0e+00, 0e+00]\n",
      "  RHS    [2e+02, 7e+02]\n",
      "Presolving model\n",
      "45264 rows, 36512 cols, 118272 nonzeros  0s\n",
      "37991 rows, 29239 cols, 111910 nonzeros  0s\n",
      "37991 rows, 29239 cols, 111910 nonzeros  0s\n",
      "\n",
      "Solving MIP model with:\n",
      "   37991 rows\n",
      "   29239 cols (0 binary, 5 integer, 0 implied int., 29234 continuous)\n",
      "   111910 nonzeros\n",
      "\n",
      "        Nodes      |    B&B Tree     |            Objective Bounds              |  Dynamic Constraints |       Work      \n",
      "     Proc. InQueue |  Leaves   Expl. | BestBound       BestSol              Gap |   Cuts   InLp Confl. | LpIters     Time\n",
      "\n",
      "         0       0         0   0.00%   -inf            inf                  inf        0      0      0         0     0.2s\n",
      " S       0       0         0   0.00%   -inf            4803110635.001     Large        0      0      0         0     9.1s\n",
      "\n",
      "Solving report\n",
      "  Status            Optimal\n",
      "  Primal bound      4803110635\n",
      "  Dual bound        4802674529.18\n",
      "  Gap               0.00908% (tolerance: 0.01%)\n",
      "  Solution status   feasible\n",
      "                    4803110635 (objective)\n",
      "                    0 (bound viol.)\n",
      "                    0 (int. viol.)\n",
      "                    0 (row viol.)\n",
      "  Timing            9.11 (total)\n",
      "                    0.20 (presolve)\n",
      "                    0.00 (postsolve)\n",
      "  Nodes             1\n",
      "  LP iterations     43488 (total)\n",
      "                    0 (strong br.)\n",
      "                    0 (separation)\n",
      "                    0 (heuristics)\n",
      "Writing the solution to /tmp/linopy-solve-qe6nqbgq.sol\n"
     ]
    },
    {
     "name": "stderr",
     "output_type": "stream",
     "text": [
      "INFO:pypsa.io:Exported network network.nc has stores, carriers, loads, buses, generators, links\n",
      "INFO:pypsa.io:Imported network network.nc has buses, carriers, generators, links, loads, stores\n",
      "/home/viktor/code/pypsa-vgr/generator/library/output_files.py:289: FutureWarning:\n",
      "\n",
      "A value is trying to be set on a copy of a DataFrame or Series through chained assignment using an inplace method.\n",
      "The behavior will change in pandas 3.0. This inplace method will never work because the intermediate object on which we are setting values always behaves as a copy.\n",
      "\n",
      "For example, when doing 'df[col].method(value, inplace=True)', try using 'df.method({col: value}, inplace=True)' or df[col] = df[col].method(value) instead, to perform the operation inplace on the original object.\n",
      "\n",
      "\n",
      "\n"
     ]
    },
    {
     "name": "stdout",
     "output_type": "stream",
     "text": [
      "21 out of 120: ('14', 2030, 1, 3.75, True, True, 0)\n",
      "Create and store parameters\n",
      "Check weather files\n",
      "Check renewables data\n",
      "Create and store demand\n",
      "Create and store network\n",
      "Using config:\n",
      "\th2:True\n",
      "\toffwind:True\n",
      "\tbiogas:300\n"
     ]
    },
    {
     "name": "stderr",
     "output_type": "stream",
     "text": [
      "INFO:pypsa.io:Exported network network.nc has stores, carriers, loads, buses, generators, links\n"
     ]
    },
    {
     "name": "stdout",
     "output_type": "stream",
     "text": [
      "Run optimization\n"
     ]
    },
    {
     "name": "stderr",
     "output_type": "stream",
     "text": [
      "INFO:pypsa.io:Imported network network.nc has buses, carriers, generators, links, loads, stores\n",
      "INFO:linopy.model: Solve problem using Highs solver\n",
      "INFO:linopy.io:Writing objective.\n",
      "Writing constraints.: 100%|\u001b[38;2;128;191;255m██████████\u001b[0m| 17/17 [00:00<00:00, 32.39it/s]\n",
      "Writing continuous variables.: 100%|\u001b[38;2;128;191;255m██████████\u001b[0m| 9/9 [00:00<00:00, 91.29it/s]\n",
      "Writing integer variables.: 100%|\u001b[38;2;128;191;255m██████████\u001b[0m| 2/2 [00:00<00:00, 801.74it/s]\n",
      "INFO:linopy.io: Writing time: 0.67s\n",
      "INFO:linopy.solvers:Log file at /tmp/highs.log\n"
     ]
    },
    {
     "name": "stdout",
     "output_type": "stream",
     "text": [
      "Running HiGHS 1.7.2 (git hash: 184e327): Copyright (c) 2024 HiGHS under MIT licence terms\n",
      "Coefficient ranges:\n",
      "  Matrix [4e-06, 3e+02]\n",
      "  Cost   [6e+01, 2e+06]\n",
      "  Bound  [0e+00, 0e+00]\n",
      "  RHS    [2e+02, 7e+02]\n",
      "Presolving model\n",
      "48184 rows, 42352 cols, 127032 nonzeros  0s\n",
      "38071 rows, 32239 cols, 117366 nonzeros  0s\n",
      "37991 rows, 32159 cols, 117722 nonzeros  0s\n",
      "\n",
      "Solving MIP model with:\n",
      "   37991 rows\n",
      "   32159 cols (0 binary, 5 integer, 0 implied int., 32154 continuous)\n",
      "   117722 nonzeros\n",
      "\n",
      "        Nodes      |    B&B Tree     |            Objective Bounds              |  Dynamic Constraints |       Work      \n",
      "     Proc. InQueue |  Leaves   Expl. | BestBound       BestSol              Gap |   Cuts   InLp Confl. | LpIters     Time\n",
      "\n",
      "         0       0         0   0.00%   -inf            inf                  inf        0      0      0         0     0.2s\n",
      " S       0       0         0   0.00%   -inf            3786783173.022     Large        0      0      0         0    17.3s\n",
      " R       0       0         0   0.00%   3785928415.029  3785930918.27      0.00%        0      0      0     56270    17.5s\n",
      "\n",
      "Solving report\n",
      "  Status            Optimal\n",
      "  Primal bound      3785930918.27\n",
      "  Dual bound        3785928415.03\n",
      "  Gap               6.6e-05% (tolerance: 0.01%)\n",
      "  Solution status   feasible\n",
      "                    3785930918.27 (objective)\n",
      "                    0 (bound viol.)\n",
      "                    0 (int. viol.)\n",
      "                    0 (row viol.)\n",
      "  Timing            17.47 (total)\n",
      "                    0.22 (presolve)\n",
      "                    0.00 (postsolve)\n",
      "  Nodes             1\n",
      "  LP iterations     56270 (total)\n",
      "                    0 (strong br.)\n",
      "                    0 (separation)\n",
      "                    0 (heuristics)\n",
      "Writing the solution to /tmp/linopy-solve-jx137l00.sol\n"
     ]
    },
    {
     "name": "stderr",
     "output_type": "stream",
     "text": [
      "INFO:linopy.constants: Optimization successful: \n",
      "Status: ok\n",
      "Termination condition: optimal\n",
      "Solution: 46739 primals, 105141 duals\n",
      "Objective: 3.79e+09\n",
      "Solver model: available\n",
      "Solver message: optimal\n",
      "\n",
      "INFO:pypsa.optimization.optimize:The shadow-prices of the constraints Generator-ext-p-lower, Generator-ext-p-upper, Link-ext-p-lower, Link-ext-p-upper, Store-ext-e-lower, Store-ext-e-upper, Store-energy_balance were not assigned to the network.\n",
      "INFO:pypsa.io:Exported network network.nc has stores, carriers, loads, buses, generators, links\n",
      "INFO:pypsa.io:Imported network network.nc has buses, carriers, generators, links, loads, stores\n",
      "/home/viktor/code/pypsa-vgr/generator/library/output_files.py:289: FutureWarning:\n",
      "\n",
      "A value is trying to be set on a copy of a DataFrame or Series through chained assignment using an inplace method.\n",
      "The behavior will change in pandas 3.0. This inplace method will never work because the intermediate object on which we are setting values always behaves as a copy.\n",
      "\n",
      "For example, when doing 'df[col].method(value, inplace=True)', try using 'df.method({col: value}, inplace=True)' or df[col] = df[col].method(value) instead, to perform the operation inplace on the original object.\n",
      "\n",
      "\n",
      "\n"
     ]
    },
    {
     "name": "stdout",
     "output_type": "stream",
     "text": [
      "22 out of 120: ('14', 2030, 1, 3.75, True, True, 300)\n",
      "Create and store parameters\n",
      "Check weather files\n",
      "Check renewables data\n",
      "Create and store demand\n",
      "Create and store network\n",
      "Using config:\n",
      "\th2:True\n",
      "\toffwind:True\n",
      "\tbiogas:600\n"
     ]
    },
    {
     "name": "stderr",
     "output_type": "stream",
     "text": [
      "INFO:pypsa.io:Exported network network.nc has stores, carriers, loads, buses, generators, links\n"
     ]
    },
    {
     "name": "stdout",
     "output_type": "stream",
     "text": [
      "Run optimization\n"
     ]
    },
    {
     "name": "stderr",
     "output_type": "stream",
     "text": [
      "INFO:pypsa.io:Imported network network.nc has buses, carriers, generators, links, loads, stores\n",
      "INFO:linopy.model: Solve problem using Highs solver\n",
      "INFO:linopy.io:Writing objective.\n",
      "Writing constraints.: 100%|\u001b[38;2;128;191;255m██████████\u001b[0m| 17/17 [00:00<00:00, 32.60it/s]\n",
      "Writing continuous variables.: 100%|\u001b[38;2;128;191;255m██████████\u001b[0m| 9/9 [00:00<00:00, 83.16it/s]\n",
      "Writing integer variables.: 100%|\u001b[38;2;128;191;255m██████████\u001b[0m| 2/2 [00:00<00:00, 802.51it/s]\n",
      "INFO:linopy.io: Writing time: 0.67s\n",
      "INFO:linopy.solvers:Log file at /tmp/highs.log\n"
     ]
    },
    {
     "name": "stdout",
     "output_type": "stream",
     "text": [
      "Running HiGHS 1.7.2 (git hash: 184e327): Copyright (c) 2024 HiGHS under MIT licence terms\n",
      "Coefficient ranges:\n",
      "  Matrix [4e-06, 3e+02]\n",
      "  Cost   [6e+01, 2e+06]\n",
      "  Bound  [0e+00, 0e+00]\n",
      "  RHS    [2e+02, 7e+02]\n",
      "Presolving model\n",
      "48184 rows, 42352 cols, 127032 nonzeros  0s\n",
      "38071 rows, 32239 cols, 117366 nonzeros  0s\n",
      "37991 rows, 32159 cols, 117722 nonzeros  0s\n",
      "\n",
      "Solving MIP model with:\n",
      "   37991 rows\n",
      "   32159 cols (0 binary, 5 integer, 0 implied int., 32154 continuous)\n",
      "   117722 nonzeros\n",
      "\n",
      "        Nodes      |    B&B Tree     |            Objective Bounds              |  Dynamic Constraints |       Work      \n",
      "     Proc. InQueue |  Leaves   Expl. | BestBound       BestSol              Gap |   Cuts   InLp Confl. | LpIters     Time\n",
      "\n",
      "         0       0         0   0.00%   -inf            inf                  inf        0      0      0         0     0.2s\n",
      " S       0       0         0   0.00%   -inf            3173109108.882     Large        0      0      0         0    17.5s\n",
      " R       0       0         0   0.00%   3171831416.257  3171836035.246     0.00%        0      0      0     61496    17.6s\n",
      "\n",
      "Solving report\n",
      "  Status            Optimal\n",
      "  Primal bound      3171836035.25\n",
      "  Dual bound        3171831416.26\n",
      "  Gap               0.000146% (tolerance: 0.01%)\n",
      "  Solution status   feasible\n",
      "                    3171836035.25 (objective)\n",
      "                    0 (bound viol.)\n",
      "                    0 (int. viol.)\n",
      "                    0 (row viol.)\n",
      "  Timing            17.66 (total)\n",
      "                    0.20 (presolve)\n",
      "                    0.00 (postsolve)\n",
      "  Nodes             1\n",
      "  LP iterations     61496 (total)\n",
      "                    0 (strong br.)\n",
      "                    0 (separation)\n",
      "                    0 (heuristics)\n"
     ]
    },
    {
     "name": "stderr",
     "output_type": "stream",
     "text": [
      "INFO:linopy.constants: Optimization successful: \n",
      "Status: ok\n",
      "Termination condition: optimal\n",
      "Solution: 46739 primals, 105141 duals\n",
      "Objective: 3.17e+09\n",
      "Solver model: available\n",
      "Solver message: optimal\n",
      "\n",
      "INFO:pypsa.optimization.optimize:The shadow-prices of the constraints Generator-ext-p-lower, Generator-ext-p-upper, Link-ext-p-lower, Link-ext-p-upper, Store-ext-e-lower, Store-ext-e-upper, Store-energy_balance were not assigned to the network.\n"
     ]
    },
    {
     "name": "stdout",
     "output_type": "stream",
     "text": [
      "Writing the solution to /tmp/linopy-solve-rdjq6t8e.sol\n"
     ]
    },
    {
     "name": "stderr",
     "output_type": "stream",
     "text": [
      "INFO:pypsa.io:Exported network network.nc has stores, carriers, loads, buses, generators, links\n",
      "INFO:pypsa.io:Imported network network.nc has buses, carriers, generators, links, loads, stores\n",
      "/home/viktor/code/pypsa-vgr/generator/library/output_files.py:289: FutureWarning:\n",
      "\n",
      "A value is trying to be set on a copy of a DataFrame or Series through chained assignment using an inplace method.\n",
      "The behavior will change in pandas 3.0. This inplace method will never work because the intermediate object on which we are setting values always behaves as a copy.\n",
      "\n",
      "For example, when doing 'df[col].method(value, inplace=True)', try using 'df.method({col: value}, inplace=True)' or df[col] = df[col].method(value) instead, to perform the operation inplace on the original object.\n",
      "\n",
      "\n",
      "\n"
     ]
    },
    {
     "name": "stdout",
     "output_type": "stream",
     "text": [
      "23 out of 120: ('14', 2030, 1, 3.75, True, True, 600)\n",
      "Create and store parameters\n",
      "Check weather files\n",
      "Check renewables data\n",
      "Create and store demand\n",
      "Create and store network\n",
      "Using config:\n",
      "\th2:True\n",
      "\toffwind:True\n",
      "\tbiogas:1200\n"
     ]
    },
    {
     "name": "stderr",
     "output_type": "stream",
     "text": [
      "INFO:pypsa.io:Exported network network.nc has stores, carriers, loads, buses, generators, links\n"
     ]
    },
    {
     "name": "stdout",
     "output_type": "stream",
     "text": [
      "Run optimization\n"
     ]
    },
    {
     "name": "stderr",
     "output_type": "stream",
     "text": [
      "INFO:pypsa.io:Imported network network.nc has buses, carriers, generators, links, loads, stores\n",
      "INFO:linopy.model: Solve problem using Highs solver\n",
      "INFO:linopy.io:Writing objective.\n",
      "Writing constraints.: 100%|\u001b[38;2;128;191;255m██████████\u001b[0m| 17/17 [00:00<00:00, 33.97it/s]\n",
      "Writing continuous variables.: 100%|\u001b[38;2;128;191;255m██████████\u001b[0m| 9/9 [00:00<00:00, 97.29it/s]\n",
      "Writing integer variables.: 100%|\u001b[38;2;128;191;255m██████████\u001b[0m| 2/2 [00:00<00:00, 587.11it/s]\n",
      "INFO:linopy.io: Writing time: 0.64s\n",
      "INFO:linopy.solvers:Log file at /tmp/highs.log\n"
     ]
    },
    {
     "name": "stdout",
     "output_type": "stream",
     "text": [
      "Running HiGHS 1.7.2 (git hash: 184e327): Copyright (c) 2024 HiGHS under MIT licence terms\n",
      "Coefficient ranges:\n",
      "  Matrix [4e-06, 3e+02]\n",
      "  Cost   [6e+01, 2e+06]\n",
      "  Bound  [0e+00, 0e+00]\n",
      "  RHS    [2e+02, 1e+03]\n",
      "Presolving model\n",
      "48184 rows, 42352 cols, 127032 nonzeros  0s\n",
      "38071 rows, 32239 cols, 117366 nonzeros  0s\n",
      "37991 rows, 32159 cols, 117722 nonzeros  0s\n",
      "\n",
      "Solving MIP model with:\n",
      "   37991 rows\n",
      "   32159 cols (0 binary, 5 integer, 0 implied int., 32154 continuous)\n",
      "   117722 nonzeros\n",
      "\n",
      "        Nodes      |    B&B Tree     |            Objective Bounds              |  Dynamic Constraints |       Work      \n",
      "     Proc. InQueue |  Leaves   Expl. | BestBound       BestSol              Gap |   Cuts   InLp Confl. | LpIters     Time\n",
      "\n",
      "         0       0         0   0.00%   -inf            inf                  inf        0      0      0         0     0.2s\n",
      " S       0       0         0   0.00%   -inf            3334546650.571     Large        0      0      0         0    18.6s\n",
      " R       0       0         0   0.00%   3122466871.455  3250467250.272     3.94%        0      0      0     60713    19.7s\n",
      "         0       0         0   0.00%   3123326926.82   3250467250.272     3.91%      588      7      0     60846    24.8s\n",
      " L       0       0         0   0.00%   3124872040.35   3171833667.444     1.48%      590     15      0     61284    46.5s\n",
      "\n",
      "Solving report\n",
      "  Status            Optimal\n",
      "  Primal bound      3171833667.44\n",
      "  Dual bound        3171831416.26\n",
      "  Gap               7.1e-05% (tolerance: 0.01%)\n",
      "  Solution status   feasible\n",
      "                    3171833667.44 (objective)\n",
      "                    0 (bound viol.)\n",
      "                    0 (int. viol.)\n",
      "                    0 (row viol.)\n",
      "  Timing            50.43 (total)\n",
      "                    0.22 (presolve)\n",
      "                    0.00 (postsolve)\n",
      "  Nodes             1\n",
      "  LP iterations     84765 (total)\n",
      "                    2867 (strong br.)\n",
      "                    579 (separation)\n",
      "                    16733 (heuristics)\n",
      "Writing the solution to /tmp/linopy-solve-h322fvzt.sol\n"
     ]
    },
    {
     "name": "stderr",
     "output_type": "stream",
     "text": [
      "INFO:linopy.constants: Optimization successful: \n",
      "Status: ok\n",
      "Termination condition: optimal\n",
      "Solution: 46739 primals, 105141 duals\n",
      "Objective: 3.17e+09\n",
      "Solver model: available\n",
      "Solver message: optimal\n",
      "\n",
      "INFO:pypsa.optimization.optimize:The shadow-prices of the constraints Generator-ext-p-lower, Generator-ext-p-upper, Link-ext-p-lower, Link-ext-p-upper, Store-ext-e-lower, Store-ext-e-upper, Store-energy_balance were not assigned to the network.\n",
      "INFO:pypsa.io:Exported network network.nc has stores, carriers, loads, buses, generators, links\n",
      "INFO:pypsa.io:Imported network network.nc has buses, carriers, generators, links, loads, stores\n",
      "/home/viktor/code/pypsa-vgr/generator/library/output_files.py:289: FutureWarning:\n",
      "\n",
      "A value is trying to be set on a copy of a DataFrame or Series through chained assignment using an inplace method.\n",
      "The behavior will change in pandas 3.0. This inplace method will never work because the intermediate object on which we are setting values always behaves as a copy.\n",
      "\n",
      "For example, when doing 'df[col].method(value, inplace=True)', try using 'df.method({col: value}, inplace=True)' or df[col] = df[col].method(value) instead, to perform the operation inplace on the original object.\n",
      "\n",
      "\n",
      "\n"
     ]
    },
    {
     "name": "stdout",
     "output_type": "stream",
     "text": [
      "24 out of 120: ('14', 2030, 1, 3.75, True, True, 1200)\n",
      "Create and store parameters\n",
      "Check weather files\n",
      "Check renewables data\n",
      "Create and store demand\n",
      "Create and store network\n",
      "Using config:\n",
      "\th2:True\n",
      "\toffwind:True\n",
      "\tbiogas:1800\n"
     ]
    },
    {
     "name": "stderr",
     "output_type": "stream",
     "text": [
      "INFO:pypsa.io:Exported network network.nc has stores, carriers, loads, buses, generators, links\n"
     ]
    },
    {
     "name": "stdout",
     "output_type": "stream",
     "text": [
      "Run optimization\n"
     ]
    },
    {
     "name": "stderr",
     "output_type": "stream",
     "text": [
      "INFO:pypsa.io:Imported network network.nc has buses, carriers, generators, links, loads, stores\n",
      "INFO:linopy.model: Solve problem using Highs solver\n",
      "INFO:linopy.io:Writing objective.\n",
      "Writing constraints.: 100%|\u001b[38;2;128;191;255m██████████\u001b[0m| 17/17 [00:00<00:00, 36.62it/s]\n",
      "Writing continuous variables.: 100%|\u001b[38;2;128;191;255m██████████\u001b[0m| 9/9 [00:00<00:00, 114.08it/s]\n",
      "Writing integer variables.: 100%|\u001b[38;2;128;191;255m██████████\u001b[0m| 2/2 [00:00<00:00, 798.53it/s]\n",
      "INFO:linopy.io: Writing time: 0.58s\n",
      "INFO:linopy.solvers:Log file at /tmp/highs.log\n"
     ]
    },
    {
     "name": "stdout",
     "output_type": "stream",
     "text": [
      "Running HiGHS 1.7.2 (git hash: 184e327): Copyright (c) 2024 HiGHS under MIT licence terms\n"
     ]
    },
    {
     "name": "stderr",
     "output_type": "stream",
     "text": [
      "INFO:linopy.constants: Optimization successful: \n",
      "Status: ok\n",
      "Termination condition: optimal\n",
      "Solution: 46739 primals, 105141 duals\n",
      "Objective: 3.17e+09\n",
      "Solver model: available\n",
      "Solver message: optimal\n",
      "\n"
     ]
    },
    {
     "name": "stdout",
     "output_type": "stream",
     "text": [
      "Coefficient ranges:\n",
      "  Matrix [4e-06, 3e+02]\n",
      "  Cost   [6e+01, 2e+06]\n",
      "  Bound  [0e+00, 0e+00]\n",
      "  RHS    [2e+02, 2e+03]\n",
      "Presolving model\n",
      "48184 rows, 42352 cols, 127032 nonzeros  0s\n",
      "38071 rows, 32239 cols, 117366 nonzeros  0s\n",
      "37991 rows, 32159 cols, 117722 nonzeros  0s\n",
      "\n",
      "Solving MIP model with:\n",
      "   37991 rows\n",
      "   32159 cols (0 binary, 5 integer, 0 implied int., 32154 continuous)\n",
      "   117722 nonzeros\n",
      "\n",
      "        Nodes      |    B&B Tree     |            Objective Bounds              |  Dynamic Constraints |       Work      \n",
      "     Proc. InQueue |  Leaves   Expl. | BestBound       BestSol              Gap |   Cuts   InLp Confl. | LpIters     Time\n",
      "\n",
      "         0       0         0   0.00%   -inf            inf                  inf        0      0      0         0     0.2s\n",
      " S       0       0         0   0.00%   -inf            3334546650.571     Large        0      0      0         0    17.7s\n",
      " R       0       0         0   0.00%   3122466871.455  3250467250.272     3.94%        0      0      0     60713    18.8s\n",
      "         0       0         0   0.00%   3123418637.078  3250467250.272     3.91%      590      8      0     60907    24.1s\n",
      " L       0       0         0   0.00%   3124872040.35   3171833667.444     1.48%      590     15      0     61284    44.5s\n",
      "\n",
      "Solving report\n",
      "  Status            Optimal\n",
      "  Primal bound      3171833667.44\n",
      "  Dual bound        3171831416.26\n",
      "  Gap               7.1e-05% (tolerance: 0.01%)\n",
      "  Solution status   feasible\n",
      "                    3171833667.44 (objective)\n",
      "                    0 (bound viol.)\n",
      "                    0 (int. viol.)\n",
      "                    0 (row viol.)\n",
      "  Timing            48.67 (total)\n",
      "                    0.22 (presolve)\n",
      "                    0.00 (postsolve)\n",
      "  Nodes             1\n",
      "  LP iterations     82455 (total)\n",
      "                    2867 (strong br.)\n",
      "                    579 (separation)\n",
      "                    14423 (heuristics)\n",
      "Writing the solution to /tmp/linopy-solve-88noilbf.sol\n"
     ]
    },
    {
     "name": "stderr",
     "output_type": "stream",
     "text": [
      "INFO:pypsa.optimization.optimize:The shadow-prices of the constraints Generator-ext-p-lower, Generator-ext-p-upper, Link-ext-p-lower, Link-ext-p-upper, Store-ext-e-lower, Store-ext-e-upper, Store-energy_balance were not assigned to the network.\n",
      "INFO:pypsa.io:Exported network network.nc has stores, carriers, loads, buses, generators, links\n",
      "INFO:pypsa.io:Imported network network.nc has buses, carriers, generators, links, loads, stores\n",
      "/home/viktor/code/pypsa-vgr/generator/library/output_files.py:289: FutureWarning:\n",
      "\n",
      "A value is trying to be set on a copy of a DataFrame or Series through chained assignment using an inplace method.\n",
      "The behavior will change in pandas 3.0. This inplace method will never work because the intermediate object on which we are setting values always behaves as a copy.\n",
      "\n",
      "For example, when doing 'df[col].method(value, inplace=True)', try using 'df.method({col: value}, inplace=True)' or df[col] = df[col].method(value) instead, to perform the operation inplace on the original object.\n",
      "\n",
      "\n",
      "\n"
     ]
    },
    {
     "name": "stdout",
     "output_type": "stream",
     "text": [
      "25 out of 120: ('14', 2030, 1, 3.75, True, True, 1800)\n",
      "Create and store parameters\n",
      "Check weather files\n",
      "Check renewables data\n",
      "Create and store demand\n",
      "Create and store network\n",
      "Using config:\n",
      "\th2:True\n",
      "\toffwind:True\n",
      "\tbiogas:0\n"
     ]
    },
    {
     "name": "stderr",
     "output_type": "stream",
     "text": [
      "INFO:pypsa.io:Exported network network.nc has stores, carriers, loads, buses, generators, links\n"
     ]
    },
    {
     "name": "stdout",
     "output_type": "stream",
     "text": [
      "Run optimization\n"
     ]
    },
    {
     "name": "stderr",
     "output_type": "stream",
     "text": [
      "INFO:pypsa.io:Imported network network.nc has buses, carriers, generators, links, loads, stores\n",
      "INFO:linopy.model: Solve problem using Highs solver\n",
      "INFO:linopy.io:Writing objective.\n",
      "Writing constraints.: 100%|\u001b[38;2;128;191;255m██████████\u001b[0m| 17/17 [00:00<00:00, 30.56it/s]\n",
      "Writing continuous variables.: 100%|\u001b[38;2;128;191;255m██████████\u001b[0m| 9/9 [00:00<00:00, 112.22it/s]\n",
      "Writing integer variables.: 100%|\u001b[38;2;128;191;255m██████████\u001b[0m| 2/2 [00:00<00:00, 744.60it/s]\n",
      "INFO:linopy.io: Writing time: 0.67s\n",
      "INFO:linopy.solvers:Log file at /tmp/highs.log\n"
     ]
    },
    {
     "name": "stdout",
     "output_type": "stream",
     "text": [
      "Running HiGHS 1.7.2 (git hash: 184e327): Copyright (c) 2024 HiGHS under MIT licence terms\n"
     ]
    },
    {
     "name": "stderr",
     "output_type": "stream",
     "text": [
      "INFO:linopy.constants: Optimization successful: \n",
      "Status: ok\n",
      "Termination condition: optimal\n",
      "Solution: 40897 primals, 90538 duals\n",
      "Objective: 6.40e+09\n",
      "Solver model: available\n",
      "Solver message: optimal\n",
      "\n",
      "INFO:pypsa.optimization.optimize:The shadow-prices of the constraints Generator-ext-p-lower, Generator-ext-p-upper, Link-ext-p-lower, Link-ext-p-upper, Store-ext-e-lower, Store-ext-e-upper, Store-energy_balance were not assigned to the network.\n"
     ]
    },
    {
     "name": "stdout",
     "output_type": "stream",
     "text": [
      "Coefficient ranges:\n",
      "  Matrix [4e-06, 3e+02]\n",
      "  Cost   [6e+01, 2e+06]\n",
      "  Bound  [0e+00, 0e+00]\n",
      "  RHS    [3e+02, 9e+02]\n",
      "Presolving model\n",
      "45264 rows, 36512 cols, 118272 nonzeros  0s\n",
      "37991 rows, 29239 cols, 111910 nonzeros  0s\n",
      "37991 rows, 29239 cols, 111910 nonzeros  0s\n",
      "\n",
      "Solving MIP model with:\n",
      "   37991 rows\n",
      "   29239 cols (0 binary, 5 integer, 0 implied int., 29234 continuous)\n",
      "   111910 nonzeros\n",
      "\n",
      "        Nodes      |    B&B Tree     |            Objective Bounds              |  Dynamic Constraints |       Work      \n",
      "     Proc. InQueue |  Leaves   Expl. | BestBound       BestSol              Gap |   Cuts   InLp Confl. | LpIters     Time\n",
      "\n",
      "         0       0         0   0.00%   -inf            inf                  inf        0      0      0         0     0.2s\n",
      " S       0       0         0   0.00%   -inf            6404046379.028     Large        0      0      0         0     7.1s\n",
      "\n",
      "Solving report\n",
      "  Status            Optimal\n",
      "  Primal bound      6404046379.03\n",
      "  Dual bound        6403566038.9\n",
      "  Gap               0.0075% (tolerance: 0.01%)\n",
      "  Solution status   feasible\n",
      "                    6404046379.03 (objective)\n",
      "                    0 (bound viol.)\n",
      "                    0 (int. viol.)\n",
      "                    0 (row viol.)\n",
      "  Timing            8.84 (total)\n",
      "                    0.19 (presolve)\n",
      "                    0.00 (postsolve)\n",
      "  Nodes             1\n",
      "  LP iterations     39782 (total)\n",
      "                    0 (strong br.)\n",
      "                    0 (separation)\n",
      "                    0 (heuristics)\n",
      "Writing the solution to /tmp/linopy-solve-kh6q5hem.sol\n"
     ]
    },
    {
     "name": "stderr",
     "output_type": "stream",
     "text": [
      "INFO:pypsa.io:Exported network network.nc has stores, carriers, loads, buses, generators, links\n",
      "INFO:pypsa.io:Imported network network.nc has buses, carriers, generators, links, loads, stores\n",
      "/home/viktor/code/pypsa-vgr/generator/library/output_files.py:289: FutureWarning:\n",
      "\n",
      "A value is trying to be set on a copy of a DataFrame or Series through chained assignment using an inplace method.\n",
      "The behavior will change in pandas 3.0. This inplace method will never work because the intermediate object on which we are setting values always behaves as a copy.\n",
      "\n",
      "For example, when doing 'df[col].method(value, inplace=True)', try using 'df.method({col: value}, inplace=True)' or df[col] = df[col].method(value) instead, to perform the operation inplace on the original object.\n",
      "\n",
      "\n",
      "\n"
     ]
    },
    {
     "name": "stdout",
     "output_type": "stream",
     "text": [
      "26 out of 120: ('14', 2030, 1, 5, True, True, 0)\n",
      "Create and store parameters\n",
      "Check weather files\n",
      "Check renewables data\n",
      "Create and store demand\n",
      "Create and store network\n",
      "Using config:\n",
      "\th2:True\n",
      "\toffwind:True\n",
      "\tbiogas:300\n"
     ]
    },
    {
     "name": "stderr",
     "output_type": "stream",
     "text": [
      "INFO:pypsa.io:Exported network network.nc has stores, carriers, loads, buses, generators, links\n"
     ]
    },
    {
     "name": "stdout",
     "output_type": "stream",
     "text": [
      "Run optimization\n"
     ]
    },
    {
     "name": "stderr",
     "output_type": "stream",
     "text": [
      "INFO:pypsa.io:Imported network network.nc has buses, carriers, generators, links, loads, stores\n",
      "INFO:linopy.model: Solve problem using Highs solver\n",
      "INFO:linopy.io:Writing objective.\n",
      "Writing constraints.: 100%|\u001b[38;2;128;191;255m██████████\u001b[0m| 17/17 [00:00<00:00, 32.99it/s]\n",
      "Writing continuous variables.: 100%|\u001b[38;2;128;191;255m██████████\u001b[0m| 9/9 [00:00<00:00, 94.57it/s]\n",
      "Writing integer variables.: 100%|\u001b[38;2;128;191;255m██████████\u001b[0m| 2/2 [00:00<00:00, 870.91it/s]\n",
      "INFO:linopy.io: Writing time: 0.65s\n",
      "INFO:linopy.solvers:Log file at /tmp/highs.log\n",
      "INFO:linopy.constants: Optimization successful: \n",
      "Status: ok\n",
      "Termination condition: optimal\n",
      "Solution: 46739 primals, 105141 duals\n",
      "Objective: 5.34e+09\n",
      "Solver model: available\n",
      "Solver message: optimal\n",
      "\n"
     ]
    },
    {
     "name": "stdout",
     "output_type": "stream",
     "text": [
      "Running HiGHS 1.7.2 (git hash: 184e327): Copyright (c) 2024 HiGHS under MIT licence terms\n",
      "Coefficient ranges:\n",
      "  Matrix [4e-06, 3e+02]\n",
      "  Cost   [6e+01, 2e+06]\n",
      "  Bound  [0e+00, 0e+00]\n",
      "  RHS    [3e+02, 9e+02]\n",
      "Presolving model\n",
      "48184 rows, 42352 cols, 127032 nonzeros  0s\n",
      "38071 rows, 32239 cols, 117366 nonzeros  0s\n",
      "37991 rows, 32159 cols, 117722 nonzeros  0s\n",
      "\n",
      "Solving MIP model with:\n",
      "   37991 rows\n",
      "   32159 cols (0 binary, 5 integer, 0 implied int., 32154 continuous)\n",
      "   117722 nonzeros\n",
      "\n",
      "        Nodes      |    B&B Tree     |            Objective Bounds              |  Dynamic Constraints |       Work      \n",
      "     Proc. InQueue |  Leaves   Expl. | BestBound       BestSol              Gap |   Cuts   InLp Confl. | LpIters     Time\n",
      "\n",
      "         0       0         0   0.00%   -inf            inf                  inf        0      0      0         0     0.2s\n",
      " S       0       0         0   0.00%   -inf            5341754948.574     Large        0      0      0         0    15.8s\n",
      " R       0       0         0   0.00%   5340349897.618  5340357698.916     0.00%        0      0      0     52812    16.2s\n",
      "\n",
      "Solving report\n",
      "  Status            Optimal\n",
      "  Primal bound      5340357698.92\n",
      "  Dual bound        5340349897.62\n",
      "  Gap               0.000146% (tolerance: 0.01%)\n",
      "  Solution status   feasible\n",
      "                    5340357698.92 (objective)\n",
      "                    0 (bound viol.)\n",
      "                    0 (int. viol.)\n",
      "                    0 (row viol.)\n",
      "  Timing            16.18 (total)\n",
      "                    0.19 (presolve)\n",
      "                    0.00 (postsolve)\n",
      "  Nodes             1\n",
      "  LP iterations     52812 (total)\n",
      "                    0 (strong br.)\n",
      "                    0 (separation)\n",
      "                    0 (heuristics)\n",
      "Writing the solution to /tmp/linopy-solve-numy23dv.sol\n"
     ]
    },
    {
     "name": "stderr",
     "output_type": "stream",
     "text": [
      "INFO:pypsa.optimization.optimize:The shadow-prices of the constraints Generator-ext-p-lower, Generator-ext-p-upper, Link-ext-p-lower, Link-ext-p-upper, Store-ext-e-lower, Store-ext-e-upper, Store-energy_balance were not assigned to the network.\n",
      "INFO:pypsa.io:Exported network network.nc has stores, carriers, loads, buses, generators, links\n",
      "INFO:pypsa.io:Imported network network.nc has buses, carriers, generators, links, loads, stores\n",
      "/home/viktor/code/pypsa-vgr/generator/library/output_files.py:289: FutureWarning:\n",
      "\n",
      "A value is trying to be set on a copy of a DataFrame or Series through chained assignment using an inplace method.\n",
      "The behavior will change in pandas 3.0. This inplace method will never work because the intermediate object on which we are setting values always behaves as a copy.\n",
      "\n",
      "For example, when doing 'df[col].method(value, inplace=True)', try using 'df.method({col: value}, inplace=True)' or df[col] = df[col].method(value) instead, to perform the operation inplace on the original object.\n",
      "\n",
      "\n",
      "\n"
     ]
    },
    {
     "name": "stdout",
     "output_type": "stream",
     "text": [
      "27 out of 120: ('14', 2030, 1, 5, True, True, 300)\n",
      "Create and store parameters\n",
      "Check weather files\n",
      "Check renewables data\n",
      "Create and store demand\n",
      "Create and store network\n",
      "Using config:\n",
      "\th2:True\n",
      "\toffwind:True\n",
      "\tbiogas:600\n"
     ]
    },
    {
     "name": "stderr",
     "output_type": "stream",
     "text": [
      "INFO:pypsa.io:Exported network network.nc has stores, carriers, loads, buses, generators, links\n"
     ]
    },
    {
     "name": "stdout",
     "output_type": "stream",
     "text": [
      "Run optimization\n"
     ]
    },
    {
     "name": "stderr",
     "output_type": "stream",
     "text": [
      "INFO:pypsa.io:Imported network network.nc has buses, carriers, generators, links, loads, stores\n",
      "INFO:linopy.model: Solve problem using Highs solver\n",
      "INFO:linopy.io:Writing objective.\n",
      "Writing constraints.: 100%|\u001b[38;2;128;191;255m██████████\u001b[0m| 17/17 [00:00<00:00, 32.58it/s]\n",
      "Writing continuous variables.: 100%|\u001b[38;2;128;191;255m██████████\u001b[0m| 9/9 [00:00<00:00, 82.84it/s]\n",
      "Writing integer variables.: 100%|\u001b[38;2;128;191;255m██████████\u001b[0m| 2/2 [00:00<00:00, 721.97it/s]\n",
      "INFO:linopy.io: Writing time: 0.67s\n",
      "INFO:linopy.solvers:Log file at /tmp/highs.log\n"
     ]
    },
    {
     "name": "stdout",
     "output_type": "stream",
     "text": [
      "Running HiGHS 1.7.2 (git hash: 184e327): Copyright (c) 2024 HiGHS under MIT licence terms\n",
      "Coefficient ranges:\n",
      "  Matrix [4e-06, 3e+02]\n",
      "  Cost   [6e+01, 2e+06]\n",
      "  Bound  [0e+00, 0e+00]\n",
      "  RHS    [3e+02, 9e+02]\n",
      "Presolving model\n",
      "48184 rows, 42352 cols, 127032 nonzeros  0s\n",
      "38071 rows, 32239 cols, 117366 nonzeros  0s\n",
      "37991 rows, 32159 cols, 117722 nonzeros  0s\n",
      "\n",
      "Solving MIP model with:\n",
      "   37991 rows\n",
      "   32159 cols (0 binary, 5 integer, 0 implied int., 32154 continuous)\n",
      "   117722 nonzeros\n",
      "\n",
      "        Nodes      |    B&B Tree     |            Objective Bounds              |  Dynamic Constraints |       Work      \n",
      "     Proc. InQueue |  Leaves   Expl. | BestBound       BestSol              Gap |   Cuts   InLp Confl. | LpIters     Time\n",
      "\n",
      "         0       0         0   0.00%   -inf            inf                  inf        0      0      0         0     0.2s\n",
      " S       0       0         0   0.00%   -inf            4564819086.514     Large        0      0      0         0    21.9s\n",
      " R       0       0         0   0.00%   4561529438.425  4561655754.846     0.00%        0      0      0     65541    22.1s\n",
      "\n",
      "Solving report\n",
      "  Status            Optimal\n",
      "  Primal bound      4561655754.85\n",
      "  Dual bound        4561529438.42\n",
      "  Gap               0.00277% (tolerance: 0.01%)\n",
      "  Solution status   feasible\n",
      "                    4561655754.85 (objective)\n",
      "                    0 (bound viol.)\n",
      "                    6.26566083597e-16 (int. viol.)\n",
      "                    0 (row viol.)\n",
      "  Timing            22.11 (total)\n",
      "                    0.22 (presolve)\n",
      "                    0.00 (postsolve)\n",
      "  Nodes             1\n",
      "  LP iterations     65541 (total)\n",
      "                    0 (strong br.)\n",
      "                    0 (separation)\n",
      "                    0 (heuristics)\n",
      "Writing the solution to /tmp/linopy-solve-awqpp0bf.sol\n"
     ]
    },
    {
     "name": "stderr",
     "output_type": "stream",
     "text": [
      "INFO:linopy.constants: Optimization successful: \n",
      "Status: ok\n",
      "Termination condition: optimal\n",
      "Solution: 46739 primals, 105141 duals\n",
      "Objective: 4.56e+09\n",
      "Solver model: available\n",
      "Solver message: optimal\n",
      "\n",
      "INFO:pypsa.optimization.optimize:The shadow-prices of the constraints Generator-ext-p-lower, Generator-ext-p-upper, Link-ext-p-lower, Link-ext-p-upper, Store-ext-e-lower, Store-ext-e-upper, Store-energy_balance were not assigned to the network.\n",
      "INFO:pypsa.io:Exported network network.nc has stores, carriers, loads, buses, generators, links\n",
      "INFO:pypsa.io:Imported network network.nc has buses, carriers, generators, links, loads, stores\n",
      "/home/viktor/code/pypsa-vgr/generator/library/output_files.py:289: FutureWarning:\n",
      "\n",
      "A value is trying to be set on a copy of a DataFrame or Series through chained assignment using an inplace method.\n",
      "The behavior will change in pandas 3.0. This inplace method will never work because the intermediate object on which we are setting values always behaves as a copy.\n",
      "\n",
      "For example, when doing 'df[col].method(value, inplace=True)', try using 'df.method({col: value}, inplace=True)' or df[col] = df[col].method(value) instead, to perform the operation inplace on the original object.\n",
      "\n",
      "\n",
      "\n"
     ]
    },
    {
     "name": "stdout",
     "output_type": "stream",
     "text": [
      "28 out of 120: ('14', 2030, 1, 5, True, True, 600)\n",
      "Create and store parameters\n",
      "Check weather files\n",
      "Check renewables data\n",
      "Create and store demand\n",
      "Create and store network\n",
      "Using config:\n",
      "\th2:True\n",
      "\toffwind:True\n",
      "\tbiogas:1200\n"
     ]
    },
    {
     "name": "stderr",
     "output_type": "stream",
     "text": [
      "INFO:pypsa.io:Exported network network.nc has stores, carriers, loads, buses, generators, links\n"
     ]
    },
    {
     "name": "stdout",
     "output_type": "stream",
     "text": [
      "Run optimization\n"
     ]
    },
    {
     "name": "stderr",
     "output_type": "stream",
     "text": [
      "INFO:pypsa.io:Imported network network.nc has buses, carriers, generators, links, loads, stores\n",
      "INFO:linopy.model: Solve problem using Highs solver\n",
      "INFO:linopy.io:Writing objective.\n",
      "Writing constraints.: 100%|\u001b[38;2;128;191;255m██████████\u001b[0m| 17/17 [00:00<00:00, 31.73it/s]\n",
      "Writing continuous variables.: 100%|\u001b[38;2;128;191;255m██████████\u001b[0m| 9/9 [00:00<00:00, 94.49it/s]\n",
      "Writing integer variables.: 100%|\u001b[38;2;128;191;255m██████████\u001b[0m| 2/2 [00:00<00:00, 878.94it/s]\n",
      "INFO:linopy.io: Writing time: 0.67s\n",
      "INFO:linopy.solvers:Log file at /tmp/highs.log\n"
     ]
    },
    {
     "name": "stdout",
     "output_type": "stream",
     "text": [
      "Running HiGHS 1.7.2 (git hash: 184e327): Copyright (c) 2024 HiGHS under MIT licence terms\n",
      "Coefficient ranges:\n",
      "  Matrix [4e-06, 3e+02]\n",
      "  Cost   [6e+01, 2e+06]\n",
      "  Bound  [0e+00, 0e+00]\n",
      "  RHS    [3e+02, 1e+03]\n",
      "Presolving model\n",
      "48184 rows, 42352 cols, 127032 nonzeros  0s\n",
      "38071 rows, 32239 cols, 117366 nonzeros  0s\n",
      "37991 rows, 32159 cols, 117722 nonzeros  0s\n",
      "\n",
      "Solving MIP model with:\n",
      "   37991 rows\n",
      "   32159 cols (0 binary, 5 integer, 0 implied int., 32154 continuous)\n",
      "   117722 nonzeros\n",
      "\n",
      "        Nodes      |    B&B Tree     |            Objective Bounds              |  Dynamic Constraints |       Work      \n",
      "     Proc. InQueue |  Leaves   Expl. | BestBound       BestSol              Gap |   Cuts   InLp Confl. | LpIters     Time\n",
      "\n",
      "         0       0         0   0.00%   -inf            inf                  inf        0      0      0         0     0.3s\n",
      " S       0       0         0   0.00%   -inf            4447728288.796     Large        0      0      0         0    18.9s\n",
      " R       0       0         0   0.00%   4163289161.94   4334101863.302     3.94%        0      0      0     61941    19.9s\n",
      "         0       0         0   0.00%   4163467007.765  4334101863.302     3.94%      567      6      0     6199"
     ]
    },
    {
     "name": "stderr",
     "output_type": "stream",
     "text": [
      "INFO:linopy.constants: Optimization successful: \n",
      "Status: ok\n",
      "Termination condition: optimal\n",
      "Solution: 46739 primals, 105141 duals\n",
      "Objective: 4.16e+09\n",
      "Solver model: available\n",
      "Solver message: optimal\n",
      "\n",
      "INFO:pypsa.optimization.optimize:The shadow-prices of the constraints Generator-ext-p-lower, Generator-ext-p-upper, Link-ext-p-lower, Link-ext-p-upper, Store-ext-e-lower, Store-ext-e-upper, Store-energy_balance were not assigned to the network.\n"
     ]
    },
    {
     "name": "stdout",
     "output_type": "stream",
     "text": [
      "9    25.1s\n",
      " L       0       0         0   0.00%   4163883932.47   4164427108.985     0.01%      582     15      0     62228    42.5s\n",
      "         0       0         0   0.00%   4163885259.732  4164427108.985     0.01%      820     15      0     88099    49.7s\n",
      "\n",
      "40.0% inactive integer columns, restarting\n",
      "Model after restart has 27799 rows, 21965 cols (0 bin., 3 int., 0 impl., 21962 cont.), and 96916 nonzeros\n",
      "\n",
      "         0       0         0   0.00%   4163885259.732  4164427108.985     0.01%       15      0      0     88099    49.9s\n",
      "         0       0         0   0.00%   4163885259.732  4164427108.985     0.01%       15     15      0     89035    50.4s\n",
      "\n",
      "Solving report\n",
      "  Status            Optimal\n",
      "  Primal bound      4164427108.98\n",
      "  Dual bound        4164418158.38\n",
      "  Gap               0.000215% (tolerance: 0.01%)\n",
      "  Solution status   feasible\n",
      "                    4164427108.98 (objective)\n",
      "                    0 (bound viol.)\n",
      "                    0 (int. viol.)\n",
      "                    0 (row viol.)\n",
      "  Timing            53.35 (total)\n",
      "                    0.38 (presolve)\n",
      "                    0.00 (postsolve)\n",
      "  Nodes             1\n",
      "  LP iterations     89485 (total)\n",
      "                    215 (strong br.)\n",
      "                    440 (separation)\n",
      "                    25870 (heuristics)\n",
      "Writing the solution to /tmp/linopy-solve-x7stiepd.sol\n"
     ]
    },
    {
     "name": "stderr",
     "output_type": "stream",
     "text": [
      "INFO:pypsa.io:Exported network network.nc has stores, carriers, loads, buses, generators, links\n",
      "INFO:pypsa.io:Imported network network.nc has buses, carriers, generators, links, loads, stores\n",
      "/home/viktor/code/pypsa-vgr/generator/library/output_files.py:289: FutureWarning:\n",
      "\n",
      "A value is trying to be set on a copy of a DataFrame or Series through chained assignment using an inplace method.\n",
      "The behavior will change in pandas 3.0. This inplace method will never work because the intermediate object on which we are setting values always behaves as a copy.\n",
      "\n",
      "For example, when doing 'df[col].method(value, inplace=True)', try using 'df.method({col: value}, inplace=True)' or df[col] = df[col].method(value) instead, to perform the operation inplace on the original object.\n",
      "\n",
      "\n",
      "\n"
     ]
    },
    {
     "name": "stdout",
     "output_type": "stream",
     "text": [
      "29 out of 120: ('14', 2030, 1, 5, True, True, 1200)\n",
      "Create and store parameters\n",
      "Check weather files\n",
      "Check renewables data\n",
      "Create and store demand\n",
      "Create and store network\n",
      "Using config:\n",
      "\th2:True\n",
      "\toffwind:True\n",
      "\tbiogas:1800\n"
     ]
    },
    {
     "name": "stderr",
     "output_type": "stream",
     "text": [
      "INFO:pypsa.io:Exported network network.nc has stores, carriers, loads, buses, generators, links\n",
      "INFO:pypsa.io:Imported network network.nc has buses, carriers, generators, links, loads, stores\n"
     ]
    },
    {
     "name": "stdout",
     "output_type": "stream",
     "text": [
      "Run optimization\n"
     ]
    },
    {
     "name": "stderr",
     "output_type": "stream",
     "text": [
      "INFO:linopy.model: Solve problem using Highs solver\n",
      "INFO:linopy.io:Writing objective.\n",
      "Writing constraints.: 100%|\u001b[38;2;128;191;255m██████████\u001b[0m| 17/17 [00:00<00:00, 33.76it/s]\n",
      "Writing continuous variables.: 100%|\u001b[38;2;128;191;255m██████████\u001b[0m| 9/9 [00:00<00:00, 100.90it/s]\n",
      "Writing integer variables.: 100%|\u001b[38;2;128;191;255m██████████\u001b[0m| 2/2 [00:00<00:00, 773.43it/s]\n",
      "INFO:linopy.io: Writing time: 0.64s\n",
      "INFO:linopy.solvers:Log file at /tmp/highs.log\n"
     ]
    },
    {
     "name": "stdout",
     "output_type": "stream",
     "text": [
      "Running HiGHS 1.7.2 (git hash: 184e327): Copyright (c) 2024 HiGHS under MIT licence terms\n"
     ]
    },
    {
     "name": "stderr",
     "output_type": "stream",
     "text": [
      "INFO:linopy.constants: Optimization successful: \n",
      "Status: ok\n",
      "Termination condition: optimal\n",
      "Solution: 46739 primals, 105141 duals\n",
      "Objective: 4.16e+09\n",
      "Solver model: available\n",
      "Solver message: optimal\n",
      "\n",
      "INFO:pypsa.optimization.optimize:The shadow-prices of the constraints Generator-ext-p-lower, Generator-ext-p-upper, Link-ext-p-lower, Link-ext-p-upper, Store-ext-e-lower, Store-ext-e-upper, Store-energy_balance were not assigned to the network.\n"
     ]
    },
    {
     "name": "stdout",
     "output_type": "stream",
     "text": [
      "Coefficient ranges:\n",
      "  Matrix [4e-06, 3e+02]\n",
      "  Cost   [6e+01, 2e+06]\n",
      "  Bound  [0e+00, 0e+00]\n",
      "  RHS    [3e+02, 2e+03]\n",
      "Presolving model\n",
      "48184 rows, 42352 cols, 127032 nonzeros  0s\n",
      "38071 rows, 32239 cols, 117366 nonzeros  0s\n",
      "37991 rows, 32159 cols, 117722 nonzeros  0s\n",
      "\n",
      "Solving MIP model with:\n",
      "   37991 rows\n",
      "   32159 cols (0 binary, 5 integer, 0 implied int., 32154 continuous)\n",
      "   117722 nonzeros\n",
      "\n",
      "        Nodes      |    B&B Tree     |            Objective Bounds              |  Dynamic Constraints |       Work      \n",
      "     Proc. InQueue |  Leaves   Expl. | BestBound       BestSol              Gap |   Cuts   InLp Confl. | LpIters     Time\n",
      "\n",
      "         0       0         0   0.00%   -inf            inf                  inf        0      0      0         0     0.2s\n",
      " S       0       0         0   0.00%   -inf            4447728288.796     Large        0      0      0         0    17.5s\n",
      " R       0       0         0   0.00%   4163289161.94   4334101863.302     3.94%        0      0      0     62695    18.6s\n",
      "         0       0         0   0.00%   4163467007.765  4334101863.302     3.94%      568      6      0     62758    23.8s\n",
      " L       0       0         0   0.00%   4163883932.47   4164427108.985     0.01%      581     15      0     63042    40.0s\n",
      "         0       0         0   0.00%   4163885259.732  4164427108.985     0.01%      819     15      0     88954    47.0s\n",
      "\n",
      "40.0% inactive integer columns, restarting\n",
      "Model after restart has 27799 rows, 21965 cols (0 bin., 3 int., 0 impl., 21962 cont.), and 96916 nonzeros\n",
      "\n",
      "         0       0         0   0.00%   4163885259.732  4164427108.985     0.01%       15      0      0     88954    47.2s\n",
      "         0       0         0   0.00%   4163885259.732  4164427108.985     0.01%       15     15      0     89883    47.6s\n",
      "\n",
      "Solving report\n",
      "  Status            Optimal\n",
      "  Primal bound      4164427108.98\n",
      "  Dual bound        4164418158.38\n",
      "  Gap               0.000215% (tolerance: 0.01%)\n",
      "  Solution status   feasible\n",
      "                    4164427108.98 (objective)\n",
      "                    0 (bound viol.)\n",
      "                    0 (int. viol.)\n",
      "                    0 (row viol.)\n",
      "  Timing            50.43 (total)\n",
      "                    0.30 (presolve)\n",
      "                    0.00 (postsolve)\n",
      "  Nodes             1\n",
      "  LP iterations     90344 (total)\n",
      "                    218 (strong br.)\n",
      "                    512 (separation)\n",
      "                    25911 (heuristics)\n",
      "Writing the solution to /tmp/linopy-solve-olwa7212.sol\n"
     ]
    },
    {
     "name": "stderr",
     "output_type": "stream",
     "text": [
      "INFO:pypsa.io:Exported network network.nc has stores, carriers, loads, buses, generators, links\n",
      "INFO:pypsa.io:Imported network network.nc has buses, carriers, generators, links, loads, stores\n",
      "/home/viktor/code/pypsa-vgr/generator/library/output_files.py:289: FutureWarning:\n",
      "\n",
      "A value is trying to be set on a copy of a DataFrame or Series through chained assignment using an inplace method.\n",
      "The behavior will change in pandas 3.0. This inplace method will never work because the intermediate object on which we are setting values always behaves as a copy.\n",
      "\n",
      "For example, when doing 'df[col].method(value, inplace=True)', try using 'df.method({col: value}, inplace=True)' or df[col] = df[col].method(value) instead, to perform the operation inplace on the original object.\n",
      "\n",
      "\n",
      "\n"
     ]
    },
    {
     "name": "stdout",
     "output_type": "stream",
     "text": [
      "30 out of 120: ('14', 2030, 1, 5, True, True, 1800)\n",
      "Create and store parameters\n",
      "Check weather files\n",
      "Check renewables data\n",
      "Create and store demand\n",
      "Create and store network\n",
      "Using config:\n",
      "\th2:True\n",
      "\toffwind:True\n",
      "\tbiogas:0\n"
     ]
    },
    {
     "name": "stderr",
     "output_type": "stream",
     "text": [
      "INFO:pypsa.io:Exported network network.nc has stores, carriers, loads, buses, generators, links\n"
     ]
    },
    {
     "name": "stdout",
     "output_type": "stream",
     "text": [
      "Run optimization\n"
     ]
    },
    {
     "name": "stderr",
     "output_type": "stream",
     "text": [
      "INFO:pypsa.io:Imported network network.nc has buses, carriers, generators, links, loads, stores\n",
      "INFO:linopy.model: Solve problem using Highs solver\n",
      "INFO:linopy.io:Writing objective.\n",
      "Writing constraints.: 100%|\u001b[38;2;128;191;255m██████████\u001b[0m| 17/17 [00:00<00:00, 39.69it/s]\n",
      "Writing continuous variables.: 100%|\u001b[38;2;128;191;255m██████████\u001b[0m| 9/9 [00:00<00:00, 116.07it/s]\n",
      "Writing integer variables.: 100%|\u001b[38;2;128;191;255m██████████\u001b[0m| 2/2 [00:00<00:00, 889.75it/s]\n",
      "INFO:linopy.io: Writing time: 0.54s\n",
      "INFO:linopy.solvers:Log file at /tmp/highs.log\n"
     ]
    },
    {
     "name": "stdout",
     "output_type": "stream",
     "text": [
      "Running HiGHS 1.7.2 (git hash: 184e327): Copyright (c) 2024 HiGHS under MIT licence terms\n",
      "Coefficient ranges:\n",
      "  Matrix [4e-06, 3e+02]\n",
      "  Cost   [6e+01, 2e+06]\n",
      "  Bound  [0e+00, 0e+00]\n",
      "  RHS    [7e+02, 2e+03]\n",
      "Presolving model\n",
      "45264 rows, 36512 cols, 118272 nonzeros  0s\n",
      "37991 rows, 29239 cols, 111910 nonzeros  0s\n",
      "37991 rows, 29239 cols, 111910 nonzeros  0s\n",
      "\n",
      "Solving MIP model with:\n",
      "   37991 rows\n",
      "   29239 cols (0 binary, 5 integer, 0 implied int., 29234 continuous)\n",
      "   111910 nonzeros\n",
      "\n",
      "        Nodes      |    B&B Tree     |            Objective Bounds              |  Dynamic Constraints |       Work      \n",
      "     Proc. InQueue |  Leaves   Expl. | BestBound       BestSol              Gap |   Cuts   InLp Confl. | LpIters     Time\n",
      "\n",
      "         0       0         0   0.00%   -inf            inf                  inf        0      0      0         0     0.2s\n",
      " S       0       0         0   0.00%   -inf            12808092758.05     Large        0      0      0         0     6.1s\n",
      "\n",
      "Solving report\n",
      "  Status            Optimal\n",
      "  Primal bound      12808092758.1\n",
      "  Dual bound        12807132077.8\n",
      "  Gap               0.0075% (tolerance: 0.01%)\n",
      "  Solution status   feasible\n",
      "                    12808092758.1 (objective)"
     ]
    },
    {
     "name": "stderr",
     "output_type": "stream",
     "text": [
      "INFO:linopy.constants: Optimization successful: \n",
      "Status: ok\n",
      "Termination condition: optimal\n",
      "Solution: 40897 primals, 90538 duals\n",
      "Objective: 1.28e+10\n",
      "Solver model: available\n",
      "Solver message: optimal\n",
      "\n",
      "INFO:pypsa.optimization.optimize:The shadow-prices of the constraints Generator-ext-p-lower, Generator-ext-p-upper, Link-ext-p-lower, Link-ext-p-upper, Store-ext-e-lower, Store-ext-e-upper, Store-energy_balance were not assigned to the network.\n"
     ]
    },
    {
     "name": "stdout",
     "output_type": "stream",
     "text": [
      "\n",
      "                    0 (bound viol.)\n",
      "                    0 (int. viol.)\n",
      "                    0 (row viol.)\n",
      "  Timing            6.09 (total)\n",
      "                    0.18 (presolve)\n",
      "                    0.00 (postsolve)\n",
      "  Nodes             1\n",
      "  LP iterations     37957 (total)\n",
      "                    0 (strong br.)\n",
      "                    0 (separation)\n",
      "                    0 (heuristics)\n",
      "Writing the solution to /tmp/linopy-solve-mou5agus.sol\n"
     ]
    },
    {
     "name": "stderr",
     "output_type": "stream",
     "text": [
      "INFO:pypsa.io:Exported network network.nc has stores, carriers, loads, buses, generators, links\n",
      "INFO:pypsa.io:Imported network network.nc has buses, carriers, generators, links, loads, stores\n",
      "/home/viktor/code/pypsa-vgr/generator/library/output_files.py:289: FutureWarning:\n",
      "\n",
      "A value is trying to be set on a copy of a DataFrame or Series through chained assignment using an inplace method.\n",
      "The behavior will change in pandas 3.0. This inplace method will never work because the intermediate object on which we are setting values always behaves as a copy.\n",
      "\n",
      "For example, when doing 'df[col].method(value, inplace=True)', try using 'df.method({col: value}, inplace=True)' or df[col] = df[col].method(value) instead, to perform the operation inplace on the original object.\n",
      "\n",
      "\n",
      "\n"
     ]
    },
    {
     "name": "stdout",
     "output_type": "stream",
     "text": [
      "31 out of 120: ('14', 2030, 1, 10, True, True, 0)\n",
      "Create and store parameters\n",
      "Check weather files\n",
      "Check renewables data\n",
      "Create and store demand\n",
      "Create and store network\n",
      "Using config:\n",
      "\th2:True\n",
      "\toffwind:True\n",
      "\tbiogas:300\n"
     ]
    },
    {
     "name": "stderr",
     "output_type": "stream",
     "text": [
      "INFO:pypsa.io:Exported network network.nc has stores, carriers, loads, buses, generators, links\n"
     ]
    },
    {
     "name": "stdout",
     "output_type": "stream",
     "text": [
      "Run optimization\n"
     ]
    },
    {
     "name": "stderr",
     "output_type": "stream",
     "text": [
      "INFO:pypsa.io:Imported network network.nc has buses, carriers, generators, links, loads, stores\n",
      "INFO:linopy.model: Solve problem using Highs solver\n",
      "INFO:linopy.io:Writing objective.\n",
      "Writing constraints.: 100%|\u001b[38;2;128;191;255m██████████\u001b[0m| 17/17 [00:00<00:00, 35.83it/s]\n",
      "Writing continuous variables.: 100%|\u001b[38;2;128;191;255m██████████\u001b[0m| 9/9 [00:00<00:00, 104.00it/s]\n",
      "Writing integer variables.: 100%|\u001b[38;2;128;191;255m██████████\u001b[0m| 2/2 [00:00<00:00, 576.93it/s]\n",
      "INFO:linopy.io: Writing time: 0.6s\n",
      "INFO:linopy.solvers:Log file at /tmp/highs.log\n"
     ]
    },
    {
     "name": "stdout",
     "output_type": "stream",
     "text": [
      "Running HiGHS 1.7.2 (git hash: 184e327): Copyright (c) 2024 HiGHS under MIT licence terms\n",
      "Coefficient ranges:\n",
      "  Matrix [4e-06, 3e+02]\n",
      "  Cost   [6e+01, 2e+06]\n",
      "  Bound  [0e+00, 0e+00]\n",
      "  RHS    [3e+02, 2e+03]\n",
      "Presolving model\n",
      "48184 rows, 42352 cols, 127032 nonzeros  0s\n",
      "38071 rows, 32239 cols, 117366 nonzeros  0s\n",
      "37991 rows, 32159 cols, 117722 nonzeros  0s\n",
      "\n",
      "Solving MIP model with:\n",
      "   37991 rows\n",
      "   32159 cols (0 binary, 5 integer, 0 implied int., 32154 continuous)\n",
      "   117722 nonzeros\n",
      "\n",
      "        Nodes      |    B&B Tree     |            Objective Bounds              |  Dynamic Constraints |       Work      \n",
      "     Proc. InQueue |  Leaves   Expl. | BestBound       BestSol              Gap |   Cuts   InLp Confl. | LpIters     Time\n",
      "\n",
      "         0       0         0   0.00%   -inf            inf                  inf        0      0      0         0     0.2s\n",
      " S       0       0         0   0.00%   -inf            11686325919.11     Large        0      0      0         0    10.7s\n",
      " R       0       0         0   0.00%   11684646511.35  11684657438.04     0.00%        0      0      0     46521    10.9s\n",
      "\n",
      "Solving report\n",
      "  Status            Optimal\n",
      "  Primal bound      11684657438\n",
      "  Dual bound        11684646511.4\n",
      " "
     ]
    },
    {
     "name": "stderr",
     "output_type": "stream",
     "text": [
      "INFO:linopy.constants: Optimization successful: \n",
      "Status: ok\n",
      "Termination condition: optimal\n",
      "Solution: 46739 primals, 105141 duals\n",
      "Objective: 1.17e+10\n",
      "Solver model: available\n",
      "Solver message: optimal\n",
      "\n",
      "INFO:pypsa.optimization.optimize:The shadow-prices of the constraints Generator-ext-p-lower, Generator-ext-p-upper, Link-ext-p-lower, Link-ext-p-upper, Store-ext-e-lower, Store-ext-e-upper, Store-energy_balance were not assigned to the network.\n"
     ]
    },
    {
     "name": "stdout",
     "output_type": "stream",
     "text": [
      " Gap               9.4e-05% (tolerance: 0.01%)\n",
      "  Solution status   feasible\n",
      "                    11684657438 (objective)\n",
      "                    0 (bound viol.)\n",
      "                    0 (int. viol.)\n",
      "                    0 (row viol.)\n",
      "  Timing            11.30 (total)\n",
      "                    0.22 (presolve)\n",
      "                    0.00 (postsolve)\n",
      "  Nodes             1\n",
      "  LP iterations     46521 (total)\n",
      "                    0 (strong br.)\n",
      "                    0 (separation)\n",
      "                    0 (heuristics)\n",
      "Writing the solution to /tmp/linopy-solve-ogmm6xs_.sol\n"
     ]
    },
    {
     "name": "stderr",
     "output_type": "stream",
     "text": [
      "INFO:pypsa.io:Exported network network.nc has stores, carriers, loads, buses, generators, links\n",
      "INFO:pypsa.io:Imported network network.nc has buses, carriers, generators, links, loads, stores\n",
      "/home/viktor/code/pypsa-vgr/generator/library/output_files.py:289: FutureWarning:\n",
      "\n",
      "A value is trying to be set on a copy of a DataFrame or Series through chained assignment using an inplace method.\n",
      "The behavior will change in pandas 3.0. This inplace method will never work because the intermediate object on which we are setting values always behaves as a copy.\n",
      "\n",
      "For example, when doing 'df[col].method(value, inplace=True)', try using 'df.method({col: value}, inplace=True)' or df[col] = df[col].method(value) instead, to perform the operation inplace on the original object.\n",
      "\n",
      "\n",
      "\n"
     ]
    },
    {
     "name": "stdout",
     "output_type": "stream",
     "text": [
      "32 out of 120: ('14', 2030, 1, 10, True, True, 300)\n",
      "Create and store parameters\n",
      "Check weather files\n",
      "Check renewables data\n",
      "Create and store demand\n",
      "Create and store network\n",
      "Using config:\n",
      "\th2:True\n",
      "\toffwind:True\n",
      "\tbiogas:600\n"
     ]
    },
    {
     "name": "stderr",
     "output_type": "stream",
     "text": [
      "INFO:pypsa.io:Exported network network.nc has stores, carriers, loads, buses, generators, links\n"
     ]
    },
    {
     "name": "stdout",
     "output_type": "stream",
     "text": [
      "Run optimization\n"
     ]
    },
    {
     "name": "stderr",
     "output_type": "stream",
     "text": [
      "INFO:pypsa.io:Imported network network.nc has buses, carriers, generators, links, loads, stores\n",
      "INFO:linopy.model: Solve problem using Highs solver\n",
      "INFO:linopy.io:Writing objective.\n",
      "Writing constraints.: 100%|\u001b[38;2;128;191;255m██████████\u001b[0m| 17/17 [00:00<00:00, 35.16it/s]\n",
      "Writing continuous variables.: 100%|\u001b[38;2;128;191;255m██████████\u001b[0m| 9/9 [00:00<00:00, 107.15it/s]\n",
      "Writing integer variables.: 100%|\u001b[38;2;128;191;255m██████████\u001b[0m| 2/2 [00:00<00:00, 675.74it/s]\n",
      "INFO:linopy.io: Writing time: 0.6s\n",
      "INFO:linopy.solvers:Log file at /tmp/highs.log\n"
     ]
    },
    {
     "name": "stdout",
     "output_type": "stream",
     "text": [
      "Running HiGHS 1.7.2 (git hash: 184e327): Copyright (c) 2024 HiGHS under MIT licence terms\n",
      "Coefficient ranges:\n",
      "  Matrix [4e-06, 3e+02]\n",
      "  Cost   [6e+01, 2e+06]\n",
      "  Bound  [0e+00, 0e+00]\n",
      "  RHS    [6e+02, 2e+03]\n"
     ]
    },
    {
     "name": "stderr",
     "output_type": "stream",
     "text": [
      "INFO:linopy.constants: Optimization successful: \n",
      "Status: ok\n",
      "Termination condition: optimal\n",
      "Solution: 46739 primals, 105141 duals\n",
      "Objective: 1.07e+10\n",
      "Solver model: available\n",
      "Solver message: optimal\n",
      "\n",
      "INFO:pypsa.optimization.optimize:The shadow-prices of the constraints Generator-ext-p-lower, Generator-ext-p-upper, Link-ext-p-lower, Link-ext-p-upper, Store-ext-e-lower, Store-ext-e-upper, Store-energy_balance were not assigned to the network.\n"
     ]
    },
    {
     "name": "stdout",
     "output_type": "stream",
     "text": [
      "Presolving model\n",
      "48184 rows, 42352 cols, 127032 nonzeros  0s\n",
      "38071 rows, 32239 cols, 117366 nonzeros  0s\n",
      "37991 rows, 32159 cols, 117722 nonzeros  0s\n",
      "\n",
      "Solving MIP model with:\n",
      "   37991 rows\n",
      "   32159 cols (0 binary, 5 integer, 0 implied int., 32154 continuous)\n",
      "   117722 nonzeros\n",
      "\n",
      "        Nodes      |    B&B Tree     |            Objective Bounds              |  Dynamic Constraints |       Work      \n",
      "     Proc. InQueue |  Leaves   Expl. | BestBound       BestSol              Gap |   Cuts   InLp Confl. | LpIters     Time\n",
      "\n",
      "         0       0         0   0.00%   -inf            inf                  inf        0      0      0         0     0.3s\n",
      " S       0       0         0   0.00%   -inf            10683206494.23     Large        0      0      0         0    12.1s\n",
      " R       0       0         0   0.00%   10680699795.23  10680714301.31     0.00%        0      0      0     45924    12.4s\n",
      "\n",
      "Solving report\n",
      "  Status            Optimal\n",
      "  Primal bound      10680714301.3\n",
      "  Dual bound        10680699795.2\n",
      "  Gap               0.000136% (tolerance: 0.01%)\n",
      "  Solution status   feasible\n",
      "                    10680714301.3 (objective)\n",
      "                    0 (bound viol.)\n",
      "                    0 (int. viol.)\n",
      "                    0 (row viol.)\n",
      "  Timing            12.39 (total)\n",
      "                    0.24 (presolve)\n",
      "                    0.00 (postsolve)\n",
      "  Nodes             1\n",
      "  LP iterations     45924 (total)\n",
      "                    0 (strong br.)\n",
      "                    0 (separation)\n",
      "                    0 (heuristics)\n",
      "Writing the solution to /tmp/linopy-solve-4m6a7szi.sol\n"
     ]
    },
    {
     "name": "stderr",
     "output_type": "stream",
     "text": [
      "INFO:pypsa.io:Exported network network.nc has stores, carriers, loads, buses, generators, links\n",
      "INFO:pypsa.io:Imported network network.nc has buses, carriers, generators, links, loads, stores\n",
      "/home/viktor/code/pypsa-vgr/generator/library/output_files.py:289: FutureWarning:\n",
      "\n",
      "A value is trying to be set on a copy of a DataFrame or Series through chained assignment using an inplace method.\n",
      "The behavior will change in pandas 3.0. This inplace method will never work because the intermediate object on which we are setting values always behaves as a copy.\n",
      "\n",
      "For example, when doing 'df[col].method(value, inplace=True)', try using 'df.method({col: value}, inplace=True)' or df[col] = df[col].method(value) instead, to perform the operation inplace on the original object.\n",
      "\n",
      "\n",
      "\n"
     ]
    },
    {
     "name": "stdout",
     "output_type": "stream",
     "text": [
      "33 out of 120: ('14', 2030, 1, 10, True, True, 600)\n",
      "Create and store parameters\n",
      "Check weather files\n",
      "Check renewables data\n",
      "Create and store demand\n",
      "Create and store network\n",
      "Using config:\n",
      "\th2:True\n",
      "\toffwind:True\n",
      "\tbiogas:1200\n"
     ]
    },
    {
     "name": "stderr",
     "output_type": "stream",
     "text": [
      "INFO:pypsa.io:Exported network network.nc has stores, carriers, loads, buses, generators, links\n"
     ]
    },
    {
     "name": "stdout",
     "output_type": "stream",
     "text": [
      "Run optimization\n"
     ]
    },
    {
     "name": "stderr",
     "output_type": "stream",
     "text": [
      "INFO:pypsa.io:Imported network network.nc has buses, carriers, generators, links, loads, stores\n",
      "INFO:linopy.model: Solve problem using Highs solver\n",
      "INFO:linopy.io:Writing objective.\n",
      "Writing constraints.: 100%|\u001b[38;2;128;191;255m██████████\u001b[0m| 17/17 [00:00<00:00, 33.10it/s]\n",
      "Writing continuous variables.: 100%|\u001b[38;2;128;191;255m██████████\u001b[0m| 9/9 [00:00<00:00, 87.73it/s]\n",
      "Writing integer variables.: 100%|\u001b[38;2;128;191;255m██████████\u001b[0m| 2/2 [00:00<00:00, 715.32it/s]\n",
      "INFO:linopy.io: Writing time: 0.66s\n",
      "INFO:linopy.solvers:Log file at /tmp/highs.log\n"
     ]
    },
    {
     "name": "stdout",
     "output_type": "stream",
     "text": [
      "Running HiGHS 1.7.2 (git hash: 184e327): Copyright (c) 2024 HiGHS under MIT licence terms\n"
     ]
    },
    {
     "name": "stderr",
     "output_type": "stream",
     "text": [
      "INFO:linopy.constants: Optimization successful: \n",
      "Status: ok\n",
      "Termination condition: optimal\n",
      "Solution: 46739 primals, 105141 duals\n",
      "Objective: 9.12e+09\n",
      "Solver model: available\n",
      "Solver message: optimal\n",
      "\n",
      "INFO:pypsa.optimization.optimize:The shadow-prices of the constraints Generator-ext-p-lower, Generator-ext-p-upper, Link-ext-p-lower, Link-ext-p-upper, Store-ext-e-lower, Store-ext-e-upper, Store-energy_balance were not assigned to the network.\n"
     ]
    },
    {
     "name": "stdout",
     "output_type": "stream",
     "text": [
      "Coefficient ranges:\n",
      "  Matrix [4e-06, 3e+02]\n",
      "  Cost   [6e+01, 2e+06]\n",
      "  Bound  [0e+00, 0e+00]\n",
      "  RHS    [7e+02, 2e+03]\n",
      "Presolving model\n",
      "48184 rows, 42352 cols, 127032 nonzeros  0s\n",
      "38071 rows, 32239 cols, 117366 nonzeros  0s\n",
      "37991 rows, 32159 cols, 117722 nonzeros  0s\n",
      "\n",
      "Solving MIP model with:\n",
      "   37991 rows\n",
      "   32159 cols (0 binary, 5 integer, 0 implied int., 32154 continuous)\n",
      "   117722 nonzeros\n",
      "\n",
      "        Nodes      |    B&B Tree     |            Objective Bounds              |  Dynamic Constraints |       Work      \n",
      "     Proc. InQueue |  Leaves   Expl. | BestBound       BestSol              Gap |   Cuts   InLp Confl. | LpIters     Time\n",
      "\n",
      "         0       0         0   0.00%   -inf            inf                  inf        0      0      0         0     0.2s\n",
      " S       0       0         0   0.00%   -inf            9124943311.837     Large        0      0      0         0    20.9s\n",
      " R       0       0         0   0.00%   9123058876.849  9123094371.777     0.00%        0      0      0     67979    21.2s\n",
      "\n",
      "Solving report\n",
      "  Status            Optimal\n",
      "  Primal bound      9123094371.78\n",
      "  Dual bound        9123058876.85\n",
      "  Gap               0.000389% (tolerance: 0.01%)\n",
      "  Solution status   feasible\n",
      "                    9123094371.78 (objective)\n",
      "                    0 (bound viol.)\n",
      "                    0 (int. viol.)\n",
      "                    0 (row viol.)\n",
      "  Timing            21.18 (total)\n",
      "                    0.20 (presolve)\n",
      "                    0.00 (postsolve)\n",
      "  Nodes             1\n",
      "  LP iterations     67979 (total)\n",
      "                    0 (strong br.)\n",
      "                    0 (separation)\n",
      "                    0 (heuristics)\n",
      "Writing the solution to /tmp/linopy-solve-0ld3q6g7.sol\n"
     ]
    },
    {
     "name": "stderr",
     "output_type": "stream",
     "text": [
      "INFO:pypsa.io:Exported network network.nc has stores, carriers, loads, buses, generators, links\n",
      "INFO:pypsa.io:Imported network network.nc has buses, carriers, generators, links, loads, stores\n",
      "/home/viktor/code/pypsa-vgr/generator/library/output_files.py:289: FutureWarning:\n",
      "\n",
      "A value is trying to be set on a copy of a DataFrame or Series through chained assignment using an inplace method.\n",
      "The behavior will change in pandas 3.0. This inplace method will never work because the intermediate object on which we are setting values always behaves as a copy.\n",
      "\n",
      "For example, when doing 'df[col].method(value, inplace=True)', try using 'df.method({col: value}, inplace=True)' or df[col] = df[col].method(value) instead, to perform the operation inplace on the original object.\n",
      "\n",
      "\n",
      "\n"
     ]
    },
    {
     "name": "stdout",
     "output_type": "stream",
     "text": [
      "34 out of 120: ('14', 2030, 1, 10, True, True, 1200)\n",
      "Create and store parameters\n",
      "Check weather files\n",
      "Check renewables data\n",
      "Create and store demand\n",
      "Create and store network\n",
      "Using config:\n",
      "\th2:True\n",
      "\toffwind:True\n",
      "\tbiogas:1800\n"
     ]
    },
    {
     "name": "stderr",
     "output_type": "stream",
     "text": [
      "INFO:pypsa.io:Exported network network.nc has stores, carriers, loads, buses, generators, links\n",
      "INFO:pypsa.io:Imported network network.nc has buses, carriers, generators, links, loads, stores\n"
     ]
    },
    {
     "name": "stdout",
     "output_type": "stream",
     "text": [
      "Run optimization\n"
     ]
    },
    {
     "name": "stderr",
     "output_type": "stream",
     "text": [
      "INFO:linopy.model: Solve problem using Highs solver\n",
      "INFO:linopy.io:Writing objective.\n",
      "Writing constraints.: 100%|\u001b[38;2;128;191;255m██████████\u001b[0m| 17/17 [00:00<00:00, 30.10it/s]\n",
      "Writing continuous variables.: 100%|\u001b[38;2;128;191;255m██████████\u001b[0m| 9/9 [00:00<00:00, 92.85it/s]\n",
      "Writing integer variables.: 100%|\u001b[38;2;128;191;255m██████████\u001b[0m| 2/2 [00:00<00:00, 684.67it/s]\n",
      "INFO:linopy.io: Writing time: 0.72s\n",
      "INFO:linopy.solvers:Log file at /tmp/highs.log\n"
     ]
    },
    {
     "name": "stdout",
     "output_type": "stream",
     "text": [
      "Running HiGHS 1.7.2 (git hash: 184e327): Copyright (c) 2024 HiGHS under MIT licence terms\n"
     ]
    },
    {
     "name": "stderr",
     "output_type": "stream",
     "text": [
      "INFO:linopy.constants: Optimization successful: \n",
      "Status: ok\n",
      "Termination condition: optimal\n",
      "Solution: 46739 primals, 105141 duals\n",
      "Objective: 8.33e+09\n",
      "Solver model: available\n",
      "Solver message: optimal\n",
      "\n"
     ]
    },
    {
     "name": "stdout",
     "output_type": "stream",
     "text": [
      "Coefficient ranges:\n",
      "  Matrix [4e-06, 3e+02]\n",
      "  Cost   [6e+01, 2e+06]\n",
      "  Bound  [0e+00, 0e+00]\n",
      "  RHS    [7e+02, 2e+03]\n",
      "Presolving model\n",
      "48184 rows, 42352 cols, 127032 nonzeros  0s\n",
      "38071 rows, 32239 cols, 117366 nonzeros  0s\n",
      "37991 rows, 32159 cols, 117722 nonzeros  0s\n",
      "\n",
      "Solving MIP model with:\n",
      "   37991 rows\n",
      "   32159 cols (0 binary, 5 integer, 0 implied int., 32154 continuous)\n",
      "   117722 nonzeros\n",
      "\n",
      "        Nodes      |    B&B Tree     |            Objective Bounds              |  Dynamic Constraints |       Work      \n",
      "     Proc. InQueue |  Leaves   Expl. | BestBound       BestSol              Gap |   Cuts   InLp Confl. | LpIters     Time\n",
      "\n",
      "         0       0         0   0.00%   -inf            inf                  inf        0      0      0         0     0.3s\n",
      " S       0       0         0   0.00%   -inf            8331175870.714     Large        0      0      0         0    20.5s\n",
      " R       0       0         0   0.00%   8328836316.759  8328858221.39      0.00%        0      0      0     64693    20.7s\n",
      "\n",
      "Solving report\n",
      "  Status            Optimal\n",
      "  Primal bound      8328858221.39\n",
      "  Dual bound        8328836316.76\n",
      "  Gap               0.000263% (tolerance: 0.01%)\n",
      "  Solution status   feasible\n",
      "                    8328858221.39 (objective)\n",
      "                    0 (bound viol.)\n",
      "                    0 (int. viol.)\n",
      "                    0 (row viol.)\n",
      "  Timing            20.77 (total)\n",
      "                    0.23 (presolve)\n",
      "                    0.00 (postsolve)\n",
      "  Nodes             1\n",
      "  LP iterations     64693 (total)\n",
      "                    0 (strong br.)\n",
      "                    0 (separation)\n",
      "                    0 (heuristics)\n",
      "Writing the solution to /tmp/linopy-solve-3jghjlwd.sol\n"
     ]
    },
    {
     "name": "stderr",
     "output_type": "stream",
     "text": [
      "INFO:pypsa.optimization.optimize:The shadow-prices of the constraints Generator-ext-p-lower, Generator-ext-p-upper, Link-ext-p-lower, Link-ext-p-upper, Store-ext-e-lower, Store-ext-e-upper, Store-energy_balance were not assigned to the network.\n",
      "INFO:pypsa.io:Exported network network.nc has stores, carriers, loads, buses, generators, links\n",
      "INFO:pypsa.io:Imported network network.nc has buses, carriers, generators, links, loads, stores\n",
      "/home/viktor/code/pypsa-vgr/generator/library/output_files.py:289: FutureWarning:\n",
      "\n",
      "A value is trying to be set on a copy of a DataFrame or Series through chained assignment using an inplace method.\n",
      "The behavior will change in pandas 3.0. This inplace method will never work because the intermediate object on which we are setting values always behaves as a copy.\n",
      "\n",
      "For example, when doing 'df[col].method(value, inplace=True)', try using 'df.method({col: value}, inplace=True)' or df[col] = df[col].method(value) instead, to perform the operation inplace on the original object.\n",
      "\n",
      "\n",
      "\n"
     ]
    },
    {
     "name": "stdout",
     "output_type": "stream",
     "text": [
      "35 out of 120: ('14', 2030, 1, 10, True, True, 1800)\n",
      "Create and store parameters\n",
      "Check weather files\n",
      "Check renewables data\n",
      "Create and store demand\n",
      "Create and store network\n",
      "Using config:\n",
      "\th2:True\n",
      "\toffwind:True\n",
      "\tbiogas:0\n"
     ]
    },
    {
     "name": "stderr",
     "output_type": "stream",
     "text": [
      "INFO:pypsa.io:Exported network network.nc has stores, carriers, loads, buses, generators, links\n"
     ]
    },
    {
     "name": "stdout",
     "output_type": "stream",
     "text": [
      "Run optimization\n"
     ]
    },
    {
     "name": "stderr",
     "output_type": "stream",
     "text": [
      "INFO:pypsa.io:Imported network network.nc has buses, carriers, generators, links, loads, stores\n",
      "INFO:linopy.model: Solve problem using Highs solver\n",
      "INFO:linopy.io:Writing objective.\n",
      "Writing constraints.: 100%|\u001b[38;2;128;191;255m██████████\u001b[0m| 17/17 [00:00<00:00, 34.96it/s]\n",
      "Writing continuous variables.: 100%|\u001b[38;2;128;191;255m██████████\u001b[0m| 9/9 [00:00<00:00, 99.72it/s]\n",
      "Writing integer variables.: 100%|\u001b[38;2;128;191;255m██████████\u001b[0m| 2/2 [00:00<00:00, 591.58it/s]\n",
      "INFO:linopy.io: Writing time: 0.62s\n",
      "INFO:linopy.solvers:Log file at /tmp/highs.log\n"
     ]
    },
    {
     "name": "stdout",
     "output_type": "stream",
     "text": [
      "Running HiGHS 1.7.2 (git hash: 184e327): Copyright (c) 2024 HiGHS under MIT licence terms\n",
      "Coefficient ranges:\n",
      "  Matrix [4e-06, 3e+02]\n",
      "  Cost   [6e+01, 2e+06]\n",
      "  Bound  [0e+00, 0e+00]\n",
      "  RHS    [1e+03, 3e+03]\n",
      "Presolving model\n",
      "45264 rows, 36512 cols, 118272 nonzeros  0s\n",
      "37991 rows, 29239 cols, 111910 nonzeros  0s\n",
      "37991 rows, 29239 cols, 111910 nonzeros  0s\n",
      "\n",
      "Solving MIP model with:\n",
      "   37991 rows\n",
      "   29239 cols (0 binary, 5 integer, 0 implied int., 29234 continuous)\n",
      "   111910 nonzeros\n",
      "\n",
      "        Nodes      |    B&B Tree     |            Objective Bounds              |  Dynamic Constraints |       Work      \n",
      "     Proc. InQueue |  Leaves   Expl. | BestBound       BestSol              Gap |   Cuts   InLp Confl. | LpIters     Time\n",
      "\n",
      "         0       0         0   0.00%   -inf            inf                  inf        0      0      0         0     0.2s\n",
      " S       0       0         0   0.00%   -inf            19211835734.16     Large        0      0      0         0     6.0s\n",
      "\n",
      "Solving report\n",
      "  Status            Optimal\n",
      "  Primal bound      19211835734.2\n",
      "  Dual bound        19210698116.7\n",
      "  Gap               0.00592% (tolerance: 0.01%)\n",
      "  Solution status   feasible\n",
      "                    19211835734.2 (objective)\n",
      "                    0 (bound viol.)\n",
      "                    0 (int. viol.)\n",
      "                    0 (row viol.)\n",
      "  Timing            6.05 (total)\n",
      "                    0.20 (presolve)\n",
      "                    0.00 (postsolve)\n",
      "  Nodes             1\n",
      "  LP iterations     34762 (total)\n",
      "                    0 (strong br.)\n",
      "                    0 (separation)\n",
      "                    0 (heuristics)\n",
      "Writing the solution to /tmp/linopy-solve-871vjmwr.sol\n"
     ]
    },
    {
     "name": "stderr",
     "output_type": "stream",
     "text": [
      "INFO:linopy.constants: Optimization successful: \n",
      "Status: ok\n",
      "Termination condition: optimal\n",
      "Solution: 40897 primals, 90538 duals\n",
      "Objective: 1.92e+10\n",
      "Solver model: available\n",
      "Solver message: optimal\n",
      "\n",
      "INFO:pypsa.optimization.optimize:The shadow-prices of the constraints Generator-ext-p-lower, Generator-ext-p-upper, Link-ext-p-lower, Link-ext-p-upper, Store-ext-e-lower, Store-ext-e-upper, Store-energy_balance were not assigned to the network.\n",
      "INFO:pypsa.io:Exported network network.nc has stores, carriers, loads, buses, generators, links\n",
      "INFO:pypsa.io:Imported network network.nc has buses, carriers, generators, links, loads, stores\n",
      "/home/viktor/code/pypsa-vgr/generator/library/output_files.py:289: FutureWarning:\n",
      "\n",
      "A value is trying to be set on a copy of a DataFrame or Series through chained assignment using an inplace method.\n",
      "The behavior will change in pandas 3.0. This inplace method will never work because the intermediate object on which we are setting values always behaves as a copy.\n",
      "\n",
      "For example, when doing 'df[col].method(value, inplace=True)', try using 'df.method({col: value}, inplace=True)' or df[col] = df[col].method(value) instead, to perform the operation inplace on the original object.\n",
      "\n",
      "\n",
      "\n"
     ]
    },
    {
     "name": "stdout",
     "output_type": "stream",
     "text": [
      "36 out of 120: ('14', 2030, 1, 15, True, True, 0)\n",
      "Create and store parameters\n",
      "Check weather files\n",
      "Check renewables data\n",
      "Create and store demand\n",
      "Create and store network\n",
      "Using config:\n",
      "\th2:True\n",
      "\toffwind:True\n",
      "\tbiogas:300\n"
     ]
    },
    {
     "name": "stderr",
     "output_type": "stream",
     "text": [
      "INFO:pypsa.io:Exported network network.nc has stores, carriers, loads, buses, generators, links\n"
     ]
    },
    {
     "name": "stdout",
     "output_type": "stream",
     "text": [
      "Run optimization\n"
     ]
    },
    {
     "name": "stderr",
     "output_type": "stream",
     "text": [
      "INFO:pypsa.io:Imported network network.nc has buses, carriers, generators, links, loads, stores\n",
      "INFO:linopy.model: Solve problem using Highs solver\n",
      "INFO:linopy.io:Writing objective.\n",
      "Writing constraints.: 100%|\u001b[38;2;128;191;255m██████████\u001b[0m| 17/17 [00:00<00:00, 32.25it/s]\n",
      "Writing continuous variables.: 100%|\u001b[38;2;128;191;255m██████████\u001b[0m| 9/9 [00:00<00:00, 93.10it/s]\n",
      "Writing integer variables.: 100%|\u001b[38;2;128;191;255m██████████\u001b[0m| 2/2 [00:00<00:00, 643.10it/s]\n",
      "INFO:linopy.io: Writing time: 0.67s\n",
      "INFO:linopy.solvers:Log file at /tmp/highs.log\n",
      "INFO:linopy.constants: Optimization successful: \n",
      "Status: ok\n",
      "Termination condition: optimal\n",
      "Solution: 46739 primals, 105141 duals\n",
      "Objective: 1.81e+10\n",
      "Solver model: available\n",
      "Solver message: optimal\n",
      "\n",
      "INFO:pypsa.optimization.optimize:The shadow-prices of the constraints Generator-ext-p-lower, Generator-ext-p-upper, Link-ext-p-lower, Link-ext-p-upper, Store-ext-e-lower, Store-ext-e-upper, Store-energy_balance were not assigned to the network.\n"
     ]
    },
    {
     "name": "stdout",
     "output_type": "stream",
     "text": [
      "Running HiGHS 1.7.2 (git hash: 184e327): Copyright (c) 2024 HiGHS under MIT licence terms\n",
      "Coefficient ranges:\n",
      "  Matrix [4e-06, 3e+02]\n",
      "  Cost   [6e+01, 2e+06]\n",
      "  Bound  [0e+00, 0e+00]\n",
      "  RHS    [3e+02, 3e+03]\n",
      "Presolving model\n",
      "48184 rows, 42352 cols, 127032 nonzeros  0s\n",
      "38071 rows, 32239 cols, 117366 nonzeros  0s\n",
      "37991 rows, 32159 cols, 117722 nonzeros  0s\n",
      "\n",
      "Solving MIP model with:\n",
      "   37991 rows\n",
      "   32159 cols (0 binary, 5 integer, 0 implied int., 32154 continuous)\n",
      "   117722 nonzeros\n",
      "\n",
      "        Nodes      |    B&B Tree     |            Objective Bounds              |  Dynamic Constraints |       Work      \n",
      "     Proc. InQueue |  Leaves   Expl. | BestBound       BestSol              Gap |   Cuts   InLp Confl. | LpIters     Time\n",
      "\n",
      "         0       0         0   0.00%   -inf            inf                  inf        0      0      0         0     0.3s\n",
      " S       0       0         0   0.00%   -inf            18074335343.8      Large        0      0      0         0     9.4s\n",
      "\n",
      "Solving report\n",
      "  Status            Optimal\n",
      "  Primal bound      18074335343.8\n",
      "  Dual bound        18074019785.1\n",
      "  Gap               0.00175% (tolerance: 0.01%)\n",
      "  Solution status   feasible\n",
      "                    18074335343.8 (objective)\n",
      "                    0 (bound viol.)\n",
      "                    0 (int. viol.)\n",
      "                    0 (row viol.)\n",
      "  Timing            9.44 (total)\n",
      "                    0.26 (presolve)\n",
      "                    0.00 (postsolve)\n",
      "  Nodes             1\n",
      "  LP iterations     39709 (total)\n",
      "                    0 (strong br.)\n",
      "                    0 (separation)\n",
      "                    0 (heuristics)\n",
      "Writing the solution to /tmp/linopy-solve-ma07y3q0.sol\n"
     ]
    },
    {
     "name": "stderr",
     "output_type": "stream",
     "text": [
      "INFO:pypsa.io:Exported network network.nc has stores, carriers, loads, buses, generators, links\n",
      "INFO:pypsa.io:Imported network network.nc has buses, carriers, generators, links, loads, stores\n",
      "/home/viktor/code/pypsa-vgr/generator/library/output_files.py:289: FutureWarning:\n",
      "\n",
      "A value is trying to be set on a copy of a DataFrame or Series through chained assignment using an inplace method.\n",
      "The behavior will change in pandas 3.0. This inplace method will never work because the intermediate object on which we are setting values always behaves as a copy.\n",
      "\n",
      "For example, when doing 'df[col].method(value, inplace=True)', try using 'df.method({col: value}, inplace=True)' or df[col] = df[col].method(value) instead, to perform the operation inplace on the original object.\n",
      "\n",
      "\n",
      "\n"
     ]
    },
    {
     "name": "stdout",
     "output_type": "stream",
     "text": [
      "37 out of 120: ('14', 2030, 1, 15, True, True, 300)\n",
      "Create and store parameters\n",
      "Check weather files\n",
      "Check renewables data\n",
      "Create and store demand\n",
      "Create and store network\n",
      "Using config:\n",
      "\th2:True\n",
      "\toffwind:True\n",
      "\tbiogas:600\n"
     ]
    },
    {
     "name": "stderr",
     "output_type": "stream",
     "text": [
      "INFO:pypsa.io:Exported network network.nc has stores, carriers, loads, buses, generators, links\n"
     ]
    },
    {
     "name": "stdout",
     "output_type": "stream",
     "text": [
      "Run optimization\n"
     ]
    },
    {
     "name": "stderr",
     "output_type": "stream",
     "text": [
      "INFO:pypsa.io:Imported network network.nc has buses, carriers, generators, links, loads, stores\n",
      "INFO:linopy.model: Solve problem using Highs solver\n",
      "INFO:linopy.io:Writing objective.\n",
      "Writing constraints.: 100%|\u001b[38;2;128;191;255m██████████\u001b[0m| 17/17 [00:00<00:00, 31.31it/s]\n",
      "Writing continuous variables.: 100%|\u001b[38;2;128;191;255m██████████\u001b[0m| 9/9 [00:00<00:00, 93.42it/s]\n",
      "Writing integer variables.: 100%|\u001b[38;2;128;191;255m██████████\u001b[0m| 2/2 [00:00<00:00, 557.94it/s]\n",
      "INFO:linopy.io: Writing time: 0.68s\n",
      "INFO:linopy.solvers:Log file at /tmp/highs.log\n"
     ]
    },
    {
     "name": "stdout",
     "output_type": "stream",
     "text": [
      "Running HiGHS 1.7.2 (git hash: 184e327): Copyright (c) 2024 HiGHS under MIT licence terms\n",
      "Coefficient ranges:\n",
      "  Matrix [4e-06, 3e+02]\n",
      "  Cost   [6e+01, 2e+06]\n",
      "  Bound  [0e+00, 0e+00]\n",
      "  RHS    [6e+02, 3e+03]\n"
     ]
    },
    {
     "name": "stderr",
     "output_type": "stream",
     "text": [
      "INFO:linopy.constants: Optimization successful: \n",
      "Status: ok\n",
      "Termination condition: optimal\n",
      "Solution: 46739 primals, 105141 duals\n",
      "Objective: 1.70e+10\n",
      "Solver model: available\n",
      "Solver message: optimal\n",
      "\n",
      "INFO:pypsa.optimization.optimize:The shadow-prices of the constraints Generator-ext-p-lower, Generator-ext-p-upper, Link-ext-p-lower, Link-ext-p-upper, Store-ext-e-lower, Store-ext-e-upper, Store-energy_balance were not assigned to the network.\n"
     ]
    },
    {
     "name": "stdout",
     "output_type": "stream",
     "text": [
      "Presolving model\n",
      "48184 rows, 42352 cols, 127032 nonzeros  0s\n",
      "38071 rows, 32239 cols, 117366 nonzeros  0s\n",
      "37991 rows, 32159 cols, 117722 nonzeros  0s\n",
      "\n",
      "Solving MIP model with:\n",
      "   37991 rows\n",
      "   32159 cols (0 binary, 5 integer, 0 implied int., 32154 continuous)\n",
      "   117722 nonzeros\n",
      "\n",
      "        Nodes      |    B&B Tree     |            Objective Bounds              |  Dynamic Constraints |       Work      \n",
      "     Proc. InQueue |  Leaves   Expl. | BestBound       BestSol              Gap |   Cuts   InLp Confl. | LpIters     Time\n",
      "\n",
      "         0       0         0   0.00%   -inf            inf                  inf        0      0      0         0     0.2s\n",
      " S       0       0         0   0.00%   -inf            17008777332.6      Large        0      0      0         0    14.6s\n",
      " R       0       0         0   0.00%   17004621343.43  17004664582.33     0.00%        0      0      0     50494    14.9s\n",
      "\n",
      "Solving report\n",
      "  Status            Optimal\n",
      "  Primal bound      17004664582.3\n",
      "  Dual bound        17004621343.4\n",
      "  Gap               0.000254% (tolerance: 0.01%)\n",
      "  Solution status   feasible\n",
      "                    17004664582.3 (objective)\n",
      "                    0 (bound viol.)\n",
      "                    4.57589430488e-16 (int. viol.)\n",
      "                    0 (row viol.)\n",
      "  Timing            15.90 (total)\n",
      "                    0.21 (presolve)\n",
      "                    0.00 (postsolve)\n",
      "  Nodes             1\n",
      "  LP iterations     50494 (total)\n",
      "                    0 (strong br.)\n",
      "                    0 (separation)\n",
      "                    0 (heuristics)\n",
      "Writing the solution to /tmp/linopy-solve-2peui1ql.sol\n"
     ]
    },
    {
     "name": "stderr",
     "output_type": "stream",
     "text": [
      "INFO:pypsa.io:Exported network network.nc has stores, carriers, loads, buses, generators, links\n",
      "INFO:pypsa.io:Imported network network.nc has buses, carriers, generators, links, loads, stores\n",
      "/home/viktor/code/pypsa-vgr/generator/library/output_files.py:289: FutureWarning:\n",
      "\n",
      "A value is trying to be set on a copy of a DataFrame or Series through chained assignment using an inplace method.\n",
      "The behavior will change in pandas 3.0. This inplace method will never work because the intermediate object on which we are setting values always behaves as a copy.\n",
      "\n",
      "For example, when doing 'df[col].method(value, inplace=True)', try using 'df.method({col: value}, inplace=True)' or df[col] = df[col].method(value) instead, to perform the operation inplace on the original object.\n",
      "\n",
      "\n",
      "\n"
     ]
    },
    {
     "name": "stdout",
     "output_type": "stream",
     "text": [
      "38 out of 120: ('14', 2030, 1, 15, True, True, 600)\n",
      "Create and store parameters\n",
      "Check weather files\n",
      "Check renewables data\n",
      "Create and store demand\n",
      "Create and store network\n",
      "Using config:\n",
      "\th2:True\n",
      "\toffwind:True\n",
      "\tbiogas:1200\n"
     ]
    },
    {
     "name": "stderr",
     "output_type": "stream",
     "text": [
      "INFO:pypsa.io:Exported network network.nc has stores, carriers, loads, buses, generators, links\n"
     ]
    },
    {
     "name": "stdout",
     "output_type": "stream",
     "text": [
      "Run optimization\n"
     ]
    },
    {
     "name": "stderr",
     "output_type": "stream",
     "text": [
      "INFO:pypsa.io:Imported network network.nc has buses, carriers, generators, links, loads, stores\n",
      "INFO:linopy.model: Solve problem using Highs solver\n",
      "INFO:linopy.io:Writing objective.\n",
      "Writing constraints.: 100%|\u001b[38;2;128;191;255m██████████\u001b[0m| 17/17 [00:00<00:00, 32.14it/s]\n",
      "Writing continuous variables.: 100%|\u001b[38;2;128;191;255m██████████\u001b[0m| 9/9 [00:00<00:00, 86.86it/s]\n",
      "Writing integer variables.: 100%|\u001b[38;2;128;191;255m██████████\u001b[0m| 2/2 [00:00<00:00, 671.95it/s]\n",
      "INFO:linopy.io: Writing time: 0.67s\n",
      "INFO:linopy.solvers:Log file at /tmp/highs.log\n"
     ]
    },
    {
     "name": "stdout",
     "output_type": "stream",
     "text": [
      "Running HiGHS 1.7.2 (git hash: 184e327): Copyright (c) 2024 HiGHS under MIT licence terms\n"
     ]
    },
    {
     "name": "stderr",
     "output_type": "stream",
     "text": [
      "INFO:linopy.constants: Optimization successful: \n",
      "Status: ok\n",
      "Termination condition: optimal\n",
      "Solution: 46739 primals, 105141 duals\n",
      "Objective: 1.51e+10\n",
      "Solver model: available\n",
      "Solver message: optimal\n",
      "\n"
     ]
    },
    {
     "name": "stdout",
     "output_type": "stream",
     "text": [
      "Coefficient ranges:\n",
      "  Matrix [4e-06, 3e+02]\n",
      "  Cost   [6e+01, 2e+06]\n",
      "  Bound  [0e+00, 0e+00]\n",
      "  RHS    [1e+03, 3e+03]\n",
      "Presolving model\n",
      "48184 rows, 42352 cols, 127032 nonzeros  0s\n",
      "38071 rows, 32239 cols, 117366 nonzeros  0s\n",
      "37991 rows, 32159 cols, 117722 nonzeros  0s\n",
      "\n",
      "Solving MIP model with:\n",
      "   37991 rows\n",
      "   32159 cols (0 binary, 5 integer, 0 implied int., 32154 continuous)\n",
      "   117722 nonzeros\n",
      "\n",
      "        Nodes      |    B&B Tree     |            Objective Bounds              |  Dynamic Constraints |       Work      \n",
      "     Proc. InQueue |  Leaves   Expl. | BestBound       BestSol              Gap |   Cuts   InLp Confl. | LpIters     Time\n",
      "\n",
      "         0       0         0   0.00%   -inf            inf                  inf        0      0      0         0     0.3s\n",
      " S       0       0         0   0.00%   -inf            15146525886.25     Large        0      0      0         0    19.3s\n",
      " R       0       0         0   0.00%   15143713660.12  15143723616.99     0.00%        0      0      0     58415    19.4s\n",
      "\n",
      "Solving report\n",
      "  Status            Optimal\n",
      "  Primal bound      15143723617\n",
      "  Dual bound        15143713660.1\n",
      "  Gap               6.6e-05% (tolerance: 0.01%)\n",
      "  Solution status   feasible\n",
      "                    15143723617 (objective)\n",
      "                    0 (bound viol.)\n",
      "                    0 (int. viol.)\n",
      "                    0 (row viol.)\n",
      "  Timing            19.44 (total)\n",
      "                    0.23 (presolve)\n",
      "                    0.00 (postsolve)\n",
      "  Nodes             1\n",
      "  LP iterations     58415 (total)\n",
      "                    0 (strong br.)\n",
      "                    0 (separation)\n",
      "                    0 (heuristics)\n",
      "Writing the solution to /tmp/linopy-solve-l9b8kdoo.sol\n"
     ]
    },
    {
     "name": "stderr",
     "output_type": "stream",
     "text": [
      "INFO:pypsa.optimization.optimize:The shadow-prices of the constraints Generator-ext-p-lower, Generator-ext-p-upper, Link-ext-p-lower, Link-ext-p-upper, Store-ext-e-lower, Store-ext-e-upper, Store-energy_balance were not assigned to the network.\n",
      "INFO:pypsa.io:Exported network network.nc has stores, carriers, loads, buses, generators, links\n",
      "INFO:pypsa.io:Imported network network.nc has buses, carriers, generators, links, loads, stores\n",
      "/home/viktor/code/pypsa-vgr/generator/library/output_files.py:289: FutureWarning:\n",
      "\n",
      "A value is trying to be set on a copy of a DataFrame or Series through chained assignment using an inplace method.\n",
      "The behavior will change in pandas 3.0. This inplace method will never work because the intermediate object on which we are setting values always behaves as a copy.\n",
      "\n",
      "For example, when doing 'df[col].method(value, inplace=True)', try using 'df.method({col: value}, inplace=True)' or df[col] = df[col].method(value) instead, to perform the operation inplace on the original object.\n",
      "\n",
      "\n",
      "\n"
     ]
    },
    {
     "name": "stdout",
     "output_type": "stream",
     "text": [
      "39 out of 120: ('14', 2030, 1, 15, True, True, 1200)\n",
      "Create and store parameters\n",
      "Check weather files\n",
      "Check renewables data\n",
      "Create and store demand\n",
      "Create and store network\n",
      "Using config:\n",
      "\th2:True\n",
      "\toffwind:True\n",
      "\tbiogas:1800\n"
     ]
    },
    {
     "name": "stderr",
     "output_type": "stream",
     "text": [
      "INFO:pypsa.io:Exported network network.nc has stores, carriers, loads, buses, generators, links\n",
      "INFO:pypsa.io:Imported network network.nc has buses, carriers, generators, links, loads, stores\n"
     ]
    },
    {
     "name": "stdout",
     "output_type": "stream",
     "text": [
      "Run optimization\n"
     ]
    },
    {
     "name": "stderr",
     "output_type": "stream",
     "text": [
      "INFO:linopy.model: Solve problem using Highs solver\n",
      "INFO:linopy.io:Writing objective.\n",
      "Writing constraints.: 100%|\u001b[38;2;128;191;255m██████████\u001b[0m| 17/17 [00:00<00:00, 31.37it/s]\n",
      "Writing continuous variables.: 100%|\u001b[38;2;128;191;255m██████████\u001b[0m| 9/9 [00:00<00:00, 94.42it/s]\n",
      "Writing integer variables.: 100%|\u001b[38;2;128;191;255m██████████\u001b[0m| 2/2 [00:00<00:00, 770.30it/s]\n",
      "INFO:linopy.io: Writing time: 0.68s\n",
      "INFO:linopy.solvers:Log file at /tmp/highs.log\n"
     ]
    },
    {
     "name": "stdout",
     "output_type": "stream",
     "text": [
      "Running HiGHS 1.7.2 (git hash: 184e327): Copyright (c) 2024 HiGHS under MIT licence terms\n",
      "Coefficient ranges:\n",
      "  Matrix [4e-06, 3e+02]\n",
      "  Cost   [6e+01, 2e+06]\n",
      "  Bound  [0e+00, 0e+00]\n",
      "  RHS    [1e+03, 3e+03]\n",
      "Presolving model\n",
      "48184 rows, 42352 cols, 127032 nonzeros  0s\n",
      "38071 rows, 32239 cols, 117366 nonzeros  0s\n",
      "37991 rows, 32159 cols, 117722 nonzeros  0s\n",
      "\n",
      "Solving MIP model with:\n",
      "   37991 rows\n",
      "   32159 cols (0 binary, 5 integer, 0 implied int., 32154 continuous)\n",
      "   117722 nonzeros\n",
      "\n",
      "        Nodes      |    B&B Tree     |            Objective Bounds              |  Dynamic Constraints |       Work      \n",
      "     Proc. InQueue |  Leaves   Expl. | BestBound       BestSol              Gap |   Cuts   InLp Confl. | LpIters     Time\n",
      "\n",
      "         0       0         0   0.00%   -inf            inf                  inf        0      0      0         0     0.3s\n",
      " S       0       0         0   0.00%   -inf            13685067537.17     Large        0      0      0         0    25.8s\n",
      "\n",
      "Solving report\n",
      "  Status            Optimal\n",
      "  Primal bound      13685067537.2\n",
      "  Dual bound        13684588315.3\n",
      "  Gap               0.0035% (tolerance: 0.01%)\n",
      "  Solution status   feasible\n",
      "                    13685067537.2 (objective)\n",
      "                    0 (bound viol.)\n",
      "                    0 (int. viol.)\n",
      "                    0 (row viol.)\n",
      "  Timing            25.82 (total)\n",
      "                    0.24 (presolve)\n",
      "                    0.00 (postsolve)\n",
      "  Nodes             1\n",
      "  LP iterations     63800 (total)\n",
      "                    0 (strong br.)\n",
      "                    0 (separation)\n",
      "                    0 (heuristics)\n",
      "Writing the solution to /tmp/linopy-solve-8wt5p2jz.sol\n"
     ]
    },
    {
     "name": "stderr",
     "output_type": "stream",
     "text": [
      "INFO:linopy.constants: Optimization successful: \n",
      "Status: ok\n",
      "Termination condition: optimal\n",
      "Solution: 46739 primals, 105141 duals\n",
      "Objective: 1.37e+10\n",
      "Solver model: available\n",
      "Solver message: optimal\n",
      "\n",
      "INFO:pypsa.optimization.optimize:The shadow-prices of the constraints Generator-ext-p-lower, Generator-ext-p-upper, Link-ext-p-lower, Link-ext-p-upper, Store-ext-e-lower, Store-ext-e-upper, Store-energy_balance were not assigned to the network.\n",
      "INFO:pypsa.io:Exported network network.nc has stores, carriers, loads, buses, generators, links\n",
      "INFO:pypsa.io:Imported network network.nc has buses, carriers, generators, links, loads, stores\n",
      "/home/viktor/code/pypsa-vgr/generator/library/output_files.py:289: FutureWarning:\n",
      "\n",
      "A value is trying to be set on a copy of a DataFrame or Series through chained assignment using an inplace method.\n",
      "The behavior will change in pandas 3.0. This inplace method will never work because the intermediate object on which we are setting values always behaves as a copy.\n",
      "\n",
      "For example, when doing 'df[col].method(value, inplace=True)', try using 'df.method({col: value}, inplace=True)' or df[col] = df[col].method(value) instead, to perform the operation inplace on the original object.\n",
      "\n",
      "\n",
      "\n"
     ]
    },
    {
     "name": "stdout",
     "output_type": "stream",
     "text": [
      "40 out of 120: ('14', 2030, 1, 15, True, True, 1800)\n",
      "Create and store parameters\n",
      "Check weather files\n",
      "Check renewables data\n",
      "Create and store demand\n",
      "Create and store network\n",
      "Using config:\n",
      "\th2:True\n",
      "\toffwind:True\n",
      "\tbiogas:0\n"
     ]
    },
    {
     "name": "stderr",
     "output_type": "stream",
     "text": [
      "INFO:pypsa.io:Exported network network.nc has stores, carriers, loads, buses, generators, links\n"
     ]
    },
    {
     "name": "stdout",
     "output_type": "stream",
     "text": [
      "Run optimization\n"
     ]
    },
    {
     "name": "stderr",
     "output_type": "stream",
     "text": [
      "INFO:pypsa.io:Imported network network.nc has buses, carriers, generators, links, loads, stores\n",
      "INFO:linopy.model: Solve problem using Highs solver\n",
      "INFO:linopy.io:Writing objective.\n",
      "Writing constraints.: 100%|\u001b[38;2;128;191;255m██████████\u001b[0m| 17/17 [00:00<00:00, 28.01it/s]\n",
      "Writing continuous variables.: 100%|\u001b[38;2;128;191;255m██████████\u001b[0m| 9/9 [00:00<00:00, 75.86it/s]\n",
      "Writing integer variables.: 100%|\u001b[38;2;128;191;255m██████████\u001b[0m| 2/2 [00:00<00:00, 589.92it/s]\n",
      "INFO:linopy.io: Writing time: 0.78s\n",
      "INFO:linopy.solvers:Log file at /tmp/highs.log\n"
     ]
    },
    {
     "name": "stdout",
     "output_type": "stream",
     "text": [
      "Running HiGHS 1.7.2 (git hash: 184e327): Copyright (c) 2024 HiGHS under MIT licence terms\n",
      "Coefficient ranges:\n",
      "  Matrix [2e-06, 3e+02]\n",
      "  Cost   [6e+01, 2e+06]\n",
      "  Bound  [0e+00, 0e+00]\n",
      "  RHS    [3e+01, 9e+01]\n",
      "Presolving model\n",
      "44488 rows, 35736 cols, 115999 nonzeros  0s\n",
      "37074 rows, 28322 cols, 109584 nonzeros  0s\n",
      "37074 rows, 28322 cols, 109584 nonzeros  0s\n",
      "\n",
      "Solving MIP model with:\n",
      "   37074 rows\n",
      "   28322 cols (0 binary, 5 integer, 0 implied int., 28317 continuous)\n",
      "   109584 nonzeros\n",
      "\n",
      "        Nodes      |    B&B Tree     |            Objective Bounds              |  Dynamic Constraints |       Work      \n",
      "     Proc. InQueue |  Leaves   Expl. | BestBound       BestSol              Gap |   Cuts   InLp Confl. | LpIters     Time\n",
      "\n",
      "         0       0         0   0.00%   -inf            inf                  inf        0      0      0         0     0.3s\n",
      " S       0       0         0   0.00%   -inf            680894183.8221     Large        0      0      0         0     6.7s\n",
      " R       0       0         0   0.00%   679003327.7641  679067956.7234     0.01%        0      0      0     33211     7.0s\n",
      "\n",
      "Solving report\n",
      "  Status            Optimal\n",
      "  Primal bound      679067956.723\n",
      "  Dual bound        679003327.764\n",
      "  Gap               0.00952% (tolerance: 0.01%)\n",
      "  Solution status   feasible\n",
      "                    679067956.723 (objective)\n",
      "                    0 (bound viol.)\n",
      "                    2.45321576241e-18 (int. viol.)\n",
      "                    0 (row viol.)\n",
      "  Timing            7.31 (total)\n",
      "                    0.26 (presolve)\n",
      "                    0.00 (postsolve)\n",
      "  Nodes             1\n",
      "  LP iterations     33211 (total)\n",
      "                    0 (strong br.)\n",
      "                    0 (separation)\n",
      "                    0 (heuristics)\n",
      "Writing the solution to /tmp/linopy-solve-zm7gizma.sol\n"
     ]
    },
    {
     "name": "stderr",
     "output_type": "stream",
     "text": [
      "INFO:linopy.constants: Optimization successful: \n",
      "Status: ok\n",
      "Termination condition: optimal\n",
      "Solution: 40897 primals, 90538 duals\n",
      "Objective: 6.79e+08\n",
      "Solver model: available\n",
      "Solver message: optimal\n",
      "\n",
      "INFO:pypsa.optimization.optimize:The shadow-prices of the constraints Generator-ext-p-lower, Generator-ext-p-upper, Link-ext-p-lower, Link-ext-p-upper, Store-ext-e-lower, Store-ext-e-upper, Store-energy_balance were not assigned to the network.\n",
      "INFO:pypsa.io:Exported network network.nc has stores, carriers, loads, buses, generators, links\n",
      "INFO:pypsa.io:Imported network network.nc has buses, carriers, generators, links, loads, stores\n",
      "/home/viktor/code/pypsa-vgr/generator/library/output_files.py:289: FutureWarning:\n",
      "\n",
      "A value is trying to be set on a copy of a DataFrame or Series through chained assignment using an inplace method.\n",
      "The behavior will change in pandas 3.0. This inplace method will never work because the intermediate object on which we are setting values always behaves as a copy.\n",
      "\n",
      "For example, when doing 'df[col].method(value, inplace=True)', try using 'df.method({col: value}, inplace=True)' or df[col] = df[col].method(value) instead, to perform the operation inplace on the original object.\n",
      "\n",
      "\n",
      "\n"
     ]
    },
    {
     "name": "stdout",
     "output_type": "stream",
     "text": [
      "41 out of 120: ('14:1488', 2030, 1, 0.5, True, True, 0)\n",
      "Create and store parameters\n",
      "Check weather files\n",
      "Check renewables data\n",
      "Create and store demand\n",
      "Create and store network\n",
      "Using config:\n",
      "\th2:True\n",
      "\toffwind:True\n",
      "\tbiogas:300\n"
     ]
    },
    {
     "name": "stderr",
     "output_type": "stream",
     "text": [
      "INFO:pypsa.io:Exported network network.nc has stores, carriers, loads, buses, generators, links\n"
     ]
    },
    {
     "name": "stdout",
     "output_type": "stream",
     "text": [
      "Run optimization\n"
     ]
    },
    {
     "name": "stderr",
     "output_type": "stream",
     "text": [
      "INFO:pypsa.io:Imported network network.nc has buses, carriers, generators, links, loads, stores\n",
      "INFO:linopy.model: Solve problem using Highs solver\n",
      "INFO:linopy.io:Writing objective.\n",
      "Writing constraints.: 100%|\u001b[38;2;128;191;255m██████████\u001b[0m| 17/17 [00:00<00:00, 25.32it/s]\n",
      "Writing continuous variables.: 100%|\u001b[38;2;128;191;255m██████████\u001b[0m| 9/9 [00:00<00:00, 80.35it/s]\n",
      "Writing integer variables.: 100%|\u001b[38;2;128;191;255m██████████\u001b[0m| 2/2 [00:00<00:00, 530.56it/s]\n",
      "INFO:linopy.io: Writing time: 0.84s\n",
      "INFO:linopy.solvers:Log file at /tmp/highs.log\n"
     ]
    },
    {
     "name": "stdout",
     "output_type": "stream",
     "text": [
      "Running HiGHS 1.7.2 (git hash: 184e327): Copyright (c) 2024 HiGHS under MIT licence terms\n",
      "Coefficient ranges:\n",
      "  Matrix [2e-06, 3e+02]\n",
      "  Cost   [6e+01, 2e+06]\n",
      "  Bound  [0e+00, 0e+00]\n",
      "  RHS    [3e+01, 3e+02]\n",
      "Presolving model\n",
      "47408 rows, 41576 cols, 124759 nonzeros  0s\n",
      "37157 rows, 31325 cols, 114994 nonzeros  0s\n",
      "37081 rows, 31249 cols, 115328 nonzeros  0s\n",
      "\n",
      "Solving MIP model with:\n",
      "   37081 rows\n",
      "   31249 cols (0 binary, 5 integer, 0 implied int., 31244 continuous)\n",
      "   115328 nonzeros\n",
      "\n",
      "        Nodes      |    B&B Tree     |            Objective Bounds              |  Dynamic Constraints |       Work      \n",
      "     Proc. InQueue |  Leaves   Expl. | BestBound       BestSol              Gap |   Cuts   InLp Confl. | LpIters     Time\n",
      "\n",
      "         0       0         0   0.00%   -inf            inf                  inf        0      0      0         0     0.2s\n",
      " S       0       0         0   0.00%   -inf            682533020.2633     Large        0      0      0         0    15.5s\n",
      " R       0       0         0   0.00%   564825348.7948  636196754.4439    11.22%        0      0      0     56967    17.5s\n",
      "         0       0         0   0.00%   564825921.6973  636196754.4439    11.22%       45     12      0     56978    22.7s\n",
      " L       0       0         0   0.00%   564825938.5484  627518008.0829     9.99%       45     19      0     56985    64.3s\n",
      "         1       0         0 100.00%   627515825.2167  627518008.0829     0.00%       45     17      0    129487    73.5s\n",
      "\n",
      "Solving report\n",
      "  Status            Optimal\n",
      "  Primal bound      627518008.083\n",
      "  Dual bound        627515825.217\n",
      "  Gap               0.000348% (tolerance: 0.01%)\n",
      "  Solution status   feasible\n",
      "                    627518008.083 (objective)\n",
      "                    0 (bound viol.)\n",
      "                    0 (int. viol.)\n",
      "                    0 (row viol.)\n",
      "  Timing            73.46 (total)\n",
      "                    0.21 (presolve)\n",
      "                    0.00 (postsolve)\n",
      "  Nodes             1\n",
      "  LP iterations     129487 (total)\n",
      "                    7103 (strong br.)\n",
      "                    18 (separation)\n",
      "                    56837 (heuristics)\n",
      "Writing the solution to /tmp/linopy-solve-a_7d8cqf.sol\n"
     ]
    },
    {
     "name": "stderr",
     "output_type": "stream",
     "text": [
      "INFO:linopy.constants: Optimization successful: \n",
      "Status: ok\n",
      "Termination condition: optimal\n",
      "Solution: 46739 primals, 105141 duals\n",
      "Objective: 6.28e+08\n",
      "Solver model: available\n",
      "Solver message: optimal\n",
      "\n",
      "INFO:pypsa.optimization.optimize:The shadow-prices of the constraints Generator-ext-p-lower, Generator-ext-p-upper, Link-ext-p-lower, Link-ext-p-upper, Store-ext-e-lower, Store-ext-e-upper, Store-energy_balance were not assigned to the network.\n",
      "INFO:pypsa.io:Exported network network.nc has stores, carriers, loads, buses, generators, links\n",
      "INFO:pypsa.io:Imported network network.nc has buses, carriers, generators, links, loads, stores\n",
      "/home/viktor/code/pypsa-vgr/generator/library/output_files.py:289: FutureWarning:\n",
      "\n",
      "A value is trying to be set on a copy of a DataFrame or Series through chained assignment using an inplace method.\n",
      "The behavior will change in pandas 3.0. This inplace method will never work because the intermediate object on which we are setting values always behaves as a copy.\n",
      "\n",
      "For example, when doing 'df[col].method(value, inplace=True)', try using 'df.method({col: value}, inplace=True)' or df[col] = df[col].method(value) instead, to perform the operation inplace on the original object.\n",
      "\n",
      "\n",
      "\n"
     ]
    },
    {
     "name": "stdout",
     "output_type": "stream",
     "text": [
      "42 out of 120: ('14:1488', 2030, 1, 0.5, True, True, 300)\n",
      "Create and store parameters\n",
      "Check weather files\n",
      "Check renewables data\n",
      "Create and store demand\n",
      "Create and store network\n",
      "Using config:\n",
      "\th2:True\n",
      "\toffwind:True\n",
      "\tbiogas:600\n"
     ]
    },
    {
     "name": "stderr",
     "output_type": "stream",
     "text": [
      "INFO:pypsa.io:Exported network network.nc has stores, carriers, loads, buses, generators, links\n"
     ]
    },
    {
     "name": "stdout",
     "output_type": "stream",
     "text": [
      "Run optimization\n"
     ]
    },
    {
     "name": "stderr",
     "output_type": "stream",
     "text": [
      "INFO:pypsa.io:Imported network network.nc has buses, carriers, generators, links, loads, stores\n",
      "INFO:linopy.model: Solve problem using Highs solver\n",
      "INFO:linopy.io:Writing objective.\n",
      "Writing constraints.: 100%|\u001b[38;2;128;191;255m██████████\u001b[0m| 17/17 [00:00<00:00, 34.48it/s]\n",
      "Writing continuous variables.: 100%|\u001b[38;2;128;191;255m██████████\u001b[0m| 9/9 [00:00<00:00, 110.46it/s]\n",
      "Writing integer variables.: 100%|\u001b[38;2;128;191;255m██████████\u001b[0m| 2/2 [00:00<00:00, 962.33it/s]\n",
      "INFO:linopy.io: Writing time: 0.61s\n",
      "INFO:linopy.solvers:Log file at /tmp/highs.log\n"
     ]
    },
    {
     "name": "stdout",
     "output_type": "stream",
     "text": [
      "Running HiGHS 1.7.2 (git hash: 184e327): Copyright (c) 2024 HiGHS under MIT licence terms\n"
     ]
    },
    {
     "name": "stderr",
     "output_type": "stream",
     "text": [
      "INFO:linopy.constants: Optimization successful: \n",
      "Status: ok\n",
      "Termination condition: optimal\n",
      "Solution: 46739 primals, 105141 duals\n",
      "Objective: 6.28e+08\n",
      "Solver model: available\n",
      "Solver message: optimal\n",
      "\n"
     ]
    },
    {
     "name": "stdout",
     "output_type": "stream",
     "text": [
      "Coefficient ranges:\n",
      "  Matrix [2e-06, 3e+02]\n",
      "  Cost   [6e+01, 2e+06]\n",
      "  Bound  [0e+00, 0e+00]\n",
      "  RHS    [3e+01, 6e+02]\n",
      "Presolving model\n",
      "47408 rows, 41576 cols, 124759 nonzeros  0s\n",
      "37157 rows, 31325 cols, 114994 nonzeros  0s\n",
      "37081 rows, 31249 cols, 115328 nonzeros  0s\n",
      "\n",
      "Solving MIP model with:\n",
      "   37081 rows\n",
      "   31249 cols (0 binary, 5 integer, 0 implied int., 31244 continuous)\n",
      "   115328 nonzeros\n",
      "\n",
      "        Nodes      |    B&B Tree     |            Objective Bounds              |  Dynamic Constraints |       Work      \n",
      "     Proc. InQueue |  Leaves   Expl. | BestBound       BestSol              Gap |   Cuts   InLp Confl. | LpIters     Time\n",
      "\n",
      "         0       0         0   0.00%   -inf            inf                  inf        0      0      0         0     0.2s\n",
      " S       0       0         0   0.00%   -inf            682533020.2633     Large        0      0      0         0    15.0s\n",
      " R       0       0         0   0.00%   564825348.7948  636196754.4439    11.22%        0      0      0     56967    17.0s\n",
      "         0       0         0   0.00%   564825921.6973  636196754.4439    11.22%       45     12      0     56978    22.1s\n",
      " L       0       0         0   0.00%   564825938.5484  627518008.0829     9.99%       45     19      0     56985    65.0s\n",
      "         1       0         0 100.00%   627515825.2167  627518008.0829     0.00%       45     17      0    129487    74.5s\n",
      "\n",
      "Solving report\n",
      "  Status            Optimal\n",
      "  Primal bound      627518008.083\n",
      "  Dual bound        627515825.217\n",
      "  Gap               0.000348% (tolerance: 0.01%)\n",
      "  Solution status   feasible\n",
      "                    627518008.083 (objective)\n",
      "                    0 (bound viol.)\n",
      "                    0 (int. viol.)\n",
      "                    0 (row viol.)\n",
      "  Timing            74.55 (total)\n",
      "                    0.22 (presolve)\n",
      "                    0.00 (postsolve)\n",
      "  Nodes             1\n",
      "  LP iterations     129487 (total)\n",
      "                    7103 (strong br.)\n",
      "                    18 (separation)\n",
      "                    56837 (heuristics)\n",
      "Writing the solution to /tmp/linopy-solve-l9f_8wtp.sol\n"
     ]
    },
    {
     "name": "stderr",
     "output_type": "stream",
     "text": [
      "INFO:pypsa.optimization.optimize:The shadow-prices of the constraints Generator-ext-p-lower, Generator-ext-p-upper, Link-ext-p-lower, Link-ext-p-upper, Store-ext-e-lower, Store-ext-e-upper, Store-energy_balance were not assigned to the network.\n",
      "INFO:pypsa.io:Exported network network.nc has stores, carriers, loads, buses, generators, links\n",
      "INFO:pypsa.io:Imported network network.nc has buses, carriers, generators, links, loads, stores\n",
      "/home/viktor/code/pypsa-vgr/generator/library/output_files.py:289: FutureWarning:\n",
      "\n",
      "A value is trying to be set on a copy of a DataFrame or Series through chained assignment using an inplace method.\n",
      "The behavior will change in pandas 3.0. This inplace method will never work because the intermediate object on which we are setting values always behaves as a copy.\n",
      "\n",
      "For example, when doing 'df[col].method(value, inplace=True)', try using 'df.method({col: value}, inplace=True)' or df[col] = df[col].method(value) instead, to perform the operation inplace on the original object.\n",
      "\n",
      "\n",
      "\n"
     ]
    },
    {
     "name": "stdout",
     "output_type": "stream",
     "text": [
      "43 out of 120: ('14:1488', 2030, 1, 0.5, True, True, 600)\n",
      "Create and store parameters\n",
      "Check weather files\n",
      "Check renewables data\n",
      "Create and store demand\n",
      "Create and store network\n",
      "Using config:\n",
      "\th2:True\n",
      "\toffwind:True\n",
      "\tbiogas:1200\n"
     ]
    },
    {
     "name": "stderr",
     "output_type": "stream",
     "text": [
      "INFO:pypsa.io:Exported network network.nc has stores, carriers, loads, buses, generators, links\n"
     ]
    },
    {
     "name": "stdout",
     "output_type": "stream",
     "text": [
      "Run optimization\n"
     ]
    },
    {
     "name": "stderr",
     "output_type": "stream",
     "text": [
      "INFO:pypsa.io:Imported network network.nc has buses, carriers, generators, links, loads, stores\n",
      "INFO:linopy.model: Solve problem using Highs solver\n",
      "INFO:linopy.io:Writing objective.\n",
      "Writing constraints.: 100%|\u001b[38;2;128;191;255m██████████\u001b[0m| 17/17 [00:00<00:00, 34.23it/s]\n",
      "Writing continuous variables.: 100%|\u001b[38;2;128;191;255m██████████\u001b[0m| 9/9 [00:00<00:00, 96.62it/s]\n",
      "Writing integer variables.: 100%|\u001b[38;2;128;191;255m██████████\u001b[0m| 2/2 [00:00<00:00, 831.38it/s]\n",
      "INFO:linopy.io: Writing time: 0.63s\n",
      "INFO:linopy.solvers:Log file at /tmp/highs.log\n"
     ]
    },
    {
     "name": "stdout",
     "output_type": "stream",
     "text": [
      "Running HiGHS 1.7.2 (git hash: 184e327): Copyright (c) 2024 HiGHS under MIT licence terms\n",
      "Coefficient ranges:\n",
      "  Matrix [2e-06, 3e+02]\n",
      "  Cost   [6e+01, 2e+06]\n",
      "  Bound  [0e+00, 0e+00]\n",
      "  RHS    [3e+01, 1e+03]\n"
     ]
    },
    {
     "name": "stderr",
     "output_type": "stream",
     "text": [
      "INFO:linopy.constants: Optimization successful: \n",
      "Status: ok\n",
      "Termination condition: optimal\n",
      "Solution: 46739 primals, 105141 duals\n",
      "Objective: 6.28e+08\n",
      "Solver model: available\n",
      "Solver message: optimal\n",
      "\n",
      "INFO:pypsa.optimization.optimize:The shadow-prices of the constraints Generator-ext-p-lower, Generator-ext-p-upper, Link-ext-p-lower, Link-ext-p-upper, Store-ext-e-lower, Store-ext-e-upper, Store-energy_balance were not assigned to the network.\n"
     ]
    },
    {
     "name": "stdout",
     "output_type": "stream",
     "text": [
      "Presolving model\n",
      "47408 rows, 41576 cols, 124759 nonzeros  0s\n",
      "37157 rows, 31325 cols, 114994 nonzeros  0s\n",
      "37081 rows, 31249 cols, 115328 nonzeros  0s\n",
      "\n",
      "Solving MIP model with:\n",
      "   37081 rows\n",
      "   31249 cols (0 binary, 5 integer, 0 implied int., 31244 continuous)\n",
      "   115328 nonzeros\n",
      "\n",
      "        Nodes      |    B&B Tree     |            Objective Bounds              |  Dynamic Constraints |       Work      \n",
      "     Proc. InQueue |  Leaves   Expl. | BestBound       BestSol              Gap |   Cuts   InLp Confl. | LpIters     Time\n",
      "\n",
      "         0       0         0   0.00%   -inf            inf                  inf        0      0      0         0     0.3s\n",
      " S       0       0         0   0.00%   -inf            682533020.2633     Large        0      0      0         0    15.1s\n",
      " R       0       0         0   0.00%   564825348.7948  636196754.4439    11.22%        0      0      0     56967    17.2s\n",
      "         0       0         0   0.00%   564825921.6973  636196754.4439    11.22%       45     12      0     56978    22.5s\n",
      " L       0       0         0   0.00%   564825938.5484  627518008.0829     9.99%       45     19      0     56985    64.2s\n",
      "         1       0         0 100.00%   627515825.2167  627518008.0829     0.00%       45     17      0    129487    73.5s\n",
      "\n",
      "Solving report\n",
      "  Status            Optimal\n",
      "  Primal bound      627518008.083\n",
      "  Dual bound        627515825.217\n",
      "  Gap               0.000348% (tolerance: 0.01%)\n",
      "  Solution status   feasible\n",
      "                    627518008.083 (objective)\n",
      "                    0 (bound viol.)\n",
      "                    0 (int. viol.)\n",
      "                    0 (row viol.)\n",
      "  Timing            73.52 (total)\n",
      "                    0.24 (presolve)\n",
      "                    0.00 (postsolve)\n",
      "  Nodes             1\n",
      "  LP iterations     129487 (total)\n",
      "                    7103 (strong br.)\n",
      "                    18 (separation)\n",
      "                    56837 (heuristics)\n",
      "Writing the solution to /tmp/linopy-solve-f73l8y10.sol\n"
     ]
    },
    {
     "name": "stderr",
     "output_type": "stream",
     "text": [
      "INFO:pypsa.io:Exported network network.nc has stores, carriers, loads, buses, generators, links\n",
      "INFO:pypsa.io:Imported network network.nc has buses, carriers, generators, links, loads, stores\n",
      "/home/viktor/code/pypsa-vgr/generator/library/output_files.py:289: FutureWarning:\n",
      "\n",
      "A value is trying to be set on a copy of a DataFrame or Series through chained assignment using an inplace method.\n",
      "The behavior will change in pandas 3.0. This inplace method will never work because the intermediate object on which we are setting values always behaves as a copy.\n",
      "\n",
      "For example, when doing 'df[col].method(value, inplace=True)', try using 'df.method({col: value}, inplace=True)' or df[col] = df[col].method(value) instead, to perform the operation inplace on the original object.\n",
      "\n",
      "\n",
      "\n"
     ]
    },
    {
     "name": "stdout",
     "output_type": "stream",
     "text": [
      "44 out of 120: ('14:1488', 2030, 1, 0.5, True, True, 1200)\n",
      "Create and store parameters\n",
      "Check weather files\n",
      "Check renewables data\n",
      "Create and store demand\n",
      "Create and store network\n",
      "Using config:\n",
      "\th2:True\n",
      "\toffwind:True\n",
      "\tbiogas:1800\n"
     ]
    },
    {
     "name": "stderr",
     "output_type": "stream",
     "text": [
      "INFO:pypsa.io:Exported network network.nc has stores, carriers, loads, buses, generators, links\n"
     ]
    },
    {
     "name": "stdout",
     "output_type": "stream",
     "text": [
      "Run optimization\n"
     ]
    },
    {
     "name": "stderr",
     "output_type": "stream",
     "text": [
      "INFO:pypsa.io:Imported network network.nc has buses, carriers, generators, links, loads, stores\n",
      "INFO:linopy.model: Solve problem using Highs solver\n",
      "INFO:linopy.io:Writing objective.\n",
      "Writing constraints.: 100%|\u001b[38;2;128;191;255m██████████\u001b[0m| 17/17 [00:00<00:00, 34.29it/s]\n",
      "Writing continuous variables.: 100%|\u001b[38;2;128;191;255m██████████\u001b[0m| 9/9 [00:00<00:00, 91.13it/s]\n",
      "Writing integer variables.: 100%|\u001b[38;2;128;191;255m██████████\u001b[0m| 2/2 [00:00<00:00, 896.12it/s]\n",
      "INFO:linopy.io: Writing time: 0.63s\n",
      "INFO:linopy.solvers:Log file at /tmp/highs.log\n"
     ]
    },
    {
     "name": "stdout",
     "output_type": "stream",
     "text": [
      "Running HiGHS 1.7.2 (git hash: 184e327): Copyright (c) 2024 HiGHS under MIT licence terms\n"
     ]
    },
    {
     "name": "stderr",
     "output_type": "stream",
     "text": [
      "INFO:linopy.constants: Optimization successful: \n",
      "Status: ok\n",
      "Termination condition: optimal\n",
      "Solution: 46739 primals, 105141 duals\n",
      "Objective: 6.28e+08\n",
      "Solver model: available\n",
      "Solver message: optimal\n",
      "\n",
      "INFO:pypsa.optimization.optimize:The shadow-prices of the constraints Generator-ext-p-lower, Generator-ext-p-upper, Link-ext-p-lower, Link-ext-p-upper, Store-ext-e-lower, Store-ext-e-upper, Store-energy_balance were not assigned to the network.\n"
     ]
    },
    {
     "name": "stdout",
     "output_type": "stream",
     "text": [
      "Coefficient ranges:\n",
      "  Matrix [2e-06, 3e+02]\n",
      "  Cost   [6e+01, 2e+06]\n",
      "  Bound  [0e+00, 0e+00]\n",
      "  RHS    [3e+01, 2e+03]\n",
      "Presolving model\n",
      "47408 rows, 41576 cols, 124759 nonzeros  0s\n",
      "37157 rows, 31325 cols, 114994 nonzeros  0s\n",
      "37081 rows, 31249 cols, 115328 nonzeros  0s\n",
      "\n",
      "Solving MIP model with:\n",
      "   37081 rows\n",
      "   31249 cols (0 binary, 5 integer, 0 implied int., 31244 continuous)\n",
      "   115328 nonzeros\n",
      "\n",
      "        Nodes      |    B&B Tree     |            Objective Bounds              |  Dynamic Constraints |       Work      \n",
      "     Proc. InQueue |  Leaves   Expl. | BestBound       BestSol              Gap |   Cuts   InLp Confl. | LpIters     Time\n",
      "\n",
      "         0       0         0   0.00%   -inf            inf                  inf        0      0      0         0     0.2s\n",
      " S       0       0         0   0.00%   -inf            682533020.2633     Large        0      0      0         0    15.4s\n",
      " R       0       0         0   0.00%   564825348.7948  636196754.4439    11.22%        0      0      0     56967    17.4s\n",
      "         0       0         0   0.00%   564825921.6973  636196754.4439    11.22%       45     12      0     56978    22.6s\n",
      " L       0       0         0   0.00%   564825938.5484  627518008.0829     9.99%       45     19      0     56985    65.3s\n",
      "         1       0         0 100.00%   627515825.2167  627518008.0829     0.00%       45     17      0    129487    74.8s\n",
      "\n",
      "Solving report\n",
      "  Status            Optimal\n",
      "  Primal bound      627518008.083\n",
      "  Dual bound        627515825.217\n",
      "  Gap               0.000348% (tolerance: 0.01%)\n",
      "  Solution status   feasible\n",
      "                    627518008.083 (objective)\n",
      "                    0 (bound viol.)\n",
      "                    0 (int. viol.)\n",
      "                    0 (row viol.)\n",
      "  Timing            74.82 (total)\n",
      "                    0.20 (presolve)\n",
      "                    0.00 (postsolve)\n",
      "  Nodes             1\n",
      "  LP iterations     129487 (total)\n",
      "                    7103 (strong br.)\n",
      "                    18 (separation)\n",
      "                    56837 (heuristics)\n",
      "Writing the solution to /tmp/linopy-solve-pseq8is5.sol\n"
     ]
    },
    {
     "name": "stderr",
     "output_type": "stream",
     "text": [
      "INFO:pypsa.io:Exported network network.nc has stores, carriers, loads, buses, generators, links\n",
      "INFO:pypsa.io:Imported network network.nc has buses, carriers, generators, links, loads, stores\n",
      "/home/viktor/code/pypsa-vgr/generator/library/output_files.py:289: FutureWarning:\n",
      "\n",
      "A value is trying to be set on a copy of a DataFrame or Series through chained assignment using an inplace method.\n",
      "The behavior will change in pandas 3.0. This inplace method will never work because the intermediate object on which we are setting values always behaves as a copy.\n",
      "\n",
      "For example, when doing 'df[col].method(value, inplace=True)', try using 'df.method({col: value}, inplace=True)' or df[col] = df[col].method(value) instead, to perform the operation inplace on the original object.\n",
      "\n",
      "\n",
      "\n"
     ]
    },
    {
     "name": "stdout",
     "output_type": "stream",
     "text": [
      "45 out of 120: ('14:1488', 2030, 1, 0.5, True, True, 1800)\n",
      "Create and store parameters\n",
      "Check weather files\n",
      "Check renewables data\n",
      "Create and store demand\n",
      "Create and store network\n",
      "Using config:\n",
      "\th2:True\n",
      "\toffwind:True\n",
      "\tbiogas:0\n"
     ]
    },
    {
     "name": "stderr",
     "output_type": "stream",
     "text": [
      "INFO:pypsa.io:Exported network network.nc has stores, carriers, loads, buses, generators, links\n"
     ]
    },
    {
     "name": "stdout",
     "output_type": "stream",
     "text": [
      "Run optimization\n"
     ]
    },
    {
     "name": "stderr",
     "output_type": "stream",
     "text": [
      "INFO:pypsa.io:Imported network network.nc has buses, carriers, generators, links, loads, stores\n",
      "INFO:linopy.model: Solve problem using Highs solver\n",
      "INFO:linopy.io:Writing objective.\n",
      "Writing constraints.: 100%|\u001b[38;2;128;191;255m██████████\u001b[0m| 17/17 [00:00<00:00, 36.16it/s]\n",
      "Writing continuous variables.: 100%|\u001b[38;2;128;191;255m██████████\u001b[0m| 9/9 [00:00<00:00, 110.52it/s]\n",
      "Writing integer variables.: 100%|\u001b[38;2;128;191;255m██████████\u001b[0m| 2/2 [00:00<00:00, 871.27it/s]\n",
      "INFO:linopy.io: Writing time: 0.59s\n",
      "INFO:linopy.solvers:Log file at /tmp/highs.log\n"
     ]
    },
    {
     "name": "stdout",
     "output_type": "stream",
     "text": [
      "Running HiGHS 1.7.2 (git hash: 184e327): Copyright (c) 2024 HiGHS under MIT licence terms\n"
     ]
    },
    {
     "name": "stderr",
     "output_type": "stream",
     "text": [
      "INFO:linopy.constants: Optimization successful: \n",
      "Status: ok\n",
      "Termination condition: optimal\n",
      "Solution: 40897 primals, 90538 duals\n",
      "Objective: 1.02e+09\n",
      "Solver model: available\n",
      "Solver message: optimal\n",
      "\n",
      "INFO:pypsa.optimization.optimize:The shadow-prices of the constraints Generator-ext-p-lower, Generator-ext-p-upper, Link-ext-p-lower, Link-ext-p-upper, Store-ext-e-lower, Store-ext-e-upper, Store-energy_balance were not assigned to the network.\n"
     ]
    },
    {
     "name": "stdout",
     "output_type": "stream",
     "text": [
      "Coefficient ranges:\n",
      "  Matrix [2e-06, 3e+02]\n",
      "  Cost   [6e+01, 2e+06]\n",
      "  Bound  [0e+00, 0e+00]\n",
      "  RHS    [5e+01, 1e+02]\n",
      "Presolving model\n",
      "44488 rows, 35736 cols, 115999 nonzeros  0s\n",
      "37074 rows, 28322 cols, 109584 nonzeros  0s\n",
      "37074 rows, 28322 cols, 109584 nonzeros  0s\n",
      "\n",
      "Solving MIP model with:\n",
      "   37074 rows\n",
      "   28322 cols (0 binary, 5 integer, 0 implied int., 28317 continuous)\n",
      "   109584 nonzeros\n",
      "\n",
      "        Nodes      |    B&B Tree     |            Objective Bounds              |  Dynamic Constraints |       Work      \n",
      "     Proc. InQueue |  Leaves   Expl. | BestBound       BestSol              Gap |   Cuts   InLp Confl. | LpIters     Time\n",
      "\n",
      "         0       0         0   0.00%   -inf            inf                  inf        0      0      0         0     0.2s\n",
      " S       0       0         0   0.00%   -inf            1018690442.224     Large        0      0      0         0     6.4s\n",
      " R       0       0         0   0.00%   1018504991.646  1018510963.71      0.00%        0      0      0     36292     6.6s\n",
      "\n",
      "Solving report\n",
      "  Status            Optimal\n",
      "  Primal bound      1018510963.71\n",
      "  Dual bound        1018504991.65\n",
      "  Gap               0.000586% (tolerance: 0.01%)\n",
      "  Solution status   feasible\n",
      "                    1018510963.71 (objective)\n",
      "                    0 (bound viol.)\n",
      "                    0 (int. viol.)\n",
      "                    0 (row viol.)\n",
      "  Timing            6.58 (total)\n",
      "                    0.19 (presolve)\n",
      "                    0.00 (postsolve)\n",
      "  Nodes             1\n",
      "  LP iterations     36292 (total)\n",
      "                    0 (strong br.)\n",
      "                    0 (separation)\n",
      "                    0 (heuristics)\n",
      "Writing the solution to /tmp/linopy-solve-xmn81pud.sol\n"
     ]
    },
    {
     "name": "stderr",
     "output_type": "stream",
     "text": [
      "INFO:pypsa.io:Exported network network.nc has stores, carriers, loads, buses, generators, links\n",
      "INFO:pypsa.io:Imported network network.nc has buses, carriers, generators, links, loads, stores\n",
      "/home/viktor/code/pypsa-vgr/generator/library/output_files.py:289: FutureWarning:\n",
      "\n",
      "A value is trying to be set on a copy of a DataFrame or Series through chained assignment using an inplace method.\n",
      "The behavior will change in pandas 3.0. This inplace method will never work because the intermediate object on which we are setting values always behaves as a copy.\n",
      "\n",
      "For example, when doing 'df[col].method(value, inplace=True)', try using 'df.method({col: value}, inplace=True)' or df[col] = df[col].method(value) instead, to perform the operation inplace on the original object.\n",
      "\n",
      "\n",
      "\n"
     ]
    },
    {
     "name": "stdout",
     "output_type": "stream",
     "text": [
      "46 out of 120: ('14:1488', 2030, 1, 0.75, True, True, 0)\n",
      "Create and store parameters\n",
      "Check weather files\n",
      "Check renewables data\n",
      "Create and store demand\n",
      "Create and store network\n",
      "Using config:\n",
      "\th2:True\n",
      "\toffwind:True\n",
      "\tbiogas:300\n"
     ]
    },
    {
     "name": "stderr",
     "output_type": "stream",
     "text": [
      "INFO:pypsa.io:Exported network network.nc has stores, carriers, loads, buses, generators, links\n"
     ]
    },
    {
     "name": "stdout",
     "output_type": "stream",
     "text": [
      "Run optimization\n"
     ]
    },
    {
     "name": "stderr",
     "output_type": "stream",
     "text": [
      "INFO:pypsa.io:Imported network network.nc has buses, carriers, generators, links, loads, stores\n",
      "INFO:linopy.model: Solve problem using Highs solver\n",
      "INFO:linopy.io:Writing objective.\n",
      "Writing constraints.: 100%|\u001b[38;2;128;191;255m██████████\u001b[0m| 17/17 [00:00<00:00, 33.20it/s]\n",
      "Writing continuous variables.: 100%|\u001b[38;2;128;191;255m██████████\u001b[0m| 9/9 [00:00<00:00, 98.73it/s]\n",
      "Writing integer variables.: 100%|\u001b[38;2;128;191;255m██████████\u001b[0m| 2/2 [00:00<00:00, 601.77it/s]\n",
      "INFO:linopy.io: Writing time: 0.65s\n",
      "INFO:linopy.solvers:Log file at /tmp/highs.log\n"
     ]
    },
    {
     "name": "stdout",
     "output_type": "stream",
     "text": [
      "Running HiGHS 1.7.2 (git hash: 184e327): Copyright (c) 2024 HiGHS under MIT licence terms\n",
      "Coefficient ranges:\n",
      "  Matrix [2e-06, 3e+02]\n",
      "  Cost   [6e+01, 2e+06]\n",
      "  Bound  [0e+00, 0e+00]\n",
      "  RHS    [5e+01, 3e+02]\n"
     ]
    },
    {
     "name": "stderr",
     "output_type": "stream",
     "text": [
      "INFO:linopy.constants: Optimization successful: \n",
      "Status: ok\n",
      "Termination condition: optimal\n",
      "Solution: 46739 primals, 105141 duals\n",
      "Objective: 7.93e+08\n",
      "Solver model: available\n",
      "Solver message: optimal\n",
      "\n",
      "INFO:pypsa.optimization.optimize:The shadow-prices of the constraints Generator-ext-p-lower, Generator-ext-p-upper, Link-ext-p-lower, Link-ext-p-upper, Store-ext-e-lower, Store-ext-e-upper, Store-energy_balance were not assigned to the network.\n"
     ]
    },
    {
     "name": "stdout",
     "output_type": "stream",
     "text": [
      "Presolving model\n",
      "47408 rows, 41576 cols, 124759 nonzeros  0s\n",
      "37157 rows, 31325 cols, 114994 nonzeros  0s\n",
      "37081 rows, 31249 cols, 115328 nonzeros  0s\n",
      "\n",
      "Solving MIP model with:\n",
      "   37081 rows\n",
      "   31249 cols (0 binary, 5 integer, 0 implied int., 31244 continuous)\n",
      "   115328 nonzeros\n",
      "\n",
      "        Nodes      |    B&B Tree     |            Objective Bounds              |  Dynamic Constraints |       Work      \n",
      "     Proc. InQueue |  Leaves   Expl. | BestBound       BestSol              Gap |   Cuts   InLp Confl. | LpIters     Time\n",
      "\n",
      "         0       0         0   0.00%   -inf            inf                  inf        0      0      0         0     0.2s\n",
      " S       0       0         0   0.00%   -inf            822869092.4684     Large        0      0      0         0    18.1s\n",
      " R       0       0         0   0.00%   745719452.7052  799227721.9062     6.69%        0      0      0     65070    19.6s\n",
      "         0       0         0   0.00%   745719674.6951  799227721.9062     6.69%       35      5      0     65075    24.9s\n",
      " L       0       0         0   0.00%   745719959.7829  793446275.4097     6.02%       35     17      0     65088    64.1s\n",
      "         1       0         0 100.00%   793431395.9058  793446275.4097     0.00%       35     15      0    131840    73.2s\n",
      "\n",
      "Solving report\n",
      "  Status            Optimal\n",
      "  Primal bound      793446275.41\n",
      "  Dual bound        793431395.906\n",
      "  Gap               0.00188% (tolerance: 0.01%)\n",
      "  Solution status   feasible\n",
      "                    793446275.41 (objective)\n",
      "                    0 (bound viol.)\n",
      "                    0 (int. viol.)\n",
      "                    0 (row viol.)\n",
      "  Timing            73.17 (total)\n",
      "                    0.22 (presolve)\n",
      "                    0.00 (postsolve)\n",
      "  Nodes             1\n",
      "  LP iterations     131840 (total)\n",
      "                    10577 (strong br.)\n",
      "                    18 (separation)\n",
      "                    50285 (heuristics)\n",
      "Writing the solution to /tmp/linopy-solve-c3cvy3l2.sol\n"
     ]
    },
    {
     "name": "stderr",
     "output_type": "stream",
     "text": [
      "INFO:pypsa.io:Exported network network.nc has stores, carriers, loads, buses, generators, links\n",
      "INFO:pypsa.io:Imported network network.nc has buses, carriers, generators, links, loads, stores\n",
      "/home/viktor/code/pypsa-vgr/generator/library/output_files.py:289: FutureWarning:\n",
      "\n",
      "A value is trying to be set on a copy of a DataFrame or Series through chained assignment using an inplace method.\n",
      "The behavior will change in pandas 3.0. This inplace method will never work because the intermediate object on which we are setting values always behaves as a copy.\n",
      "\n",
      "For example, when doing 'df[col].method(value, inplace=True)', try using 'df.method({col: value}, inplace=True)' or df[col] = df[col].method(value) instead, to perform the operation inplace on the original object.\n",
      "\n",
      "\n",
      "\n"
     ]
    },
    {
     "name": "stdout",
     "output_type": "stream",
     "text": [
      "47 out of 120: ('14:1488', 2030, 1, 0.75, True, True, 300)\n",
      "Create and store parameters\n",
      "Check weather files\n",
      "Check renewables data\n",
      "Create and store demand\n",
      "Create and store network\n",
      "Using config:\n",
      "\th2:True\n",
      "\toffwind:True\n",
      "\tbiogas:600\n"
     ]
    },
    {
     "name": "stderr",
     "output_type": "stream",
     "text": [
      "INFO:pypsa.io:Exported network network.nc has stores, carriers, loads, buses, generators, links\n"
     ]
    },
    {
     "name": "stdout",
     "output_type": "stream",
     "text": [
      "Run optimization\n"
     ]
    },
    {
     "name": "stderr",
     "output_type": "stream",
     "text": [
      "INFO:pypsa.io:Imported network network.nc has buses, carriers, generators, links, loads, stores\n",
      "INFO:linopy.model: Solve problem using Highs solver\n",
      "INFO:linopy.io:Writing objective.\n",
      "Writing constraints.: 100%|\u001b[38;2;128;191;255m██████████\u001b[0m| 17/17 [00:00<00:00, 33.79it/s]\n",
      "Writing continuous variables.: 100%|\u001b[38;2;128;191;255m██████████\u001b[0m| 9/9 [00:00<00:00, 94.87it/s]\n",
      "Writing integer variables.: 100%|\u001b[38;2;128;191;255m██████████\u001b[0m| 2/2 [00:00<00:00, 771.44it/s]\n",
      "INFO:linopy.io: Writing time: 0.64s\n",
      "INFO:linopy.solvers:Log file at /tmp/highs.log\n"
     ]
    },
    {
     "name": "stdout",
     "output_type": "stream",
     "text": [
      "Running HiGHS 1.7.2 (git hash: 184e327): Copyright (c) 2024 HiGHS under MIT licence terms\n",
      "Coefficient ranges:\n",
      "  Matrix [2e-06, 3e+02]\n",
      "  Cost   [6e+01, 2e+06]\n",
      "  Bound  [0e+00, 0e+00]\n",
      "  RHS    [5e+01, 6e+02]\n",
      "Presolving model\n",
      "47408 rows, 41576 cols, 124759 nonzeros  0s\n",
      "37157 rows, 31325 cols, 114994 nonzeros  0s\n",
      "37081 rows, 31249 cols, 115328 nonzeros  0s\n",
      "\n",
      "Solving MIP model with:\n",
      "   37081 rows\n",
      "   31249 cols (0 binary, 5 integer, 0 implied int., 31244 continuous)\n",
      "   115328 nonzeros\n",
      "\n",
      "        Nodes      |    B&B Tree     |            Objective Bounds              |  Dynamic Constraints |       Work      \n",
      "     Proc. InQueue |  Leaves   Expl. | BestBound       BestSol              Gap |   Cuts   InLp Confl. | LpIters     Time\n",
      "\n",
      "         0       0         0   0.00%   -inf            inf                  inf        0      0      0         0     0.3s\n",
      " S       0       0         0   0.00%   -inf            822869092.4684     Large        0      0      0         0    17.9s\n",
      " R       0       0         0   0.00%   745719452.7052  799227721.9062     6.69%        0      0      0     65070    19.3s\n",
      "         0       0         0   0.00%   745719674.6951  799227721.9062     6.69%       35      5      0     65075    24.4s\n",
      " L       0       0         0   0.00%   745719959.7829  793446275.4097     6.02%       35     17      0     65088    62.5s\n",
      "         1       0         0 100.00%   793431395.9058  793446275.4097     0.00%       35     15      0    131840    71.4s\n",
      "\n",
      "Solving report\n",
      "  Status            Optimal\n",
      "  Primal bound      793446275.41\n",
      "  Dual bound        793431395.906\n",
      "  Gap               0.00188% (tolerance: 0.01%)\n",
      "  Solution status   feasible\n",
      "                    793446275.41 (objective)\n",
      "                    0 (bound viol.)\n",
      "                    0 (int. viol.)\n",
      "                    0 (row viol.)\n",
      "  Timing            71.36 (total)\n",
      "                    0.26 (presolve)\n",
      "                    0.00 (postsolve)\n",
      "  Nodes             1\n",
      "  LP iterations     131840 (total)\n",
      "                    10577 (strong br.)\n",
      "                    18 (separation)\n",
      "                    50285 (heuristics)\n"
     ]
    },
    {
     "name": "stderr",
     "output_type": "stream",
     "text": [
      "INFO:linopy.constants: Optimization successful: \n",
      "Status: ok\n",
      "Termination condition: optimal\n",
      "Solution: 46739 primals, 105141 duals\n",
      "Objective: 7.93e+08\n",
      "Solver model: available\n",
      "Solver message: optimal\n",
      "\n",
      "INFO:pypsa.optimization.optimize:The shadow-prices of the constraints Generator-ext-p-lower, Generator-ext-p-upper, Link-ext-p-lower, Link-ext-p-upper, Store-ext-e-lower, Store-ext-e-upper, Store-energy_balance were not assigned to the network.\n"
     ]
    },
    {
     "name": "stdout",
     "output_type": "stream",
     "text": [
      "Writing the solution to /tmp/linopy-solve-rwsg23ix.sol\n"
     ]
    },
    {
     "name": "stderr",
     "output_type": "stream",
     "text": [
      "INFO:pypsa.io:Exported network network.nc has stores, carriers, loads, buses, generators, links\n",
      "INFO:pypsa.io:Imported network network.nc has buses, carriers, generators, links, loads, stores\n",
      "/home/viktor/code/pypsa-vgr/generator/library/output_files.py:289: FutureWarning:\n",
      "\n",
      "A value is trying to be set on a copy of a DataFrame or Series through chained assignment using an inplace method.\n",
      "The behavior will change in pandas 3.0. This inplace method will never work because the intermediate object on which we are setting values always behaves as a copy.\n",
      "\n",
      "For example, when doing 'df[col].method(value, inplace=True)', try using 'df.method({col: value}, inplace=True)' or df[col] = df[col].method(value) instead, to perform the operation inplace on the original object.\n",
      "\n",
      "\n",
      "\n"
     ]
    },
    {
     "name": "stdout",
     "output_type": "stream",
     "text": [
      "48 out of 120: ('14:1488', 2030, 1, 0.75, True, True, 600)\n",
      "Create and store parameters\n",
      "Check weather files\n",
      "Check renewables data\n",
      "Create and store demand\n",
      "Create and store network\n",
      "Using config:\n",
      "\th2:True\n",
      "\toffwind:True\n",
      "\tbiogas:1200\n"
     ]
    },
    {
     "name": "stderr",
     "output_type": "stream",
     "text": [
      "INFO:pypsa.io:Exported network network.nc has stores, carriers, loads, buses, generators, links\n"
     ]
    },
    {
     "name": "stdout",
     "output_type": "stream",
     "text": [
      "Run optimization\n"
     ]
    },
    {
     "name": "stderr",
     "output_type": "stream",
     "text": [
      "INFO:pypsa.io:Imported network network.nc has buses, carriers, generators, links, loads, stores\n",
      "INFO:linopy.model: Solve problem using Highs solver\n",
      "INFO:linopy.io:Writing objective.\n",
      "Writing constraints.: 100%|\u001b[38;2;128;191;255m██████████\u001b[0m| 17/17 [00:00<00:00, 32.82it/s]\n",
      "Writing continuous variables.: 100%|\u001b[38;2;128;191;255m██████████\u001b[0m| 9/9 [00:00<00:00, 102.99it/s]\n",
      "Writing integer variables.: 100%|\u001b[38;2;128;191;255m██████████\u001b[0m| 2/2 [00:00<00:00, 805.44it/s]\n",
      "INFO:linopy.io: Writing time: 0.65s\n",
      "INFO:linopy.solvers:Log file at /tmp/highs.log\n"
     ]
    },
    {
     "name": "stdout",
     "output_type": "stream",
     "text": [
      "Running HiGHS 1.7.2 (git hash: 184e327): Copyright (c) 2024 HiGHS under MIT licence terms\n",
      "Coefficient ranges:\n",
      "  Matrix [2e-06, 3e+02]\n",
      "  Cost   [6e+01, 2e+06]\n",
      "  Bound  [0e+00, 0e+00]\n",
      "  RHS    [5e+01, 1e+03]\n",
      "Presolving model\n",
      "47408 rows, 41576 cols, 124759 nonzeros  0s\n",
      "37157 rows, 31325 cols, 114994 nonzeros  0s\n",
      "37081 rows, 31249 cols, 115328 nonzeros  0s\n",
      "\n",
      "Solving MIP model with:\n",
      "   37081 rows\n",
      "   31249 cols (0 binary, 5 integer, 0 implied int., 31244 continuous)\n",
      "   115328 nonzeros\n",
      "\n",
      "        Nodes      |    B&B Tree     |            Objective Bounds              |  Dynamic Constraints |       Work      \n",
      "     Proc. InQueue |  Leaves   Expl. | BestBound       BestSol              Gap |   Cuts   InLp Confl. | LpIters     Time\n",
      "\n",
      "         0       0         0   0.00%   -inf            inf                  inf        0      0      0         0     0.3s\n",
      " S       0       0         0   0.00%   -inf            822869092.4684     Large        0      0      0         0    18.3s\n",
      " R       0       0         0   0.00%   745719452.7052  799227721.9062     6.69%        0      0      0     65070    19.8s\n",
      "         0       0         0   0.00%   745719674.6951  799227721.9062     6.69%       35      5      0     65075    24.9s\n",
      " L       0       0         0   0.00%   745719959.7829  793446275.4097     6.02%       35     17      0     65088    62.8s\n",
      "         1       0         0 100.00%   793431395.9058  793446275.4097     0.00%       35     15      0    131840    71.4s\n",
      "\n",
      "Solving report\n",
      "  Status            Optimal\n",
      "  Primal bound      793446275.41\n",
      "  Dual bound        793431395.906\n",
      "  Gap               0.00188% (tolerance: 0.01%)\n",
      "  Solution status   feasible\n",
      "                    793446275.41 (objective)\n",
      "                    0 (bound viol.)\n",
      "                    0 (int. viol.)\n",
      "                    0 (row viol.)\n",
      "  Timing            71.37 (total)\n",
      "                    0.28 (presolve)\n",
      "                    0.00 (postsolve)\n",
      "  Nodes             1\n",
      "  LP iterations     131840 (total)\n",
      "                    10577 (strong br.)\n",
      "                    18 (separation)\n",
      "                    50285 (heuristics)\n",
      "Writing the solution to /tmp/linopy-solve-_2nkdr2u.sol\n"
     ]
    },
    {
     "name": "stderr",
     "output_type": "stream",
     "text": [
      "INFO:linopy.constants: Optimization successful: \n",
      "Status: ok\n",
      "Termination condition: optimal\n",
      "Solution: 46739 primals, 105141 duals\n",
      "Objective: 7.93e+08\n",
      "Solver model: available\n",
      "Solver message: optimal\n",
      "\n",
      "INFO:pypsa.optimization.optimize:The shadow-prices of the constraints Generator-ext-p-lower, Generator-ext-p-upper, Link-ext-p-lower, Link-ext-p-upper, Store-ext-e-lower, Store-ext-e-upper, Store-energy_balance were not assigned to the network.\n",
      "INFO:pypsa.io:Exported network network.nc has stores, carriers, loads, buses, generators, links\n",
      "INFO:pypsa.io:Imported network network.nc has buses, carriers, generators, links, loads, stores\n",
      "/home/viktor/code/pypsa-vgr/generator/library/output_files.py:289: FutureWarning:\n",
      "\n",
      "A value is trying to be set on a copy of a DataFrame or Series through chained assignment using an inplace method.\n",
      "The behavior will change in pandas 3.0. This inplace method will never work because the intermediate object on which we are setting values always behaves as a copy.\n",
      "\n",
      "For example, when doing 'df[col].method(value, inplace=True)', try using 'df.method({col: value}, inplace=True)' or df[col] = df[col].method(value) instead, to perform the operation inplace on the original object.\n",
      "\n",
      "\n",
      "\n"
     ]
    },
    {
     "name": "stdout",
     "output_type": "stream",
     "text": [
      "49 out of 120: ('14:1488', 2030, 1, 0.75, True, True, 1200)\n",
      "Create and store parameters\n",
      "Check weather files\n",
      "Check renewables data\n",
      "Create and store demand\n",
      "Create and store network\n",
      "Using config:\n",
      "\th2:True\n",
      "\toffwind:True\n",
      "\tbiogas:1800\n"
     ]
    },
    {
     "name": "stderr",
     "output_type": "stream",
     "text": [
      "INFO:pypsa.io:Exported network network.nc has stores, carriers, loads, buses, generators, links\n",
      "INFO:pypsa.io:Imported network network.nc has buses, carriers, generators, links, loads, stores\n"
     ]
    },
    {
     "name": "stdout",
     "output_type": "stream",
     "text": [
      "Run optimization\n"
     ]
    },
    {
     "name": "stderr",
     "output_type": "stream",
     "text": [
      "INFO:linopy.model: Solve problem using Highs solver\n",
      "INFO:linopy.io:Writing objective.\n",
      "Writing constraints.: 100%|\u001b[38;2;128;191;255m██████████\u001b[0m| 17/17 [00:00<00:00, 32.86it/s]\n",
      "Writing continuous variables.: 100%|\u001b[38;2;128;191;255m██████████\u001b[0m| 9/9 [00:00<00:00, 54.25it/s]\n",
      "Writing integer variables.: 100%|\u001b[38;2;128;191;255m██████████\u001b[0m| 2/2 [00:00<00:00, 477.60it/s]\n",
      "INFO:linopy.io: Writing time: 0.73s\n",
      "INFO:linopy.solvers:Log file at /tmp/highs.log\n"
     ]
    },
    {
     "name": "stdout",
     "output_type": "stream",
     "text": [
      "Running HiGHS 1.7.2 (git hash: 184e327): Copyright (c) 2024 HiGHS under MIT licence terms\n"
     ]
    },
    {
     "name": "stderr",
     "output_type": "stream",
     "text": [
      "INFO:linopy.constants: Optimization successful: \n",
      "Status: ok\n",
      "Termination condition: optimal\n",
      "Solution: 46739 primals, 105141 duals\n",
      "Objective: 7.93e+08\n",
      "Solver model: available\n",
      "Solver message: optimal\n",
      "\n",
      "INFO:pypsa.optimization.optimize:The shadow-prices of the constraints Generator-ext-p-lower, Generator-ext-p-upper, Link-ext-p-lower, Link-ext-p-upper, Store-ext-e-lower, Store-ext-e-upper, Store-energy_balance were not assigned to the network.\n"
     ]
    },
    {
     "name": "stdout",
     "output_type": "stream",
     "text": [
      "Coefficient ranges:\n",
      "  Matrix [2e-06, 3e+02]\n",
      "  Cost   [6e+01, 2e+06]\n",
      "  Bound  [0e+00, 0e+00]\n",
      "  RHS    [5e+01, 2e+03]\n",
      "Presolving model\n",
      "47408 rows, 41576 cols, 124759 nonzeros  0s\n",
      "37157 rows, 31325 cols, 114994 nonzeros  0s\n",
      "37081 rows, 31249 cols, 115328 nonzeros  0s\n",
      "\n",
      "Solving MIP model with:\n",
      "   37081 rows\n",
      "   31249 cols (0 binary, 5 integer, 0 implied int., 31244 continuous)\n",
      "   115328 nonzeros\n",
      "\n",
      "        Nodes      |    B&B Tree     |            Objective Bounds              |  Dynamic Constraints |       Work      \n",
      "     Proc. InQueue |  Leaves   Expl. | BestBound       BestSol              Gap |   Cuts   InLp Confl. | LpIters     Time\n",
      "\n",
      "         0       0         0   0.00%   -inf            inf                  inf        0      0      0         0     0.2s\n",
      " S       0       0         0   0.00%   -inf            822869092.4684     Large        0      0      0         0    17.4s\n",
      " R       0       0         0   0.00%   745719452.7052  799227721.9062     6.69%        0      0      0     65070    18.8s\n",
      "         0       0         0   0.00%   745719674.6951  799227721.9062     6.69%       35      5      0     65075    23.9s\n",
      " L       0       0         0   0.00%   745719959.7829  793446275.4097     6.02%       35     17      0     65088    65.0s\n",
      "         1       0         0 100.00%   793431395.9058  793446275.4097     0.00%       35     15      0    131840    74.0s\n",
      "\n",
      "Solving report\n",
      "  Status            Optimal\n",
      "  Primal bound      793446275.41\n",
      "  Dual bound        793431395.906\n",
      "  Gap               0.00188% (tolerance: 0.01%)\n",
      "  Solution status   feasible\n",
      "                    793446275.41 (objective)\n",
      "                    0 (bound viol.)\n",
      "                    0 (int. viol.)\n",
      "                    0 (row viol.)\n",
      "  Timing            73.95 (total)\n",
      "                    0.23 (presolve)\n",
      "                    0.00 (postsolve)\n",
      "  Nodes             1\n",
      "  LP iterations     131840 (total)\n",
      "                    10577 (strong br.)\n",
      "                    18 (separation)\n",
      "                    50285 (heuristics)\n",
      "Writing the solution to /tmp/linopy-solve-odv34x4x.sol\n"
     ]
    },
    {
     "name": "stderr",
     "output_type": "stream",
     "text": [
      "INFO:pypsa.io:Exported network network.nc has stores, carriers, loads, buses, generators, links\n",
      "INFO:pypsa.io:Imported network network.nc has buses, carriers, generators, links, loads, stores\n",
      "/home/viktor/code/pypsa-vgr/generator/library/output_files.py:289: FutureWarning:\n",
      "\n",
      "A value is trying to be set on a copy of a DataFrame or Series through chained assignment using an inplace method.\n",
      "The behavior will change in pandas 3.0. This inplace method will never work because the intermediate object on which we are setting values always behaves as a copy.\n",
      "\n",
      "For example, when doing 'df[col].method(value, inplace=True)', try using 'df.method({col: value}, inplace=True)' or df[col] = df[col].method(value) instead, to perform the operation inplace on the original object.\n",
      "\n",
      "\n",
      "\n"
     ]
    },
    {
     "name": "stdout",
     "output_type": "stream",
     "text": [
      "50 out of 120: ('14:1488', 2030, 1, 0.75, True, True, 1800)\n",
      "Create and store parameters\n",
      "Check weather files\n",
      "Check renewables data\n",
      "Create and store demand\n",
      "Create and store network\n",
      "Using config:\n",
      "\th2:True\n",
      "\toffwind:True\n",
      "\tbiogas:0\n"
     ]
    },
    {
     "name": "stderr",
     "output_type": "stream",
     "text": [
      "INFO:pypsa.io:Exported network network.nc has stores, carriers, loads, buses, generators, links\n"
     ]
    },
    {
     "name": "stdout",
     "output_type": "stream",
     "text": [
      "Run optimization\n"
     ]
    },
    {
     "name": "stderr",
     "output_type": "stream",
     "text": [
      "INFO:pypsa.io:Imported network network.nc has buses, carriers, generators, links, loads, stores\n",
      "INFO:linopy.model: Solve problem using Highs solver\n",
      "INFO:linopy.io:Writing objective.\n",
      "Writing constraints.: 100%|\u001b[38;2;128;191;255m██████████\u001b[0m| 17/17 [00:00<00:00, 37.56it/s]\n",
      "Writing continuous variables.: 100%|\u001b[38;2;128;191;255m██████████\u001b[0m| 9/9 [00:00<00:00, 103.36it/s]\n",
      "Writing integer variables.: 100%|\u001b[38;2;128;191;255m██████████\u001b[0m| 2/2 [00:00<00:00, 644.63it/s]\n",
      "INFO:linopy.io: Writing time: 0.58s\n",
      "INFO:linopy.solvers:Log file at /tmp/highs.log\n"
     ]
    },
    {
     "name": "stdout",
     "output_type": "stream",
     "text": [
      "Running HiGHS 1.7.2 (git hash: 184e327): Copyright (c) 2024 HiGHS under MIT licence terms\n",
      "Coefficient ranges:\n",
      "  Matrix [2e-06, 3e+02]\n",
      "  Cost   [6e+01, 2e+06]\n",
      "  Bound  [0e+00, 0e+00]\n",
      "  RHS    [7e+01, 2e+02]\n",
      "Presolving model\n",
      "44488 rows, 35736 cols, 115999 nonzeros  0s\n",
      "37074 rows, 28322 cols, 109584 nonzeros  0s\n",
      "37074 rows, 28322 cols, 109584 nonzeros  0s\n",
      "\n",
      "Solving MIP model with:\n",
      "   37074 rows\n",
      "   28322 cols (0 binary, 5 integer, 0 implied int., 28317 continuous)\n",
      "   109584 nonzeros\n",
      "\n",
      "        Nodes      |    B&B Tree     |            Objective Bounds              |  Dynamic Constraints |       Work      \n",
      "     Proc. InQueue |  Leaves   Expl. | BestBound       BestSol              Gap |   Cuts   InLp Confl. | LpIters     Time\n",
      "\n",
      "         0       0         0   0.00%   -inf            inf                  inf        0      0      0         0     0.2s\n",
      " S       0       0         0   0.00%   -inf            1361484964.728     Large        0      0      0         0     6.9s\n",
      " R       0       0         0   0.00%   1358006655.528  1358133017.774     0.01%        0      0      0     37410     7.2s\n",
      "\n",
      "Solving report\n",
      "  Status            Optimal\n",
      "  Primal bound      1358133017.77\n",
      "  Dual bound        1358006655.53\n",
      "  Gap               0.0093% (tolerance: 0.01%)\n",
      "  Solution status   feasible\n",
      "                    1358133017.77 (objective)\n",
      "                    0 (bound viol.)\n",
      "                    0 (int. viol.)\n",
      "                    0 (row viol.)\n",
      "  Timing            7.24 (total)\n",
      "                    0.18 (presolve)\n",
      "                    0.00 (postsolve)\n",
      "  Nodes             1\n",
      "  LP iterations     37410 (total)\n",
      "                    0 (strong br.)\n",
      "                    0 (separation)\n",
      "                    0 (heuristics)\n",
      "Writing the solution to /tmp/linopy-solve-bux6_o0p.sol\n"
     ]
    },
    {
     "name": "stderr",
     "output_type": "stream",
     "text": [
      "INFO:linopy.constants: Optimization successful: \n",
      "Status: ok\n",
      "Termination condition: optimal\n",
      "Solution: 40897 primals, 90538 duals\n",
      "Objective: 1.36e+09\n",
      "Solver model: available\n",
      "Solver message: optimal\n",
      "\n",
      "INFO:pypsa.optimization.optimize:The shadow-prices of the constraints Generator-ext-p-lower, Generator-ext-p-upper, Link-ext-p-lower, Link-ext-p-upper, Store-ext-e-lower, Store-ext-e-upper, Store-energy_balance were not assigned to the network.\n",
      "INFO:pypsa.io:Exported network network.nc has stores, carriers, loads, buses, generators, links\n",
      "INFO:pypsa.io:Imported network network.nc has buses, carriers, generators, links, loads, stores\n",
      "/home/viktor/code/pypsa-vgr/generator/library/output_files.py:289: FutureWarning:\n",
      "\n",
      "A value is trying to be set on a copy of a DataFrame or Series through chained assignment using an inplace method.\n",
      "The behavior will change in pandas 3.0. This inplace method will never work because the intermediate object on which we are setting values always behaves as a copy.\n",
      "\n",
      "For example, when doing 'df[col].method(value, inplace=True)', try using 'df.method({col: value}, inplace=True)' or df[col] = df[col].method(value) instead, to perform the operation inplace on the original object.\n",
      "\n",
      "\n",
      "\n"
     ]
    },
    {
     "name": "stdout",
     "output_type": "stream",
     "text": [
      "51 out of 120: ('14:1488', 2030, 1, 1, True, True, 0)\n",
      "Create and store parameters\n",
      "Check weather files\n",
      "Check renewables data\n",
      "Create and store demand\n",
      "Create and store network\n",
      "Using config:\n",
      "\th2:True\n",
      "\toffwind:True\n",
      "\tbiogas:300\n"
     ]
    },
    {
     "name": "stderr",
     "output_type": "stream",
     "text": [
      "INFO:pypsa.io:Exported network network.nc has stores, carriers, loads, buses, generators, links\n"
     ]
    },
    {
     "name": "stdout",
     "output_type": "stream",
     "text": [
      "Run optimization\n"
     ]
    },
    {
     "name": "stderr",
     "output_type": "stream",
     "text": [
      "INFO:pypsa.io:Imported network network.nc has buses, carriers, generators, links, loads, stores\n",
      "INFO:linopy.model: Solve problem using Highs solver\n",
      "INFO:linopy.io:Writing objective.\n",
      "Writing constraints.: 100%|\u001b[38;2;128;191;255m██████████\u001b[0m| 17/17 [00:00<00:00, 32.99it/s]\n",
      "Writing continuous variables.: 100%|\u001b[38;2;128;191;255m██████████\u001b[0m| 9/9 [00:00<00:00, 94.24it/s]\n",
      "Writing integer variables.: 100%|\u001b[38;2;128;191;255m██████████\u001b[0m| 2/2 [00:00<00:00, 740.78it/s]\n",
      "INFO:linopy.io: Writing time: 0.66s\n",
      "INFO:linopy.solvers:Log file at /tmp/highs.log\n"
     ]
    },
    {
     "name": "stdout",
     "output_type": "stream",
     "text": [
      "Running HiGHS 1.7.2 (git hash: 184e327): Copyright (c) 2024 HiGHS under MIT licence terms\n",
      "Coefficient ranges:\n",
      "  Matrix [2e-06, 3e+02]\n",
      "  Cost   [6e+01, 2e+06]\n",
      "  Bound  [0e+00, 0e+00]\n",
      "  RHS    [7e+01, 3e+02]\n",
      "Presolving model\n",
      "47408 rows, 41576 cols, 124759 nonzeros  0s\n",
      "37157 rows, 31325 cols, 114994 nonzeros  0s\n",
      "37081 rows, 31249 cols, 115328 nonzeros  0s\n",
      "\n",
      "Solving MIP model with:\n",
      "   37081 rows\n",
      "   31249 cols (0 binary, 5 integer, 0 implied int., 31244 continuous)\n",
      "   115328 nonzeros\n",
      "\n",
      "        Nodes      |    B&B Tree     |            Objective Bounds              |  Dynamic Constraints |       Work      \n",
      "     Proc. InQueue |  Leaves   Expl. | BestBound       BestSol              Gap |   Cuts   InLp Confl. | LpIters     Time\n",
      "\n",
      "         0       0         0   0.00%   -inf            inf                  inf        0      0      0         0     0.2s\n",
      " S       0       0         0   0.00%   -inf            982225767.4051     Large        0      0      0         0    17.8s\n",
      " R       0       0         0   0.00%   918044244.4585  963481818.8718     4.72%        0      0      0     66295    1"
     ]
    },
    {
     "name": "stderr",
     "output_type": "stream",
     "text": [
      "INFO:linopy.constants: Optimization successful: \n",
      "Status: ok\n",
      "Termination condition: optimal\n",
      "Solution: 46739 primals, 105141 duals\n",
      "Objective: 9.59e+08\n",
      "Solver model: available\n",
      "Solver message: optimal\n",
      "\n",
      "INFO:pypsa.optimization.optimize:The shadow-prices of the constraints Generator-ext-p-lower, Generator-ext-p-upper, Link-ext-p-lower, Link-ext-p-upper, Store-ext-e-lower, Store-ext-e-upper, Store-energy_balance were not assigned to the network.\n"
     ]
    },
    {
     "name": "stdout",
     "output_type": "stream",
     "text": [
      "8.9s\n",
      "         0       0         0   0.00%   918044326.0227  963481818.8718     4.72%       37      8      0     66304    24.0s\n",
      " L       0       0         0   0.00%   918044348.6975  959350961.1518     4.31%       37     14      0     66311    63.8s\n",
      "         1       0         0 100.00%   959346966.5949  959350961.1518     0.00%       37     13      0    133697    72.5s\n",
      "\n",
      "Solving report\n",
      "  Status            Optimal\n",
      "  Primal bound      959350961.152\n",
      "  Dual bound        959346966.595\n",
      "  Gap               0.000416% (tolerance: 0.01%)\n",
      "  Solution status   feasible\n",
      "                    959350961.152 (objective)\n",
      "                    0 (bound viol.)\n",
      "                    0 (int. viol.)\n",
      "                    0 (row viol.)\n",
      "  Timing            72.51 (total)\n",
      "                    0.19 (presolve)\n",
      "                    0.00 (postsolve)\n",
      "  Nodes             1\n",
      "  LP iterations     133697 (total)\n",
      "                    11699 (strong br.)\n",
      "                    16 (separation)\n",
      "                    51476 (heuristics)\n",
      "Writing the solution to /tmp/linopy-solve-jdxpfyot.sol\n"
     ]
    },
    {
     "name": "stderr",
     "output_type": "stream",
     "text": [
      "INFO:pypsa.io:Exported network network.nc has stores, carriers, loads, buses, generators, links\n",
      "INFO:pypsa.io:Imported network network.nc has buses, carriers, generators, links, loads, stores\n",
      "/home/viktor/code/pypsa-vgr/generator/library/output_files.py:289: FutureWarning:\n",
      "\n",
      "A value is trying to be set on a copy of a DataFrame or Series through chained assignment using an inplace method.\n",
      "The behavior will change in pandas 3.0. This inplace method will never work because the intermediate object on which we are setting values always behaves as a copy.\n",
      "\n",
      "For example, when doing 'df[col].method(value, inplace=True)', try using 'df.method({col: value}, inplace=True)' or df[col] = df[col].method(value) instead, to perform the operation inplace on the original object.\n",
      "\n",
      "\n",
      "\n"
     ]
    },
    {
     "name": "stdout",
     "output_type": "stream",
     "text": [
      "52 out of 120: ('14:1488', 2030, 1, 1, True, True, 300)\n",
      "Create and store parameters\n",
      "Check weather files\n",
      "Check renewables data\n",
      "Create and store demand\n",
      "Create and store network\n",
      "Using config:\n",
      "\th2:True\n",
      "\toffwind:True\n",
      "\tbiogas:600\n"
     ]
    },
    {
     "name": "stderr",
     "output_type": "stream",
     "text": [
      "INFO:pypsa.io:Exported network network.nc has stores, carriers, loads, buses, generators, links\n"
     ]
    },
    {
     "name": "stdout",
     "output_type": "stream",
     "text": [
      "Run optimization\n"
     ]
    },
    {
     "name": "stderr",
     "output_type": "stream",
     "text": [
      "INFO:pypsa.io:Imported network network.nc has buses, carriers, generators, links, loads, stores\n",
      "INFO:linopy.model: Solve problem using Highs solver\n",
      "INFO:linopy.io:Writing objective.\n",
      "Writing constraints.: 100%|\u001b[38;2;128;191;255m██████████\u001b[0m| 17/17 [00:00<00:00, 33.30it/s]\n",
      "Writing continuous variables.: 100%|\u001b[38;2;128;191;255m██████████\u001b[0m| 9/9 [00:00<00:00, 91.78it/s]\n",
      "Writing integer variables.: 100%|\u001b[38;2;128;191;255m██████████\u001b[0m| 2/2 [00:00<00:00, 669.38it/s]\n",
      "INFO:linopy.io: Writing time: 0.65s\n",
      "INFO:linopy.solvers:Log file at /tmp/highs.log\n"
     ]
    },
    {
     "name": "stdout",
     "output_type": "stream",
     "text": [
      "Running HiGHS 1.7.2 (git hash: 184e327): Copyright (c) 2024 HiGHS under MIT licence terms\n",
      "Coefficient ranges:\n",
      "  Matrix [2e-06, 3e+02]\n",
      "  Cost   [6e+01, 2e+06]\n",
      "  Bound  [0e+00, 0e+00]\n",
      "  RHS    [7e+01, 6e+02]\n"
     ]
    },
    {
     "name": "stderr",
     "output_type": "stream",
     "text": [
      "INFO:linopy.constants: Optimization successful: \n",
      "Status: ok\n",
      "Termination condition: optimal\n",
      "Solution: 46739 primals, 105141 duals\n",
      "Objective: 9.59e+08\n",
      "Solver model: available\n",
      "Solver message: optimal\n",
      "\n",
      "INFO:pypsa.optimization.optimize:The shadow-prices of the constraints Generator-ext-p-lower, Generator-ext-p-upper, Link-ext-p-lower, Link-ext-p-upper, Store-ext-e-lower, Store-ext-e-upper, Store-energy_balance were not assigned to the network.\n"
     ]
    },
    {
     "name": "stdout",
     "output_type": "stream",
     "text": [
      "Presolving model\n",
      "47408 rows, 41576 cols, 124759 nonzeros  0s\n",
      "37157 rows, 31325 cols, 114994 nonzeros  0s\n",
      "37081 rows, 31249 cols, 115328 nonzeros  0s\n",
      "\n",
      "Solving MIP model with:\n",
      "   37081 rows\n",
      "   31249 cols (0 binary, 5 integer, 0 implied int., 31244 continuous)\n",
      "   115328 nonzeros\n",
      "\n",
      "        Nodes      |    B&B Tree     |            Objective Bounds              |  Dynamic Constraints |       Work      \n",
      "     Proc. InQueue |  Leaves   Expl. | BestBound       BestSol              Gap |   Cuts   InLp Confl. | LpIters     Time\n",
      "\n",
      "         0       0         0   0.00%   -inf            inf                  inf        0      0      0         0     0.3s\n",
      " S       0       0         0   0.00%   -inf            982225767.4051     Large        0      0      0         0    17.4s\n",
      " R       0       0         0   0.00%   918044244.4585  963481818.8718     4.72%        0      0      0     63749    18.7s\n",
      "         0       0         0   0.00%   918044326.0227  963481818.8718     4.72%       37      8      0     63758    23.8s\n",
      " L       0       0         0   0.00%   918044348.6975  959350961.1518     4.31%       37     14      0     63766    67.1s\n",
      "         1       0         0 100.00%   959346966.5949  959350961.1518     0.00%       37     13      0    136077    76.6s\n",
      "\n",
      "Solving report\n",
      "  Status            Optimal\n",
      "  Primal bound      959350961.152\n",
      "  Dual bound        959346966.595\n",
      "  Gap               0.000416% (tolerance: 0.01%)\n",
      "  Solution status   feasible\n",
      "                    959350961.152 (objective)\n",
      "                    0 (bound viol.)\n",
      "                    0 (int. viol.)\n",
      "                    0 (row viol.)\n",
      "  Timing            76.57 (total)\n",
      "                    0.23 (presolve)\n",
      "                    0.00 (postsolve)\n",
      "  Nodes             1\n",
      "  LP iterations     136077 (total)\n",
      "                    13376 (strong br.)\n",
      "                    17 (separation)\n",
      "                    54077 (heuristics)\n",
      "Writing the solution to /tmp/linopy-solve-9twugwp4.sol\n"
     ]
    },
    {
     "name": "stderr",
     "output_type": "stream",
     "text": [
      "INFO:pypsa.io:Exported network network.nc has stores, carriers, loads, buses, generators, links\n",
      "INFO:pypsa.io:Imported network network.nc has buses, carriers, generators, links, loads, stores\n",
      "/home/viktor/code/pypsa-vgr/generator/library/output_files.py:289: FutureWarning:\n",
      "\n",
      "A value is trying to be set on a copy of a DataFrame or Series through chained assignment using an inplace method.\n",
      "The behavior will change in pandas 3.0. This inplace method will never work because the intermediate object on which we are setting values always behaves as a copy.\n",
      "\n",
      "For example, when doing 'df[col].method(value, inplace=True)', try using 'df.method({col: value}, inplace=True)' or df[col] = df[col].method(value) instead, to perform the operation inplace on the original object.\n",
      "\n",
      "\n",
      "\n"
     ]
    },
    {
     "name": "stdout",
     "output_type": "stream",
     "text": [
      "53 out of 120: ('14:1488', 2030, 1, 1, True, True, 600)\n",
      "Create and store parameters\n",
      "Check weather files\n",
      "Check renewables data\n",
      "Create and store demand\n",
      "Create and store network\n",
      "Using config:\n",
      "\th2:True\n",
      "\toffwind:True\n",
      "\tbiogas:1200\n"
     ]
    },
    {
     "name": "stderr",
     "output_type": "stream",
     "text": [
      "INFO:pypsa.io:Exported network network.nc has stores, carriers, loads, buses, generators, links\n",
      "INFO:pypsa.io:Imported network network.nc has buses, carriers, generators, links, loads, stores\n"
     ]
    },
    {
     "name": "stdout",
     "output_type": "stream",
     "text": [
      "Run optimization\n"
     ]
    },
    {
     "name": "stderr",
     "output_type": "stream",
     "text": [
      "INFO:linopy.model: Solve problem using Highs solver\n",
      "INFO:linopy.io:Writing objective.\n",
      "Writing constraints.: 100%|\u001b[38;2;128;191;255m██████████\u001b[0m| 17/17 [00:00<00:00, 30.32it/s]\n",
      "Writing continuous variables.: 100%|\u001b[38;2;128;191;255m██████████\u001b[0m| 9/9 [00:00<00:00, 94.78it/s]\n",
      "Writing integer variables.: 100%|\u001b[38;2;128;191;255m██████████\u001b[0m| 2/2 [00:00<00:00, 658.39it/s]\n",
      "INFO:linopy.io: Writing time: 0.7s\n",
      "INFO:linopy.solvers:Log file at /tmp/highs.log\n"
     ]
    },
    {
     "name": "stdout",
     "output_type": "stream",
     "text": [
      "Running HiGHS 1.7.2 (git hash: 184e327): Copyright (c) 2024 HiGHS under MIT licence terms\n",
      "Coefficient ranges:\n",
      "  Matrix [2e-06, 3e+02]\n",
      "  Cost   [6e+01, 2e+06]\n",
      "  Bound  [0e+00, 0e+00]\n",
      "  RHS    [7e+01, 1e+03]\n",
      "Presolving model\n",
      "47408 rows, 41576 cols, 124759 nonzeros  0s\n",
      "37157 rows, 31325 cols, 114994 nonzeros  0s\n",
      "37081 rows, 31249 cols, 115328 nonzeros  0s\n",
      "\n",
      "Solving MIP model with:\n",
      "   37081 rows\n",
      "   31249 cols (0 binary, 5 integer, 0 implied int., 31244 continuous)\n",
      "   115328 nonzeros\n",
      "\n",
      "        Nodes      |    B&B Tree     |            Objective Bounds              |  Dynamic Constraints |       Work      \n",
      "     Proc. InQueue |  Leaves   Expl. | BestBound       BestSol              Gap |   Cuts   InLp Confl. | LpIters     Time\n",
      "\n",
      "         0       0         0   0.00%   -inf            inf                  inf        0      0      0         0     0.3s\n",
      " S       0       0         0   0.00%   -inf            982225767.4051     Large        0      0      0         0    17.6s\n",
      " R       0       0         0   0.00%   918044244.4585  963481818.8718     4.72%        0      0      0     63749    18.9s\n",
      "         0       0         0   0.00%   918044326.0227  963481818.8718     4.72%       37      8      0     63758    24.0s\n",
      " L       0       0         0   0.00%   918044348.6975  959350961.1518     4.31%       37     14      0     63766    75.2s\n",
      "         1       0         0 100.00%   959346966.5949  959350961.1518     0.00%       37     13      0    136077    87.2s\n",
      "\n",
      "Solving report\n",
      "  Status            Optimal\n",
      "  Primal bound      959350961.152\n",
      "  Dual bound        959346966.595\n",
      "  Gap               0.000416% (tolerance: 0.01%)\n",
      "  Solution status   feasible\n",
      "                    959350961.152 (objective)\n",
      "                    0 (bound viol.)\n",
      "                    0 (int. viol.)\n",
      "                    0 (row viol.)\n",
      "  Timing            87.21 (total)\n",
      "                    0.24 (presolve)\n",
      "                    0.00 (postsolve)\n",
      "  Nodes             1\n",
      "  LP iterations     136077 (total)\n",
      "                    13376 (strong br.)\n",
      "                    17 (separation)\n",
      "                    54077 (heuristics)\n"
     ]
    },
    {
     "name": "stderr",
     "output_type": "stream",
     "text": [
      "INFO:linopy.constants: Optimization successful: \n",
      "Status: ok\n",
      "Termination condition: optimal\n",
      "Solution: 46739 primals, 105141 duals\n",
      "Objective: 9.59e+08\n",
      "Solver model: available\n",
      "Solver message: optimal\n",
      "\n"
     ]
    },
    {
     "name": "stdout",
     "output_type": "stream",
     "text": [
      "Writing the solution to /tmp/linopy-solve-npdvf9ha.sol\n"
     ]
    },
    {
     "name": "stderr",
     "output_type": "stream",
     "text": [
      "INFO:pypsa.optimization.optimize:The shadow-prices of the constraints Generator-ext-p-lower, Generator-ext-p-upper, Link-ext-p-lower, Link-ext-p-upper, Store-ext-e-lower, Store-ext-e-upper, Store-energy_balance were not assigned to the network.\n",
      "INFO:pypsa.io:Exported network network.nc has stores, carriers, loads, buses, generators, links\n",
      "INFO:pypsa.io:Imported network network.nc has buses, carriers, generators, links, loads, stores\n",
      "/home/viktor/code/pypsa-vgr/generator/library/output_files.py:289: FutureWarning:\n",
      "\n",
      "A value is trying to be set on a copy of a DataFrame or Series through chained assignment using an inplace method.\n",
      "The behavior will change in pandas 3.0. This inplace method will never work because the intermediate object on which we are setting values always behaves as a copy.\n",
      "\n",
      "For example, when doing 'df[col].method(value, inplace=True)', try using 'df.method({col: value}, inplace=True)' or df[col] = df[col].method(value) instead, to perform the operation inplace on the original object.\n",
      "\n",
      "\n",
      "\n"
     ]
    },
    {
     "name": "stdout",
     "output_type": "stream",
     "text": [
      "54 out of 120: ('14:1488', 2030, 1, 1, True, True, 1200)\n",
      "Create and store parameters\n",
      "Check weather files\n",
      "Check renewables data\n",
      "Create and store demand\n",
      "Create and store network\n",
      "Using config:\n",
      "\th2:True\n",
      "\toffwind:True\n",
      "\tbiogas:1800\n"
     ]
    },
    {
     "name": "stderr",
     "output_type": "stream",
     "text": [
      "INFO:pypsa.io:Exported network network.nc has stores, carriers, loads, buses, generators, links\n"
     ]
    },
    {
     "name": "stdout",
     "output_type": "stream",
     "text": [
      "Run optimization\n"
     ]
    },
    {
     "name": "stderr",
     "output_type": "stream",
     "text": [
      "INFO:pypsa.io:Imported network network.nc has buses, carriers, generators, links, loads, stores\n",
      "INFO:linopy.model: Solve problem using Highs solver\n",
      "INFO:linopy.io:Writing objective.\n",
      "Writing constraints.: 100%|\u001b[38;2;128;191;255m██████████\u001b[0m| 17/17 [00:00<00:00, 21.25it/s]\n",
      "Writing continuous variables.: 100%|\u001b[38;2;128;191;255m██████████\u001b[0m| 9/9 [00:00<00:00, 59.82it/s]\n",
      "Writing integer variables.: 100%|\u001b[38;2;128;191;255m██████████\u001b[0m| 2/2 [00:00<00:00, 451.41it/s]\n",
      "INFO:linopy.io: Writing time: 1.01s\n",
      "INFO:linopy.solvers:Log file at /tmp/highs.log\n"
     ]
    },
    {
     "name": "stdout",
     "output_type": "stream",
     "text": [
      "Running HiGHS 1.7.2 (git hash: 184e327): Copyright (c) 2024 HiGHS under MIT licence terms\n",
      "Coefficient ranges:\n",
      "  Matrix [2e-06, 3e+02]\n",
      "  Cost   [6e+01, 2e+06]\n",
      "  Bound  [0e+00, 0e+00]\n",
      "  RHS    [7e+01, 2e+03]\n",
      "Presolving model\n",
      "47408 rows, 41576 cols, 124759 nonzeros  0s\n",
      "37157 rows, 31325 cols, 114994 nonzeros  0s\n",
      "37081 rows, 31249 cols, 115328 nonzeros  0s\n",
      "\n",
      "Solving MIP model with:\n",
      "   37081 rows\n",
      "   31249 cols (0 binary, 5 integer, 0 implied int., 31244 continuous)\n",
      "   115328 nonzeros\n",
      "\n",
      "        Nodes      |    B&B Tree     |            Objective Bounds              |  Dynamic Constraints |       Work      \n",
      "     Proc. InQueue |  Leaves   Expl. | BestBound       BestSol              Gap |   Cuts   InLp Confl. | LpIters     Time\n",
      "\n",
      "         0       0         0   0.00%   -inf            inf                  inf        0      0      0         0     0.4s\n",
      " S       0       0         0   0.00%   -inf            982225767.4051     Large        0      0      0         0    22.9s\n",
      " R       0       0         0   0.00%   918044244.4585  963481818.8718     4.72%        0      0      0     63749    2"
     ]
    },
    {
     "name": "stderr",
     "output_type": "stream",
     "text": [
      "INFO:linopy.constants: Optimization successful: \n",
      "Status: ok\n",
      "Termination condition: optimal\n",
      "Solution: 46739 primals, 105141 duals\n",
      "Objective: 9.59e+08\n",
      "Solver model: available\n",
      "Solver message: optimal\n",
      "\n"
     ]
    },
    {
     "name": "stdout",
     "output_type": "stream",
     "text": [
      "4.7s\n",
      "         0       0         0   0.00%   918044309.579   963481818.8718     4.72%       37      7      0     63757    31.3s\n",
      " L       0       0         0   0.00%   918044348.6975  959350961.1518     4.31%       37     14      0     63766    84.1s\n",
      "         1       0         0 100.00%   959346966.5949  959350961.1518     0.00%       37     13      0    136077    95.7s\n",
      "\n",
      "Solving report\n",
      "  Status            Optimal\n",
      "  Primal bound      959350961.152\n",
      "  Dual bound        959346966.595\n",
      "  Gap               0.000416% (tolerance: 0.01%)\n",
      "  Solution status   feasible\n",
      "                    959350961.152 (objective)\n",
      "                    0 (bound viol.)\n",
      "                    0 (int. viol.)\n",
      "                    0 (row viol.)\n",
      "  Timing            95.69 (total)\n",
      "                    0.32 (presolve)\n",
      "                    0.00 (postsolve)\n",
      "  Nodes             1\n",
      "  LP iterations     136077 (total)\n",
      "                    13376 (strong br.)\n",
      "                    17 (separation)\n",
      "                    54077 (heuristics)\n",
      "Writing the solution to /tmp/linopy-solve-zm2rkxih.sol\n"
     ]
    },
    {
     "name": "stderr",
     "output_type": "stream",
     "text": [
      "INFO:pypsa.optimization.optimize:The shadow-prices of the constraints Generator-ext-p-lower, Generator-ext-p-upper, Link-ext-p-lower, Link-ext-p-upper, Store-ext-e-lower, Store-ext-e-upper, Store-energy_balance were not assigned to the network.\n",
      "INFO:pypsa.io:Exported network network.nc has stores, carriers, loads, buses, generators, links\n",
      "INFO:pypsa.io:Imported network network.nc has buses, carriers, generators, links, loads, stores\n",
      "/home/viktor/code/pypsa-vgr/generator/library/output_files.py:289: FutureWarning:\n",
      "\n",
      "A value is trying to be set on a copy of a DataFrame or Series through chained assignment using an inplace method.\n",
      "The behavior will change in pandas 3.0. This inplace method will never work because the intermediate object on which we are setting values always behaves as a copy.\n",
      "\n",
      "For example, when doing 'df[col].method(value, inplace=True)', try using 'df.method({col: value}, inplace=True)' or df[col] = df[col].method(value) instead, to perform the operation inplace on the original object.\n",
      "\n",
      "\n",
      "\n"
     ]
    },
    {
     "name": "stdout",
     "output_type": "stream",
     "text": [
      "55 out of 120: ('14:1488', 2030, 1, 1, True, True, 1800)\n",
      "Create and store parameters\n",
      "Check weather files\n",
      "Check renewables data\n",
      "Create and store demand\n",
      "Create and store network\n",
      "Using config:\n",
      "\th2:True\n",
      "\toffwind:True\n",
      "\tbiogas:0\n"
     ]
    },
    {
     "name": "stderr",
     "output_type": "stream",
     "text": [
      "INFO:pypsa.io:Exported network network.nc has stores, carriers, loads, buses, generators, links\n"
     ]
    },
    {
     "name": "stdout",
     "output_type": "stream",
     "text": [
      "Run optimization\n"
     ]
    },
    {
     "name": "stderr",
     "output_type": "stream",
     "text": [
      "INFO:pypsa.io:Imported network network.nc has buses, carriers, generators, links, loads, stores\n",
      "INFO:linopy.model: Solve problem using Highs solver\n",
      "INFO:linopy.io:Writing objective.\n",
      "Writing constraints.: 100%|\u001b[38;2;128;191;255m██████████\u001b[0m| 17/17 [00:00<00:00, 28.29it/s]\n",
      "Writing continuous variables.: 100%|\u001b[38;2;128;191;255m██████████\u001b[0m| 9/9 [00:00<00:00, 87.36it/s]\n",
      "Writing integer variables.: 100%|\u001b[38;2;128;191;255m██████████\u001b[0m| 2/2 [00:00<00:00, 533.83it/s]\n",
      "INFO:linopy.io: Writing time: 0.75s\n",
      "INFO:linopy.solvers:Log file at /tmp/highs.log\n"
     ]
    },
    {
     "name": "stdout",
     "output_type": "stream",
     "text": [
      "Running HiGHS 1.7.2 (git hash: 184e327): Copyright (c) 2024 HiGHS under MIT licence terms\n",
      "Coefficient ranges:\n",
      "  Matrix [2e-06, 3e+02]\n",
      "  Cost   [6e+01, 2e+06]\n",
      "  Bound  [0e+00, 0e+00]\n",
      "  RHS    [2e+02, 5e+02]\n"
     ]
    },
    {
     "name": "stderr",
     "output_type": "stream",
     "text": [
      "INFO:linopy.constants: Optimization successful: \n",
      "Status: ok\n",
      "Termination condition: optimal\n",
      "Solution: 40897 primals, 90538 duals\n",
      "Objective: 3.40e+09\n",
      "Solver model: available\n",
      "Solver message: optimal\n",
      "\n"
     ]
    },
    {
     "name": "stdout",
     "output_type": "stream",
     "text": [
      "Presolving model\n",
      "44488 rows, 35736 cols, 115999 nonzeros  0s\n",
      "37074 rows, 28322 cols, 109584 nonzeros  0s\n",
      "37074 rows, 28322 cols, 109584 nonzeros  0s\n",
      "\n",
      "Solving MIP model with:\n",
      "   37074 rows\n",
      "   28322 cols (0 binary, 5 integer, 0 implied int., 28317 continuous)\n",
      "   109584 nonzeros\n",
      "\n",
      "        Nodes      |    B&B Tree     |            Objective Bounds              |  Dynamic Constraints |       Work      \n",
      "     Proc. InQueue |  Leaves   Expl. | BestBound       BestSol              Gap |   Cuts   InLp Confl. | LpIters     Time\n",
      "\n",
      "         0       0         0   0.00%   -inf            inf                  inf        0      0      0         0     0.2s\n",
      " S       0       0         0   0.00%   -inf            3398865849.176     Large        0      0      0         0     9.2s\n",
      " R       0       0         0   0.00%   3395016638.821  3395154942.937     0.00%        0      0      0     39902     9.4s\n",
      "\n",
      "Solving report\n",
      "  Status            Optimal\n",
      "  Primal bound      3395154942.94\n",
      "  Dual bound        3395016638.82\n",
      "  Gap               0.00407% (tolerance: 0.01%)\n",
      "  Solution status   feasible\n",
      "                    3395154942.94 (objective)\n",
      "                    0 (bound viol.)\n",
      "                    0 (int. viol.)\n",
      "                    0 (row viol.)\n",
      "  Timing            9.47 (total)\n",
      "                    0.23 (presolve)\n",
      "                    0.00 (postsolve)\n",
      "  Nodes             1\n",
      "  LP iterations     39902 (total)\n",
      "                    0 (strong br.)\n",
      "                    0 (separation)\n",
      "                    0 (heuristics)\n",
      "Writing the solution to /tmp/linopy-solve-7ju9yvnh.sol\n"
     ]
    },
    {
     "name": "stderr",
     "output_type": "stream",
     "text": [
      "INFO:pypsa.optimization.optimize:The shadow-prices of the constraints Generator-ext-p-lower, Generator-ext-p-upper, Link-ext-p-lower, Link-ext-p-upper, Store-ext-e-lower, Store-ext-e-upper, Store-energy_balance were not assigned to the network.\n",
      "INFO:pypsa.io:Exported network network.nc has stores, carriers, loads, buses, generators, links\n",
      "INFO:pypsa.io:Imported network network.nc has buses, carriers, generators, links, loads, stores\n",
      "/home/viktor/code/pypsa-vgr/generator/library/output_files.py:289: FutureWarning:\n",
      "\n",
      "A value is trying to be set on a copy of a DataFrame or Series through chained assignment using an inplace method.\n",
      "The behavior will change in pandas 3.0. This inplace method will never work because the intermediate object on which we are setting values always behaves as a copy.\n",
      "\n",
      "For example, when doing 'df[col].method(value, inplace=True)', try using 'df.method({col: value}, inplace=True)' or df[col] = df[col].method(value) instead, to perform the operation inplace on the original object.\n",
      "\n",
      "\n",
      "\n"
     ]
    },
    {
     "name": "stdout",
     "output_type": "stream",
     "text": [
      "56 out of 120: ('14:1488', 2030, 1, 2.5, True, True, 0)\n",
      "Create and store parameters\n",
      "Check weather files\n",
      "Check renewables data\n",
      "Create and store demand\n",
      "Create and store network\n",
      "Using config:\n",
      "\th2:True\n",
      "\toffwind:True\n",
      "\tbiogas:300\n"
     ]
    },
    {
     "name": "stderr",
     "output_type": "stream",
     "text": [
      "INFO:pypsa.io:Exported network network.nc has stores, carriers, loads, buses, generators, links\n"
     ]
    },
    {
     "name": "stdout",
     "output_type": "stream",
     "text": [
      "Run optimization\n"
     ]
    },
    {
     "name": "stderr",
     "output_type": "stream",
     "text": [
      "INFO:pypsa.io:Imported network network.nc has buses, carriers, generators, links, loads, stores\n",
      "INFO:linopy.model: Solve problem using Highs solver\n",
      "INFO:linopy.io:Writing objective.\n",
      "Writing constraints.: 100%|\u001b[38;2;128;191;255m██████████\u001b[0m| 17/17 [00:00<00:00, 25.22it/s]\n",
      "Writing continuous variables.: 100%|\u001b[38;2;128;191;255m██████████\u001b[0m| 9/9 [00:00<00:00, 75.38it/s]\n",
      "Writing integer variables.: 100%|\u001b[38;2;128;191;255m██████████\u001b[0m| 2/2 [00:00<00:00, 531.13it/s]\n",
      "INFO:linopy.io: Writing time: 0.84s\n",
      "INFO:linopy.solvers:Log file at /tmp/highs.log\n"
     ]
    },
    {
     "name": "stdout",
     "output_type": "stream",
     "text": [
      "Running HiGHS 1.7.2 (git hash: 184e327): Copyright (c) 2024 HiGHS under MIT licence terms\n",
      "Coefficient ranges:\n",
      "  Matrix [2e-06, 3e+02]\n",
      "  Cost   [6e+01, 2e+06]\n",
      "  Bound  [0e+00, 0e+00]\n",
      "  RHS    [2e+02, 5e+02]\n",
      "Presolving model\n",
      "47408 rows, 41576 cols, 124759 nonzeros  0s\n",
      "37157 rows, 31325 cols, 114994 nonzeros  0s\n",
      "37081 rows, 31249 cols, 115328 nonzeros  0s\n",
      "\n",
      "Solving MIP model with:\n",
      "   37081 rows\n",
      "   31249 cols (0 binary, 5 integer, 0 implied int., 31244 continuous)\n",
      "   115328 nonzeros\n",
      "\n",
      "        Nodes      |    B&B Tree     |            Objective Bounds              |  Dynamic Constraints |       Work      \n",
      "     Proc. InQueue |  Leaves   Expl. | BestBound       BestSol              Gap |   Cuts   InLp Confl. | LpIters     Time\n",
      "\n",
      "         0       0         0   0.00%   -inf            inf                  inf        0      0      0         0     0.3s\n",
      " S       0       0         0   0.00%   -inf            2401985779.858     Large        0      0      0         0    21.3s\n",
      " R       0       0         0   0.00%   2401028158.217  2401029511.772     0.00%        0      0      0     62279    21.5s\n",
      "\n",
      "Solving report\n",
      "  Status            Optimal\n",
      "  Primal bound      2401029511.77\n",
      "  Dual bound        2401028158.22\n",
      "  Gap               5.6e-05% (tolerance: 0.01%)\n",
      "  Solution status   feasible\n",
      "                    2401029511.77 (objective)\n",
      "                    0 (bound viol.)\n",
      "                    0 (int. viol.)\n",
      "                    0 (row viol.)\n",
      "  Timing            21.54 (total)\n",
      "                    0.31 (presolve)\n",
      "                    0.00 (postsolve)\n",
      "  Nodes             1\n",
      "  LP iterations     62279 (total)\n",
      "                    0 (strong br.)\n",
      "                    0 (separation)\n",
      "                    0 (heuristics)\n",
      "Writing the solution to /tmp/linopy-solve-q54bkwwc.sol\n"
     ]
    },
    {
     "name": "stderr",
     "output_type": "stream",
     "text": [
      "INFO:linopy.constants: Optimization successful: \n",
      "Status: ok\n",
      "Termination condition: optimal\n",
      "Solution: 46739 primals, 105141 duals\n",
      "Objective: 2.40e+09\n",
      "Solver model: available\n",
      "Solver message: optimal\n",
      "\n",
      "INFO:pypsa.optimization.optimize:The shadow-prices of the constraints Generator-ext-p-lower, Generator-ext-p-upper, Link-ext-p-lower, Link-ext-p-upper, Store-ext-e-lower, Store-ext-e-upper, Store-energy_balance were not assigned to the network.\n",
      "INFO:pypsa.io:Exported network network.nc has stores, carriers, loads, buses, generators, links\n",
      "INFO:pypsa.io:Imported network network.nc has buses, carriers, generators, links, loads, stores\n",
      "/home/viktor/code/pypsa-vgr/generator/library/output_files.py:289: FutureWarning:\n",
      "\n",
      "A value is trying to be set on a copy of a DataFrame or Series through chained assignment using an inplace method.\n",
      "The behavior will change in pandas 3.0. This inplace method will never work because the intermediate object on which we are setting values always behaves as a copy.\n",
      "\n",
      "For example, when doing 'df[col].method(value, inplace=True)', try using 'df.method({col: value}, inplace=True)' or df[col] = df[col].method(value) instead, to perform the operation inplace on the original object.\n",
      "\n",
      "\n",
      "\n"
     ]
    },
    {
     "name": "stdout",
     "output_type": "stream",
     "text": [
      "57 out of 120: ('14:1488', 2030, 1, 2.5, True, True, 300)\n",
      "Create and store parameters\n",
      "Check weather files\n",
      "Check renewables data\n",
      "Create and store demand\n",
      "Create and store network\n",
      "Using config:\n",
      "\th2:True\n",
      "\toffwind:True\n",
      "\tbiogas:600\n"
     ]
    },
    {
     "name": "stderr",
     "output_type": "stream",
     "text": [
      "INFO:pypsa.io:Exported network network.nc has stores, carriers, loads, buses, generators, links\n"
     ]
    },
    {
     "name": "stdout",
     "output_type": "stream",
     "text": [
      "Run optimization\n"
     ]
    },
    {
     "name": "stderr",
     "output_type": "stream",
     "text": [
      "INFO:pypsa.io:Imported network network.nc has buses, carriers, generators, links, loads, stores\n",
      "INFO:linopy.model: Solve problem using Highs solver\n",
      "INFO:linopy.io:Writing objective.\n",
      "Writing constraints.: 100%|\u001b[38;2;128;191;255m██████████\u001b[0m| 17/17 [00:00<00:00, 21.14it/s]\n",
      "Writing continuous variables.: 100%|\u001b[38;2;128;191;255m██████████\u001b[0m| 9/9 [00:00<00:00, 60.99it/s]\n",
      "Writing integer variables.: 100%|\u001b[38;2;128;191;255m██████████\u001b[0m| 2/2 [00:00<00:00, 369.44it/s]\n",
      "INFO:linopy.io: Writing time: 1.02s\n",
      "INFO:linopy.solvers:Log file at /tmp/highs.log\n"
     ]
    },
    {
     "name": "stdout",
     "output_type": "stream",
     "text": [
      "Running HiGHS 1.7.2 (git hash: 184e327): Copyright (c) 2024 HiGHS under MIT licence terms\n",
      "Coefficient ranges:\n",
      "  Matrix [2e-06, 3e+02]\n",
      "  Cost   [6e+01, 2e+06]\n",
      "  Bound  [0e+00, 0e+00]\n",
      "  RHS    [2e+02, 6e+02]\n",
      "Presolving model\n",
      "47408 rows, 41576 cols, 124759 nonzeros  0s\n",
      "37157 rows, 31325 cols, 114994 nonzeros  0s\n",
      "37081 rows, 31249 cols, 115328 nonzeros  0s\n",
      "\n",
      "Solving MIP model with:\n",
      "   37081 rows\n",
      "   31249 cols (0 binary, 5 integer, 0 implied int., 31244 continuous)\n",
      "   115328 nonzeros\n",
      "\n",
      "        Nodes      |    B&B Tree     |            Objective Bounds              |  Dynamic Constraints |       Work      \n",
      "     Proc. InQueue |  Leaves   Expl. | BestBound       BestSol              Gap |   Cuts   InLp Confl. | LpIters     Time\n",
      "\n",
      "         0       0         0   0.00%   -inf            inf                  inf        0      0      0         0     0.3s\n",
      " S       0       0         0   0.00%   -inf            2317124324.535     Large        0      0      0         0    19.9s\n",
      " R       0       0         0   0.00%   2177557825.398  2265630302.25      3.89%        0      0      0     58078    21.4s\n",
      "         0       0         0   0.00%   2178854165.396  2265630302.25      3.83%      626      8      0     58402    28.8s\n",
      " L       0       0         0   0.00%   2179403592.654  2259761049.017     3.56%      640     17      0     58738    64.2s\n",
      "         1       0         0 100.00%   2259760089.133  2259761049.017     0.00%      640     15      0     93883    71.8s\n",
      "\n",
      "Solving report\n",
      "  Status            Optimal\n",
      "  Primal bound      2259761049.02\n",
      "  Dual bound        2259760089.13\n",
      "  Gap               4.2e-05% (tolerance: 0.01%)\n",
      "  Solution status   feasible\n",
      "                    2259761049.02 (objective)\n",
      "                    0 (bound viol.)\n",
      "                    0 (int. viol.)\n",
      "                    0 (row viol.)\n",
      "  Timing            71.77 (total)\n",
      "                    0.31 (presolve)\n",
      "                    0.00 (postsolve)\n",
      "  Nodes             1\n",
      "  LP iterations     93883 (total)\n",
      "                    5930 (strong br.)\n",
      "                    662 (separation)\n",
      "                    25729 (heuristics)\n",
      "Writing the solution to /tmp/linopy-solve-4ro1c40z.sol\n"
     ]
    },
    {
     "name": "stderr",
     "output_type": "stream",
     "text": [
      "INFO:linopy.constants: Optimization successful: \n",
      "Status: ok\n",
      "Termination condition: optimal\n",
      "Solution: 46739 primals, 105141 duals\n",
      "Objective: 2.26e+09\n",
      "Solver model: available\n",
      "Solver message: optimal\n",
      "\n",
      "INFO:pypsa.optimization.optimize:The shadow-prices of the constraints Generator-ext-p-lower, Generator-ext-p-upper, Link-ext-p-lower, Link-ext-p-upper, Store-ext-e-lower, Store-ext-e-upper, Store-energy_balance were not assigned to the network.\n",
      "INFO:pypsa.io:Exported network network.nc has stores, carriers, loads, buses, generators, links\n",
      "INFO:pypsa.io:Imported network network.nc has buses, carriers, generators, links, loads, stores\n",
      "/home/viktor/code/pypsa-vgr/generator/library/output_files.py:289: FutureWarning:\n",
      "\n",
      "A value is trying to be set on a copy of a DataFrame or Series through chained assignment using an inplace method.\n",
      "The behavior will change in pandas 3.0. This inplace method will never work because the intermediate object on which we are setting values always behaves as a copy.\n",
      "\n",
      "For example, when doing 'df[col].method(value, inplace=True)', try using 'df.method({col: value}, inplace=True)' or df[col] = df[col].method(value) instead, to perform the operation inplace on the original object.\n",
      "\n",
      "\n",
      "\n"
     ]
    },
    {
     "name": "stdout",
     "output_type": "stream",
     "text": [
      "58 out of 120: ('14:1488', 2030, 1, 2.5, True, True, 600)\n",
      "Create and store parameters\n",
      "Check weather files\n",
      "Check renewables data\n",
      "Create and store demand\n",
      "Create and store network\n",
      "Using config:\n",
      "\th2:True\n",
      "\toffwind:True\n",
      "\tbiogas:1200\n"
     ]
    },
    {
     "name": "stderr",
     "output_type": "stream",
     "text": [
      "INFO:pypsa.io:Exported network network.nc has stores, carriers, loads, buses, generators, links\n"
     ]
    },
    {
     "name": "stdout",
     "output_type": "stream",
     "text": [
      "Run optimization\n"
     ]
    },
    {
     "name": "stderr",
     "output_type": "stream",
     "text": [
      "INFO:pypsa.io:Imported network network.nc has buses, carriers, generators, links, loads, stores\n",
      "INFO:linopy.model: Solve problem using Highs solver\n",
      "INFO:linopy.io:Writing objective.\n",
      "Writing constraints.: 100%|\u001b[38;2;128;191;255m██████████\u001b[0m| 17/17 [00:00<00:00, 26.01it/s]\n",
      "Writing continuous variables.: 100%|\u001b[38;2;128;191;255m██████████\u001b[0m| 9/9 [00:00<00:00, 75.52it/s]\n",
      "Writing integer variables.: 100%|\u001b[38;2;128;191;255m██████████\u001b[0m| 2/2 [00:00<00:00, 753.90it/s]\n",
      "INFO:linopy.io: Writing time: 0.82s\n",
      "INFO:linopy.solvers:Log file at /tmp/highs.log\n"
     ]
    },
    {
     "name": "stdout",
     "output_type": "stream",
     "text": [
      "Running HiGHS 1.7.2 (git hash: 184e327): Copyright (c) 2024 HiGHS under MIT licence terms\n",
      "Coefficient ranges:\n",
      "  Matrix [2e-06, 3e+02]\n",
      "  Cost   [6e+01, 2e+06]\n",
      "  Bound  [0e+00, 0e+00]\n",
      "  RHS    [2e+02, 1e+03]\n",
      "Presolving model\n",
      "47408 rows, 41576 cols, 124759 nonzeros  0s\n",
      "37157 rows, 31325 cols, 114994 nonzeros  0s\n",
      "37081 rows, 31249 cols, 115328 nonzeros  0s\n",
      "\n",
      "Solving MIP model with:\n",
      "   37081 rows\n",
      "   31249 cols (0 binary, 5 integer, 0 implied int., 31244 continuous)\n",
      "   115328 nonzeros\n",
      "\n",
      "        Nodes      |    B&B Tree     |            Objective Bounds              |  Dynamic Constraints |       Work      \n",
      "     Proc. InQueue |  Leaves   Expl. | BestBound       BestSol              Gap |   Cuts   InLp Confl. | LpIters     Time\n",
      "\n",
      "         0       0         0   0.00%   -inf            inf                  inf        0      0      0         0     0.3s\n",
      " S       0       0         0   0.00%   -inf            2317124324.535     Large        0      0      0         0    22.2s\n",
      " R       0       0         0   0.00%   2177557825.398  2265630302.25      3.89%        0      0      0     65256    23.5s\n",
      "         0       0         0   0.00%   2178854165.396  2265630302.25      3.83%      626      8      0     6564"
     ]
    },
    {
     "name": "stderr",
     "output_type": "stream",
     "text": [
      "INFO:linopy.constants: Optimization successful: \n",
      "Status: ok\n",
      "Termination condition: optimal\n",
      "Solution: 46739 primals, 105141 duals\n",
      "Objective: 2.26e+09\n",
      "Solver model: available\n",
      "Solver message: optimal\n",
      "\n",
      "INFO:pypsa.optimization.optimize:The shadow-prices of the constraints Generator-ext-p-lower, Generator-ext-p-upper, Link-ext-p-lower, Link-ext-p-upper, Store-ext-e-lower, Store-ext-e-upper, Store-energy_balance were not assigned to the network.\n"
     ]
    },
    {
     "name": "stdout",
     "output_type": "stream",
     "text": [
      "9    30.4s\n",
      " L       0       0         0   0.00%   2179403592.654  2259761049.017     3.56%      640     17      0     65932    56.8s\n",
      "         1       0         0 100.00%   2259760089.133  2259761049.017     0.00%      640     15      0    101394    63.1s\n",
      "\n",
      "Solving report\n",
      "  Status            Optimal\n",
      "  Primal bound      2259761049.02\n",
      "  Dual bound        2259760089.13\n",
      "  Gap               4.2e-05% (tolerance: 0.01%)\n",
      "  Solution status   feasible\n",
      "                    2259761049.02 (objective)\n",
      "                    0 (bound viol.)\n",
      "                    0 (int. viol.)\n",
      "                    0 (row viol.)\n",
      "  Timing            63.06 (total)\n",
      "                    0.25 (presolve)\n",
      "                    0.00 (postsolve)\n",
      "  Nodes             1\n",
      "  LP iterations     101394 (total)\n",
      "                    5577 (strong br.)\n",
      "                    679 (separation)\n",
      "                    25641 (heuristics)\n",
      "Writing the solution to /tmp/linopy-solve-enkzsyqz.sol\n"
     ]
    },
    {
     "name": "stderr",
     "output_type": "stream",
     "text": [
      "INFO:pypsa.io:Exported network network.nc has stores, carriers, loads, buses, generators, links\n",
      "INFO:pypsa.io:Imported network network.nc has buses, carriers, generators, links, loads, stores\n",
      "/home/viktor/code/pypsa-vgr/generator/library/output_files.py:289: FutureWarning:\n",
      "\n",
      "A value is trying to be set on a copy of a DataFrame or Series through chained assignment using an inplace method.\n",
      "The behavior will change in pandas 3.0. This inplace method will never work because the intermediate object on which we are setting values always behaves as a copy.\n",
      "\n",
      "For example, when doing 'df[col].method(value, inplace=True)', try using 'df.method({col: value}, inplace=True)' or df[col] = df[col].method(value) instead, to perform the operation inplace on the original object.\n",
      "\n",
      "\n",
      "\n"
     ]
    },
    {
     "name": "stdout",
     "output_type": "stream",
     "text": [
      "59 out of 120: ('14:1488', 2030, 1, 2.5, True, True, 1200)\n",
      "Create and store parameters\n",
      "Check weather files\n",
      "Check renewables data\n",
      "Create and store demand\n",
      "Create and store network\n",
      "Using config:\n",
      "\th2:True\n",
      "\toffwind:True\n",
      "\tbiogas:1800\n"
     ]
    },
    {
     "name": "stderr",
     "output_type": "stream",
     "text": [
      "INFO:pypsa.io:Exported network network.nc has stores, carriers, loads, buses, generators, links\n"
     ]
    },
    {
     "name": "stdout",
     "output_type": "stream",
     "text": [
      "Run optimization\n"
     ]
    },
    {
     "name": "stderr",
     "output_type": "stream",
     "text": [
      "INFO:pypsa.io:Imported network network.nc has buses, carriers, generators, links, loads, stores\n",
      "INFO:linopy.model: Solve problem using Highs solver\n",
      "INFO:linopy.io:Writing objective.\n",
      "Writing constraints.: 100%|\u001b[38;2;128;191;255m██████████\u001b[0m| 17/17 [00:00<00:00, 31.38it/s]\n",
      "Writing continuous variables.: 100%|\u001b[38;2;128;191;255m██████████\u001b[0m| 9/9 [00:00<00:00, 98.74it/s]\n",
      "Writing integer variables.: 100%|\u001b[38;2;128;191;255m██████████\u001b[0m| 2/2 [00:00<00:00, 763.29it/s]\n",
      "INFO:linopy.io: Writing time: 0.68s\n",
      "INFO:linopy.solvers:Log file at /tmp/highs.log\n"
     ]
    },
    {
     "name": "stdout",
     "output_type": "stream",
     "text": [
      "Running HiGHS 1.7.2 (git hash: 184e327): Copyright (c) 2024 HiGHS under MIT licence terms\n"
     ]
    },
    {
     "name": "stderr",
     "output_type": "stream",
     "text": [
      "INFO:linopy.constants: Optimization successful: \n",
      "Status: ok\n",
      "Termination condition: optimal\n",
      "Solution: 46739 primals, 105141 duals\n",
      "Objective: 2.26e+09\n",
      "Solver model: available\n",
      "Solver message: optimal\n",
      "\n",
      "INFO:pypsa.optimization.optimize:The shadow-prices of the constraints Generator-ext-p-lower, Generator-ext-p-upper, Link-ext-p-lower, Link-ext-p-upper, Store-ext-e-lower, Store-ext-e-upper, Store-energy_balance were not assigned to the network.\n"
     ]
    },
    {
     "name": "stdout",
     "output_type": "stream",
     "text": [
      "Coefficient ranges:\n",
      "  Matrix [2e-06, 3e+02]\n",
      "  Cost   [6e+01, 2e+06]\n",
      "  Bound  [0e+00, 0e+00]\n",
      "  RHS    [2e+02, 2e+03]\n",
      "Presolving model\n",
      "47408 rows, 41576 cols, 124759 nonzeros  0s\n",
      "37157 rows, 31325 cols, 114994 nonzeros  0s\n",
      "37081 rows, 31249 cols, 115328 nonzeros  0s\n",
      "\n",
      "Solving MIP model with:\n",
      "   37081 rows\n",
      "   31249 cols (0 binary, 5 integer, 0 implied int., 31244 continuous)\n",
      "   115328 nonzeros\n",
      "\n",
      "        Nodes      |    B&B Tree     |            Objective Bounds              |  Dynamic Constraints |       Work      \n",
      "     Proc. InQueue |  Leaves   Expl. | BestBound       BestSol              Gap |   Cuts   InLp Confl. | LpIters     Time\n",
      "\n",
      "         0       0         0   0.00%   -inf            inf                  inf        0      0      0         0     0.2s\n",
      " S       0       0         0   0.00%   -inf            2317124324.535     Large        0      0      0         0    18.2s\n",
      " R       0       0         0   0.00%   2177557825.398  2265630302.25      3.89%        0      0      0     65256    19.2s\n",
      "         0       0         0   0.00%   2178854165.396  2265630302.25      3.83%      626      8      0     65649    24.7s\n",
      " L       0       0         0   0.00%   2179403592.654  2259761049.017     3.56%      640     17      0     65932    48.5s\n",
      "         1       0         0 100.00%   2259760089.133  2259761049.017     0.00%      640     15      0    101394    54.7s\n",
      "\n",
      "Solving report\n",
      "  Status            Optimal\n",
      "  Primal bound      2259761049.02\n",
      "  Dual bound        2259760089.13\n",
      "  Gap               4.2e-05% (tolerance: 0.01%)\n",
      "  Solution status   feasible\n",
      "                    2259761049.02 (objective)\n",
      "                    0 (bound viol.)\n",
      "                    0 (int. viol.)\n",
      "                    0 (row viol.)\n",
      "  Timing            54.71 (total)\n",
      "                    0.22 (presolve)\n",
      "                    0.00 (postsolve)\n",
      "  Nodes             1\n",
      "  LP iterations     101394 (total)\n",
      "                    5577 (strong br.)\n",
      "                    679 (separation)\n",
      "                    25641 (heuristics)\n",
      "Writing the solution to /tmp/linopy-solve-u8jt2olu.sol\n"
     ]
    },
    {
     "name": "stderr",
     "output_type": "stream",
     "text": [
      "INFO:pypsa.io:Exported network network.nc has stores, carriers, loads, buses, generators, links\n",
      "INFO:pypsa.io:Imported network network.nc has buses, carriers, generators, links, loads, stores\n",
      "/home/viktor/code/pypsa-vgr/generator/library/output_files.py:289: FutureWarning:\n",
      "\n",
      "A value is trying to be set on a copy of a DataFrame or Series through chained assignment using an inplace method.\n",
      "The behavior will change in pandas 3.0. This inplace method will never work because the intermediate object on which we are setting values always behaves as a copy.\n",
      "\n",
      "For example, when doing 'df[col].method(value, inplace=True)', try using 'df.method({col: value}, inplace=True)' or df[col] = df[col].method(value) instead, to perform the operation inplace on the original object.\n",
      "\n",
      "\n",
      "\n"
     ]
    },
    {
     "name": "stdout",
     "output_type": "stream",
     "text": [
      "60 out of 120: ('14:1488', 2030, 1, 2.5, True, True, 1800)\n",
      "Create and store parameters\n",
      "Check weather files\n",
      "Check renewables data\n",
      "Create and store demand\n",
      "Create and store network\n",
      "Using config:\n",
      "\th2:True\n",
      "\toffwind:True\n",
      "\tbiogas:0\n"
     ]
    },
    {
     "name": "stderr",
     "output_type": "stream",
     "text": [
      "INFO:pypsa.io:Exported network network.nc has stores, carriers, loads, buses, generators, links\n"
     ]
    },
    {
     "name": "stdout",
     "output_type": "stream",
     "text": [
      "Run optimization\n"
     ]
    },
    {
     "name": "stderr",
     "output_type": "stream",
     "text": [
      "INFO:pypsa.io:Imported network network.nc has buses, carriers, generators, links, loads, stores\n",
      "INFO:linopy.model: Solve problem using Highs solver\n",
      "INFO:linopy.io:Writing objective.\n",
      "Writing constraints.: 100%|\u001b[38;2;128;191;255m██████████\u001b[0m| 17/17 [00:00<00:00, 33.65it/s]\n",
      "Writing continuous variables.: 100%|\u001b[38;2;128;191;255m██████████\u001b[0m| 9/9 [00:00<00:00, 107.70it/s]\n",
      "Writing integer variables.: 100%|\u001b[38;2;128;191;255m██████████\u001b[0m| 2/2 [00:00<00:00, 814.35it/s]\n",
      "INFO:linopy.io: Writing time: 0.63s\n",
      "INFO:linopy.solvers:Log file at /tmp/highs.log\n"
     ]
    },
    {
     "name": "stdout",
     "output_type": "stream",
     "text": [
      "Running HiGHS 1.7.2 (git hash: 184e327): Copyright (c) 2024 HiGHS under MIT licence terms\n",
      "Coefficient ranges:\n",
      "  Matrix [2e-06, 3e+02]\n",
      "  Cost   [6e+01, 2e+06]\n",
      "  Bound  [0e+00, 0e+00]\n",
      "  RHS    [2e+02, 7e+02]\n"
     ]
    },
    {
     "name": "stderr",
     "output_type": "stream",
     "text": [
      "INFO:linopy.constants: Optimization successful: \n",
      "Status: ok\n",
      "Termination condition: optimal\n",
      "Solution: 40897 primals, 90538 duals\n",
      "Objective: 5.09e+09\n",
      "Solver model: available\n",
      "Solver message: optimal\n",
      "\n",
      "INFO:pypsa.optimization.optimize:The shadow-prices of the constraints Generator-ext-p-lower, Generator-ext-p-upper, Link-ext-p-lower, Link-ext-p-upper, Store-ext-e-lower, Store-ext-e-upper, Store-energy_balance were not assigned to the network.\n"
     ]
    },
    {
     "name": "stdout",
     "output_type": "stream",
     "text": [
      "Presolving model\n",
      "44488 rows, 35736 cols, 115999 nonzeros  0s\n",
      "37074 rows, 28322 cols, 109584 nonzeros  0s\n",
      "37074 rows, 28322 cols, 109584 nonzeros  0s\n",
      "\n",
      "Solving MIP model with:\n",
      "   37074 rows\n",
      "   28322 cols (0 binary, 5 integer, 0 implied int., 28317 continuous)\n",
      "   109584 nonzeros\n",
      "\n",
      "        Nodes      |    B&B Tree     |            Objective Bounds              |  Dynamic Constraints |       Work      \n",
      "     Proc. InQueue |  Leaves   Expl. | BestBound       BestSol              Gap |   Cuts   InLp Confl. | LpIters     Time\n",
      "\n",
      "         0       0         0   0.00%   -inf            inf                  inf        0      0      0         0     0.2s\n",
      " S       0       0         0   0.00%   -inf            5093452211.12      Large        0      0      0         0     7.0s\n",
      " R       0       0         0   0.00%   5092524958.231  5092554818.55      0.00%        0      0      0     37409     7.2s\n",
      "\n",
      "Solving report\n",
      "  Status            Optimal\n",
      "  Primal bound      5092554818.55\n",
      "  Dual bound        5092524958.23\n",
      "  Gap               0.000586% (tolerance: 0.01%)\n",
      "  Solution status   feasible\n",
      "                    5092554818.55 (objective)\n",
      "                    0 (bound viol.)\n",
      "                    0 (int. viol.)\n",
      "                    0 (row viol.)\n",
      "  Timing            7.35 (total)\n",
      "                    0.20 (presolve)\n",
      "                    0.00 (postsolve)\n",
      "  Nodes             1\n",
      "  LP iterations     37409 (total)\n",
      "                    0 (strong br.)\n",
      "                    0 (separation)\n",
      "                    0 (heuristics)\n",
      "Writing the solution to /tmp/linopy-solve-b1hglxfm.sol\n"
     ]
    },
    {
     "name": "stderr",
     "output_type": "stream",
     "text": [
      "INFO:pypsa.io:Exported network network.nc has stores, carriers, loads, buses, generators, links\n",
      "INFO:pypsa.io:Imported network network.nc has buses, carriers, generators, links, loads, stores\n",
      "/home/viktor/code/pypsa-vgr/generator/library/output_files.py:289: FutureWarning:\n",
      "\n",
      "A value is trying to be set on a copy of a DataFrame or Series through chained assignment using an inplace method.\n",
      "The behavior will change in pandas 3.0. This inplace method will never work because the intermediate object on which we are setting values always behaves as a copy.\n",
      "\n",
      "For example, when doing 'df[col].method(value, inplace=True)', try using 'df.method({col: value}, inplace=True)' or df[col] = df[col].method(value) instead, to perform the operation inplace on the original object.\n",
      "\n",
      "\n",
      "\n"
     ]
    },
    {
     "name": "stdout",
     "output_type": "stream",
     "text": [
      "61 out of 120: ('14:1488', 2030, 1, 3.75, True, True, 0)\n",
      "Create and store parameters\n",
      "Check weather files\n",
      "Check renewables data\n",
      "Create and store demand\n",
      "Create and store network\n",
      "Using config:\n",
      "\th2:True\n",
      "\toffwind:True\n",
      "\tbiogas:300\n"
     ]
    },
    {
     "name": "stderr",
     "output_type": "stream",
     "text": [
      "INFO:pypsa.io:Exported network network.nc has stores, carriers, loads, buses, generators, links\n"
     ]
    },
    {
     "name": "stdout",
     "output_type": "stream",
     "text": [
      "Run optimization\n"
     ]
    },
    {
     "name": "stderr",
     "output_type": "stream",
     "text": [
      "INFO:pypsa.io:Imported network network.nc has buses, carriers, generators, links, loads, stores\n",
      "INFO:linopy.model: Solve problem using Highs solver\n",
      "INFO:linopy.io:Writing objective.\n",
      "Writing constraints.: 100%|\u001b[38;2;128;191;255m██████████\u001b[0m| 17/17 [00:00<00:00, 28.81it/s]\n",
      "Writing continuous variables.: 100%|\u001b[38;2;128;191;255m██████████\u001b[0m| 9/9 [00:00<00:00, 77.26it/s]\n",
      "Writing integer variables.: 100%|\u001b[38;2;128;191;255m██████████\u001b[0m| 2/2 [00:00<00:00, 700.92it/s]\n",
      "INFO:linopy.io: Writing time: 0.75s\n",
      "INFO:linopy.solvers:Log file at /tmp/highs.log\n"
     ]
    },
    {
     "name": "stdout",
     "output_type": "stream",
     "text": [
      "Running HiGHS 1.7.2 (git hash: 184e327): Copyright (c) 2024 HiGHS under MIT licence terms\n",
      "Coefficient ranges:\n",
      "  Matrix [2e-06, 3e+02]\n",
      "  Cost   [6e+01, 2e+06]\n",
      "  Bound  [0e+00, 0e+00]\n",
      "  RHS    [2e+02, 7e+02]\n",
      "Presolving model\n",
      "47408 rows, 41576 cols, 124759 nonzeros  0s\n",
      "37157 rows, 31325 cols, 114994 nonzeros  0s\n",
      "37081 rows, 31249 cols, 115328 nonzeros  0s\n",
      "\n",
      "Solving MIP model with:\n",
      "   37081 rows\n",
      "   31249 cols (0 binary, 5 integer, 0 implied int., 31244 continuous)\n",
      "   115328 nonzeros\n",
      "\n",
      "        Nodes      |    B&B Tree     |            Objective Bounds              |  Dynamic Constraints |       Work      \n",
      "     Proc. InQueue |  Leaves   Expl. | BestBound       BestSol              Gap |   Cuts   InLp Confl. | LpIters     Time\n",
      "\n",
      "         0       0         0   0.00%   -inf            inf                  inf        0      0      0         0     0.3s\n",
      " S       0       0         0   0.00%   -inf            3993681406.97      Large        0      0      0         0    14.4s\n",
      " R       0       0         0   0.00%   3992066813.122  3992081562.426     0.00%        0      0      0     49865    14.6s\n",
      "\n",
      "Solving report\n",
      "  Status            Optimal\n",
      "  Primal bound      3992081562.43\n",
      "  Dual bound        3992066813.12\n",
      "  Gap               0.000369% (tolerance: 0.01%)\n",
      "  Solution status   feasible\n",
      "                    3992081562.43 (objective)\n",
      "                    0 (bound viol.)\n",
      "                    0 (int. viol.)\n",
      "                    0 (row viol.)\n",
      "  Timing            14.61 (total)\n",
      "                    0.24 (presolve)\n",
      "                    0.00 (postsolve)\n",
      "  Nodes             1\n",
      "  LP iterations     49865 (total)\n",
      "                    0 (strong br.)\n",
      "                    0 (separation)\n",
      "                    0 (heuristics)\n"
     ]
    },
    {
     "name": "stderr",
     "output_type": "stream",
     "text": [
      "INFO:linopy.constants: Optimization successful: \n",
      "Status: ok\n",
      "Termination condition: optimal\n",
      "Solution: 46739 primals, 105141 duals\n",
      "Objective: 3.99e+09\n",
      "Solver model: available\n",
      "Solver message: optimal\n",
      "\n",
      "INFO:pypsa.optimization.optimize:The shadow-prices of the constraints Generator-ext-p-lower, Generator-ext-p-upper, Link-ext-p-lower, Link-ext-p-upper, Store-ext-e-lower, Store-ext-e-upper, Store-energy_balance were not assigned to the network.\n"
     ]
    },
    {
     "name": "stdout",
     "output_type": "stream",
     "text": [
      "Writing the solution to /tmp/linopy-solve-6165hucv.sol\n"
     ]
    },
    {
     "name": "stderr",
     "output_type": "stream",
     "text": [
      "INFO:pypsa.io:Exported network network.nc has stores, carriers, loads, buses, generators, links\n",
      "INFO:pypsa.io:Imported network network.nc has buses, carriers, generators, links, loads, stores\n",
      "/home/viktor/code/pypsa-vgr/generator/library/output_files.py:289: FutureWarning:\n",
      "\n",
      "A value is trying to be set on a copy of a DataFrame or Series through chained assignment using an inplace method.\n",
      "The behavior will change in pandas 3.0. This inplace method will never work because the intermediate object on which we are setting values always behaves as a copy.\n",
      "\n",
      "For example, when doing 'df[col].method(value, inplace=True)', try using 'df.method({col: value}, inplace=True)' or df[col] = df[col].method(value) instead, to perform the operation inplace on the original object.\n",
      "\n",
      "\n",
      "\n"
     ]
    },
    {
     "name": "stdout",
     "output_type": "stream",
     "text": [
      "62 out of 120: ('14:1488', 2030, 1, 3.75, True, True, 300)\n",
      "Create and store parameters\n",
      "Check weather files\n",
      "Check renewables data\n",
      "Create and store demand\n",
      "Create and store network\n",
      "Using config:\n",
      "\th2:True\n",
      "\toffwind:True\n",
      "\tbiogas:600\n"
     ]
    },
    {
     "name": "stderr",
     "output_type": "stream",
     "text": [
      "INFO:pypsa.io:Exported network network.nc has stores, carriers, loads, buses, generators, links\n"
     ]
    },
    {
     "name": "stdout",
     "output_type": "stream",
     "text": [
      "Run optimization\n"
     ]
    },
    {
     "name": "stderr",
     "output_type": "stream",
     "text": [
      "INFO:pypsa.io:Imported network network.nc has buses, carriers, generators, links, loads, stores\n",
      "INFO:linopy.model: Solve problem using Highs solver\n",
      "INFO:linopy.io:Writing objective.\n",
      "Writing constraints.: 100%|\u001b[38;2;128;191;255m██████████\u001b[0m| 17/17 [00:00<00:00, 29.77it/s]\n",
      "Writing continuous variables.: 100%|\u001b[38;2;128;191;255m██████████\u001b[0m| 9/9 [00:00<00:00, 91.32it/s]\n",
      "Writing integer variables.: 100%|\u001b[38;2;128;191;255m██████████\u001b[0m| 2/2 [00:00<00:00, 648.17it/s]\n",
      "INFO:linopy.io: Writing time: 0.71s\n",
      "INFO:linopy.solvers:Log file at /tmp/highs.log\n"
     ]
    },
    {
     "name": "stdout",
     "output_type": "stream",
     "text": [
      "Running HiGHS 1.7.2 (git hash: 184e327): Copyright (c) 2024 HiGHS under MIT licence terms\n",
      "Coefficient ranges:\n",
      "  Matrix [2e-06, 3e+02]\n",
      "  Cost   [6e+01, 2e+06]\n",
      "  Bound  [0e+00, 0e+00]\n",
      "  RHS    [2e+02, 7e+02]\n",
      "Presolving model\n",
      "47408 rows, 41576 cols, 124759 nonzeros  0s\n",
      "37157 rows, 31325 cols, 114994 nonzeros  0s\n",
      "37081 rows, 31249 cols, 115328 nonzeros  0s\n",
      "\n",
      "Solving MIP model with:\n",
      "   37081 rows\n",
      "   31249 cols (0 binary, 5 integer, 0 implied int., 31244 continuous)\n",
      "   115328 nonzeros\n",
      "\n",
      "        Nodes      |    B&B Tree     |            Objective Bounds              |  Dynamic Constraints |       Work      \n",
      "     Proc. InQueue |  Leaves   Expl. | BestBound       BestSol              Gap |   Cuts   InLp Confl. | LpIters     Time\n",
      "\n",
      "         0       0         0   0.00%   -inf            inf                  inf        0      0      0         0     0.2s\n",
      " S       0       0         0   0.00%   -inf            3327968588.779     Large        0      0      0         0    19.8s\n",
      " R       0       0         0   0.00%   3324403144.53   3324573119.626     0.01%        0      0      0     65283    20.0s\n",
      "\n",
      "Solving report\n",
      "  Status            Optimal\n",
      "  Primal bound      3324573119.63\n",
      "  Dual bound        3324403144.53"
     ]
    },
    {
     "name": "stderr",
     "output_type": "stream",
     "text": [
      "INFO:linopy.constants: Optimization successful: \n",
      "Status: ok\n",
      "Termination condition: optimal\n",
      "Solution: 46739 primals, 105141 duals\n",
      "Objective: 3.32e+09\n",
      "Solver model: available\n",
      "Solver message: optimal\n",
      "\n",
      "INFO:pypsa.optimization.optimize:The shadow-prices of the constraints Generator-ext-p-lower, Generator-ext-p-upper, Link-ext-p-lower, Link-ext-p-upper, Store-ext-e-lower, Store-ext-e-upper, Store-energy_balance were not assigned to the network.\n"
     ]
    },
    {
     "name": "stdout",
     "output_type": "stream",
     "text": [
      "\n",
      "  Gap               0.00511% (tolerance: 0.01%)\n",
      "  Solution status   feasible\n",
      "                    3324573119.63 (objective)\n",
      "                    0 (bound viol.)\n",
      "                    3.98831240597e-16 (int. viol.)\n",
      "                    0 (row viol.)\n",
      "  Timing            20.02 (total)\n",
      "                    0.21 (presolve)\n",
      "                    0.00 (postsolve)\n",
      "  Nodes             1\n",
      "  LP iterations     65283 (total)\n",
      "                    0 (strong br.)\n",
      "                    0 (separation)\n",
      "                    0 (heuristics)\n",
      "Writing the solution to /tmp/linopy-solve-uce75vvx.sol\n"
     ]
    },
    {
     "name": "stderr",
     "output_type": "stream",
     "text": [
      "INFO:pypsa.io:Exported network network.nc has stores, carriers, loads, buses, generators, links\n",
      "INFO:pypsa.io:Imported network network.nc has buses, carriers, generators, links, loads, stores\n",
      "/home/viktor/code/pypsa-vgr/generator/library/output_files.py:289: FutureWarning:\n",
      "\n",
      "A value is trying to be set on a copy of a DataFrame or Series through chained assignment using an inplace method.\n",
      "The behavior will change in pandas 3.0. This inplace method will never work because the intermediate object on which we are setting values always behaves as a copy.\n",
      "\n",
      "For example, when doing 'df[col].method(value, inplace=True)', try using 'df.method({col: value}, inplace=True)' or df[col] = df[col].method(value) instead, to perform the operation inplace on the original object.\n",
      "\n",
      "\n",
      "\n"
     ]
    },
    {
     "name": "stdout",
     "output_type": "stream",
     "text": [
      "63 out of 120: ('14:1488', 2030, 1, 3.75, True, True, 600)\n",
      "Create and store parameters\n",
      "Check weather files\n",
      "Check renewables data\n",
      "Create and store demand\n",
      "Create and store network\n",
      "Using config:\n",
      "\th2:True\n",
      "\toffwind:True\n",
      "\tbiogas:1200\n"
     ]
    },
    {
     "name": "stderr",
     "output_type": "stream",
     "text": [
      "INFO:pypsa.io:Exported network network.nc has stores, carriers, loads, buses, generators, links\n"
     ]
    },
    {
     "name": "stdout",
     "output_type": "stream",
     "text": [
      "Run optimization\n"
     ]
    },
    {
     "name": "stderr",
     "output_type": "stream",
     "text": [
      "INFO:pypsa.io:Imported network network.nc has buses, carriers, generators, links, loads, stores\n",
      "INFO:linopy.model: Solve problem using Highs solver\n",
      "INFO:linopy.io:Writing objective.\n",
      "Writing constraints.: 100%|\u001b[38;2;128;191;255m██████████\u001b[0m| 17/17 [00:00<00:00, 30.46it/s]\n",
      "Writing continuous variables.: 100%|\u001b[38;2;128;191;255m██████████\u001b[0m| 9/9 [00:00<00:00, 85.01it/s]\n",
      "Writing integer variables.: 100%|\u001b[38;2;128;191;255m██████████\u001b[0m| 2/2 [00:00<00:00, 699.63it/s]\n",
      "INFO:linopy.io: Writing time: 0.71s\n",
      "INFO:linopy.solvers:Log file at /tmp/highs.log\n"
     ]
    },
    {
     "name": "stdout",
     "output_type": "stream",
     "text": [
      "Running HiGHS 1.7.2 (git hash: 184e327): Copyright (c) 2024 HiGHS under MIT licence terms\n",
      "Coefficient ranges:\n",
      "  Matrix [2e-06, 3e+02]\n",
      "  Cost   [6e+01, 2e+06]\n",
      "  Bound  [0e+00, 0e+00]\n",
      "  RHS    [2e+02, 1e+03]\n"
     ]
    },
    {
     "name": "stderr",
     "output_type": "stream",
     "text": [
      "INFO:linopy.constants: Optimization successful: \n",
      "Status: ok\n",
      "Termination condition: optimal\n",
      "Solution: 46739 primals, 105141 duals\n",
      "Objective: 3.32e+09\n",
      "Solver model: available\n",
      "Solver message: optimal\n",
      "\n"
     ]
    },
    {
     "name": "stdout",
     "output_type": "stream",
     "text": [
      "Presolving model\n",
      "47408 rows, 41576 cols, 124759 nonzeros  0s\n",
      "37157 rows, 31325 cols, 114994 nonzeros  0s\n",
      "37081 rows, 31249 cols, 115328 nonzeros  0s\n",
      "\n",
      "Solving MIP model with:\n",
      "   37081 rows\n",
      "   31249 cols (0 binary, 5 integer, 0 implied int., 31244 continuous)\n",
      "   115328 nonzeros\n",
      "\n",
      "        Nodes      |    B&B Tree     |            Objective Bounds              |  Dynamic Constraints |       Work      \n",
      "     Proc. InQueue |  Leaves   Expl. | BestBound       BestSol              Gap |   Cuts   InLp Confl. | LpIters     Time\n",
      "\n",
      "         0       0         0   0.00%   -inf            inf                  inf        0      0      0         0     0.3s\n",
      " S       0       0         0   0.00%   -inf            3470991625.616     Large        0      0      0         0    19.5s\n",
      " R       0       0         0   0.00%   3266336738.096  3397809673.409     3.87%        0      0      0     67417    20.5s\n",
      "         0       0         0   0.00%   3267398982.705  3397809673.409     3.84%      593      9      0     67645    26.3s\n",
      " L       0       0         0   0.00%   3267826327.694  3324411091.86      1.70%      601     21      0     67917    52.2s\n",
      "\n",
      "Solving report\n",
      "  Status            Optimal\n",
      "  Primal bound      3324411091.86\n",
      "  Dual bound        3324403144.53\n",
      "  Gap               0.000239% (tolerance: 0.01%)\n",
      "  Solution status   feasible\n",
      "                    3324411091.86 (objective)\n",
      "                    0 (bound viol.)\n",
      "                    0 (int. viol.)\n",
      "                    0 (row viol.)\n",
      "  Timing            55.89 (total)\n",
      "                    0.24 (presolve)\n",
      "                    0.00 (postsolve)\n",
      "  Nodes             1\n",
      "  LP iterations     95293 (total)\n",
      "                    2227 (strong br.)\n",
      "                    501 (separation)\n",
      "                    21842 (heuristics)\n",
      "Writing the solution to /tmp/linopy-solve-g7kqv52m.sol\n"
     ]
    },
    {
     "name": "stderr",
     "output_type": "stream",
     "text": [
      "INFO:pypsa.optimization.optimize:The shadow-prices of the constraints Generator-ext-p-lower, Generator-ext-p-upper, Link-ext-p-lower, Link-ext-p-upper, Store-ext-e-lower, Store-ext-e-upper, Store-energy_balance were not assigned to the network.\n",
      "INFO:pypsa.io:Exported network network.nc has stores, carriers, loads, buses, generators, links\n",
      "INFO:pypsa.io:Imported network network.nc has buses, carriers, generators, links, loads, stores\n",
      "/home/viktor/code/pypsa-vgr/generator/library/output_files.py:289: FutureWarning:\n",
      "\n",
      "A value is trying to be set on a copy of a DataFrame or Series through chained assignment using an inplace method.\n",
      "The behavior will change in pandas 3.0. This inplace method will never work because the intermediate object on which we are setting values always behaves as a copy.\n",
      "\n",
      "For example, when doing 'df[col].method(value, inplace=True)', try using 'df.method({col: value}, inplace=True)' or df[col] = df[col].method(value) instead, to perform the operation inplace on the original object.\n",
      "\n",
      "\n",
      "\n"
     ]
    },
    {
     "name": "stdout",
     "output_type": "stream",
     "text": [
      "64 out of 120: ('14:1488', 2030, 1, 3.75, True, True, 1200)\n",
      "Create and store parameters\n",
      "Check weather files\n",
      "Check renewables data\n",
      "Create and store demand\n",
      "Create and store network\n",
      "Using config:\n",
      "\th2:True\n",
      "\toffwind:True\n",
      "\tbiogas:1800\n"
     ]
    },
    {
     "name": "stderr",
     "output_type": "stream",
     "text": [
      "INFO:pypsa.io:Exported network network.nc has stores, carriers, loads, buses, generators, links\n"
     ]
    },
    {
     "name": "stdout",
     "output_type": "stream",
     "text": [
      "Run optimization\n"
     ]
    },
    {
     "name": "stderr",
     "output_type": "stream",
     "text": [
      "INFO:pypsa.io:Imported network network.nc has buses, carriers, generators, links, loads, stores\n",
      "INFO:linopy.model: Solve problem using Highs solver\n",
      "INFO:linopy.io:Writing objective.\n",
      "Writing constraints.: 100%|\u001b[38;2;128;191;255m██████████\u001b[0m| 17/17 [00:00<00:00, 25.16it/s]\n",
      "Writing continuous variables.: 100%|\u001b[38;2;128;191;255m██████████\u001b[0m| 9/9 [00:00<00:00, 86.52it/s]\n",
      "Writing integer variables.: 100%|\u001b[38;2;128;191;255m██████████\u001b[0m| 2/2 [00:00<00:00, 660.10it/s]\n",
      "INFO:linopy.io: Writing time: 0.84s\n",
      "INFO:linopy.solvers:Log file at /tmp/highs.log\n"
     ]
    },
    {
     "name": "stdout",
     "output_type": "stream",
     "text": [
      "Running HiGHS 1.7.2 (git hash: 184e327): Copyright (c) 2024 HiGHS under MIT licence terms\n"
     ]
    },
    {
     "name": "stderr",
     "output_type": "stream",
     "text": [
      "INFO:linopy.constants: Optimization successful: \n",
      "Status: ok\n",
      "Termination condition: optimal\n",
      "Solution: 46739 primals, 105141 duals\n",
      "Objective: 3.32e+09\n",
      "Solver model: available\n",
      "Solver message: optimal\n",
      "\n"
     ]
    },
    {
     "name": "stdout",
     "output_type": "stream",
     "text": [
      "Coefficient ranges:\n",
      "  Matrix [2e-06, 3e+02]\n",
      "  Cost   [6e+01, 2e+06]\n",
      "  Bound  [0e+00, 0e+00]\n",
      "  RHS    [2e+02, 2e+03]\n",
      "Presolving model\n",
      "47408 rows, 41576 cols, 124759 nonzeros  0s\n",
      "37157 rows, 31325 cols, 114994 nonzeros  0s\n",
      "37081 rows, 31249 cols, 115328 nonzeros  0s\n",
      "\n",
      "Solving MIP model with:\n",
      "   37081 rows\n",
      "   31249 cols (0 binary, 5 integer, 0 implied int., 31244 continuous)\n",
      "   115328 nonzeros\n",
      "\n",
      "        Nodes      |    B&B Tree     |            Objective Bounds              |  Dynamic Constraints |       Work      \n",
      "     Proc. InQueue |  Leaves   Expl. | BestBound       BestSol              Gap |   Cuts   InLp Confl. | LpIters     Time\n",
      "\n",
      "         0       0         0   0.00%   -inf            inf                  inf        0      0      0         0     0.3s\n",
      " S       0       0         0   0.00%   -inf            3470991625.616     Large        0      0      0         0    18.0s\n",
      " R       0       0         0   0.00%   3266336738.096  3397809673.409     3.87%        0      0      0     67417    19.0s\n",
      "         0       0         0   0.00%   3267398982.705  3397809673.409     3.84%      593      9      0     67645    24.2s\n",
      " L       0       0         0   0.00%   3267826327.694  3324411091.86      1.70%      601     21      0     67917    48.5s\n",
      "\n",
      "Solving report\n",
      "  Status            Optimal\n",
      "  Primal bound      3324411091.86\n",
      "  Dual bound        3324403144.53\n",
      "  Gap               0.000239% (tolerance: 0.01%)\n",
      "  Solution status   feasible\n",
      "                    3324411091.86 (objective)\n",
      "                    0 (bound viol.)\n",
      "                    0 (int. viol.)\n",
      "                    0 (row viol.)\n",
      "  Timing            51.93 (total)\n",
      "                    0.23 (presolve)\n",
      "                    0.00 (postsolve)\n",
      "  Nodes             1\n",
      "  LP iterations     95293 (total)\n",
      "                    2227 (strong br.)\n",
      "                    501 (separation)\n",
      "                    21842 (heuristics)\n",
      "Writing the solution to /tmp/linopy-solve-hds39a_e.sol\n"
     ]
    },
    {
     "name": "stderr",
     "output_type": "stream",
     "text": [
      "INFO:pypsa.optimization.optimize:The shadow-prices of the constraints Generator-ext-p-lower, Generator-ext-p-upper, Link-ext-p-lower, Link-ext-p-upper, Store-ext-e-lower, Store-ext-e-upper, Store-energy_balance were not assigned to the network.\n",
      "INFO:pypsa.io:Exported network network.nc has stores, carriers, loads, buses, generators, links\n",
      "INFO:pypsa.io:Imported network network.nc has buses, carriers, generators, links, loads, stores\n",
      "/home/viktor/code/pypsa-vgr/generator/library/output_files.py:289: FutureWarning:\n",
      "\n",
      "A value is trying to be set on a copy of a DataFrame or Series through chained assignment using an inplace method.\n",
      "The behavior will change in pandas 3.0. This inplace method will never work because the intermediate object on which we are setting values always behaves as a copy.\n",
      "\n",
      "For example, when doing 'df[col].method(value, inplace=True)', try using 'df.method({col: value}, inplace=True)' or df[col] = df[col].method(value) instead, to perform the operation inplace on the original object.\n",
      "\n",
      "\n",
      "\n"
     ]
    },
    {
     "name": "stdout",
     "output_type": "stream",
     "text": [
      "65 out of 120: ('14:1488', 2030, 1, 3.75, True, True, 1800)\n",
      "Create and store parameters\n",
      "Check weather files\n",
      "Check renewables data\n",
      "Create and store demand\n",
      "Create and store network\n",
      "Using config:\n",
      "\th2:True\n",
      "\toffwind:True\n",
      "\tbiogas:0\n"
     ]
    },
    {
     "name": "stderr",
     "output_type": "stream",
     "text": [
      "INFO:pypsa.io:Exported network network.nc has stores, carriers, loads, buses, generators, links\n"
     ]
    },
    {
     "name": "stdout",
     "output_type": "stream",
     "text": [
      "Run optimization\n"
     ]
    },
    {
     "name": "stderr",
     "output_type": "stream",
     "text": [
      "INFO:pypsa.io:Imported network network.nc has buses, carriers, generators, links, loads, stores\n",
      "INFO:linopy.model: Solve problem using Highs solver\n",
      "INFO:linopy.io:Writing objective.\n",
      "Writing constraints.: 100%|\u001b[38;2;128;191;255m██████████\u001b[0m| 17/17 [00:00<00:00, 37.07it/s]\n",
      "Writing continuous variables.: 100%|\u001b[38;2;128;191;255m██████████\u001b[0m| 9/9 [00:00<00:00, 109.95it/s]\n",
      "Writing integer variables.: 100%|\u001b[38;2;128;191;255m██████████\u001b[0m| 2/2 [00:00<00:00, 693.39it/s]\n",
      "INFO:linopy.io: Writing time: 0.57s\n",
      "INFO:linopy.solvers:Log file at /tmp/highs.log\n"
     ]
    },
    {
     "name": "stdout",
     "output_type": "stream",
     "text": [
      "Running HiGHS 1.7.2 (git hash: 184e327): Copyright (c) 2024 HiGHS under MIT licence terms\n",
      "Coefficient ranges:\n",
      "  Matrix [2e-06, 3e+02]\n",
      "  Cost   [6e+01, 2e+06]\n",
      "  Bound  [0e+00, 0e+00]\n",
      "  RHS    [3e+02, 9e+02]\n",
      "Presolving model\n",
      "44488 rows, 35736 cols, 115999 nonzeros  0s\n",
      "37074 rows, 28322 cols, 109584 nonzeros  0s\n",
      "37074 rows, 28322 cols, 109584 nonzeros  0s\n",
      "\n",
      "Solving MIP model with:\n",
      "   37074 rows\n",
      "   28322 cols (0 binary, 5 integer, 0 implied int., 28317 continuous)\n",
      "   109584 nonzeros\n",
      "\n",
      "        Nodes      |    B&B Tree     |            Objective Bounds              |  Dynamic Constraints |       Work      \n",
      "     Proc. InQueue |  Leaves   Expl. | BestBound       BestSol              Gap |   Cuts   InLp Confl. | LpIters     Time\n",
      "\n",
      "         0       0         0   0.00%   -inf            inf                  inf        0      0      0         0     0.3s\n",
      " S       0       0         0   0.00%   -inf            6792733434.249     Large        0      0      0         0     6.8s\n",
      " R       0       0         0   0.00%   6790033277.641  6790130838.133     0.00%        0      0      0     39436     7.0s\n",
      "\n",
      "Solving report\n",
      "  Status            Optimal\n",
      "  Primal bound      6790130838.13\n",
      "  Dual bound        6790033277.64"
     ]
    },
    {
     "name": "stderr",
     "output_type": "stream",
     "text": [
      "INFO:linopy.constants: Optimization successful: \n",
      "Status: ok\n",
      "Termination condition: optimal\n",
      "Solution: 40897 primals, 90538 duals\n",
      "Objective: 6.79e+09\n",
      "Solver model: available\n",
      "Solver message: optimal\n",
      "\n",
      "INFO:pypsa.optimization.optimize:The shadow-prices of the constraints Generator-ext-p-lower, Generator-ext-p-upper, Link-ext-p-lower, Link-ext-p-upper, Store-ext-e-lower, Store-ext-e-upper, Store-energy_balance were not assigned to the network.\n"
     ]
    },
    {
     "name": "stdout",
     "output_type": "stream",
     "text": [
      "\n",
      "  Gap               0.00144% (tolerance: 0.01%)\n",
      "  Solution status   feasible\n",
      "                    6790130838.13 (objective)\n",
      "                    0 (bound viol.)\n",
      "                    1.81060580959e-17 (int. viol.)\n",
      "                    0 (row viol.)\n",
      "  Timing            7.23 (total)\n",
      "                    0.29 (presolve)\n",
      "                    0.00 (postsolve)\n",
      "  Nodes             1\n",
      "  LP iterations     39436 (total)\n",
      "                    0 (strong br.)\n",
      "                    0 (separation)\n",
      "                    0 (heuristics)\n",
      "Writing the solution to /tmp/linopy-solve-ek_gay86.sol\n"
     ]
    },
    {
     "name": "stderr",
     "output_type": "stream",
     "text": [
      "INFO:pypsa.io:Exported network network.nc has stores, carriers, loads, buses, generators, links\n",
      "INFO:pypsa.io:Imported network network.nc has buses, carriers, generators, links, loads, stores\n",
      "/home/viktor/code/pypsa-vgr/generator/library/output_files.py:289: FutureWarning:\n",
      "\n",
      "A value is trying to be set on a copy of a DataFrame or Series through chained assignment using an inplace method.\n",
      "The behavior will change in pandas 3.0. This inplace method will never work because the intermediate object on which we are setting values always behaves as a copy.\n",
      "\n",
      "For example, when doing 'df[col].method(value, inplace=True)', try using 'df.method({col: value}, inplace=True)' or df[col] = df[col].method(value) instead, to perform the operation inplace on the original object.\n",
      "\n",
      "\n",
      "\n"
     ]
    },
    {
     "name": "stdout",
     "output_type": "stream",
     "text": [
      "66 out of 120: ('14:1488', 2030, 1, 5, True, True, 0)\n",
      "Create and store parameters\n",
      "Check weather files\n",
      "Check renewables data\n",
      "Create and store demand\n",
      "Create and store network\n",
      "Using config:\n",
      "\th2:True\n",
      "\toffwind:True\n",
      "\tbiogas:300\n"
     ]
    },
    {
     "name": "stderr",
     "output_type": "stream",
     "text": [
      "INFO:pypsa.io:Exported network network.nc has stores, carriers, loads, buses, generators, links\n"
     ]
    },
    {
     "name": "stdout",
     "output_type": "stream",
     "text": [
      "Run optimization\n"
     ]
    },
    {
     "name": "stderr",
     "output_type": "stream",
     "text": [
      "INFO:pypsa.io:Imported network network.nc has buses, carriers, generators, links, loads, stores\n",
      "INFO:linopy.model: Solve problem using Highs solver\n",
      "INFO:linopy.io:Writing objective.\n",
      "Writing constraints.: 100%|\u001b[38;2;128;191;255m██████████\u001b[0m| 17/17 [00:00<00:00, 34.27it/s]\n",
      "Writing continuous variables.: 100%|\u001b[38;2;128;191;255m██████████\u001b[0m| 9/9 [00:00<00:00, 101.86it/s]\n",
      "Writing integer variables.: 100%|\u001b[38;2;128;191;255m██████████\u001b[0m| 2/2 [00:00<00:00, 734.04it/s]\n",
      "INFO:linopy.io: Writing time: 0.64s\n",
      "INFO:linopy.solvers:Log file at /tmp/highs.log\n"
     ]
    },
    {
     "name": "stdout",
     "output_type": "stream",
     "text": [
      "Running HiGHS 1.7.2 (git hash: 184e327): Copyright (c) 2024 HiGHS under MIT licence terms\n",
      "Coefficient ranges:\n",
      "  Matrix [2e-06, 3e+02]\n",
      "  Cost   [6e+01, 2e+06]\n",
      "  Bound  [0e+00, 0e+00]\n",
      "  RHS    [3e+02, 9e+02]\n"
     ]
    },
    {
     "name": "stderr",
     "output_type": "stream",
     "text": [
      "INFO:linopy.constants: Optimization successful: \n",
      "Status: ok\n",
      "Termination condition: optimal\n",
      "Solution: 46739 primals, 105141 duals\n",
      "Objective: 5.65e+09\n",
      "Solver model: available\n",
      "Solver message: optimal\n",
      "\n",
      "INFO:pypsa.optimization.optimize:The shadow-prices of the constraints Generator-ext-p-lower, Generator-ext-p-upper, Link-ext-p-lower, Link-ext-p-upper, Store-ext-e-lower, Store-ext-e-upper, Store-energy_balance were not assigned to the network.\n"
     ]
    },
    {
     "name": "stdout",
     "output_type": "stream",
     "text": [
      "Presolving model\n",
      "47408 rows, 41576 cols, 124759 nonzeros  0s\n",
      "37157 rows, 31325 cols, 114994 nonzeros  0s\n",
      "37081 rows, 31249 cols, 115328 nonzeros  0s\n",
      "\n",
      "Solving MIP model with:\n",
      "   37081 rows\n",
      "   31249 cols (0 binary, 5 integer, 0 implied int., 31244 continuous)\n",
      "   115328 nonzeros\n",
      "\n",
      "        Nodes      |    B&B Tree     |            Objective Bounds              |  Dynamic Constraints |       Work      \n",
      "     Proc. InQueue |  Leaves   Expl. | BestBound       BestSol              Gap |   Cuts   InLp Confl. | LpIters     Time\n",
      "\n",
      "         0       0         0   0.00%   -inf            inf                  inf        0      0      0         0     0.2s\n",
      " S       0       0         0   0.00%   -inf            5648735097.323     Large        0      0      0         0    13.6s\n",
      " R       0       0         0   0.00%   5645550874.42   5645592567.488     0.00%        0      0      0     51585    13.7s\n",
      "\n",
      "Solving report\n",
      "  Status            Optimal\n",
      "  Primal bound      5645592567.49\n",
      "  Dual bound        5645550874.42\n",
      "  Gap               0.000739% (tolerance: 0.01%)\n",
      "  Solution status   feasible\n",
      "                    5645592567.49 (objective)\n",
      "                    0 (bound viol.)\n",
      "                    0 (int. viol.)\n",
      "                    0 (row viol.)\n",
      "  Timing            13.75 (total)\n",
      "                    0.22 (presolve)\n",
      "                    0.00 (postsolve)\n",
      "  Nodes             1\n",
      "  LP iterations     51585 (total)\n",
      "                    0 (strong br.)\n",
      "                    0 (separation)\n",
      "                    0 (heuristics)\n",
      "Writing the solution to /tmp/linopy-solve-aben0mqp.sol\n"
     ]
    },
    {
     "name": "stderr",
     "output_type": "stream",
     "text": [
      "INFO:pypsa.io:Exported network network.nc has stores, carriers, loads, buses, generators, links\n",
      "INFO:pypsa.io:Imported network network.nc has buses, carriers, generators, links, loads, stores\n",
      "/home/viktor/code/pypsa-vgr/generator/library/output_files.py:289: FutureWarning:\n",
      "\n",
      "A value is trying to be set on a copy of a DataFrame or Series through chained assignment using an inplace method.\n",
      "The behavior will change in pandas 3.0. This inplace method will never work because the intermediate object on which we are setting values always behaves as a copy.\n",
      "\n",
      "For example, when doing 'df[col].method(value, inplace=True)', try using 'df.method({col: value}, inplace=True)' or df[col] = df[col].method(value) instead, to perform the operation inplace on the original object.\n",
      "\n",
      "\n",
      "\n"
     ]
    },
    {
     "name": "stdout",
     "output_type": "stream",
     "text": [
      "67 out of 120: ('14:1488', 2030, 1, 5, True, True, 300)\n",
      "Create and store parameters\n",
      "Check weather files\n",
      "Check renewables data\n",
      "Create and store demand\n",
      "Create and store network\n",
      "Using config:\n",
      "\th2:True\n",
      "\toffwind:True\n",
      "\tbiogas:600\n"
     ]
    },
    {
     "name": "stderr",
     "output_type": "stream",
     "text": [
      "INFO:pypsa.io:Exported network network.nc has stores, carriers, loads, buses, generators, links\n"
     ]
    },
    {
     "name": "stdout",
     "output_type": "stream",
     "text": [
      "Run optimization\n"
     ]
    },
    {
     "name": "stderr",
     "output_type": "stream",
     "text": [
      "INFO:pypsa.io:Imported network network.nc has buses, carriers, generators, links, loads, stores\n",
      "INFO:linopy.model: Solve problem using Highs solver\n",
      "INFO:linopy.io:Writing objective.\n",
      "Writing constraints.: 100%|\u001b[38;2;128;191;255m██████████\u001b[0m| 17/17 [00:00<00:00, 36.70it/s]\n",
      "Writing continuous variables.: 100%|\u001b[38;2;128;191;255m██████████\u001b[0m| 9/9 [00:00<00:00, 106.65it/s]\n",
      "Writing integer variables.: 100%|\u001b[38;2;128;191;255m██████████\u001b[0m| 2/2 [00:00<00:00, 650.08it/s]\n",
      "INFO:linopy.io: Writing time: 0.59s\n",
      "INFO:linopy.solvers:Log file at /tmp/highs.log\n"
     ]
    },
    {
     "name": "stdout",
     "output_type": "stream",
     "text": [
      "Running HiGHS 1.7.2 (git hash: 184e327): Copyright (c) 2024 HiGHS under MIT licence terms\n"
     ]
    },
    {
     "name": "stderr",
     "output_type": "stream",
     "text": [
      "INFO:linopy.constants: Optimization successful: \n",
      "Status: ok\n",
      "Termination condition: optimal\n",
      "Solution: 46739 primals, 105141 duals\n",
      "Objective: 4.80e+09\n",
      "Solver model: available\n",
      "Solver message: optimal\n",
      "\n",
      "INFO:pypsa.optimization.optimize:The shadow-prices of the constraints Generator-ext-p-lower, Generator-ext-p-upper, Link-ext-p-lower, Link-ext-p-upper, Store-ext-e-lower, Store-ext-e-upper, Store-energy_balance were not assigned to the network.\n"
     ]
    },
    {
     "name": "stdout",
     "output_type": "stream",
     "text": [
      "Coefficient ranges:\n",
      "  Matrix [2e-06, 3e+02]\n",
      "  Cost   [6e+01, 2e+06]\n",
      "  Bound  [0e+00, 0e+00]\n",
      "  RHS    [3e+02, 9e+02]\n",
      "Presolving model\n",
      "47408 rows, 41576 cols, 124759 nonzeros  0s\n",
      "37157 rows, 31325 cols, 114994 nonzeros  0s\n",
      "37081 rows, 31249 cols, 115328 nonzeros  0s\n",
      "\n",
      "Solving MIP model with:\n",
      "   37081 rows\n",
      "   31249 cols (0 binary, 5 integer, 0 implied int., 31244 continuous)\n",
      "   115328 nonzeros\n",
      "\n",
      "        Nodes      |    B&B Tree     |            Objective Bounds              |  Dynamic Constraints |       Work      \n",
      "     Proc. InQueue |  Leaves   Expl. | BestBound       BestSol              Gap |   Cuts   InLp Confl. | LpIters     Time\n",
      "\n",
      "         0       0         0   0.00%   -inf            inf                  inf        0      0      0         0     0.2s\n",
      " S       0       0         0   0.00%   -inf            4803668156.799     Large        0      0      0         0    18.8s\n",
      " R       0       0         0   0.00%   4802056316.434  4802057720.123     0.00%        0      0      0     68449    18.9s\n",
      "\n",
      "Solving report\n",
      "  Status            Optimal\n",
      "  Primal bound      4802057720.12\n",
      "  Dual bound        4802056316.43\n",
      "  Gap               2.9e-05% (tolerance: 0.01%)\n",
      "  Solution status   feasible\n",
      "                    4802057720.12 (objective)\n",
      "                    0 (bound viol.)\n",
      "                    0 (int. viol.)\n",
      "                    0 (row viol.)\n",
      "  Timing            18.92 (total)\n",
      "                    0.21 (presolve)\n",
      "                    0.00 (postsolve)\n",
      "  Nodes             1\n",
      "  LP iterations     68449 (total)\n",
      "                    0 (strong br.)\n",
      "                    0 (separation)\n",
      "                    0 (heuristics)\n",
      "Writing the solution to /tmp/linopy-solve-rvulxwaf.sol\n"
     ]
    },
    {
     "name": "stderr",
     "output_type": "stream",
     "text": [
      "INFO:pypsa.io:Exported network network.nc has stores, carriers, loads, buses, generators, links\n",
      "INFO:pypsa.io:Imported network network.nc has buses, carriers, generators, links, loads, stores\n",
      "/home/viktor/code/pypsa-vgr/generator/library/output_files.py:289: FutureWarning:\n",
      "\n",
      "A value is trying to be set on a copy of a DataFrame or Series through chained assignment using an inplace method.\n",
      "The behavior will change in pandas 3.0. This inplace method will never work because the intermediate object on which we are setting values always behaves as a copy.\n",
      "\n",
      "For example, when doing 'df[col].method(value, inplace=True)', try using 'df.method({col: value}, inplace=True)' or df[col] = df[col].method(value) instead, to perform the operation inplace on the original object.\n",
      "\n",
      "\n",
      "\n"
     ]
    },
    {
     "name": "stdout",
     "output_type": "stream",
     "text": [
      "68 out of 120: ('14:1488', 2030, 1, 5, True, True, 600)\n",
      "Create and store parameters\n",
      "Check weather files\n",
      "Check renewables data\n",
      "Create and store demand\n",
      "Create and store network\n",
      "Using config:\n",
      "\th2:True\n",
      "\toffwind:True\n",
      "\tbiogas:1200\n"
     ]
    },
    {
     "name": "stderr",
     "output_type": "stream",
     "text": [
      "INFO:pypsa.io:Exported network network.nc has stores, carriers, loads, buses, generators, links\n"
     ]
    },
    {
     "name": "stdout",
     "output_type": "stream",
     "text": [
      "Run optimization\n"
     ]
    },
    {
     "name": "stderr",
     "output_type": "stream",
     "text": [
      "INFO:pypsa.io:Imported network network.nc has buses, carriers, generators, links, loads, stores\n",
      "INFO:linopy.model: Solve problem using Highs solver\n",
      "INFO:linopy.io:Writing objective.\n",
      "Writing constraints.: 100%|\u001b[38;2;128;191;255m██████████\u001b[0m| 17/17 [00:00<00:00, 35.00it/s]\n",
      "Writing continuous variables.: 100%|\u001b[38;2;128;191;255m██████████\u001b[0m| 9/9 [00:00<00:00, 106.76it/s]\n",
      "Writing integer variables.: 100%|\u001b[38;2;128;191;255m██████████\u001b[0m| 2/2 [00:00<00:00, 676.17it/s]\n",
      "INFO:linopy.io: Writing time: 0.61s\n",
      "INFO:linopy.solvers:Log file at /tmp/highs.log\n"
     ]
    },
    {
     "name": "stdout",
     "output_type": "stream",
     "text": [
      "Running HiGHS 1.7.2 (git hash: 184e327): Copyright (c) 2024 HiGHS under MIT licence terms\n"
     ]
    },
    {
     "name": "stderr",
     "output_type": "stream",
     "text": [
      "INFO:linopy.constants: Optimization successful: \n",
      "Status: ok\n",
      "Termination condition: optimal\n",
      "Solution: 46739 primals, 105141 duals\n",
      "Objective: 4.36e+09\n",
      "Solver model: available\n",
      "Solver message: optimal\n",
      "\n"
     ]
    },
    {
     "name": "stdout",
     "output_type": "stream",
     "text": [
      "Coefficient ranges:\n",
      "  Matrix [2e-06, 3e+02]\n",
      "  Cost   [6e+01, 2e+06]\n",
      "  Bound  [0e+00, 0e+00]\n",
      "  RHS    [3e+02, 1e+03]\n",
      "Presolving model\n",
      "47408 rows, 41576 cols, 124759 nonzeros  0s\n",
      "37157 rows, 31325 cols, 114994 nonzeros  0s\n",
      "37081 rows, 31249 cols, 115328 nonzeros  0s\n",
      "\n",
      "Solving MIP model with:\n",
      "   37081 rows\n",
      "   31249 cols (0 binary, 5 integer, 0 implied int., 31244 continuous)\n",
      "   115328 nonzeros\n",
      "\n",
      "        Nodes      |    B&B Tree     |            Objective Bounds              |  Dynamic Constraints |       Work      \n",
      "     Proc. InQueue |  Leaves   Expl. | BestBound       BestSol              Gap |   Cuts   InLp Confl. | LpIters     Time\n",
      "\n",
      "         0       0         0   0.00%   -inf            inf                  inf        0      0      0         0     0.3s\n",
      " S       0       0         0   0.00%   -inf            4629553787.885     Large        0      0      0         0    20.0s\n",
      " R       0       0         0   0.00%   4355115650.795  4530619566.25      3.87%        0      0      0     62576    21.1s\n",
      "         0       0         0   0.00%   4355395396.647  4530619566.25      3.87%      558      6      0     62709    27.0s\n",
      " L       0       0         0   0.00%   4355569283.613  4358875346.721     0.08%      576     19      0     62833    42.9s\n",
      "         0       0         0   0.00%   4355569307.421  4358875346.721     0.08%      646     18      0     92456    62.9s\n",
      "\n",
      "20.0% inactive integer columns, restarting\n",
      "Model after restart has 32503 rows, 26670 cols (1 bin., 3 int., 0 impl., 26666 cont.), and 106082 nonzeros\n",
      "\n",
      "         0       0         0   0.00%   4355569307.421  4358875346.721     0.08%       18      0      0     92456    63.1s\n",
      "         0       0         0   0.00%   4355569307.421  4358875346.721     0.08%       18     18      0     92585    63.7s\n",
      "\n",
      "Solving report\n",
      "  Status            Optimal\n",
      "  Primal bound      4358875346.72\n",
      "  Dual bound        4358872477.8\n",
      "  Gap               6.6e-05% (tolerance: 0.01%)\n",
      "  Solution status   feasible\n",
      "                    4358875346.72 (objective)\n",
      "                    0 (bound viol.)\n",
      "                    0 (int. viol.)\n",
      "                    0 (row viol.)\n",
      "  Timing            67.74 (total)\n",
      "                    0.41 (presolve)\n",
      "                    0.00 (postsolve)\n",
      "  Nodes             1\n",
      "  LP iterations     93178 (total)\n",
      "                    381 (strong br.)\n",
      "                    351 (separation)\n",
      "                    29622 (heuristics)\n",
      "Writing the solution to /tmp/linopy-solve-8pnggr5u.sol\n"
     ]
    },
    {
     "name": "stderr",
     "output_type": "stream",
     "text": [
      "INFO:pypsa.optimization.optimize:The shadow-prices of the constraints Generator-ext-p-lower, Generator-ext-p-upper, Link-ext-p-lower, Link-ext-p-upper, Store-ext-e-lower, Store-ext-e-upper, Store-energy_balance were not assigned to the network.\n",
      "INFO:pypsa.io:Exported network network.nc has stores, carriers, loads, buses, generators, links\n",
      "INFO:pypsa.io:Imported network network.nc has buses, carriers, generators, links, loads, stores\n",
      "/home/viktor/code/pypsa-vgr/generator/library/output_files.py:289: FutureWarning:\n",
      "\n",
      "A value is trying to be set on a copy of a DataFrame or Series through chained assignment using an inplace method.\n",
      "The behavior will change in pandas 3.0. This inplace method will never work because the intermediate object on which we are setting values always behaves as a copy.\n",
      "\n",
      "For example, when doing 'df[col].method(value, inplace=True)', try using 'df.method({col: value}, inplace=True)' or df[col] = df[col].method(value) instead, to perform the operation inplace on the original object.\n",
      "\n",
      "\n",
      "\n"
     ]
    },
    {
     "name": "stdout",
     "output_type": "stream",
     "text": [
      "69 out of 120: ('14:1488', 2030, 1, 5, True, True, 1200)\n",
      "Create and store parameters\n",
      "Check weather files\n",
      "Check renewables data\n",
      "Create and store demand\n",
      "Create and store network\n",
      "Using config:\n",
      "\th2:True\n",
      "\toffwind:True\n",
      "\tbiogas:1800\n"
     ]
    },
    {
     "name": "stderr",
     "output_type": "stream",
     "text": [
      "INFO:pypsa.io:Exported network network.nc has stores, carriers, loads, buses, generators, links\n"
     ]
    },
    {
     "name": "stdout",
     "output_type": "stream",
     "text": [
      "Run optimization\n"
     ]
    },
    {
     "name": "stderr",
     "output_type": "stream",
     "text": [
      "INFO:pypsa.io:Imported network network.nc has buses, carriers, generators, links, loads, stores\n",
      "INFO:linopy.model: Solve problem using Highs solver\n",
      "INFO:linopy.io:Writing objective.\n",
      "Writing constraints.: 100%|\u001b[38;2;128;191;255m██████████\u001b[0m| 17/17 [00:00<00:00, 25.35it/s]\n",
      "Writing continuous variables.: 100%|\u001b[38;2;128;191;255m██████████\u001b[0m| 9/9 [00:00<00:00, 76.81it/s]\n",
      "Writing integer variables.: 100%|\u001b[38;2;128;191;255m██████████\u001b[0m| 2/2 [00:00<00:00, 737.27it/s]\n",
      "INFO:linopy.io: Writing time: 0.84s\n",
      "INFO:linopy.solvers:Log file at /tmp/highs.log\n"
     ]
    },
    {
     "name": "stdout",
     "output_type": "stream",
     "text": [
      "Running HiGHS 1.7.2 (git hash: 184e327): Copyright (c) 2024 HiGHS under MIT licence terms\n",
      "Coefficient ranges:\n",
      "  Matrix [2e-06, 3e+02]\n",
      "  Cost   [6e+01, 2e+06]\n",
      "  Bound  [0e+00, 0e+00]\n",
      "  RHS    [3e+02, 2e+03]\n"
     ]
    },
    {
     "name": "stderr",
     "output_type": "stream",
     "text": [
      "INFO:linopy.constants: Optimization successful: \n",
      "Status: ok\n",
      "Termination condition: optimal\n",
      "Solution: 46739 primals, 105141 duals\n",
      "Objective: 4.36e+09\n",
      "Solver model: available\n",
      "Solver message: optimal\n",
      "\n",
      "INFO:pypsa.optimization.optimize:The shadow-prices of the constraints Generator-ext-p-lower, Generator-ext-p-upper, Link-ext-p-lower, Link-ext-p-upper, Store-ext-e-lower, Store-ext-e-upper, Store-energy_balance were not assigned to the network.\n"
     ]
    },
    {
     "name": "stdout",
     "output_type": "stream",
     "text": [
      "Presolving model\n",
      "47408 rows, 41576 cols, 124759 nonzeros  0s\n",
      "37157 rows, 31325 cols, 114994 nonzeros  0s\n",
      "37081 rows, 31249 cols, 115328 nonzeros  0s\n",
      "\n",
      "Solving MIP model with:\n",
      "   37081 rows\n",
      "   31249 cols (0 binary, 5 integer, 0 implied int., 31244 continuous)\n",
      "   115328 nonzeros\n",
      "\n",
      "        Nodes      |    B&B Tree     |            Objective Bounds              |  Dynamic Constraints |       Work      \n",
      "     Proc. InQueue |  Leaves   Expl. | BestBound       BestSol              Gap |   Cuts   InLp Confl. | LpIters     Time\n",
      "\n",
      "         0       0         0   0.00%   -inf            inf                  inf        0      0      0         0     0.3s\n",
      " S       0       0         0   0.00%   -inf            4629553787.885     Large        0      0      0         0    20.0s\n",
      " R       0       0         0   0.00%   4355115650.795  4530619566.25      3.87%        0      0      0     61100    21.4s\n",
      "         0       0         0   0.00%   4355395396.647  4530619566.25      3.87%      558      6      0     61249    28.6s\n",
      " L       0       0         0   0.00%   4355569283.613  4358875346.721     0.08%      577     19      0     61397    49.0s\n",
      "         0       0         0   0.00%   4355569307.421  4358875346.721     0.08%      647     18      0     91587    70.5s\n",
      "\n",
      "20.0% inactive integer columns, restarting\n",
      "Model after restart has 32503 rows, 26670 cols (0 bin., 4 int., 0 impl., 26666 cont.), and 106082 nonzeros\n",
      "\n",
      "         0       0         0   0.00%   4355569307.421  4358875346.721     0.08%       18      0      0     91587    70.6s\n",
      "         0       0         0   0.00%   4355569307.421  4358875346.721     0.08%       18     18      0     91673    71.3s\n",
      "         1       0         1 100.00%   4358872477.801  4358875346.721     0.00%      395     28      0     95496    77.9s\n",
      "\n",
      "Solving report\n",
      "  Status            Optimal\n",
      "  Primal bound      4358875346.72\n",
      "  Dual bound        4358872477.8\n",
      "  Gap               6.6e-05% (tolerance: 0.01%)\n",
      "  Solution status   feasible\n",
      "                    4358875346.72 (objective)\n",
      "                    0 (bound viol.)\n",
      "                    0 (int. viol.)\n",
      "                    0 (row viol.)\n",
      "  Timing            77.94 (total)\n",
      "                    0.39 (presolve)\n",
      "                    0.00 (postsolve)\n",
      "  Nodes             1\n",
      "  LP iterations     95496 (total)\n",
      "                    409 (strong br.)\n",
      "                    473 (separation)\n",
      "                    30189 (heuristics)\n",
      "Writing the solution to /tmp/linopy-solve-1p0g_8sc.sol\n"
     ]
    },
    {
     "name": "stderr",
     "output_type": "stream",
     "text": [
      "INFO:pypsa.io:Exported network network.nc has stores, carriers, loads, buses, generators, links\n",
      "INFO:pypsa.io:Imported network network.nc has buses, carriers, generators, links, loads, stores\n",
      "/home/viktor/code/pypsa-vgr/generator/library/output_files.py:289: FutureWarning:\n",
      "\n",
      "A value is trying to be set on a copy of a DataFrame or Series through chained assignment using an inplace method.\n",
      "The behavior will change in pandas 3.0. This inplace method will never work because the intermediate object on which we are setting values always behaves as a copy.\n",
      "\n",
      "For example, when doing 'df[col].method(value, inplace=True)', try using 'df.method({col: value}, inplace=True)' or df[col] = df[col].method(value) instead, to perform the operation inplace on the original object.\n",
      "\n",
      "\n",
      "\n"
     ]
    },
    {
     "name": "stdout",
     "output_type": "stream",
     "text": [
      "70 out of 120: ('14:1488', 2030, 1, 5, True, True, 1800)\n",
      "Create and store parameters\n",
      "Check weather files\n",
      "Check renewables data\n",
      "Create and store demand\n",
      "Create and store network\n",
      "Using config:\n",
      "\th2:True\n",
      "\toffwind:True\n",
      "\tbiogas:0\n"
     ]
    },
    {
     "name": "stderr",
     "output_type": "stream",
     "text": [
      "INFO:pypsa.io:Exported network network.nc has stores, carriers, loads, buses, generators, links\n"
     ]
    },
    {
     "name": "stdout",
     "output_type": "stream",
     "text": [
      "Run optimization\n"
     ]
    },
    {
     "name": "stderr",
     "output_type": "stream",
     "text": [
      "INFO:pypsa.io:Imported network network.nc has buses, carriers, generators, links, loads, stores\n",
      "INFO:linopy.model: Solve problem using Highs solver\n",
      "INFO:linopy.io:Writing objective.\n",
      "Writing constraints.: 100%|\u001b[38;2;128;191;255m██████████\u001b[0m| 17/17 [00:00<00:00, 28.97it/s]\n",
      "Writing continuous variables.: 100%|\u001b[38;2;128;191;255m██████████\u001b[0m| 9/9 [00:00<00:00, 86.76it/s]\n",
      "Writing integer variables.: 100%|\u001b[38;2;128;191;255m██████████\u001b[0m| 2/2 [00:00<00:00, 738.37it/s]\n",
      "INFO:linopy.io: Writing time: 0.73s\n",
      "INFO:linopy.solvers:Log file at /tmp/highs.log\n"
     ]
    },
    {
     "name": "stdout",
     "output_type": "stream",
     "text": [
      "Running HiGHS 1.7.2 (git hash: 184e327): Copyright (c) 2024 HiGHS under MIT licence terms\n",
      "Coefficient ranges:\n",
      "  Matrix [2e-06, 3e+02]\n",
      "  Cost   [6e+01, 2e+06]\n",
      "  Bound  [0e+00, 0e+00]\n",
      "  RHS    [7e+02, 2e+03]\n"
     ]
    },
    {
     "name": "stderr",
     "output_type": "stream",
     "text": [
      "INFO:linopy.constants: Optimization successful: \n",
      "Status: ok\n",
      "Termination condition: optimal\n",
      "Solution: 40897 primals, 90538 duals\n",
      "Objective: 1.36e+10\n",
      "Solver model: available\n",
      "Solver message: optimal\n",
      "\n",
      "INFO:pypsa.optimization.optimize:The shadow-prices of the constraints Generator-ext-p-lower, Generator-ext-p-upper, Link-ext-p-lower, Link-ext-p-upper, Store-ext-e-lower, Store-ext-e-upper, Store-energy_balance were not assigned to the network.\n"
     ]
    },
    {
     "name": "stdout",
     "output_type": "stream",
     "text": [
      "Presolving model\n",
      "44488 rows, 35736 cols, 115999 nonzeros  0s\n",
      "37074 rows, 28322 cols, 109584 nonzeros  0s\n",
      "37074 rows, 28322 cols, 109584 nonzeros  0s\n",
      "\n",
      "Solving MIP model with:\n",
      "   37074 rows\n",
      "   28322 cols (0 binary, 5 integer, 0 implied int., 28317 continuous)\n",
      "   109584 nonzeros\n",
      "\n",
      "        Nodes      |    B&B Tree     |            Objective Bounds              |  Dynamic Constraints |       Work      \n",
      "     Proc. InQueue |  Leaves   Expl. | BestBound       BestSol              Gap |   Cuts   InLp Confl. | LpIters     Time\n",
      "\n",
      "         0       0         0   0.00%   -inf            inf                  inf        0      0      0         0     0.3s\n",
      " S       0       0         0   0.00%   -inf            13580772007.32     Large        0      0      0         0    10.3s\n",
      "\n",
      "Solving report\n",
      "  Status            Optimal\n",
      "  Primal bound      13580772007.3\n",
      "  Dual bound        13580066555.3\n",
      "  Gap               0.00519% (tolerance: 0.01%)\n",
      "  Solution status   feasible\n",
      "                    13580772007.3 (objective)\n",
      "                    0 (bound viol.)\n",
      "                    0 (int. viol.)\n",
      "                    0 (row viol.)\n",
      "  Timing            10.86 (total)\n",
      "                    0.23 (presolve)\n",
      "                    0.00 (postsolve)\n",
      "  Nodes             1\n",
      "  LP iterations     39641 (total)\n",
      "                    0 (strong br.)\n",
      "                    0 (separation)\n",
      "                    0 (heuristics)\n",
      "Writing the solution to /tmp/linopy-solve-af0_z9bn.sol\n"
     ]
    },
    {
     "name": "stderr",
     "output_type": "stream",
     "text": [
      "INFO:pypsa.io:Exported network network.nc has stores, carriers, loads, buses, generators, links\n",
      "INFO:pypsa.io:Imported network network.nc has buses, carriers, generators, links, loads, stores\n",
      "/home/viktor/code/pypsa-vgr/generator/library/output_files.py:289: FutureWarning:\n",
      "\n",
      "A value is trying to be set on a copy of a DataFrame or Series through chained assignment using an inplace method.\n",
      "The behavior will change in pandas 3.0. This inplace method will never work because the intermediate object on which we are setting values always behaves as a copy.\n",
      "\n",
      "For example, when doing 'df[col].method(value, inplace=True)', try using 'df.method({col: value}, inplace=True)' or df[col] = df[col].method(value) instead, to perform the operation inplace on the original object.\n",
      "\n",
      "\n",
      "\n"
     ]
    },
    {
     "name": "stdout",
     "output_type": "stream",
     "text": [
      "71 out of 120: ('14:1488', 2030, 1, 10, True, True, 0)\n",
      "Create and store parameters\n",
      "Check weather files\n",
      "Check renewables data\n",
      "Create and store demand\n",
      "Create and store network\n",
      "Using config:\n",
      "\th2:True\n",
      "\toffwind:True\n",
      "\tbiogas:300\n"
     ]
    },
    {
     "name": "stderr",
     "output_type": "stream",
     "text": [
      "INFO:pypsa.io:Exported network network.nc has stores, carriers, loads, buses, generators, links\n"
     ]
    },
    {
     "name": "stdout",
     "output_type": "stream",
     "text": [
      "Run optimization\n"
     ]
    },
    {
     "name": "stderr",
     "output_type": "stream",
     "text": [
      "INFO:pypsa.io:Imported network network.nc has buses, carriers, generators, links, loads, stores\n",
      "INFO:linopy.model: Solve problem using Highs solver\n",
      "INFO:linopy.io:Writing objective.\n",
      "Writing constraints.: 100%|\u001b[38;2;128;191;255m██████████\u001b[0m| 17/17 [00:00<00:00, 27.03it/s]\n",
      "Writing continuous variables.: 100%|\u001b[38;2;128;191;255m██████████\u001b[0m| 9/9 [00:00<00:00, 85.45it/s]\n",
      "Writing integer variables.: 100%|\u001b[38;2;128;191;255m██████████\u001b[0m| 2/2 [00:00<00:00, 411.81it/s]\n",
      "INFO:linopy.io: Writing time: 0.78s\n",
      "INFO:linopy.solvers:Log file at /tmp/highs.log\n"
     ]
    },
    {
     "name": "stdout",
     "output_type": "stream",
     "text": [
      "Running HiGHS 1.7.2 (git hash: 184e327): Copyright (c) 2024 HiGHS under MIT licence terms\n",
      "Coefficient ranges:\n",
      "  Matrix [2e-06, 3e+02]\n",
      "  Cost   [6e+01, 2e+06]\n",
      "  Bound  [0e+00, 0e+00]\n",
      "  RHS    [3e+02, 2e+03]\n",
      "Presolving model\n",
      "47408 rows, 41576 cols, 124759 nonzeros  0s\n",
      "37157 rows, 31325 cols, 114994 nonzeros  0s\n",
      "37081 rows, 31249 cols, 115328 nonzeros  0s\n",
      "\n",
      "Solving MIP model with:\n",
      "   37081 rows\n",
      "   31249 cols (0 binary, 5 integer, 0 implied int., 31244 continuous)\n",
      "   115328 nonzeros\n",
      "\n",
      "        Nodes      |    B&B Tree     |            Objective Bounds              |  Dynamic Constraints |       Work      \n",
      "     Proc. InQueue |  Leaves   Expl. | BestBound       BestSol              Gap |   Cuts   InLp Confl. | LpIters     Time\n",
      "\n",
      "         0       0         0   0.00%   -inf            inf                  inf        0      0      0         0     0.3s\n",
      " S       0       0         0   0.00%   -inf            12388433186.82     Large        0      0      0         0    12.8s\n",
      " R       0       0         0   0.00%   12387152938.01  12387171693.24     0.00%        0      0      0     42683    13.0s\n",
      "\n",
      "Solving report\n",
      "  Status            Optimal\n",
      "  Primal bound      12387171693.2\n",
      "  Dual bound        12387152938\n",
      "  Gap               0.000151% (tolerance: 0.01%)\n",
      "  Solution status   feasible\n",
      "                    12387171693.2 (objective)\n",
      "                    0 (bound viol.)\n",
      "                    0 (int. viol.)\n",
      "                    0 (row viol.)\n",
      "  Timing            13.05 (total)\n",
      "                    0.28 (presolve)\n",
      "                    0.00 (postsolve)\n",
      "  Nodes             1\n",
      "  LP iterations     42683 (total)\n",
      "                    0 (strong br.)\n",
      "                    0 (separation)\n",
      "                    0 (heuristics)\n",
      "Writing the solution to /tmp/linopy-solve-0ut9_dvy.sol\n"
     ]
    },
    {
     "name": "stderr",
     "output_type": "stream",
     "text": [
      "INFO:linopy.constants: Optimization successful: \n",
      "Status: ok\n",
      "Termination condition: optimal\n",
      "Solution: 46739 primals, 105141 duals\n",
      "Objective: 1.24e+10\n",
      "Solver model: available\n",
      "Solver message: optimal\n",
      "\n",
      "INFO:pypsa.optimization.optimize:The shadow-prices of the constraints Generator-ext-p-lower, Generator-ext-p-upper, Link-ext-p-lower, Link-ext-p-upper, Store-ext-e-lower, Store-ext-e-upper, Store-energy_balance were not assigned to the network.\n",
      "INFO:pypsa.io:Exported network network.nc has stores, carriers, loads, buses, generators, links\n",
      "INFO:pypsa.io:Imported network network.nc has buses, carriers, generators, links, loads, stores\n",
      "/home/viktor/code/pypsa-vgr/generator/library/output_files.py:289: FutureWarning:\n",
      "\n",
      "A value is trying to be set on a copy of a DataFrame or Series through chained assignment using an inplace method.\n",
      "The behavior will change in pandas 3.0. This inplace method will never work because the intermediate object on which we are setting values always behaves as a copy.\n",
      "\n",
      "For example, when doing 'df[col].method(value, inplace=True)', try using 'df.method({col: value}, inplace=True)' or df[col] = df[col].method(value) instead, to perform the operation inplace on the original object.\n",
      "\n",
      "\n",
      "\n"
     ]
    },
    {
     "name": "stdout",
     "output_type": "stream",
     "text": [
      "72 out of 120: ('14:1488', 2030, 1, 10, True, True, 300)\n",
      "Create and store parameters\n",
      "Check weather files\n",
      "Check renewables data\n",
      "Create and store demand\n",
      "Create and store network\n",
      "Using config:\n",
      "\th2:True\n",
      "\toffwind:True\n",
      "\tbiogas:600\n"
     ]
    },
    {
     "name": "stderr",
     "output_type": "stream",
     "text": [
      "INFO:pypsa.io:Exported network network.nc has stores, carriers, loads, buses, generators, links\n"
     ]
    },
    {
     "name": "stdout",
     "output_type": "stream",
     "text": [
      "Run optimization\n"
     ]
    },
    {
     "name": "stderr",
     "output_type": "stream",
     "text": [
      "INFO:pypsa.io:Imported network network.nc has buses, carriers, generators, links, loads, stores\n",
      "INFO:linopy.model: Solve problem using Highs solver\n",
      "INFO:linopy.io:Writing objective.\n",
      "Writing constraints.: 100%|\u001b[38;2;128;191;255m██████████\u001b[0m| 17/17 [00:00<00:00, 28.97it/s]\n",
      "Writing continuous variables.: 100%|\u001b[38;2;128;191;255m██████████\u001b[0m| 9/9 [00:00<00:00, 84.04it/s]\n",
      "Writing integer variables.: 100%|\u001b[38;2;128;191;255m██████████\u001b[0m| 2/2 [00:00<00:00, 467.72it/s]\n",
      "INFO:linopy.io: Writing time: 0.74s\n",
      "INFO:linopy.solvers:Log file at /tmp/highs.log\n"
     ]
    },
    {
     "name": "stdout",
     "output_type": "stream",
     "text": [
      "Running HiGHS 1.7.2 (git hash: 184e327): Copyright (c) 2024 HiGHS under MIT licence terms\n",
      "Coefficient ranges:\n",
      "  Matrix [2e-06, 3e+02]\n",
      "  Cost   [6e+01, 2e+06]\n"
     ]
    },
    {
     "name": "stderr",
     "output_type": "stream",
     "text": [
      "INFO:linopy.constants: Optimization successful: \n",
      "Status: ok\n",
      "Termination condition: optimal\n",
      "Solution: 46739 primals, 105141 duals\n",
      "Objective: 1.13e+10\n",
      "Solver model: available\n",
      "Solver message: optimal\n",
      "\n"
     ]
    },
    {
     "name": "stdout",
     "output_type": "stream",
     "text": [
      "  Bound  [0e+00, 0e+00]\n",
      "  RHS    [6e+02, 2e+03]\n",
      "Presolving model\n",
      "47408 rows, 41576 cols, 124759 nonzeros  0s\n",
      "37157 rows, 31325 cols, 114994 nonzeros  0s\n",
      "37081 rows, 31249 cols, 115328 nonzeros  0s\n",
      "\n",
      "Solving MIP model with:\n",
      "   37081 rows\n",
      "   31249 cols (0 binary, 5 integer, 0 implied int., 31244 continuous)\n",
      "   115328 nonzeros\n",
      "\n",
      "        Nodes      |    B&B Tree     |            Objective Bounds              |  Dynamic Constraints |       Work      \n",
      "     Proc. InQueue |  Leaves   Expl. | BestBound       BestSol              Gap |   Cuts   InLp Confl. | LpIters     Time\n",
      "\n",
      "         0       0         0   0.00%   -inf            inf                  inf        0      0      0         0     0.3s\n",
      " S       0       0         0   0.00%   -inf            11292775333.46     Large        0      0      0         0    13.2s\n",
      " R       0       0         0   0.00%   11291101748.84  11291121811.09     0.00%        0      0      0     42249    13.4s\n",
      "\n",
      "Solving report\n",
      "  Status            Optimal\n",
      "  Primal bound      11291121811.1\n",
      "  Dual bound        11291101748.8\n",
      "  Gap               0.000178% (tolerance: 0.01%)\n",
      "  Solution status   feasible\n",
      "                    11291121811.1 (objective)\n",
      "                    0 (bound viol.)\n",
      "                    2.5182518102e-16 (int. viol.)\n",
      "                    0 (row viol.)\n",
      "  Timing            13.43 (total)\n",
      "                    0.27 (presolve)\n",
      "                    0.00 (postsolve)\n",
      "  Nodes             1\n",
      "  LP iterations     42249 (total)\n",
      "                    0 (strong br.)\n",
      "                    0 (separation)\n",
      "                    0 (heuristics)\n",
      "Writing the solution to /tmp/linopy-solve-v3dfus8u.sol\n"
     ]
    },
    {
     "name": "stderr",
     "output_type": "stream",
     "text": [
      "INFO:pypsa.optimization.optimize:The shadow-prices of the constraints Generator-ext-p-lower, Generator-ext-p-upper, Link-ext-p-lower, Link-ext-p-upper, Store-ext-e-lower, Store-ext-e-upper, Store-energy_balance were not assigned to the network.\n",
      "INFO:pypsa.io:Exported network network.nc has stores, carriers, loads, buses, generators, links\n",
      "INFO:pypsa.io:Imported network network.nc has buses, carriers, generators, links, loads, stores\n",
      "/home/viktor/code/pypsa-vgr/generator/library/output_files.py:289: FutureWarning:\n",
      "\n",
      "A value is trying to be set on a copy of a DataFrame or Series through chained assignment using an inplace method.\n",
      "The behavior will change in pandas 3.0. This inplace method will never work because the intermediate object on which we are setting values always behaves as a copy.\n",
      "\n",
      "For example, when doing 'df[col].method(value, inplace=True)', try using 'df.method({col: value}, inplace=True)' or df[col] = df[col].method(value) instead, to perform the operation inplace on the original object.\n",
      "\n",
      "\n",
      "\n"
     ]
    },
    {
     "name": "stdout",
     "output_type": "stream",
     "text": [
      "73 out of 120: ('14:1488', 2030, 1, 10, True, True, 600)\n",
      "Create and store parameters\n",
      "Check weather files\n",
      "Check renewables data\n",
      "Create and store demand\n",
      "Create and store network\n",
      "Using config:\n",
      "\th2:True\n",
      "\toffwind:True\n",
      "\tbiogas:1200\n"
     ]
    },
    {
     "name": "stderr",
     "output_type": "stream",
     "text": [
      "INFO:pypsa.io:Exported network network.nc has stores, carriers, loads, buses, generators, links\n"
     ]
    },
    {
     "name": "stdout",
     "output_type": "stream",
     "text": [
      "Run optimization\n"
     ]
    },
    {
     "name": "stderr",
     "output_type": "stream",
     "text": [
      "INFO:pypsa.io:Imported network network.nc has buses, carriers, generators, links, loads, stores\n",
      "INFO:linopy.model: Solve problem using Highs solver\n",
      "INFO:linopy.io:Writing objective.\n",
      "Writing constraints.: 100%|\u001b[38;2;128;191;255m██████████\u001b[0m| 17/17 [00:00<00:00, 28.17it/s]\n",
      "Writing continuous variables.: 100%|\u001b[38;2;128;191;255m██████████\u001b[0m| 9/9 [00:00<00:00, 87.67it/s]\n",
      "Writing integer variables.: 100%|\u001b[38;2;128;191;255m██████████\u001b[0m| 2/2 [00:00<00:00, 587.68it/s]\n",
      "INFO:linopy.io: Writing time: 0.76s\n",
      "INFO:linopy.solvers:Log file at /tmp/highs.log\n"
     ]
    },
    {
     "name": "stdout",
     "output_type": "stream",
     "text": [
      "Running HiGHS 1.7.2 (git hash: 184e327): Copyright (c) 2024 HiGHS under MIT licence terms\n"
     ]
    },
    {
     "name": "stderr",
     "output_type": "stream",
     "text": [
      "INFO:linopy.constants: Optimization successful: \n",
      "Status: ok\n",
      "Termination condition: optimal\n",
      "Solution: 46739 primals, 105141 duals\n",
      "Objective: 9.60e+09\n",
      "Solver model: available\n",
      "Solver message: optimal\n",
      "\n",
      "INFO:pypsa.optimization.optimize:The shadow-prices of the constraints Generator-ext-p-lower, Generator-ext-p-upper, Link-ext-p-lower, Link-ext-p-upper, Store-ext-e-lower, Store-ext-e-upper, Store-energy_balance were not assigned to the network.\n"
     ]
    },
    {
     "name": "stdout",
     "output_type": "stream",
     "text": [
      "Coefficient ranges:\n",
      "  Matrix [2e-06, 3e+02]\n",
      "  Cost   [6e+01, 2e+06]\n",
      "  Bound  [0e+00, 0e+00]\n",
      "  RHS    [7e+02, 2e+03]\n",
      "Presolving model\n",
      "47408 rows, 41576 cols, 124759 nonzeros  0s\n",
      "37157 rows, 31325 cols, 114994 nonzeros  0s\n",
      "37081 rows, 31249 cols, 115328 nonzeros  0s\n",
      "\n",
      "Solving MIP model with:\n",
      "   37081 rows\n",
      "   31249 cols (0 binary, 5 integer, 0 implied int., 31244 continuous)\n",
      "   115328 nonzeros\n",
      "\n",
      "        Nodes      |    B&B Tree     |            Objective Bounds              |  Dynamic Constraints |       Work      \n",
      "     Proc. InQueue |  Leaves   Expl. | BestBound       BestSol              Gap |   Cuts   InLp Confl. | LpIters     Time\n",
      "\n",
      "         0       0         0   0.00%   -inf            inf                  inf        0      0      0         0     0.3s\n",
      " S       0       0         0   0.00%   -inf            9607336313.604     Large        0      0      0         0    21.0s\n",
      " R       0       0         0   0.00%   9604112632.867  9604115440.245     0.00%        0      0      0     57618    21.1s\n",
      "\n",
      "Solving report\n",
      "  Status            Optimal\n",
      "  Primal bound      9604115440.25\n",
      "  Dual bound        9604112632.87\n",
      "  Gap               2.9e-05% (tolerance: 0.01%)\n",
      "  Solution status   feasible\n",
      "                    9604115440.25 (objective)\n",
      "                    0 (bound viol.)\n",
      "                    0 (int. viol.)\n",
      "                    0 (row viol.)\n",
      "  Timing            21.15 (total)\n",
      "                    0.25 (presolve)\n",
      "                    0.00 (postsolve)\n",
      "  Nodes             1\n",
      "  LP iterations     57618 (total)\n",
      "                    0 (strong br.)\n",
      "                    0 (separation)\n",
      "                    0 (heuristics)\n",
      "Writing the solution to /tmp/linopy-solve-6fb4h855.sol\n"
     ]
    },
    {
     "name": "stderr",
     "output_type": "stream",
     "text": [
      "INFO:pypsa.io:Exported network network.nc has stores, carriers, loads, buses, generators, links\n",
      "INFO:pypsa.io:Imported network network.nc has buses, carriers, generators, links, loads, stores\n",
      "/home/viktor/code/pypsa-vgr/generator/library/output_files.py:289: FutureWarning:\n",
      "\n",
      "A value is trying to be set on a copy of a DataFrame or Series through chained assignment using an inplace method.\n",
      "The behavior will change in pandas 3.0. This inplace method will never work because the intermediate object on which we are setting values always behaves as a copy.\n",
      "\n",
      "For example, when doing 'df[col].method(value, inplace=True)', try using 'df.method({col: value}, inplace=True)' or df[col] = df[col].method(value) instead, to perform the operation inplace on the original object.\n",
      "\n",
      "\n",
      "\n"
     ]
    },
    {
     "name": "stdout",
     "output_type": "stream",
     "text": [
      "74 out of 120: ('14:1488', 2030, 1, 10, True, True, 1200)\n",
      "Create and store parameters\n",
      "Check weather files\n",
      "Check renewables data\n",
      "Create and store demand\n",
      "Create and store network\n",
      "Using config:\n",
      "\th2:True\n",
      "\toffwind:True\n",
      "\tbiogas:1800\n"
     ]
    },
    {
     "name": "stderr",
     "output_type": "stream",
     "text": [
      "INFO:pypsa.io:Exported network network.nc has stores, carriers, loads, buses, generators, links\n"
     ]
    },
    {
     "name": "stdout",
     "output_type": "stream",
     "text": [
      "Run optimization\n"
     ]
    },
    {
     "name": "stderr",
     "output_type": "stream",
     "text": [
      "INFO:pypsa.io:Imported network network.nc has buses, carriers, generators, links, loads, stores\n",
      "INFO:linopy.model: Solve problem using Highs solver\n",
      "INFO:linopy.io:Writing objective.\n",
      "Writing constraints.: 100%|\u001b[38;2;128;191;255m██████████\u001b[0m| 17/17 [00:00<00:00, 29.06it/s]\n",
      "Writing continuous variables.: 100%|\u001b[38;2;128;191;255m██████████\u001b[0m| 9/9 [00:00<00:00, 91.48it/s]\n",
      "Writing integer variables.: 100%|\u001b[38;2;128;191;255m██████████\u001b[0m| 2/2 [00:00<00:00, 504.61it/s]\n",
      "INFO:linopy.io: Writing time: 0.73s\n",
      "INFO:linopy.solvers:Log file at /tmp/highs.log\n"
     ]
    },
    {
     "name": "stdout",
     "output_type": "stream",
     "text": [
      "Running HiGHS 1.7.2 (git hash: 184e327): Copyright (c) 2024 HiGHS under MIT licence terms\n"
     ]
    },
    {
     "name": "stderr",
     "output_type": "stream",
     "text": [
      "INFO:linopy.constants: Optimization successful: \n",
      "Status: ok\n",
      "Termination condition: optimal\n",
      "Solution: 46739 primals, 105141 duals\n",
      "Objective: 8.72e+09\n",
      "Solver model: available\n",
      "Solver message: optimal\n",
      "\n",
      "INFO:pypsa.optimization.optimize:The shadow-prices of the constraints Generator-ext-p-lower, Generator-ext-p-upper, Link-ext-p-lower, Link-ext-p-upper, Store-ext-e-lower, Store-ext-e-upper, Store-energy_balance were not assigned to the network.\n"
     ]
    },
    {
     "name": "stdout",
     "output_type": "stream",
     "text": [
      "Coefficient ranges:\n",
      "  Matrix [2e-06, 3e+02]\n",
      "  Cost   [6e+01, 2e+06]\n",
      "  Bound  [0e+00, 0e+00]\n",
      "  RHS    [7e+02, 2e+03]\n",
      "Presolving model\n",
      "47408 rows, 41576 cols, 124759 nonzeros  0s\n",
      "37157 rows, 31325 cols, 114994 nonzeros  0s\n",
      "37081 rows, 31249 cols, 115328 nonzeros  0s\n",
      "\n",
      "Solving MIP model with:\n",
      "   37081 rows\n",
      "   31249 cols (0 binary, 5 integer, 0 implied int., 31244 continuous)\n",
      "   115328 nonzeros\n",
      "\n",
      "        Nodes      |    B&B Tree     |            Objective Bounds              |  Dynamic Constraints |       Work      \n",
      "     Proc. InQueue |  Leaves   Expl. | BestBound       BestSol              Gap |   Cuts   InLp Confl. | LpIters     Time\n",
      "\n",
      "         0       0         0   0.00%   -inf            inf                  inf        0      0      0         0     0.3s\n",
      " S       0       0         0   0.00%   -inf            8719343979.446     Large        0      0      0         0    24.1s\n",
      " R       0       0         0   0.00%   8717744955.6    8717748829.161     0.00%        0      0      0     66369    24.3s\n",
      "\n",
      "Solving report\n",
      "  Status            Optimal\n",
      "  Primal bound      8717748829.16\n",
      "  Dual bound        8717744955.6\n",
      "  Gap               4.4e-05% (tolerance: 0.01%)\n",
      "  Solution status   feasible\n",
      "                    8717748829.16 (objective)\n",
      "                    0 (bound viol.)\n",
      "                    1.66202070736e-18 (int. viol.)\n",
      "                    0 (row viol.)\n",
      "  Timing            24.31 (total)\n",
      "                    0.27 (presolve)\n",
      "                    0.00 (postsolve)\n",
      "  Nodes             1\n",
      "  LP iterations     66369 (total)\n",
      "                    0 (strong br.)\n",
      "                    0 (separation)\n",
      "                    0 (heuristics)\n",
      "Writing the solution to /tmp/linopy-solve-yhcjt3t5.sol\n"
     ]
    },
    {
     "name": "stderr",
     "output_type": "stream",
     "text": [
      "INFO:pypsa.io:Exported network network.nc has stores, carriers, loads, buses, generators, links\n",
      "INFO:pypsa.io:Imported network network.nc has buses, carriers, generators, links, loads, stores\n",
      "/home/viktor/code/pypsa-vgr/generator/library/output_files.py:289: FutureWarning:\n",
      "\n",
      "A value is trying to be set on a copy of a DataFrame or Series through chained assignment using an inplace method.\n",
      "The behavior will change in pandas 3.0. This inplace method will never work because the intermediate object on which we are setting values always behaves as a copy.\n",
      "\n",
      "For example, when doing 'df[col].method(value, inplace=True)', try using 'df.method({col: value}, inplace=True)' or df[col] = df[col].method(value) instead, to perform the operation inplace on the original object.\n",
      "\n",
      "\n",
      "\n"
     ]
    },
    {
     "name": "stdout",
     "output_type": "stream",
     "text": [
      "75 out of 120: ('14:1488', 2030, 1, 10, True, True, 1800)\n",
      "Create and store parameters\n",
      "Check weather files\n",
      "Check renewables data\n",
      "Create and store demand\n",
      "Create and store network\n",
      "Using config:\n",
      "\th2:True\n",
      "\toffwind:True\n",
      "\tbiogas:0\n"
     ]
    },
    {
     "name": "stderr",
     "output_type": "stream",
     "text": [
      "INFO:pypsa.io:Exported network network.nc has stores, carriers, loads, buses, generators, links\n"
     ]
    },
    {
     "name": "stdout",
     "output_type": "stream",
     "text": [
      "Run optimization\n"
     ]
    },
    {
     "name": "stderr",
     "output_type": "stream",
     "text": [
      "INFO:pypsa.io:Imported network network.nc has buses, carriers, generators, links, loads, stores\n",
      "INFO:linopy.model: Solve problem using Highs solver\n",
      "INFO:linopy.io:Writing objective.\n",
      "Writing constraints.: 100%|\u001b[38;2;128;191;255m██████████\u001b[0m| 17/17 [00:00<00:00, 32.32it/s]\n",
      "Writing continuous variables.: 100%|\u001b[38;2;128;191;255m██████████\u001b[0m| 9/9 [00:00<00:00, 88.19it/s]\n",
      "Writing integer variables.: 100%|\u001b[38;2;128;191;255m██████████\u001b[0m| 2/2 [00:00<00:00, 518.46it/s]\n",
      "INFO:linopy.io: Writing time: 0.67s\n",
      "INFO:linopy.solvers:Log file at /tmp/highs.log\n"
     ]
    },
    {
     "name": "stdout",
     "output_type": "stream",
     "text": [
      "Running HiGHS 1.7.2 (git hash: 184e327): Copyright (c) 2024 HiGHS under MIT licence terms\n"
     ]
    },
    {
     "name": "stderr",
     "output_type": "stream",
     "text": [
      "INFO:linopy.constants: Optimization successful: \n",
      "Status: ok\n",
      "Termination condition: optimal\n",
      "Solution: 40897 primals, 90538 duals\n",
      "Objective: 2.04e+10\n",
      "Solver model: available\n",
      "Solver message: optimal\n",
      "\n"
     ]
    },
    {
     "name": "stdout",
     "output_type": "stream",
     "text": [
      "Coefficient ranges:\n",
      "  Matrix [2e-06, 3e+02]\n",
      "  Cost   [6e+01, 2e+06]\n",
      "  Bound  [0e+00, 0e+00]\n",
      "  RHS    [1e+03, 3e+03]\n",
      "Presolving model\n",
      "44488 rows, 35736 cols, 115999 nonzeros  0s\n",
      "37074 rows, 28322 cols, 109584 nonzeros  0s\n",
      "37074 rows, 28322 cols, 109584 nonzeros  0s\n",
      "\n",
      "Solving MIP model with:\n",
      "   37074 rows\n",
      "   28322 cols (0 binary, 5 integer, 0 implied int., 28317 continuous)\n",
      "   109584 nonzeros\n",
      "\n",
      "        Nodes      |    B&B Tree     |            Objective Bounds              |  Dynamic Constraints |       Work      \n",
      "     Proc. InQueue |  Leaves   Expl. | BestBound       BestSol              Gap |   Cuts   InLp Confl. | LpIters     Time\n",
      "\n",
      "         0       0         0   0.00%   -inf            inf                  inf        0      0      0         0     0.3s\n",
      " S       0       0         0   0.00%   -inf            20373202038.65     Large        0      0      0         0     9.6s\n",
      " R       0       0         0   0.00%   20370099832.92  20370213521.46     0.00%        0      0      0     36148    10.0s\n",
      "\n",
      "Solving report\n",
      "  Status            Optimal\n",
      "  Primal bound      20370213521.5\n",
      "  Dual bound        20370099832.9\n",
      "  Gap               0.000558% (tolerance: 0.01%)\n",
      "  Solution status   feasible\n",
      "                    20370213521.5 (objective)\n",
      "                    0 (bound viol.)\n",
      "                    0 (int. viol.)\n",
      "                    0 (row viol.)\n",
      "  Timing            10.11 (total)\n",
      "                    0.23 (presolve)\n",
      "                    0.00 (postsolve)\n",
      "  Nodes             1\n",
      "  LP iterations     36148 (total)\n",
      "                    0 (strong br.)\n",
      "                    0 (separation)\n",
      "                    0 (heuristics)\n",
      "Writing the solution to /tmp/linopy-solve-p4g5uwq1.sol\n"
     ]
    },
    {
     "name": "stderr",
     "output_type": "stream",
     "text": [
      "INFO:pypsa.optimization.optimize:The shadow-prices of the constraints Generator-ext-p-lower, Generator-ext-p-upper, Link-ext-p-lower, Link-ext-p-upper, Store-ext-e-lower, Store-ext-e-upper, Store-energy_balance were not assigned to the network.\n",
      "INFO:pypsa.io:Exported network network.nc has stores, carriers, loads, buses, generators, links\n",
      "INFO:pypsa.io:Imported network network.nc has buses, carriers, generators, links, loads, stores\n",
      "/home/viktor/code/pypsa-vgr/generator/library/output_files.py:289: FutureWarning:\n",
      "\n",
      "A value is trying to be set on a copy of a DataFrame or Series through chained assignment using an inplace method.\n",
      "The behavior will change in pandas 3.0. This inplace method will never work because the intermediate object on which we are setting values always behaves as a copy.\n",
      "\n",
      "For example, when doing 'df[col].method(value, inplace=True)', try using 'df.method({col: value}, inplace=True)' or df[col] = df[col].method(value) instead, to perform the operation inplace on the original object.\n",
      "\n",
      "\n",
      "\n"
     ]
    },
    {
     "name": "stdout",
     "output_type": "stream",
     "text": [
      "76 out of 120: ('14:1488', 2030, 1, 15, True, True, 0)\n",
      "Create and store parameters\n",
      "Check weather files\n",
      "Check renewables data\n",
      "Create and store demand\n",
      "Create and store network\n",
      "Using config:\n",
      "\th2:True\n",
      "\toffwind:True\n",
      "\tbiogas:300\n"
     ]
    },
    {
     "name": "stderr",
     "output_type": "stream",
     "text": [
      "INFO:pypsa.io:Exported network network.nc has stores, carriers, loads, buses, generators, links\n"
     ]
    },
    {
     "name": "stdout",
     "output_type": "stream",
     "text": [
      "Run optimization\n"
     ]
    },
    {
     "name": "stderr",
     "output_type": "stream",
     "text": [
      "INFO:pypsa.io:Imported network network.nc has buses, carriers, generators, links, loads, stores\n",
      "INFO:linopy.model: Solve problem using Highs solver\n",
      "INFO:linopy.io:Writing objective.\n",
      "Writing constraints.: 100%|\u001b[38;2;128;191;255m██████████\u001b[0m| 17/17 [00:00<00:00, 26.88it/s]\n",
      "Writing continuous variables.: 100%|\u001b[38;2;128;191;255m██████████\u001b[0m| 9/9 [00:00<00:00, 69.28it/s]\n",
      "Writing integer variables.: 100%|\u001b[38;2;128;191;255m██████████\u001b[0m| 2/2 [00:00<00:00, 449.38it/s]\n",
      "INFO:linopy.io: Writing time: 0.81s\n",
      "INFO:linopy.solvers:Log file at /tmp/highs.log\n",
      "INFO:linopy.constants: Optimization successful: \n",
      "Status: ok\n",
      "Termination condition: optimal\n",
      "Solution: 46739 primals, 105141 duals\n",
      "Objective: 1.92e+10\n",
      "Solver model: available\n",
      "Solver message: optimal\n",
      "\n"
     ]
    },
    {
     "name": "stdout",
     "output_type": "stream",
     "text": [
      "Running HiGHS 1.7.2 (git hash: 184e327): Copyright (c) 2024 HiGHS under MIT licence terms\n",
      "Coefficient ranges:\n",
      "  Matrix [2e-06, 3e+02]\n",
      "  Cost   [6e+01, 2e+06]\n",
      "  Bound  [0e+00, 0e+00]\n",
      "  RHS    [3e+02, 3e+03]\n",
      "Presolving model\n",
      "47408 rows, 41576 cols, 124759 nonzeros  0s\n",
      "37157 rows, 31325 cols, 114994 nonzeros  0s\n",
      "37081 rows, 31249 cols, 115328 nonzeros  0s\n",
      "\n",
      "Solving MIP model with:\n",
      "   37081 rows\n",
      "   31249 cols (0 binary, 5 integer, 0 implied int., 31244 continuous)\n",
      "   115328 nonzeros\n",
      "\n",
      "        Nodes      |    B&B Tree     |            Objective Bounds              |  Dynamic Constraints |       Work      \n",
      "     Proc. InQueue |  Leaves   Expl. | BestBound       BestSol              Gap |   Cuts   InLp Confl. | LpIters     Time\n",
      "\n",
      "         0       0         0   0.00%   -inf            inf                  inf        0      0      0         0     0.3s\n",
      " S       0       0         0   0.00%   -inf            19168016842.02     Large        0      0      0         0    13.6s\n",
      " R       0       0         0   0.00%   19165996681.23  19166024620.5      0.00%        0      0      0     40935    14.0s\n",
      "\n",
      "Solving report\n",
      "  Status            Optimal\n",
      "  Primal bound      19166024620.5\n",
      "  Dual bound        19165996681.2\n",
      "  Gap               0.000146% (tolerance: 0.01%)\n",
      "  Solution status   feasible\n",
      "                    19166024620.5 (objective)\n",
      "                    0 (bound viol.)\n",
      "                    0 (int. viol.)\n",
      "                    0 (row viol.)\n",
      "  Timing            14.44 (total)\n",
      "                    0.26 (presolve)\n",
      "                    0.00 (postsolve)\n",
      "  Nodes             1\n",
      "  LP iterations     40935 (total)\n",
      "                    0 (strong br.)\n",
      "                    0 (separation)\n",
      "                    0 (heuristics)\n",
      "Writing the solution to /tmp/linopy-solve-ibqnplyf.sol\n"
     ]
    },
    {
     "name": "stderr",
     "output_type": "stream",
     "text": [
      "INFO:pypsa.optimization.optimize:The shadow-prices of the constraints Generator-ext-p-lower, Generator-ext-p-upper, Link-ext-p-lower, Link-ext-p-upper, Store-ext-e-lower, Store-ext-e-upper, Store-energy_balance were not assigned to the network.\n",
      "INFO:pypsa.io:Exported network network.nc has stores, carriers, loads, buses, generators, links\n",
      "INFO:pypsa.io:Imported network network.nc has buses, carriers, generators, links, loads, stores\n",
      "/home/viktor/code/pypsa-vgr/generator/library/output_files.py:289: FutureWarning:\n",
      "\n",
      "A value is trying to be set on a copy of a DataFrame or Series through chained assignment using an inplace method.\n",
      "The behavior will change in pandas 3.0. This inplace method will never work because the intermediate object on which we are setting values always behaves as a copy.\n",
      "\n",
      "For example, when doing 'df[col].method(value, inplace=True)', try using 'df.method({col: value}, inplace=True)' or df[col] = df[col].method(value) instead, to perform the operation inplace on the original object.\n",
      "\n",
      "\n",
      "\n"
     ]
    },
    {
     "name": "stdout",
     "output_type": "stream",
     "text": [
      "77 out of 120: ('14:1488', 2030, 1, 15, True, True, 300)\n",
      "Create and store parameters\n",
      "Check weather files\n",
      "Check renewables data\n",
      "Create and store demand\n",
      "Create and store network\n",
      "Using config:\n",
      "\th2:True\n",
      "\toffwind:True\n",
      "\tbiogas:600\n"
     ]
    },
    {
     "name": "stderr",
     "output_type": "stream",
     "text": [
      "INFO:pypsa.io:Exported network network.nc has stores, carriers, loads, buses, generators, links\n"
     ]
    },
    {
     "name": "stdout",
     "output_type": "stream",
     "text": [
      "Run optimization\n"
     ]
    },
    {
     "name": "stderr",
     "output_type": "stream",
     "text": [
      "INFO:pypsa.io:Imported network network.nc has buses, carriers, generators, links, loads, stores\n",
      "INFO:linopy.model: Solve problem using Highs solver\n",
      "INFO:linopy.io:Writing objective.\n",
      "Writing constraints.: 100%|\u001b[38;2;128;191;255m██████████\u001b[0m| 17/17 [00:00<00:00, 24.50it/s]\n",
      "Writing continuous variables.: 100%|\u001b[38;2;128;191;255m██████████\u001b[0m| 9/9 [00:00<00:00, 64.29it/s]\n",
      "Writing integer variables.: 100%|\u001b[38;2;128;191;255m██████████\u001b[0m| 2/2 [00:00<00:00, 483.24it/s]\n",
      "INFO:linopy.io: Writing time: 0.89s\n",
      "INFO:linopy.solvers:Log file at /tmp/highs.log\n"
     ]
    },
    {
     "name": "stdout",
     "output_type": "stream",
     "text": [
      "Running HiGHS 1.7.2 (git hash: 184e327): Copyright (c) 2024 HiGHS under MIT licence terms\n"
     ]
    },
    {
     "name": "stderr",
     "output_type": "stream",
     "text": [
      "INFO:linopy.constants: Optimization successful: \n",
      "Status: ok\n",
      "Termination condition: optimal\n",
      "Solution: 46739 primals, 105141 duals\n",
      "Objective: 1.80e+10\n",
      "Solver model: available\n",
      "Solver message: optimal\n",
      "\n"
     ]
    },
    {
     "name": "stdout",
     "output_type": "stream",
     "text": [
      "Coefficient ranges:\n",
      "  Matrix [2e-06, 3e+02]\n",
      "  Cost   [6e+01, 2e+06]\n",
      "  Bound  [0e+00, 0e+00]\n",
      "  RHS    [6e+02, 3e+03]\n",
      "Presolving model\n",
      "47408 rows, 41576 cols, 124759 nonzeros  0s\n",
      "37157 rows, 31325 cols, 114994 nonzeros  0s\n",
      "37081 rows, 31249 cols, 115328 nonzeros  0s\n",
      "\n",
      "Solving MIP model with:\n",
      "   37081 rows\n",
      "   31249 cols (0 binary, 5 integer, 0 implied int., 31244 continuous)\n",
      "   115328 nonzeros\n",
      "\n",
      "        Nodes      |    B&B Tree     |            Objective Bounds              |  Dynamic Constraints |       Work      \n",
      "     Proc. InQueue |  Leaves   Expl. | BestBound       BestSol              Gap |   Cuts   InLp Confl. | LpIters     Time\n",
      "\n",
      "         0       0         0   0.00%   -inf            inf                  inf        0      0      0         0     0.4s\n",
      " S       0       0         0   0.00%   -inf            18013710904.37     Large        0      0      0         0    19.4s\n",
      " R       0       0         0   0.00%   18010947771.57  18010992936.17     0.00%        0      0      0     43606    19.8s\n",
      "\n",
      "Solving report\n",
      "  Status            Optimal\n",
      "  Primal bound      18010992936.2\n",
      "  Dual bound        18010947771.6\n",
      "  Gap               0.000251% (tolerance: 0.01%)\n",
      "  Solution status   feasible\n",
      "                    18010992936.2 (objective)\n",
      "                    0 (bound viol.)\n",
      "                    2.54239915916e-17 (int. viol.)\n",
      "                    0 (row viol.)\n",
      "  Timing            19.87 (total)\n",
      "                    0.34 (presolve)\n",
      "                    0.00 (postsolve)\n",
      "  Nodes             1\n",
      "  LP iterations     43606 (total)\n",
      "                    0 (strong br.)\n",
      "                    0 (separation)\n",
      "                    0 (heuristics)\n",
      "Writing the solution to /tmp/linopy-solve-z60z7lo8.sol\n"
     ]
    },
    {
     "name": "stderr",
     "output_type": "stream",
     "text": [
      "INFO:pypsa.optimization.optimize:The shadow-prices of the constraints Generator-ext-p-lower, Generator-ext-p-upper, Link-ext-p-lower, Link-ext-p-upper, Store-ext-e-lower, Store-ext-e-upper, Store-energy_balance were not assigned to the network.\n",
      "INFO:pypsa.io:Exported network network.nc has stores, carriers, loads, buses, generators, links\n",
      "INFO:pypsa.io:Imported network network.nc has buses, carriers, generators, links, loads, stores\n",
      "/home/viktor/code/pypsa-vgr/generator/library/output_files.py:289: FutureWarning:\n",
      "\n",
      "A value is trying to be set on a copy of a DataFrame or Series through chained assignment using an inplace method.\n",
      "The behavior will change in pandas 3.0. This inplace method will never work because the intermediate object on which we are setting values always behaves as a copy.\n",
      "\n",
      "For example, when doing 'df[col].method(value, inplace=True)', try using 'df.method({col: value}, inplace=True)' or df[col] = df[col].method(value) instead, to perform the operation inplace on the original object.\n",
      "\n",
      "\n",
      "\n"
     ]
    },
    {
     "name": "stdout",
     "output_type": "stream",
     "text": [
      "78 out of 120: ('14:1488', 2030, 1, 15, True, True, 600)\n",
      "Create and store parameters\n",
      "Check weather files\n",
      "Check renewables data\n",
      "Create and store demand\n",
      "Create and store network\n",
      "Using config:\n",
      "\th2:True\n",
      "\toffwind:True\n",
      "\tbiogas:1200\n"
     ]
    },
    {
     "name": "stderr",
     "output_type": "stream",
     "text": [
      "INFO:pypsa.io:Exported network network.nc has stores, carriers, loads, buses, generators, links\n"
     ]
    },
    {
     "name": "stdout",
     "output_type": "stream",
     "text": [
      "Run optimization\n"
     ]
    },
    {
     "name": "stderr",
     "output_type": "stream",
     "text": [
      "INFO:pypsa.io:Imported network network.nc has buses, carriers, generators, links, loads, stores\n",
      "INFO:linopy.model: Solve problem using Highs solver\n",
      "INFO:linopy.io:Writing objective.\n",
      "Writing constraints.: 100%|\u001b[38;2;128;191;255m██████████\u001b[0m| 17/17 [00:00<00:00, 23.08it/s]\n",
      "Writing continuous variables.: 100%|\u001b[38;2;128;191;255m██████████\u001b[0m| 9/9 [00:00<00:00, 61.16it/s]\n",
      "Writing integer variables.: 100%|\u001b[38;2;128;191;255m██████████\u001b[0m| 2/2 [00:00<00:00, 423.28it/s]\n",
      "INFO:linopy.io: Writing time: 0.94s\n",
      "INFO:linopy.solvers:Log file at /tmp/highs.log\n"
     ]
    },
    {
     "name": "stdout",
     "output_type": "stream",
     "text": [
      "Running HiGHS 1.7.2 (git hash: 184e327): Copyright (c) 2024 HiGHS under MIT licence terms\n"
     ]
    },
    {
     "name": "stderr",
     "output_type": "stream",
     "text": [
      "INFO:linopy.constants: Optimization successful: \n",
      "Status: ok\n",
      "Termination condition: optimal\n",
      "Solution: 46739 primals, 105141 duals\n",
      "Objective: 1.60e+10\n",
      "Solver model: available\n",
      "Solver message: optimal\n",
      "\n",
      "INFO:pypsa.optimization.optimize:The shadow-prices of the constraints Generator-ext-p-lower, Generator-ext-p-upper, Link-ext-p-lower, Link-ext-p-upper, Store-ext-e-lower, Store-ext-e-upper, Store-energy_balance were not assigned to the network.\n"
     ]
    },
    {
     "name": "stdout",
     "output_type": "stream",
     "text": [
      "Coefficient ranges:\n",
      "  Matrix [2e-06, 3e+02]\n",
      "  Cost   [6e+01, 2e+06]\n",
      "  Bound  [0e+00, 0e+00]\n",
      "  RHS    [1e+03, 3e+03]\n",
      "Presolving model\n",
      "47408 rows, 41576 cols, 124759 nonzeros  0s\n",
      "37157 rows, 31325 cols, 114994 nonzeros  0s\n",
      "37081 rows, 31249 cols, 115328 nonzeros  0s\n",
      "\n",
      "Solving MIP model with:\n",
      "   37081 rows\n",
      "   31249 cols (0 binary, 5 integer, 0 implied int., 31244 continuous)\n",
      "   115328 nonzeros\n",
      "\n",
      "        Nodes      |    B&B Tree     |            Objective Bounds              |  Dynamic Constraints |       Work      \n",
      "     Proc. InQueue |  Leaves   Expl. | BestBound       BestSol              Gap |   Cuts   InLp Confl. | LpIters     Time\n",
      "\n",
      "         0       0         0   0.00%   -inf            inf                  inf        0      0      0         0     0.4s\n",
      " S       0       0         0   0.00%   -inf            15970030766.71     Large        0      0      0         0    20.0s\n",
      " R       0       0         0   0.00%   15968267252.49  15968277566.97     0.00%        0      0      0     47069    20.2s\n",
      "\n",
      "Solving report\n",
      "  Status            Optimal\n",
      "  Primal bound      15968277567\n",
      "  Dual bound        15968267252.5\n",
      "  Gap               6.5e-05% (tolerance: 0.01%)\n",
      "  Solution status   feasible\n",
      "                    15968277567 (objective)\n",
      "                    0 (bound viol.)\n",
      "                    0 (int. viol.)\n",
      "                    0 (row viol.)\n",
      "  Timing            20.27 (total)\n",
      "                    0.33 (presolve)\n",
      "                    0.00 (postsolve)\n",
      "  Nodes             1\n",
      "  LP iterations     47069 (total)\n",
      "                    0 (strong br.)\n",
      "                    0 (separation)\n",
      "                    0 (heuristics)\n",
      "Writing the solution to /tmp/linopy-solve-ckmfl2vd.sol\n"
     ]
    },
    {
     "name": "stderr",
     "output_type": "stream",
     "text": [
      "INFO:pypsa.io:Exported network network.nc has stores, carriers, loads, buses, generators, links\n",
      "INFO:pypsa.io:Imported network network.nc has buses, carriers, generators, links, loads, stores\n",
      "/home/viktor/code/pypsa-vgr/generator/library/output_files.py:289: FutureWarning:\n",
      "\n",
      "A value is trying to be set on a copy of a DataFrame or Series through chained assignment using an inplace method.\n",
      "The behavior will change in pandas 3.0. This inplace method will never work because the intermediate object on which we are setting values always behaves as a copy.\n",
      "\n",
      "For example, when doing 'df[col].method(value, inplace=True)', try using 'df.method({col: value}, inplace=True)' or df[col] = df[col].method(value) instead, to perform the operation inplace on the original object.\n",
      "\n",
      "\n",
      "\n"
     ]
    },
    {
     "name": "stdout",
     "output_type": "stream",
     "text": [
      "79 out of 120: ('14:1488', 2030, 1, 15, True, True, 1200)\n",
      "Create and store parameters\n",
      "Check weather files\n",
      "Check renewables data\n",
      "Create and store demand\n",
      "Create and store network\n",
      "Using config:\n",
      "\th2:True\n",
      "\toffwind:True\n",
      "\tbiogas:1800\n"
     ]
    },
    {
     "name": "stderr",
     "output_type": "stream",
     "text": [
      "INFO:pypsa.io:Exported network network.nc has stores, carriers, loads, buses, generators, links\n"
     ]
    },
    {
     "name": "stdout",
     "output_type": "stream",
     "text": [
      "Run optimization\n"
     ]
    },
    {
     "name": "stderr",
     "output_type": "stream",
     "text": [
      "INFO:pypsa.io:Imported network network.nc has buses, carriers, generators, links, loads, stores\n",
      "INFO:linopy.model: Solve problem using Highs solver\n",
      "INFO:linopy.io:Writing objective.\n",
      "Writing constraints.: 100%|\u001b[38;2;128;191;255m██████████\u001b[0m| 17/17 [00:00<00:00, 28.31it/s]\n",
      "Writing continuous variables.: 100%|\u001b[38;2;128;191;255m██████████\u001b[0m| 9/9 [00:00<00:00, 81.06it/s]\n",
      "Writing integer variables.: 100%|\u001b[38;2;128;191;255m██████████\u001b[0m| 2/2 [00:00<00:00, 479.21it/s]\n",
      "INFO:linopy.io: Writing time: 0.76s\n",
      "INFO:linopy.solvers:Log file at /tmp/highs.log\n"
     ]
    },
    {
     "name": "stdout",
     "output_type": "stream",
     "text": [
      "Running HiGHS 1.7.2 (git hash: 184e327): Copyright (c) 2024 HiGHS under MIT licence terms\n"
     ]
    },
    {
     "name": "stderr",
     "output_type": "stream",
     "text": [
      "INFO:linopy.constants: Optimization successful: \n",
      "Status: ok\n",
      "Termination condition: optimal\n",
      "Solution: 46739 primals, 105141 duals\n",
      "Objective: 1.44e+10\n",
      "Solver model: available\n",
      "Solver message: optimal\n",
      "\n",
      "INFO:pypsa.optimization.optimize:The shadow-prices of the constraints Generator-ext-p-lower, Generator-ext-p-upper, Link-ext-p-lower, Link-ext-p-upper, Store-ext-e-lower, Store-ext-e-upper, Store-energy_balance were not assigned to the network.\n"
     ]
    },
    {
     "name": "stdout",
     "output_type": "stream",
     "text": [
      "Coefficient ranges:\n",
      "  Matrix [2e-06, 3e+02]\n",
      "  Cost   [6e+01, 2e+06]\n",
      "  Bound  [0e+00, 0e+00]\n",
      "  RHS    [1e+03, 3e+03]\n",
      "Presolving model\n",
      "47408 rows, 41576 cols, 124759 nonzeros  0s\n",
      "37157 rows, 31325 cols, 114994 nonzeros  0s\n",
      "37081 rows, 31249 cols, 115328 nonzeros  0s\n",
      "\n",
      "Solving MIP model with:\n",
      "   37081 rows\n",
      "   31249 cols (0 binary, 5 integer, 0 implied int., 31244 continuous)\n",
      "   115328 nonzeros\n",
      "\n",
      "        Nodes      |    B&B Tree     |            Objective Bounds              |  Dynamic Constraints |       Work      \n",
      "     Proc. InQueue |  Leaves   Expl. | BestBound       BestSol              Gap |   Cuts   InLp Confl. | LpIters     Time\n",
      "\n",
      "         0       0         0   0.00%   -inf            inf                  inf        0      0      0         0     0.3s\n",
      " S       0       0         0   0.00%   -inf            14410701067.5      Large        0      0      0         0    24.9s\n",
      " R       0       0         0   0.00%   14406168949.3   14406171885.92     0.00%        0      0      0     60420    25.0s\n",
      "\n",
      "Solving report\n",
      "  Status            Optimal\n",
      "  Primal bound      14406171885.9\n",
      "  Dual bound        14406168949.3\n",
      "  Gap               2e-05% (tolerance: 0.01%)\n",
      "  Solution status   feasible\n",
      "                    14406171885.9 (objective)\n",
      "                    0 (bound viol.)\n",
      "                    0 (int. viol.)\n",
      "                    0 (row viol.)\n",
      "  Timing            25.05 (total)\n",
      "                    0.31 (presolve)\n",
      "                    0.00 (postsolve)\n",
      "  Nodes             1\n",
      "  LP iterations     60420 (total)\n",
      "                    0 (strong br.)\n",
      "                    0 (separation)\n",
      "                    0 (heuristics)\n",
      "Writing the solution to /tmp/linopy-solve-vyb8601j.sol\n"
     ]
    },
    {
     "name": "stderr",
     "output_type": "stream",
     "text": [
      "INFO:pypsa.io:Exported network network.nc has stores, carriers, loads, buses, generators, links\n",
      "INFO:pypsa.io:Imported network network.nc has buses, carriers, generators, links, loads, stores\n",
      "/home/viktor/code/pypsa-vgr/generator/library/output_files.py:289: FutureWarning:\n",
      "\n",
      "A value is trying to be set on a copy of a DataFrame or Series through chained assignment using an inplace method.\n",
      "The behavior will change in pandas 3.0. This inplace method will never work because the intermediate object on which we are setting values always behaves as a copy.\n",
      "\n",
      "For example, when doing 'df[col].method(value, inplace=True)', try using 'df.method({col: value}, inplace=True)' or df[col] = df[col].method(value) instead, to perform the operation inplace on the original object.\n",
      "\n",
      "\n",
      "\n"
     ]
    },
    {
     "name": "stdout",
     "output_type": "stream",
     "text": [
      "80 out of 120: ('14:1488', 2030, 1, 15, True, True, 1800)\n",
      "Create and store parameters\n",
      "Check weather files\n",
      "Check renewables data\n",
      "Create and store demand\n",
      "Create and store network\n",
      "Using config:\n",
      "\th2:True\n",
      "\toffwind:True\n",
      "\tbiogas:0\n"
     ]
    },
    {
     "name": "stderr",
     "output_type": "stream",
     "text": [
      "INFO:pypsa.io:Exported network network.nc has stores, carriers, loads, buses, generators, links\n",
      "INFO:pypsa.io:Imported network network.nc has buses, carriers, generators, links, loads, stores\n"
     ]
    },
    {
     "name": "stdout",
     "output_type": "stream",
     "text": [
      "Run optimization\n"
     ]
    },
    {
     "name": "stderr",
     "output_type": "stream",
     "text": [
      "INFO:linopy.model: Solve problem using Highs solver\n",
      "INFO:linopy.io:Writing objective.\n",
      "Writing constraints.: 100%|\u001b[38;2;128;191;255m██████████\u001b[0m| 17/17 [00:00<00:00, 28.03it/s]\n",
      "Writing continuous variables.: 100%|\u001b[38;2;128;191;255m██████████\u001b[0m| 9/9 [00:00<00:00, 79.97it/s]\n",
      "Writing integer variables.: 100%|\u001b[38;2;128;191;255m██████████\u001b[0m| 2/2 [00:00<00:00, 462.74it/s]\n",
      "INFO:linopy.io: Writing time: 0.77s\n",
      "INFO:linopy.solvers:Log file at /tmp/highs.log\n"
     ]
    },
    {
     "name": "stdout",
     "output_type": "stream",
     "text": [
      "Running HiGHS 1.7.2 (git hash: 184e327): Copyright (c) 2024 HiGHS under MIT licence terms\n",
      "Coefficient ranges:\n",
      "  Matrix [1e-07, 3e+02]\n",
      "  Cost   [6e+01, 2e+06]\n",
      "  Bound  [0e+00, 0e+00]\n",
      "  RHS    [3e+01, 9e+01]\n",
      "Presolving model\n",
      "45218 rows, 36466 cols, 118134 nonzeros  0s\n",
      "37933 rows, 29181 cols, 111748 nonzeros  0s\n",
      "37933 rows, 29181 cols, 111748 nonzeros  0s\n",
      "\n",
      "Solving MIP model with:\n",
      "   37933 rows\n",
      "   29181 cols (0 binary, 5 integer, 0 implied int., 29176 continuous)\n",
      "   111748 nonzeros\n",
      "\n",
      "        Nodes      |    B&B Tree     |            Objective Bounds              |  Dynamic Constraints |       Work      \n",
      "     Proc. InQueue |  Leaves   Expl. | BestBound       BestSol              Gap |   Cuts   InLp Confl. | LpIters     Time\n",
      "\n",
      "         0       0         0   0.00%   -inf            inf                  inf        0      0      0         0     0.3s\n",
      " S       0       0         0   0.00%   -inf            595831619.5759     Large        0      0      0         0     5.9s\n",
      " R       0       0         0   0.00%   592621930.6415  592960956.3208     0.06%        0      0      0     32891     6.2s\n",
      "\n",
      "60.0% inactive integer columns, restarting\n",
      "Model after restart has 21404 rows, 15568 cols (0 bin., 2 int., 0 i"
     ]
    },
    {
     "name": "stderr",
     "output_type": "stream",
     "text": [
      "INFO:linopy.constants: Optimization successful: \n",
      "Status: ok\n",
      "Termination condition: optimal\n",
      "Solution: 40897 primals, 90538 duals\n",
      "Objective: 5.93e+08\n",
      "Solver model: available\n",
      "Solver message: optimal\n",
      "\n",
      "INFO:pypsa.optimization.optimize:The shadow-prices of the constraints Generator-ext-p-lower, Generator-ext-p-upper, Link-ext-p-lower, Link-ext-p-upper, Store-ext-e-lower, Store-ext-e-upper, Store-energy_balance were not assigned to the network.\n"
     ]
    },
    {
     "name": "stdout",
     "output_type": "stream",
     "text": [
      "mpl., 15566 cont.), and 66648 nonzeros\n",
      "\n",
      "         0       0         0   0.00%   592621930.6415  592960956.3208     0.06%        0      0      0     32891     6.4s\n",
      " R       0       0         0   0.00%   592621930.6415  592679994.6839     0.01%        0      0      0     34890     7.4s\n",
      "\n",
      "Solving report\n",
      "  Status            Optimal\n",
      "  Primal bound      592679994.684\n",
      "  Dual bound        592621930.641\n",
      "  Gap               0.0098% (tolerance: 0.01%)\n",
      "  Solution status   feasible\n",
      "                    592679994.684 (objective)\n",
      "                    0 (bound viol.)\n",
      "                    0 (int. viol.)\n",
      "                    0 (row viol.)\n",
      "  Timing            7.38 (total)\n",
      "                    0.40 (presolve)\n",
      "                    0.00 (postsolve)\n",
      "  Nodes             1\n",
      "  LP iterations     34890 (total)\n",
      "                    0 (strong br.)\n",
      "                    0 (separation)\n",
      "                    0 (heuristics)\n",
      "Writing the solution to /tmp/linopy-solve-mc4js5xc.sol\n"
     ]
    },
    {
     "name": "stderr",
     "output_type": "stream",
     "text": [
      "INFO:pypsa.io:Exported network network.nc has stores, carriers, loads, buses, generators, links\n",
      "INFO:pypsa.io:Imported network network.nc has buses, carriers, generators, links, loads, stores\n",
      "/home/viktor/code/pypsa-vgr/generator/library/output_files.py:289: FutureWarning:\n",
      "\n",
      "A value is trying to be set on a copy of a DataFrame or Series through chained assignment using an inplace method.\n",
      "The behavior will change in pandas 3.0. This inplace method will never work because the intermediate object on which we are setting values always behaves as a copy.\n",
      "\n",
      "For example, when doing 'df[col].method(value, inplace=True)', try using 'df.method({col: value}, inplace=True)' or df[col] = df[col].method(value) instead, to perform the operation inplace on the original object.\n",
      "\n",
      "\n",
      "\n"
     ]
    },
    {
     "name": "stdout",
     "output_type": "stream",
     "text": [
      "81 out of 120: ('14:1460-1438-1439-1484-1461-1430-1421-1427-1486-1435-1488-1485-1487-1492', 2030, 1, 0.5, True, True, 0)\n",
      "Create and store parameters\n",
      "Check weather files\n",
      "Check renewables data\n",
      "Create and store demand\n",
      "Create and store network\n",
      "Using config:\n",
      "\th2:True\n",
      "\toffwind:True\n",
      "\tbiogas:300\n"
     ]
    },
    {
     "name": "stderr",
     "output_type": "stream",
     "text": [
      "INFO:pypsa.io:Exported network network.nc has stores, carriers, loads, buses, generators, links\n"
     ]
    },
    {
     "name": "stdout",
     "output_type": "stream",
     "text": [
      "Run optimization\n"
     ]
    },
    {
     "name": "stderr",
     "output_type": "stream",
     "text": [
      "INFO:pypsa.io:Imported network network.nc has buses, carriers, generators, links, loads, stores\n",
      "INFO:linopy.model: Solve problem using Highs solver\n",
      "INFO:linopy.io:Writing objective.\n",
      "Writing constraints.: 100%|\u001b[38;2;128;191;255m██████████\u001b[0m| 17/17 [00:00<00:00, 28.02it/s]\n",
      "Writing continuous variables.: 100%|\u001b[38;2;128;191;255m██████████\u001b[0m| 9/9 [00:00<00:00, 75.22it/s]\n",
      "Writing integer variables.: 100%|\u001b[38;2;128;191;255m██████████\u001b[0m| 2/2 [00:00<00:00, 630.82it/s]\n",
      "INFO:linopy.io: Writing time: 0.78s\n",
      "INFO:linopy.solvers:Log file at /tmp/highs.log\n"
     ]
    },
    {
     "name": "stdout",
     "output_type": "stream",
     "text": [
      "Running HiGHS 1.7.2 (git hash: 184e327): Copyright (c) 2024 HiGHS under MIT licence terms\n",
      "Coefficient ranges:\n",
      "  Matrix [1e-07, 3e+02]\n",
      "  Cost   [6e+01, 2e+06]\n",
      "  Bound  [0e+00, 0e+00]\n",
      "  RHS    [3e+01, 3e+02]\n",
      "Presolving model\n",
      "48138 rows, 42306 cols, 126894 nonzeros  0s\n",
      "38013 rows, 32181 cols, 117204 nonzeros  0s\n",
      "37933 rows, 32101 cols, 117560 nonzeros  0s\n",
      "\n",
      "Solving MIP model with:\n",
      "   37933 rows\n",
      "   32101 cols (0 binary, 5 integer, 0 implied int., 32096 continuous)\n",
      "   117560 nonzeros\n",
      "\n",
      "        Nodes      |    B&B Tree     |            Objective Bounds              |  Dynamic Constraints |       Work      \n",
      "     Proc. InQueue |  Leaves   Expl. | BestBound       BestSol              Gap |   Cuts   InLp Confl. | LpIters     Time\n",
      "\n",
      "         0       0         0   0.00%   -inf            inf                  inf        0      0      0         0     0.3s\n",
      " S       0       0         0   0.00%   -inf            670649585.6707     Large        0      0      0         0    18.1s\n",
      " R       0       0         0   0.00%   522724287.6219  617893316.0198    15.40%        0      0      0     55312    20.5s\n",
      "         0       0         0   0.00%   522724560.255   617893316.0198    15.40%       44      6      0     55321    26.4s\n",
      " L       0       0         0   0.00%   522724638.0446  592679499.8758    11.80%       44     19      0     55335    71.7s\n",
      "         1       0         1 100.00%   592621930.6415  592679499.8758     0.01%       44     18      0    111038    84.2s\n",
      "\n",
      "Solving report\n",
      "  Status            Optimal\n",
      "  Primal bound      592679499.876\n",
      "  Dual bound        592621930.641\n",
      "  Gap               0.00971% (tolerance: 0.01%)\n",
      "  Solution status   feasible\n",
      "                    592679499.876 (objective)\n",
      "                    0 (bound viol.)\n",
      "                    0 (int. viol.)\n",
      "                    0 (row viol.)\n",
      "  Timing            84.19 (total)\n",
      "                    0.28 (presolve)\n",
      "                    0.00 (postsolve)\n",
      "  Nodes             1\n",
      "  LP iterations     111038 (total)\n",
      "                    6953 (strong br.)\n",
      "                    24 (separation)\n",
      "                    38893 (heuristics)\n",
      "Writing the solution to /tmp/linopy-solve-m3ni5sox.sol\n"
     ]
    },
    {
     "name": "stderr",
     "output_type": "stream",
     "text": [
      "INFO:linopy.constants: Optimization successful: \n",
      "Status: ok\n",
      "Termination condition: optimal\n",
      "Solution: 46739 primals, 105141 duals\n",
      "Objective: 5.93e+08\n",
      "Solver model: available\n",
      "Solver message: optimal\n",
      "\n",
      "INFO:pypsa.optimization.optimize:The shadow-prices of the constraints Generator-ext-p-lower, Generator-ext-p-upper, Link-ext-p-lower, Link-ext-p-upper, Store-ext-e-lower, Store-ext-e-upper, Store-energy_balance were not assigned to the network.\n",
      "INFO:pypsa.io:Exported network network.nc has stores, carriers, loads, buses, generators, links\n",
      "INFO:pypsa.io:Imported network network.nc has buses, carriers, generators, links, loads, stores\n",
      "/home/viktor/code/pypsa-vgr/generator/library/output_files.py:255: RuntimeWarning:\n",
      "\n",
      "invalid value encountered in scalar divide\n",
      "\n",
      "/home/viktor/code/pypsa-vgr/generator/library/output_files.py:289: FutureWarning:\n",
      "\n",
      "A value is trying to be set on a copy of a DataFrame or Series through chained assignment using an inplace method.\n",
      "The behavior will change in pandas 3.0. This inplace method will never work because the intermediate object on which we are setting values always behaves as a copy.\n",
      "\n",
      "For example, when doing 'df[col].method(value, inplace=True)', try using 'df.method({col: value}, inplace=True)' or df[col] = df[col].method(value) instead, to perform the operation inplace on the original object.\n",
      "\n",
      "\n",
      "\n"
     ]
    },
    {
     "name": "stdout",
     "output_type": "stream",
     "text": [
      "82 out of 120: ('14:1460-1438-1439-1484-1461-1430-1421-1427-1486-1435-1488-1485-1487-1492', 2030, 1, 0.5, True, True, 300)\n",
      "Create and store parameters\n",
      "Check weather files\n",
      "Check renewables data\n",
      "Create and store demand\n",
      "Create and store network\n",
      "Using config:\n",
      "\th2:True\n",
      "\toffwind:True\n",
      "\tbiogas:600\n"
     ]
    },
    {
     "name": "stderr",
     "output_type": "stream",
     "text": [
      "INFO:pypsa.io:Exported network network.nc has stores, carriers, loads, buses, generators, links\n"
     ]
    },
    {
     "name": "stdout",
     "output_type": "stream",
     "text": [
      "Run optimization\n"
     ]
    },
    {
     "name": "stderr",
     "output_type": "stream",
     "text": [
      "INFO:pypsa.io:Imported network network.nc has buses, carriers, generators, links, loads, stores\n",
      "INFO:linopy.model: Solve problem using Highs solver\n",
      "INFO:linopy.io:Writing objective.\n",
      "Writing constraints.: 100%|\u001b[38;2;128;191;255m██████████\u001b[0m| 17/17 [00:00<00:00, 29.53it/s]\n",
      "Writing continuous variables.: 100%|\u001b[38;2;128;191;255m██████████\u001b[0m| 9/9 [00:00<00:00, 89.05it/s]\n",
      "Writing integer variables.: 100%|\u001b[38;2;128;191;255m██████████\u001b[0m| 2/2 [00:00<00:00, 659.90it/s]\n",
      "INFO:linopy.io: Writing time: 0.72s\n",
      "INFO:linopy.solvers:Log file at /tmp/highs.log\n"
     ]
    },
    {
     "name": "stdout",
     "output_type": "stream",
     "text": [
      "Running HiGHS 1.7.2 (git hash: 184e327): Copyright (c) 2024 HiGHS under MIT licence terms\n",
      "Coefficient ranges:\n",
      "  Matrix [1e-07, 3e+02]\n",
      "  Cost   [6e+01, 2e+06]\n",
      "  Bound  [0e+00, 0e+00]\n",
      "  RHS    [3e+01, 6e+02]\n"
     ]
    },
    {
     "name": "stderr",
     "output_type": "stream",
     "text": [
      "INFO:linopy.constants: Optimization successful: \n",
      "Status: ok\n",
      "Termination condition: optimal\n",
      "Solution: 46739 primals, 105141 duals\n",
      "Objective: 5.93e+08\n",
      "Solver model: available\n",
      "Solver message: optimal\n",
      "\n",
      "INFO:pypsa.optimization.optimize:The shadow-prices of the constraints Generator-ext-p-lower, Generator-ext-p-upper, Link-ext-p-lower, Link-ext-p-upper, Store-ext-e-lower, Store-ext-e-upper, Store-energy_balance were not assigned to the network.\n"
     ]
    },
    {
     "name": "stdout",
     "output_type": "stream",
     "text": [
      "Presolving model\n",
      "48138 rows, 42306 cols, 126894 nonzeros  0s\n",
      "38013 rows, 32181 cols, 117204 nonzeros  0s\n",
      "37933 rows, 32101 cols, 117560 nonzeros  0s\n",
      "\n",
      "Solving MIP model with:\n",
      "   37933 rows\n",
      "   32101 cols (0 binary, 5 integer, 0 implied int., 32096 continuous)\n",
      "   117560 nonzeros\n",
      "\n",
      "        Nodes      |    B&B Tree     |            Objective Bounds              |  Dynamic Constraints |       Work      \n",
      "     Proc. InQueue |  Leaves   Expl. | BestBound       BestSol              Gap |   Cuts   InLp Confl. | LpIters     Time\n",
      "\n",
      "         0       0         0   0.00%   -inf            inf                  inf        0      0      0         0     0.4s\n",
      " S       0       0         0   0.00%   -inf            670649585.6707     Large        0      0      0         0    16.0s\n",
      " R       0       0         0   0.00%   522724287.6219  617893316.0198    15.40%        0      0      0     55312    18.2s\n",
      "         0       0         0   0.00%   522724560.255   617893316.0198    15.40%       44      6      0     55321    23.7s\n",
      " L       0       0         0   0.00%   522724638.0446  592679499.8758    11.80%       44     19      0     55335    66.7s\n",
      "         1       0         1 100.00%   592621930.6415  592679499.8758     0.01%       44     18      0    111038    79.6s\n",
      "\n",
      "Solving report\n",
      "  Status            Optimal\n",
      "  Primal bound      592679499.876\n",
      "  Dual bound        592621930.641\n",
      "  Gap               0.00971% (tolerance: 0.01%)\n",
      "  Solution status   feasible\n",
      "                    592679499.876 (objective)\n",
      "                    0 (bound viol.)\n",
      "                    0 (int. viol.)\n",
      "                    0 (row viol.)\n",
      "  Timing            79.55 (total)\n",
      "                    0.30 (presolve)\n",
      "                    0.00 (postsolve)\n",
      "  Nodes             1\n",
      "  LP iterations     111038 (total)\n",
      "                    6953 (strong br.)\n",
      "                    24 (separation)\n",
      "                    38893 (heuristics)\n",
      "Writing the solution to /tmp/linopy-solve-jar51320.sol\n"
     ]
    },
    {
     "name": "stderr",
     "output_type": "stream",
     "text": [
      "INFO:pypsa.io:Exported network network.nc has stores, carriers, loads, buses, generators, links\n",
      "INFO:pypsa.io:Imported network network.nc has buses, carriers, generators, links, loads, stores\n",
      "/home/viktor/code/pypsa-vgr/generator/library/output_files.py:255: RuntimeWarning:\n",
      "\n",
      "invalid value encountered in scalar divide\n",
      "\n",
      "/home/viktor/code/pypsa-vgr/generator/library/output_files.py:289: FutureWarning:\n",
      "\n",
      "A value is trying to be set on a copy of a DataFrame or Series through chained assignment using an inplace method.\n",
      "The behavior will change in pandas 3.0. This inplace method will never work because the intermediate object on which we are setting values always behaves as a copy.\n",
      "\n",
      "For example, when doing 'df[col].method(value, inplace=True)', try using 'df.method({col: value}, inplace=True)' or df[col] = df[col].method(value) instead, to perform the operation inplace on the original object.\n",
      "\n",
      "\n",
      "\n"
     ]
    },
    {
     "name": "stdout",
     "output_type": "stream",
     "text": [
      "83 out of 120: ('14:1460-1438-1439-1484-1461-1430-1421-1427-1486-1435-1488-1485-1487-1492', 2030, 1, 0.5, True, True, 600)\n",
      "Create and store parameters\n",
      "Check weather files\n",
      "Check renewables data\n",
      "Create and store demand\n",
      "Create and store network\n",
      "Using config:\n",
      "\th2:True\n",
      "\toffwind:True\n",
      "\tbiogas:1200\n"
     ]
    },
    {
     "name": "stderr",
     "output_type": "stream",
     "text": [
      "INFO:pypsa.io:Exported network network.nc has stores, carriers, loads, buses, generators, links\n"
     ]
    },
    {
     "name": "stdout",
     "output_type": "stream",
     "text": [
      "Run optimization\n"
     ]
    },
    {
     "name": "stderr",
     "output_type": "stream",
     "text": [
      "INFO:pypsa.io:Imported network network.nc has buses, carriers, generators, links, loads, stores\n",
      "INFO:linopy.model: Solve problem using Highs solver\n",
      "INFO:linopy.io:Writing objective.\n",
      "Writing constraints.: 100%|\u001b[38;2;128;191;255m██████████\u001b[0m| 17/17 [00:00<00:00, 29.99it/s]\n",
      "Writing continuous variables.: 100%|\u001b[38;2;128;191;255m██████████\u001b[0m| 9/9 [00:00<00:00, 86.84it/s]\n",
      "Writing integer variables.: 100%|\u001b[38;2;128;191;255m██████████\u001b[0m| 2/2 [00:00<00:00, 591.16it/s]\n",
      "INFO:linopy.io: Writing time: 0.72s\n",
      "INFO:linopy.solvers:Log file at /tmp/highs.log\n"
     ]
    },
    {
     "name": "stdout",
     "output_type": "stream",
     "text": [
      "Running HiGHS 1.7.2 (git hash: 184e327): Copyright (c) 2024 HiGHS under MIT licence terms\n",
      "Coefficient ranges:\n",
      "  Matrix [1e-07, 3e+02]\n",
      "  Cost   [6e+01, 2e+06]\n",
      "  Bound  [0e+00, 0e+00]\n",
      "  RHS    [3e+01, 1e+03]\n",
      "Presolving model\n",
      "48138 rows, 42306 cols, 126894 nonzeros  0s\n",
      "38013 rows, 32181 cols, 117204 nonzeros  0s\n",
      "37933 rows, 32101 cols, 117560 nonzeros  0s\n",
      "\n",
      "Solving MIP model with:\n",
      "   37933 rows\n",
      "   32101 cols (0 binary, 5 integer, 0 implied int., 32096 continuous)\n",
      "   117560 nonzeros\n",
      "\n",
      "        Nodes      |    B&B Tree     |            Objective Bounds              |  Dynamic Constraints |       Work      \n",
      "     Proc. InQueue |  Leaves   Expl. | BestBound       BestSol              Gap |   Cuts   InLp Confl. | LpIters     Time\n",
      "\n",
      "         0       0         0   0.00%   -inf            inf                  inf        0      0      0         0     0.3s\n",
      " S       0       0         0   0.00%   -inf            670649585.6707     Large        0      0      0         0    17.0s\n",
      " R       0       0         0   0.00%   522724287.6219  617893316.0198    15.40%        0      0      0     55312    19.4s\n",
      "         0       0         0   0.00%   522724560.255   617893316.0198    15.40%       44      6      0     55321    25.1s\n",
      " L       0       0         0   0.00%   522724638.0446  592679499.8758    11.80%       44     19      0     55335    72.5s\n",
      "         1       0         1 100.00%   592621930.6415  592679499.8758     0.01%       44     18      0    111038    86.7s\n",
      "\n",
      "Solving report\n",
      "  Status            Optimal\n",
      "  Primal bound      592679499.876\n",
      "  Dual bound        592621930.641\n",
      "  Gap               0.00971% (tolerance: 0.01%)\n",
      "  Solution status   feasible\n",
      "                    592679499.876 (objective)\n",
      "                    0 (bound viol.)\n",
      "                    0 (int. viol.)\n",
      "                    0 (row viol.)\n",
      "  Timing            86.71 (total)\n",
      "                    0.26 (presolve)\n",
      "                    0.00 (postsolve)\n",
      "  Nodes             1\n",
      "  LP iterations     111038 (total)\n",
      "                    6953 (strong br.)\n",
      "                    24 (separation)\n",
      "                    38893 (heuristics)\n"
     ]
    },
    {
     "name": "stderr",
     "output_type": "stream",
     "text": [
      "INFO:linopy.constants: Optimization successful: \n",
      "Status: ok\n",
      "Termination condition: optimal\n",
      "Solution: 46739 primals, 105141 duals\n",
      "Objective: 5.93e+08\n",
      "Solver model: available\n",
      "Solver message: optimal\n",
      "\n",
      "INFO:pypsa.optimization.optimize:The shadow-prices of the constraints Generator-ext-p-lower, Generator-ext-p-upper, Link-ext-p-lower, Link-ext-p-upper, Store-ext-e-lower, Store-ext-e-upper, Store-energy_balance were not assigned to the network.\n"
     ]
    },
    {
     "name": "stdout",
     "output_type": "stream",
     "text": [
      "Writing the solution to /tmp/linopy-solve-mnnyvy26.sol\n"
     ]
    },
    {
     "name": "stderr",
     "output_type": "stream",
     "text": [
      "INFO:pypsa.io:Exported network network.nc has stores, carriers, loads, buses, generators, links\n",
      "INFO:pypsa.io:Imported network network.nc has buses, carriers, generators, links, loads, stores\n",
      "/home/viktor/code/pypsa-vgr/generator/library/output_files.py:255: RuntimeWarning:\n",
      "\n",
      "invalid value encountered in scalar divide\n",
      "\n",
      "/home/viktor/code/pypsa-vgr/generator/library/output_files.py:289: FutureWarning:\n",
      "\n",
      "A value is trying to be set on a copy of a DataFrame or Series through chained assignment using an inplace method.\n",
      "The behavior will change in pandas 3.0. This inplace method will never work because the intermediate object on which we are setting values always behaves as a copy.\n",
      "\n",
      "For example, when doing 'df[col].method(value, inplace=True)', try using 'df.method({col: value}, inplace=True)' or df[col] = df[col].method(value) instead, to perform the operation inplace on the original object.\n",
      "\n",
      "\n",
      "\n"
     ]
    },
    {
     "name": "stdout",
     "output_type": "stream",
     "text": [
      "84 out of 120: ('14:1460-1438-1439-1484-1461-1430-1421-1427-1486-1435-1488-1485-1487-1492', 2030, 1, 0.5, True, True, 1200)\n",
      "Create and store parameters\n",
      "Check weather files\n",
      "Check renewables data\n",
      "Create and store demand\n",
      "Create and store network\n",
      "Using config:\n",
      "\th2:True\n",
      "\toffwind:True\n",
      "\tbiogas:1800\n"
     ]
    },
    {
     "name": "stderr",
     "output_type": "stream",
     "text": [
      "INFO:pypsa.io:Exported network network.nc has stores, carriers, loads, buses, generators, links\n"
     ]
    },
    {
     "name": "stdout",
     "output_type": "stream",
     "text": [
      "Run optimization\n"
     ]
    },
    {
     "name": "stderr",
     "output_type": "stream",
     "text": [
      "INFO:pypsa.io:Imported network network.nc has buses, carriers, generators, links, loads, stores\n",
      "INFO:linopy.model: Solve problem using Highs solver\n",
      "INFO:linopy.io:Writing objective.\n",
      "Writing constraints.: 100%|\u001b[38;2;128;191;255m██████████\u001b[0m| 17/17 [00:00<00:00, 26.96it/s]\n",
      "Writing continuous variables.: 100%|\u001b[38;2;128;191;255m██████████\u001b[0m| 9/9 [00:00<00:00, 79.75it/s]\n",
      "Writing integer variables.: 100%|\u001b[38;2;128;191;255m██████████\u001b[0m| 2/2 [00:00<00:00, 593.38it/s]\n",
      "INFO:linopy.io: Writing time: 0.81s\n",
      "INFO:linopy.solvers:Log file at /tmp/highs.log\n"
     ]
    },
    {
     "name": "stdout",
     "output_type": "stream",
     "text": [
      "Running HiGHS 1.7.2 (git hash: 184e327): Copyright (c) 2024 HiGHS under MIT licence terms\n",
      "Coefficient ranges:\n",
      "  Matrix [1e-07, 3e+02]\n",
      "  Cost   [6e+01, 2e+06]\n",
      "  Bound  [0e+00, 0e+00]\n",
      "  RHS    [3e+01, 2e+03]\n",
      "Presolving model\n",
      "48138 rows, 42306 cols, 126894 nonzeros  0s\n",
      "38013 rows, 32181 cols, 117204 nonzeros  0s\n",
      "37933 rows, 32101 cols, 117560 nonzeros  0s\n",
      "\n",
      "Solving MIP model with:\n",
      "   37933 rows\n",
      "   32101 cols (0 binary, 5 integer, 0 implied int., 32096 continuous)\n",
      "   117560 nonzeros\n",
      "\n",
      "        Nodes      |    B&B Tree     |            Objective Bounds              |  Dynamic Constraints |       Work      \n",
      "     Proc. InQueue |  Leaves   Expl. | BestBound       BestSol              Gap |   Cuts   InLp Confl. | LpIters     Time\n",
      "\n",
      "         0       0         0   0.00%   -inf            inf                  inf        0      0      0         0     0.3s\n",
      " S       0       0         0   0.00%   -inf            670649585.6707     Large        0      0      0         0    17.3s\n",
      " R       0       0         0   0.00%   522724287.6219  617893316.0198    15.40%        0      0      0     55312    1"
     ]
    },
    {
     "name": "stderr",
     "output_type": "stream",
     "text": [
      "INFO:linopy.constants: Optimization successful: \n",
      "Status: ok\n",
      "Termination condition: optimal\n",
      "Solution: 46739 primals, 105141 duals\n",
      "Objective: 5.93e+08\n",
      "Solver model: available\n",
      "Solver message: optimal\n",
      "\n",
      "INFO:pypsa.optimization.optimize:The shadow-prices of the constraints Generator-ext-p-lower, Generator-ext-p-upper, Link-ext-p-lower, Link-ext-p-upper, Store-ext-e-lower, Store-ext-e-upper, Store-energy_balance were not assigned to the network.\n"
     ]
    },
    {
     "name": "stdout",
     "output_type": "stream",
     "text": [
      "9.7s\n",
      "         0       0         0   0.00%   522724560.255   617893316.0198    15.40%       44      6      0     55321    25.4s\n",
      " L       0       0         0   0.00%   522724638.0446  592679499.8758    11.80%       44     19      0     55335    69.6s\n",
      "         1       0         1 100.00%   592621930.6415  592679499.8758     0.01%       44     18      0    111038    82.7s\n",
      "\n",
      "Solving report\n",
      "  Status            Optimal\n",
      "  Primal bound      592679499.876\n",
      "  Dual bound        592621930.641\n",
      "  Gap               0.00971% (tolerance: 0.01%)\n",
      "  Solution status   feasible\n",
      "                    592679499.876 (objective)\n",
      "                    0 (bound viol.)\n",
      "                    0 (int. viol.)\n",
      "                    0 (row viol.)\n",
      "  Timing            82.73 (total)\n",
      "                    0.26 (presolve)\n",
      "                    0.00 (postsolve)\n",
      "  Nodes             1\n",
      "  LP iterations     111038 (total)\n",
      "                    6953 (strong br.)\n",
      "                    24 (separation)\n",
      "                    38893 (heuristics)\n",
      "Writing the solution to /tmp/linopy-solve-s_80eqbu.sol\n"
     ]
    },
    {
     "name": "stderr",
     "output_type": "stream",
     "text": [
      "INFO:pypsa.io:Exported network network.nc has stores, carriers, loads, buses, generators, links\n",
      "INFO:pypsa.io:Imported network network.nc has buses, carriers, generators, links, loads, stores\n",
      "/home/viktor/code/pypsa-vgr/generator/library/output_files.py:255: RuntimeWarning:\n",
      "\n",
      "invalid value encountered in scalar divide\n",
      "\n",
      "/home/viktor/code/pypsa-vgr/generator/library/output_files.py:289: FutureWarning:\n",
      "\n",
      "A value is trying to be set on a copy of a DataFrame or Series through chained assignment using an inplace method.\n",
      "The behavior will change in pandas 3.0. This inplace method will never work because the intermediate object on which we are setting values always behaves as a copy.\n",
      "\n",
      "For example, when doing 'df[col].method(value, inplace=True)', try using 'df.method({col: value}, inplace=True)' or df[col] = df[col].method(value) instead, to perform the operation inplace on the original object.\n",
      "\n",
      "\n",
      "\n"
     ]
    },
    {
     "name": "stdout",
     "output_type": "stream",
     "text": [
      "85 out of 120: ('14:1460-1438-1439-1484-1461-1430-1421-1427-1486-1435-1488-1485-1487-1492', 2030, 1, 0.5, True, True, 1800)\n",
      "Create and store parameters\n",
      "Check weather files\n",
      "Check renewables data\n",
      "Create and store demand\n",
      "Create and store network\n",
      "Using config:\n",
      "\th2:True\n",
      "\toffwind:True\n",
      "\tbiogas:0\n"
     ]
    },
    {
     "name": "stderr",
     "output_type": "stream",
     "text": [
      "INFO:pypsa.io:Exported network network.nc has stores, carriers, loads, buses, generators, links\n"
     ]
    },
    {
     "name": "stdout",
     "output_type": "stream",
     "text": [
      "Run optimization\n"
     ]
    },
    {
     "name": "stderr",
     "output_type": "stream",
     "text": [
      "INFO:pypsa.io:Imported network network.nc has buses, carriers, generators, links, loads, stores\n",
      "INFO:linopy.model: Solve problem using Highs solver\n",
      "INFO:linopy.io:Writing objective.\n",
      "Writing constraints.: 100%|\u001b[38;2;128;191;255m██████████\u001b[0m| 17/17 [00:00<00:00, 32.74it/s]\n",
      "Writing continuous variables.: 100%|\u001b[38;2;128;191;255m██████████\u001b[0m| 9/9 [00:00<00:00, 97.37it/s]\n",
      "Writing integer variables.: 100%|\u001b[38;2;128;191;255m██████████\u001b[0m| 2/2 [00:00<00:00, 533.76it/s]\n",
      "INFO:linopy.io: Writing time: 0.66s\n",
      "INFO:linopy.solvers:Log file at /tmp/highs.log\n"
     ]
    },
    {
     "name": "stdout",
     "output_type": "stream",
     "text": [
      "Running HiGHS 1.7.2 (git hash: 184e327): Copyright (c) 2024 HiGHS under MIT licence terms\n",
      "Coefficient ranges:\n",
      "  Matrix [1e-07, 3e+02]\n",
      "  Cost   [6e+01, 2e+06]\n",
      "  Bound  [0e+00, 0e+00]\n",
      "  RHS    [5e+01, 1e+02]\n",
      "Presolving model\n",
      "45218 rows, 36466 cols, 118134 nonzeros  0s\n",
      "37933 rows, 29181 cols, 111748 nonzeros  0s\n",
      "37933 rows, 29181 cols, 111748 nonzeros  0s\n",
      "\n",
      "Solving MIP model with:\n",
      "   37933 rows\n",
      "   29181 cols (0 binary, 5 integer, 0 implied int., 29176 continuous)\n",
      "   111748 nonzeros\n",
      "\n",
      "        Nodes      |    B&B Tree     |            Objective Bounds              |  Dynamic Constraints |       Work      \n",
      "     Proc. InQueue |  Leaves   Expl. | BestBound       BestSol              Gap |   Cuts   InLp Confl. | LpIters     Time\n",
      "\n",
      "         0       0         0   0.00%   -inf            inf                  inf        0      0      0         0     0.3s\n",
      " S       0       0         0   0.00%   -inf            893747429.3646     Large        0      0      0         0     6.6s\n",
      " R       0       0         0   0.00%   888932895.9622  889441434.4812     0.06%        0      0      0     33802     7.0s\n",
      "\n",
      "60.0% inactive integer columns, restarting\n",
      "Model after restart has 21404 rows, 15568 cols (0 bin., 2 int., 0 impl., 15566 cont.), and 66648 nonzeros\n",
      "\n",
      "         0       0         0   0.00%   888932895.9622  889441434.4812     0.06%        0      0      0     33802     7.2s\n",
      " R       0       0         0   0.00%   888932895.9622  888936770.4427     0.00%        0      0      0     35703     8.0s\n",
      "\n",
      "Solving report\n",
      "  Status            Optimal\n",
      "  Primal bound      888936770.443\n",
      "  Dual bound        888932895.962\n",
      "  Gap               0.000436% (tolerance: 0.01%)\n",
      "  Solution status   feasible\n",
      "                    888936770.443 (objective)\n",
      "                    0 (bound viol.)\n",
      "                    0 (int. viol.)\n",
      "                    0 (row viol.)\n",
      "  Timing            8.04 (total)\n",
      "                    0.40 (presolve)\n",
      "                    0.00 (postsolve)\n",
      "  Nodes             1\n",
      "  LP iterations     35703 (total)\n",
      "                    0 (strong br.)\n",
      "                    0 (separation)\n",
      "                    0 (heur"
     ]
    },
    {
     "name": "stderr",
     "output_type": "stream",
     "text": [
      "INFO:linopy.constants: Optimization successful: \n",
      "Status: ok\n",
      "Termination condition: optimal\n",
      "Solution: 40897 primals, 90538 duals\n",
      "Objective: 8.89e+08\n",
      "Solver model: available\n",
      "Solver message: optimal\n",
      "\n",
      "INFO:pypsa.optimization.optimize:The shadow-prices of the constraints Generator-ext-p-lower, Generator-ext-p-upper, Link-ext-p-lower, Link-ext-p-upper, Store-ext-e-lower, Store-ext-e-upper, Store-energy_balance were not assigned to the network.\n"
     ]
    },
    {
     "name": "stdout",
     "output_type": "stream",
     "text": [
      "istics)\n",
      "Writing the solution to /tmp/linopy-solve-c83wxwid.sol\n"
     ]
    },
    {
     "name": "stderr",
     "output_type": "stream",
     "text": [
      "INFO:pypsa.io:Exported network network.nc has stores, carriers, loads, buses, generators, links\n",
      "INFO:pypsa.io:Imported network network.nc has buses, carriers, generators, links, loads, stores\n",
      "/home/viktor/code/pypsa-vgr/generator/library/output_files.py:289: FutureWarning:\n",
      "\n",
      "A value is trying to be set on a copy of a DataFrame or Series through chained assignment using an inplace method.\n",
      "The behavior will change in pandas 3.0. This inplace method will never work because the intermediate object on which we are setting values always behaves as a copy.\n",
      "\n",
      "For example, when doing 'df[col].method(value, inplace=True)', try using 'df.method({col: value}, inplace=True)' or df[col] = df[col].method(value) instead, to perform the operation inplace on the original object.\n",
      "\n",
      "\n",
      "\n"
     ]
    },
    {
     "name": "stdout",
     "output_type": "stream",
     "text": [
      "86 out of 120: ('14:1460-1438-1439-1484-1461-1430-1421-1427-1486-1435-1488-1485-1487-1492', 2030, 1, 0.75, True, True, 0)\n",
      "Create and store parameters\n",
      "Check weather files\n",
      "Check renewables data\n",
      "Create and store demand\n",
      "Create and store network\n",
      "Using config:\n",
      "\th2:True\n",
      "\toffwind:True\n",
      "\tbiogas:300\n"
     ]
    },
    {
     "name": "stderr",
     "output_type": "stream",
     "text": [
      "INFO:pypsa.io:Exported network network.nc has stores, carriers, loads, buses, generators, links\n"
     ]
    },
    {
     "name": "stdout",
     "output_type": "stream",
     "text": [
      "Run optimization\n"
     ]
    },
    {
     "name": "stderr",
     "output_type": "stream",
     "text": [
      "INFO:pypsa.io:Imported network network.nc has buses, carriers, generators, links, loads, stores\n",
      "INFO:linopy.model: Solve problem using Highs solver\n",
      "INFO:linopy.io:Writing objective.\n",
      "Writing constraints.: 100%|\u001b[38;2;128;191;255m██████████\u001b[0m| 17/17 [00:00<00:00, 25.91it/s]\n",
      "Writing continuous variables.: 100%|\u001b[38;2;128;191;255m██████████\u001b[0m| 9/9 [00:00<00:00, 80.10it/s]\n",
      "Writing integer variables.: 100%|\u001b[38;2;128;191;255m██████████\u001b[0m| 2/2 [00:00<00:00, 571.28it/s]\n",
      "INFO:linopy.io: Writing time: 0.82s\n",
      "INFO:linopy.solvers:Log file at /tmp/highs.log\n"
     ]
    },
    {
     "name": "stdout",
     "output_type": "stream",
     "text": [
      "Running HiGHS 1.7.2 (git hash: 184e327): Copyright (c) 2024 HiGHS under MIT licence terms\n",
      "Coefficient ranges:\n",
      "  Matrix [1e-07, 3e+02]\n",
      "  Cost   [6e+01, 2e+06]\n",
      "  Bound  [0e+00, 0e+00]\n",
      "  RHS    [5e+01, 3e+02]\n",
      "Presolving model\n",
      "48138 rows, 42306 cols, 126894 nonzeros  0s\n",
      "38013 rows, 32181 cols, 117204 nonzeros  0s\n",
      "37933 rows, 32101 cols, 117560 nonzeros  0s\n",
      "\n",
      "Solving MIP model with:\n",
      "   37933 rows\n",
      "   32101 cols (0 binary, 5 integer, 0 implied int., 32096 continuous)\n",
      "   117560 nonzeros\n",
      "\n",
      "        Nodes      |    B&B Tree     |            Objective Bounds              |  Dynamic Constraints |       Work      \n",
      "     Proc. InQueue |  Leaves   Expl. | BestBound       BestSol              Gap |   Cuts   InLp Confl. | LpIters     Time\n",
      "\n",
      "         0       0         0   0.00%   -inf            inf                  inf        0      0      0         0     0.3s\n",
      " S       0       0         0   0.00%   -inf            808264258.4962     Large        0      0      0         0    26.8s\n",
      " R       0       0         0   0.00%   700742549.8071  765389980.6751     8.45%        0      0      0     71174    29.4s\n",
      "         0       0         0   0.00%   700742683.2671  765389980.6751     8.45%       42      5      0     71179    35.2s\n",
      " L       0       0         0   0.00%   700743067.4545  757718549.2625     7.52%       42     14      0     71189    74.7s\n",
      "         1       0         0 100.00%   757688377.431   757718549.2625     0.00%       42     15      0    119578    85.8s\n",
      "\n",
      "Solving report\n",
      "  Status            Optimal\n",
      "  Primal bound      757718549.263\n",
      "  Dual bound        757688377.431\n",
      "  Gap               0.00398% (tolerance: 0.01%)\n",
      "  Solution status   feasible\n",
      "                    757718549.263 (objective)\n",
      "                    0 (bound viol.)\n",
      "                    0 (int. viol.)\n",
      "                    0 (row viol.)\n",
      "  Timing            85.79 (total)\n",
      "                    0.32 (presolve)\n",
      "                    0.00 (postsolve)\n",
      "  Nodes             1\n",
      "  LP iterations     119578 (total)\n",
      "                    8177 (strong br.)\n",
      "                    16 (separation)\n",
      "                    33640 (heuristics)\n",
      "Writing the solution to /tmp/linopy-solve-ag74k02s.sol\n"
     ]
    },
    {
     "name": "stderr",
     "output_type": "stream",
     "text": [
      "INFO:linopy.constants: Optimization successful: \n",
      "Status: ok\n",
      "Termination condition: optimal\n",
      "Solution: 46739 primals, 105141 duals\n",
      "Objective: 7.58e+08\n",
      "Solver model: available\n",
      "Solver message: optimal\n",
      "\n",
      "INFO:pypsa.optimization.optimize:The shadow-prices of the constraints Generator-ext-p-lower, Generator-ext-p-upper, Link-ext-p-lower, Link-ext-p-upper, Store-ext-e-lower, Store-ext-e-upper, Store-energy_balance were not assigned to the network.\n",
      "INFO:pypsa.io:Exported network network.nc has stores, carriers, loads, buses, generators, links\n",
      "INFO:pypsa.io:Imported network network.nc has buses, carriers, generators, links, loads, stores\n",
      "/home/viktor/code/pypsa-vgr/generator/library/output_files.py:289: FutureWarning:\n",
      "\n",
      "A value is trying to be set on a copy of a DataFrame or Series through chained assignment using an inplace method.\n",
      "The behavior will change in pandas 3.0. This inplace method will never work because the intermediate object on which we are setting values always behaves as a copy.\n",
      "\n",
      "For example, when doing 'df[col].method(value, inplace=True)', try using 'df.method({col: value}, inplace=True)' or df[col] = df[col].method(value) instead, to perform the operation inplace on the original object.\n",
      "\n",
      "\n",
      "\n"
     ]
    },
    {
     "name": "stdout",
     "output_type": "stream",
     "text": [
      "87 out of 120: ('14:1460-1438-1439-1484-1461-1430-1421-1427-1486-1435-1488-1485-1487-1492', 2030, 1, 0.75, True, True, 300)\n",
      "Create and store parameters\n",
      "Check weather files\n",
      "Check renewables data\n",
      "Create and store demand\n",
      "Create and store network\n",
      "Using config:\n",
      "\th2:True\n",
      "\toffwind:True\n",
      "\tbiogas:600\n"
     ]
    },
    {
     "name": "stderr",
     "output_type": "stream",
     "text": [
      "INFO:pypsa.io:Exported network network.nc has stores, carriers, loads, buses, generators, links\n"
     ]
    },
    {
     "name": "stdout",
     "output_type": "stream",
     "text": [
      "Run optimization\n"
     ]
    },
    {
     "name": "stderr",
     "output_type": "stream",
     "text": [
      "INFO:pypsa.io:Imported network network.nc has buses, carriers, generators, links, loads, stores\n",
      "INFO:linopy.model: Solve problem using Highs solver\n",
      "INFO:linopy.io:Writing objective.\n",
      "Writing constraints.: 100%|\u001b[38;2;128;191;255m██████████\u001b[0m| 17/17 [00:00<00:00, 26.71it/s]\n",
      "Writing continuous variables.: 100%|\u001b[38;2;128;191;255m██████████\u001b[0m| 9/9 [00:00<00:00, 91.44it/s]\n",
      "Writing integer variables.: 100%|\u001b[38;2;128;191;255m██████████\u001b[0m| 2/2 [00:00<00:00, 618.45it/s]\n",
      "INFO:linopy.io: Writing time: 0.8s\n",
      "INFO:linopy.solvers:Log file at /tmp/highs.log\n"
     ]
    },
    {
     "name": "stdout",
     "output_type": "stream",
     "text": [
      "Running HiGHS 1.7.2 (git hash: 184e327): Copyright (c) 2024 HiGHS under MIT licence terms\n"
     ]
    },
    {
     "name": "stderr",
     "output_type": "stream",
     "text": [
      "INFO:linopy.constants: Optimization successful: \n",
      "Status: ok\n",
      "Termination condition: optimal\n",
      "Solution: 46739 primals, 105141 duals\n",
      "Objective: 7.58e+08\n",
      "Solver model: available\n",
      "Solver message: optimal\n",
      "\n",
      "INFO:pypsa.optimization.optimize:The shadow-prices of the constraints Generator-ext-p-lower, Generator-ext-p-upper, Link-ext-p-lower, Link-ext-p-upper, Store-ext-e-lower, Store-ext-e-upper, Store-energy_balance were not assigned to the network.\n"
     ]
    },
    {
     "name": "stdout",
     "output_type": "stream",
     "text": [
      "Coefficient ranges:\n",
      "  Matrix [1e-07, 3e+02]\n",
      "  Cost   [6e+01, 2e+06]\n",
      "  Bound  [0e+00, 0e+00]\n",
      "  RHS    [5e+01, 6e+02]\n",
      "Presolving model\n",
      "48138 rows, 42306 cols, 126894 nonzeros  0s\n",
      "38013 rows, 32181 cols, 117204 nonzeros  0s\n",
      "37933 rows, 32101 cols, 117560 nonzeros  0s\n",
      "\n",
      "Solving MIP model with:\n",
      "   37933 rows\n",
      "   32101 cols (0 binary, 5 integer, 0 implied int., 32096 continuous)\n",
      "   117560 nonzeros\n",
      "\n",
      "        Nodes      |    B&B Tree     |            Objective Bounds              |  Dynamic Constraints |       Work      \n",
      "     Proc. InQueue |  Leaves   Expl. | BestBound       BestSol              Gap |   Cuts   InLp Confl. | LpIters     Time\n",
      "\n",
      "         0       0         0   0.00%   -inf            inf                  inf        0      0      0         0     0.3s\n",
      " S       0       0         0   0.00%   -inf            808264258.4962     Large        0      0      0         0    24.6s\n",
      " R       0       0         0   0.00%   700742549.8071  765389980.6751     8.45%        0      0      0     71174    27.0s\n",
      "         0       0         0   0.00%   700742683.2671  765389980.6751     8.45%       42      5      0     71179    32.6s\n",
      " L       0       0         0   0.00%   700743067.4545  757718549.2625     7.52%       42     14      0     71189    70.2s\n",
      "         1       0         0 100.00%   757688377.431   757718549.2625     0.00%       42     15      0    119578    80.7s\n",
      "\n",
      "Solving report\n",
      "  Status            Optimal\n",
      "  Primal bound      757718549.263\n",
      "  Dual bound        757688377.431\n",
      "  Gap               0.00398% (tolerance: 0.01%)\n",
      "  Solution status   feasible\n",
      "                    757718549.263 (objective)\n",
      "                    0 (bound viol.)\n",
      "                    0 (int. viol.)\n",
      "                    0 (row viol.)\n",
      "  Timing            80.74 (total)\n",
      "                    0.29 (presolve)\n",
      "                    0.00 (postsolve)\n",
      "  Nodes             1\n",
      "  LP iterations     119578 (total)\n",
      "                    8177 (strong br.)\n",
      "                    16 (separation)\n",
      "                    33640 (heuristics)\n",
      "Writing the solution to /tmp/linopy-solve-6xtlb333.sol\n"
     ]
    },
    {
     "name": "stderr",
     "output_type": "stream",
     "text": [
      "INFO:pypsa.io:Exported network network.nc has stores, carriers, loads, buses, generators, links\n",
      "INFO:pypsa.io:Imported network network.nc has buses, carriers, generators, links, loads, stores\n",
      "/home/viktor/code/pypsa-vgr/generator/library/output_files.py:289: FutureWarning:\n",
      "\n",
      "A value is trying to be set on a copy of a DataFrame or Series through chained assignment using an inplace method.\n",
      "The behavior will change in pandas 3.0. This inplace method will never work because the intermediate object on which we are setting values always behaves as a copy.\n",
      "\n",
      "For example, when doing 'df[col].method(value, inplace=True)', try using 'df.method({col: value}, inplace=True)' or df[col] = df[col].method(value) instead, to perform the operation inplace on the original object.\n",
      "\n",
      "\n",
      "\n"
     ]
    },
    {
     "name": "stdout",
     "output_type": "stream",
     "text": [
      "88 out of 120: ('14:1460-1438-1439-1484-1461-1430-1421-1427-1486-1435-1488-1485-1487-1492', 2030, 1, 0.75, True, True, 600)\n",
      "Create and store parameters\n",
      "Check weather files\n",
      "Check renewables data\n",
      "Create and store demand\n",
      "Create and store network\n",
      "Using config:\n",
      "\th2:True\n",
      "\toffwind:True\n",
      "\tbiogas:1200\n"
     ]
    },
    {
     "name": "stderr",
     "output_type": "stream",
     "text": [
      "INFO:pypsa.io:Exported network network.nc has stores, carriers, loads, buses, generators, links\n"
     ]
    },
    {
     "name": "stdout",
     "output_type": "stream",
     "text": [
      "Run optimization\n"
     ]
    },
    {
     "name": "stderr",
     "output_type": "stream",
     "text": [
      "INFO:pypsa.io:Imported network network.nc has buses, carriers, generators, links, loads, stores\n",
      "INFO:linopy.model: Solve problem using Highs solver\n",
      "INFO:linopy.io:Writing objective.\n",
      "Writing constraints.: 100%|\u001b[38;2;128;191;255m██████████\u001b[0m| 17/17 [00:00<00:00, 28.92it/s]\n",
      "Writing continuous variables.: 100%|\u001b[38;2;128;191;255m██████████\u001b[0m| 9/9 [00:00<00:00, 77.02it/s]\n",
      "Writing integer variables.: 100%|\u001b[38;2;128;191;255m██████████\u001b[0m| 2/2 [00:00<00:00, 523.01it/s]\n",
      "INFO:linopy.io: Writing time: 0.75s\n",
      "INFO:linopy.solvers:Log file at /tmp/highs.log\n"
     ]
    },
    {
     "name": "stdout",
     "output_type": "stream",
     "text": [
      "Running HiGHS 1.7.2 (git hash: 184e327): Copyright (c) 2024 HiGHS under MIT licence terms\n"
     ]
    },
    {
     "name": "stderr",
     "output_type": "stream",
     "text": [
      "INFO:linopy.constants: Optimization successful: \n",
      "Status: ok\n",
      "Termination condition: optimal\n",
      "Solution: 46739 primals, 105141 duals\n",
      "Objective: 7.58e+08\n",
      "Solver model: available\n",
      "Solver message: optimal\n",
      "\n",
      "INFO:pypsa.optimization.optimize:The shadow-prices of the constraints Generator-ext-p-lower, Generator-ext-p-upper, Link-ext-p-lower, Link-ext-p-upper, Store-ext-e-lower, Store-ext-e-upper, Store-energy_balance were not assigned to the network.\n"
     ]
    },
    {
     "name": "stdout",
     "output_type": "stream",
     "text": [
      "Coefficient ranges:\n",
      "  Matrix [1e-07, 3e+02]\n",
      "  Cost   [6e+01, 2e+06]\n",
      "  Bound  [0e+00, 0e+00]\n",
      "  RHS    [5e+01, 1e+03]\n",
      "Presolving model\n",
      "48138 rows, 42306 cols, 126894 nonzeros  0s\n",
      "38013 rows, 32181 cols, 117204 nonzeros  0s\n",
      "37933 rows, 32101 cols, 117560 nonzeros  0s\n",
      "\n",
      "Solving MIP model with:\n",
      "   37933 rows\n",
      "   32101 cols (0 binary, 5 integer, 0 implied int., 32096 continuous)\n",
      "   117560 nonzeros\n",
      "\n",
      "        Nodes      |    B&B Tree     |            Objective Bounds              |  Dynamic Constraints |       Work      \n",
      "     Proc. InQueue |  Leaves   Expl. | BestBound       BestSol              Gap |   Cuts   InLp Confl. | LpIters     Time\n",
      "\n",
      "         0       0         0   0.00%   -inf            inf                  inf        0      0      0         0     0.3s\n",
      " S       0       0         0   0.00%   -inf            808264258.4962     Large        0      0      0         0    25.3s\n",
      " R       0       0         0   0.00%   700742549.8071  765389980.6751     8.45%        0      0      0     71174    27.8s\n",
      "         0       0         0   0.00%   700742683.2671  765389980.6751     8.45%       42      5      0     71179    33.7s\n",
      " L       0       0         0   0.00%   700743067.4545  757718549.2625     7.52%       42     14      0     71189    72.9s\n",
      "         1       0         0 100.00%   757688377.431   757718549.2625     0.00%       42     15      0    119578    83.8s\n",
      "\n",
      "Solving report\n",
      "  Status            Optimal\n",
      "  Primal bound      757718549.263\n",
      "  Dual bound        757688377.431\n",
      "  Gap               0.00398% (tolerance: 0.01%)\n",
      "  Solution status   feasible\n",
      "                    757718549.263 (objective)\n",
      "                    0 (bound viol.)\n",
      "                    0 (int. viol.)\n",
      "                    0 (row viol.)\n",
      "  Timing            83.84 (total)\n",
      "                    0.26 (presolve)\n",
      "                    0.00 (postsolve)\n",
      "  Nodes             1\n",
      "  LP iterations     119578 (total)\n",
      "                    8177 (strong br.)\n",
      "                    16 (separation)\n",
      "                    33640 (heuristics)\n",
      "Writing the solution to /tmp/linopy-solve-hvlc2lt5.sol\n"
     ]
    },
    {
     "name": "stderr",
     "output_type": "stream",
     "text": [
      "INFO:pypsa.io:Exported network network.nc has stores, carriers, loads, buses, generators, links\n",
      "INFO:pypsa.io:Imported network network.nc has buses, carriers, generators, links, loads, stores\n",
      "/home/viktor/code/pypsa-vgr/generator/library/output_files.py:289: FutureWarning:\n",
      "\n",
      "A value is trying to be set on a copy of a DataFrame or Series through chained assignment using an inplace method.\n",
      "The behavior will change in pandas 3.0. This inplace method will never work because the intermediate object on which we are setting values always behaves as a copy.\n",
      "\n",
      "For example, when doing 'df[col].method(value, inplace=True)', try using 'df.method({col: value}, inplace=True)' or df[col] = df[col].method(value) instead, to perform the operation inplace on the original object.\n",
      "\n",
      "\n",
      "\n"
     ]
    },
    {
     "name": "stdout",
     "output_type": "stream",
     "text": [
      "89 out of 120: ('14:1460-1438-1439-1484-1461-1430-1421-1427-1486-1435-1488-1485-1487-1492', 2030, 1, 0.75, True, True, 1200)\n",
      "Create and store parameters\n",
      "Check weather files\n",
      "Check renewables data\n",
      "Create and store demand\n",
      "Create and store network\n",
      "Using config:\n",
      "\th2:True\n",
      "\toffwind:True\n",
      "\tbiogas:1800\n"
     ]
    },
    {
     "name": "stderr",
     "output_type": "stream",
     "text": [
      "INFO:pypsa.io:Exported network network.nc has stores, carriers, loads, buses, generators, links\n",
      "INFO:pypsa.io:Imported network network.nc has buses, carriers, generators, links, loads, stores\n"
     ]
    },
    {
     "name": "stdout",
     "output_type": "stream",
     "text": [
      "Run optimization\n"
     ]
    },
    {
     "name": "stderr",
     "output_type": "stream",
     "text": [
      "INFO:linopy.model: Solve problem using Highs solver\n",
      "INFO:linopy.io:Writing objective.\n",
      "Writing constraints.: 100%|\u001b[38;2;128;191;255m██████████\u001b[0m| 17/17 [00:00<00:00, 28.91it/s]\n",
      "Writing continuous variables.: 100%|\u001b[38;2;128;191;255m██████████\u001b[0m| 9/9 [00:00<00:00, 75.80it/s]\n",
      "Writing integer variables.: 100%|\u001b[38;2;128;191;255m██████████\u001b[0m| 2/2 [00:00<00:00, 455.75it/s]\n",
      "INFO:linopy.io: Writing time: 0.76s\n",
      "INFO:linopy.solvers:Log file at /tmp/highs.log\n"
     ]
    },
    {
     "name": "stdout",
     "output_type": "stream",
     "text": [
      "Running HiGHS 1.7.2 (git hash: 184e327): Copyright (c) 2024 HiGHS under MIT licence terms\n"
     ]
    },
    {
     "name": "stderr",
     "output_type": "stream",
     "text": [
      "INFO:linopy.constants: Optimization successful: \n",
      "Status: ok\n",
      "Termination condition: optimal\n",
      "Solution: 46739 primals, 105141 duals\n",
      "Objective: 7.58e+08\n",
      "Solver model: available\n",
      "Solver message: optimal\n",
      "\n",
      "INFO:pypsa.optimization.optimize:The shadow-prices of the constraints Generator-ext-p-lower, Generator-ext-p-upper, Link-ext-p-lower, Link-ext-p-upper, Store-ext-e-lower, Store-ext-e-upper, Store-energy_balance were not assigned to the network.\n"
     ]
    },
    {
     "name": "stdout",
     "output_type": "stream",
     "text": [
      "Coefficient ranges:\n",
      "  Matrix [1e-07, 3e+02]\n",
      "  Cost   [6e+01, 2e+06]\n",
      "  Bound  [0e+00, 0e+00]\n",
      "  RHS    [5e+01, 2e+03]\n",
      "Presolving model\n",
      "48138 rows, 42306 cols, 126894 nonzeros  0s\n",
      "38013 rows, 32181 cols, 117204 nonzeros  0s\n",
      "37933 rows, 32101 cols, 117560 nonzeros  0s\n",
      "\n",
      "Solving MIP model with:\n",
      "   37933 rows\n",
      "   32101 cols (0 binary, 5 integer, 0 implied int., 32096 continuous)\n",
      "   117560 nonzeros\n",
      "\n",
      "        Nodes      |    B&B Tree     |            Objective Bounds              |  Dynamic Constraints |       Work      \n",
      "     Proc. InQueue |  Leaves   Expl. | BestBound       BestSol              Gap |   Cuts   InLp Confl. | LpIters     Time\n",
      "\n",
      "         0       0         0   0.00%   -inf            inf                  inf        0      0      0         0     0.3s\n",
      " S       0       0         0   0.00%   -inf            808264258.4962     Large        0      0      0         0    25.3s\n",
      " R       0       0         0   0.00%   700742549.8071  765389980.6751     8.45%        0      0      0     71174    27.8s\n",
      "         0       0         0   0.00%   700742683.2671  765389980.6751     8.45%       42      5      0     71179    33.6s\n",
      " L       0       0         0   0.00%   700743067.4545  757718549.2625     7.52%       42     14      0     71189    72.8s\n",
      "         1       0         0 100.00%   757688377.431   757718549.2625     0.00%       42     15      0    119578    83.6s\n",
      "\n",
      "Solving report\n",
      "  Status            Optimal\n",
      "  Primal bound      757718549.263\n",
      "  Dual bound        757688377.431\n",
      "  Gap               0.00398% (tolerance: 0.01%)\n",
      "  Solution status   feasible\n",
      "                    757718549.263 (objective)\n",
      "                    0 (bound viol.)\n",
      "                    0 (int. viol.)\n",
      "                    0 (row viol.)\n",
      "  Timing            83.59 (total)\n",
      "                    0.28 (presolve)\n",
      "                    0.00 (postsolve)\n",
      "  Nodes             1\n",
      "  LP iterations     119578 (total)\n",
      "                    8177 (strong br.)\n",
      "                    16 (separation)\n",
      "                    33640 (heuristics)\n",
      "Writing the solution to /tmp/linopy-solve-3v2n6xyr.sol\n"
     ]
    },
    {
     "name": "stderr",
     "output_type": "stream",
     "text": [
      "INFO:pypsa.io:Exported network network.nc has stores, carriers, loads, buses, generators, links\n",
      "INFO:pypsa.io:Imported network network.nc has buses, carriers, generators, links, loads, stores\n",
      "/home/viktor/code/pypsa-vgr/generator/library/output_files.py:289: FutureWarning:\n",
      "\n",
      "A value is trying to be set on a copy of a DataFrame or Series through chained assignment using an inplace method.\n",
      "The behavior will change in pandas 3.0. This inplace method will never work because the intermediate object on which we are setting values always behaves as a copy.\n",
      "\n",
      "For example, when doing 'df[col].method(value, inplace=True)', try using 'df.method({col: value}, inplace=True)' or df[col] = df[col].method(value) instead, to perform the operation inplace on the original object.\n",
      "\n",
      "\n",
      "\n"
     ]
    },
    {
     "name": "stdout",
     "output_type": "stream",
     "text": [
      "90 out of 120: ('14:1460-1438-1439-1484-1461-1430-1421-1427-1486-1435-1488-1485-1487-1492', 2030, 1, 0.75, True, True, 1800)\n",
      "Create and store parameters\n",
      "Check weather files\n",
      "Check renewables data\n",
      "Create and store demand\n",
      "Create and store network\n",
      "Using config:\n",
      "\th2:True\n",
      "\toffwind:True\n",
      "\tbiogas:0\n"
     ]
    },
    {
     "name": "stderr",
     "output_type": "stream",
     "text": [
      "INFO:pypsa.io:Exported network network.nc has stores, carriers, loads, buses, generators, links\n"
     ]
    },
    {
     "name": "stdout",
     "output_type": "stream",
     "text": [
      "Run optimization\n"
     ]
    },
    {
     "name": "stderr",
     "output_type": "stream",
     "text": [
      "INFO:pypsa.io:Imported network network.nc has buses, carriers, generators, links, loads, stores\n",
      "INFO:linopy.model: Solve problem using Highs solver\n",
      "INFO:linopy.io:Writing objective.\n",
      "Writing constraints.: 100%|\u001b[38;2;128;191;255m██████████\u001b[0m| 17/17 [00:00<00:00, 33.42it/s]\n",
      "Writing continuous variables.: 100%|\u001b[38;2;128;191;255m██████████\u001b[0m| 9/9 [00:00<00:00, 97.37it/s]\n",
      "Writing integer variables.: 100%|\u001b[38;2;128;191;255m██████████\u001b[0m| 2/2 [00:00<00:00, 604.15it/s]\n",
      "INFO:linopy.io: Writing time: 0.64s\n",
      "INFO:linopy.solvers:Log file at /tmp/highs.log\n"
     ]
    },
    {
     "name": "stdout",
     "output_type": "stream",
     "text": [
      "Running HiGHS 1.7.2 (git hash: 184e327): Copyright (c) 2024 HiGHS under MIT licence terms\n",
      "Coefficient ranges:\n",
      "  Matrix [1e-07, 3e+02]\n",
      "  Cost   [6e+01, 2e+06]\n",
      "  Bound  [0e+00, 0e+00]\n",
      "  RHS    [7e+01, 2e+02]\n",
      "Presolving model\n",
      "45218 rows, 36466 cols, 118134 nonzeros  0s\n",
      "37933 rows, 29181 cols, 111748 nonzeros  0s\n",
      "37933 rows, 29181 cols, 111748 nonzeros  0s\n",
      "\n",
      "Solving MIP model with:\n",
      "   37933 rows\n",
      "   29181 cols (0 binary, 5 integer, 0 implied int., 29176 continuous)\n",
      "   111748 nonzeros\n",
      "\n",
      "        Nodes      |    B&B Tree     |            Objective Bounds              |  Dynamic Constraints |       Work      \n",
      "     Proc. InQueue |  Leaves   Expl. | BestBound       BestSol              Gap |   Cuts   InLp Confl. | LpIters     Time\n",
      "\n",
      "         0       0         0   0.00%   -inf            inf                  inf        0      0      0         0     0.2s\n",
      " S       0       0         0   0.00%   -inf            1186968377.966     Large        0      0      0         0     8.7s\n",
      " R       0       0         0   0.00%   1185243861.283  1185406871.023     0.01%        0      0      0     40234     9.0s\n",
      "\n",
      "60.0% inactive integer columns, restarting\n",
      "Model after restart has 21404 rows, 15568 cols (0 bin., 2 int., 0 i"
     ]
    },
    {
     "name": "stderr",
     "output_type": "stream",
     "text": [
      "INFO:linopy.constants: Optimization successful: \n",
      "Status: ok\n",
      "Termination condition: optimal\n",
      "Solution: 40897 primals, 90538 duals\n",
      "Objective: 1.19e+09\n",
      "Solver model: available\n",
      "Solver message: optimal\n",
      "\n"
     ]
    },
    {
     "name": "stdout",
     "output_type": "stream",
     "text": [
      "mpl., 15566 cont.), and 66648 nonzeros\n",
      "\n",
      "         0       0         0   0.00%   1185243861.283  1185406871.023     0.01%        0      0      0     40234    11.1s\n",
      " R       0       0         0   0.00%   1185243861.283  1185400842.301     0.01%        0      0      0     42231    11.9s\n",
      "\n",
      "Solving report\n",
      "  Status            Optimal\n",
      "  Primal bound      1185400842.3\n",
      "  Dual bound        1185338534.23\n",
      "  Gap               0.00526% (tolerance: 0.01%)\n",
      "  Solution status   feasible\n",
      "                    1185400842.3 (objective)\n",
      "                    0 (bound viol.)\n",
      "                    0 (int. viol.)\n",
      "                    0 (row viol.)\n",
      "  Timing            12.65 (total)\n",
      "                    0.31 (presolve)\n",
      "                    0.00 (postsolve)\n",
      "  Nodes             1\n",
      "  LP iterations     42255 (total)\n",
      "                    0 (strong br.)\n",
      "                    24 (separation)\n",
      "                    0 (heuristics)\n",
      "Writing the solution to /tmp/linopy-solve-9l_zbz8b.sol\n"
     ]
    },
    {
     "name": "stderr",
     "output_type": "stream",
     "text": [
      "INFO:pypsa.optimization.optimize:The shadow-prices of the constraints Generator-ext-p-lower, Generator-ext-p-upper, Link-ext-p-lower, Link-ext-p-upper, Store-ext-e-lower, Store-ext-e-upper, Store-energy_balance were not assigned to the network.\n",
      "INFO:pypsa.io:Exported network network.nc has stores, carriers, loads, buses, generators, links\n",
      "INFO:pypsa.io:Imported network network.nc has buses, carriers, generators, links, loads, stores\n",
      "/home/viktor/code/pypsa-vgr/generator/library/output_files.py:289: FutureWarning:\n",
      "\n",
      "A value is trying to be set on a copy of a DataFrame or Series through chained assignment using an inplace method.\n",
      "The behavior will change in pandas 3.0. This inplace method will never work because the intermediate object on which we are setting values always behaves as a copy.\n",
      "\n",
      "For example, when doing 'df[col].method(value, inplace=True)', try using 'df.method({col: value}, inplace=True)' or df[col] = df[col].method(value) instead, to perform the operation inplace on the original object.\n",
      "\n",
      "\n",
      "\n"
     ]
    },
    {
     "name": "stdout",
     "output_type": "stream",
     "text": [
      "91 out of 120: ('14:1460-1438-1439-1484-1461-1430-1421-1427-1486-1435-1488-1485-1487-1492', 2030, 1, 1, True, True, 0)\n",
      "Create and store parameters\n",
      "Check weather files\n",
      "Check renewables data\n",
      "Create and store demand\n",
      "Create and store network\n",
      "Using config:\n",
      "\th2:True\n",
      "\toffwind:True\n",
      "\tbiogas:300\n"
     ]
    },
    {
     "name": "stderr",
     "output_type": "stream",
     "text": [
      "INFO:pypsa.io:Exported network network.nc has stores, carriers, loads, buses, generators, links\n"
     ]
    },
    {
     "name": "stdout",
     "output_type": "stream",
     "text": [
      "Run optimization\n"
     ]
    },
    {
     "name": "stderr",
     "output_type": "stream",
     "text": [
      "INFO:pypsa.io:Imported network network.nc has buses, carriers, generators, links, loads, stores\n",
      "INFO:linopy.model: Solve problem using Highs solver\n",
      "INFO:linopy.io:Writing objective.\n",
      "Writing constraints.: 100%|\u001b[38;2;128;191;255m██████████\u001b[0m| 17/17 [00:00<00:00, 27.91it/s]\n",
      "Writing continuous variables.: 100%|\u001b[38;2;128;191;255m██████████\u001b[0m| 9/9 [00:00<00:00, 90.35it/s]\n",
      "Writing integer variables.: 100%|\u001b[38;2;128;191;255m██████████\u001b[0m| 2/2 [00:00<00:00, 804.35it/s]\n",
      "INFO:linopy.io: Writing time: 0.75s\n",
      "INFO:linopy.solvers:Log file at /tmp/highs.log\n"
     ]
    },
    {
     "name": "stdout",
     "output_type": "stream",
     "text": [
      "Running HiGHS 1.7.2 (git hash: 184e327): Copyright (c) 2024 HiGHS under MIT licence terms\n",
      "Coefficient ranges:\n",
      "  Matrix [1e-07, 3e+02]\n",
      "  Cost   [6e+01, 2e+06]\n",
      "  Bound  [0e+00, 0e+00]\n",
      "  RHS    [7e+01, 3e+02]\n"
     ]
    },
    {
     "name": "stderr",
     "output_type": "stream",
     "text": [
      "INFO:linopy.constants: Optimization successful: \n",
      "Status: ok\n",
      "Termination condition: optimal\n",
      "Solution: 46739 primals, 105141 duals\n",
      "Objective: 9.12e+08\n",
      "Solver model: available\n",
      "Solver message: optimal\n",
      "\n"
     ]
    },
    {
     "name": "stdout",
     "output_type": "stream",
     "text": [
      "Presolving model\n",
      "48138 rows, 42306 cols, 126894 nonzeros  0s\n",
      "38013 rows, 32181 cols, 117204 nonzeros  0s\n",
      "37933 rows, 32101 cols, 117560 nonzeros  0s\n",
      "\n",
      "Solving MIP model with:\n",
      "   37933 rows\n",
      "   32101 cols (0 binary, 5 integer, 0 implied int., 32096 continuous)\n",
      "   117560 nonzeros\n",
      "\n",
      "        Nodes      |    B&B Tree     |            Objective Bounds              |  Dynamic Constraints |       Work      \n",
      "     Proc. InQueue |  Leaves   Expl. | BestBound       BestSol              Gap |   Cuts   InLp Confl. | LpIters     Time\n",
      "\n",
      "         0       0         0   0.00%   -inf            inf                  inf        0      0      0         0     0.3s\n",
      " S       0       0         0   0.00%   -inf            948880758.5715     Large        0      0      0         0    23.6s\n",
      " R       0       0         0   0.00%   865885074.0675  916464934.8068     5.52%        0      0      0     66426    25.1s\n",
      "         0       0         0   0.00%   865885402.3804  916464934.8068     5.52%       38      5      0     66440    31.5s\n",
      " L       0       0         0   0.00%   865891517.1539  911691576.7784     5.02%       42     16      0     66532    91.9s\n",
      "         1       0         0 100.00%   911689608.6284  911691576.7784     0.00%       42     14      0    146951   103.0s\n",
      "\n",
      "Solving report\n",
      "  Status            Optimal\n",
      "  Primal bound      911691576.778\n",
      "  Dual bound        911689608.628\n",
      "  Gap               0.000216% (tolerance: 0.01%)\n",
      "  Solution status   feasible\n",
      "                    911691576.778 (objective)\n",
      "                    0 (bound viol.)\n",
      "                    0 (int. viol.)\n",
      "                    0 (row viol.)\n",
      "  Timing            103.01 (total)\n",
      "                    0.27 (presolve)\n",
      "                    0.00 (postsolve)\n",
      "  Nodes             1\n",
      "  LP iterations     146951 (total)\n",
      "                    10729 (strong br.)\n",
      "                    106 (separation)\n",
      "                    64970 (heuristics)\n",
      "Writing the solution to /tmp/linopy-solve-qhgr0h9y.sol\n"
     ]
    },
    {
     "name": "stderr",
     "output_type": "stream",
     "text": [
      "INFO:pypsa.optimization.optimize:The shadow-prices of the constraints Generator-ext-p-lower, Generator-ext-p-upper, Link-ext-p-lower, Link-ext-p-upper, Store-ext-e-lower, Store-ext-e-upper, Store-energy_balance were not assigned to the network.\n",
      "INFO:pypsa.io:Exported network network.nc has stores, carriers, loads, buses, generators, links\n",
      "INFO:pypsa.io:Imported network network.nc has buses, carriers, generators, links, loads, stores\n",
      "/home/viktor/code/pypsa-vgr/generator/library/output_files.py:289: FutureWarning:\n",
      "\n",
      "A value is trying to be set on a copy of a DataFrame or Series through chained assignment using an inplace method.\n",
      "The behavior will change in pandas 3.0. This inplace method will never work because the intermediate object on which we are setting values always behaves as a copy.\n",
      "\n",
      "For example, when doing 'df[col].method(value, inplace=True)', try using 'df.method({col: value}, inplace=True)' or df[col] = df[col].method(value) instead, to perform the operation inplace on the original object.\n",
      "\n",
      "\n",
      "\n"
     ]
    },
    {
     "name": "stdout",
     "output_type": "stream",
     "text": [
      "92 out of 120: ('14:1460-1438-1439-1484-1461-1430-1421-1427-1486-1435-1488-1485-1487-1492', 2030, 1, 1, True, True, 300)\n",
      "Create and store parameters\n",
      "Check weather files\n",
      "Check renewables data\n",
      "Create and store demand\n",
      "Create and store network\n",
      "Using config:\n",
      "\th2:True\n",
      "\toffwind:True\n",
      "\tbiogas:600\n"
     ]
    },
    {
     "name": "stderr",
     "output_type": "stream",
     "text": [
      "INFO:pypsa.io:Exported network network.nc has stores, carriers, loads, buses, generators, links\n"
     ]
    },
    {
     "name": "stdout",
     "output_type": "stream",
     "text": [
      "Run optimization\n"
     ]
    },
    {
     "name": "stderr",
     "output_type": "stream",
     "text": [
      "INFO:pypsa.io:Imported network network.nc has buses, carriers, generators, links, loads, stores\n",
      "INFO:linopy.model: Solve problem using Highs solver\n",
      "INFO:linopy.io:Writing objective.\n",
      "Writing constraints.: 100%|\u001b[38;2;128;191;255m██████████\u001b[0m| 17/17 [00:00<00:00, 27.48it/s]\n",
      "Writing continuous variables.: 100%|\u001b[38;2;128;191;255m██████████\u001b[0m| 9/9 [00:00<00:00, 79.93it/s]\n",
      "Writing integer variables.: 100%|\u001b[38;2;128;191;255m██████████\u001b[0m| 2/2 [00:00<00:00, 548.24it/s]\n",
      "INFO:linopy.io: Writing time: 0.78s\n",
      "INFO:linopy.solvers:Log file at /tmp/highs.log\n"
     ]
    },
    {
     "name": "stdout",
     "output_type": "stream",
     "text": [
      "Running HiGHS 1.7.2 (git hash: 184e327): Copyright (c) 2024 HiGHS under MIT licence terms\n",
      "Coefficient ranges:\n",
      "  Matrix [1e-07, 3e+02]\n",
      "  Cost   [6e+01, 2e+06]\n",
      "  Bound  [0e+00, 0e+00]\n",
      "  RHS    [7e+01, 6e+02]\n",
      "Presolving model\n",
      "48138 rows, 42306 cols, 126894 nonzeros  0s\n",
      "38013 rows, 32181 cols, 117204 nonzeros  0s\n",
      "37933 rows, 32101 cols, 117560 nonzeros  0s\n",
      "\n",
      "Solving MIP model with:\n",
      "   37933 rows\n",
      "   32101 cols (0 binary, 5 integer, 0 implied int., 32096 continuous)\n",
      "   117560 nonzeros\n",
      "\n",
      "        Nodes      |    B&B Tree     |            Objective Bounds              |  Dynamic Constraints |       Work      \n",
      "     Proc. InQueue |  Leaves   Expl. | BestBound       BestSol              Gap |   Cuts   InLp Confl. | LpIters     Time\n",
      "\n",
      "         0       0         0   0.00%   -inf            inf                  inf        0      0      0         0     0.3s\n",
      " S       0       0         0   0.00%   -inf            948880758.5715     Large        0      0      0         0    26.9s\n",
      " R       0       0         0   0.00%   865885074.0675  916464934.8068     5.52%        0      0      0     77023    28.6s\n",
      "         0       0         0   0.00%   865885402.3804  916464934.8068     5.52%       39      5      0     77036    34.4s\n",
      " L       0       0         0   0.00%   865890126.2595  911691576.7784     5.02%       39     13      0     77116    92.1s\n",
      "         1       0         0 100.00%   911689608.6284  911691576.7784     0.00%       39     12      0    159598   102.3s\n",
      "\n",
      "Solving report\n",
      "  Status            Optimal\n",
      "  Primal bound      911691576.778\n",
      "  Dual bound        911689608.628\n",
      "  Gap               0.000216% (tolerance: 0.01%)\n",
      "  Solution status   feasible\n",
      "                    911691576.778 (objective)\n",
      "                    0 (bound viol.)\n",
      "                    0 (int. viol.)\n",
      "                    0 (row viol.)\n",
      "  Timing            102.32 (total)\n",
      "                    0.28 (presolve)\n",
      "                    0.00 (postsolve)\n",
      "  Nodes             1\n",
      "  LP iterations     159598 (total)\n",
      "                    10545 (strong br.)\n",
      "                    93 (separation)\n",
      "                    67379 (heuristics)\n"
     ]
    },
    {
     "name": "stderr",
     "output_type": "stream",
     "text": [
      "INFO:linopy.constants: Optimization successful: \n",
      "Status: ok\n",
      "Termination condition: optimal\n",
      "Solution: 46739 primals, 105141 duals\n",
      "Objective: 9.12e+08\n",
      "Solver model: available\n",
      "Solver message: optimal\n",
      "\n",
      "INFO:pypsa.optimization.optimize:The shadow-prices of the constraints Generator-ext-p-lower, Generator-ext-p-upper, Link-ext-p-lower, Link-ext-p-upper, Store-ext-e-lower, Store-ext-e-upper, Store-energy_balance were not assigned to the network.\n"
     ]
    },
    {
     "name": "stdout",
     "output_type": "stream",
     "text": [
      "Writing the solution to /tmp/linopy-solve-_p838uro.sol\n"
     ]
    },
    {
     "name": "stderr",
     "output_type": "stream",
     "text": [
      "INFO:pypsa.io:Exported network network.nc has stores, carriers, loads, buses, generators, links\n",
      "INFO:pypsa.io:Imported network network.nc has buses, carriers, generators, links, loads, stores\n",
      "/home/viktor/code/pypsa-vgr/generator/library/output_files.py:289: FutureWarning:\n",
      "\n",
      "A value is trying to be set on a copy of a DataFrame or Series through chained assignment using an inplace method.\n",
      "The behavior will change in pandas 3.0. This inplace method will never work because the intermediate object on which we are setting values always behaves as a copy.\n",
      "\n",
      "For example, when doing 'df[col].method(value, inplace=True)', try using 'df.method({col: value}, inplace=True)' or df[col] = df[col].method(value) instead, to perform the operation inplace on the original object.\n",
      "\n",
      "\n",
      "\n"
     ]
    },
    {
     "name": "stdout",
     "output_type": "stream",
     "text": [
      "93 out of 120: ('14:1460-1438-1439-1484-1461-1430-1421-1427-1486-1435-1488-1485-1487-1492', 2030, 1, 1, True, True, 600)\n",
      "Create and store parameters\n",
      "Check weather files\n",
      "Check renewables data\n",
      "Create and store demand\n",
      "Create and store network\n",
      "Using config:\n",
      "\th2:True\n",
      "\toffwind:True\n",
      "\tbiogas:1200\n"
     ]
    },
    {
     "name": "stderr",
     "output_type": "stream",
     "text": [
      "INFO:pypsa.io:Exported network network.nc has stores, carriers, loads, buses, generators, links\n"
     ]
    },
    {
     "name": "stdout",
     "output_type": "stream",
     "text": [
      "Run optimization\n"
     ]
    },
    {
     "name": "stderr",
     "output_type": "stream",
     "text": [
      "INFO:pypsa.io:Imported network network.nc has buses, carriers, generators, links, loads, stores\n",
      "INFO:linopy.model: Solve problem using Highs solver\n",
      "INFO:linopy.io:Writing objective.\n",
      "Writing constraints.: 100%|\u001b[38;2;128;191;255m██████████\u001b[0m| 17/17 [00:00<00:00, 28.72it/s]\n",
      "Writing continuous variables.: 100%|\u001b[38;2;128;191;255m██████████\u001b[0m| 9/9 [00:00<00:00, 94.17it/s]\n",
      "Writing integer variables.: 100%|\u001b[38;2;128;191;255m██████████\u001b[0m| 2/2 [00:00<00:00, 498.28it/s]\n",
      "INFO:linopy.io: Writing time: 0.73s\n",
      "INFO:linopy.solvers:Log file at /tmp/highs.log\n"
     ]
    },
    {
     "name": "stdout",
     "output_type": "stream",
     "text": [
      "Running HiGHS 1.7.2 (git hash: 184e327): Copyright (c) 2024 HiGHS under MIT licence terms\n",
      "Coefficient ranges:\n",
      "  Matrix [1e-07, 3e+02]\n",
      "  Cost   [6e+01, 2e+06]\n",
      "  Bound  [0e+00, 0e+00]\n"
     ]
    },
    {
     "name": "stderr",
     "output_type": "stream",
     "text": [
      "INFO:linopy.constants: Optimization successful: \n",
      "Status: ok\n",
      "Termination condition: optimal\n",
      "Solution: 46739 primals, 105141 duals\n",
      "Objective: 9.12e+08\n",
      "Solver model: available\n",
      "Solver message: optimal\n",
      "\n",
      "INFO:pypsa.optimization.optimize:The shadow-prices of the constraints Generator-ext-p-lower, Generator-ext-p-upper, Link-ext-p-lower, Link-ext-p-upper, Store-ext-e-lower, Store-ext-e-upper, Store-energy_balance were not assigned to the network.\n"
     ]
    },
    {
     "name": "stdout",
     "output_type": "stream",
     "text": [
      "  RHS    [7e+01, 1e+03]\n",
      "Presolving model\n",
      "48138 rows, 42306 cols, 126894 nonzeros  0s\n",
      "38013 rows, 32181 cols, 117204 nonzeros  0s\n",
      "37933 rows, 32101 cols, 117560 nonzeros  0s\n",
      "\n",
      "Solving MIP model with:\n",
      "   37933 rows\n",
      "   32101 cols (0 binary, 5 integer, 0 implied int., 32096 continuous)\n",
      "   117560 nonzeros\n",
      "\n",
      "        Nodes      |    B&B Tree     |            Objective Bounds              |  Dynamic Constraints |       Work      \n",
      "     Proc. InQueue |  Leaves   Expl. | BestBound       BestSol              Gap |   Cuts   InLp Confl. | LpIters     Time\n",
      "\n",
      "         0       0         0   0.00%   -inf            inf                  inf        0      0      0         0     0.3s\n",
      " S       0       0         0   0.00%   -inf            948880758.5715     Large        0      0      0         0    26.9s\n",
      " R       0       0         0   0.00%   865885074.0675  916464934.8068     5.52%        0      0      0     77023    28.5s\n",
      "         0       0         0   0.00%   865885402.3804  916464934.8068     5.52%       39      5      0     77036    34.3s\n",
      " L       0       0         0   0.00%   865890126.2595  911691576.7784     5.02%       39     13      0     77116    86.5s\n",
      "         1       0         0 100.00%   911689608.6284  911691576.7784     0.00%       39     12      0    159598    94.4s\n",
      "\n",
      "Solving report\n",
      "  Status            Optimal\n",
      "  Primal bound      911691576.778\n",
      "  Dual bound        911689608.628\n",
      "  Gap               0.000216% (tolerance: 0.01%)\n",
      "  Solution status   feasible\n",
      "                    911691576.778 (objective)\n",
      "                    0 (bound viol.)\n",
      "                    0 (int. viol.)\n",
      "                    0 (row viol.)\n",
      "  Timing            94.38 (total)\n",
      "                    0.29 (presolve)\n",
      "                    0.00 (postsolve)\n",
      "  Nodes             1\n",
      "  LP iterations     159598 (total)\n",
      "                    10545 (strong br.)\n",
      "                    93 (separation)\n",
      "                    67379 (heuristics)\n",
      "Writing the solution to /tmp/linopy-solve-rrzv604w.sol\n"
     ]
    },
    {
     "name": "stderr",
     "output_type": "stream",
     "text": [
      "INFO:pypsa.io:Exported network network.nc has stores, carriers, loads, buses, generators, links\n",
      "INFO:pypsa.io:Imported network network.nc has buses, carriers, generators, links, loads, stores\n",
      "/home/viktor/code/pypsa-vgr/generator/library/output_files.py:289: FutureWarning:\n",
      "\n",
      "A value is trying to be set on a copy of a DataFrame or Series through chained assignment using an inplace method.\n",
      "The behavior will change in pandas 3.0. This inplace method will never work because the intermediate object on which we are setting values always behaves as a copy.\n",
      "\n",
      "For example, when doing 'df[col].method(value, inplace=True)', try using 'df.method({col: value}, inplace=True)' or df[col] = df[col].method(value) instead, to perform the operation inplace on the original object.\n",
      "\n",
      "\n",
      "\n"
     ]
    },
    {
     "name": "stdout",
     "output_type": "stream",
     "text": [
      "94 out of 120: ('14:1460-1438-1439-1484-1461-1430-1421-1427-1486-1435-1488-1485-1487-1492', 2030, 1, 1, True, True, 1200)\n",
      "Create and store parameters\n",
      "Check weather files\n",
      "Check renewables data\n",
      "Create and store demand\n",
      "Create and store network\n",
      "Using config:\n",
      "\th2:True\n",
      "\toffwind:True\n",
      "\tbiogas:1800\n"
     ]
    },
    {
     "name": "stderr",
     "output_type": "stream",
     "text": [
      "INFO:pypsa.io:Exported network network.nc has stores, carriers, loads, buses, generators, links\n"
     ]
    },
    {
     "name": "stdout",
     "output_type": "stream",
     "text": [
      "Run optimization\n"
     ]
    },
    {
     "name": "stderr",
     "output_type": "stream",
     "text": [
      "INFO:pypsa.io:Imported network network.nc has buses, carriers, generators, links, loads, stores\n",
      "INFO:linopy.model: Solve problem using Highs solver\n",
      "INFO:linopy.io:Writing objective.\n",
      "Writing constraints.: 100%|\u001b[38;2;128;191;255m██████████\u001b[0m| 17/17 [00:00<00:00, 36.15it/s]\n",
      "Writing continuous variables.: 100%|\u001b[38;2;128;191;255m██████████\u001b[0m| 9/9 [00:00<00:00, 108.68it/s]\n",
      "Writing integer variables.: 100%|\u001b[38;2;128;191;255m██████████\u001b[0m| 2/2 [00:00<00:00, 708.50it/s]\n",
      "INFO:linopy.io: Writing time: 0.59s\n",
      "INFO:linopy.solvers:Log file at /tmp/highs.log\n"
     ]
    },
    {
     "name": "stdout",
     "output_type": "stream",
     "text": [
      "Running HiGHS 1.7.2 (git hash: 184e327): Copyright (c) 2024 HiGHS under MIT licence terms\n",
      "Coefficient ranges:\n",
      "  Matrix [1e-07, 3e+02]\n",
      "  Cost   [6e+01, 2e+06]\n",
      "  Bound  [0e+00, 0e+00]\n",
      "  RHS    [7e+01, 2e+03]\n",
      "Presolving model\n",
      "48138 rows, 42306 cols, 126894 nonzeros  0s\n",
      "38013 rows, 32181 cols, 117204 nonzeros  0s\n",
      "37933 rows, 32101 cols, 117560 nonzeros  0s\n",
      "\n",
      "Solving MIP model with:\n",
      "   37933 rows\n",
      "   32101 cols (0 binary, 5 integer, 0 implied int., 32096 continuous)\n",
      "   117560 nonzeros\n",
      "\n",
      "        Nodes      |    B&B Tree     |            Objective Bounds              |  Dynamic Constraints |       Work      \n",
      "     Proc. InQueue |  Leaves   Expl. | BestBound       BestSol              Gap |   Cuts   InLp Confl. | LpIters     Time\n",
      "\n",
      "         0       0         0   0.00%   -inf            inf                  inf        0      0      0         0     0.2s\n",
      " S       0       0         0   0.00%   -inf            948880758.5715     Large        0      0      0         0    21.0s\n",
      " R       0       0         0   0.00%   865885074.0675  916464934.8068     5.52%        0      0      0     77023    22.3s\n",
      "         0       0         0   0.00%   865885447.6435  916464934.8068     5.52%       39     10      0     77040    27.5s\n",
      " L       0       0         0   0.00%   865890126.2595  911691576.7784     5.02%       39     13      0     77116    69.6s\n",
      "         1       0         0 100.00%   911689608.6284  911691576.7784     0.00%       39     12      0    159598    77.8s\n",
      "\n",
      "Solving report\n",
      "  Status            Optimal\n",
      "  Primal bound      911691576.778\n",
      "  Dual bound        911689608.628\n",
      "  Gap               0.000216% (tolerance: 0.01%)\n",
      "  Solution status   feasible\n",
      "                    911691576.778 (objective)\n",
      "                    0 (bound viol.)\n",
      "                    0 (int. viol.)\n",
      "                    0 (row viol.)\n",
      "  Timing            77.78 (total)\n",
      "                    0.20 (presolve)\n",
      "                    0.00 (postsolve)\n",
      "  Nodes             1\n",
      "  LP iterations     159598 (total)\n",
      "                    10545 (strong br.)\n",
      "                    93 (separation)\n",
      "                    67379 (heuristics)\n",
      "Writing the solution to /tmp/linopy-solve-uwhqi3el.sol\n"
     ]
    },
    {
     "name": "stderr",
     "output_type": "stream",
     "text": [
      "INFO:linopy.constants: Optimization successful: \n",
      "Status: ok\n",
      "Termination condition: optimal\n",
      "Solution: 46739 primals, 105141 duals\n",
      "Objective: 9.12e+08\n",
      "Solver model: available\n",
      "Solver message: optimal\n",
      "\n",
      "INFO:pypsa.optimization.optimize:The shadow-prices of the constraints Generator-ext-p-lower, Generator-ext-p-upper, Link-ext-p-lower, Link-ext-p-upper, Store-ext-e-lower, Store-ext-e-upper, Store-energy_balance were not assigned to the network.\n",
      "INFO:pypsa.io:Exported network network.nc has stores, carriers, loads, buses, generators, links\n",
      "INFO:pypsa.io:Imported network network.nc has buses, carriers, generators, links, loads, stores\n",
      "/home/viktor/code/pypsa-vgr/generator/library/output_files.py:289: FutureWarning:\n",
      "\n",
      "A value is trying to be set on a copy of a DataFrame or Series through chained assignment using an inplace method.\n",
      "The behavior will change in pandas 3.0. This inplace method will never work because the intermediate object on which we are setting values always behaves as a copy.\n",
      "\n",
      "For example, when doing 'df[col].method(value, inplace=True)', try using 'df.method({col: value}, inplace=True)' or df[col] = df[col].method(value) instead, to perform the operation inplace on the original object.\n",
      "\n",
      "\n",
      "\n"
     ]
    },
    {
     "name": "stdout",
     "output_type": "stream",
     "text": [
      "95 out of 120: ('14:1460-1438-1439-1484-1461-1430-1421-1427-1486-1435-1488-1485-1487-1492', 2030, 1, 1, True, True, 1800)\n",
      "Create and store parameters\n",
      "Check weather files\n",
      "Check renewables data\n",
      "Create and store demand\n",
      "Create and store network\n",
      "Using config:\n",
      "\th2:True\n",
      "\toffwind:True\n",
      "\tbiogas:0\n"
     ]
    },
    {
     "name": "stderr",
     "output_type": "stream",
     "text": [
      "INFO:pypsa.io:Exported network network.nc has stores, carriers, loads, buses, generators, links\n"
     ]
    },
    {
     "name": "stdout",
     "output_type": "stream",
     "text": [
      "Run optimization\n"
     ]
    },
    {
     "name": "stderr",
     "output_type": "stream",
     "text": [
      "INFO:pypsa.io:Imported network network.nc has buses, carriers, generators, links, loads, stores\n",
      "INFO:linopy.model: Solve problem using Highs solver\n",
      "INFO:linopy.io:Writing objective.\n",
      "Writing constraints.: 100%|\u001b[38;2;128;191;255m██████████\u001b[0m| 17/17 [00:00<00:00, 40.76it/s]\n",
      "Writing continuous variables.: 100%|\u001b[38;2;128;191;255m██████████\u001b[0m| 9/9 [00:00<00:00, 117.68it/s]\n",
      "Writing integer variables.: 100%|\u001b[38;2;128;191;255m██████████\u001b[0m| 2/2 [00:00<00:00, 792.65it/s]\n",
      "INFO:linopy.io: Writing time: 0.53s\n",
      "INFO:linopy.solvers:Log file at /tmp/highs.log\n"
     ]
    },
    {
     "name": "stdout",
     "output_type": "stream",
     "text": [
      "Running HiGHS 1.7.2 (git hash: 184e327): Copyright (c) 2024 HiGHS under MIT licence terms\n"
     ]
    },
    {
     "name": "stderr",
     "output_type": "stream",
     "text": [
      "INFO:linopy.constants: Optimization successful: \n",
      "Status: ok\n",
      "Termination condition: optimal\n",
      "Solution: 40897 primals, 90538 duals\n",
      "Objective: 2.96e+09\n",
      "Solver model: available\n",
      "Solver message: optimal\n",
      "\n",
      "INFO:pypsa.optimization.optimize:The shadow-prices of the constraints Generator-ext-p-lower, Generator-ext-p-upper, Link-ext-p-lower, Link-ext-p-upper, Store-ext-e-lower, Store-ext-e-upper, Store-energy_balance were not assigned to the network.\n"
     ]
    },
    {
     "name": "stdout",
     "output_type": "stream",
     "text": [
      "Coefficient ranges:\n",
      "  Matrix [1e-07, 3e+02]\n",
      "  Cost   [6e+01, 2e+06]\n",
      "  Bound  [0e+00, 0e+00]\n",
      "  RHS    [2e+02, 5e+02]\n",
      "Presolving model\n",
      "45218 rows, 36466 cols, 118134 nonzeros  0s\n",
      "37933 rows, 29181 cols, 111748 nonzeros  0s\n",
      "37933 rows, 29181 cols, 111748 nonzeros  0s\n",
      "\n",
      "Solving MIP model with:\n",
      "   37933 rows\n",
      "   29181 cols (0 binary, 5 integer, 0 implied int., 29176 continuous)\n",
      "   111748 nonzeros\n",
      "\n",
      "        Nodes      |    B&B Tree     |            Objective Bounds              |  Dynamic Constraints |       Work      \n",
      "     Proc. InQueue |  Leaves   Expl. | BestBound       BestSol              Gap |   Cuts   InLp Confl. | LpIters     Time\n",
      "\n",
      "         0       0         0   0.00%   -inf            inf                  inf        0      0      0         0     0.3s\n",
      " S       0       0         0   0.00%   -inf            2964466708.49      Large        0      0      0         0     7.4s\n",
      " R       0       0         0   0.00%   2963109653.208  2963248838.944     0.00%        0      0      0     40312     7.6s\n",
      "\n",
      "Solving report\n",
      "  Status            Optimal\n",
      "  Primal bound      2963248838.94\n",
      "  Dual bound        2963109653.21\n",
      "  Gap               0.0047% (tolerance: 0.01%)\n",
      "  Solution status   feasible\n",
      "                    2963248838.94 (objective)\n",
      "                    0 (bound viol.)\n",
      "                    0 (int. viol.)\n",
      "                    0 (row viol.)\n",
      "  Timing            8.03 (total)\n",
      "                    0.24 (presolve)\n",
      "                    0.00 (postsolve)\n",
      "  Nodes             1\n",
      "  LP iterations     40312 (total)\n",
      "                    0 (strong br.)\n",
      "                    0 (separation)\n",
      "                    0 (heuristics)\n",
      "Writing the solution to /tmp/linopy-solve-6gxs94lb.sol\n"
     ]
    },
    {
     "name": "stderr",
     "output_type": "stream",
     "text": [
      "INFO:pypsa.io:Exported network network.nc has stores, carriers, loads, buses, generators, links\n",
      "INFO:pypsa.io:Imported network network.nc has buses, carriers, generators, links, loads, stores\n",
      "/home/viktor/code/pypsa-vgr/generator/library/output_files.py:289: FutureWarning:\n",
      "\n",
      "A value is trying to be set on a copy of a DataFrame or Series through chained assignment using an inplace method.\n",
      "The behavior will change in pandas 3.0. This inplace method will never work because the intermediate object on which we are setting values always behaves as a copy.\n",
      "\n",
      "For example, when doing 'df[col].method(value, inplace=True)', try using 'df.method({col: value}, inplace=True)' or df[col] = df[col].method(value) instead, to perform the operation inplace on the original object.\n",
      "\n",
      "\n",
      "\n"
     ]
    },
    {
     "name": "stdout",
     "output_type": "stream",
     "text": [
      "96 out of 120: ('14:1460-1438-1439-1484-1461-1430-1421-1427-1486-1435-1488-1485-1487-1492', 2030, 1, 2.5, True, True, 0)\n",
      "Create and store parameters\n",
      "Check weather files\n",
      "Check renewables data\n",
      "Create and store demand\n",
      "Create and store network\n",
      "Using config:\n",
      "\th2:True\n",
      "\toffwind:True\n",
      "\tbiogas:300\n"
     ]
    },
    {
     "name": "stderr",
     "output_type": "stream",
     "text": [
      "INFO:pypsa.io:Exported network network.nc has stores, carriers, loads, buses, generators, links\n"
     ]
    },
    {
     "name": "stdout",
     "output_type": "stream",
     "text": [
      "Run optimization\n"
     ]
    },
    {
     "name": "stderr",
     "output_type": "stream",
     "text": [
      "INFO:pypsa.io:Imported network network.nc has buses, carriers, generators, links, loads, stores\n",
      "INFO:linopy.model: Solve problem using Highs solver\n",
      "INFO:linopy.io:Writing objective.\n",
      "Writing constraints.: 100%|\u001b[38;2;128;191;255m██████████\u001b[0m| 17/17 [00:00<00:00, 35.22it/s]\n",
      "Writing continuous variables.: 100%|\u001b[38;2;128;191;255m██████████\u001b[0m| 9/9 [00:00<00:00, 107.98it/s]\n",
      "Writing integer variables.: 100%|\u001b[38;2;128;191;255m██████████\u001b[0m| 2/2 [00:00<00:00, 821.20it/s]\n",
      "INFO:linopy.io: Writing time: 0.6s\n",
      "INFO:linopy.solvers:Log file at /tmp/highs.log\n"
     ]
    },
    {
     "name": "stdout",
     "output_type": "stream",
     "text": [
      "Running HiGHS 1.7.2 (git hash: 184e327): Copyright (c) 2024 HiGHS under MIT licence terms\n"
     ]
    },
    {
     "name": "stderr",
     "output_type": "stream",
     "text": [
      "INFO:linopy.constants: Optimization successful: \n",
      "Status: ok\n",
      "Termination condition: optimal\n",
      "Solution: 46739 primals, 105141 duals\n",
      "Objective: 2.15e+09\n",
      "Solver model: available\n",
      "Solver message: optimal\n",
      "\n",
      "INFO:pypsa.optimization.optimize:The shadow-prices of the constraints Generator-ext-p-lower, Generator-ext-p-upper, Link-ext-p-lower, Link-ext-p-upper, Store-ext-e-lower, Store-ext-e-upper, Store-energy_balance were not assigned to the network.\n"
     ]
    },
    {
     "name": "stdout",
     "output_type": "stream",
     "text": [
      "Coefficient ranges:\n",
      "  Matrix [1e-07, 3e+02]\n",
      "  Cost   [6e+01, 2e+06]\n",
      "  Bound  [0e+00, 0e+00]\n",
      "  RHS    [2e+02, 5e+02]\n",
      "Presolving model\n",
      "48138 rows, 42306 cols, 126894 nonzeros  0s\n",
      "38013 rows, 32181 cols, 117204 nonzeros  0s\n",
      "37933 rows, 32101 cols, 117560 nonzeros  0s\n",
      "\n",
      "Solving MIP model with:\n",
      "   37933 rows\n",
      "   32101 cols (0 binary, 5 integer, 0 implied int., 32096 continuous)\n",
      "   117560 nonzeros\n",
      "\n",
      "        Nodes      |    B&B Tree     |            Objective Bounds              |  Dynamic Constraints |       Work      \n",
      "     Proc. InQueue |  Leaves   Expl. | BestBound       BestSol              Gap |   Cuts   InLp Confl. | LpIters     Time\n",
      "\n",
      "         0       0         0   0.00%   -inf            inf                  inf        0      0      0         0     0.2s\n",
      " S       0       0         0   0.00%   -inf            2147923628.222     Large        0      0      0         0    15.8s\n",
      " R       0       0         0   0.00%   2147466330.624  2147471727.968     0.00%        0      0      0     56801    16.0s\n",
      "\n",
      "Solving report\n",
      "  Status            Optimal\n",
      "  Primal bound      2147471727.97\n",
      "  Dual bound        2147466330.62\n",
      "  Gap               0.000251% (tolerance: 0.01%)\n",
      "  Solution status   feasible\n",
      "                    2147471727.97 (objective)\n",
      "                    0 (bound viol.)\n",
      "                    0 (int. viol.)\n",
      "                    0 (row viol.)\n",
      "  Timing            16.04 (total)\n",
      "                    0.21 (presolve)\n",
      "                    0.00 (postsolve)\n",
      "  Nodes             1\n",
      "  LP iterations     56801 (total)\n",
      "                    0 (strong br.)\n",
      "                    0 (separation)\n",
      "                    0 (heuristics)\n",
      "Writing the solution to /tmp/linopy-solve-mql3hpxq.sol\n"
     ]
    },
    {
     "name": "stderr",
     "output_type": "stream",
     "text": [
      "INFO:pypsa.io:Exported network network.nc has stores, carriers, loads, buses, generators, links\n",
      "INFO:pypsa.io:Imported network network.nc has buses, carriers, generators, links, loads, stores\n",
      "/home/viktor/code/pypsa-vgr/generator/library/output_files.py:289: FutureWarning:\n",
      "\n",
      "A value is trying to be set on a copy of a DataFrame or Series through chained assignment using an inplace method.\n",
      "The behavior will change in pandas 3.0. This inplace method will never work because the intermediate object on which we are setting values always behaves as a copy.\n",
      "\n",
      "For example, when doing 'df[col].method(value, inplace=True)', try using 'df.method({col: value}, inplace=True)' or df[col] = df[col].method(value) instead, to perform the operation inplace on the original object.\n",
      "\n",
      "\n",
      "\n"
     ]
    },
    {
     "name": "stdout",
     "output_type": "stream",
     "text": [
      "97 out of 120: ('14:1460-1438-1439-1484-1461-1430-1421-1427-1486-1435-1488-1485-1487-1492', 2030, 1, 2.5, True, True, 300)\n",
      "Create and store parameters\n",
      "Check weather files\n",
      "Check renewables data\n",
      "Create and store demand\n",
      "Create and store network\n",
      "Using config:\n",
      "\th2:True\n",
      "\toffwind:True\n",
      "\tbiogas:600\n"
     ]
    },
    {
     "name": "stderr",
     "output_type": "stream",
     "text": [
      "INFO:pypsa.io:Exported network network.nc has stores, carriers, loads, buses, generators, links\n"
     ]
    },
    {
     "name": "stdout",
     "output_type": "stream",
     "text": [
      "Run optimization\n"
     ]
    },
    {
     "name": "stderr",
     "output_type": "stream",
     "text": [
      "INFO:pypsa.io:Imported network network.nc has buses, carriers, generators, links, loads, stores\n",
      "INFO:linopy.model: Solve problem using Highs solver\n",
      "INFO:linopy.io:Writing objective.\n",
      "Writing constraints.: 100%|\u001b[38;2;128;191;255m██████████\u001b[0m| 17/17 [00:00<00:00, 35.19it/s]\n",
      "Writing continuous variables.: 100%|\u001b[38;2;128;191;255m██████████\u001b[0m| 9/9 [00:00<00:00, 110.02it/s]\n",
      "Writing integer variables.: 100%|\u001b[38;2;128;191;255m██████████\u001b[0m| 2/2 [00:00<00:00, 763.64it/s]\n",
      "INFO:linopy.io: Writing time: 0.6s\n",
      "INFO:linopy.solvers:Log file at /tmp/highs.log\n"
     ]
    },
    {
     "name": "stdout",
     "output_type": "stream",
     "text": [
      "Running HiGHS 1.7.2 (git hash: 184e327): Copyright (c) 2024 HiGHS under MIT licence terms\n",
      "Coefficient ranges:\n",
      "  Matrix [1e-07, 3e+02]\n",
      "  Cost   [6e+01, 2e+06]\n",
      "  Bound  [0e+00, 0e+00]\n",
      "  RHS    [2e+02, 6e+02]\n",
      "Presolving model\n",
      "48138 rows, 42306 cols, 126894 nonzeros  0s\n",
      "38013 rows, 32181 cols, 117204 nonzeros  0s\n",
      "37933 rows, 32101 cols, 117560 nonzeros  0s\n",
      "\n",
      "Solving MIP model with:\n",
      "   37933 rows\n",
      "   32101 cols (0 binary, 5 integer, 0 implied int., 32096 continuous)\n",
      "   117560 nonzeros\n",
      "\n",
      "        Nodes      |    B&B Tree     |            Objective Bounds              |  Dynamic Constraints |       Work      \n",
      "     Proc. InQueue |  Leaves   Expl. | BestBound       BestSol              Gap |   Cuts   InLp Confl. | LpIters     Time\n",
      "\n",
      "         0       0         0   0.00%   -inf            inf                  inf        0      0      0         0     0.2s\n",
      " S       0       0         0   0.00%   -inf            2207262020.963     Large        0      0      0         0    17.8s\n",
      " R       0       0         0   0.00%   2044639556.16   2144604325.809     4.66%        0      0      0     65869    18.8s\n",
      "         0       0         0   0.00%   2046404240.731  2144604325.809     4.58%      699      9      0     66530    24.4s\n",
      " L       0       0         0   0.00%   2048190235.132  2139646859.602     4.27%      721     18      0     66896    50.8s\n",
      "         1       0         0 100.00%   2139643569.371  2139646859.602     0.00%      721     16      0    103261    55.9s\n",
      "\n",
      "Solving report\n",
      "  Status            Optimal\n",
      "  Primal bound      2139646859.6\n",
      "  Dual bound        2139643569.37\n",
      "  Gap               0.000154% (tolerance: 0.01%)\n",
      "  Solution status   feasible\n",
      "                    2139646859.6 (objective)\n",
      "                    0 (bound viol.)\n",
      "                    0 (int. viol.)\n",
      "                    0 (row viol.)\n",
      "  Timing            55.91 (total)\n",
      "                    0.23 (presolve)\n",
      "                    0.00 (postsolve)\n",
      "  Nodes             1\n",
      "  LP iterations     103261 (total)\n",
      "                    3766 (strong br.)\n",
      "                    1028 (separation)\n",
      "                    28580 (heuristics)\n"
     ]
    },
    {
     "name": "stderr",
     "output_type": "stream",
     "text": [
      "INFO:linopy.constants: Optimization successful: \n",
      "Status: ok\n",
      "Termination condition: optimal\n",
      "Solution: 46739 primals, 105141 duals\n",
      "Objective: 2.14e+09\n",
      "Solver model: available\n",
      "Solver message: optimal\n",
      "\n",
      "INFO:pypsa.optimization.optimize:The shadow-prices of the constraints Generator-ext-p-lower, Generator-ext-p-upper, Link-ext-p-lower, Link-ext-p-upper, Store-ext-e-lower, Store-ext-e-upper, Store-energy_balance were not assigned to the network.\n"
     ]
    },
    {
     "name": "stdout",
     "output_type": "stream",
     "text": [
      "Writing the solution to /tmp/linopy-solve-f2p6bp8e.sol\n"
     ]
    },
    {
     "name": "stderr",
     "output_type": "stream",
     "text": [
      "INFO:pypsa.io:Exported network network.nc has stores, carriers, loads, buses, generators, links\n",
      "INFO:pypsa.io:Imported network network.nc has buses, carriers, generators, links, loads, stores\n",
      "/home/viktor/code/pypsa-vgr/generator/library/output_files.py:289: FutureWarning:\n",
      "\n",
      "A value is trying to be set on a copy of a DataFrame or Series through chained assignment using an inplace method.\n",
      "The behavior will change in pandas 3.0. This inplace method will never work because the intermediate object on which we are setting values always behaves as a copy.\n",
      "\n",
      "For example, when doing 'df[col].method(value, inplace=True)', try using 'df.method({col: value}, inplace=True)' or df[col] = df[col].method(value) instead, to perform the operation inplace on the original object.\n",
      "\n",
      "\n",
      "\n"
     ]
    },
    {
     "name": "stdout",
     "output_type": "stream",
     "text": [
      "98 out of 120: ('14:1460-1438-1439-1484-1461-1430-1421-1427-1486-1435-1488-1485-1487-1492', 2030, 1, 2.5, True, True, 600)\n",
      "Create and store parameters\n",
      "Check weather files\n",
      "Check renewables data\n",
      "Create and store demand\n",
      "Create and store network\n",
      "Using config:\n",
      "\th2:True\n",
      "\toffwind:True\n",
      "\tbiogas:1200\n"
     ]
    },
    {
     "name": "stderr",
     "output_type": "stream",
     "text": [
      "INFO:pypsa.io:Exported network network.nc has stores, carriers, loads, buses, generators, links\n"
     ]
    },
    {
     "name": "stdout",
     "output_type": "stream",
     "text": [
      "Run optimization\n"
     ]
    },
    {
     "name": "stderr",
     "output_type": "stream",
     "text": [
      "INFO:pypsa.io:Imported network network.nc has buses, carriers, generators, links, loads, stores\n",
      "INFO:linopy.model: Solve problem using Highs solver\n",
      "INFO:linopy.io:Writing objective.\n",
      "Writing constraints.: 100%|\u001b[38;2;128;191;255m██████████\u001b[0m| 17/17 [00:00<00:00, 32.56it/s]\n",
      "Writing continuous variables.: 100%|\u001b[38;2;128;191;255m██████████\u001b[0m| 9/9 [00:00<00:00, 98.04it/s]\n",
      "Writing integer variables.: 100%|\u001b[38;2;128;191;255m██████████\u001b[0m| 2/2 [00:00<00:00, 482.02it/s]\n",
      "INFO:linopy.io: Writing time: 0.66s\n",
      "INFO:linopy.solvers:Log file at /tmp/highs.log\n"
     ]
    },
    {
     "name": "stdout",
     "output_type": "stream",
     "text": [
      "Running HiGHS 1.7.2 (git hash: 184e327): Copyright (c) 2024 HiGHS under MIT licence terms\n",
      "Coefficient ranges:\n",
      "  Matrix [1e-07, 3e+02]\n",
      "  Cost   [6e+01, 2e+06]\n",
      "  Bound  [0e+00, 0e+00]\n",
      "  RHS    [2e+02, 1e+03]\n",
      "Presolving model\n",
      "48138 rows, 42306 cols, 126894 nonzeros  0s\n",
      "38013 rows, 32181 cols, 117204 nonzeros  0s\n",
      "37933 rows, 32101 cols, 117560 nonzeros  0s\n",
      "\n",
      "Solving MIP model with:\n",
      "   37933 rows\n",
      "   32101 cols (0 binary, 5 integer, 0 implied int., 32096 continuous)\n",
      "   117560 nonzeros\n",
      "\n",
      "        Nodes      |    B&B Tree     |            Objective Bounds              |  Dynamic Constraints |       Work      \n",
      "     Proc. InQueue |  Leaves   Expl. | BestBound       BestSol              Gap |   Cuts   InLp Confl. | LpIters     Time\n",
      "\n",
      "         0       0         0   0.00%   -inf            inf                  inf        0      0      0         0     0.2s\n",
      " S       0       0         0   0.00%   -inf            2207262020.963     Large        0      0      0         0    17.2s\n",
      " R       0       0         0   0.00%   2044639556.16   2144604325.809     4.66%        0      0      0     67542    18.1s\n",
      "         0       0         0   0.00%   2046404240.731  2144604325.809     4.58%      697      9      0     68160    23.7s\n",
      " L       0       0         0   0.00%   2048190235.132  2139646859.602     4.27%      716     18      0     68675    49.4s\n",
      "\n",
      "Solving report\n",
      "  Status            Optimal\n",
      "  Primal bound      2139646859.6\n",
      "  Dual bound        2139643569.37\n",
      "  Gap               0.000154% (tolerance: 0.01%)\n",
      "  Solution status   feasible\n",
      "                    2139646859.6 (objective)\n",
      "                    0 (bound viol.)\n",
      "                    0 (int. viol.)\n",
      "                    0 (row viol.)\n",
      "  Timing            53.97 (total)\n",
      "                    0.22 (presolve)\n",
      "                    0.00 (postsolve)\n",
      "  Nodes             1\n",
      "  LP iterations     105054 (total)\n",
      "                    3908 (strong br.)\n",
      "                    1134 (separation)\n",
      "                    28631 (heuristics)\n"
     ]
    },
    {
     "name": "stderr",
     "output_type": "stream",
     "text": [
      "INFO:linopy.constants: Optimization successful: \n",
      "Status: ok\n",
      "Termination condition: optimal\n",
      "Solution: 46739 primals, 105141 duals\n",
      "Objective: 2.14e+09\n",
      "Solver model: available\n",
      "Solver message: optimal\n",
      "\n",
      "INFO:pypsa.optimization.optimize:The shadow-prices of the constraints Generator-ext-p-lower, Generator-ext-p-upper, Link-ext-p-lower, Link-ext-p-upper, Store-ext-e-lower, Store-ext-e-upper, Store-energy_balance were not assigned to the network.\n"
     ]
    },
    {
     "name": "stdout",
     "output_type": "stream",
     "text": [
      "Writing the solution to /tmp/linopy-solve-zbv4f28t.sol\n"
     ]
    },
    {
     "name": "stderr",
     "output_type": "stream",
     "text": [
      "INFO:pypsa.io:Exported network network.nc has stores, carriers, loads, buses, generators, links\n",
      "INFO:pypsa.io:Imported network network.nc has buses, carriers, generators, links, loads, stores\n",
      "/home/viktor/code/pypsa-vgr/generator/library/output_files.py:289: FutureWarning:\n",
      "\n",
      "A value is trying to be set on a copy of a DataFrame or Series through chained assignment using an inplace method.\n",
      "The behavior will change in pandas 3.0. This inplace method will never work because the intermediate object on which we are setting values always behaves as a copy.\n",
      "\n",
      "For example, when doing 'df[col].method(value, inplace=True)', try using 'df.method({col: value}, inplace=True)' or df[col] = df[col].method(value) instead, to perform the operation inplace on the original object.\n",
      "\n",
      "\n",
      "\n"
     ]
    },
    {
     "name": "stdout",
     "output_type": "stream",
     "text": [
      "99 out of 120: ('14:1460-1438-1439-1484-1461-1430-1421-1427-1486-1435-1488-1485-1487-1492', 2030, 1, 2.5, True, True, 1200)\n",
      "Create and store parameters\n",
      "Check weather files\n",
      "Check renewables data\n",
      "Create and store demand\n",
      "Create and store network\n",
      "Using config:\n",
      "\th2:True\n",
      "\toffwind:True\n",
      "\tbiogas:1800\n"
     ]
    },
    {
     "name": "stderr",
     "output_type": "stream",
     "text": [
      "INFO:pypsa.io:Exported network network.nc has stores, carriers, loads, buses, generators, links\n"
     ]
    },
    {
     "name": "stdout",
     "output_type": "stream",
     "text": [
      "Run optimization\n"
     ]
    },
    {
     "name": "stderr",
     "output_type": "stream",
     "text": [
      "INFO:pypsa.io:Imported network network.nc has buses, carriers, generators, links, loads, stores\n",
      "INFO:linopy.model: Solve problem using Highs solver\n",
      "INFO:linopy.io:Writing objective.\n",
      "Writing constraints.: 100%|\u001b[38;2;128;191;255m██████████\u001b[0m| 17/17 [00:00<00:00, 36.44it/s]\n",
      "Writing continuous variables.: 100%|\u001b[38;2;128;191;255m██████████\u001b[0m| 9/9 [00:00<00:00, 113.81it/s]\n",
      "Writing integer variables.: 100%|\u001b[38;2;128;191;255m██████████\u001b[0m| 2/2 [00:00<00:00, 832.86it/s]\n",
      "INFO:linopy.io: Writing time: 0.58s\n",
      "INFO:linopy.solvers:Log file at /tmp/highs.log\n"
     ]
    },
    {
     "name": "stdout",
     "output_type": "stream",
     "text": [
      "Running HiGHS 1.7.2 (git hash: 184e327): Copyright (c) 2024 HiGHS under MIT licence terms\n"
     ]
    },
    {
     "name": "stderr",
     "output_type": "stream",
     "text": [
      "INFO:linopy.constants: Optimization successful: \n",
      "Status: ok\n",
      "Termination condition: optimal\n",
      "Solution: 46739 primals, 105141 duals\n",
      "Objective: 2.14e+09\n",
      "Solver model: available\n",
      "Solver message: optimal\n",
      "\n",
      "INFO:pypsa.optimization.optimize:The shadow-prices of the constraints Generator-ext-p-lower, Generator-ext-p-upper, Link-ext-p-lower, Link-ext-p-upper, Store-ext-e-lower, Store-ext-e-upper, Store-energy_balance were not assigned to the network.\n"
     ]
    },
    {
     "name": "stdout",
     "output_type": "stream",
     "text": [
      "Coefficient ranges:\n",
      "  Matrix [1e-07, 3e+02]\n",
      "  Cost   [6e+01, 2e+06]\n",
      "  Bound  [0e+00, 0e+00]\n",
      "  RHS    [2e+02, 2e+03]\n",
      "Presolving model\n",
      "48138 rows, 42306 cols, 126894 nonzeros  0s\n",
      "38013 rows, 32181 cols, 117204 nonzeros  0s\n",
      "37933 rows, 32101 cols, 117560 nonzeros  0s\n",
      "\n",
      "Solving MIP model with:\n",
      "   37933 rows\n",
      "   32101 cols (0 binary, 5 integer, 0 implied int., 32096 continuous)\n",
      "   117560 nonzeros\n",
      "\n",
      "        Nodes      |    B&B Tree     |            Objective Bounds              |  Dynamic Constraints |       Work      \n",
      "     Proc. InQueue |  Leaves   Expl. | BestBound       BestSol              Gap |   Cuts   InLp Confl. | LpIters     Time\n",
      "\n",
      "         0       0         0   0.00%   -inf            inf                  inf        0      0      0         0     0.2s\n",
      " S       0       0         0   0.00%   -inf            2207262020.963     Large        0      0      0         0    16.0s\n",
      " R       0       0         0   0.00%   2044639556.16   2144604325.809     4.66%        0      0      0     67542    16.9s\n",
      "         0       0         0   0.00%   2046404240.731  2144604325.809     4.58%      697      9      0     68160    22.0s\n",
      " L       0       0         0   0.00%   2048190235.132  2139646859.602     4.27%      716     18      0     68675    46.9s\n",
      "\n",
      "Solving report\n",
      "  Status            Optimal\n",
      "  Primal bound      2139646859.6\n",
      "  Dual bound        2139643569.37\n",
      "  Gap               0.000154% (tolerance: 0.01%)\n",
      "  Solution status   feasible\n",
      "                    2139646859.6 (objective)\n",
      "                    0 (bound viol.)\n",
      "                    0 (int. viol.)\n",
      "                    0 (row viol.)\n",
      "  Timing            51.43 (total)\n",
      "                    0.22 (presolve)\n",
      "                    0.00 (postsolve)\n",
      "  Nodes             1\n",
      "  LP iterations     105054 (total)\n",
      "                    3908 (strong br.)\n",
      "                    1134 (separation)\n",
      "                    28631 (heuristics)\n",
      "Writing the solution to /tmp/linopy-solve-e_sdluz9.sol\n"
     ]
    },
    {
     "name": "stderr",
     "output_type": "stream",
     "text": [
      "INFO:pypsa.io:Exported network network.nc has stores, carriers, loads, buses, generators, links\n",
      "INFO:pypsa.io:Imported network network.nc has buses, carriers, generators, links, loads, stores\n",
      "/home/viktor/code/pypsa-vgr/generator/library/output_files.py:289: FutureWarning:\n",
      "\n",
      "A value is trying to be set on a copy of a DataFrame or Series through chained assignment using an inplace method.\n",
      "The behavior will change in pandas 3.0. This inplace method will never work because the intermediate object on which we are setting values always behaves as a copy.\n",
      "\n",
      "For example, when doing 'df[col].method(value, inplace=True)', try using 'df.method({col: value}, inplace=True)' or df[col] = df[col].method(value) instead, to perform the operation inplace on the original object.\n",
      "\n",
      "\n",
      "\n"
     ]
    },
    {
     "name": "stdout",
     "output_type": "stream",
     "text": [
      "100 out of 120: ('14:1460-1438-1439-1484-1461-1430-1421-1427-1486-1435-1488-1485-1487-1492', 2030, 1, 2.5, True, True, 1800)\n",
      "Create and store parameters\n",
      "Check weather files\n",
      "Check renewables data\n",
      "Create and store demand\n",
      "Create and store network\n",
      "Using config:\n",
      "\th2:True\n",
      "\toffwind:True\n",
      "\tbiogas:0\n"
     ]
    },
    {
     "name": "stderr",
     "output_type": "stream",
     "text": [
      "INFO:pypsa.io:Exported network network.nc has stores, carriers, loads, buses, generators, links\n"
     ]
    },
    {
     "name": "stdout",
     "output_type": "stream",
     "text": [
      "Run optimization\n"
     ]
    },
    {
     "name": "stderr",
     "output_type": "stream",
     "text": [
      "INFO:pypsa.io:Imported network network.nc has buses, carriers, generators, links, loads, stores\n",
      "INFO:linopy.model: Solve problem using Highs solver\n",
      "INFO:linopy.io:Writing objective.\n",
      "Writing constraints.: 100%|\u001b[38;2;128;191;255m██████████\u001b[0m| 17/17 [00:00<00:00, 42.99it/s]\n",
      "Writing continuous variables.: 100%|\u001b[38;2;128;191;255m██████████\u001b[0m| 9/9 [00:00<00:00, 128.08it/s]\n",
      "Writing integer variables.: 100%|\u001b[38;2;128;191;255m██████████\u001b[0m| 2/2 [00:00<00:00, 786.85it/s]\n",
      "INFO:linopy.io: Writing time: 0.5s\n",
      "INFO:linopy.solvers:Log file at /tmp/highs.log\n"
     ]
    },
    {
     "name": "stdout",
     "output_type": "stream",
     "text": [
      "Running HiGHS 1.7.2 (git hash: 184e327): Copyright (c) 2024 HiGHS under MIT licence terms\n",
      "Coefficient ranges:\n",
      "  Matrix [1e-07, 3e+02]\n",
      "  Cost   [6e+01, 2e+06]\n",
      "  Bound  [0e+00, 0e+00]\n",
      "  RHS    [2e+02, 7e+02]\n",
      "Presolving model\n",
      "45218 rows, 36466 cols, 118134 nonzeros  0s\n",
      "37933 rows, 29181 cols, 111748 nonzeros  0s\n",
      "37933 rows, 29181 cols, 111748 nonzeros  0s\n",
      "\n",
      "Solving MIP model with:\n",
      "   37933 rows\n",
      "   29181 cols (0 binary, 5 integer, 0 implied int., 29176 continuous)\n",
      "   111748 nonzeros\n",
      "\n",
      "        Nodes      |    B&B Tree     |            Objective Bounds              |  Dynamic Constraints |       Work      \n",
      "     Proc. InQueue |  Leaves   Expl. | BestBound       BestSol              Gap |   Cuts   InLp Confl. | LpIters     Time\n",
      "\n",
      "         0       0         0   0.00%   -inf            inf                  inf        0      0      0         0     0.2s\n",
      " S       0       0         0   0.00%   -inf            4449047493.327     Large        0      0      0         0     6.2s\n",
      " R       0       0         0   0.00%   4444664479.811  4445129521.767     0.01%        0      0      0     37065     6.5s\n",
      "\n",
      "60.0% inactive integer columns, restarting\n",
      "Model after restart has 21404 rows, 15568 cols (0 bin., 2 int., 0 impl., 15566 cont.), and 66648 nonzeros\n",
      "\n",
      "         0       0         0   0.00%   4444664479.811  4445129521.767     0.01%        0      0      0     37065     6.6s\n",
      " R       0       0         0   0.00%   4444664479.811  4444681886.542     0.00%        0      0      0     37822     7.0s\n",
      "\n",
      "Solving report\n",
      "  Status            Optimal\n",
      "  Primal bound      4444681886.54\n",
      "  Dual bound        4444664479.81\n",
      "  Gap               0.000392% (tolerance: 0.01%)\n",
      "  Solution status   feasible\n",
      "                    4444681886.54 (objective)\n",
      "                    0 (bound viol.)\n",
      "                    0 (int. viol.)\n",
      "                    0 (row viol.)\n",
      "  Timing            6.96 (total)\n",
      "                    0.29 (presolve)\n",
      "                    0.00 (postsolve)\n",
      "  Nodes             1\n",
      "  LP iterations     37822 (total)\n",
      "                    0 (strong br.)\n",
      "                    0 (separation)\n",
      "                    0 (heuristics)\n",
      "Writing the solution to /tmp/linopy-solve-aajo9bwk.sol\n"
     ]
    },
    {
     "name": "stderr",
     "output_type": "stream",
     "text": [
      "INFO:linopy.constants: Optimization successful: \n",
      "Status: ok\n",
      "Termination condition: optimal\n",
      "Solution: 40897 primals, 90538 duals\n",
      "Objective: 4.44e+09\n",
      "Solver model: available\n",
      "Solver message: optimal\n",
      "\n",
      "INFO:pypsa.optimization.optimize:The shadow-prices of the constraints Generator-ext-p-lower, Generator-ext-p-upper, Link-ext-p-lower, Link-ext-p-upper, Store-ext-e-lower, Store-ext-e-upper, Store-energy_balance were not assigned to the network.\n",
      "INFO:pypsa.io:Exported network network.nc has stores, carriers, loads, buses, generators, links\n",
      "INFO:pypsa.io:Imported network network.nc has buses, carriers, generators, links, loads, stores\n",
      "/home/viktor/code/pypsa-vgr/generator/library/output_files.py:289: FutureWarning:\n",
      "\n",
      "A value is trying to be set on a copy of a DataFrame or Series through chained assignment using an inplace method.\n",
      "The behavior will change in pandas 3.0. This inplace method will never work because the intermediate object on which we are setting values always behaves as a copy.\n",
      "\n",
      "For example, when doing 'df[col].method(value, inplace=True)', try using 'df.method({col: value}, inplace=True)' or df[col] = df[col].method(value) instead, to perform the operation inplace on the original object.\n",
      "\n",
      "\n",
      "\n"
     ]
    },
    {
     "name": "stdout",
     "output_type": "stream",
     "text": [
      "101 out of 120: ('14:1460-1438-1439-1484-1461-1430-1421-1427-1486-1435-1488-1485-1487-1492', 2030, 1, 3.75, True, True, 0)\n",
      "Create and store parameters\n",
      "Check weather files\n",
      "Check renewables data\n",
      "Create and store demand\n",
      "Create and store network\n",
      "Using config:\n",
      "\th2:True\n",
      "\toffwind:True\n",
      "\tbiogas:300\n"
     ]
    },
    {
     "name": "stderr",
     "output_type": "stream",
     "text": [
      "INFO:pypsa.io:Exported network network.nc has stores, carriers, loads, buses, generators, links\n"
     ]
    },
    {
     "name": "stdout",
     "output_type": "stream",
     "text": [
      "Run optimization\n"
     ]
    },
    {
     "name": "stderr",
     "output_type": "stream",
     "text": [
      "INFO:pypsa.io:Imported network network.nc has buses, carriers, generators, links, loads, stores\n",
      "INFO:linopy.model: Solve problem using Highs solver\n",
      "INFO:linopy.io:Writing objective.\n",
      "Writing constraints.: 100%|\u001b[38;2;128;191;255m██████████\u001b[0m| 17/17 [00:00<00:00, 37.77it/s]\n",
      "Writing continuous variables.: 100%|\u001b[38;2;128;191;255m██████████\u001b[0m| 9/9 [00:00<00:00, 114.27it/s]\n",
      "Writing integer variables.: 100%|\u001b[38;2;128;191;255m██████████\u001b[0m| 2/2 [00:00<00:00, 1025.25it/s]\n",
      "INFO:linopy.io: Writing time: 0.56s\n",
      "INFO:linopy.solvers:Log file at /tmp/highs.log\n"
     ]
    },
    {
     "name": "stdout",
     "output_type": "stream",
     "text": [
      "Running HiGHS 1.7.2 (git hash: 184e327): Copyright (c) 2024 HiGHS under MIT licence terms\n",
      "Coefficient ranges:\n",
      "  Matrix [1e-07, 3e+02]\n"
     ]
    },
    {
     "name": "stderr",
     "output_type": "stream",
     "text": [
      "INFO:linopy.constants: Optimization successful: \n",
      "Status: ok\n",
      "Termination condition: optimal\n",
      "Solution: 46739 primals, 105141 duals\n",
      "Objective: 3.51e+09\n",
      "Solver model: available\n",
      "Solver message: optimal\n",
      "\n",
      "INFO:pypsa.optimization.optimize:The shadow-prices of the constraints Generator-ext-p-lower, Generator-ext-p-upper, Link-ext-p-lower, Link-ext-p-upper, Store-ext-e-lower, Store-ext-e-upper, Store-energy_balance were not assigned to the network.\n"
     ]
    },
    {
     "name": "stdout",
     "output_type": "stream",
     "text": [
      "  Cost   [6e+01, 2e+06]\n",
      "  Bound  [0e+00, 0e+00]\n",
      "  RHS    [2e+02, 7e+02]\n",
      "Presolving model\n",
      "48138 rows, 42306 cols, 126894 nonzeros  0s\n",
      "38013 rows, 32181 cols, 117204 nonzeros  0s\n",
      "37933 rows, 32101 cols, 117560 nonzeros  0s\n",
      "\n",
      "Solving MIP model with:\n",
      "   37933 rows\n",
      "   32101 cols (0 binary, 5 integer, 0 implied int., 32096 continuous)\n",
      "   117560 nonzeros\n",
      "\n",
      "        Nodes      |    B&B Tree     |            Objective Bounds              |  Dynamic Constraints |       Work      \n",
      "     Proc. InQueue |  Leaves   Expl. | BestBound       BestSol              Gap |   Cuts   InLp Confl. | LpIters     Time\n",
      "\n",
      "         0       0         0   0.00%   -inf            inf                  inf        0      0      0         0     0.2s\n",
      " S       0       0         0   0.00%   -inf            3510640922.177     Large        0      0      0         0    15.2s\n",
      " R       0       0         0   0.00%   3506384228.127  3506730379.257     0.01%        0      0      0     55771    15.4s\n",
      "\n",
      "Solving report\n",
      "  Status            Optimal\n",
      "  Primal bound      3506730379.26\n",
      "  Dual bound        3506384228.13\n",
      "  Gap               0.00987% (tolerance: 0.01%)\n",
      "  Solution status   feasible\n",
      "                    3506730379.26 (objective)\n",
      "                    0 (bound viol.)\n",
      "                    0 (int. viol.)\n",
      "                    0 (row viol.)\n",
      "  Timing            15.38 (total)\n",
      "                    0.19 (presolve)\n",
      "                    0.00 (postsolve)\n",
      "  Nodes             1\n",
      "  LP iterations     55771 (total)\n",
      "                    0 (strong br.)\n",
      "                    0 (separation)\n",
      "                    0 (heuristics)\n",
      "Writing the solution to /tmp/linopy-solve-wor1n88_.sol\n"
     ]
    },
    {
     "name": "stderr",
     "output_type": "stream",
     "text": [
      "INFO:pypsa.io:Exported network network.nc has stores, carriers, loads, buses, generators, links\n",
      "INFO:pypsa.io:Imported network network.nc has buses, carriers, generators, links, loads, stores\n",
      "/home/viktor/code/pypsa-vgr/generator/library/output_files.py:289: FutureWarning:\n",
      "\n",
      "A value is trying to be set on a copy of a DataFrame or Series through chained assignment using an inplace method.\n",
      "The behavior will change in pandas 3.0. This inplace method will never work because the intermediate object on which we are setting values always behaves as a copy.\n",
      "\n",
      "For example, when doing 'df[col].method(value, inplace=True)', try using 'df.method({col: value}, inplace=True)' or df[col] = df[col].method(value) instead, to perform the operation inplace on the original object.\n",
      "\n",
      "\n",
      "\n"
     ]
    },
    {
     "name": "stdout",
     "output_type": "stream",
     "text": [
      "102 out of 120: ('14:1460-1438-1439-1484-1461-1430-1421-1427-1486-1435-1488-1485-1487-1492', 2030, 1, 3.75, True, True, 300)\n",
      "Create and store parameters\n",
      "Check weather files\n",
      "Check renewables data\n",
      "Create and store demand\n",
      "Create and store network\n",
      "Using config:\n",
      "\th2:True\n",
      "\toffwind:True\n",
      "\tbiogas:600\n"
     ]
    },
    {
     "name": "stderr",
     "output_type": "stream",
     "text": [
      "INFO:pypsa.io:Exported network network.nc has stores, carriers, loads, buses, generators, links\n"
     ]
    },
    {
     "name": "stdout",
     "output_type": "stream",
     "text": [
      "Run optimization\n"
     ]
    },
    {
     "name": "stderr",
     "output_type": "stream",
     "text": [
      "INFO:pypsa.io:Imported network network.nc has buses, carriers, generators, links, loads, stores\n",
      "INFO:linopy.model: Solve problem using Highs solver\n",
      "INFO:linopy.io:Writing objective.\n",
      "Writing constraints.: 100%|\u001b[38;2;128;191;255m██████████\u001b[0m| 17/17 [00:00<00:00, 32.39it/s]\n",
      "Writing continuous variables.: 100%|\u001b[38;2;128;191;255m██████████\u001b[0m| 9/9 [00:00<00:00, 106.80it/s]\n",
      "Writing integer variables.: 100%|\u001b[38;2;128;191;255m██████████\u001b[0m| 2/2 [00:00<00:00, 869.20it/s]\n",
      "INFO:linopy.io: Writing time: 0.65s\n",
      "INFO:linopy.solvers:Log file at /tmp/highs.log\n",
      "INFO:linopy.constants: Optimization successful: \n",
      "Status: ok\n",
      "Termination condition: optimal\n",
      "Solution: 46739 primals, 105141 duals\n",
      "Objective: 3.08e+09\n",
      "Solver model: available\n",
      "Solver message: optimal\n",
      "\n",
      "INFO:pypsa.optimization.optimize:The shadow-prices of the constraints Generator-ext-p-lower, Generator-ext-p-upper, Link-ext-p-lower, Link-ext-p-upper, Store-ext-e-lower, Store-ext-e-upper, Store-energy_balance were not assigned to the network.\n"
     ]
    },
    {
     "name": "stdout",
     "output_type": "stream",
     "text": [
      "Running HiGHS 1.7.2 (git hash: 184e327): Copyright (c) 2024 HiGHS under MIT licence terms\n",
      "Coefficient ranges:\n",
      "  Matrix [1e-07, 3e+02]\n",
      "  Cost   [6e+01, 2e+06]\n",
      "  Bound  [0e+00, 0e+00]\n",
      "  RHS    [2e+02, 7e+02]\n",
      "Presolving model\n",
      "48138 rows, 42306 cols, 126894 nonzeros  0s\n",
      "38013 rows, 32181 cols, 117204 nonzeros  0s\n",
      "37933 rows, 32101 cols, 117560 nonzeros  0s\n",
      "\n",
      "Solving MIP model with:\n",
      "   37933 rows\n",
      "   32101 cols (0 binary, 5 integer, 0 implied int., 32096 continuous)\n",
      "   117560 nonzeros\n",
      "\n",
      "        Nodes      |    B&B Tree     |            Objective Bounds              |  Dynamic Constraints |       Work      \n",
      "     Proc. InQueue |  Leaves   Expl. | BestBound       BestSol              Gap |   Cuts   InLp Confl. | LpIters     Time\n",
      "\n",
      "         0       0         0   0.00%   -inf            inf                  inf        0      0      0         0     0.2s\n",
      " S       0       0         0   0.00%   -inf            3082339148.083     Large        0      0      0         0    18.1s\n",
      " R       0       0         0   0.00%   3080494836.192  3080499255.416     0.00%        0      0      0     58882    18.2s\n",
      "\n",
      "Solving report\n",
      "  Status            Optimal\n",
      "  Primal bound      3080499255.42\n",
      "  Dual bound        3080494836.19\n",
      "  Gap               0.000143% (tolerance: 0.01%)\n",
      "  Solution status   feasible\n",
      "                    3080499255.42 (objective)\n",
      "                    0 (bound viol.)\n",
      "                    0 (int. viol.)\n",
      "                    0 (row viol.)\n",
      "  Timing            18.23 (total)\n",
      "                    0.21 (presolve)\n",
      "                    0.00 (postsolve)\n",
      "  Nodes             1\n",
      "  LP iterations     58882 (total)\n",
      "                    0 (strong br.)\n",
      "                    0 (separation)\n",
      "                    0 (heuristics)\n",
      "Writing the solution to /tmp/linopy-solve-ic8nq6pk.sol\n"
     ]
    },
    {
     "name": "stderr",
     "output_type": "stream",
     "text": [
      "INFO:pypsa.io:Exported network network.nc has stores, carriers, loads, buses, generators, links\n",
      "INFO:pypsa.io:Imported network network.nc has buses, carriers, generators, links, loads, stores\n",
      "/home/viktor/code/pypsa-vgr/generator/library/output_files.py:289: FutureWarning:\n",
      "\n",
      "A value is trying to be set on a copy of a DataFrame or Series through chained assignment using an inplace method.\n",
      "The behavior will change in pandas 3.0. This inplace method will never work because the intermediate object on which we are setting values always behaves as a copy.\n",
      "\n",
      "For example, when doing 'df[col].method(value, inplace=True)', try using 'df.method({col: value}, inplace=True)' or df[col] = df[col].method(value) instead, to perform the operation inplace on the original object.\n",
      "\n",
      "\n",
      "\n"
     ]
    },
    {
     "name": "stdout",
     "output_type": "stream",
     "text": [
      "103 out of 120: ('14:1460-1438-1439-1484-1461-1430-1421-1427-1486-1435-1488-1485-1487-1492', 2030, 1, 3.75, True, True, 600)\n",
      "Create and store parameters\n",
      "Check weather files\n",
      "Check renewables data\n",
      "Create and store demand\n",
      "Create and store network\n",
      "Using config:\n",
      "\th2:True\n",
      "\toffwind:True\n",
      "\tbiogas:1200\n"
     ]
    },
    {
     "name": "stderr",
     "output_type": "stream",
     "text": [
      "INFO:pypsa.io:Exported network network.nc has stores, carriers, loads, buses, generators, links\n",
      "INFO:pypsa.io:Imported network network.nc has buses, carriers, generators, links, loads, stores\n"
     ]
    },
    {
     "name": "stdout",
     "output_type": "stream",
     "text": [
      "Run optimization\n"
     ]
    },
    {
     "name": "stderr",
     "output_type": "stream",
     "text": [
      "INFO:linopy.model: Solve problem using Highs solver\n",
      "INFO:linopy.io:Writing objective.\n",
      "Writing constraints.: 100%|\u001b[38;2;128;191;255m██████████\u001b[0m| 17/17 [00:00<00:00, 34.20it/s]\n",
      "Writing continuous variables.: 100%|\u001b[38;2;128;191;255m██████████\u001b[0m| 9/9 [00:00<00:00, 106.19it/s]\n",
      "Writing integer variables.: 100%|\u001b[38;2;128;191;255m██████████\u001b[0m| 2/2 [00:00<00:00, 864.54it/s]\n",
      "INFO:linopy.io: Writing time: 0.62s\n",
      "INFO:linopy.solvers:Log file at /tmp/highs.log\n"
     ]
    },
    {
     "name": "stdout",
     "output_type": "stream",
     "text": [
      "Running HiGHS 1.7.2 (git hash: 184e327): Copyright (c) 2024 HiGHS under MIT licence terms\n"
     ]
    },
    {
     "name": "stderr",
     "output_type": "stream",
     "text": [
      "INFO:linopy.constants: Optimization successful: \n",
      "Status: ok\n",
      "Termination condition: optimal\n",
      "Solution: 46739 primals, 105141 duals\n",
      "Objective: 3.08e+09\n",
      "Solver model: available\n",
      "Solver message: optimal\n",
      "\n"
     ]
    },
    {
     "name": "stdout",
     "output_type": "stream",
     "text": [
      "Coefficient ranges:\n",
      "  Matrix [1e-07, 3e+02]\n",
      "  Cost   [6e+01, 2e+06]\n",
      "  Bound  [0e+00, 0e+00]\n",
      "  RHS    [2e+02, 1e+03]\n",
      "Presolving model\n",
      "48138 rows, 42306 cols, 126894 nonzeros  0s\n",
      "38013 rows, 32181 cols, 117204 nonzeros  0s\n",
      "37933 rows, 32101 cols, 117560 nonzeros  0s\n",
      "\n",
      "Solving MIP model with:\n",
      "   37933 rows\n",
      "   32101 cols (0 binary, 5 integer, 0 implied int., 32096 continuous)\n",
      "   117560 nonzeros\n",
      "\n",
      "        Nodes      |    B&B Tree     |            Objective Bounds              |  Dynamic Constraints |       Work      \n",
      "     Proc. InQueue |  Leaves   Expl. | BestBound       BestSol              Gap |   Cuts   InLp Confl. | LpIters     Time\n",
      "\n",
      "         0       0         0   0.00%   -inf            inf                  inf        0      0      0         0     0.3s\n",
      " S       0       0         0   0.00%   -inf            3308545600.851     Large        0      0      0         0    20.0s\n",
      " R       0       0         0   0.00%   3066959334.239  3216707530.274     4.66%        0      0      0     67423    21.2s\n",
      "         0       0         0   0.00%   3067972596.289  3216707530.274     4.62%      671      9      0     67870    26.9s\n",
      " L       0       0         0   0.00%   3069086646.452  3080497102.176     0.37%      705     20      0     68223    46.7s\n",
      "         0       0         0   0.00%   3069086675.712  3080497102.176     0.37%      706     19      0     96453    59.6s\n",
      "\n",
      "Solving report\n",
      "  Status            Optimal\n",
      "  Primal bound      3080497102.18\n",
      "  Dual bound        3080494836.19\n",
      "  Gap               7.4e-05% (tolerance: 0.01%)\n",
      "  Solution status   feasible\n",
      "                    3080497102.18 (objective)\n",
      "                    0 (bound viol.)\n",
      "                    0 (int. viol.)\n",
      "                    0 (row viol.)\n",
      "  Timing            62.84 (total)\n",
      "                    0.23 (presolve)\n",
      "                    0.00 (postsolve)\n",
      "  Nodes             1\n",
      "  LP iterations     101326 (total)\n",
      "                    1119 (strong br.)\n",
      "                    801 (separation)\n",
      "                    28229 (heuristics)\n",
      "Writing the solution to /tmp/linopy-solve-kiw07761.sol\n"
     ]
    },
    {
     "name": "stderr",
     "output_type": "stream",
     "text": [
      "INFO:pypsa.optimization.optimize:The shadow-prices of the constraints Generator-ext-p-lower, Generator-ext-p-upper, Link-ext-p-lower, Link-ext-p-upper, Store-ext-e-lower, Store-ext-e-upper, Store-energy_balance were not assigned to the network.\n",
      "INFO:pypsa.io:Exported network network.nc has stores, carriers, loads, buses, generators, links\n",
      "INFO:pypsa.io:Imported network network.nc has buses, carriers, generators, links, loads, stores\n",
      "/home/viktor/code/pypsa-vgr/generator/library/output_files.py:289: FutureWarning:\n",
      "\n",
      "A value is trying to be set on a copy of a DataFrame or Series through chained assignment using an inplace method.\n",
      "The behavior will change in pandas 3.0. This inplace method will never work because the intermediate object on which we are setting values always behaves as a copy.\n",
      "\n",
      "For example, when doing 'df[col].method(value, inplace=True)', try using 'df.method({col: value}, inplace=True)' or df[col] = df[col].method(value) instead, to perform the operation inplace on the original object.\n",
      "\n",
      "\n",
      "\n"
     ]
    },
    {
     "name": "stdout",
     "output_type": "stream",
     "text": [
      "104 out of 120: ('14:1460-1438-1439-1484-1461-1430-1421-1427-1486-1435-1488-1485-1487-1492', 2030, 1, 3.75, True, True, 1200)\n",
      "Create and store parameters\n",
      "Check weather files\n",
      "Check renewables data\n",
      "Create and store demand\n",
      "Create and store network\n",
      "Using config:\n",
      "\th2:True\n",
      "\toffwind:True\n",
      "\tbiogas:1800\n"
     ]
    },
    {
     "name": "stderr",
     "output_type": "stream",
     "text": [
      "INFO:pypsa.io:Exported network network.nc has stores, carriers, loads, buses, generators, links\n",
      "INFO:pypsa.io:Imported network network.nc has buses, carriers, generators, links, loads, stores\n"
     ]
    },
    {
     "name": "stdout",
     "output_type": "stream",
     "text": [
      "Run optimization\n"
     ]
    },
    {
     "name": "stderr",
     "output_type": "stream",
     "text": [
      "INFO:linopy.model: Solve problem using Highs solver\n",
      "INFO:linopy.io:Writing objective.\n",
      "Writing constraints.: 100%|\u001b[38;2;128;191;255m██████████\u001b[0m| 17/17 [00:00<00:00, 32.91it/s]\n",
      "Writing continuous variables.: 100%|\u001b[38;2;128;191;255m██████████\u001b[0m| 9/9 [00:00<00:00, 88.18it/s]\n",
      "Writing integer variables.: 100%|\u001b[38;2;128;191;255m██████████\u001b[0m| 2/2 [00:00<00:00, 558.53it/s]\n",
      "INFO:linopy.io: Writing time: 0.66s\n",
      "INFO:linopy.solvers:Log file at /tmp/highs.log\n"
     ]
    },
    {
     "name": "stdout",
     "output_type": "stream",
     "text": [
      "Running HiGHS 1.7.2 (git hash: 184e327): Copyright (c) 2024 HiGHS under MIT licence terms\n",
      "Coefficient ranges:\n",
      "  Matrix [1e-07, 3e+02]\n",
      "  Cost   [6e+01, 2e+06]\n",
      "  Bound  [0e+00, 0e+00]\n",
      "  RHS    [2e+02, 2e+03]\n",
      "Presolving model\n",
      "48138 rows, 42306 cols, 126894 nonzeros  0s\n",
      "38013 rows, 32181 cols, 117204 nonzeros  0s\n",
      "37933 rows, 32101 cols, 117560 nonzeros  0s\n",
      "\n",
      "Solving MIP model with:\n",
      "   37933 rows\n",
      "   32101 cols (0 binary, 5 integer, 0 implied int., 32096 continuous)\n",
      "   117560 nonzeros\n",
      "\n",
      "        Nodes      |    B&B Tree     |            Objective Bounds              |  Dynamic Constraints |       Work      \n",
      "     Proc. InQueue |  Leaves   Expl. | BestBound       BestSol              Gap |   Cuts   InLp Confl. | LpIters     Time\n",
      "\n",
      "         0       0         0   0.00%   -inf            inf                  inf        0      0      0         0     0.3s\n",
      " S       0       0         0   0.00%   -inf            3308545600.851     Large        0      0      0         0    20.9s\n",
      " R       0       0         0   0.00%   3066959334.239  3216707530.274     4.66%        0      0      0     67423    22.1s\n",
      "         0       0         0   0.00%   3067972596.289  3216707530.274     4.62%      671      9      0     67870    27.6s\n",
      " L       0       0         0   0.00%   3069086646.452  3080497102.176     0.37%      705     20      0     68223    45.7s\n",
      "         0       0         0   0.00%   3069086675.712  3080497102.176     0.37%      706     19      0     96453    57.6s\n",
      "\n",
      "Solving report\n",
      "  Status            Optimal\n",
      "  Primal bound      3080497102.18\n",
      "  Dual bound        3080494836.19\n",
      "  Gap               7.4e-05% (tolerance: 0.01%)\n",
      "  Solution status   feasible\n",
      "                    3080497102.18 (objective)\n",
      "                    0 (bound viol.)\n",
      "                    0 (int. viol.)\n",
      "                    0 (row viol.)\n",
      "  Timing            60.52 (total)\n",
      "                    0.25 (presolve)\n",
      "                    0.00 (postsolve)\n",
      "  Nodes             1\n",
      "  LP iterations     101326 (total)\n",
      "                    1119 (strong br.)\n",
      "                    801 (separation)\n",
      "                    28229 (heuristics)\n",
      "Writing the solution to /tmp/linopy-solve-2329pajh.sol\n"
     ]
    },
    {
     "name": "stderr",
     "output_type": "stream",
     "text": [
      "INFO:linopy.constants: Optimization successful: \n",
      "Status: ok\n",
      "Termination condition: optimal\n",
      "Solution: 46739 primals, 105141 duals\n",
      "Objective: 3.08e+09\n",
      "Solver model: available\n",
      "Solver message: optimal\n",
      "\n",
      "INFO:pypsa.optimization.optimize:The shadow-prices of the constraints Generator-ext-p-lower, Generator-ext-p-upper, Link-ext-p-lower, Link-ext-p-upper, Store-ext-e-lower, Store-ext-e-upper, Store-energy_balance were not assigned to the network.\n",
      "INFO:pypsa.io:Exported network network.nc has stores, carriers, loads, buses, generators, links\n",
      "INFO:pypsa.io:Imported network network.nc has buses, carriers, generators, links, loads, stores\n",
      "/home/viktor/code/pypsa-vgr/generator/library/output_files.py:289: FutureWarning:\n",
      "\n",
      "A value is trying to be set on a copy of a DataFrame or Series through chained assignment using an inplace method.\n",
      "The behavior will change in pandas 3.0. This inplace method will never work because the intermediate object on which we are setting values always behaves as a copy.\n",
      "\n",
      "For example, when doing 'df[col].method(value, inplace=True)', try using 'df.method({col: value}, inplace=True)' or df[col] = df[col].method(value) instead, to perform the operation inplace on the original object.\n",
      "\n",
      "\n",
      "\n"
     ]
    },
    {
     "name": "stdout",
     "output_type": "stream",
     "text": [
      "105 out of 120: ('14:1460-1438-1439-1484-1461-1430-1421-1427-1486-1435-1488-1485-1487-1492', 2030, 1, 3.75, True, True, 1800)\n",
      "Create and store parameters\n",
      "Check weather files\n",
      "Check renewables data\n",
      "Create and store demand\n",
      "Create and store network\n",
      "Using config:\n",
      "\th2:True\n",
      "\toffwind:True\n",
      "\tbiogas:0\n"
     ]
    },
    {
     "name": "stderr",
     "output_type": "stream",
     "text": [
      "INFO:pypsa.io:Exported network network.nc has stores, carriers, loads, buses, generators, links\n"
     ]
    },
    {
     "name": "stdout",
     "output_type": "stream",
     "text": [
      "Run optimization\n"
     ]
    },
    {
     "name": "stderr",
     "output_type": "stream",
     "text": [
      "INFO:pypsa.io:Imported network network.nc has buses, carriers, generators, links, loads, stores\n",
      "INFO:linopy.model: Solve problem using Highs solver\n",
      "INFO:linopy.io:Writing objective.\n",
      "Writing constraints.: 100%|\u001b[38;2;128;191;255m██████████\u001b[0m| 17/17 [00:00<00:00, 38.90it/s]\n",
      "Writing continuous variables.: 100%|\u001b[38;2;128;191;255m██████████\u001b[0m| 9/9 [00:00<00:00, 97.18it/s]\n",
      "Writing integer variables.: 100%|\u001b[38;2;128;191;255m██████████\u001b[0m| 2/2 [00:00<00:00, 569.45it/s]\n",
      "INFO:linopy.io: Writing time: 0.57s\n",
      "INFO:linopy.solvers:Log file at /tmp/highs.log\n"
     ]
    },
    {
     "name": "stdout",
     "output_type": "stream",
     "text": [
      "Running HiGHS 1.7.2 (git hash: 184e327): Copyright (c) 2024 HiGHS under MIT licence terms\n",
      "Coefficient ranges:\n",
      "  Matrix [1e-07, 3e+02]\n",
      "  Cost   [6e+01, 2e+06]\n",
      "  Bound  [0e+00, 0e+00]\n",
      "  RHS    [3e+02, 9e+02]\n",
      "Presolving model\n",
      "45218 rows, 36466 cols, 118134 nonzeros  0s\n",
      "37933 rows, 29181 cols, 111748 nonzeros  0s\n",
      "37933 rows, 29181 cols, 111748 nonzeros  0s\n",
      "\n",
      "Solving MIP model with:\n",
      "   37933 rows\n",
      "   29181 cols (0 binary, 5 integer, 0 implied int., 29176 continuous)\n",
      "   111748 nonzeros\n",
      "\n",
      "        Nodes      |    B&B Tree     |            Objective Bounds              |  Dynamic Constraints |       Work      \n",
      "     Proc. InQueue |  Leaves   Expl. | BestBound       BestSol              Gap |   Cuts   InLp Confl. | LpIters     Time\n",
      "\n",
      "         0       0         0   0.00%   -inf            inf                  inf        0      0      0         0     0.2s\n",
      " S       0       0         0   0.00%   -inf            5928933416.98      Large        0      0      0         0     6.1s\n",
      " R       0       0         0   0.00%   5926219306.414  5926497677.887     0.00%        0      0      0     40281     6.4s\n",
      "\n",
      "Solving report\n",
      "  Status            Optimal\n",
      "  Primal bound      5926497677.89\n",
      "  Dual bound        5926219306.41\n",
      "  Gap               0.0047% (tolerance: 0.01%)\n",
      "  Solution status   feasible\n",
      "                    5926497677.89 (objective)\n",
      "                    0 (bound viol.)\n",
      "                    0 (int. viol.)\n",
      "                    0 (row viol.)\n",
      "  Timing            6.38 (total)\n",
      "                    0.16 (presolve)\n",
      "                    0.00 (postsolve)\n",
      "  Nodes             1\n",
      "  LP iterations     40281 (total)\n",
      "                    0 (strong br.)\n",
      "                    0 (separation)\n",
      "                    0 (heuristics)\n"
     ]
    },
    {
     "name": "stderr",
     "output_type": "stream",
     "text": [
      "INFO:linopy.constants: Optimization successful: \n",
      "Status: ok\n",
      "Termination condition: optimal\n",
      "Solution: 40897 primals, 90538 duals\n",
      "Objective: 5.93e+09\n",
      "Solver model: available\n",
      "Solver message: optimal\n",
      "\n",
      "INFO:pypsa.optimization.optimize:The shadow-prices of the constraints Generator-ext-p-lower, Generator-ext-p-upper, Link-ext-p-lower, Link-ext-p-upper, Store-ext-e-lower, Store-ext-e-upper, Store-energy_balance were not assigned to the network.\n"
     ]
    },
    {
     "name": "stdout",
     "output_type": "stream",
     "text": [
      "Writing the solution to /tmp/linopy-solve-nqxgfoy7.sol\n"
     ]
    },
    {
     "name": "stderr",
     "output_type": "stream",
     "text": [
      "INFO:pypsa.io:Exported network network.nc has stores, carriers, loads, buses, generators, links\n",
      "INFO:pypsa.io:Imported network network.nc has buses, carriers, generators, links, loads, stores\n",
      "/home/viktor/code/pypsa-vgr/generator/library/output_files.py:289: FutureWarning:\n",
      "\n",
      "A value is trying to be set on a copy of a DataFrame or Series through chained assignment using an inplace method.\n",
      "The behavior will change in pandas 3.0. This inplace method will never work because the intermediate object on which we are setting values always behaves as a copy.\n",
      "\n",
      "For example, when doing 'df[col].method(value, inplace=True)', try using 'df.method({col: value}, inplace=True)' or df[col] = df[col].method(value) instead, to perform the operation inplace on the original object.\n",
      "\n",
      "\n",
      "\n"
     ]
    },
    {
     "name": "stdout",
     "output_type": "stream",
     "text": [
      "106 out of 120: ('14:1460-1438-1439-1484-1461-1430-1421-1427-1486-1435-1488-1485-1487-1492', 2030, 1, 5, True, True, 0)\n",
      "Create and store parameters\n",
      "Check weather files\n",
      "Check renewables data\n",
      "Create and store demand\n",
      "Create and store network\n",
      "Using config:\n",
      "\th2:True\n",
      "\toffwind:True\n",
      "\tbiogas:300\n"
     ]
    },
    {
     "name": "stderr",
     "output_type": "stream",
     "text": [
      "INFO:pypsa.io:Exported network network.nc has stores, carriers, loads, buses, generators, links\n"
     ]
    },
    {
     "name": "stdout",
     "output_type": "stream",
     "text": [
      "Run optimization\n"
     ]
    },
    {
     "name": "stderr",
     "output_type": "stream",
     "text": [
      "INFO:pypsa.io:Imported network network.nc has buses, carriers, generators, links, loads, stores\n",
      "INFO:linopy.model: Solve problem using Highs solver\n",
      "INFO:linopy.io:Writing objective.\n",
      "Writing constraints.: 100%|\u001b[38;2;128;191;255m██████████\u001b[0m| 17/17 [00:00<00:00, 34.75it/s]\n",
      "Writing continuous variables.: 100%|\u001b[38;2;128;191;255m██████████\u001b[0m| 9/9 [00:00<00:00, 114.13it/s]\n",
      "Writing integer variables.: 100%|\u001b[38;2;128;191;255m██████████\u001b[0m| 2/2 [00:00<00:00, 949.47it/s]\n",
      "INFO:linopy.io: Writing time: 0.61s\n",
      "INFO:linopy.solvers:Log file at /tmp/highs.log\n"
     ]
    },
    {
     "name": "stdout",
     "output_type": "stream",
     "text": [
      "Running HiGHS 1.7.2 (git hash: 184e327): Copyright (c) 2024 HiGHS under MIT licence terms\n",
      "Coefficient ranges:\n",
      "  Matrix [1e-07, 3e+02]\n",
      "  Cost   [6e+01, 2e+06]\n",
      "  Bound  [0e+00, 0e+00]\n",
      "  RHS    [3e+02, 9e+02]\n"
     ]
    },
    {
     "name": "stderr",
     "output_type": "stream",
     "text": [
      "INFO:linopy.constants: Optimization successful: \n",
      "Status: ok\n",
      "Termination condition: optimal\n",
      "Solution: 46739 primals, 105141 duals\n",
      "Objective: 4.94e+09\n",
      "Solver model: available\n",
      "Solver message: optimal\n",
      "\n",
      "INFO:pypsa.optimization.optimize:The shadow-prices of the constraints Generator-ext-p-lower, Generator-ext-p-upper, Link-ext-p-lower, Link-ext-p-upper, Store-ext-e-lower, Store-ext-e-upper, Store-energy_balance were not assigned to the network.\n"
     ]
    },
    {
     "name": "stdout",
     "output_type": "stream",
     "text": [
      "Presolving model\n",
      "48138 rows, 42306 cols, 126894 nonzeros  0s\n",
      "38013 rows, 32181 cols, 117204 nonzeros  0s\n",
      "37933 rows, 32101 cols, 117560 nonzeros  0s\n",
      "\n",
      "Solving MIP model with:\n",
      "   37933 rows\n",
      "   32101 cols (0 binary, 5 integer, 0 implied int., 32096 continuous)\n",
      "   117560 nonzeros\n",
      "\n",
      "        Nodes      |    B&B Tree     |            Objective Bounds              |  Dynamic Constraints |       Work      \n",
      "     Proc. InQueue |  Leaves   Expl. | BestBound       BestSol              Gap |   Cuts   InLp Confl. | LpIters     Time\n",
      "\n",
      "         0       0         0   0.00%   -inf            inf                  inf        0      0      0         0     0.2s\n",
      " S       0       0         0   0.00%   -inf            4938369544.584     Large        0      0      0         0    12.2s\n",
      " R       0       0         0   0.00%   4937433989.767  4937512351.34      0.00%        0      0      0     47985    12.4s\n",
      "\n",
      "Solving report\n",
      "  Status            Optimal\n",
      "  Primal bound      4937512351.34\n",
      "  Dual bound        4937433989.77\n",
      "  Gap               0.00159% (tolerance: 0.01%)\n",
      "  Solution status   feasible\n",
      "                    4937512351.34 (objective)\n",
      "                    0 (bound viol.)\n",
      "                    0 (int. viol.)\n",
      "                    0 (row viol.)\n",
      "  Timing            13.38 (total)\n",
      "                    0.21 (presolve)\n",
      "                    0.00 (postsolve)\n",
      "  Nodes             1\n",
      "  LP iterations     47985 (total)\n",
      "                    0 (strong br.)\n",
      "                    0 (separation)\n",
      "                    0 (heuristics)\n",
      "Writing the solution to /tmp/linopy-solve-6otrrs1v.sol\n"
     ]
    },
    {
     "name": "stderr",
     "output_type": "stream",
     "text": [
      "INFO:pypsa.io:Exported network network.nc has stores, carriers, loads, buses, generators, links\n",
      "INFO:pypsa.io:Imported network network.nc has buses, carriers, generators, links, loads, stores\n",
      "/home/viktor/code/pypsa-vgr/generator/library/output_files.py:289: FutureWarning:\n",
      "\n",
      "A value is trying to be set on a copy of a DataFrame or Series through chained assignment using an inplace method.\n",
      "The behavior will change in pandas 3.0. This inplace method will never work because the intermediate object on which we are setting values always behaves as a copy.\n",
      "\n",
      "For example, when doing 'df[col].method(value, inplace=True)', try using 'df.method({col: value}, inplace=True)' or df[col] = df[col].method(value) instead, to perform the operation inplace on the original object.\n",
      "\n",
      "\n",
      "\n"
     ]
    },
    {
     "name": "stdout",
     "output_type": "stream",
     "text": [
      "107 out of 120: ('14:1460-1438-1439-1484-1461-1430-1421-1427-1486-1435-1488-1485-1487-1492', 2030, 1, 5, True, True, 300)\n",
      "Create and store parameters\n",
      "Check weather files\n",
      "Check renewables data\n",
      "Create and store demand\n",
      "Create and store network\n",
      "Using config:\n",
      "\th2:True\n",
      "\toffwind:True\n",
      "\tbiogas:600\n"
     ]
    },
    {
     "name": "stderr",
     "output_type": "stream",
     "text": [
      "INFO:pypsa.io:Exported network network.nc has stores, carriers, loads, buses, generators, links\n"
     ]
    },
    {
     "name": "stdout",
     "output_type": "stream",
     "text": [
      "Run optimization\n"
     ]
    },
    {
     "name": "stderr",
     "output_type": "stream",
     "text": [
      "INFO:pypsa.io:Imported network network.nc has buses, carriers, generators, links, loads, stores\n",
      "INFO:linopy.model: Solve problem using Highs solver\n",
      "INFO:linopy.io:Writing objective.\n",
      "Writing constraints.: 100%|\u001b[38;2;128;191;255m██████████\u001b[0m| 17/17 [00:00<00:00, 33.67it/s]\n",
      "Writing continuous variables.: 100%|\u001b[38;2;128;191;255m██████████\u001b[0m| 9/9 [00:00<00:00, 107.46it/s]\n",
      "Writing integer variables.: 100%|\u001b[38;2;128;191;255m██████████\u001b[0m| 2/2 [00:00<00:00, 808.07it/s]\n",
      "INFO:linopy.io: Writing time: 0.63s\n",
      "INFO:linopy.solvers:Log file at /tmp/highs.log\n"
     ]
    },
    {
     "name": "stdout",
     "output_type": "stream",
     "text": [
      "Running HiGHS 1.7.2 (git hash: 184e327): Copyright (c) 2024 HiGHS under MIT licence terms\n",
      "Coefficient ranges:\n",
      "  Matrix [1e-07, 3e+02]\n",
      "  Cost   [6e+01, 2e+06]\n",
      "  Bound  [0e+00, 0e+00]\n",
      "  RHS    [3e+02, 9e+02]\n"
     ]
    },
    {
     "name": "stderr",
     "output_type": "stream",
     "text": [
      "INFO:linopy.constants: Optimization successful: \n",
      "Status: ok\n",
      "Termination condition: optimal\n",
      "Solution: 46739 primals, 105141 duals\n",
      "Objective: 4.29e+09\n",
      "Solver model: available\n",
      "Solver message: optimal\n",
      "\n",
      "INFO:pypsa.optimization.optimize:The shadow-prices of the constraints Generator-ext-p-lower, Generator-ext-p-upper, Link-ext-p-lower, Link-ext-p-upper, Store-ext-e-lower, Store-ext-e-upper, Store-energy_balance were not assigned to the network.\n"
     ]
    },
    {
     "name": "stdout",
     "output_type": "stream",
     "text": [
      "Presolving model\n",
      "48138 rows, 42306 cols, 126894 nonzeros  0s\n",
      "38013 rows, 32181 cols, 117204 nonzeros  0s\n",
      "37933 rows, 32101 cols, 117560 nonzeros  0s\n",
      "\n",
      "Solving MIP model with:\n",
      "   37933 rows\n",
      "   32101 cols (0 binary, 5 integer, 0 implied int., 32096 continuous)\n",
      "   117560 nonzeros\n",
      "\n",
      "        Nodes      |    B&B Tree     |            Objective Bounds              |  Dynamic Constraints |       Work      \n",
      "     Proc. InQueue |  Leaves   Expl. | BestBound       BestSol              Gap |   Cuts   InLp Confl. | LpIters     Time\n",
      "\n",
      "         0       0         0   0.00%   -inf            inf                  inf        0      0      0         0     0.2s\n",
      " S       0       0         0   0.00%   -inf            4295847256.444     Large        0      0      0         0    16.9s\n",
      " R       0       0         0   0.00%   4294932661.248  4294943455.935     0.00%        0      0      0     57917    17.1s\n",
      "\n",
      "Solving report\n",
      "  Status            Optimal\n",
      "  Primal bound      4294943455.94\n",
      "  Dual bound        4294932661.25\n",
      "  Gap               0.000251% (tolerance: 0.01%)\n",
      "  Solution status   feasible\n",
      "                    4294943455.94 (objective)\n",
      "                    0 (bound viol.)\n",
      "                    0 (int. viol.)\n",
      "                    0 (row viol.)\n",
      "  Timing            17.09 (total)\n",
      "                    0.22 (presolve)\n",
      "                    0.00 (postsolve)\n",
      "  Nodes             1\n",
      "  LP iterations     57917 (total)\n",
      "                    0 (strong br.)\n",
      "                    0 (separation)\n",
      "                    0 (heuristics)\n",
      "Writing the solution to /tmp/linopy-solve-lu6q25lk.sol\n"
     ]
    },
    {
     "name": "stderr",
     "output_type": "stream",
     "text": [
      "INFO:pypsa.io:Exported network network.nc has stores, carriers, loads, buses, generators, links\n",
      "INFO:pypsa.io:Imported network network.nc has buses, carriers, generators, links, loads, stores\n",
      "/home/viktor/code/pypsa-vgr/generator/library/output_files.py:289: FutureWarning:\n",
      "\n",
      "A value is trying to be set on a copy of a DataFrame or Series through chained assignment using an inplace method.\n",
      "The behavior will change in pandas 3.0. This inplace method will never work because the intermediate object on which we are setting values always behaves as a copy.\n",
      "\n",
      "For example, when doing 'df[col].method(value, inplace=True)', try using 'df.method({col: value}, inplace=True)' or df[col] = df[col].method(value) instead, to perform the operation inplace on the original object.\n",
      "\n",
      "\n",
      "\n"
     ]
    },
    {
     "name": "stdout",
     "output_type": "stream",
     "text": [
      "108 out of 120: ('14:1460-1438-1439-1484-1461-1430-1421-1427-1486-1435-1488-1485-1487-1492', 2030, 1, 5, True, True, 600)\n",
      "Create and store parameters\n",
      "Check weather files\n",
      "Check renewables data\n",
      "Create and store demand\n",
      "Create and store network\n",
      "Using config:\n",
      "\th2:True\n",
      "\toffwind:True\n",
      "\tbiogas:1200\n"
     ]
    },
    {
     "name": "stderr",
     "output_type": "stream",
     "text": [
      "INFO:pypsa.io:Exported network network.nc has stores, carriers, loads, buses, generators, links\n",
      "INFO:pypsa.io:Imported network network.nc has buses, carriers, generators, links, loads, stores\n"
     ]
    },
    {
     "name": "stdout",
     "output_type": "stream",
     "text": [
      "Run optimization\n"
     ]
    },
    {
     "name": "stderr",
     "output_type": "stream",
     "text": [
      "INFO:linopy.model: Solve problem using Highs solver\n",
      "INFO:linopy.io:Writing objective.\n",
      "Writing constraints.: 100%|\u001b[38;2;128;191;255m██████████\u001b[0m| 17/17 [00:00<00:00, 34.97it/s]\n",
      "Writing continuous variables.: 100%|\u001b[38;2;128;191;255m██████████\u001b[0m| 9/9 [00:00<00:00, 102.04it/s]\n",
      "Writing integer variables.: 100%|\u001b[38;2;128;191;255m██████████\u001b[0m| 2/2 [00:00<00:00, 850.86it/s]\n",
      "INFO:linopy.io: Writing time: 0.61s\n",
      "INFO:linopy.solvers:Log file at /tmp/highs.log\n"
     ]
    },
    {
     "name": "stdout",
     "output_type": "stream",
     "text": [
      "Running HiGHS 1.7.2 (git hash: 184e327): Copyright (c) 2024 HiGHS under MIT licence terms\n"
     ]
    },
    {
     "name": "stderr",
     "output_type": "stream",
     "text": [
      "INFO:linopy.constants: Optimization successful: \n",
      "Status: ok\n",
      "Termination condition: optimal\n",
      "Solution: 46739 primals, 105141 duals\n",
      "Objective: 4.09e+09\n",
      "Solver model: available\n",
      "Solver message: optimal\n",
      "\n",
      "INFO:pypsa.optimization.optimize:The shadow-prices of the constraints Generator-ext-p-lower, Generator-ext-p-upper, Link-ext-p-lower, Link-ext-p-upper, Store-ext-e-lower, Store-ext-e-upper, Store-energy_balance were not assigned to the network.\n"
     ]
    },
    {
     "name": "stdout",
     "output_type": "stream",
     "text": [
      "Coefficient ranges:\n",
      "  Matrix [1e-07, 3e+02]\n",
      "  Cost   [6e+01, 2e+06]\n",
      "  Bound  [0e+00, 0e+00]\n",
      "  RHS    [3e+02, 1e+03]\n",
      "Presolving model\n",
      "48138 rows, 42306 cols, 126894 nonzeros  0s\n",
      "38013 rows, 32181 cols, 117204 nonzeros  0s\n",
      "37933 rows, 32101 cols, 117560 nonzeros  0s\n",
      "\n",
      "Solving MIP model with:\n",
      "   37933 rows\n",
      "   32101 cols (0 binary, 5 integer, 0 implied int., 32096 continuous)\n",
      "   117560 nonzeros\n",
      "\n",
      "        Nodes      |    B&B Tree     |            Objective Bounds              |  Dynamic Constraints |       Work      \n",
      "     Proc. InQueue |  Leaves   Expl. | BestBound       BestSol              Gap |   Cuts   InLp Confl. | LpIters     Time\n",
      "\n",
      "         0       0         0   0.00%   -inf            inf                  inf        0      0      0         0     0.2s\n",
      " S       0       0         0   0.00%   -inf            4113841093.985     Large        0      0      0         0    17.0s\n",
      " R       0       0         0   0.00%   4089279112.319  4090931923.793     0.04%        0      0      0     63534    17.2s\n",
      "\n",
      "20.0% inactive integer columns, restarting\n",
      "Model after restart has 33083 rows, 27250 cols (0 bin., 4 int., 0 impl., 27246 cont.), and 107578 nonzeros\n",
      "\n",
      "         0       0         0   0.00%   4089279112.319  4090931923.793     0.04%        0      0      0     63534    17.4s\n",
      " R       0       0         0   0.00%   4089279112.319  4090766398.363     0.04%        0      0      0     63534    17.6s\n",
      "         0       0         0   0.00%   4089279146.308  4090766398.363     0.04%       10      4      0     63538    24.5s\n",
      " H       0       0         0   0.00%   4089279146.308  4090748518.087     0.04%       10      4      0     63538    25.7s\n",
      "         0       0         0   0.00%   4089279146.308  4090748518.087     0.04%       10      4      0     85257    33.6s\n",
      "\n",
      "Solving report\n",
      "  Status            Optimal\n",
      "  Primal bound      4090748518.09\n",
      "  Dual bound        4090375786.76\n",
      "  Gap               0.00911% (tolerance: 0.01%)\n",
      "  Solution status   feasible\n",
      "                    4090748518.09 (objective)\n",
      "                    0 (bound viol.)\n",
      "                    0 (int. viol.)\n",
      "                    0 (row viol.)\n",
      "  Timing            34.05 (total)\n",
      "                    0.35 (presolve)\n",
      "                    0.00 (postsolve)\n",
      "  Nodes             1\n",
      "  LP iterations     85560 (total)\n",
      "                    99 (strong br.)\n",
      "                    4 (separation)\n",
      "                    21719 (heuristics)\n",
      "Writing the solution to /tmp/linopy-solve-jg4m5pcb.sol\n"
     ]
    },
    {
     "name": "stderr",
     "output_type": "stream",
     "text": [
      "INFO:pypsa.io:Exported network network.nc has stores, carriers, loads, buses, generators, links\n",
      "INFO:pypsa.io:Imported network network.nc has buses, carriers, generators, links, loads, stores\n",
      "/home/viktor/code/pypsa-vgr/generator/library/output_files.py:289: FutureWarning:\n",
      "\n",
      "A value is trying to be set on a copy of a DataFrame or Series through chained assignment using an inplace method.\n",
      "The behavior will change in pandas 3.0. This inplace method will never work because the intermediate object on which we are setting values always behaves as a copy.\n",
      "\n",
      "For example, when doing 'df[col].method(value, inplace=True)', try using 'df.method({col: value}, inplace=True)' or df[col] = df[col].method(value) instead, to perform the operation inplace on the original object.\n",
      "\n",
      "\n",
      "\n"
     ]
    },
    {
     "name": "stdout",
     "output_type": "stream",
     "text": [
      "109 out of 120: ('14:1460-1438-1439-1484-1461-1430-1421-1427-1486-1435-1488-1485-1487-1492', 2030, 1, 5, True, True, 1200)\n",
      "Create and store parameters\n",
      "Check weather files\n",
      "Check renewables data\n",
      "Create and store demand\n",
      "Create and store network\n",
      "Using config:\n",
      "\th2:True\n",
      "\toffwind:True\n",
      "\tbiogas:1800\n"
     ]
    },
    {
     "name": "stderr",
     "output_type": "stream",
     "text": [
      "INFO:pypsa.io:Exported network network.nc has stores, carriers, loads, buses, generators, links\n",
      "INFO:pypsa.io:Imported network network.nc has buses, carriers, generators, links, loads, stores\n"
     ]
    },
    {
     "name": "stdout",
     "output_type": "stream",
     "text": [
      "Run optimization\n"
     ]
    },
    {
     "name": "stderr",
     "output_type": "stream",
     "text": [
      "INFO:linopy.model: Solve problem using Highs solver\n",
      "INFO:linopy.io:Writing objective.\n",
      "Writing constraints.: 100%|\u001b[38;2;128;191;255m██████████\u001b[0m| 17/17 [00:00<00:00, 36.53it/s]\n",
      "Writing continuous variables.: 100%|\u001b[38;2;128;191;255m██████████\u001b[0m| 9/9 [00:00<00:00, 110.52it/s]\n",
      "Writing integer variables.: 100%|\u001b[38;2;128;191;255m██████████\u001b[0m| 2/2 [00:00<00:00, 984.35it/s]\n",
      "INFO:linopy.io: Writing time: 0.58s\n",
      "INFO:linopy.solvers:Log file at /tmp/highs.log\n"
     ]
    },
    {
     "name": "stdout",
     "output_type": "stream",
     "text": [
      "Running HiGHS 1.7.2 (git hash: 184e327): Copyright (c) 2024 HiGHS under MIT licence terms\n",
      "Coefficient ranges:\n",
      "  Matrix [1e-07, 3e+02]\n",
      "  Cost   [6e+01, 2e+06]\n",
      "  Bound  [0e+00, 0e+00]\n",
      "  RHS    [3e+02, 2e+03]\n",
      "Presolving model\n",
      "48138 rows, 42306 cols, 126894 nonzeros  0s\n",
      "38013 rows, 32181 cols, 117204 nonzeros  0s\n",
      "37933 rows, 32101 cols, 117560 nonzeros  0s\n",
      "\n",
      "Solving MIP model with:\n",
      "   37933 rows\n",
      "   32101 cols (0 binary, 5 integer, 0 implied int., 32096 continuous)\n",
      "   117560 nonzeros\n",
      "\n",
      "        Nodes      |    B&B Tree     |            Objective Bounds              |  Dynamic Constraints |       Work      \n",
      "     Proc. InQueue |  Leaves   Expl. | BestBound       BestSol              Gap |   Cuts   InLp Confl. | LpIters     Time\n",
      "\n",
      "         0       0         0   0.00%   -inf            inf                  inf        0      0      0         0     0.2s\n",
      " S       0       0         0   0.00%   -inf            4113841093.985     Large        0      0      0         0    17.5s\n",
      " R       0       0         0   0.00%   4089279112.319  4090931923.793     0.04%        0      0      0     66357    1"
     ]
    },
    {
     "name": "stderr",
     "output_type": "stream",
     "text": [
      "INFO:linopy.constants: Optimization successful: \n",
      "Status: ok\n",
      "Termination condition: optimal\n",
      "Solution: 46739 primals, 105141 duals\n",
      "Objective: 4.09e+09\n",
      "Solver model: available\n",
      "Solver message: optimal\n",
      "\n"
     ]
    },
    {
     "name": "stdout",
     "output_type": "stream",
     "text": [
      "7.8s\n",
      "\n",
      "20.0% inactive integer columns, restarting\n",
      "Model after restart has 33083 rows, 27250 cols (1 bin., 3 int., 0 impl., 27246 cont.), and 107578 nonzeros\n",
      "\n",
      "         0       0         0   0.00%   4089279112.319  4090931923.793     0.04%        0      0      0     66357    17.9s\n",
      " R       0       0         0   0.00%   4089279112.319  4090766398.363     0.04%        0      0      0     66357    18.1s\n",
      "         0       0         0   0.00%   4089279146.308  4090766398.363     0.04%       13      4      0     66361    28.7s\n",
      " H       0       0         0   0.00%   4089279146.308  4090748518.087     0.04%       13      4      0     66361    29.9s\n",
      "         0       0         0   0.00%   4089279146.308  4090748518.087     0.04%       13      4      0     88642    37.7s\n",
      "\n",
      "Solving report\n",
      "  Status            Optimal\n",
      "  Primal bound      4090748518.09\n",
      "  Dual bound        4090375786.76\n",
      "  Gap               0.00911% (tolerance: 0.01%)\n",
      "  Solution status   feasible\n",
      "                    4090748518.09 (objective)\n",
      "                    0 (bound viol.)\n",
      "                    6.37851650814e-17 (int. viol.)\n",
      "                    0 (row viol.)\n",
      "  Timing            38.12 (total)\n",
      "                    0.30 (presolve)\n",
      "                    0.00 (postsolve)\n",
      "  Nodes             1\n",
      "  LP iterations     88948 (total)\n",
      "                    99 (strong br.)\n",
      "                    4 (separation)\n",
      "                    22281 (heuristics)\n",
      "Writing the solution to /tmp/linopy-solve-f8t54n97.sol\n"
     ]
    },
    {
     "name": "stderr",
     "output_type": "stream",
     "text": [
      "INFO:pypsa.optimization.optimize:The shadow-prices of the constraints Generator-ext-p-lower, Generator-ext-p-upper, Link-ext-p-lower, Link-ext-p-upper, Store-ext-e-lower, Store-ext-e-upper, Store-energy_balance were not assigned to the network.\n",
      "INFO:pypsa.io:Exported network network.nc has stores, carriers, loads, buses, generators, links\n",
      "INFO:pypsa.io:Imported network network.nc has buses, carriers, generators, links, loads, stores\n",
      "/home/viktor/code/pypsa-vgr/generator/library/output_files.py:289: FutureWarning:\n",
      "\n",
      "A value is trying to be set on a copy of a DataFrame or Series through chained assignment using an inplace method.\n",
      "The behavior will change in pandas 3.0. This inplace method will never work because the intermediate object on which we are setting values always behaves as a copy.\n",
      "\n",
      "For example, when doing 'df[col].method(value, inplace=True)', try using 'df.method({col: value}, inplace=True)' or df[col] = df[col].method(value) instead, to perform the operation inplace on the original object.\n",
      "\n",
      "\n",
      "\n"
     ]
    },
    {
     "name": "stdout",
     "output_type": "stream",
     "text": [
      "110 out of 120: ('14:1460-1438-1439-1484-1461-1430-1421-1427-1486-1435-1488-1485-1487-1492', 2030, 1, 5, True, True, 1800)\n",
      "Create and store parameters\n",
      "Check weather files\n",
      "Check renewables data\n",
      "Create and store demand\n",
      "Create and store network\n",
      "Using config:\n",
      "\th2:True\n",
      "\toffwind:True\n",
      "\tbiogas:0\n"
     ]
    },
    {
     "name": "stderr",
     "output_type": "stream",
     "text": [
      "INFO:pypsa.io:Exported network network.nc has stores, carriers, loads, buses, generators, links\n"
     ]
    },
    {
     "name": "stdout",
     "output_type": "stream",
     "text": [
      "Run optimization\n"
     ]
    },
    {
     "name": "stderr",
     "output_type": "stream",
     "text": [
      "INFO:pypsa.io:Imported network network.nc has buses, carriers, generators, links, loads, stores\n",
      "INFO:linopy.model: Solve problem using Highs solver\n",
      "INFO:linopy.io:Writing objective.\n",
      "Writing constraints.: 100%|\u001b[38;2;128;191;255m██████████\u001b[0m| 17/17 [00:00<00:00, 38.38it/s]\n",
      "Writing continuous variables.: 100%|\u001b[38;2;128;191;255m██████████\u001b[0m| 9/9 [00:00<00:00, 119.26it/s]\n",
      "Writing integer variables.: 100%|\u001b[38;2;128;191;255m██████████\u001b[0m| 2/2 [00:00<00:00, 755.32it/s]\n",
      "INFO:linopy.io: Writing time: 0.55s\n",
      "INFO:linopy.solvers:Log file at /tmp/highs.log\n"
     ]
    },
    {
     "name": "stdout",
     "output_type": "stream",
     "text": [
      "Running HiGHS 1.7.2 (git hash: 184e327): Copyright (c) 2024 HiGHS under MIT licence terms\n"
     ]
    },
    {
     "name": "stderr",
     "output_type": "stream",
     "text": [
      "INFO:linopy.constants: Optimization successful: \n",
      "Status: ok\n",
      "Termination condition: optimal\n",
      "Solution: 40897 primals, 90538 duals\n",
      "Objective: 1.19e+10\n",
      "Solver model: available\n",
      "Solver message: optimal\n",
      "\n",
      "INFO:pypsa.optimization.optimize:The shadow-prices of the constraints Generator-ext-p-lower, Generator-ext-p-upper, Link-ext-p-lower, Link-ext-p-upper, Store-ext-e-lower, Store-ext-e-upper, Store-energy_balance were not assigned to the network.\n"
     ]
    },
    {
     "name": "stdout",
     "output_type": "stream",
     "text": [
      "Coefficient ranges:\n",
      "  Matrix [1e-07, 3e+02]\n",
      "  Cost   [6e+01, 2e+06]\n",
      "  Bound  [0e+00, 0e+00]\n",
      "  RHS    [7e+02, 2e+03]\n",
      "Presolving model\n",
      "45218 rows, 36466 cols, 118134 nonzeros  0s\n",
      "37933 rows, 29181 cols, 111748 nonzeros  0s\n",
      "37933 rows, 29181 cols, 111748 nonzeros  0s\n",
      "\n",
      "Solving MIP model with:\n",
      "   37933 rows\n",
      "   29181 cols (0 binary, 5 integer, 0 implied int., 29176 continuous)\n",
      "   111748 nonzeros\n",
      "\n",
      "        Nodes      |    B&B Tree     |            Objective Bounds              |  Dynamic Constraints |       Work      \n",
      "     Proc. InQueue |  Leaves   Expl. | BestBound       BestSol              Gap |   Cuts   InLp Confl. | LpIters     Time\n",
      "\n",
      "         0       0         0   0.00%   -inf            inf                  inf        0      0      0         0     0.2s\n",
      " S       0       0         0   0.00%   -inf            11852868569.86     Large        0      0      0         0     5.8s\n",
      "\n",
      "Solving report\n",
      "  Status            Optimal\n",
      "  Primal bound      11852868569.9\n",
      "  Dual bound        11852438612.8\n",
      "  Gap               0.00363% (tolerance: 0.01%)\n",
      "  Solution status   feasible\n",
      "                    11852868569.9 (objective)\n",
      "                    0 (bound viol.)\n",
      "                    0 (int. viol.)\n",
      "                    0 (row viol.)\n",
      "  Timing            5.85 (total)\n",
      "                    0.17 (presolve)\n",
      "                    0.00 (postsolve)\n",
      "  Nodes             1\n",
      "  LP iterations     34611 (total)\n",
      "                    0 (strong br.)\n",
      "                    0 (separation)\n",
      "                    0 (heuristics)\n",
      "Writing the solution to /tmp/linopy-solve-eikskw9z.sol\n"
     ]
    },
    {
     "name": "stderr",
     "output_type": "stream",
     "text": [
      "INFO:pypsa.io:Exported network network.nc has stores, carriers, loads, buses, generators, links\n",
      "INFO:pypsa.io:Imported network network.nc has buses, carriers, generators, links, loads, stores\n",
      "/home/viktor/code/pypsa-vgr/generator/library/output_files.py:289: FutureWarning:\n",
      "\n",
      "A value is trying to be set on a copy of a DataFrame or Series through chained assignment using an inplace method.\n",
      "The behavior will change in pandas 3.0. This inplace method will never work because the intermediate object on which we are setting values always behaves as a copy.\n",
      "\n",
      "For example, when doing 'df[col].method(value, inplace=True)', try using 'df.method({col: value}, inplace=True)' or df[col] = df[col].method(value) instead, to perform the operation inplace on the original object.\n",
      "\n",
      "\n",
      "\n"
     ]
    },
    {
     "name": "stdout",
     "output_type": "stream",
     "text": [
      "111 out of 120: ('14:1460-1438-1439-1484-1461-1430-1421-1427-1486-1435-1488-1485-1487-1492', 2030, 1, 10, True, True, 0)\n",
      "Create and store parameters\n",
      "Check weather files\n",
      "Check renewables data\n",
      "Create and store demand\n",
      "Create and store network\n",
      "Using config:\n",
      "\th2:True\n",
      "\toffwind:True\n",
      "\tbiogas:300\n"
     ]
    },
    {
     "name": "stderr",
     "output_type": "stream",
     "text": [
      "INFO:pypsa.io:Exported network network.nc has stores, carriers, loads, buses, generators, links\n",
      "INFO:pypsa.io:Imported network network.nc has buses, carriers, generators, links, loads, stores\n"
     ]
    },
    {
     "name": "stdout",
     "output_type": "stream",
     "text": [
      "Run optimization\n"
     ]
    },
    {
     "name": "stderr",
     "output_type": "stream",
     "text": [
      "INFO:linopy.model: Solve problem using Highs solver\n",
      "INFO:linopy.io:Writing objective.\n",
      "Writing constraints.: 100%|\u001b[38;2;128;191;255m██████████\u001b[0m| 17/17 [00:00<00:00, 35.64it/s]\n",
      "Writing continuous variables.: 100%|\u001b[38;2;128;191;255m██████████\u001b[0m| 9/9 [00:00<00:00, 104.69it/s]\n",
      "Writing integer variables.: 100%|\u001b[38;2;128;191;255m██████████\u001b[0m| 2/2 [00:00<00:00, 1035.37it/s]\n",
      "INFO:linopy.io: Writing time: 0.6s\n",
      "INFO:linopy.solvers:Log file at /tmp/highs.log\n"
     ]
    },
    {
     "name": "stdout",
     "output_type": "stream",
     "text": [
      "Running HiGHS 1.7.2 (git hash: 184e327): Copyright (c) 2024 HiGHS under MIT licence terms\n"
     ]
    },
    {
     "name": "stderr",
     "output_type": "stream",
     "text": [
      "INFO:linopy.constants: Optimization successful: \n",
      "Status: ok\n",
      "Termination condition: optimal\n",
      "Solution: 46739 primals, 105141 duals\n",
      "Objective: 1.08e+10\n",
      "Solver model: available\n",
      "Solver message: optimal\n",
      "\n",
      "INFO:pypsa.optimization.optimize:The shadow-prices of the constraints Generator-ext-p-lower, Generator-ext-p-upper, Link-ext-p-lower, Link-ext-p-upper, Store-ext-e-lower, Store-ext-e-upper, Store-energy_balance were not assigned to the network.\n"
     ]
    },
    {
     "name": "stdout",
     "output_type": "stream",
     "text": [
      "Coefficient ranges:\n",
      "  Matrix [1e-07, 3e+02]\n",
      "  Cost   [6e+01, 2e+06]\n",
      "  Bound  [0e+00, 0e+00]\n",
      "  RHS    [3e+02, 2e+03]\n",
      "Presolving model\n",
      "48138 rows, 42306 cols, 126894 nonzeros  0s\n",
      "38013 rows, 32181 cols, 117204 nonzeros  0s\n",
      "37933 rows, 32101 cols, 117560 nonzeros  0s\n",
      "\n",
      "Solving MIP model with:\n",
      "   37933 rows\n",
      "   32101 cols (0 binary, 5 integer, 0 implied int., 32096 continuous)\n",
      "   117560 nonzeros\n",
      "\n",
      "        Nodes      |    B&B Tree     |            Objective Bounds              |  Dynamic Constraints |       Work      \n",
      "     Proc. InQueue |  Leaves   Expl. | BestBound       BestSol              Gap |   Cuts   InLp Confl. | LpIters     Time\n",
      "\n",
      "         0       0         0   0.00%   -inf            inf                  inf        0      0      0         0     0.2s\n",
      " S       0       0         0   0.00%   -inf            10809679809.89     Large        0      0      0         0    10.1s\n",
      " R       0       0         0   0.00%   10805451120.18  10805893064.37     0.00%        0      0      0     45129    10.5s\n",
      "\n",
      "Solving report\n",
      "  Status            Optimal\n",
      "  Primal bound      10805893064.4\n",
      "  Dual bound        10805451120.2\n",
      "  Gap               0.00409% (tolerance: 0.01%)\n",
      "  Solution status   feasible\n",
      "                    10805893064.4 (objective)\n",
      "                    0 (bound viol.)\n",
      "                    0 (int. viol.)\n",
      "                    0 (row viol.)\n",
      "  Timing            12.96 (total)\n",
      "                    0.21 (presolve)\n",
      "                    0.00 (postsolve)\n",
      "  Nodes             1\n",
      "  LP iterations     45129 (total)\n",
      "                    0 (strong br.)\n",
      "                    0 (separation)\n",
      "                    0 (heuristics)\n",
      "Writing the solution to /tmp/linopy-solve-kea1z0jk.sol\n"
     ]
    },
    {
     "name": "stderr",
     "output_type": "stream",
     "text": [
      "INFO:pypsa.io:Exported network network.nc has stores, carriers, loads, buses, generators, links\n",
      "INFO:pypsa.io:Imported network network.nc has buses, carriers, generators, links, loads, stores\n",
      "/home/viktor/code/pypsa-vgr/generator/library/output_files.py:289: FutureWarning:\n",
      "\n",
      "A value is trying to be set on a copy of a DataFrame or Series through chained assignment using an inplace method.\n",
      "The behavior will change in pandas 3.0. This inplace method will never work because the intermediate object on which we are setting values always behaves as a copy.\n",
      "\n",
      "For example, when doing 'df[col].method(value, inplace=True)', try using 'df.method({col: value}, inplace=True)' or df[col] = df[col].method(value) instead, to perform the operation inplace on the original object.\n",
      "\n",
      "\n",
      "\n"
     ]
    },
    {
     "name": "stdout",
     "output_type": "stream",
     "text": [
      "112 out of 120: ('14:1460-1438-1439-1484-1461-1430-1421-1427-1486-1435-1488-1485-1487-1492', 2030, 1, 10, True, True, 300)\n",
      "Create and store parameters\n",
      "Check weather files\n",
      "Check renewables data\n",
      "Create and store demand\n",
      "Create and store network\n",
      "Using config:\n",
      "\th2:True\n",
      "\toffwind:True\n",
      "\tbiogas:600\n"
     ]
    },
    {
     "name": "stderr",
     "output_type": "stream",
     "text": [
      "INFO:pypsa.io:Exported network network.nc has stores, carriers, loads, buses, generators, links\n"
     ]
    },
    {
     "name": "stdout",
     "output_type": "stream",
     "text": [
      "Run optimization\n"
     ]
    },
    {
     "name": "stderr",
     "output_type": "stream",
     "text": [
      "INFO:pypsa.io:Imported network network.nc has buses, carriers, generators, links, loads, stores\n",
      "INFO:linopy.model: Solve problem using Highs solver\n",
      "INFO:linopy.io:Writing objective.\n",
      "Writing constraints.: 100%|\u001b[38;2;128;191;255m██████████\u001b[0m| 17/17 [00:00<00:00, 35.14it/s]\n",
      "Writing continuous variables.: 100%|\u001b[38;2;128;191;255m██████████\u001b[0m| 9/9 [00:00<00:00, 103.97it/s]\n",
      "Writing integer variables.: 100%|\u001b[38;2;128;191;255m██████████\u001b[0m| 2/2 [00:00<00:00, 891.84it/s]\n",
      "INFO:linopy.io: Writing time: 0.61s\n",
      "INFO:linopy.solvers:Log file at /tmp/highs.log\n"
     ]
    },
    {
     "name": "stdout",
     "output_type": "stream",
     "text": [
      "Running HiGHS 1.7.2 (git hash: 184e327): Copyright (c) 2024 HiGHS under MIT licence terms\n",
      "Coefficient ranges:\n",
      "  Matrix [1e-07, 3e+02]\n",
      "  Cost   [6e+01, 2e+06]\n",
      "  Bound  [0e+00, 0e+00]\n",
      "  RHS    [6e+02, 2e+03]\n",
      "Presolving model\n",
      "48138 rows, 42306 cols, 126894 nonzeros  0s\n",
      "38013 rows, 32181 cols, 117204 nonzeros  0s\n",
      "37933 rows, 32101 cols, 117560 nonzeros  0s\n",
      "\n",
      "Solving MIP model with:\n",
      "   37933 rows\n",
      "   32101 cols (0 binary, 5 integer, 0 implied int., 32096 continuous)\n",
      "   117560 nonzeros\n",
      "\n",
      "        Nodes      |    B&B Tree     |            Objective Bounds              |  Dynamic Constraints |       Work      \n",
      "     Proc. InQueue |  Leaves   Expl. | BestBound       BestSol              Gap |   Cuts   InLp Confl. | LpIters     Time\n",
      "\n",
      "         0       0         0   0.00%   -inf            inf                  inf        0      0      0         0     0.2s\n",
      " S       0       0         0   0.00%   -inf            9876435686.255     Large        0      0      0         0    13.4s\n",
      " R       0       0         0   0.00%   9874867979.535  9875020529.48      0.00%        0      0      0     50035    13.6s\n",
      "\n",
      "Solving report\n",
      "  Status            Optimal\n",
      "  Primal bound      9875020529.48\n",
      "  Dual bound        9874867979.53\n",
      "  Gap               0.00154% (tolerance: 0.01%)\n",
      "  Solution status   feasible\n",
      "                    9875020529.48 (objective)\n",
      "                    0 (bound viol.)\n",
      "                    2.30240165504e-15 (int. viol.)\n",
      "                    0 (row viol.)\n",
      "  Timing            13.56 (total)\n",
      "                    0.20 (presolve)\n",
      "                    0.00 (postsolve)\n",
      "  Nodes             1\n",
      "  LP iterations     50035 (total)\n",
      "                    0 (strong br.)\n",
      "                    0 (separation)\n",
      "                    0 (heuristics)\n",
      "Writing the solution to /tmp/linopy-solve-uhfai6u3.sol\n"
     ]
    },
    {
     "name": "stderr",
     "output_type": "stream",
     "text": [
      "INFO:linopy.constants: Optimization successful: \n",
      "Status: ok\n",
      "Termination condition: optimal\n",
      "Solution: 46739 primals, 105141 duals\n",
      "Objective: 9.88e+09\n",
      "Solver model: available\n",
      "Solver message: optimal\n",
      "\n",
      "INFO:pypsa.optimization.optimize:The shadow-prices of the constraints Generator-ext-p-lower, Generator-ext-p-upper, Link-ext-p-lower, Link-ext-p-upper, Store-ext-e-lower, Store-ext-e-upper, Store-energy_balance were not assigned to the network.\n",
      "INFO:pypsa.io:Exported network network.nc has stores, carriers, loads, buses, generators, links\n",
      "INFO:pypsa.io:Imported network network.nc has buses, carriers, generators, links, loads, stores\n",
      "/home/viktor/code/pypsa-vgr/generator/library/output_files.py:289: FutureWarning:\n",
      "\n",
      "A value is trying to be set on a copy of a DataFrame or Series through chained assignment using an inplace method.\n",
      "The behavior will change in pandas 3.0. This inplace method will never work because the intermediate object on which we are setting values always behaves as a copy.\n",
      "\n",
      "For example, when doing 'df[col].method(value, inplace=True)', try using 'df.method({col: value}, inplace=True)' or df[col] = df[col].method(value) instead, to perform the operation inplace on the original object.\n",
      "\n",
      "\n",
      "\n"
     ]
    },
    {
     "name": "stdout",
     "output_type": "stream",
     "text": [
      "113 out of 120: ('14:1460-1438-1439-1484-1461-1430-1421-1427-1486-1435-1488-1485-1487-1492', 2030, 1, 10, True, True, 600)\n",
      "Create and store parameters\n",
      "Check weather files\n",
      "Check renewables data\n",
      "Create and store demand\n",
      "Create and store network\n",
      "Using config:\n",
      "\th2:True\n",
      "\toffwind:True\n",
      "\tbiogas:1200\n"
     ]
    },
    {
     "name": "stderr",
     "output_type": "stream",
     "text": [
      "INFO:pypsa.io:Exported network network.nc has stores, carriers, loads, buses, generators, links\n"
     ]
    },
    {
     "name": "stdout",
     "output_type": "stream",
     "text": [
      "Run optimization\n"
     ]
    },
    {
     "name": "stderr",
     "output_type": "stream",
     "text": [
      "INFO:pypsa.io:Imported network network.nc has buses, carriers, generators, links, loads, stores\n",
      "INFO:linopy.model: Solve problem using Highs solver\n",
      "INFO:linopy.io:Writing objective.\n",
      "Writing constraints.: 100%|\u001b[38;2;128;191;255m██████████\u001b[0m| 17/17 [00:00<00:00, 34.03it/s]\n",
      "Writing continuous variables.: 100%|\u001b[38;2;128;191;255m██████████\u001b[0m| 9/9 [00:00<00:00, 104.98it/s]\n",
      "Writing integer variables.: 100%|\u001b[38;2;128;191;255m██████████\u001b[0m| 2/2 [00:00<00:00, 686.63it/s]\n",
      "INFO:linopy.io: Writing time: 0.62s\n",
      "INFO:linopy.solvers:Log file at /tmp/highs.log\n"
     ]
    },
    {
     "name": "stdout",
     "output_type": "stream",
     "text": [
      "Running HiGHS 1.7.2 (git hash: 184e327): Copyright (c) 2024 HiGHS under MIT licence terms\n",
      "Coefficient ranges:\n",
      "  Matrix [1e-07, 3e+02]\n",
      "  Cost   [6e+01, 2e+06]\n",
      "  Bound  [0e+00, 0e+00]\n",
      "  RHS    [7e+02, 2e+03]\n",
      "Presolving model\n",
      "48138 rows, 42306 cols, 126894 nonzeros  0s\n",
      "38013 rows, 32181 cols, 117204 nonzeros  0s\n",
      "37933 rows, 32101 cols, 117560 nonzeros  0s\n",
      "\n",
      "Solving MIP model with:\n",
      "   37933 rows\n",
      "   32101 cols (0 binary, 5 integer, 0 implied int., 32096 continuous)\n",
      "   117560 nonzeros\n",
      "\n",
      "        Nodes      |    B&B Tree     |            Objective Bounds              |  Dynamic Constraints |       Work      \n",
      "     Proc. InQueue |  Leaves   Expl. | BestBound       BestSol              Gap |   Cuts   InLp Confl. | LpIters     Time\n",
      "\n",
      "         0       0         0   0.00%   -inf            inf                  inf        0      0      0         0     0.2s\n",
      " S       0       0         0   0.00%   -inf            8591391109.968     Large        0      0      0         0    18.3s\n",
      " R       0       0         0   0.00%   8589865322.495  8589881020.543     0.00%        0      0      0     54774    1"
     ]
    },
    {
     "name": "stderr",
     "output_type": "stream",
     "text": [
      "INFO:linopy.constants: Optimization successful: \n",
      "Status: ok\n",
      "Termination condition: optimal\n",
      "Solution: 46739 primals, 105141 duals\n",
      "Objective: 8.59e+09\n",
      "Solver model: available\n",
      "Solver message: optimal\n",
      "\n",
      "INFO:pypsa.optimization.optimize:The shadow-prices of the constraints Generator-ext-p-lower, Generator-ext-p-upper, Link-ext-p-lower, Link-ext-p-upper, Store-ext-e-lower, Store-ext-e-upper, Store-energy_balance were not assigned to the network.\n"
     ]
    },
    {
     "name": "stdout",
     "output_type": "stream",
     "text": [
      "8.5s\n",
      "\n",
      "Solving report\n",
      "  Status            Optimal\n",
      "  Primal bound      8589881020.54\n",
      "  Dual bound        8589865322.49\n",
      "  Gap               0.000183% (tolerance: 0.01%)\n",
      "  Solution status   feasible\n",
      "                    8589881020.54 (objective)\n",
      "                    0 (bound viol.)\n",
      "                    0 (int. viol.)\n",
      "                    0 (row viol.)\n",
      "  Timing            18.49 (total)\n",
      "                    0.21 (presolve)\n",
      "                    0.00 (postsolve)\n",
      "  Nodes             1\n",
      "  LP iterations     54774 (total)\n",
      "                    0 (strong br.)\n",
      "                    0 (separation)\n",
      "                    0 (heuristics)\n",
      "Writing the solution to /tmp/linopy-solve-iw33mv0e.sol\n"
     ]
    },
    {
     "name": "stderr",
     "output_type": "stream",
     "text": [
      "INFO:pypsa.io:Exported network network.nc has stores, carriers, loads, buses, generators, links\n",
      "INFO:pypsa.io:Imported network network.nc has buses, carriers, generators, links, loads, stores\n",
      "/home/viktor/code/pypsa-vgr/generator/library/output_files.py:289: FutureWarning:\n",
      "\n",
      "A value is trying to be set on a copy of a DataFrame or Series through chained assignment using an inplace method.\n",
      "The behavior will change in pandas 3.0. This inplace method will never work because the intermediate object on which we are setting values always behaves as a copy.\n",
      "\n",
      "For example, when doing 'df[col].method(value, inplace=True)', try using 'df.method({col: value}, inplace=True)' or df[col] = df[col].method(value) instead, to perform the operation inplace on the original object.\n",
      "\n",
      "\n",
      "\n"
     ]
    },
    {
     "name": "stdout",
     "output_type": "stream",
     "text": [
      "114 out of 120: ('14:1460-1438-1439-1484-1461-1430-1421-1427-1486-1435-1488-1485-1487-1492', 2030, 1, 10, True, True, 1200)\n",
      "Create and store parameters\n",
      "Check weather files\n",
      "Check renewables data\n",
      "Create and store demand\n",
      "Create and store network\n",
      "Using config:\n",
      "\th2:True\n",
      "\toffwind:True\n",
      "\tbiogas:1800\n"
     ]
    },
    {
     "name": "stderr",
     "output_type": "stream",
     "text": [
      "INFO:pypsa.io:Exported network network.nc has stores, carriers, loads, buses, generators, links\n"
     ]
    },
    {
     "name": "stdout",
     "output_type": "stream",
     "text": [
      "Run optimization\n"
     ]
    },
    {
     "name": "stderr",
     "output_type": "stream",
     "text": [
      "INFO:pypsa.io:Imported network network.nc has buses, carriers, generators, links, loads, stores\n",
      "INFO:linopy.model: Solve problem using Highs solver\n",
      "INFO:linopy.io:Writing objective.\n",
      "Writing constraints.: 100%|\u001b[38;2;128;191;255m██████████\u001b[0m| 17/17 [00:00<00:00, 33.34it/s]\n",
      "Writing continuous variables.: 100%|\u001b[38;2;128;191;255m██████████\u001b[0m| 9/9 [00:00<00:00, 104.75it/s]\n",
      "Writing integer variables.: 100%|\u001b[38;2;128;191;255m██████████\u001b[0m| 2/2 [00:00<00:00, 934.77it/s]\n",
      "INFO:linopy.io: Writing time: 0.64s\n",
      "INFO:linopy.solvers:Log file at /tmp/highs.log\n"
     ]
    },
    {
     "name": "stdout",
     "output_type": "stream",
     "text": [
      "Running HiGHS 1.7.2 (git hash: 184e327): Copyright (c) 2024 HiGHS under MIT licence terms\n",
      "Coefficient ranges:\n",
      "  Matrix [1e-07, 3e+02]\n",
      "  Cost   [6e+01, 2e+06]\n",
      "  Bound  [0e+00, 0e+00]\n",
      "  RHS    [7e+02, 2e+03]\n"
     ]
    },
    {
     "name": "stderr",
     "output_type": "stream",
     "text": [
      "INFO:linopy.constants: Optimization successful: \n",
      "Status: ok\n",
      "Termination condition: optimal\n",
      "Solution: 46739 primals, 105141 duals\n",
      "Objective: 8.18e+09\n",
      "Solver model: available\n",
      "Solver message: optimal\n",
      "\n",
      "INFO:pypsa.optimization.optimize:The shadow-prices of the constraints Generator-ext-p-lower, Generator-ext-p-upper, Link-ext-p-lower, Link-ext-p-upper, Store-ext-e-lower, Store-ext-e-upper, Store-energy_balance were not assigned to the network.\n"
     ]
    },
    {
     "name": "stdout",
     "output_type": "stream",
     "text": [
      "Presolving model\n",
      "48138 rows, 42306 cols, 126894 nonzeros  0s\n",
      "38013 rows, 32181 cols, 117204 nonzeros  0s\n",
      "37933 rows, 32101 cols, 117560 nonzeros  0s\n",
      "\n",
      "Solving MIP model with:\n",
      "   37933 rows\n",
      "   32101 cols (0 binary, 5 integer, 0 implied int., 32096 continuous)\n",
      "   117560 nonzeros\n",
      "\n",
      "        Nodes      |    B&B Tree     |            Objective Bounds              |  Dynamic Constraints |       Work      \n",
      "     Proc. InQueue |  Leaves   Expl. | BestBound       BestSol              Gap |   Cuts   InLp Confl. | LpIters     Time\n",
      "\n",
      "         0       0         0   0.00%   -inf            inf                  inf        0      0      0         0     0.3s\n",
      " S       0       0         0   0.00%   -inf            8222987326.785     Large        0      0      0         0    18.1s\n",
      " R       0       0         0   0.00%   8178558224.638  8181694424.336     0.04%        0      0      0     60880    18.4s\n",
      "\n",
      "20.0% inactive integer columns, restarting\n",
      "Model after restart has 33083 rows, 27250 cols (0 bin., 4 int., 0 impl., 27246 cont.), and 107578 nonzeros\n",
      "\n",
      "         0       0         0   0.00%   8178558224.638  8181694424.336     0.04%        0      0      0     60880    18.5s\n",
      " R       0       0         0   0.00%   8178558224.638  8181532796.725     0.04%        0      0      0     60880    18.8s\n",
      "         0       0         0   0.00%   8178558239.275  8181532796.725     0.04%        8      3      0     60883    28.8s\n",
      " H       0       0         0   0.00%   8178558239.275  8181514916.45      0.04%        8      3      0     60883    29.8s\n",
      "         0       0         0   0.00%   8178558239.275  8181514916.45      0.04%        8      3      0     76158    41.6s\n",
      "\n",
      "Solving report\n",
      "  Status            Optimal\n",
      "  Primal bound      8181514916.45\n",
      "  Dual bound        8180751573.51\n",
      "  Gap               0.00933% (tolerance: 0.01%)\n",
      "  Solution status   feasible\n",
      "                    8181514916.45 (objective)\n",
      "                    0 (bound viol.)\n",
      "                    0 (int. viol.)\n",
      "                    0 (row viol.)\n",
      "  Timing            42.91 (total)\n",
      "                    0.37 (presolve)\n",
      "                    0.00 (postsolve)\n",
      "  Nodes             1\n",
      "  LP iterations     78311 (total)\n",
      "                    1980 (strong br.)\n",
      "                    3 (separation)\n",
      "                    15275 (heuristics)\n",
      "Writing the solution to /tmp/linopy-solve-v50im0ai.sol\n"
     ]
    },
    {
     "name": "stderr",
     "output_type": "stream",
     "text": [
      "INFO:pypsa.io:Exported network network.nc has stores, carriers, loads, buses, generators, links\n",
      "INFO:pypsa.io:Imported network network.nc has buses, carriers, generators, links, loads, stores\n",
      "/home/viktor/code/pypsa-vgr/generator/library/output_files.py:289: FutureWarning:\n",
      "\n",
      "A value is trying to be set on a copy of a DataFrame or Series through chained assignment using an inplace method.\n",
      "The behavior will change in pandas 3.0. This inplace method will never work because the intermediate object on which we are setting values always behaves as a copy.\n",
      "\n",
      "For example, when doing 'df[col].method(value, inplace=True)', try using 'df.method({col: value}, inplace=True)' or df[col] = df[col].method(value) instead, to perform the operation inplace on the original object.\n",
      "\n",
      "\n",
      "\n"
     ]
    },
    {
     "name": "stdout",
     "output_type": "stream",
     "text": [
      "115 out of 120: ('14:1460-1438-1439-1484-1461-1430-1421-1427-1486-1435-1488-1485-1487-1492', 2030, 1, 10, True, True, 1800)\n",
      "Create and store parameters\n",
      "Check weather files\n",
      "Check renewables data\n",
      "Create and store demand\n",
      "Create and store network\n",
      "Using config:\n",
      "\th2:True\n",
      "\toffwind:True\n",
      "\tbiogas:0\n"
     ]
    },
    {
     "name": "stderr",
     "output_type": "stream",
     "text": [
      "INFO:pypsa.io:Exported network network.nc has stores, carriers, loads, buses, generators, links\n"
     ]
    },
    {
     "name": "stdout",
     "output_type": "stream",
     "text": [
      "Run optimization\n"
     ]
    },
    {
     "name": "stderr",
     "output_type": "stream",
     "text": [
      "INFO:pypsa.io:Imported network network.nc has buses, carriers, generators, links, loads, stores\n",
      "INFO:linopy.model: Solve problem using Highs solver\n",
      "INFO:linopy.io:Writing objective.\n",
      "Writing constraints.: 100%|\u001b[38;2;128;191;255m██████████\u001b[0m| 17/17 [00:00<00:00, 36.31it/s]\n",
      "Writing continuous variables.: 100%|\u001b[38;2;128;191;255m██████████\u001b[0m| 9/9 [00:00<00:00, 112.48it/s]\n",
      "Writing integer variables.: 100%|\u001b[38;2;128;191;255m██████████\u001b[0m| 2/2 [00:00<00:00, 961.89it/s]\n",
      "INFO:linopy.io: Writing time: 0.58s\n",
      "INFO:linopy.solvers:Log file at /tmp/highs.log\n"
     ]
    },
    {
     "name": "stdout",
     "output_type": "stream",
     "text": [
      "Running HiGHS 1.7.2 (git hash: 184e327): Copyright (c) 2024 HiGHS under MIT licence terms\n",
      "Coefficient ranges:\n",
      "  Matrix [1e-07, 3e+02]\n",
      "  Cost   [6e+01, 2e+06]\n",
      "  Bound  [0e+00, 0e+00]\n",
      "  RHS    [1e+03, 3e+03]\n"
     ]
    },
    {
     "name": "stderr",
     "output_type": "stream",
     "text": [
      "INFO:linopy.constants: Optimization successful: \n",
      "Status: ok\n",
      "Termination condition: optimal\n",
      "Solution: 40897 primals, 90538 duals\n",
      "Objective: 1.78e+10\n",
      "Solver model: available\n",
      "Solver message: optimal\n",
      "\n"
     ]
    },
    {
     "name": "stdout",
     "output_type": "stream",
     "text": [
      "Presolving model\n",
      "45218 rows, 36466 cols, 118134 nonzeros  0s\n",
      "37933 rows, 29181 cols, 111748 nonzeros  0s\n",
      "37933 rows, 29181 cols, 111748 nonzeros  0s\n",
      "\n",
      "Solving MIP model with:\n",
      "   37933 rows\n",
      "   29181 cols (0 binary, 5 integer, 0 implied int., 29176 continuous)\n",
      "   111748 nonzeros\n",
      "\n",
      "        Nodes      |    B&B Tree     |            Objective Bounds              |  Dynamic Constraints |       Work      \n",
      "     Proc. InQueue |  Leaves   Expl. | BestBound       BestSol              Gap |   Cuts   InLp Confl. | LpIters     Time\n",
      "\n",
      "         0       0         0   0.00%   -inf            inf                  inf        0      0      0         0     0.2s\n",
      " S       0       0         0   0.00%   -inf            17781801986.83     Large        0      0      0         0    12.9s\n",
      " R       0       0         0   0.00%   17778657919.24  17778974519.96     0.00%        0      0      0     38193    13.1s\n",
      "\n",
      "Solving report\n",
      "  Status            Optimal\n",
      "  Primal bound      17778974520\n",
      "  Dual bound        17778657919.2\n",
      "  Gap               0.00178% (tolerance: 0.01%)\n",
      "  Solution status   feasible\n",
      "                    17778974520 (objective)\n",
      "                    0 (bound viol.)\n",
      "                    1.3857632942e-18 (int. viol.)\n",
      "                    0 (row viol.)\n",
      "  Timing            13.16 (total)\n",
      "                    0.18 (presolve)\n",
      "                    0.00 (postsolve)\n",
      "  Nodes             1\n",
      "  LP iterations     38193 (total)\n",
      "                    0 (strong br.)\n",
      "                    0 (separation)\n",
      "                    0 (heuristics)\n",
      "Writing the solution to /tmp/linopy-solve-m7m2f7v0.sol\n"
     ]
    },
    {
     "name": "stderr",
     "output_type": "stream",
     "text": [
      "INFO:pypsa.optimization.optimize:The shadow-prices of the constraints Generator-ext-p-lower, Generator-ext-p-upper, Link-ext-p-lower, Link-ext-p-upper, Store-ext-e-lower, Store-ext-e-upper, Store-energy_balance were not assigned to the network.\n",
      "INFO:pypsa.io:Exported network network.nc has stores, carriers, loads, buses, generators, links\n",
      "INFO:pypsa.io:Imported network network.nc has buses, carriers, generators, links, loads, stores\n",
      "/home/viktor/code/pypsa-vgr/generator/library/output_files.py:289: FutureWarning:\n",
      "\n",
      "A value is trying to be set on a copy of a DataFrame or Series through chained assignment using an inplace method.\n",
      "The behavior will change in pandas 3.0. This inplace method will never work because the intermediate object on which we are setting values always behaves as a copy.\n",
      "\n",
      "For example, when doing 'df[col].method(value, inplace=True)', try using 'df.method({col: value}, inplace=True)' or df[col] = df[col].method(value) instead, to perform the operation inplace on the original object.\n",
      "\n",
      "\n",
      "\n"
     ]
    },
    {
     "name": "stdout",
     "output_type": "stream",
     "text": [
      "116 out of 120: ('14:1460-1438-1439-1484-1461-1430-1421-1427-1486-1435-1488-1485-1487-1492', 2030, 1, 15, True, True, 0)\n",
      "Create and store parameters\n",
      "Check weather files\n",
      "Check renewables data\n",
      "Create and store demand\n",
      "Create and store network\n",
      "Using config:\n",
      "\th2:True\n",
      "\toffwind:True\n",
      "\tbiogas:300\n"
     ]
    },
    {
     "name": "stderr",
     "output_type": "stream",
     "text": [
      "INFO:pypsa.io:Exported network network.nc has stores, carriers, loads, buses, generators, links\n",
      "INFO:pypsa.io:Imported network network.nc has buses, carriers, generators, links, loads, stores\n"
     ]
    },
    {
     "name": "stdout",
     "output_type": "stream",
     "text": [
      "Run optimization\n"
     ]
    },
    {
     "name": "stderr",
     "output_type": "stream",
     "text": [
      "INFO:linopy.model: Solve problem using Highs solver\n",
      "INFO:linopy.io:Writing objective.\n",
      "Writing constraints.: 100%|\u001b[38;2;128;191;255m██████████\u001b[0m| 17/17 [00:00<00:00, 35.54it/s]\n",
      "Writing continuous variables.: 100%|\u001b[38;2;128;191;255m██████████\u001b[0m| 9/9 [00:00<00:00, 97.12it/s]\n",
      "Writing integer variables.: 100%|\u001b[38;2;128;191;255m██████████\u001b[0m| 2/2 [00:00<00:00, 755.39it/s]\n",
      "INFO:linopy.io: Writing time: 0.61s\n",
      "INFO:linopy.solvers:Log file at /tmp/highs.log\n"
     ]
    },
    {
     "name": "stdout",
     "output_type": "stream",
     "text": [
      "Running HiGHS 1.7.2 (git hash: 184e327): Copyright (c) 2024 HiGHS under MIT licence terms\n"
     ]
    },
    {
     "name": "stderr",
     "output_type": "stream",
     "text": [
      "INFO:linopy.constants: Optimization successful: \n",
      "Status: ok\n",
      "Termination condition: optimal\n",
      "Solution: 46739 primals, 105141 duals\n",
      "Objective: 1.67e+10\n",
      "Solver model: available\n",
      "Solver message: optimal\n",
      "\n",
      "INFO:pypsa.optimization.optimize:The shadow-prices of the constraints Generator-ext-p-lower, Generator-ext-p-upper, Link-ext-p-lower, Link-ext-p-upper, Store-ext-e-lower, Store-ext-e-upper, Store-energy_balance were not assigned to the network.\n"
     ]
    },
    {
     "name": "stdout",
     "output_type": "stream",
     "text": [
      "Coefficient ranges:\n",
      "  Matrix [1e-07, 3e+02]\n",
      "  Cost   [6e+01, 2e+06]\n",
      "  Bound  [0e+00, 0e+00]\n",
      "  RHS    [3e+02, 3e+03]\n",
      "Presolving model\n",
      "48138 rows, 42306 cols, 126894 nonzeros  0s\n",
      "38013 rows, 32181 cols, 117204 nonzeros  0s\n",
      "37933 rows, 32101 cols, 117560 nonzeros  0s\n",
      "\n",
      "Solving MIP model with:\n",
      "   37933 rows\n",
      "   32101 cols (0 binary, 5 integer, 0 implied int., 32096 continuous)\n",
      "   117560 nonzeros\n",
      "\n",
      "        Nodes      |    B&B Tree     |            Objective Bounds              |  Dynamic Constraints |       Work      \n",
      "     Proc. InQueue |  Leaves   Expl. | BestBound       BestSol              Gap |   Cuts   InLp Confl. | LpIters     Time\n",
      "\n",
      "         0       0         0   0.00%   -inf            inf                  inf        0      0      0         0     0.2s\n",
      " S       0       0         0   0.00%   -inf            16724544193.89     Large        0      0      0         0    10.3s\n",
      " R       0       0         0   0.00%   16719599331.35  16720058087.38     0.00%        0      0      0     44526    10.7s\n",
      "\n",
      "Solving report\n",
      "  Status            Optimal\n",
      "  Primal bound      16720058087.4\n",
      "  Dual bound        16719599331.4\n",
      "  Gap               0.00274% (tolerance: 0.01%)\n",
      "  Solution status   feasible\n",
      "                    16720058087.4 (objective)\n",
      "                    0 (bound viol.)\n",
      "                    2.22044604925e-16 (int. viol.)\n",
      "                    0 (row viol.)\n",
      "  Timing            11.08 (total)\n",
      "                    0.19 (presolve)\n",
      "                    0.00 (postsolve)\n",
      "  Nodes             1\n",
      "  LP iterations     44526 (total)\n",
      "                    0 (strong br.)\n",
      "                    0 (separation)\n",
      "                    0 (heuristics)\n",
      "Writing the solution to /tmp/linopy-solve-e6y6wy5v.sol\n"
     ]
    },
    {
     "name": "stderr",
     "output_type": "stream",
     "text": [
      "INFO:pypsa.io:Exported network network.nc has stores, carriers, loads, buses, generators, links\n",
      "INFO:pypsa.io:Imported network network.nc has buses, carriers, generators, links, loads, stores\n",
      "/home/viktor/code/pypsa-vgr/generator/library/output_files.py:289: FutureWarning:\n",
      "\n",
      "A value is trying to be set on a copy of a DataFrame or Series through chained assignment using an inplace method.\n",
      "The behavior will change in pandas 3.0. This inplace method will never work because the intermediate object on which we are setting values always behaves as a copy.\n",
      "\n",
      "For example, when doing 'df[col].method(value, inplace=True)', try using 'df.method({col: value}, inplace=True)' or df[col] = df[col].method(value) instead, to perform the operation inplace on the original object.\n",
      "\n",
      "\n",
      "\n"
     ]
    },
    {
     "name": "stdout",
     "output_type": "stream",
     "text": [
      "117 out of 120: ('14:1460-1438-1439-1484-1461-1430-1421-1427-1486-1435-1488-1485-1487-1492', 2030, 1, 15, True, True, 300)\n",
      "Create and store parameters\n",
      "Check weather files\n",
      "Check renewables data\n",
      "Create and store demand\n",
      "Create and store network\n",
      "Using config:\n",
      "\th2:True\n",
      "\toffwind:True\n",
      "\tbiogas:600\n"
     ]
    },
    {
     "name": "stderr",
     "output_type": "stream",
     "text": [
      "INFO:pypsa.io:Exported network network.nc has stores, carriers, loads, buses, generators, links\n",
      "INFO:pypsa.io:Imported network network.nc has buses, carriers, generators, links, loads, stores\n"
     ]
    },
    {
     "name": "stdout",
     "output_type": "stream",
     "text": [
      "Run optimization\n"
     ]
    },
    {
     "name": "stderr",
     "output_type": "stream",
     "text": [
      "INFO:linopy.model: Solve problem using Highs solver\n",
      "INFO:linopy.io:Writing objective.\n",
      "Writing constraints.: 100%|\u001b[38;2;128;191;255m██████████\u001b[0m| 17/17 [00:00<00:00, 36.18it/s]\n",
      "Writing continuous variables.: 100%|\u001b[38;2;128;191;255m██████████\u001b[0m| 9/9 [00:00<00:00, 110.47it/s]\n",
      "Writing integer variables.: 100%|\u001b[38;2;128;191;255m██████████\u001b[0m| 2/2 [00:00<00:00, 674.76it/s]\n",
      "INFO:linopy.io: Writing time: 0.59s\n",
      "INFO:linopy.solvers:Log file at /tmp/highs.log\n"
     ]
    },
    {
     "name": "stdout",
     "output_type": "stream",
     "text": [
      "Running HiGHS 1.7.2 (git hash: 184e327): Copyright (c) 2024 HiGHS under MIT licence terms\n",
      "Coefficient ranges:\n",
      "  Matrix [1e-07, 3e+02]\n",
      "  Cost   [6e+01, 2e+06]\n",
      "  Bound  [0e+00, 0e+00]\n",
      "  RHS    [6e+02, 3e+03]\n"
     ]
    },
    {
     "name": "stderr",
     "output_type": "stream",
     "text": [
      "INFO:linopy.constants: Optimization successful: \n",
      "Status: ok\n",
      "Termination condition: optimal\n",
      "Solution: 46739 primals, 105141 duals\n",
      "Objective: 1.57e+10\n",
      "Solver model: available\n",
      "Solver message: optimal\n",
      "\n"
     ]
    },
    {
     "name": "stdout",
     "output_type": "stream",
     "text": [
      "Presolving model\n",
      "48138 rows, 42306 cols, 126894 nonzeros  0s\n",
      "38013 rows, 32181 cols, 117204 nonzeros  0s\n",
      "37933 rows, 32101 cols, 117560 nonzeros  0s\n",
      "\n",
      "Solving MIP model with:\n",
      "   37933 rows\n",
      "   32101 cols (0 binary, 5 integer, 0 implied int., 32096 continuous)\n",
      "   117560 nonzeros\n",
      "\n",
      "        Nodes      |    B&B Tree     |            Objective Bounds              |  Dynamic Constraints |       Work      \n",
      "     Proc. InQueue |  Leaves   Expl. | BestBound       BestSol              Gap |   Cuts   InLp Confl. | LpIters     Time\n",
      "\n",
      "         0       0         0   0.00%   -inf            inf                  inf        0      0      0         0     0.2s\n",
      " S       0       0         0   0.00%   -inf            15713233972.93     Large        0      0      0         0     9.4s\n",
      "\n",
      "Solving report\n",
      "  Status            Optimal\n",
      "  Primal bound      15713233972.9\n",
      "  Dual bound        15711706449.8\n",
      "  Gap               0.00972% (tolerance: 0.01%)\n",
      "  Solution status   feasible\n",
      "                    15713233972.9 (objective)\n",
      "                    0 (bound viol.)\n",
      "                    0 (int. viol.)\n",
      "                    0 (row viol.)\n",
      "  Timing            9.43 (total)\n",
      "                    0.20 (presolve)\n",
      "                    0.00 (postsolve)\n",
      "  Nodes             1\n",
      "  LP iterations     41586 (total)\n",
      "                    0 (strong br.)\n",
      "                    0 (separation)\n",
      "                    0 (heuristics)\n",
      "Writing the solution to /tmp/linopy-solve-phpkqaye.sol\n"
     ]
    },
    {
     "name": "stderr",
     "output_type": "stream",
     "text": [
      "INFO:pypsa.optimization.optimize:The shadow-prices of the constraints Generator-ext-p-lower, Generator-ext-p-upper, Link-ext-p-lower, Link-ext-p-upper, Store-ext-e-lower, Store-ext-e-upper, Store-energy_balance were not assigned to the network.\n",
      "INFO:pypsa.io:Exported network network.nc has stores, carriers, loads, buses, generators, links\n",
      "INFO:pypsa.io:Imported network network.nc has buses, carriers, generators, links, loads, stores\n",
      "/home/viktor/code/pypsa-vgr/generator/library/output_files.py:289: FutureWarning:\n",
      "\n",
      "A value is trying to be set on a copy of a DataFrame or Series through chained assignment using an inplace method.\n",
      "The behavior will change in pandas 3.0. This inplace method will never work because the intermediate object on which we are setting values always behaves as a copy.\n",
      "\n",
      "For example, when doing 'df[col].method(value, inplace=True)', try using 'df.method({col: value}, inplace=True)' or df[col] = df[col].method(value) instead, to perform the operation inplace on the original object.\n",
      "\n",
      "\n",
      "\n"
     ]
    },
    {
     "name": "stdout",
     "output_type": "stream",
     "text": [
      "118 out of 120: ('14:1460-1438-1439-1484-1461-1430-1421-1427-1486-1435-1488-1485-1487-1492', 2030, 1, 15, True, True, 600)\n",
      "Create and store parameters\n",
      "Check weather files\n",
      "Check renewables data\n",
      "Create and store demand\n",
      "Create and store network\n",
      "Using config:\n",
      "\th2:True\n",
      "\toffwind:True\n",
      "\tbiogas:1200\n"
     ]
    },
    {
     "name": "stderr",
     "output_type": "stream",
     "text": [
      "INFO:pypsa.io:Exported network network.nc has stores, carriers, loads, buses, generators, links\n"
     ]
    },
    {
     "name": "stdout",
     "output_type": "stream",
     "text": [
      "Run optimization\n"
     ]
    },
    {
     "name": "stderr",
     "output_type": "stream",
     "text": [
      "INFO:pypsa.io:Imported network network.nc has buses, carriers, generators, links, loads, stores\n",
      "INFO:linopy.model: Solve problem using Highs solver\n",
      "INFO:linopy.io:Writing objective.\n",
      "Writing constraints.: 100%|\u001b[38;2;128;191;255m██████████\u001b[0m| 17/17 [00:00<00:00, 37.33it/s]\n",
      "Writing continuous variables.: 100%|\u001b[38;2;128;191;255m██████████\u001b[0m| 9/9 [00:00<00:00, 111.45it/s]\n",
      "Writing integer variables.: 100%|\u001b[38;2;128;191;255m██████████\u001b[0m| 2/2 [00:00<00:00, 1091.98it/s]\n",
      "INFO:linopy.io: Writing time: 0.57s\n",
      "INFO:linopy.solvers:Log file at /tmp/highs.log\n"
     ]
    },
    {
     "name": "stdout",
     "output_type": "stream",
     "text": [
      "Running HiGHS 1.7.2 (git hash: 184e327): Copyright (c) 2024 HiGHS under MIT licence terms\n",
      "Coefficient ranges:\n",
      "  Matrix [1e-07, 3e+02]\n",
      "  Cost   [6e+01, 2e+06]\n",
      "  Bound  [0e+00, 0e+00]\n",
      "  RHS    [1e+03, 3e+03]\n",
      "Presolving model\n",
      "48138 rows, 42306 cols, 126894 nonzeros  0s\n",
      "38013 rows, 32181 cols, 117204 nonzeros  0s\n",
      "37933 rows, 32101 cols, 117560 nonzeros  0s\n",
      "\n",
      "Solving MIP model with:\n",
      "   37933 rows\n",
      "   32101 cols (0 binary, 5 integer, 0 implied int., 32096 continuous)\n",
      "   117560 nonzeros\n",
      "\n",
      "        Nodes      |    B&B Tree     |            Objective Bounds              |  Dynamic Constraints |       Work      \n",
      "     Proc. InQueue |  Leaves   Expl. | BestBound       BestSol              Gap |   Cuts   InLp Confl. | LpIters     Time\n",
      "\n",
      "         0       0         0   0.00%   -inf            inf                  inf        0      0      0         0     0.2s\n",
      " S       0       0         0   0.00%   -inf            14027568896.41     Large        0      0      0         0    14.3s\n",
      " R       0       0         0   0.00%   14025536912.51  14025703368.16     0.00%        0      0      0     51336    14.5s\n",
      "\n",
      "Solving report\n",
      "  Status            Optimal\n",
      "  Primal bound      14025703368.2\n",
      "  Dual bound        14025536912.5\n",
      "  Gap               0.00119% (tolerance: 0.01%)\n",
      "  Solution status   feasible\n",
      "                    14025703368.2 (objective)\n",
      "                    0 (bound viol.)\n",
      "                    9.15727930981e-17 (int. viol.)\n",
      "                    0 (row viol.)\n",
      "  Timing            15.09 (total)\n",
      "                    0.21 (presolve)\n",
      "                    0.00 (postsolve)\n",
      "  Nodes             1\n",
      "  LP iterations     51336 (total)\n",
      "                    0 (strong br.)\n",
      "                    0 (separation)\n",
      "                    0 (heuristics)\n"
     ]
    },
    {
     "name": "stderr",
     "output_type": "stream",
     "text": [
      "INFO:linopy.constants: Optimization successful: \n",
      "Status: ok\n",
      "Termination condition: optimal\n",
      "Solution: 46739 primals, 105141 duals\n",
      "Objective: 1.40e+10\n",
      "Solver model: available\n",
      "Solver message: optimal\n",
      "\n",
      "INFO:pypsa.optimization.optimize:The shadow-prices of the constraints Generator-ext-p-lower, Generator-ext-p-upper, Link-ext-p-lower, Link-ext-p-upper, Store-ext-e-lower, Store-ext-e-upper, Store-energy_balance were not assigned to the network.\n"
     ]
    },
    {
     "name": "stdout",
     "output_type": "stream",
     "text": [
      "Writing the solution to /tmp/linopy-solve-ysau_536.sol\n"
     ]
    },
    {
     "name": "stderr",
     "output_type": "stream",
     "text": [
      "INFO:pypsa.io:Exported network network.nc has stores, carriers, loads, buses, generators, links\n",
      "INFO:pypsa.io:Imported network network.nc has buses, carriers, generators, links, loads, stores\n",
      "/home/viktor/code/pypsa-vgr/generator/library/output_files.py:289: FutureWarning:\n",
      "\n",
      "A value is trying to be set on a copy of a DataFrame or Series through chained assignment using an inplace method.\n",
      "The behavior will change in pandas 3.0. This inplace method will never work because the intermediate object on which we are setting values always behaves as a copy.\n",
      "\n",
      "For example, when doing 'df[col].method(value, inplace=True)', try using 'df.method({col: value}, inplace=True)' or df[col] = df[col].method(value) instead, to perform the operation inplace on the original object.\n",
      "\n",
      "\n",
      "\n"
     ]
    },
    {
     "name": "stdout",
     "output_type": "stream",
     "text": [
      "119 out of 120: ('14:1460-1438-1439-1484-1461-1430-1421-1427-1486-1435-1488-1485-1487-1492', 2030, 1, 15, True, True, 1200)\n",
      "Create and store parameters\n",
      "Check weather files\n",
      "Check renewables data\n",
      "Create and store demand\n",
      "Create and store network\n",
      "Using config:\n",
      "\th2:True\n",
      "\toffwind:True\n",
      "\tbiogas:1800\n"
     ]
    },
    {
     "name": "stderr",
     "output_type": "stream",
     "text": [
      "INFO:pypsa.io:Exported network network.nc has stores, carriers, loads, buses, generators, links\n"
     ]
    },
    {
     "name": "stdout",
     "output_type": "stream",
     "text": [
      "Run optimization\n"
     ]
    },
    {
     "name": "stderr",
     "output_type": "stream",
     "text": [
      "INFO:pypsa.io:Imported network network.nc has buses, carriers, generators, links, loads, stores\n",
      "INFO:linopy.model: Solve problem using Highs solver\n",
      "INFO:linopy.io:Writing objective.\n",
      "Writing constraints.: 100%|\u001b[38;2;128;191;255m██████████\u001b[0m| 17/17 [00:00<00:00, 38.59it/s]\n",
      "Writing continuous variables.: 100%|\u001b[38;2;128;191;255m██████████\u001b[0m| 9/9 [00:00<00:00, 108.01it/s]\n",
      "Writing integer variables.: 100%|\u001b[38;2;128;191;255m██████████\u001b[0m| 2/2 [00:00<00:00, 897.27it/s]\n",
      "INFO:linopy.io: Writing time: 0.56s\n",
      "INFO:linopy.solvers:Log file at /tmp/highs.log\n"
     ]
    },
    {
     "name": "stdout",
     "output_type": "stream",
     "text": [
      "Running HiGHS 1.7.2 (git hash: 184e327): Copyright (c) 2024 HiGHS under MIT licence terms\n"
     ]
    },
    {
     "name": "stderr",
     "output_type": "stream",
     "text": [
      "INFO:linopy.constants: Optimization successful: \n",
      "Status: ok\n",
      "Termination condition: optimal\n",
      "Solution: 46739 primals, 105141 duals\n",
      "Objective: 1.29e+10\n",
      "Solver model: available\n",
      "Solver message: optimal\n",
      "\n",
      "INFO:pypsa.optimization.optimize:The shadow-prices of the constraints Generator-ext-p-lower, Generator-ext-p-upper, Link-ext-p-lower, Link-ext-p-upper, Store-ext-e-lower, Store-ext-e-upper, Store-energy_balance were not assigned to the network.\n"
     ]
    },
    {
     "name": "stdout",
     "output_type": "stream",
     "text": [
      "Coefficient ranges:\n",
      "  Matrix [1e-07, 3e+02]\n",
      "  Cost   [6e+01, 2e+06]\n",
      "  Bound  [0e+00, 0e+00]\n",
      "  RHS    [1e+03, 3e+03]\n",
      "Presolving model\n",
      "48138 rows, 42306 cols, 126894 nonzeros  0s\n",
      "38013 rows, 32181 cols, 117204 nonzeros  0s\n",
      "37933 rows, 32101 cols, 117560 nonzeros  0s\n",
      "\n",
      "Solving MIP model with:\n",
      "   37933 rows\n",
      "   32101 cols (0 binary, 5 integer, 0 implied int., 32096 continuous)\n",
      "   117560 nonzeros\n",
      "\n",
      "        Nodes      |    B&B Tree     |            Objective Bounds              |  Dynamic Constraints |       Work      \n",
      "     Proc. InQueue |  Leaves   Expl. | BestBound       BestSol              Gap |   Cuts   InLp Confl. | LpIters     Time\n",
      "\n",
      "         0       0         0   0.00%   -inf            inf                  inf        0      0      0         0     0.3s\n",
      " S       0       0         0   0.00%   -inf            12886934963.5      Large        0      0      0         0    19.3s\n",
      " R       0       0         0   0.00%   12884797983.74  12884818606.23     0.00%        0      0      0     59624    19.4s\n",
      "\n",
      "Solving report\n",
      "  Status            Optimal\n",
      "  Primal bound      12884818606.2\n",
      "  Dual bound        12884797983.7\n",
      "  Gap               0.00016% (tolerance: 0.01%)\n",
      "  Solution status   feasible\n",
      "                    12884818606.2 (objective)\n",
      "                    0 (bound viol.)\n",
      "                    0 (int. viol.)\n",
      "                    0 (row viol.)\n",
      "  Timing            19.46 (total)\n",
      "                    0.28 (presolve)\n",
      "                    0.00 (postsolve)\n",
      "  Nodes             1\n",
      "  LP iterations     59624 (total)\n",
      "                    0 (strong br.)\n",
      "                    0 (separation)\n",
      "                    0 (heuristics)\n",
      "Writing the solution to /tmp/linopy-solve-gz9v1ev5.sol\n"
     ]
    },
    {
     "name": "stderr",
     "output_type": "stream",
     "text": [
      "INFO:pypsa.io:Exported network network.nc has stores, carriers, loads, buses, generators, links\n",
      "INFO:pypsa.io:Imported network network.nc has buses, carriers, generators, links, loads, stores\n"
     ]
    },
    {
     "name": "stdout",
     "output_type": "stream",
     "text": [
      "120 out of 120: ('14:1460-1438-1439-1484-1461-1430-1421-1427-1486-1435-1488-1485-1487-1492', 2030, 1, 15, True, True, 1800)\n",
      "Execution time: 97.9885 minutes\n"
     ]
    },
    {
     "name": "stderr",
     "output_type": "stream",
     "text": [
      "/home/viktor/code/pypsa-vgr/generator/library/output_files.py:289: FutureWarning:\n",
      "\n",
      "A value is trying to be set on a copy of a DataFrame or Series through chained assignment using an inplace method.\n",
      "The behavior will change in pandas 3.0. This inplace method will never work because the intermediate object on which we are setting values always behaves as a copy.\n",
      "\n",
      "For example, when doing 'df[col].method(value, inplace=True)', try using 'df.method({col: value}, inplace=True)' or df[col] = df[col].method(value) instead, to perform the operation inplace on the original object.\n",
      "\n",
      "\n",
      "\n"
     ]
    }
   ],
   "source": [
    "CONFIG_NAME=\"single\"\n",
    "\n",
    "# Iterates using the configuration specified, and runs everything needed to create all the outputs\n",
    "%run scenarios.py \"create\" \"$CONFIG_NAME\" True True"
   ]
  },
  {
   "cell_type": "markdown",
   "id": "5ef01af3-efa1-4791-ab78-76fcd372f3ae",
   "metadata": {},
   "source": [
    "### "
   ]
  }
 ],
 "metadata": {
  "kernelspec": {
   "display_name": "pypsa-eur",
   "language": "python",
   "name": "python3"
  },
  "language_info": {
   "codemirror_mode": {
    "name": "ipython",
    "version": 3
   },
   "file_extension": ".py",
   "mimetype": "text/x-python",
   "name": "python",
   "nbconvert_exporter": "python",
   "pygments_lexer": "ipython3",
   "version": "3.11.9"
  }
 },
 "nbformat": 4,
 "nbformat_minor": 5
}
