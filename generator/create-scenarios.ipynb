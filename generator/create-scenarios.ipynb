{
 "cells": [
  {
   "cell_type": "code",
   "execution_count": 1,
   "id": "74a36626-2b35-4b69-ae7f-92539288d323",
   "metadata": {},
   "outputs": [
    {
     "name": "stdout",
     "output_type": "stream",
     "text": [
      "Creating data for all 1 scenarios using following configuration from (single.json):\n",
      "  config-name: single\n",
      "  base-currency: SEK\n",
      "  exchange-rates: {'EUR': 10.508, 'USD': 9.2521}\n",
      "  base-year: 2024\n",
      "  discount-rate: 0.04\n",
      "  h2-initial: 1000\n",
      "  offwind-ratio: 0.5\n",
      "\n",
      "Clear output folder\n",
      "Create and store parameters\n",
      "Check weather files\n",
      "Check renewables data\n",
      "Create and store demand\n",
      "Create and store network\n",
      "Using config:\n",
      "\th2:True\n",
      "\toffwind:True\n",
      "\tbiogas:2000\n"
     ]
    },
    {
     "name": "stderr",
     "output_type": "stream",
     "text": [
      "INFO:pypsa.io:Exported network network.nc has carriers, links, buses, stores, generators, loads\n"
     ]
    },
    {
     "name": "stdout",
     "output_type": "stream",
     "text": [
      "Run optimization\n"
     ]
    },
    {
     "name": "stderr",
     "output_type": "stream",
     "text": [
      "INFO:pypsa.io:Imported network network.nc has buses, carriers, generators, links, loads, stores\n",
      "INFO:linopy.model: Solve problem using Highs solver\n",
      "INFO:linopy.io:Writing objective.\n",
      "Writing constraints.: 100%|\u001b[38;2;128;191;255m██████████\u001b[0m| 17/17 [00:00<00:00, 21.26it/s]\n",
      "Writing continuous variables.: 100%|\u001b[38;2;128;191;255m██████████\u001b[0m| 9/9 [00:00<00:00, 54.20it/s]\n",
      "Writing integer variables.: 100%|\u001b[38;2;128;191;255m██████████\u001b[0m| 2/2 [00:00<00:00, 338.80it/s]\n",
      "INFO:linopy.io: Writing time: 1.05s\n",
      "INFO:linopy.solvers:Log file at /tmp/highs.log\n"
     ]
    },
    {
     "name": "stdout",
     "output_type": "stream",
     "text": [
      "Running HiGHS 1.7.2 (git hash: 184e327): Copyright (c) 2024 HiGHS under MIT licence terms\n",
      "Coefficient ranges:\n",
      "  Matrix [4e-06, 1e+02]\n"
     ]
    },
    {
     "name": "stderr",
     "output_type": "stream",
     "text": [
      "INFO:linopy.constants: Optimization successful: \n",
      "Status: ok\n",
      "Termination condition: optimal\n",
      "Solution: 46739 primals, 105141 duals\n",
      "Objective: 1.33e+10\n",
      "Solver model: available\n",
      "Solver message: optimal\n",
      "\n"
     ]
    },
    {
     "name": "stdout",
     "output_type": "stream",
     "text": [
      "  Cost   [6e+01, 2e+06]\n",
      "  Bound  [0e+00, 0e+00]\n",
      "  RHS    [1e+03, 3e+03]\n",
      "Presolving model\n",
      "48184 rows, 42352 cols, 127032 nonzeros  0s\n",
      "38071 rows, 32239 cols, 117366 nonzeros  0s\n",
      "37991 rows, 32159 cols, 117722 nonzeros  0s\n",
      "\n",
      "Solving MIP model with:\n",
      "   37991 rows\n",
      "   32159 cols (0 binary, 5 integer, 0 implied int., 32154 continuous)\n",
      "   117722 nonzeros\n",
      "\n",
      "        Nodes      |    B&B Tree     |            Objective Bounds              |  Dynamic Constraints |       Work      \n",
      "     Proc. InQueue |  Leaves   Expl. | BestBound       BestSol              Gap |   Cuts   InLp Confl. | LpIters     Time\n",
      "\n",
      "         0       0         0   0.00%   -inf            inf                  inf        0      0      0         0     0.3s\n",
      " S       0       0         0   0.00%   -inf            13285368282.36     Large        0      0      0         0    29.3s\n",
      " R       0       0         0   0.00%   13282284551.18  13282308477.36     0.00%        0      0      0     76573    29.5s\n",
      "\n",
      "Solving report\n",
      "  Status            Optimal\n",
      "  Primal bound      13282308477.4\n",
      "  Dual bound        13282284551.2\n",
      "  Gap               0.00018% (tolerance: 0.01%)\n",
      "  Solution status   feasible\n",
      "                    13282308477.4 (objective)\n",
      "                    0 (bound viol.)\n",
      "                    0 (int. viol.)\n",
      "                    0 (row viol.)\n",
      "  Timing            29.54 (total)\n",
      "                    0.26 (presolve)\n",
      "                    0.00 (postsolve)\n",
      "  Nodes             1\n",
      "  LP iterations     76573 (total)\n",
      "                    0 (strong br.)\n",
      "                    0 (separation)\n",
      "                    0 (heuristics)\n",
      "Writing the solution to /tmp/linopy-solve-bao7lt78.sol\n"
     ]
    },
    {
     "name": "stderr",
     "output_type": "stream",
     "text": [
      "INFO:pypsa.optimization.optimize:The shadow-prices of the constraints Generator-ext-p-lower, Generator-ext-p-upper, Link-ext-p-lower, Link-ext-p-upper, Store-ext-e-lower, Store-ext-e-upper, Store-energy_balance were not assigned to the network.\n",
      "INFO:pypsa.io:Exported network network.nc has carriers, links, buses, stores, generators, loads\n",
      "INFO:pypsa.io:Imported network network.nc has buses, carriers, generators, links, loads, stores\n"
     ]
    },
    {
     "name": "stdout",
     "output_type": "stream",
     "text": [
      "1 out of 1: ('14', 2030, 1, 15, True, True, 2000)\n",
      "Execution time: 0.6268 minutes\n"
     ]
    },
    {
     "name": "stderr",
     "output_type": "stream",
     "text": [
      "/home/viktor/code/pypsa-vgr/generator/library/output_files.py:290: FutureWarning:\n",
      "\n",
      "A value is trying to be set on a copy of a DataFrame or Series through chained assignment using an inplace method.\n",
      "The behavior will change in pandas 3.0. This inplace method will never work because the intermediate object on which we are setting values always behaves as a copy.\n",
      "\n",
      "For example, when doing 'df[col].method(value, inplace=True)', try using 'df.method({col: value}, inplace=True)' or df[col] = df[col].method(value) instead, to perform the operation inplace on the original object.\n",
      "\n",
      "\n",
      "\n"
     ]
    }
   ],
   "source": [
    "CONFIG_NAME=\"pilot1_vgr_fyrbodal_trollhattan\"\n",
    "\n",
    "# Iterates using the configuration specified, and runs everything needed to create all the outputs\n",
    "%run scenarios.py \"create\" \"$CONFIG_NAME\" True True"
   ]
  },
  {
   "cell_type": "markdown",
   "id": "5ef01af3-efa1-4791-ab78-76fcd372f3ae",
   "metadata": {},
   "source": [
    "### "
   ]
  }
 ],
 "metadata": {
  "kernelspec": {
   "display_name": "pypsa-eur",
   "language": "python",
   "name": "python3"
  },
  "language_info": {
   "codemirror_mode": {
    "name": "ipython",
    "version": 3
   },
   "file_extension": ".py",
   "mimetype": "text/x-python",
   "name": "python",
   "nbconvert_exporter": "python",
   "pygments_lexer": "ipython3",
   "version": "3.11.9"
  }
 },
 "nbformat": 4,
 "nbformat_minor": 5
}
