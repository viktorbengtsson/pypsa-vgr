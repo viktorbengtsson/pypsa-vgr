{
 "cells": [
  {
   "cell_type": "code",
   "execution_count": 1,
   "id": "74a36626-2b35-4b69-ae7f-92539288d323",
   "metadata": {},
   "outputs": [
    {
     "name": "stdout",
     "output_type": "stream",
     "text": [
      "Creating data for all 1 scenarios using following configuration from (single.json):\n",
      "  base-currency: SEK\n",
      "  exchange-rates: {'EUR': 11.68, 'USD': 10.7}\n",
      "  models: {'solar': '', 'onwind': '2030_5MW_onshore.yaml', 'offwind': '2030_20MW_offshore.yaml'}\n",
      "  profiles: {'biogas': {'Ingen': 0, 'Liten': 200, 'Mellan': 500, 'Stor': 1000}}\n",
      "\n",
      "assumptions.pkl already exists, continue\n",
      "cutout.nc already exists, continue\n",
      "Capacity series already exists, continue\n",
      "Demand series already exists, continue\n",
      "Network already exists, continue\n",
      "Statistics file already exists, continue\n",
      "Analytics file already exists, continue\n",
      "1 out of 1: (2024, 2035, 0.05, 2023, 19, True, True, True, 'Stor', '14')\n",
      "Execution time: 0.0000 minutes\n"
     ]
    }
   ],
   "source": [
    "CONFIG_NAME=\"single\"\n",
    "\n",
    "# Iterates using the configuration specified, and runs everything needed to create all the outputs\n",
    "%run scenarios.py \"create\" \"$CONFIG_NAME\" False"
   ]
  }
 ],
 "metadata": {
  "kernelspec": {
   "display_name": "pypsa-eur",
   "language": "python",
   "name": "python3"
  },
  "language_info": {
   "codemirror_mode": {
    "name": "ipython",
    "version": 3
   },
   "file_extension": ".py",
   "mimetype": "text/x-python",
   "name": "python",
   "nbconvert_exporter": "python",
   "pygments_lexer": "ipython3",
   "version": "3.11.9"
  }
 },
 "nbformat": 4,
 "nbformat_minor": 5
}
