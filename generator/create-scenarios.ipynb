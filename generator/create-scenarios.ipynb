{
 "cells": [
  {
   "cell_type": "code",
   "execution_count": 1,
   "id": "74a36626-2b35-4b69-ae7f-92539288d323",
   "metadata": {},
   "outputs": [
    {
     "name": "stdout",
     "output_type": "stream",
     "text": [
      "Creating data for all 1 scenarios using following configuration from (single.json):\n",
      "  config-name: single\n",
      "  base-currency: SEK\n",
      "  exchange-rates: {'EUR': 11.68, 'USD': 10.7}\n",
      "  base-year: 2024\n",
      "  discount-rate: 0.05\n",
      "  profiles: {'biogas': {'Ingen': 0, 'Liten': 200, 'Mellan': 500, 'Stor': 1000}}\n",
      "\n",
      "Clear output folder\n",
      "Create and store parameters\n",
      "Check weather files\n",
      "Check renewables data\n",
      "Create and store demand\n",
      "Create and store network\n",
      "Using config:\n",
      "\th2:True\n",
      "\tnuclear:True\n",
      "\toffwind:True\n",
      "\tbiogas:Liten\n"
     ]
    },
    {
     "name": "stderr",
     "output_type": "stream",
     "text": [
      "INFO:pypsa.io:Exported network network.nc has carriers, loads, links, generators, buses, stores\n",
      "INFO:pypsa.io:Imported network network.nc has buses, carriers, generators, links, loads, stores\n"
     ]
    },
    {
     "name": "stdout",
     "output_type": "stream",
     "text": [
      "Run optimization\n"
     ]
    },
    {
     "name": "stderr",
     "output_type": "stream",
     "text": [
      "INFO:linopy.model: Solve problem using Highs solver\n",
      "INFO:linopy.io:Writing objective.\n",
      "Writing constraints.: 100%|\u001b[38;2;128;191;255m██████████\u001b[0m| 16/16 [00:01<00:00,  9.67it/s]\n",
      "Writing continuous variables.: 100%|\u001b[38;2;128;191;255m██████████\u001b[0m| 9/9 [00:00<00:00, 37.78it/s]\n",
      "Writing integer variables.: 100%|\u001b[38;2;128;191;255m██████████\u001b[0m| 2/2 [00:00<00:00, 476.44it/s]\n",
      "INFO:linopy.io: Writing time: 1.95s\n",
      "INFO:linopy.solvers:Log file at /tmp/highs.log\n"
     ]
    },
    {
     "name": "stdout",
     "output_type": "stream",
     "text": [
      "Running HiGHS 1.7.2 (git hash: 184e327): Copyright (c) 2024 HiGHS under MIT licence terms\n"
     ]
    },
    {
     "name": "stderr",
     "output_type": "stream",
     "text": [
      "INFO:linopy.constants: Optimization successful: \n",
      "Status: ok\n",
      "Termination condition: optimal\n",
      "Solution: 84714 primals, 195676 duals\n",
      "Objective: 1.83e+10\n",
      "Solver model: available\n",
      "Solver message: optimal\n",
      "\n",
      "INFO:pypsa.optimization.optimize:The shadow-prices of the constraints Generator-ext-p-lower, Generator-ext-p-upper, Link-ext-p-lower, Link-ext-p-upper, Store-ext-e-lower, Store-ext-e-upper, Store-energy_balance were not assigned to the network.\n"
     ]
    },
    {
     "name": "stdout",
     "output_type": "stream",
     "text": [
      "Coefficient ranges:\n",
      "  Matrix [4e-06, 2e+03]\n",
      "  Cost   [8e+01, 4e+06]\n",
      "  Bound  [0e+00, 0e+00]\n",
      "  RHS    [2e+02, 3e+03]\n",
      "Presolving model\n",
      "61328 rows, 73026 cols, 191296 nonzeros  0s\n",
      "43993 rows, 55691 cols, 169111 nonzeros  0s\n",
      "41392 rows, 53090 cols, 176974 nonzeros  0s\n",
      "\n",
      "Solving MIP model with:\n",
      "   41392 rows\n",
      "   53090 cols (1 binary, 6 integer, 0 implied int., 53083 continuous)\n",
      "   176974 nonzeros\n",
      "\n",
      "        Nodes      |    B&B Tree     |            Objective Bounds              |  Dynamic Constraints |       Work      \n",
      "     Proc. InQueue |  Leaves   Expl. | BestBound       BestSol              Gap |   Cuts   InLp Confl. | LpIters     Time\n",
      "\n",
      "         0       0         0   0.00%   -inf            inf                  inf        0      0      0         0     0.6s\n",
      " S       0       0         0   0.00%   -inf            18515807672.03     Large        0      0      0         0    35.1s\n",
      " R       0       0         0   0.00%   18244779768.61  18264785263.67     0.11%        0      0      0    100317    35.8s\n",
      "\n",
      "14.3% inactive integer columns, restarting\n",
      "Model after restart has 38356 rows, 52973 cols (1 bin., 5 int., 0 impl., 52967 cont.), and 171830 nonzeros\n",
      "\n",
      "         0       0         0   0.00%   18244779768.61  18264785263.67     0.11%        0      0      0    100317    35.9s\n",
      "         0       0         0   0.00%   18244779768.61  18264785263.67     0.11%        0      0      0    120360    45.4s\n",
      "         0       0         0   0.00%   18244779768.61  18264785263.67     0.11%        0      0      0    120360    50.8s\n",
      " L       0       0         0   0.00%   18244779768.61  18257813299.69     0.07%        0      0      0    120360   114.1s\n",
      "\n",
      "Solving report\n",
      "  Status            Optimal\n",
      "  Primal bound      18257813299.7\n",
      "  Dual bound        18257771809.3\n",
      "  Gap               0.000227% (tolerance: 0.01%)\n",
      "  Solution status   feasible\n",
      "                    18257813299.7 (objective)\n",
      "                    0 (bound viol.)\n",
      "                    0 (int. viol.)\n",
      "                    0 (row viol.)\n",
      "  Timing            116.29 (total)\n",
      "                    0.54 (presolve)\n",
      "                    0.00 (postsolve)\n",
      "  Nodes             1\n",
      "  LP iterations     140084 (total)\n",
      "                    1376 (strong br.)\n",
      "                    1 (separation)\n",
      "                    17099 (heuristics)\n",
      "Writing the solution to /tmp/linopy-solve-w5yrul6c.sol\n"
     ]
    },
    {
     "name": "stderr",
     "output_type": "stream",
     "text": [
      "INFO:pypsa.io:Exported network network.nc has carriers, loads, links, generators, buses, stores\n",
      "/home/viktor/code/pypsa-vgr/generator/lib/create_files.py:159: FutureWarning:\n",
      "\n",
      "'w' is deprecated and will be removed in a future version, please use 'W' instead.\n",
      "\n",
      "INFO:pypsa.io:Imported network network.nc has buses, carriers, generators, links, loads, stores\n"
     ]
    },
    {
     "name": "stdout",
     "output_type": "stream",
     "text": [
      "1 out of 1: ('14', 2035, 0.5, 19, True, True, True, 'Liten')\n",
      "Execution time: 2.0567 minutes\n"
     ]
    },
    {
     "name": "stderr",
     "output_type": "stream",
     "text": [
      "/home/viktor/code/pypsa-vgr/generator/lib/create_files.py:174: SettingWithCopyWarning:\n",
      "\n",
      "\n",
      "A value is trying to be set on a copy of a slice from a DataFrame.\n",
      "Try using .loc[row_indexer,col_indexer] = value instead\n",
      "\n",
      "See the caveats in the documentation: https://pandas.pydata.org/pandas-docs/stable/user_guide/indexing.html#returning-a-view-versus-a-copy\n",
      "\n",
      "/home/viktor/code/pypsa-vgr/generator/lib/create_files.py:178: FutureWarning:\n",
      "\n",
      "'w' is deprecated and will be removed in a future version, please use 'W' instead.\n",
      "\n",
      "/home/viktor/code/pypsa-vgr/generator/lib/create_files.py:190: SettingWithCopyWarning:\n",
      "\n",
      "\n",
      "A value is trying to be set on a copy of a slice from a DataFrame.\n",
      "Try using .loc[row_indexer,col_indexer] = value instead\n",
      "\n",
      "See the caveats in the documentation: https://pandas.pydata.org/pandas-docs/stable/user_guide/indexing.html#returning-a-view-versus-a-copy\n",
      "\n",
      "/home/viktor/code/pypsa-vgr/generator/lib/create_files.py:194: FutureWarning:\n",
      "\n",
      "'w' is deprecated and will be removed in a future version, please use 'W' instead.\n",
      "\n"
     ]
    }
   ],
   "source": [
    "CONFIG_NAME=\"single\"\n",
    "\n",
    "# Iterates using the configuration specified, and runs everything needed to create all the outputs\n",
    "%run scenarios.py \"create\" \"$CONFIG_NAME\" True True"
   ]
  },
  {
   "cell_type": "code",
   "execution_count": 2,
   "id": "ab38f02d",
   "metadata": {},
   "outputs": [
    {
     "data": {
      "text/plain": [
       "360.0"
      ]
     },
     "execution_count": 2,
     "metadata": {},
     "output_type": "execute_result"
    }
   ],
   "source": [
    "24*60/4"
   ]
  }
 ],
 "metadata": {
  "kernelspec": {
   "display_name": "pypsa-eur",
   "language": "python",
   "name": "python3"
  },
  "language_info": {
   "codemirror_mode": {
    "name": "ipython",
    "version": 3
   },
   "file_extension": ".py",
   "mimetype": "text/x-python",
   "name": "python",
   "nbconvert_exporter": "python",
   "pygments_lexer": "ipython3",
   "version": "3.11.9"
  }
 },
 "nbformat": 4,
 "nbformat_minor": 5
}
