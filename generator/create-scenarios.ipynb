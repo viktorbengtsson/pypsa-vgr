{
 "cells": [
  {
   "cell_type": "code",
   "execution_count": 1,
   "id": "74a36626-2b35-4b69-ae7f-92539288d323",
   "metadata": {},
   "outputs": [
    {
     "name": "stdout",
     "output_type": "stream",
     "text": [
      "Creating data for all 2 scenarios using following configuration from (single.json):\n",
      "  config-name: single\n",
      "  base-currency: SEK\n",
      "  exchange-rates: {'EUR': 10.508, 'USD': 9.2521}\n",
      "  base-year: 2024\n",
      "  discount-rate: 0.04\n",
      "  h2-initial: 1000\n",
      "  offwind-ratio: 0.5\n",
      "  biogas-method: average\n",
      "  demand: {'base-demand': 19000000, 'projection': {'2030': 34000000}, 'growth-only': True}\n",
      "\n",
      "Clear output folder\n",
      "Create and store parameters\n",
      "Check weather files\n",
      "Check renewables data\n",
      "Create and store demand\n",
      "Create and store network\n",
      "Using config:\n",
      "\th2:True\n",
      "\toffwind:True\n",
      "\tbiogas:0.5\n"
     ]
    },
    {
     "name": "stderr",
     "output_type": "stream",
     "text": [
      "INFO:pypsa.io:Exported network network.nc has stores, loads, links, carriers, generators, buses\n"
     ]
    },
    {
     "name": "stdout",
     "output_type": "stream",
     "text": [
      "Run optimization\n"
     ]
    },
    {
     "name": "stderr",
     "output_type": "stream",
     "text": [
      "INFO:pypsa.io:Imported network network.nc has buses, carriers, generators, links, loads, stores\n",
      "INFO:linopy.model: Solve problem using Highs solver\n",
      "INFO:linopy.io:Writing objective.\n",
      "Writing constraints.: 100%|\u001b[38;2;128;191;255m██████████\u001b[0m| 18/18 [00:00<00:00, 40.61it/s]\n",
      "Writing continuous variables.: 100%|\u001b[38;2;128;191;255m██████████\u001b[0m| 9/9 [00:00<00:00, 117.84it/s]\n",
      "Writing integer variables.: 100%|\u001b[38;2;128;191;255m██████████\u001b[0m| 2/2 [00:00<00:00, 870.37it/s]\n",
      "INFO:linopy.io: Writing time: 0.57s\n",
      "INFO:linopy.solvers:Log file at /tmp/highs.log\n"
     ]
    },
    {
     "name": "stdout",
     "output_type": "stream",
     "text": [
      "Running HiGHS 1.7.2 (git hash: 184e327): Copyright (c) 2024 HiGHS under MIT licence terms\n",
      "Coefficient ranges:\n",
      "  Matrix [4e-06, 1e+02]\n",
      "  Cost   [6e+01, 2e+06]\n",
      "  Bound  [0e+00, 0e+00]\n",
      "  RHS    [1e+03, 4e+05]\n",
      "Presolving model\n",
      "48185 rows, 45272 cols, 132872 nonzeros  0s\n",
      "38760 rows, 35847 cols, 120918 nonzeros  0s\n",
      "38038 rows, 35125 cols, 123282 nonzeros  0s\n",
      "\n",
      "Solving MIP model with:\n",
      "   38038 rows\n",
      "   35125 cols (0 binary, 5 integer, 0 implied int., 35120 continuous)\n",
      "   123282 nonzeros\n",
      "\n",
      "        Nodes      |    B&B Tree     |            Objective Bounds              |  Dynamic Constraints |       Work      \n",
      "     Proc. InQueue |  Leaves   Expl. | BestBound       BestSol              Gap |   Cuts   InLp Confl. | LpIters     Time\n",
      "\n",
      "         0       0         0   0.00%   -inf            inf                  inf        0      0      0         0     0.3s\n",
      " S       0       0         0   0.00%   -inf            9440629021.129     Large        0      0      0         0    35.6s\n",
      " R       0       0         0   0.00%   9438363352.547  9438386691.241     0.00%        0      0      0     67968    38.0s\n",
      "\n",
      "Solving report\n",
      "  Status            Optimal\n",
      "  Primal bound      9438386691.24\n",
      "  Dual bound        9438363352.55\n",
      "  Gap               0.000247% (tolerance: 0.01%)\n",
      "  Solution status   feasible\n",
      "                    9438386691.24 (objective)\n",
      "                    0 (bound viol.)\n",
      "                    0 (int. viol.)\n",
      "                    0 (row viol.)\n",
      "  Timing            38.01 (total)\n",
      "                    0.24 (presolve)\n",
      "                    0.00 (postsolve)\n",
      "  Nodes             1\n",
      "  LP iterations     67968 (total)\n",
      "                    0 (strong br.)\n",
      "                    0 (separation)\n",
      "                    0 (heuristics)\n",
      "Writing the solution to /tmp/linopy-solve-a8qu0f35.sol\n"
     ]
    },
    {
     "name": "stderr",
     "output_type": "stream",
     "text": [
      "INFO:linopy.constants: Optimization successful: \n",
      "Status: ok\n",
      "Termination condition: optimal\n",
      "Solution: 46739 primals, 102222 duals\n",
      "Objective: 9.44e+09\n",
      "Solver model: available\n",
      "Solver message: optimal\n",
      "\n",
      "INFO:pypsa.optimization.optimize:The shadow-prices of the constraints Generator-ext-p-lower, Generator-ext-p-upper, Link-ext-p-lower, Link-ext-p-upper, Store-ext-e-lower, Store-ext-e-upper, Store-energy_balance, Self_sufficiency_constraint were not assigned to the network.\n",
      "INFO:pypsa.io:Exported network network.nc has stores, loads, links, carriers, generators, buses\n",
      "INFO:pypsa.io:Imported network network.nc has buses, carriers, generators, links, loads, stores\n"
     ]
    },
    {
     "name": "stdout",
     "output_type": "stream",
     "text": [
      "1 out of 2: ('14', 2030, 0.925, True, True, 0.5)\n",
      "Create and store parameters\n",
      "Check weather files\n",
      "Check renewables data\n",
      "Create and store demand\n",
      "Create and store network\n",
      "Using config:\n",
      "\th2:True\n",
      "\toffwind:True\n",
      "\tbiogas:0.5\n"
     ]
    },
    {
     "name": "stderr",
     "output_type": "stream",
     "text": [
      "INFO:pypsa.io:Exported network network.nc has stores, loads, links, carriers, generators, buses\n"
     ]
    },
    {
     "name": "stdout",
     "output_type": "stream",
     "text": [
      "Run optimization\n"
     ]
    },
    {
     "name": "stderr",
     "output_type": "stream",
     "text": [
      "INFO:pypsa.io:Imported network network.nc has buses, carriers, generators, links, loads, stores\n",
      "INFO:linopy.model: Solve problem using Highs solver\n",
      "INFO:linopy.io:Writing objective.\n",
      "Writing constraints.: 100%|\u001b[38;2;128;191;255m██████████\u001b[0m| 18/18 [00:00<00:00, 36.94it/s]\n",
      "Writing continuous variables.: 100%|\u001b[38;2;128;191;255m██████████\u001b[0m| 9/9 [00:00<00:00, 106.98it/s]\n",
      "Writing integer variables.: 100%|\u001b[38;2;128;191;255m██████████\u001b[0m| 2/2 [00:00<00:00, 1002.22it/s]\n",
      "INFO:linopy.io: Writing time: 0.64s\n",
      "INFO:linopy.solvers:Log file at /tmp/highs.log\n"
     ]
    },
    {
     "name": "stdout",
     "output_type": "stream",
     "text": [
      "Running HiGHS 1.7.2 (git hash: 184e327): Copyright (c) 2024 HiGHS under MIT licence terms\n",
      "Coefficient ranges:\n",
      "  Matrix [2e-06, 1e+02]\n",
      "  Cost   [6e+01, 2e+06]\n",
      "  Bound  [0e+00, 0e+00]\n",
      "  RHS    [2e+01, 6e+03]\n",
      "Presolving model\n",
      "47409 rows, 44496 cols, 130599 nonzeros  0s\n",
      "37866 rows, 34953 cols, 118515 nonzeros  0s\n",
      "37121 rows, 34208 cols, 120899 nonzeros  0s\n",
      "\n",
      "Solving MIP model with:\n",
      "   37121 rows\n",
      "   34208 cols (0 binary, 5 integer, 0 implied int., 34203 continuous)\n",
      "   120899 nonzeros\n",
      "\n",
      "        Nodes      |    B&B Tree     |            Objective Bounds              |  Dynamic Constraints |       Work      \n",
      "     Proc. InQueue |  Leaves   Expl. | BestBound       BestSol              Gap |   Cuts   InLp Confl. | LpIters     Time\n",
      "\n",
      "         0       0         0   0.00%   -inf            inf                  inf        0      0      0         0     0.2s\n",
      " S       0       0         0   0.00%   -inf            167068269.8163     Large        0      0      0         0    40.0s\n",
      " R       0       0         0   0.00%   161138441.9845  163970660.0503     1.73%        0      0      0     65627    44.4s\n",
      "\n",
      "20.0% inactive integer columns, restarting\n",
      "Model after restart has 32533 rows, 29619 cols (0 bin., 4 int., 0 impl., 29615 cont.), and 111324 nonzeros\n",
      "\n",
      "         0       0         0   0.00%   161138441.9845  163970660.0503     1.73%        0      0      0     65627    44.6s\n",
      " R       0       0         0   0.00%   161138441.9845  161171865.419      0.02%        0      0      0     65633    49.2s\n",
      "\n",
      "25.0% inactive integer columns, restarting\n",
      "Model after restart has 27274 rows, 24359 cols (0 bin., 3 int., 0 impl., 24356 cont.), and 100934 nonzeros\n",
      "\n",
      "         0       0         0   0.00%   161138441.9845  161171865.419      0.02%        0      0      0     65633    49.3s\n",
      "         0       0         0   0.00%   161138441.9845  161171865.419      0.02%        0      0      0     66149    53.5s\n",
      "         0       0         0   0.00%   161138574.1975  161171865.419      0.02%       49      2      0     66151    58.6s\n",
      "         0       0         0   0.00%   161138576.7752  161171865.419      0.02%       49      4      0     66153    63.8s\n",
      "         0       0         0   0.00%   161138578.9213  161171865.419      0.02%       62      7      0     66156    69.6s\n",
      "         0       0         0   0.00%   161138747.166   161171865.419      0.02%       62      9      0     66159    75.6s\n",
      "         0       0         0   0.00%   161138769.9636  161171865.419      0.02%       62     12      0     66162    81.6s\n",
      "         0       0         0   0.00%   161138771.9008  161171865.419      0.02%       62     16      0     66166    86.6s\n",
      "         0       0         0   0.00%   161138772.9715  161171865.419      0.02%       62     18      0     79864   103.8s\n",
      "         1       0         0 100.00%   161164023.338   161171865.419      0.00%       62     18      0     90241   128.5s\n",
      "\n",
      "Solving report\n",
      "  Status            Optimal\n",
      "  Primal bound      161171865.419\n",
      "  Dual bound        161164023.338\n",
      "  Gap               0.00487% (tolerance: 0.01%)\n",
      "  Solution status   feasible\n",
      "                    161171865.419 (objective)\n",
      "                    0 (bound viol.)\n",
      "                    0 (int. viol.)\n",
      "                    0 (row viol.)\n",
      "  Timing            128.46 (total)\n",
      "                    0.37 (presolve)\n",
      "                    0.00 (postsolve)\n",
      "  Nodes             1\n",
      "  LP iterations     90241 (total)\n",
      "                    79 (strong br.)\n",
      "                    19 (separation)\n",
      "                    23901 (heuristics)\n"
     ]
    },
    {
     "name": "stderr",
     "output_type": "stream",
     "text": [
      "INFO:linopy.constants: Optimization successful: \n",
      "Status: ok\n",
      "Termination condition: optimal\n",
      "Solution: 46739 primals, 102222 duals\n",
      "Objective: 1.61e+08\n",
      "Solver model: available\n",
      "Solver message: optimal\n",
      "\n",
      "INFO:pypsa.optimization.optimize:The shadow-prices of the constraints Generator-ext-p-lower, Generator-ext-p-upper, Link-ext-p-lower, Link-ext-p-upper, Store-ext-e-lower, Store-ext-e-upper, Store-energy_balance, Self_sufficiency_constraint were not assigned to the network.\n"
     ]
    },
    {
     "name": "stdout",
     "output_type": "stream",
     "text": [
      "Writing the solution to /tmp/linopy-solve-4xezogar.sol\n"
     ]
    },
    {
     "name": "stderr",
     "output_type": "stream",
     "text": [
      "INFO:pypsa.io:Exported network network.nc has stores, loads, links, carriers, generators, buses\n",
      "INFO:pypsa.io:Imported network network.nc has buses, carriers, generators, links, loads, stores\n"
     ]
    },
    {
     "name": "stdout",
     "output_type": "stream",
     "text": [
      "2 out of 2: ('14:1488', 2030, 0.925, True, True, 0.5)\n",
      "Execution time: 2.9356 minutes\n"
     ]
    }
   ],
   "source": [
    "CONFIG_NAME=\"pilot2_vgr_skaraborg_tidaholm\"\n",
    "\n",
    "# Iterates using the configuration specified, and runs everything needed to create all the outputs\n",
    "%run scenarios.py \"create\" \"$CONFIG_NAME\" True True"
   ]
  },
  {
   "cell_type": "markdown",
   "id": "5ef01af3-efa1-4791-ab78-76fcd372f3ae",
   "metadata": {},
   "source": [
    "### "
   ]
  }
 ],
 "metadata": {
  "kernelspec": {
   "display_name": "pypsa-eur",
   "language": "python",
   "name": "python3"
  },
  "language_info": {
   "codemirror_mode": {
    "name": "ipython",
    "version": 3
   },
   "file_extension": ".py",
   "mimetype": "text/x-python",
   "name": "python",
   "nbconvert_exporter": "python",
   "pygments_lexer": "ipython3",
   "version": "3.11.9"
  }
 },
 "nbformat": 4,
 "nbformat_minor": 5
}
