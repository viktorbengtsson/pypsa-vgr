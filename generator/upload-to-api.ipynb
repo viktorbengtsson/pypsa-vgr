{
 "cells": [
  {
   "cell_type": "markdown",
   "metadata": {},
   "source": [
    "# Upload API folder to AWS S3 bucket\n",
    "\n",
    "This is a temporary notebook for uploading all the files in the /api folder to a bucket on AWS S3\n",
    "\n",
    "It's pretty inefficient as it currently stands. I've used the aws cli command to upload instead:\n",
    "\n",
    "aws s3 sync ./api s3://'your-bucket-here' --profile 'your-profile-here'\n"
   ]
  },
  {
   "cell_type": "code",
   "execution_count": 4,
   "metadata": {},
   "outputs": [],
   "source": [
    "# Imports and general variables\n",
    "\n",
    "import sys\n",
    "from boto3 import Session\n",
    "from pathlib import Path\n",
    "from tqdm import tqdm\n",
    "\n",
    "root_path = Path(globals()['_dh'][0]).resolve().parent\n",
    "sys.path.append(str(root_path))\n",
    "\n",
    "import paths\n"
   ]
  },
  {
   "cell_type": "code",
   "execution_count": 2,
   "metadata": {},
   "outputs": [],
   "source": [
    "# Config\n",
    "\n",
    "session = Session(profile_name=\"600627346413_PowerUser_with_billing\")\n",
    "s3 = session.client(\"s3\", region_name=\"eu-central-1\")  # Frankfurt region\n",
    "\n",
    "bucket_name = 'energy-toolkit-vgr-data'\n",
    "\n",
    "directory = Path(paths.api_path)\n",
    "\n",
    "all_files = [file_path for file_path in directory.rglob('*') if file_path.is_file()]\n"
   ]
  },
  {
   "cell_type": "code",
   "execution_count": 3,
   "metadata": {},
   "outputs": [],
   "source": [
    "# Delete existing files in bucket\n",
    "\n",
    "paginator = s3.get_paginator(\"list_objects_v2\")\n",
    "for page in paginator.paginate(Bucket=bucket_name):\n",
    "    if \"Contents\" in page:\n",
    "        delete_keys = {\"Objects\": [{\"Key\": obj[\"Key\"]} for obj in page[\"Contents\"]]}\n",
    "        s3.delete_objects(Bucket=bucket_name, Delete=delete_keys)"
   ]
  },
  {
   "cell_type": "code",
   "execution_count": 3,
   "metadata": {},
   "outputs": [
    {
     "name": "stderr",
     "output_type": "stream",
     "text": [
      "Uploading files:   4%|▍         | 1136/28384 [02:35<1:00:18,  7.53file/s, file=geography=1460-1438-1439-1484-1461-1430-1421-1427-1486-1435-1488-1485-1487-1492,target-year=2030,self-sufficiency=0.925,energy-scenario=15000000,h2=False,offwind=False,biogas-limit=0.1/generators/biogas-market/power_t_1M.csv.gz]      "
     ]
    }
   ],
   "source": [
    "with tqdm(total=len(all_files), desc=\"Uploading files\", unit=\"file\") as pbar:\n",
    "    for file_path in all_files:\n",
    "        key = file_path.relative_to(directory).as_posix()\n",
    "\n",
    "        with file_path.open(\"rb\") as data:\n",
    "            s3.upload_fileobj(data, bucket_name, key)\n",
    "\n",
    "        pbar.update(1)\n",
    "        pbar.set_postfix(file=key)"
   ]
  }
 ],
 "metadata": {
  "kernelspec": {
   "display_name": "pypsa-vgr",
   "language": "python",
   "name": "python3"
  },
  "language_info": {
   "codemirror_mode": {
    "name": "ipython",
    "version": 3
   },
   "file_extension": ".py",
   "mimetype": "text/x-python",
   "name": "python",
   "nbconvert_exporter": "python",
   "pygments_lexer": "ipython3",
   "version": "3.11.9"
  }
 },
 "nbformat": 4,
 "nbformat_minor": 2
}
