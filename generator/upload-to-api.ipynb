{
 "cells": [
  {
   "cell_type": "markdown",
   "metadata": {},
   "source": [
    "# Upload API folder to IBM Cloud bucket\n",
    "\n",
    "This is a temporary notebook for uploading all the files in the /api folder to a bucket on IBM Cloud"
   ]
  },
  {
   "cell_type": "code",
   "execution_count": 3,
   "metadata": {},
   "outputs": [],
   "source": [
    "# Imports and general variables\n",
    "\n",
    "import sys\n",
    "import ibm_boto3\n",
    "from ibm_botocore.client import Config\n",
    "from pathlib import Path\n",
    "import json\n",
    "from tqdm import tqdm\n",
    "\n",
    "root_path = Path(globals()['_dh'][0]).resolve().parent\n",
    "sys.path.append(str(root_path))\n",
    "\n",
    "import paths\n"
   ]
  },
  {
   "cell_type": "code",
   "execution_count": 4,
   "metadata": {},
   "outputs": [],
   "source": [
    "# Config\n",
    "\n",
    "cred_file = Path(root_path / 'apikey.json')\n",
    "\n",
    "with cred_file.open(\"r\") as file:\n",
    "    credentials = json.load(file)"
   ]
  },
  {
   "cell_type": "code",
   "execution_count": 5,
   "metadata": {},
   "outputs": [],
   "source": [
    "# IBM COS configuration\n",
    "\n",
    "cos = ibm_boto3.client(\n",
    "    \"s3\",\n",
    "    ibm_api_key_id=credentials['apikey'],\n",
    "    ibm_service_instance_id=\"46e90cd7-db18-4c5a-8a1d-87d95250c725\",\n",
    "    config=Config(signature_version=\"oauth\"),\n",
    "    endpoint_url=\"https://s3.eu-de.cloud-object-storage.appdomain.cloud\"\n",
    ")\n",
    "\n",
    "bucket_name = 'et-vgr-data'"
   ]
  },
  {
   "cell_type": "code",
   "execution_count": 7,
   "metadata": {},
   "outputs": [
    {
     "name": "stderr",
     "output_type": "stream",
     "text": [
      "Uploading files: 100%|██████████| 36758/36758 [1:15:54<00:00,  8.07file/s, file=geography=1480,target-year=2030,self-sufficiency=1,energy-scenario=-0.2,h2=True,offwind=True,biogas-limit=0.5/performance/performance_metrics.csv.gz]                                                                                \n"
     ]
    }
   ],
   "source": [
    "directory = Path(paths.api_path)\n",
    "\n",
    "all_files = [file_path for file_path in directory.rglob('*') if file_path.is_file()]\n",
    "\n",
    "\n",
    "with tqdm(total=len(all_files), desc=\"Uploading files\", unit=\"file\") as pbar:\n",
    "    for file_path in all_files:\n",
    "        key = file_path.relative_to(directory).as_posix()\n",
    "\n",
    "        with file_path.open(\"rb\") as data:\n",
    "            cos.upload_fileobj(data, bucket_name, key)\n",
    "        \n",
    "        pbar.update(1)\n",
    "        pbar.set_postfix(file=key)"
   ]
  }
 ],
 "metadata": {
  "kernelspec": {
   "display_name": "pypsa-vgr",
   "language": "python",
   "name": "python3"
  },
  "language_info": {
   "codemirror_mode": {
    "name": "ipython",
    "version": 3
   },
   "file_extension": ".py",
   "mimetype": "text/x-python",
   "name": "python",
   "nbconvert_exporter": "python",
   "pygments_lexer": "ipython3",
   "version": "3.11.9"
  }
 },
 "nbformat": 4,
 "nbformat_minor": 2
}
