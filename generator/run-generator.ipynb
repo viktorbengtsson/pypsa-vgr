{
 "cells": [
  {
   "cell_type": "code",
   "execution_count": 1,
   "id": "74a36626-2b35-4b69-ae7f-92539288d323",
   "metadata": {},
   "outputs": [
    {
     "name": "stdout",
     "output_type": "stream",
     "text": [
      "Creating data for all 144 scenarios using following configuration from (single.json):\n",
      "  config-name: single\n",
      "  base-currency: SEK\n",
      "  exchange-rates: {'EUR': 10.508, 'USD': 9.2521}\n",
      "  base-year: 2024\n",
      "  discount-rate: 0.04\n",
      "  h2-initial: 1000\n",
      "  offwind-ratio: 0.5\n",
      "  biogas-method: average\n",
      "  demand: {'base-demand': 19000000, 'projection': {'2030': 34000000}, 'growth-only': True}\n",
      "\n",
      "/home/viktor/code/pypsa-vgr/api/geography=14,target-year=2030,self-sufficiency=0.5,energy-scenario=-0.2,h2=True,offwind=True,biogas-limit=0/config.json already exists\n",
      "1 out of 144: ('14', 2030, 0.5, -0.2, True, True, 0)\n",
      "/home/viktor/code/pypsa-vgr/api/geography=14,target-year=2030,self-sufficiency=0.5,energy-scenario=-0.2,h2=True,offwind=True,biogas-limit=0.5/config.json already exists\n",
      "2 out of 144: ('14', 2030, 0.5, -0.2, True, True, 0.5)\n",
      "/home/viktor/code/pypsa-vgr/api/geography=14,target-year=2030,self-sufficiency=0.5,energy-scenario=-0.2,h2=True,offwind=True,biogas-limit=1/config.json already exists\n",
      "3 out of 144: ('14', 2030, 0.5, -0.2, True, True, 1)\n",
      "/home/viktor/code/pypsa-vgr/api/geography=14,target-year=2030,self-sufficiency=0.5,energy-scenario=0,h2=True,offwind=True,biogas-limit=0/config.json already exists\n",
      "4 out of 144: ('14', 2030, 0.5, 0, True, True, 0)\n",
      "/home/viktor/code/pypsa-vgr/api/geography=14,target-year=2030,self-sufficiency=0.5,energy-scenario=0,h2=True,offwind=True,biogas-limit=0.5/config.json already exists\n",
      "5 out of 144: ('14', 2030, 0.5, 0, True, True, 0.5)\n",
      "/home/viktor/code/pypsa-vgr/api/geography=14,target-year=2030,self-sufficiency=0.5,energy-scenario=0,h2=True,offwind=True,biogas-limit=1/config.json already exists\n",
      "6 out of 144: ('14', 2030, 0.5, 0, True, True, 1)\n",
      "/home/viktor/code/pypsa-vgr/api/geography=14,target-year=2030,self-sufficiency=0.5,energy-scenario=0.2,h2=True,offwind=True,biogas-limit=0/config.json already exists\n",
      "7 out of 144: ('14', 2030, 0.5, 0.2, True, True, 0)\n",
      "/home/viktor/code/pypsa-vgr/api/geography=14,target-year=2030,self-sufficiency=0.5,energy-scenario=0.2,h2=True,offwind=True,biogas-limit=0.5/config.json already exists\n",
      "8 out of 144: ('14', 2030, 0.5, 0.2, True, True, 0.5)\n",
      "/home/viktor/code/pypsa-vgr/api/geography=14,target-year=2030,self-sufficiency=0.5,energy-scenario=0.2,h2=True,offwind=True,biogas-limit=1/config.json already exists\n",
      "9 out of 144: ('14', 2030, 0.5, 0.2, True, True, 1)\n",
      "/home/viktor/code/pypsa-vgr/api/geography=14,target-year=2030,self-sufficiency=0.8,energy-scenario=-0.2,h2=True,offwind=True,biogas-limit=0/config.json already exists\n",
      "10 out of 144: ('14', 2030, 0.8, -0.2, True, True, 0)\n",
      "/home/viktor/code/pypsa-vgr/api/geography=14,target-year=2030,self-sufficiency=0.8,energy-scenario=-0.2,h2=True,offwind=True,biogas-limit=0.5/config.json already exists\n",
      "11 out of 144: ('14', 2030, 0.8, -0.2, True, True, 0.5)\n",
      "/home/viktor/code/pypsa-vgr/api/geography=14,target-year=2030,self-sufficiency=0.8,energy-scenario=-0.2,h2=True,offwind=True,biogas-limit=1/config.json already exists\n",
      "12 out of 144: ('14', 2030, 0.8, -0.2, True, True, 1)\n",
      "/home/viktor/code/pypsa-vgr/api/geography=14,target-year=2030,self-sufficiency=0.8,energy-scenario=0,h2=True,offwind=True,biogas-limit=0/config.json already exists\n",
      "13 out of 144: ('14', 2030, 0.8, 0, True, True, 0)\n",
      "/home/viktor/code/pypsa-vgr/api/geography=14,target-year=2030,self-sufficiency=0.8,energy-scenario=0,h2=True,offwind=True,biogas-limit=0.5/config.json already exists\n",
      "14 out of 144: ('14', 2030, 0.8, 0, True, True, 0.5)\n",
      "/home/viktor/code/pypsa-vgr/api/geography=14,target-year=2030,self-sufficiency=0.8,energy-scenario=0,h2=True,offwind=True,biogas-limit=1/config.json already exists\n",
      "15 out of 144: ('14', 2030, 0.8, 0, True, True, 1)\n",
      "/home/viktor/code/pypsa-vgr/api/geography=14,target-year=2030,self-sufficiency=0.8,energy-scenario=0.2,h2=True,offwind=True,biogas-limit=0/config.json already exists\n",
      "16 out of 144: ('14', 2030, 0.8, 0.2, True, True, 0)\n",
      "/home/viktor/code/pypsa-vgr/api/geography=14,target-year=2030,self-sufficiency=0.8,energy-scenario=0.2,h2=True,offwind=True,biogas-limit=0.5/config.json already exists\n",
      "17 out of 144: ('14', 2030, 0.8, 0.2, True, True, 0.5)\n",
      "/home/viktor/code/pypsa-vgr/api/geography=14,target-year=2030,self-sufficiency=0.8,energy-scenario=0.2,h2=True,offwind=True,biogas-limit=1/config.json already exists\n",
      "18 out of 144: ('14', 2030, 0.8, 0.2, True, True, 1)\n",
      "/home/viktor/code/pypsa-vgr/api/geography=14,target-year=2030,self-sufficiency=0.925,energy-scenario=-0.2,h2=True,offwind=True,biogas-limit=0/config.json already exists\n",
      "19 out of 144: ('14', 2030, 0.925, -0.2, True, True, 0)\n",
      "/home/viktor/code/pypsa-vgr/api/geography=14,target-year=2030,self-sufficiency=0.925,energy-scenario=-0.2,h2=True,offwind=True,biogas-limit=0.5/config.json already exists\n",
      "20 out of 144: ('14', 2030, 0.925, -0.2, True, True, 0.5)\n",
      "/home/viktor/code/pypsa-vgr/api/geography=14,target-year=2030,self-sufficiency=0.925,energy-scenario=-0.2,h2=True,offwind=True,biogas-limit=1/config.json already exists\n",
      "21 out of 144: ('14', 2030, 0.925, -0.2, True, True, 1)\n",
      "/home/viktor/code/pypsa-vgr/api/geography=14,target-year=2030,self-sufficiency=0.925,energy-scenario=0,h2=True,offwind=True,biogas-limit=0/config.json already exists\n",
      "22 out of 144: ('14', 2030, 0.925, 0, True, True, 0)\n",
      "/home/viktor/code/pypsa-vgr/api/geography=14,target-year=2030,self-sufficiency=0.925,energy-scenario=0,h2=True,offwind=True,biogas-limit=0.5/config.json already exists\n",
      "23 out of 144: ('14', 2030, 0.925, 0, True, True, 0.5)\n",
      "/home/viktor/code/pypsa-vgr/api/geography=14,target-year=2030,self-sufficiency=0.925,energy-scenario=0,h2=True,offwind=True,biogas-limit=1/config.json already exists\n",
      "24 out of 144: ('14', 2030, 0.925, 0, True, True, 1)\n",
      "/home/viktor/code/pypsa-vgr/api/geography=14,target-year=2030,self-sufficiency=0.925,energy-scenario=0.2,h2=True,offwind=True,biogas-limit=0/config.json already exists\n",
      "25 out of 144: ('14', 2030, 0.925, 0.2, True, True, 0)\n",
      "/home/viktor/code/pypsa-vgr/api/geography=14,target-year=2030,self-sufficiency=0.925,energy-scenario=0.2,h2=True,offwind=True,biogas-limit=0.5/config.json already exists\n",
      "26 out of 144: ('14', 2030, 0.925, 0.2, True, True, 0.5)\n",
      "/home/viktor/code/pypsa-vgr/api/geography=14,target-year=2030,self-sufficiency=0.925,energy-scenario=0.2,h2=True,offwind=True,biogas-limit=1/config.json already exists\n",
      "27 out of 144: ('14', 2030, 0.925, 0.2, True, True, 1)\n",
      "/home/viktor/code/pypsa-vgr/api/geography=14,target-year=2030,self-sufficiency=1,energy-scenario=-0.2,h2=True,offwind=True,biogas-limit=0/config.json already exists\n",
      "28 out of 144: ('14', 2030, 1, -0.2, True, True, 0)\n",
      "/home/viktor/code/pypsa-vgr/api/geography=14,target-year=2030,self-sufficiency=1,energy-scenario=-0.2,h2=True,offwind=True,biogas-limit=0.5/config.json already exists\n",
      "29 out of 144: ('14', 2030, 1, -0.2, True, True, 0.5)\n",
      "/home/viktor/code/pypsa-vgr/api/geography=14,target-year=2030,self-sufficiency=1,energy-scenario=-0.2,h2=True,offwind=True,biogas-limit=1/config.json already exists\n",
      "30 out of 144: ('14', 2030, 1, -0.2, True, True, 1)\n",
      "/home/viktor/code/pypsa-vgr/api/geography=14,target-year=2030,self-sufficiency=1,energy-scenario=0,h2=True,offwind=True,biogas-limit=0/config.json already exists\n",
      "31 out of 144: ('14', 2030, 1, 0, True, True, 0)\n",
      "/home/viktor/code/pypsa-vgr/api/geography=14,target-year=2030,self-sufficiency=1,energy-scenario=0,h2=True,offwind=True,biogas-limit=0.5/config.json already exists\n",
      "32 out of 144: ('14', 2030, 1, 0, True, True, 0.5)\n",
      "/home/viktor/code/pypsa-vgr/api/geography=14,target-year=2030,self-sufficiency=1,energy-scenario=0,h2=True,offwind=True,biogas-limit=1/config.json already exists\n",
      "33 out of 144: ('14', 2030, 1, 0, True, True, 1)\n",
      "/home/viktor/code/pypsa-vgr/api/geography=14,target-year=2030,self-sufficiency=1,energy-scenario=0.2,h2=True,offwind=True,biogas-limit=0/config.json already exists\n",
      "34 out of 144: ('14', 2030, 1, 0.2, True, True, 0)\n",
      "/home/viktor/code/pypsa-vgr/api/geography=14,target-year=2030,self-sufficiency=1,energy-scenario=0.2,h2=True,offwind=True,biogas-limit=0.5/config.json already exists\n",
      "35 out of 144: ('14', 2030, 1, 0.2, True, True, 0.5)\n",
      "/home/viktor/code/pypsa-vgr/api/geography=14,target-year=2030,self-sufficiency=1,energy-scenario=0.2,h2=True,offwind=True,biogas-limit=1/config.json already exists\n",
      "36 out of 144: ('14', 2030, 1, 0.2, True, True, 1)\n",
      "/home/viktor/code/pypsa-vgr/api/geography=1496,target-year=2030,self-sufficiency=0.5,energy-scenario=-0.2,h2=True,offwind=True,biogas-limit=0/config.json already exists\n",
      "37 out of 144: ('1496', 2030, 0.5, -0.2, True, True, 0)\n",
      "/home/viktor/code/pypsa-vgr/api/geography=1496,target-year=2030,self-sufficiency=0.5,energy-scenario=-0.2,h2=True,offwind=True,biogas-limit=0.5/config.json already exists\n",
      "38 out of 144: ('1496', 2030, 0.5, -0.2, True, True, 0.5)\n",
      "/home/viktor/code/pypsa-vgr/api/geography=1496,target-year=2030,self-sufficiency=0.5,energy-scenario=-0.2,h2=True,offwind=True,biogas-limit=1/config.json already exists\n",
      "39 out of 144: ('1496', 2030, 0.5, -0.2, True, True, 1)\n",
      "/home/viktor/code/pypsa-vgr/api/geography=1496,target-year=2030,self-sufficiency=0.5,energy-scenario=0,h2=True,offwind=True,biogas-limit=0/config.json already exists\n",
      "40 out of 144: ('1496', 2030, 0.5, 0, True, True, 0)\n",
      "/home/viktor/code/pypsa-vgr/api/geography=1496,target-year=2030,self-sufficiency=0.5,energy-scenario=0,h2=True,offwind=True,biogas-limit=0.5/config.json already exists\n",
      "41 out of 144: ('1496', 2030, 0.5, 0, True, True, 0.5)\n",
      "/home/viktor/code/pypsa-vgr/api/geography=1496,target-year=2030,self-sufficiency=0.5,energy-scenario=0,h2=True,offwind=True,biogas-limit=1/config.json already exists\n",
      "42 out of 144: ('1496', 2030, 0.5, 0, True, True, 1)\n",
      "/home/viktor/code/pypsa-vgr/api/geography=1496,target-year=2030,self-sufficiency=0.5,energy-scenario=0.2,h2=True,offwind=True,biogas-limit=0/config.json already exists\n",
      "43 out of 144: ('1496', 2030, 0.5, 0.2, True, True, 0)\n",
      "/home/viktor/code/pypsa-vgr/api/geography=1496,target-year=2030,self-sufficiency=0.5,energy-scenario=0.2,h2=True,offwind=True,biogas-limit=0.5/config.json already exists\n",
      "44 out of 144: ('1496', 2030, 0.5, 0.2, True, True, 0.5)\n",
      "/home/viktor/code/pypsa-vgr/api/geography=1496,target-year=2030,self-sufficiency=0.5,energy-scenario=0.2,h2=True,offwind=True,biogas-limit=1/config.json already exists\n",
      "45 out of 144: ('1496', 2030, 0.5, 0.2, True, True, 1)\n",
      "/home/viktor/code/pypsa-vgr/api/geography=1496,target-year=2030,self-sufficiency=0.8,energy-scenario=-0.2,h2=True,offwind=True,biogas-limit=0/config.json already exists\n",
      "46 out of 144: ('1496', 2030, 0.8, -0.2, True, True, 0)\n",
      "/home/viktor/code/pypsa-vgr/api/geography=1496,target-year=2030,self-sufficiency=0.8,energy-scenario=-0.2,h2=True,offwind=True,biogas-limit=0.5/config.json already exists\n",
      "47 out of 144: ('1496', 2030, 0.8, -0.2, True, True, 0.5)\n",
      "/home/viktor/code/pypsa-vgr/api/geography=1496,target-year=2030,self-sufficiency=0.8,energy-scenario=-0.2,h2=True,offwind=True,biogas-limit=1/config.json already exists\n",
      "48 out of 144: ('1496', 2030, 0.8, -0.2, True, True, 1)\n",
      "/home/viktor/code/pypsa-vgr/api/geography=1496,target-year=2030,self-sufficiency=0.8,energy-scenario=0,h2=True,offwind=True,biogas-limit=0/config.json already exists\n",
      "49 out of 144: ('1496', 2030, 0.8, 0, True, True, 0)\n",
      "/home/viktor/code/pypsa-vgr/api/geography=1496,target-year=2030,self-sufficiency=0.8,energy-scenario=0,h2=True,offwind=True,biogas-limit=0.5/config.json already exists\n",
      "50 out of 144: ('1496', 2030, 0.8, 0, True, True, 0.5)\n",
      "/home/viktor/code/pypsa-vgr/api/geography=1496,target-year=2030,self-sufficiency=0.8,energy-scenario=0,h2=True,offwind=True,biogas-limit=1/config.json already exists\n",
      "51 out of 144: ('1496', 2030, 0.8, 0, True, True, 1)\n",
      "/home/viktor/code/pypsa-vgr/api/geography=1496,target-year=2030,self-sufficiency=0.8,energy-scenario=0.2,h2=True,offwind=True,biogas-limit=0/config.json already exists\n",
      "52 out of 144: ('1496', 2030, 0.8, 0.2, True, True, 0)\n",
      "/home/viktor/code/pypsa-vgr/api/geography=1496,target-year=2030,self-sufficiency=0.8,energy-scenario=0.2,h2=True,offwind=True,biogas-limit=0.5/config.json already exists\n",
      "53 out of 144: ('1496', 2030, 0.8, 0.2, True, True, 0.5)\n",
      "/home/viktor/code/pypsa-vgr/api/geography=1496,target-year=2030,self-sufficiency=0.8,energy-scenario=0.2,h2=True,offwind=True,biogas-limit=1/config.json already exists\n",
      "54 out of 144: ('1496', 2030, 0.8, 0.2, True, True, 1)\n",
      "Check the get_geo(config) function\n",
      "Create and store parameters\n",
      "Check weather files\n",
      "Check renewables data\n",
      "Renewables files do not exist for geography 1496. Please see /input/renewables/generate-renewables.ipynb\n",
      "Create and store demand\n",
      "Create and store network\n",
      "Using config:\n",
      "\tself-sufficiency:0.925\n",
      "\th2:True\n",
      "\toffwind:True\n",
      "\tbiogas:0\n"
     ]
    },
    {
     "name": "stderr",
     "output_type": "stream",
     "text": [
      "INFO:pypsa.io:Exported network network.nc has buses, links, loads, stores, generators, carriers\n"
     ]
    },
    {
     "name": "stdout",
     "output_type": "stream",
     "text": [
      "Run optimization\n"
     ]
    },
    {
     "name": "stderr",
     "output_type": "stream",
     "text": [
      "INFO:pypsa.io:Imported network network.nc has buses, carriers, generators, links, loads, stores\n",
      "INFO:linopy.model: Solve problem using Highs solver\n",
      "INFO:linopy.io:Writing objective.\n",
      "Writing constraints.: 100%|\u001b[38;2;128;191;255m██████████\u001b[0m| 18/18 [00:00<00:00, 27.61it/s]\n",
      "Writing continuous variables.: 100%|\u001b[38;2;128;191;255m██████████\u001b[0m| 9/9 [00:00<00:00, 83.35it/s]\n",
      "Writing integer variables.: 100%|\u001b[38;2;128;191;255m██████████\u001b[0m| 2/2 [00:00<00:00, 505.40it/s]\n",
      "INFO:linopy.io: Writing time: 0.82s\n",
      "INFO:linopy.solvers:Log file at /tmp/highs.log\n"
     ]
    },
    {
     "name": "stdout",
     "output_type": "stream",
     "text": [
      "Running HiGHS 1.7.2 (git hash: 184e327): Copyright (c) 2024 HiGHS under MIT licence terms\n"
     ]
    },
    {
     "name": "stderr",
     "output_type": "stream",
     "text": [
      "INFO:linopy.constants: Optimization successful: \n",
      "Status: ok\n",
      "Termination condition: optimal\n",
      "Solution: 43818 primals, 96380 duals\n",
      "Objective: 3.46e+08\n",
      "Solver model: available\n",
      "Solver message: optimal\n",
      "\n",
      "INFO:pypsa.optimization.optimize:The shadow-prices of the constraints Generator-ext-p-lower, Generator-ext-p-upper, Link-ext-p-lower, Link-ext-p-upper, Store-ext-e-lower, Store-ext-e-upper, Store-energy_balance, self_sufficiency_constraint were not assigned to the network.\n"
     ]
    },
    {
     "name": "stdout",
     "output_type": "stream",
     "text": [
      "Coefficient ranges:\n",
      "  Matrix [9e-08, 1e+02]\n",
      "  Cost   [6e+01, 2e+06]\n",
      "  Bound  [0e+00, 0e+00]\n",
      "  RHS    [3e+01, 1e+04]\n",
      "Presolving model\n",
      "44600 rows, 38767 cols, 122165 nonzeros  0s\n",
      "37979 rows, 32146 cols, 113059 nonzeros  0s\n",
      "37238 rows, 31405 cols, 115525 nonzeros  0s\n",
      "\n",
      "Solving MIP model with:\n",
      "   37238 rows\n",
      "   31405 cols (0 binary, 5 integer, 0 implied int., 31400 continuous)\n",
      "   115525 nonzeros\n",
      "\n",
      "        Nodes      |    B&B Tree     |            Objective Bounds              |  Dynamic Constraints |       Work      \n",
      "     Proc. InQueue |  Leaves   Expl. | BestBound       BestSol              Gap |   Cuts   InLp Confl. | LpIters     Time\n",
      "\n",
      "         0       0         0   0.00%   -inf            inf                  inf        0      0      0         0     0.3s\n",
      " S       0       0         0   0.00%   -inf            348105615.4051     Large        0      0      0         0    38.4s\n",
      " R       0       0         0   0.00%   346007884.0062  346084188.8579     0.02%        0      0      0     54073    40.9s\n",
      "\n",
      "60.0% inactive integer columns, restarting\n",
      "Model after restart has 21032 rows, 18115 cols (0 bin., 2 int., 0 impl., 18113 cont.), and 71037 nonzeros\n",
      "\n",
      "         0       0         0   0.00%   346007884.0062  346084188.8579     0.02%        0      0      0     54073    41.0s\n",
      "         0       0         0   0.00%   346007884.0062  346084188.8579     0.02%        0      0      0     54612    42.6s\n",
      " C       0       0         0   0.00%   346008301.7908  346084188.8579     0.02%       18      7      0     54621    49.0s\n",
      " H       0       0         0   0.00%   346008660.6091  346084188.8579     0.02%       18     11      0     54626    54.1s\n",
      "         0       0         0   0.00%   346008660.6091  346084188.8579     0.02%       18     11      0     55473    61.7s\n",
      "\n",
      "Solving report\n",
      "  Status            Optimal\n",
      "  Primal bound      346084188.858\n",
      "  Dual bound        346082215.571\n",
      "  Gap               0.00057% (tolerance: 0.01%)\n",
      "  Solution status   feasible\n",
      "                    346084188.858 (objective)\n",
      "                    0 (bound viol.)\n",
      "                    0 (int. viol.)\n",
      "                    0 (row viol.)\n",
      "  Timing            66.69 (total)\n",
      "                    0.35 (presolve)\n",
      "                    0.00 (postsolve)\n",
      "  Nodes             1\n",
      "  LP iterations     56347 (total)\n",
      "                    211 (strong br.)\n",
      "                    14 (separation)\n",
      "                    1459 (heuristics)\n",
      "Writing the solution to /tmp/linopy-solve-2184ydm0.sol\n"
     ]
    },
    {
     "name": "stderr",
     "output_type": "stream",
     "text": [
      "INFO:pypsa.io:Exported network network.nc has buses, links, loads, stores, generators, carriers\n",
      "INFO:pypsa.io:Imported network network.nc has buses, carriers, generators, links, loads, stores\n"
     ]
    },
    {
     "name": "stdout",
     "output_type": "stream",
     "text": [
      "55 out of 144: ('1496', 2030, 0.925, -0.2, True, True, 0)\n",
      "Check the get_geo(config) function\n",
      "Create and store parameters\n",
      "Check weather files\n",
      "Check renewables data\n",
      "Renewables files do not exist for geography 1496. Please see /input/renewables/generate-renewables.ipynb\n",
      "Create and store demand\n",
      "Create and store network\n",
      "Using config:\n",
      "\tself-sufficiency:0.925\n",
      "\th2:True\n",
      "\toffwind:True\n",
      "\tbiogas:0.5\n"
     ]
    },
    {
     "name": "stderr",
     "output_type": "stream",
     "text": [
      "INFO:pypsa.io:Exported network network.nc has buses, links, loads, stores, generators, carriers\n"
     ]
    },
    {
     "name": "stdout",
     "output_type": "stream",
     "text": [
      "Run optimization\n"
     ]
    },
    {
     "name": "stderr",
     "output_type": "stream",
     "text": [
      "INFO:pypsa.io:Imported network network.nc has buses, carriers, generators, links, loads, stores\n",
      "INFO:linopy.model: Solve problem using Highs solver\n",
      "INFO:linopy.io:Writing objective.\n",
      "Writing constraints.: 100%|\u001b[38;2;128;191;255m██████████\u001b[0m| 18/18 [00:00<00:00, 26.22it/s]\n",
      "Writing continuous variables.: 100%|\u001b[38;2;128;191;255m██████████\u001b[0m| 9/9 [00:00<00:00, 69.34it/s]\n",
      "Writing integer variables.: 100%|\u001b[38;2;128;191;255m██████████\u001b[0m| 2/2 [00:00<00:00, 474.63it/s]\n",
      "INFO:linopy.io: Writing time: 0.88s\n",
      "INFO:linopy.solvers:Log file at /tmp/highs.log\n"
     ]
    },
    {
     "name": "stdout",
     "output_type": "stream",
     "text": [
      "Running HiGHS 1.7.2 (git hash: 184e327): Copyright (c) 2024 HiGHS under MIT licence terms\n"
     ]
    },
    {
     "name": "stderr",
     "output_type": "stream",
     "text": [
      "INFO:linopy.constants: Optimization successful: \n",
      "Status: ok\n",
      "Termination condition: optimal\n",
      "Solution: 46739 primals, 102222 duals\n",
      "Objective: 2.85e+08\n",
      "Solver model: available\n",
      "Solver message: optimal\n",
      "\n"
     ]
    },
    {
     "name": "stdout",
     "output_type": "stream",
     "text": [
      "Coefficient ranges:\n",
      "  Matrix [9e-08, 1e+02]\n",
      "  Cost   [6e+01, 2e+06]\n",
      "  Bound  [0e+00, 0e+00]\n",
      "  RHS    [3e+01, 1e+04]\n",
      "Presolving model\n",
      "47520 rows, 44607 cols, 130925 nonzeros  0s\n",
      "37991 rows, 35078 cols, 118845 nonzeros  0s\n",
      "37248 rows, 34335 cols, 121257 nonzeros  0s\n",
      "\n",
      "Solving MIP model with:\n",
      "   37248 rows\n",
      "   34335 cols (0 binary, 5 integer, 0 implied int., 34330 continuous)\n",
      "   121257 nonzeros\n",
      "\n",
      "        Nodes      |    B&B Tree     |            Objective Bounds              |  Dynamic Constraints |       Work      \n",
      "     Proc. InQueue |  Leaves   Expl. | BestBound       BestSol              Gap |   Cuts   InLp Confl. | LpIters     Time\n",
      "\n",
      "         0       0         0   0.00%   -inf            inf                  inf        0      0      0         0     0.3s\n",
      " S       0       0         0   0.00%   -inf            289111059.4038     Large        0      0      0         0    64.1s\n",
      " R       0       0         0   0.00%   284718156.6981  285106659.703      0.14%        0      0      0     77438    68.4s\n",
      "\n",
      "40.0% inactive integer columns, restarting\n",
      "Model after restart has 27320 rows, 24405 cols (0 bin., 3 int., 0 impl., 24402 cont.), and 101587 nonzeros\n",
      "\n",
      "         0       0         0   0.00%   284718156.6981  285106659.703      0.14%        0      0      0     77438    68.6s\n",
      " R       0       0         0   0.00%   284718156.6981  284777321.0563     0.02%        0      0      0     78027    75.1s\n",
      "         0       0         0   0.00%   284718221.7189  284777321.0563     0.02%       27      4      0     78030    81.8s\n",
      "         0       0         0   0.00%   284718253.9795  284777321.0563     0.02%       27      6      0     78032    88.1s\n",
      "         0       0         0   0.00%   284718283.9549  284777321.0563     0.02%       27      7      0     78033    93.6s\n",
      "         0       0         0   0.00%   284718333.7888  284777321.0563     0.02%       33      9      0     78035    99.9s\n",
      "         0       0         0   0.00%   284718341.8989  284777321.0563     0.02%       33     11      0     78038   106.5s\n",
      "         0       0         0   0.00%   284718342.399   284777321.0563     0.02%       33     17      0     78044   113.0s\n",
      " H       0       0         0   0.00%   284718342.399   284764063.6218     0.02%       33     17      0     78044   118.7s\n",
      " H       0       0         0   0.00%   284718342.399   284750716.8275     0.01%       33     17      0     78044   145.4s\n",
      "         0       0         0   0.00%   284718342.399   284750716.8275     0.01%       33     14      0     83768   156.9s\n",
      "         1       0         0 100.00%   284740059.508   284750716.8275     0.00%       33     14      0    101417   213.0s\n",
      "\n",
      "Solving report\n",
      "  Status            Optimal\n",
      "  Primal bound      284750716.827\n",
      "  Dual bound        284740059.508\n",
      "  Gap               0.00374% (tolerance: 0.01%)\n",
      "  Solution status   feasible\n",
      "                    284750716.827 (objective)\n",
      "                    0 (bound viol.)\n",
      "                    0 (int. viol.)\n",
      "                    0 (row viol.)\n",
      "  Timing            212.95 (total)\n",
      "                    0.45 (presolve)\n",
      "                    0.00 (postsolve)\n",
      "  Nodes             1\n",
      "  LP iterations     101417 (total)\n",
      "                    911 (strong br.)\n",
      "                    17 (separation)\n",
      "                    22225 (heuristics)\n",
      "Writing the solution to /tmp/linopy-solve-wdz_5qfc.sol\n"
     ]
    },
    {
     "name": "stderr",
     "output_type": "stream",
     "text": [
      "INFO:pypsa.optimization.optimize:The shadow-prices of the constraints Generator-ext-p-lower, Generator-ext-p-upper, Link-ext-p-lower, Link-ext-p-upper, Store-ext-e-lower, Store-ext-e-upper, Store-energy_balance, self_sufficiency_constraint were not assigned to the network.\n",
      "INFO:pypsa.io:Exported network network.nc has buses, links, loads, stores, generators, carriers\n",
      "INFO:pypsa.io:Imported network network.nc has buses, carriers, generators, links, loads, stores\n"
     ]
    },
    {
     "name": "stdout",
     "output_type": "stream",
     "text": [
      "56 out of 144: ('1496', 2030, 0.925, -0.2, True, True, 0.5)\n",
      "Check the get_geo(config) function\n",
      "Create and store parameters\n",
      "Check weather files\n",
      "Check renewables data\n",
      "Renewables files do not exist for geography 1496. Please see /input/renewables/generate-renewables.ipynb\n",
      "Create and store demand\n",
      "Create and store network\n",
      "Using config:\n",
      "\tself-sufficiency:0.925\n",
      "\th2:True\n",
      "\toffwind:True\n",
      "\tbiogas:1\n"
     ]
    },
    {
     "name": "stderr",
     "output_type": "stream",
     "text": [
      "INFO:pypsa.io:Exported network network.nc has buses, links, loads, stores, generators, carriers\n"
     ]
    },
    {
     "name": "stdout",
     "output_type": "stream",
     "text": [
      "Run optimization\n"
     ]
    },
    {
     "name": "stderr",
     "output_type": "stream",
     "text": [
      "INFO:pypsa.io:Imported network network.nc has buses, carriers, generators, links, loads, stores\n",
      "INFO:linopy.model: Solve problem using Highs solver\n",
      "INFO:linopy.io:Writing objective.\n",
      "Writing constraints.: 100%|\u001b[38;2;128;191;255m██████████\u001b[0m| 18/18 [00:00<00:00, 28.65it/s]\n",
      "Writing continuous variables.: 100%|\u001b[38;2;128;191;255m██████████\u001b[0m| 9/9 [00:00<00:00, 78.38it/s]\n",
      "Writing integer variables.: 100%|\u001b[38;2;128;191;255m██████████\u001b[0m| 2/2 [00:00<00:00, 426.40it/s]\n",
      "INFO:linopy.io: Writing time: 0.8s\n",
      "INFO:linopy.solvers:Log file at /tmp/highs.log\n"
     ]
    },
    {
     "name": "stdout",
     "output_type": "stream",
     "text": [
      "Running HiGHS 1.7.2 (git hash: 184e327): Copyright (c) 2024 HiGHS under MIT licence terms\n",
      "Coefficient ranges:\n",
      "  Matrix [9e-08, 1e+02]\n",
      "  Cost   [6e+01, 2e+06]\n",
      "  Bound  [0e+00, 0e+00]\n",
      "  RHS    [3e+01, 1e+04]\n",
      "Presolving model\n",
      "47520 rows, 44607 cols, 130925 nonzeros  0s\n",
      "37991 rows, 35078 cols, 118845 nonzeros  0s\n",
      "37248 rows, 34335 cols, 121257 nonzeros  0s\n",
      "\n",
      "Solving MIP model with:\n",
      "   37248 rows\n",
      "   34335 cols (0 binary, 5 integer, 0 implied int., 34330 continuous)\n",
      "   121257 nonzeros\n",
      "\n",
      "        Nodes      |    B&B Tree     |            Objective Bounds              |  Dynamic Constraints |       Work      \n",
      "     Proc. InQueue |  Leaves   Expl. | BestBound       BestSol              Gap |   Cuts   InLp Confl. | LpIters     Time\n",
      "\n",
      "         0       0         0   0.00%   -inf            inf                  inf        0      0      0         0     0.3s\n",
      " S       0       0         0   0.00%   -inf            289111059.4038     Large        0      0      0         0    64.4s\n",
      " R       0       0         0   0.00%   284718156.6981  285106659.703      0.14%        0      0      0     73579    68.1s\n",
      "\n",
      "20.0% inactive integer columns, restarting\n",
      "Model after restart has 32599 rows, 29685 cols (0 bin., 4 int., 0 i"
     ]
    },
    {
     "name": "stderr",
     "output_type": "stream",
     "text": [
      "INFO:linopy.constants: Optimization successful: \n",
      "Status: ok\n",
      "Termination condition: optimal\n",
      "Solution: 46739 primals, 102222 duals\n",
      "Objective: 2.85e+08\n",
      "Solver model: available\n",
      "Solver message: optimal\n",
      "\n"
     ]
    },
    {
     "name": "stdout",
     "output_type": "stream",
     "text": [
      "mpl., 29681 cont.), and 111701 nonzeros\n",
      "\n",
      "         0       0         0   0.00%   284718156.6981  285106659.703      0.14%        0      0      0     73579    68.4s\n",
      " R       0       0         0   0.00%   284718156.6981  284777321.0563     0.02%        0      0      0     73580    74.5s\n",
      "\n",
      "25.0% inactive integer columns, restarting\n",
      "Model after restart has 27400 rows, 24485 cols (0 bin., 3 int., 0 impl., 24482 cont.), and 100951 nonzeros\n",
      "\n",
      "         0       0         0   0.00%   284718156.6981  284777321.0563     0.02%        0      0      0     73580    74.7s\n",
      "         0       0         0   0.00%   284718156.6981  284777321.0563     0.02%        0      0      0     74079    80.4s\n",
      "         0       0         0   0.00%   284718221.7189  284777321.0563     0.02%       27      4      0     74082    85.8s\n",
      "         0       0         0   0.00%   284718253.9795  284777321.0563     0.02%       27      6      0     74084    91.2s\n",
      " C       0       0         0   0.00%   284718283.9549  284777321.0563     0.02%       27      7      0     74085    96.3s\n",
      "         0       0         0   0.00%   284718333.7888  284777321.0563     0.02%       33      9      0     74087   101.7s\n",
      "         0       0         0   0.00%   284718341.8989  284777321.0563     0.02%       33     11      0     74090   107.5s\n",
      "         0       0         0   0.00%   284718342.399   284777321.0563     0.02%       33     17      0     74095   112.8s\n",
      " H       0       0         0   0.00%   284718342.399   284764063.6218     0.02%       33     17      0     74095   117.6s\n",
      " H       0       0         0   0.00%   284718342.399   284750716.8275     0.01%       33     17      0     74095   146.0s\n",
      "         0       0         0   0.00%   284718342.399   284750716.8275     0.01%       33     14      0     82467   156.0s\n",
      "         1       0         0 100.00%   284740059.508   284750716.8275     0.00%       33     14      0    100729   203.4s\n",
      "\n",
      "Solving report\n",
      "  Status            Optimal\n",
      "  Primal bound      284750716.827\n",
      "  Dual bound        284740059.508\n",
      "  Gap               0.00374% (tolerance: 0.01%)\n",
      "  Solution status   feasible\n",
      "                    284750716.827 (objective)\n",
      "                    0 (bound viol.)\n",
      "                    0 (int. viol.)\n",
      "                    0 (row viol.)\n",
      "  Timing            203.41 (total)\n",
      "                    0.62 (presolve)\n",
      "                    0.00 (postsolve)\n",
      "  Nodes             1\n",
      "  LP iterations     100729 (total)\n",
      "                    892 (strong br.)\n",
      "                    16 (separation)\n",
      "                    25504 (heuristics)\n",
      "Writing the solution to /tmp/linopy-solve-m719fvtd.sol\n"
     ]
    },
    {
     "name": "stderr",
     "output_type": "stream",
     "text": [
      "INFO:pypsa.optimization.optimize:The shadow-prices of the constraints Generator-ext-p-lower, Generator-ext-p-upper, Link-ext-p-lower, Link-ext-p-upper, Store-ext-e-lower, Store-ext-e-upper, Store-energy_balance, self_sufficiency_constraint were not assigned to the network.\n",
      "INFO:pypsa.io:Exported network network.nc has buses, links, loads, stores, generators, carriers\n",
      "INFO:pypsa.io:Imported network network.nc has buses, carriers, generators, links, loads, stores\n"
     ]
    },
    {
     "name": "stdout",
     "output_type": "stream",
     "text": [
      "57 out of 144: ('1496', 2030, 0.925, -0.2, True, True, 1)\n",
      "Check the get_geo(config) function\n",
      "Create and store parameters\n",
      "Check weather files\n",
      "Check renewables data\n",
      "Renewables files do not exist for geography 1496. Please see /input/renewables/generate-renewables.ipynb\n",
      "Create and store demand\n",
      "Create and store network\n",
      "Using config:\n",
      "\tself-sufficiency:0.925\n",
      "\th2:True\n",
      "\toffwind:True\n",
      "\tbiogas:0\n"
     ]
    },
    {
     "name": "stderr",
     "output_type": "stream",
     "text": [
      "INFO:pypsa.io:Exported network network.nc has buses, links, loads, stores, generators, carriers\n"
     ]
    },
    {
     "name": "stdout",
     "output_type": "stream",
     "text": [
      "Run optimization\n"
     ]
    },
    {
     "name": "stderr",
     "output_type": "stream",
     "text": [
      "INFO:pypsa.io:Imported network network.nc has buses, carriers, generators, links, loads, stores\n",
      "INFO:linopy.model: Solve problem using Highs solver\n",
      "INFO:linopy.io:Writing objective.\n",
      "Writing constraints.: 100%|\u001b[38;2;128;191;255m██████████\u001b[0m| 18/18 [00:00<00:00, 22.61it/s]\n",
      "Writing continuous variables.: 100%|\u001b[38;2;128;191;255m██████████\u001b[0m| 9/9 [00:00<00:00, 51.09it/s]\n",
      "Writing integer variables.: 100%|\u001b[38;2;128;191;255m██████████\u001b[0m| 2/2 [00:00<00:00, 327.27it/s]\n",
      "INFO:linopy.io: Writing time: 1.03s\n",
      "INFO:linopy.solvers:Log file at /tmp/highs.log\n"
     ]
    },
    {
     "name": "stdout",
     "output_type": "stream",
     "text": [
      "Running HiGHS 1.7.2 (git hash: 184e327): Copyright (c) 2024 HiGHS under MIT licence terms\n",
      "Coefficient ranges:\n",
      "  Matrix [9e-08, 1e+02]\n",
      "  Cost   [6e+01, 2e+06]\n",
      "  Bound  [0e+00, 0e+00]\n",
      "  RHS    [3e+01, 1e+04]\n",
      "Presolving model\n",
      "44600 rows, 38767 cols, 122165 nonzeros  0s\n",
      "37979 rows, 32146 cols, 113059 nonzeros  0s\n",
      "37238 rows, 31405 cols, 115525 nonzeros  0s\n",
      "\n",
      "Solving MIP model with:\n",
      "   37238 rows\n",
      "   31405 cols (0 binary, 5 integer, 0 implied int., 31400 continuous)\n",
      "   115525 nonzeros\n",
      "\n",
      "        Nodes      |    B&B Tree     |            Objective Bounds              |  Dynamic Constraints |       Work      \n",
      "     Proc. InQueue |  Leaves   Expl. | BestBound       BestSol              Gap |   Cuts   InLp Confl. | LpIters     Time\n",
      "\n",
      "         0       0         0   0.00%   -inf            inf                  inf        0      0      0         0     0.4s\n",
      " S       0       0         0   0.00%   -inf            433059098.0821     Large        0      0      0         0    32.4s\n",
      " R       0       0         0   0.00%   432509855.0067  432517438.99       0.00%        0      0      0     50809    34.7s\n",
      "\n",
      "Solving report\n",
      "  Status            Optimal\n",
      "  Primal bound      432517438.99\n",
      "  Dual bound        432509855.007\n",
      "  Gap               0.00175% (tolerance: 0.01%)\n",
      "  Solution status   feasible\n",
      "                    432517438.99 (objective)\n",
      "                    0 (bound viol.)\n",
      "                    0 (int. viol.)\n",
      "                    0 (row viol.)\n",
      "  Timing            34.77 (total)\n",
      "                    0.32 (presolve)\n",
      "                    0.00 (postsolve)\n",
      "  Nodes             1\n",
      "  LP iterations     50809 (total)\n",
      "                    0 (strong br.)\n",
      "                    0 (separation)\n",
      "                    0 (heuristics)\n",
      "Writing the solution to /tmp/linopy-solve-zn4ffo5i.sol\n"
     ]
    },
    {
     "name": "stderr",
     "output_type": "stream",
     "text": [
      "INFO:linopy.constants: Optimization successful: \n",
      "Status: ok\n",
      "Termination condition: optimal\n",
      "Solution: 43818 primals, 96380 duals\n",
      "Objective: 4.33e+08\n",
      "Solver model: available\n",
      "Solver message: optimal\n",
      "\n",
      "INFO:pypsa.optimization.optimize:The shadow-prices of the constraints Generator-ext-p-lower, Generator-ext-p-upper, Link-ext-p-lower, Link-ext-p-upper, Store-ext-e-lower, Store-ext-e-upper, Store-energy_balance, self_sufficiency_constraint were not assigned to the network.\n",
      "INFO:pypsa.io:Exported network network.nc has buses, links, loads, stores, generators, carriers\n",
      "INFO:pypsa.io:Imported network network.nc has buses, carriers, generators, links, loads, stores\n"
     ]
    },
    {
     "name": "stdout",
     "output_type": "stream",
     "text": [
      "58 out of 144: ('1496', 2030, 0.925, 0, True, True, 0)\n",
      "Check the get_geo(config) function\n",
      "Create and store parameters\n",
      "Check weather files\n",
      "Check renewables data\n",
      "Renewables files do not exist for geography 1496. Please see /input/renewables/generate-renewables.ipynb\n",
      "Create and store demand\n",
      "Create and store network\n",
      "Using config:\n",
      "\tself-sufficiency:0.925\n",
      "\th2:True\n",
      "\toffwind:True\n",
      "\tbiogas:0.5\n"
     ]
    },
    {
     "name": "stderr",
     "output_type": "stream",
     "text": [
      "INFO:pypsa.io:Exported network network.nc has buses, links, loads, stores, generators, carriers\n"
     ]
    },
    {
     "name": "stdout",
     "output_type": "stream",
     "text": [
      "Run optimization\n"
     ]
    },
    {
     "name": "stderr",
     "output_type": "stream",
     "text": [
      "INFO:pypsa.io:Imported network network.nc has buses, carriers, generators, links, loads, stores\n",
      "INFO:linopy.model: Solve problem using Highs solver\n",
      "INFO:linopy.io:Writing objective.\n",
      "Writing constraints.: 100%|\u001b[38;2;128;191;255m██████████\u001b[0m| 18/18 [00:00<00:00, 27.17it/s]\n",
      "Writing continuous variables.: 100%|\u001b[38;2;128;191;255m██████████\u001b[0m| 9/9 [00:00<00:00, 60.65it/s]\n",
      "Writing integer variables.: 100%|\u001b[38;2;128;191;255m██████████\u001b[0m| 2/2 [00:00<00:00, 430.76it/s]\n",
      "INFO:linopy.io: Writing time: 0.87s\n",
      "INFO:linopy.solvers:Log file at /tmp/highs.log\n"
     ]
    },
    {
     "name": "stdout",
     "output_type": "stream",
     "text": [
      "Running HiGHS 1.7.2 (git hash: 184e327): Copyright (c) 2024 HiGHS under MIT licence terms\n",
      "Coefficient ranges:\n"
     ]
    },
    {
     "name": "stderr",
     "output_type": "stream",
     "text": [
      "INFO:linopy.constants: Optimization successful: \n",
      "Status: ok\n",
      "Termination condition: optimal\n",
      "Solution: 46739 primals, 102222 duals\n",
      "Objective: 3.56e+08\n",
      "Solver model: available\n",
      "Solver message: optimal\n",
      "\n"
     ]
    },
    {
     "name": "stdout",
     "output_type": "stream",
     "text": [
      "  Matrix [9e-08, 1e+02]\n",
      "  Cost   [6e+01, 2e+06]\n",
      "  Bound  [0e+00, 0e+00]\n",
      "  RHS    [3e+01, 1e+04]\n",
      "Presolving model\n",
      "47520 rows, 44607 cols, 130925 nonzeros  0s\n",
      "37991 rows, 35078 cols, 118845 nonzeros  0s\n",
      "37248 rows, 34335 cols, 121257 nonzeros  0s\n",
      "\n",
      "Solving MIP model with:\n",
      "   37248 rows\n",
      "   34335 cols (0 binary, 5 integer, 0 implied int., 34330 continuous)\n",
      "   121257 nonzeros\n",
      "\n",
      "        Nodes      |    B&B Tree     |            Objective Bounds              |  Dynamic Constraints |       Work      \n",
      "     Proc. InQueue |  Leaves   Expl. | BestBound       BestSol              Gap |   Cuts   InLp Confl. | LpIters     Time\n",
      "\n",
      "         0       0         0   0.00%   -inf            inf                  inf        0      0      0         0     0.5s\n",
      " S       0       0         0   0.00%   -inf            359395005.3669     Large        0      0      0         0    54.0s\n",
      " R       0       0         0   0.00%   355897695.8723  356550240.9027     0.18%        0      0      0     70001    57.8s\n",
      "\n",
      "40.0% inactive integer columns, restarting\n",
      "Model after restart has 27320 rows, 24405 cols (0 bin., 3 int., 0 impl., 24402 cont.), and 101587 nonzeros\n",
      "\n",
      "         0       0         0   0.00%   355897695.8723  356550240.9027     0.18%        0      0      0     70001    58.0s\n",
      " R       0       0         0   0.00%   355897695.8723  356504370.9884     0.17%        0      0      0     70587    64.1s\n",
      "         0       0         0   0.00%   355897791.4997  356504370.9884     0.17%       14      2      0     70589    69.9s\n",
      "         0       0         0   0.00%   355897864.2743  356504370.9884     0.17%       14      4      0     70592    75.5s\n",
      "         0       0         0   0.00%   355897887.8752  356504370.9884     0.17%       14      5      0     70593    80.9s\n",
      "         0       0         0   0.00%   355897914.8975  356504370.9884     0.17%       16      7      0     70595    86.7s\n",
      "         0       0         0   0.00%   355897915.4874  356504370.9884     0.17%       16     10      0     70599    92.3s\n",
      " L       0       0         0   0.00%   355897915.4874  356218930.5654     0.09%       16     10      0     70599   113.0s\n",
      " T       0       0         0   0.00%   355897915.4874  356076659.7514     0.05%       16     10      0     88815   114.4s\n",
      "\n",
      "Solving report\n",
      "  Status            Optimal\n",
      "  Primal bound      356076659.751\n",
      "  Dual bound        356075125.62\n",
      "  Gap               0.000431% (tolerance: 0.01%)\n",
      "  Solution status   feasible\n",
      "                    356076659.751 (objective)\n",
      "                    0 (bound viol.)\n",
      "                    0 (int. viol.)\n",
      "                    0 (row viol.)\n",
      "  Timing            114.41 (total)\n",
      "                    0.67 (presolve)\n",
      "                    0.00 (postsolve)\n",
      "  Nodes             3\n",
      "  LP iterations     90008 (total)\n",
      "                    719 (strong br.)\n",
      "                    12 (separation)\n",
      "                    18216 (heuristics)\n",
      "Writing the solution to /tmp/linopy-solve-wchqetn8.sol\n"
     ]
    },
    {
     "name": "stderr",
     "output_type": "stream",
     "text": [
      "INFO:pypsa.optimization.optimize:The shadow-prices of the constraints Generator-ext-p-lower, Generator-ext-p-upper, Link-ext-p-lower, Link-ext-p-upper, Store-ext-e-lower, Store-ext-e-upper, Store-energy_balance, self_sufficiency_constraint were not assigned to the network.\n",
      "INFO:pypsa.io:Exported network network.nc has buses, links, loads, stores, generators, carriers\n",
      "INFO:pypsa.io:Imported network network.nc has buses, carriers, generators, links, loads, stores\n"
     ]
    },
    {
     "name": "stdout",
     "output_type": "stream",
     "text": [
      "59 out of 144: ('1496', 2030, 0.925, 0, True, True, 0.5)\n",
      "Check the get_geo(config) function\n",
      "Create and store parameters\n",
      "Check weather files\n",
      "Check renewables data\n",
      "Renewables files do not exist for geography 1496. Please see /input/renewables/generate-renewables.ipynb\n",
      "Create and store demand\n",
      "Create and store network\n",
      "Using config:\n",
      "\tself-sufficiency:0.925\n",
      "\th2:True\n",
      "\toffwind:True\n",
      "\tbiogas:1\n"
     ]
    },
    {
     "name": "stderr",
     "output_type": "stream",
     "text": [
      "INFO:pypsa.io:Exported network network.nc has buses, links, loads, stores, generators, carriers\n"
     ]
    },
    {
     "name": "stdout",
     "output_type": "stream",
     "text": [
      "Run optimization\n"
     ]
    },
    {
     "name": "stderr",
     "output_type": "stream",
     "text": [
      "INFO:pypsa.io:Imported network network.nc has buses, carriers, generators, links, loads, stores\n",
      "INFO:linopy.model: Solve problem using Highs solver\n",
      "INFO:linopy.io:Writing objective.\n",
      "Writing constraints.: 100%|\u001b[38;2;128;191;255m██████████\u001b[0m| 18/18 [00:00<00:00, 22.85it/s]\n",
      "Writing continuous variables.: 100%|\u001b[38;2;128;191;255m██████████\u001b[0m| 9/9 [00:00<00:00, 59.94it/s]\n",
      "Writing integer variables.: 100%|\u001b[38;2;128;191;255m██████████\u001b[0m| 2/2 [00:00<00:00, 403.03it/s]\n",
      "INFO:linopy.io: Writing time: 1.04s\n",
      "INFO:linopy.solvers:Log file at /tmp/highs.log\n"
     ]
    },
    {
     "name": "stdout",
     "output_type": "stream",
     "text": [
      "Running HiGHS 1.7.2 (git hash: 184e327): Copyright (c) 2024 HiGHS under MIT licence terms\n",
      "Coefficient ranges:\n",
      "  Matrix [9e-08, 1e+02]\n",
      "  Cost   [6e+01, 2e+06]\n",
      "  Bound  [0e+00, 0e+00]\n",
      "  RHS    [3e+01, 1e+04]\n",
      "Presolving model\n",
      "47520 rows, 44607 cols, 130925 nonzeros  0s\n",
      "37991 rows, 35078 cols, 118845 nonzeros  0s\n",
      "37248 rows, 34335 cols, 121257 nonzeros  0s\n",
      "\n",
      "Solving MIP model with:\n",
      "   37248 rows\n",
      "   34335 cols (0 binary, 5 integer, 0 implied int., 34330 continuous)\n",
      "   121257 nonzeros\n",
      "\n",
      "        Nodes      |    B&B Tree     |            Objective Bounds              |  Dynamic Constraints |       Work      \n",
      "     Proc. InQueue |  Leaves   Expl. | BestBound       BestSol              Gap |   Cuts   InLp Confl. | LpIters     Time\n",
      "\n",
      "         0       0         0   0.00%   -inf            inf                  inf        0      0      0         0     0.4s\n",
      " S       0       0         0   0.00%   -inf            359395005.3669     Large        0      0      0         0    58.9s\n",
      " R       0       0         0   0.00%   355897695.8723  356550240.9027     0.18%        0      0      0     77627    62.4s\n",
      "\n",
      "40.0% inactive integer columns, restarting\n",
      "Model after restart has 27320 rows, 24405 cols (0 bin., 3 int., 0 impl., 24402 cont.), and 101587 nonzeros\n",
      "\n",
      "         0       0         0   0.00%   355897695.8723  356550240.9027     0.18%        0      0      0     77627    62.6s\n",
      " R       0       0         0   0.00%   355897695.8723  356504370.9884     0.17%        0      0      0     78200    68.4s\n",
      "         0       0         0   0.00%   355897791.4997  356504370.9884     0.17%       14      2      0     78202    73.9s\n",
      "         0       0         0   0.00%   355897864.2743  356504370.9884     0.17%       14      4      0     78205    79.5s\n",
      "         0       0         0   0.00%   355897914.4411  356504370.9884     0.17%       16      6      0     78207    87.0s\n",
      "         0       0         0   0.00%   355897915.3562  356504370.9884     0.17%       16      9      0     78211    92.5s\n",
      " L       0       0         0   0.00%   355897915.4874  356218930.5654     0.09%       16     10      0     78212   116.6s\n",
      " T       0       0         0   0.00%   355897915.4874  356076659.7514     0.05%       16     10      0     98759   117.9s\n",
      "\n",
      "Solving report\n",
      "  Status            Optimal\n",
      "  Primal bound      356076659.751\n",
      "  Dual bound        356075125.62\n",
      "  Gap               0.000431% (tolerance: 0.01%)\n",
      "  Solution status   feasible\n",
      "                    356076659.751 (objective)\n",
      "                    0 (bound viol.)\n",
      "                    0 (int. viol.)\n",
      "                    0 (row viol.)\n",
      "  Timing            117.93 (total)\n",
      "                    0.52 (presolve)\n",
      "                    0.00 (postsolve)\n",
      "  Nodes             3\n",
      "  LP iterations     99954 (total)\n",
      "                    719 (strong br.)\n",
      "                    12 (separation)\n",
      "                    20547 (heuristics)\n"
     ]
    },
    {
     "name": "stderr",
     "output_type": "stream",
     "text": [
      "INFO:linopy.constants: Optimization successful: \n",
      "Status: ok\n",
      "Termination condition: optimal\n",
      "Solution: 46739 primals, 102222 duals\n",
      "Objective: 3.56e+08\n",
      "Solver model: available\n",
      "Solver message: optimal\n",
      "\n",
      "INFO:pypsa.optimization.optimize:The shadow-prices of the constraints Generator-ext-p-lower, Generator-ext-p-upper, Link-ext-p-lower, Link-ext-p-upper, Store-ext-e-lower, Store-ext-e-upper, Store-energy_balance, self_sufficiency_constraint were not assigned to the network.\n"
     ]
    },
    {
     "name": "stdout",
     "output_type": "stream",
     "text": [
      "Writing the solution to /tmp/linopy-solve-h_4a08zy.sol\n"
     ]
    },
    {
     "name": "stderr",
     "output_type": "stream",
     "text": [
      "INFO:pypsa.io:Exported network network.nc has buses, links, loads, stores, generators, carriers\n",
      "INFO:pypsa.io:Imported network network.nc has buses, carriers, generators, links, loads, stores\n"
     ]
    },
    {
     "name": "stdout",
     "output_type": "stream",
     "text": [
      "60 out of 144: ('1496', 2030, 0.925, 0, True, True, 1)\n",
      "Check the get_geo(config) function\n",
      "Create and store parameters\n",
      "Check weather files\n",
      "Check renewables data\n",
      "Renewables files do not exist for geography 1496. Please see /input/renewables/generate-renewables.ipynb\n",
      "Create and store demand\n",
      "Create and store network\n",
      "Using config:\n",
      "\tself-sufficiency:0.925\n",
      "\th2:True\n",
      "\toffwind:True\n",
      "\tbiogas:0\n"
     ]
    },
    {
     "name": "stderr",
     "output_type": "stream",
     "text": [
      "INFO:pypsa.io:Exported network network.nc has buses, links, loads, stores, generators, carriers\n"
     ]
    },
    {
     "name": "stdout",
     "output_type": "stream",
     "text": [
      "Run optimization\n"
     ]
    },
    {
     "name": "stderr",
     "output_type": "stream",
     "text": [
      "INFO:pypsa.io:Imported network network.nc has buses, carriers, generators, links, loads, stores\n",
      "INFO:linopy.model: Solve problem using Highs solver\n",
      "INFO:linopy.io:Writing objective.\n",
      "Writing constraints.: 100%|\u001b[38;2;128;191;255m██████████\u001b[0m| 18/18 [00:00<00:00, 35.63it/s]\n",
      "Writing continuous variables.: 100%|\u001b[38;2;128;191;255m██████████\u001b[0m| 9/9 [00:00<00:00, 112.79it/s]\n",
      "Writing integer variables.: 100%|\u001b[38;2;128;191;255m██████████\u001b[0m| 2/2 [00:00<00:00, 540.75it/s]\n",
      "INFO:linopy.io: Writing time: 0.63s\n",
      "INFO:linopy.solvers:Log file at /tmp/highs.log\n"
     ]
    },
    {
     "name": "stdout",
     "output_type": "stream",
     "text": [
      "Running HiGHS 1.7.2 (git hash: 184e327): Copyright (c) 2024 HiGHS under MIT licence terms\n"
     ]
    },
    {
     "name": "stderr",
     "output_type": "stream",
     "text": [
      "INFO:linopy.constants: Optimization successful: \n",
      "Status: ok\n",
      "Termination condition: optimal\n",
      "Solution: 43818 primals, 96380 duals\n",
      "Objective: 5.19e+08\n",
      "Solver model: available\n",
      "Solver message: optimal\n",
      "\n",
      "INFO:pypsa.optimization.optimize:The shadow-prices of the constraints Generator-ext-p-lower, Generator-ext-p-upper, Link-ext-p-lower, Link-ext-p-upper, Store-ext-e-lower, Store-ext-e-upper, Store-energy_balance, self_sufficiency_constraint were not assigned to the network.\n"
     ]
    },
    {
     "name": "stdout",
     "output_type": "stream",
     "text": [
      "Coefficient ranges:\n",
      "  Matrix [9e-08, 1e+02]\n",
      "  Cost   [6e+01, 2e+06]\n",
      "  Bound  [0e+00, 0e+00]\n",
      "  RHS    [4e+01, 2e+04]\n",
      "Presolving model\n",
      "44600 rows, 38767 cols, 122165 nonzeros  0s\n",
      "37979 rows, 32146 cols, 113059 nonzeros  0s\n",
      "37238 rows, 31405 cols, 115525 nonzeros  0s\n",
      "\n",
      "Solving MIP model with:\n",
      "   37238 rows\n",
      "   31405 cols (0 binary, 5 integer, 0 implied int., 31400 continuous)\n",
      "   115525 nonzeros\n",
      "\n",
      "        Nodes      |    B&B Tree     |            Objective Bounds              |  Dynamic Constraints |       Work      \n",
      "     Proc. InQueue |  Leaves   Expl. | BestBound       BestSol              Gap |   Cuts   InLp Confl. | LpIters     Time\n",
      "\n",
      "         0       0         0   0.00%   -inf            inf                  inf        0      0      0         0     0.3s\n",
      " S       0       0         0   0.00%   -inf            522020255.9009     Large        0      0      0         0    28.9s\n",
      " R       0       0         0   0.00%   519011826.0085  519130486.0575     0.02%        0      0      0     51140    31.3s\n",
      "\n",
      "40.0% inactive integer columns, restarting\n",
      "Model after restart has 27338 rows, 21503 cols (1 bin., 2 int., 0 impl., 21500 cont.), and 95575 nonzeros\n",
      "\n",
      "         0       0         0   0.00%   519011826.0085  519130486.0575     0.02%        0      0      0     51140    31.5s\n",
      "         0       0         0   0.00%   519011826.0085  519130486.0575     0.02%        0      0      0     59271    39.3s\n",
      "         0       0         0   0.00%   519012315.7826  519130486.0575     0.02%       14      5      0     59278    45.2s\n",
      " L       0       0         0   0.00%   519012449.8665  519045544.9645     0.01%       15      7      0     59281    71.8s\n",
      "\n",
      "Solving report\n",
      "  Status            Optimal\n",
      "  Primal bound      519045544.965\n",
      "  Dual bound        519012449.867\n",
      "  Gap               0.00638% (tolerance: 0.01%)\n",
      "  Solution status   feasible\n",
      "                    519045544.965 (objective)\n",
      "                    0 (bound viol.)\n",
      "                    0 (int. viol.)\n",
      "                    0 (row viol.)\n",
      "  Timing            71.88 (total)\n",
      "                    0.41 (presolve)\n",
      "                    0.00 (postsolve)\n",
      "  Nodes             1\n",
      "  LP iterations     60801 (total)\n",
      "                    0 (strong br.)\n",
      "                    10 (separation)\n",
      "                    1520 (heuristics)\n",
      "Writing the solution to /tmp/linopy-solve-q7_1yqw7.sol\n"
     ]
    },
    {
     "name": "stderr",
     "output_type": "stream",
     "text": [
      "INFO:pypsa.io:Exported network network.nc has buses, links, loads, stores, generators, carriers\n",
      "INFO:pypsa.io:Imported network network.nc has buses, carriers, generators, links, loads, stores\n"
     ]
    },
    {
     "name": "stdout",
     "output_type": "stream",
     "text": [
      "61 out of 144: ('1496', 2030, 0.925, 0.2, True, True, 0)\n",
      "Check the get_geo(config) function\n",
      "Create and store parameters\n",
      "Check weather files\n",
      "Check renewables data\n",
      "Renewables files do not exist for geography 1496. Please see /input/renewables/generate-renewables.ipynb\n",
      "Create and store demand\n",
      "Create and store network\n",
      "Using config:\n",
      "\tself-sufficiency:0.925\n",
      "\th2:True\n",
      "\toffwind:True\n",
      "\tbiogas:0.5\n"
     ]
    },
    {
     "name": "stderr",
     "output_type": "stream",
     "text": [
      "INFO:pypsa.io:Exported network network.nc has buses, links, loads, stores, generators, carriers\n"
     ]
    },
    {
     "name": "stdout",
     "output_type": "stream",
     "text": [
      "Run optimization\n"
     ]
    },
    {
     "name": "stderr",
     "output_type": "stream",
     "text": [
      "INFO:pypsa.io:Imported network network.nc has buses, carriers, generators, links, loads, stores\n",
      "INFO:linopy.model: Solve problem using Highs solver\n",
      "INFO:linopy.io:Writing objective.\n",
      "Writing constraints.: 100%|\u001b[38;2;128;191;255m██████████\u001b[0m| 18/18 [00:01<00:00, 14.35it/s]\n",
      "Writing continuous variables.: 100%|\u001b[38;2;128;191;255m██████████\u001b[0m| 9/9 [00:00<00:00, 69.55it/s]\n",
      "Writing integer variables.: 100%|\u001b[38;2;128;191;255m██████████\u001b[0m| 2/2 [00:00<00:00, 447.82it/s]\n",
      "INFO:linopy.io: Writing time: 1.44s\n",
      "INFO:linopy.solvers:Log file at /tmp/highs.log\n"
     ]
    },
    {
     "name": "stdout",
     "output_type": "stream",
     "text": [
      "Running HiGHS 1.7.2 (git hash: 184e327): Copyright (c) 2024 HiGHS under MIT licence terms\n",
      "Coefficient ranges:\n",
      "  Matrix [9e-08, 1e+02]\n",
      "  Cost   [6e+01, 2e+06]\n",
      "  Bound  [0e+00, 0e+00]\n",
      "  RHS    [4e+01, 2e+04]\n",
      "Presolving model\n",
      "47520 rows, 44607 cols, 130925 nonzeros  0s\n",
      "37991 rows, 35078 cols, 118845 nonzeros  0s\n",
      "37248 rows, 34335 cols, 121257 nonzeros  0s\n",
      "\n",
      "Solving MIP model with:\n",
      "   37248 rows\n",
      "   34335 cols (0 binary, 5 integer, 0 implied int., 34330 continuous)\n",
      "   121257 nonzeros\n",
      "\n",
      "        Nodes      |    B&B Tree     |            Objective Bounds              |  Dynamic Constraints |       Work      \n",
      "     Proc. InQueue |  Leaves   Expl. | BestBound       BestSol              Gap |   Cuts   InLp Confl. | LpIters     Time\n",
      "\n",
      "         0       0         0   0.00%   -inf            inf                  inf        0      0      0         0     0.3s\n",
      " S       0       0         0   0.00%   -inf            433962960.8837     Large        0      0      0         0    56.6s\n",
      " R       0       0         0   0.00%   427077235.0469  428649242.9344     0.37%        0      0      0     76177    6"
     ]
    },
    {
     "name": "stderr",
     "output_type": "stream",
     "text": [
      "INFO:linopy.constants: Optimization successful: \n",
      "Status: ok\n",
      "Termination condition: optimal\n",
      "Solution: 46739 primals, 102222 duals\n",
      "Objective: 4.27e+08\n",
      "Solver model: available\n",
      "Solver message: optimal\n",
      "\n"
     ]
    },
    {
     "name": "stdout",
     "output_type": "stream",
     "text": [
      "0.6s\n",
      "\n",
      "20.0% inactive integer columns, restarting\n",
      "Model after restart has 32599 rows, 29685 cols (0 bin., 4 int., 0 impl., 29681 cont.), and 111701 nonzeros\n",
      "\n",
      "         0       0         0   0.00%   427077235.0469  428649242.9344     0.37%        0      0      0     76177    60.9s\n",
      " R       0       0         0   0.00%   427077235.0469  427312397.9798     0.06%        0      0      0     76180    67.5s\n",
      "         0       0         0   0.00%   427077309.765   427312397.9798     0.06%       18      3      0     76185    74.7s\n",
      "         0       0         0   0.00%   427077328.6519  427312397.9798     0.06%       18      5      0     76187    82.0s\n",
      "         0       0         0   0.00%   427077336.657   427312397.9798     0.06%       18      6      0     76188    87.7s\n",
      "         0       0         0   0.00%   427077345.4569  427312397.9798     0.06%       18      9      0     76192    94.1s\n",
      "         0       0         0   0.00%   427077350.9119  427312397.9798     0.06%       18     11      0     76194   100.5s\n",
      " L       0       0         0   0.00%   427077350.9119  427152737.101      0.02%       18     11      0     76194   133.8s\n",
      "\n",
      "25.0% inactive integer columns, restarting\n",
      "Model after restart has 27400 rows, 24485 cols (0 bin., 3 int., 0 impl., 24482 cont.), and 100951 nonzeros\n",
      "\n",
      "         0       0         0   0.00%   427077350.9119  427152737.101      0.02%       10      0      0     90699   135.0s\n",
      "         0       0         0   0.00%   427077350.9119  427152737.101      0.02%       10     10      0     91682   141.3s\n",
      "         0       0         0   0.00%   427077350.9119  427152737.101      0.02%       10     10      0    105677   172.7s\n",
      "\n",
      "Solving report\n",
      "  Status            Optimal\n",
      "  Primal bound      427152737.101\n",
      "  Dual bound        427128687.257\n",
      "  Gap               0.00563% (tolerance: 0.01%)\n",
      "  Solution status   feasible\n",
      "                    427152737.101 (objective)\n",
      "                    0 (bound viol.)\n",
      "                    0 (int. viol.)\n",
      "                    0 (row viol.)\n",
      "  Timing            173.73 (total)\n",
      "                    0.63 (presolve)\n",
      "                    0.00 (postsolve)\n",
      "  Nodes             1\n",
      "  LP iterations     106397 (total)\n",
      "                    349 (strong br.)\n",
      "                    14 (separation)\n",
      "                    28500 (heuristics)\n",
      "Writing the solution to /tmp/linopy-solve-f0z2f6ao.sol\n"
     ]
    },
    {
     "name": "stderr",
     "output_type": "stream",
     "text": [
      "INFO:pypsa.optimization.optimize:The shadow-prices of the constraints Generator-ext-p-lower, Generator-ext-p-upper, Link-ext-p-lower, Link-ext-p-upper, Store-ext-e-lower, Store-ext-e-upper, Store-energy_balance, self_sufficiency_constraint were not assigned to the network.\n",
      "INFO:pypsa.io:Exported network network.nc has buses, links, loads, stores, generators, carriers\n",
      "INFO:pypsa.io:Imported network network.nc has buses, carriers, generators, links, loads, stores\n"
     ]
    },
    {
     "name": "stdout",
     "output_type": "stream",
     "text": [
      "62 out of 144: ('1496', 2030, 0.925, 0.2, True, True, 0.5)\n",
      "Check the get_geo(config) function\n",
      "Create and store parameters\n",
      "Check weather files\n",
      "Check renewables data\n",
      "Renewables files do not exist for geography 1496. Please see /input/renewables/generate-renewables.ipynb\n",
      "Create and store demand\n",
      "Create and store network\n",
      "Using config:\n",
      "\tself-sufficiency:0.925\n",
      "\th2:True\n",
      "\toffwind:True\n",
      "\tbiogas:1\n"
     ]
    },
    {
     "name": "stderr",
     "output_type": "stream",
     "text": [
      "INFO:pypsa.io:Exported network network.nc has buses, links, loads, stores, generators, carriers\n"
     ]
    },
    {
     "name": "stdout",
     "output_type": "stream",
     "text": [
      "Run optimization\n"
     ]
    },
    {
     "name": "stderr",
     "output_type": "stream",
     "text": [
      "INFO:pypsa.io:Imported network network.nc has buses, carriers, generators, links, loads, stores\n",
      "INFO:linopy.model: Solve problem using Highs solver\n",
      "INFO:linopy.io:Writing objective.\n",
      "Writing constraints.: 100%|\u001b[38;2;128;191;255m██████████\u001b[0m| 18/18 [00:00<00:00, 30.66it/s]\n",
      "Writing continuous variables.: 100%|\u001b[38;2;128;191;255m██████████\u001b[0m| 9/9 [00:00<00:00, 75.66it/s]\n",
      "Writing integer variables.: 100%|\u001b[38;2;128;191;255m██████████\u001b[0m| 2/2 [00:00<00:00, 627.04it/s]\n",
      "INFO:linopy.io: Writing time: 0.76s\n",
      "INFO:linopy.solvers:Log file at /tmp/highs.log\n"
     ]
    },
    {
     "name": "stdout",
     "output_type": "stream",
     "text": [
      "Running HiGHS 1.7.2 (git hash: 184e327): Copyright (c) 2024 HiGHS under MIT licence terms\n",
      "Coefficient ranges:\n",
      "  Matrix [9e-08, 1e+02]\n",
      "  Cost   [6e+01, 2e+06]\n",
      "  Bound  [0e+00, 0e+00]\n",
      "  RHS    [4e+01, 2e+04]\n",
      "Presolving model\n",
      "47520 rows, 44607 cols, 130925 nonzeros  0s\n",
      "37991 rows, 35078 cols, 118845 nonzeros  0s\n",
      "37248 rows, 34335 cols, 121257 nonzeros  0s\n",
      "\n",
      "Solving MIP model with:\n",
      "   37248 rows\n",
      "   34335 cols (0 binary, 5 integer, 0 implied int., 34330 continuous)\n",
      "   121257 nonzeros\n",
      "\n",
      "        Nodes      |    B&B Tree     |            Objective Bounds              |  Dynamic Constraints |       Work      \n",
      "     Proc. InQueue |  Leaves   Expl. | BestBound       BestSol              Gap |   Cuts   InLp Confl. | LpIters     Time\n",
      "\n",
      "         0       0         0   0.00%   -inf            inf                  inf        0      0      0         0     0.3s\n",
      " S       0       0         0   0.00%   -inf            433962960.8837     Large        0      0      0         0    52.1s\n",
      " R       0       0         0   0.00%   427077235.0469  428649242.9344     0.37%        0      0      0     74107    56.1s\n",
      "\n",
      "20.0% inactive integer columns, restarting\n",
      "Model after restart has 32599 rows, 29685 cols (1 bin., 3 int., 0 impl., 29681 cont.), and 111701 nonzeros\n",
      "\n",
      "         0       0         0   0.00%   427077235.0469  428649242.9344     0.37%        0      0      0     74107    56.2s\n",
      " R       0       0         0   0.00%   427077235.0469  427312397.9798     0.06%        0      0      0     74107    59.6s\n",
      "\n",
      "25.0% inactive integer columns, restarting\n",
      "Model after restart has 27400 rows, 24485 cols (0 bin., 3 int., 0 impl., 24482 cont.), and 100951 nonzeros\n",
      "\n",
      "         0       0         0   0.00%   427077235.0469  427312397.9798     0.06%        0      0      0     74107    59.9s\n",
      "         0       0         0   0.00%   427077235.0469  427312397.9798     0.06%        0      0      0     74637    65.9s\n",
      "         0       0         0   0.00%   427077309.765   427312397.9798     0.06%       18      3      0     74640    71.3s\n",
      "         0       0         0   0.00%   427077328.6519  427312397.9798     0.06%       18      5      0     74642    76.6s\n",
      "         0       0         0   0.00%   427077345.3168  427312397.9798     0.06%       20      7      0     74644    83.8s\n",
      "         0       0         0   0.00%   427077350.9119  427312397.9798     0.06%       20     11      0     74648    88.9s\n",
      " L       0       0         0   0.00%   427077350.9119  427152737.101      0.02%       20     11      0     74648   110.7s\n",
      " L       0       0         0   0.00%   427077350.9119  427152047.6487     0.02%       20     10      0     85578   169.1s\n",
      "         1       0         1 100.00%   427128687.2568  427152047.6487     0.01%       20     10      0     95567   177.9s\n",
      "\n",
      "Solving report\n",
      "  Status            Optimal\n",
      "  Primal bound      427152047.649\n",
      "  Dual bound        427128687.257\n",
      "  Gap               0.00547% (tolerance: 0.01%)\n",
      "  Solution status   feasible\n",
      "                    427152047.649 (objective)\n",
      "                    0 (bound viol.)\n",
      "                    0 (int. viol.)\n",
      "                    0 (row viol.)\n",
      "  Timing            177.92 (total)\n",
      "                    0.55 (presolve)\n",
      "      "
     ]
    },
    {
     "name": "stderr",
     "output_type": "stream",
     "text": [
      "INFO:linopy.constants: Optimization successful: \n",
      "Status: ok\n",
      "Termination condition: optimal\n",
      "Solution: 46739 primals, 102222 duals\n",
      "Objective: 4.27e+08\n",
      "Solver model: available\n",
      "Solver message: optimal\n",
      "\n",
      "INFO:pypsa.optimization.optimize:The shadow-prices of the constraints Generator-ext-p-lower, Generator-ext-p-upper, Link-ext-p-lower, Link-ext-p-upper, Store-ext-e-lower, Store-ext-e-upper, Store-energy_balance, self_sufficiency_constraint were not assigned to the network.\n"
     ]
    },
    {
     "name": "stdout",
     "output_type": "stream",
     "text": [
      "              0.00 (postsolve)\n",
      "  Nodes             1\n",
      "  LP iterations     95567 (total)\n",
      "                    339 (strong br.)\n",
      "                    11 (separation)\n",
      "                    20222 (heuristics)\n",
      "Writing the solution to /tmp/linopy-solve-v6jaxgdh.sol\n"
     ]
    },
    {
     "name": "stderr",
     "output_type": "stream",
     "text": [
      "INFO:pypsa.io:Exported network network.nc has buses, links, loads, stores, generators, carriers\n",
      "INFO:pypsa.io:Imported network network.nc has buses, carriers, generators, links, loads, stores\n"
     ]
    },
    {
     "name": "stdout",
     "output_type": "stream",
     "text": [
      "63 out of 144: ('1496', 2030, 0.925, 0.2, True, True, 1)\n",
      "Check the get_geo(config) function\n",
      "Create and store parameters\n",
      "Check weather files\n",
      "Check renewables data\n",
      "Renewables files do not exist for geography 1496. Please see /input/renewables/generate-renewables.ipynb\n",
      "Create and store demand\n",
      "Create and store network\n",
      "Using config:\n",
      "\tself-sufficiency:1\n",
      "\th2:True\n",
      "\toffwind:True\n",
      "\tbiogas:0\n"
     ]
    },
    {
     "name": "stderr",
     "output_type": "stream",
     "text": [
      "INFO:pypsa.io:Exported network network.nc has buses, links, loads, stores, generators, carriers\n"
     ]
    },
    {
     "name": "stdout",
     "output_type": "stream",
     "text": [
      "Run optimization\n"
     ]
    },
    {
     "name": "stderr",
     "output_type": "stream",
     "text": [
      "INFO:pypsa.io:Imported network network.nc has buses, carriers, generators, links, loads, stores\n",
      "INFO:linopy.model: Solve problem using Highs solver\n",
      "INFO:linopy.io:Writing objective.\n",
      "Writing constraints.: 100%|\u001b[38;2;128;191;255m██████████\u001b[0m| 18/18 [00:00<00:00, 32.49it/s]\n",
      "Writing continuous variables.: 100%|\u001b[38;2;128;191;255m██████████\u001b[0m| 9/9 [00:00<00:00, 97.09it/s]\n",
      "Writing integer variables.: 100%|\u001b[38;2;128;191;255m██████████\u001b[0m| 2/2 [00:00<00:00, 493.33it/s]\n",
      "INFO:linopy.io: Writing time: 0.7s\n",
      "INFO:linopy.solvers:Log file at /tmp/highs.log\n"
     ]
    },
    {
     "name": "stdout",
     "output_type": "stream",
     "text": [
      "Running HiGHS 1.7.2 (git hash: 184e327): Copyright (c) 2024 HiGHS under MIT licence terms\n"
     ]
    },
    {
     "name": "stderr",
     "output_type": "stream",
     "text": [
      "INFO:linopy.constants: Optimization successful: \n",
      "Status: ok\n",
      "Termination condition: optimal\n",
      "Solution: 43818 primals, 96380 duals\n",
      "Objective: 5.83e+08\n",
      "Solver model: available\n",
      "Solver message: optimal\n",
      "\n",
      "INFO:pypsa.optimization.optimize:The shadow-prices of the constraints Generator-ext-p-lower, Generator-ext-p-upper, Link-ext-p-lower, Link-ext-p-upper, Store-ext-e-lower, Store-ext-e-upper, Store-energy_balance, self_sufficiency_constraint were not assigned to the network.\n"
     ]
    },
    {
     "name": "stdout",
     "output_type": "stream",
     "text": [
      "Coefficient ranges:\n",
      "  Matrix [9e-08, 1e+02]\n",
      "  Cost   [6e+01, 2e+06]\n",
      "  Bound  [0e+00, 0e+00]\n",
      "  RHS    [3e+01, 7e+01]\n",
      "Presolving model\n",
      "44599 rows, 35847 cols, 116325 nonzeros  0s\n",
      "37978 rows, 29226 cols, 107219 nonzeros  0s\n",
      "37237 rows, 28485 cols, 109685 nonzeros  0s\n",
      "\n",
      "Solving MIP model with:\n",
      "   37237 rows\n",
      "   28485 cols (0 binary, 5 integer, 0 implied int., 28480 continuous)\n",
      "   109685 nonzeros\n",
      "\n",
      "        Nodes      |    B&B Tree     |            Objective Bounds              |  Dynamic Constraints |       Work      \n",
      "     Proc. InQueue |  Leaves   Expl. | BestBound       BestSol              Gap |   Cuts   InLp Confl. | LpIters     Time\n",
      "\n",
      "         0       0         0   0.00%   -inf            inf                  inf        0      0      0         0     0.3s\n",
      " S       0       0         0   0.00%   -inf            586163772.2698     Large        0      0      0         0     9.5s\n",
      " R       0       0         0   0.00%   583008994.9577  583246206.5987     0.04%        0      0      0     43357     9.8s\n",
      "\n",
      "40.0% inactive integer columns, restarting\n",
      "Model after restart has 27323 rows, 18569 cols (1 bin., 2 int., 0 impl., 18566 cont.), and 89753 nonzeros\n",
      "\n",
      "         0       0         0   0.00%   583008994.9577  583246206.5987     0.04%        0      0      0     43357    10.0s\n",
      " R       0       0         0   0.00%   583008994.9577  583031812.2351     0.00%        0      0      0     44592    10.6s\n",
      "\n",
      "Solving report\n",
      "  Status            Optimal\n",
      "  Primal bound      583031812.235\n",
      "  Dual bound        583008994.958\n",
      "  Gap               0.00391% (tolerance: 0.01%)\n",
      "  Solution status   feasible\n",
      "                    583031812.235 (objective)\n",
      "                    0 (bound viol.)\n",
      "                    0 (int. viol.)\n",
      "                    0 (row viol.)\n",
      "  Timing            10.65 (total)\n",
      "                    0.38 (presolve)\n",
      "                    0.00 (postsolve)\n",
      "  Nodes             1\n",
      "  LP iterations     44592 (total)\n",
      "                    0 (strong br.)\n",
      "                    0 (separation)\n",
      "                    0 (heuristics)\n",
      "Writing the solution to /tmp/linopy-solve-0rvd540h.sol\n"
     ]
    },
    {
     "name": "stderr",
     "output_type": "stream",
     "text": [
      "INFO:pypsa.io:Exported network network.nc has buses, links, loads, stores, generators, carriers\n",
      "INFO:pypsa.io:Imported network network.nc has buses, carriers, generators, links, loads, stores\n"
     ]
    },
    {
     "name": "stdout",
     "output_type": "stream",
     "text": [
      "64 out of 144: ('1496', 2030, 1, -0.2, True, True, 0)\n",
      "Check the get_geo(config) function\n",
      "Create and store parameters\n",
      "Check weather files\n",
      "Check renewables data\n",
      "Renewables files do not exist for geography 1496. Please see /input/renewables/generate-renewables.ipynb\n",
      "Create and store demand\n",
      "Create and store network\n",
      "Using config:\n",
      "\tself-sufficiency:1\n",
      "\th2:True\n",
      "\toffwind:True\n",
      "\tbiogas:0.5\n"
     ]
    },
    {
     "name": "stderr",
     "output_type": "stream",
     "text": [
      "INFO:pypsa.io:Exported network network.nc has buses, links, loads, stores, generators, carriers\n"
     ]
    },
    {
     "name": "stdout",
     "output_type": "stream",
     "text": [
      "Run optimization\n"
     ]
    },
    {
     "name": "stderr",
     "output_type": "stream",
     "text": [
      "INFO:pypsa.io:Imported network network.nc has buses, carriers, generators, links, loads, stores\n",
      "INFO:linopy.model: Solve problem using Highs solver\n",
      "INFO:linopy.io:Writing objective.\n",
      "Writing constraints.: 100%|\u001b[38;2;128;191;255m██████████\u001b[0m| 18/18 [00:00<00:00, 30.64it/s]\n",
      "Writing continuous variables.: 100%|\u001b[38;2;128;191;255m██████████\u001b[0m| 9/9 [00:00<00:00, 89.21it/s]\n",
      "Writing integer variables.: 100%|\u001b[38;2;128;191;255m██████████\u001b[0m| 2/2 [00:00<00:00, 827.12it/s]\n",
      "INFO:linopy.io: Writing time: 0.73s\n",
      "INFO:linopy.solvers:Log file at /tmp/highs.log\n"
     ]
    },
    {
     "name": "stdout",
     "output_type": "stream",
     "text": [
      "Running HiGHS 1.7.2 (git hash: 184e327): Copyright (c) 2024 HiGHS under MIT licence terms\n",
      "Coefficient ranges:\n",
      "  Matrix [9e-08, 1e+02]\n",
      "  Cost   [6e+01, 2e+06]\n",
      "  Bound  [0e+00, 0e+00]\n",
      "  RHS    [3e+01, 7e+01]\n"
     ]
    },
    {
     "name": "stderr",
     "output_type": "stream",
     "text": [
      "INFO:linopy.constants: Optimization successful: \n",
      "Status: ok\n",
      "Termination condition: optimal\n",
      "Solution: 46739 primals, 102222 duals\n",
      "Objective: 4.28e+08\n",
      "Solver model: available\n",
      "Solver message: optimal\n",
      "\n",
      "INFO:pypsa.optimization.optimize:The shadow-prices of the constraints Generator-ext-p-lower, Generator-ext-p-upper, Link-ext-p-lower, Link-ext-p-upper, Store-ext-e-lower, Store-ext-e-upper, Store-energy_balance, self_sufficiency_constraint were not assigned to the network.\n"
     ]
    },
    {
     "name": "stdout",
     "output_type": "stream",
     "text": [
      "Presolving model\n",
      "47519 rows, 41687 cols, 125085 nonzeros  0s\n",
      "37990 rows, 32158 cols, 113005 nonzeros  0s\n",
      "37247 rows, 31415 cols, 115417 nonzeros  0s\n",
      "\n",
      "Solving MIP model with:\n",
      "   37247 rows\n",
      "   31415 cols (0 binary, 5 integer, 0 implied int., 31410 continuous)\n",
      "   115417 nonzeros\n",
      "\n",
      "        Nodes      |    B&B Tree     |            Objective Bounds              |  Dynamic Constraints |       Work      \n",
      "     Proc. InQueue |  Leaves   Expl. | BestBound       BestSol              Gap |   Cuts   InLp Confl. | LpIters     Time\n",
      "\n",
      "         0       0         0   0.00%   -inf            inf                  inf        0      0      0         0     0.3s\n",
      " S       0       0         0   0.00%   -inf            433915860.6541     Large        0      0      0         0    20.4s\n",
      " R       0       0         0   0.00%   426901476.0544  431354419.2337     1.03%        0      0      0     65733    20.8s\n",
      "\n",
      "20.0% inactive integer columns, restarting\n",
      "Model after restart has 32595 rows, 26762 cols (0 bin., 4 int., 0 impl., 26758 cont.), and 106043 nonzeros\n",
      "\n",
      "         0       0         0   0.00%   426901476.0544  431354419.2337     1.03%        0      0      0     65733    21.0s\n",
      " R       0       0         0   0.00%   426901476.0544  427611218.1682     0.17%        0      0      0     65803    21.5s\n",
      "         0       0         0   0.00%   427318660.1024  427611218.1682     0.07%      515    256      0     66367    29.1s\n",
      " L       0       0         0   0.00%   427318660.1024  427579753.1348     0.06%      515    256      0     66367    32.1s\n",
      "\n",
      "25.0% inactive integer columns, restarting\n",
      "Model after restart has 27328 rows, 21494 cols (0 bin., 3 int., 0 impl., 21491 cont.), and 95721 nonzeros\n",
      "\n",
      "         0       0         0   0.00%   427318660.1024  427579753.1348     0.06%      256      0      0     77087    32.4s\n",
      "         0       0         0   0.00%   427318660.1024  427579753.1348     0.06%      256    256      0     78224    33.3s\n",
      "\n",
      "Solving report\n",
      "  Status            Optimal\n",
      "  Primal bound      427579753.135\n",
      "  Dual bound        427543645.968\n",
      "  Gap               0.00844% (tolerance: 0.01%)\n",
      "  Solution status   feasible\n",
      "                    427579753.135 (objective)\n",
      "                    0 (bound viol.)\n",
      "                    1.7763568394e-15 (int. viol.)\n",
      "                    0 (row viol.)\n",
      "  Timing            33.70 (total)\n",
      "                    0.61 (presolve)\n",
      "                    0.00 (postsolve)\n",
      "  Nodes             1\n",
      "  LP iterations     78540 (total)\n",
      "                    0 (strong br.)\n",
      "                    880 (separation)\n",
      "                    10720 (heuristics)\n",
      "Writing the solution to /tmp/linopy-solve-p92i7wko.sol\n"
     ]
    },
    {
     "name": "stderr",
     "output_type": "stream",
     "text": [
      "INFO:pypsa.io:Exported network network.nc has buses, links, loads, stores, generators, carriers\n",
      "INFO:pypsa.io:Imported network network.nc has buses, carriers, generators, links, loads, stores\n"
     ]
    },
    {
     "name": "stdout",
     "output_type": "stream",
     "text": [
      "65 out of 144: ('1496', 2030, 1, -0.2, True, True, 0.5)\n",
      "Check the get_geo(config) function\n",
      "Create and store parameters\n",
      "Check weather files\n",
      "Check renewables data\n",
      "Renewables files do not exist for geography 1496. Please see /input/renewables/generate-renewables.ipynb\n",
      "Create and store demand\n",
      "Create and store network\n",
      "Using config:\n",
      "\tself-sufficiency:1\n",
      "\th2:True\n",
      "\toffwind:True\n",
      "\tbiogas:1\n"
     ]
    },
    {
     "name": "stderr",
     "output_type": "stream",
     "text": [
      "INFO:pypsa.io:Exported network network.nc has buses, links, loads, stores, generators, carriers\n"
     ]
    },
    {
     "name": "stdout",
     "output_type": "stream",
     "text": [
      "Run optimization\n"
     ]
    },
    {
     "name": "stderr",
     "output_type": "stream",
     "text": [
      "INFO:pypsa.io:Imported network network.nc has buses, carriers, generators, links, loads, stores\n",
      "INFO:linopy.model: Solve problem using Highs solver\n",
      "INFO:linopy.io:Writing objective.\n",
      "Writing constraints.: 100%|\u001b[38;2;128;191;255m██████████\u001b[0m| 18/18 [00:00<00:00, 29.36it/s]\n",
      "Writing continuous variables.: 100%|\u001b[38;2;128;191;255m██████████\u001b[0m| 9/9 [00:00<00:00, 78.87it/s]\n",
      "Writing integer variables.: 100%|\u001b[38;2;128;191;255m██████████\u001b[0m| 2/2 [00:00<00:00, 521.55it/s]\n",
      "INFO:linopy.io: Writing time: 0.79s\n",
      "INFO:linopy.solvers:Log file at /tmp/highs.log\n",
      "INFO:linopy.constants: Optimization successful: \n",
      "Status: ok\n",
      "Termination condition: optimal\n",
      "Solution: 46739 primals, 102222 duals\n",
      "Objective: 3.50e+08\n",
      "Solver model: available\n",
      "Solver message: optimal\n",
      "\n"
     ]
    },
    {
     "name": "stdout",
     "output_type": "stream",
     "text": [
      "Running HiGHS 1.7.2 (git hash: 184e327): Copyright (c) 2024 HiGHS under MIT licence terms\n",
      "Coefficient ranges:\n",
      "  Matrix [9e-08, 1e+02]\n",
      "  Cost   [6e+01, 2e+06]\n",
      "  Bound  [0e+00, 0e+00]\n",
      "  RHS    [3e+01, 8e+01]\n",
      "Presolving model\n",
      "47519 rows, 41687 cols, 125085 nonzeros  0s\n",
      "37990 rows, 32158 cols, 113005 nonzeros  0s\n",
      "37247 rows, 31415 cols, 115417 nonzeros  0s\n",
      "\n",
      "Solving MIP model with:\n",
      "   37247 rows\n",
      "   31415 cols (0 binary, 5 integer, 0 implied int., 31410 continuous)\n",
      "   115417 nonzeros\n",
      "\n",
      "        Nodes      |    B&B Tree     |            Objective Bounds              |  Dynamic Constraints |       Work      \n",
      "     Proc. InQueue |  Leaves   Expl. | BestBound       BestSol              Gap |   Cuts   InLp Confl. | LpIters     Time\n",
      "\n",
      "         0       0         0   0.00%   -inf            inf                  inf        0      0      0         0     0.3s\n",
      " S       0       0         0   0.00%   -inf            354231978.4049     Large        0      0      0         0    25.4s\n",
      " R       0       0         0   0.00%   349788885.364   354016956.4751     1.19%        0      0      0     77696    25.7s\n",
      "\n",
      "20.0% inactive integer columns, restarting\n",
      "Model after restart has 32595 rows, 26762 cols (0 bin., 4 int., 0 impl., 26758 cont.), and 106043 nonzeros\n",
      "\n",
      "         0       0         0   0.00%   349788885.364   354016956.4751     1.19%        0      0      0     77696    25.8s\n",
      " R       0       0         0   0.00%   349788885.364   349907846.6609     0.03%        0      0      0     77696    26.0s\n",
      "\n",
      "25.0% inactive integer columns, restarting\n",
      "Model after restart has 27328 rows, 21494 cols (0 bin., 3 int., 0 impl., 21491 cont.), and 95721 nonzeros\n",
      "\n",
      "         0       0         0   0.00%   349788885.364   349907846.6609     0.03%        0      0      0     77696    26.1s\n",
      " R       0       0         0   0.00%   349788885.364   349905449.5121     0.03%        0      0      0     78130    26.5s\n",
      "         0       0         0   0.00%   349798161.8851  349905449.5121     0.03%      500      5      0     78187    32.4s\n",
      "\n",
      "Solving report\n",
      "  Status            Optimal\n",
      "  Primal bound      349905449.512\n",
      "  Dual bound        349902929.698\n",
      "  Gap               0.00072% (tolerance: 0.01%)\n",
      "  Solution status   feasible\n",
      "                    349905449.512 (objective)\n",
      "                    0 (bound viol.)\n",
      "                    0 (int. viol.)\n",
      "                    0 (row viol.)\n",
      "  Timing            32.85 (total)\n",
      "                    0.46 (presolve)\n",
      "                    0.00 (postsolve)\n",
      "  Nodes             1\n",
      "  LP iterations     78388 (total)\n",
      "                    0 (strong br.)\n",
      "                    258 (separation)\n",
      "                    0 (heuristics)\n",
      "Writing the solution to /tmp/linopy-solve-73nnapuz.sol\n"
     ]
    },
    {
     "name": "stderr",
     "output_type": "stream",
     "text": [
      "INFO:pypsa.optimization.optimize:The shadow-prices of the constraints Generator-ext-p-lower, Generator-ext-p-upper, Link-ext-p-lower, Link-ext-p-upper, Store-ext-e-lower, Store-ext-e-upper, Store-energy_balance, self_sufficiency_constraint were not assigned to the network.\n",
      "INFO:pypsa.io:Exported network network.nc has buses, links, loads, stores, generators, carriers\n",
      "INFO:pypsa.io:Imported network network.nc has buses, carriers, generators, links, loads, stores\n"
     ]
    },
    {
     "name": "stdout",
     "output_type": "stream",
     "text": [
      "66 out of 144: ('1496', 2030, 1, -0.2, True, True, 1)\n",
      "Check the get_geo(config) function\n",
      "Create and store parameters\n",
      "Check weather files\n",
      "Check renewables data\n",
      "Renewables files do not exist for geography 1496. Please see /input/renewables/generate-renewables.ipynb\n",
      "Create and store demand\n",
      "Create and store network\n",
      "Using config:\n",
      "\tself-sufficiency:1\n",
      "\th2:True\n",
      "\toffwind:True\n",
      "\tbiogas:0\n"
     ]
    },
    {
     "name": "stderr",
     "output_type": "stream",
     "text": [
      "INFO:pypsa.io:Exported network network.nc has buses, links, loads, stores, generators, carriers\n"
     ]
    },
    {
     "name": "stdout",
     "output_type": "stream",
     "text": [
      "Run optimization\n"
     ]
    },
    {
     "name": "stderr",
     "output_type": "stream",
     "text": [
      "INFO:pypsa.io:Imported network network.nc has buses, carriers, generators, links, loads, stores\n",
      "INFO:linopy.model: Solve problem using Highs solver\n",
      "INFO:linopy.io:Writing objective.\n",
      "Writing constraints.: 100%|\u001b[38;2;128;191;255m██████████\u001b[0m| 18/18 [00:00<00:00, 21.82it/s]\n",
      "Writing continuous variables.: 100%|\u001b[38;2;128;191;255m██████████\u001b[0m| 9/9 [00:00<00:00, 65.33it/s]\n",
      "Writing integer variables.: 100%|\u001b[38;2;128;191;255m██████████\u001b[0m| 2/2 [00:00<00:00, 438.71it/s]\n",
      "INFO:linopy.io: Writing time: 1.04s\n",
      "INFO:linopy.solvers:Log file at /tmp/highs.log\n"
     ]
    },
    {
     "name": "stdout",
     "output_type": "stream",
     "text": [
      "Running HiGHS 1.7.2 (git hash: 184e327): Copyright (c) 2024 HiGHS under MIT licence terms\n",
      "Coefficient ranges:\n",
      "  Matrix [9e-08, 1e+02]\n",
      "  Cost   [6e+01, 2e+06]\n",
      "  Bound  [0e+00, 0e+00]\n",
      "  RHS    [3e+01, 9e+01]\n",
      "Presolving model\n",
      "44599 rows, 35847 cols, 116325 nonzeros  0s\n",
      "37978 rows, 29226 cols, 107219 nonzeros  0s\n",
      "37237 rows, 28485 cols, 109685 nonzeros  0s\n",
      "\n",
      "Solving MIP model with:\n",
      "   37237 rows\n",
      "   28485 cols (0 binary, 5 integer, 0 implied int., 28480 continuous)\n",
      "   109685 nonzeros\n",
      "\n",
      "        Nodes      |    B&B Tree     |            Objective Bounds              |  Dynamic Constraints |       Work      \n",
      "     Proc. InQueue |  Leaves   Expl. | BestBound       BestSol              Gap |   Cuts   InLp Confl. | LpIters     Time\n",
      "\n",
      "         0       0         0   0.00%   -inf            inf                  inf        0      0      0         0     0.3s\n",
      " S       0       0         0   0.00%   -inf            729284457.3626     Large        0      0      0         0     9.1s\n",
      " R       0       0         0   0.00%   728761243.6971  728767000.1384     0.00%        0      0      0     39466     9.3s\n",
      "\n",
      "Solving report\n",
      "  Status            Optimal\n",
      "  Primal bound      728767000.138\n",
      "  Dual bound        728761243.697\n",
      "  Gap               0.00079% (tolerance: 0.01%)\n",
      "  Solution status   feasible\n",
      "                    728767000.138 (objective)\n",
      "                    0 (bound viol.)\n",
      "                    0 (int. viol.)\n",
      "                    0 (row viol.)\n",
      "  Timing            9.32 (total)\n",
      "                    0.25 (presolve)\n",
      "                    0.00 (postsolve)\n",
      "  Nodes             1\n",
      "  LP iterations     39466 (total)\n",
      "                    0 (strong br.)\n",
      "                    0 (separation)\n",
      "                    0 (heuristics)\n"
     ]
    },
    {
     "name": "stderr",
     "output_type": "stream",
     "text": [
      "INFO:linopy.constants: Optimization successful: \n",
      "Status: ok\n",
      "Termination condition: optimal\n",
      "Solution: 43818 primals, 96380 duals\n",
      "Objective: 7.29e+08\n",
      "Solver model: available\n",
      "Solver message: optimal\n",
      "\n",
      "INFO:pypsa.optimization.optimize:The shadow-prices of the constraints Generator-ext-p-lower, Generator-ext-p-upper, Link-ext-p-lower, Link-ext-p-upper, Store-ext-e-lower, Store-ext-e-upper, Store-energy_balance, self_sufficiency_constraint were not assigned to the network.\n"
     ]
    },
    {
     "name": "stdout",
     "output_type": "stream",
     "text": [
      "Writing the solution to /tmp/linopy-solve-m4zr5yjs.sol\n"
     ]
    },
    {
     "name": "stderr",
     "output_type": "stream",
     "text": [
      "INFO:pypsa.io:Exported network network.nc has buses, links, loads, stores, generators, carriers\n",
      "INFO:pypsa.io:Imported network network.nc has buses, carriers, generators, links, loads, stores\n"
     ]
    },
    {
     "name": "stdout",
     "output_type": "stream",
     "text": [
      "67 out of 144: ('1496', 2030, 1, 0, True, True, 0)\n",
      "Check the get_geo(config) function\n",
      "Create and store parameters\n",
      "Check weather files\n",
      "Check renewables data\n",
      "Renewables files do not exist for geography 1496. Please see /input/renewables/generate-renewables.ipynb\n",
      "Create and store demand\n",
      "Create and store network\n",
      "Using config:\n",
      "\tself-sufficiency:1\n",
      "\th2:True\n",
      "\toffwind:True\n",
      "\tbiogas:0.5\n"
     ]
    },
    {
     "name": "stderr",
     "output_type": "stream",
     "text": [
      "INFO:pypsa.io:Exported network network.nc has buses, links, loads, stores, generators, carriers\n"
     ]
    },
    {
     "name": "stdout",
     "output_type": "stream",
     "text": [
      "Run optimization\n"
     ]
    },
    {
     "name": "stderr",
     "output_type": "stream",
     "text": [
      "INFO:pypsa.io:Imported network network.nc has buses, carriers, generators, links, loads, stores\n",
      "INFO:linopy.model: Solve problem using Highs solver\n",
      "INFO:linopy.io:Writing objective.\n",
      "Writing constraints.: 100%|\u001b[38;2;128;191;255m██████████\u001b[0m| 18/18 [00:00<00:00, 30.06it/s]\n",
      "Writing continuous variables.: 100%|\u001b[38;2;128;191;255m██████████\u001b[0m| 9/9 [00:00<00:00, 83.24it/s]\n",
      "Writing integer variables.: 100%|\u001b[38;2;128;191;255m██████████\u001b[0m| 2/2 [00:00<00:00, 489.70it/s]\n",
      "INFO:linopy.io: Writing time: 0.76s\n",
      "INFO:linopy.solvers:Log file at /tmp/highs.log\n"
     ]
    },
    {
     "name": "stdout",
     "output_type": "stream",
     "text": [
      "Running HiGHS 1.7.2 (git hash: 184e327): Copyright (c) 2024 HiGHS under MIT licence terms\n",
      "Coefficient ranges:\n",
      "  Matrix [9e-08, 1e+02]\n",
      "  Cost   [6e+01, 2e+06]\n",
      "  Bound  [0e+00, 0e+00]\n",
      "  RHS    [3e+01, 9e+01]\n",
      "Presolving model\n",
      "47519 rows, 41687 cols, 125085 nonzeros  0s\n",
      "37990 rows, 32158 cols, 113005 nonzeros  0s\n",
      "37247 rows, 31415 cols, 115417 nonzeros  0s\n",
      "\n",
      "Solving MIP model with:\n",
      "   37247 rows\n",
      "   31415 cols (0 binary, 5 integer, 0 implied int., 31410 continuous)\n",
      "   115417 nonzeros\n",
      "\n",
      "        Nodes      |    B&B Tree     |            Objective Bounds              |  Dynamic Constraints |       Work      \n",
      "     Proc. InQueue |  Leaves   Expl. | BestBound       BestSol              Gap |   Cuts   InLp Confl. | LpIters     Time\n",
      "\n",
      "         0       0         0   0.00%   -inf            inf                  inf        0      0      0         0     0.3s\n",
      " S       0       0         0   0.00%   -inf            538826381.9539     Large        0      0      0         0    19.9s\n",
      " R       0       0         0   0.00%   533626845.0681  538001412.9717     0.81%        0      0      0     63906    20.3s\n",
      "\n",
      "20.0% inactive integer columns, restar"
     ]
    },
    {
     "name": "stderr",
     "output_type": "stream",
     "text": [
      "INFO:linopy.constants: Optimization successful: \n",
      "Status: ok\n",
      "Termination condition: optimal\n",
      "Solution: 46739 primals, 102222 duals\n",
      "Objective: 5.34e+08\n",
      "Solver model: available\n",
      "Solver message: optimal\n",
      "\n"
     ]
    },
    {
     "name": "stdout",
     "output_type": "stream",
     "text": [
      "ting\n",
      "Model after restart has 32595 rows, 26762 cols (0 bin., 4 int., 0 impl., 26758 cont.), and 106043 nonzeros\n",
      "\n",
      "         0       0         0   0.00%   533626845.0681  538001412.9717     0.81%        0      0      0     63906    20.5s\n",
      " R       0       0         0   0.00%   533626845.0681  534441233.8771     0.15%        0      0      0     63986    20.9s\n",
      "\n",
      "Solving report\n",
      "  Status            Optimal\n",
      "  Primal bound      534441233.877\n",
      "  Dual bound        534438663.973\n",
      "  Gap               0.000481% (tolerance: 0.01%)\n",
      "  Solution status   feasible\n",
      "                    534441233.877 (objective)\n",
      "                    0 (bound viol.)\n",
      "                    0 (int. viol.)\n",
      "                    0 (row viol.)\n",
      "  Timing            22.03 (total)\n",
      "                    0.44 (presolve)\n",
      "                    0.00 (postsolve)\n",
      "  Nodes             1\n",
      "  LP iterations     64932 (total)\n",
      "                    0 (strong br.)\n",
      "                    946 (separation)\n",
      "                    0 (heuristics)\n",
      "Writing the solution to /tmp/linopy-solve-x2d1s383.sol\n"
     ]
    },
    {
     "name": "stderr",
     "output_type": "stream",
     "text": [
      "INFO:pypsa.optimization.optimize:The shadow-prices of the constraints Generator-ext-p-lower, Generator-ext-p-upper, Link-ext-p-lower, Link-ext-p-upper, Store-ext-e-lower, Store-ext-e-upper, Store-energy_balance, self_sufficiency_constraint were not assigned to the network.\n",
      "INFO:pypsa.io:Exported network network.nc has buses, links, loads, stores, generators, carriers\n",
      "INFO:pypsa.io:Imported network network.nc has buses, carriers, generators, links, loads, stores\n"
     ]
    },
    {
     "name": "stdout",
     "output_type": "stream",
     "text": [
      "68 out of 144: ('1496', 2030, 1, 0, True, True, 0.5)\n",
      "Check the get_geo(config) function\n",
      "Create and store parameters\n",
      "Check weather files\n",
      "Check renewables data\n",
      "Renewables files do not exist for geography 1496. Please see /input/renewables/generate-renewables.ipynb\n",
      "Create and store demand\n",
      "Create and store network\n",
      "Using config:\n",
      "\tself-sufficiency:1\n",
      "\th2:True\n",
      "\toffwind:True\n",
      "\tbiogas:1\n"
     ]
    },
    {
     "name": "stderr",
     "output_type": "stream",
     "text": [
      "INFO:pypsa.io:Exported network network.nc has buses, links, loads, stores, generators, carriers\n",
      "INFO:pypsa.io:Imported network network.nc has buses, carriers, generators, links, loads, stores\n"
     ]
    },
    {
     "name": "stdout",
     "output_type": "stream",
     "text": [
      "Run optimization\n"
     ]
    },
    {
     "name": "stderr",
     "output_type": "stream",
     "text": [
      "INFO:linopy.model: Solve problem using Highs solver\n",
      "INFO:linopy.io:Writing objective.\n",
      "Writing constraints.: 100%|\u001b[38;2;128;191;255m██████████\u001b[0m| 18/18 [00:00<00:00, 29.85it/s]\n",
      "Writing continuous variables.: 100%|\u001b[38;2;128;191;255m██████████\u001b[0m| 9/9 [00:00<00:00, 82.88it/s]\n",
      "Writing integer variables.: 100%|\u001b[38;2;128;191;255m██████████\u001b[0m| 2/2 [00:00<00:00, 540.33it/s]\n",
      "INFO:linopy.io: Writing time: 0.77s\n",
      "INFO:linopy.solvers:Log file at /tmp/highs.log\n"
     ]
    },
    {
     "name": "stdout",
     "output_type": "stream",
     "text": [
      "Running HiGHS 1.7.2 (git hash: 184e327): Copyright (c) 2024 HiGHS under MIT licence terms\n",
      "Coefficient ranges:\n",
      "  Matrix [9e-08, 1e+02]\n",
      "  Cost   [6e+01, 2e+06]\n",
      "  Bound  [0e+00, 0e+00]\n",
      "  RHS    [3e+01, 1e+02]\n",
      "Presolving model\n",
      "47519 rows, 41687 cols, 125085 nonzeros  0s\n",
      "37990 rows, 32158 cols, 113005 nonzeros  0s\n",
      "37247 rows, 31415 cols, 115417 nonzeros  0s\n",
      "\n",
      "Solving MIP model with:\n",
      "   37247 rows\n",
      "   31415 cols (0 binary, 5 integer, 0 implied int., 31410 continuous)\n",
      "   115417 nonzeros\n",
      "\n",
      "        Nodes      |    B&B Tree     |            Objective Bounds              |  Dynamic Constraints |       Work      \n",
      "     Proc. InQueue |  Leaves   Expl. | BestBound       BestSol              Gap |   Cuts   InLp Confl. | LpIters     Time\n",
      "\n",
      "         0       0         0   0.00%   -inf            inf                  inf        0      0      0         0     0.4s\n",
      " S       0       0         0   0.00%   -inf            444783791.8927     Large        0      0      0         0    28.9s\n",
      " R       0       0         0   0.00%   437236106.705   441502886.0275     0.97%        0      0      0     87355    29.4s\n",
      "\n",
      "20.0% inactive integer columns, restarting\n",
      "Model after restart has 32595 rows, 26762 cols (0 bin., 4 int., 0 impl., 26758 cont.), and 106043 nonzeros\n",
      "\n",
      "         0       0         0   0.00%   437236106.705   441502886.0275     0.97%        0      0      0     87355    29.6s\n",
      " R       0       0         0   0.00%   437236106.705   437397319.9785     0.04%        0      0      0     87355    29.8s\n",
      "         0       0         0   0.00%   437236260.5213  437397319.9785     0.04%      459      6      0     87363    35.4s\n",
      "         0       0         0   0.00%   437243051.6693  437397319.9785     0.04%      459     10      0     96912    41.6s\n",
      "\n",
      "25.0% inactive integer columns, restarting\n",
      "Model after restart has 27328 rows, 21494 cols (0 bin., 3 int., 0 impl., 21491 cont.), and 95721 nonzeros\n",
      "\n",
      "         0       0         0   0.00%   437243051.6693  437397319.9785     0.04%       10      0      0     96912    41.8s\n",
      "         0       0         0   0.00%   437243051.6693  437397319.9785     0.04%       10     10      0     97416    42.2s\n",
      "         0       0         0   0.00%   437294665.3326  437397319.9785     0.02%      458     24      0    107732    49.8s\n",
      "\n",
      "Solving report\n",
      "  Status            Optimal\n",
      "  Primal bound      437397319.978\n",
      "  Dual bound        437392213.605\n",
      "  Gap               0.00117% (tolerance: 0.01%)\n",
      "  Solution status   feasible\n",
      "                    437397319.978 (objective)\n",
      "                    0 (bound viol.)\n",
      "                    1.05469261169e-17 (int. viol.)\n",
      "                    0 (row viol.)\n",
      "  Timing            50.38 (total)\n",
      "                    0.63 (presolve)\n",
      "                    0.00 (postsolve)\n",
      "  Nodes             1\n",
      "  LP iterations     108327 (total)\n",
      "                    461 (strong br.)\n",
      "                    91 (separation)\n",
      "                    19782 (heuristics)\n",
      "Writing the solution to /tmp/linopy-solve-jpbnom28.sol\n"
     ]
    },
    {
     "name": "stderr",
     "output_type": "stream",
     "text": [
      "INFO:linopy.constants: Optimization successful: \n",
      "Status: ok\n",
      "Termination condition: optimal\n",
      "Solution: 46739 primals, 102222 duals\n",
      "Objective: 4.37e+08\n",
      "Solver model: available\n",
      "Solver message: optimal\n",
      "\n",
      "INFO:pypsa.optimization.optimize:The shadow-prices of the constraints Generator-ext-p-lower, Generator-ext-p-upper, Link-ext-p-lower, Link-ext-p-upper, Store-ext-e-lower, Store-ext-e-upper, Store-energy_balance, self_sufficiency_constraint were not assigned to the network.\n",
      "INFO:pypsa.io:Exported network network.nc has buses, links, loads, stores, generators, carriers\n",
      "INFO:pypsa.io:Imported network network.nc has buses, carriers, generators, links, loads, stores\n"
     ]
    },
    {
     "name": "stdout",
     "output_type": "stream",
     "text": [
      "69 out of 144: ('1496', 2030, 1, 0, True, True, 1)\n",
      "Check the get_geo(config) function\n",
      "Create and store parameters\n",
      "Check weather files\n",
      "Check renewables data\n",
      "Renewables files do not exist for geography 1496. Please see /input/renewables/generate-renewables.ipynb\n",
      "Create and store demand\n",
      "Create and store network\n",
      "Using config:\n",
      "\tself-sufficiency:1\n",
      "\th2:True\n",
      "\toffwind:True\n",
      "\tbiogas:0\n"
     ]
    },
    {
     "name": "stderr",
     "output_type": "stream",
     "text": [
      "INFO:pypsa.io:Exported network network.nc has buses, links, loads, stores, generators, carriers\n"
     ]
    },
    {
     "name": "stdout",
     "output_type": "stream",
     "text": [
      "Run optimization\n"
     ]
    },
    {
     "name": "stderr",
     "output_type": "stream",
     "text": [
      "INFO:pypsa.io:Imported network network.nc has buses, carriers, generators, links, loads, stores\n",
      "INFO:linopy.model: Solve problem using Highs solver\n",
      "INFO:linopy.io:Writing objective.\n",
      "Writing constraints.: 100%|\u001b[38;2;128;191;255m██████████\u001b[0m| 18/18 [00:00<00:00, 32.13it/s]\n",
      "Writing continuous variables.: 100%|\u001b[38;2;128;191;255m██████████\u001b[0m| 9/9 [00:00<00:00, 74.62it/s]\n",
      "Writing integer variables.: 100%|\u001b[38;2;128;191;255m██████████\u001b[0m| 2/2 [00:00<00:00, 469.24it/s]\n",
      "INFO:linopy.io: Writing time: 0.74s\n",
      "INFO:linopy.solvers:Log file at /tmp/highs.log\n"
     ]
    },
    {
     "name": "stdout",
     "output_type": "stream",
     "text": [
      "Running HiGHS 1.7.2 (git hash: 184e327): Copyright (c) 2024 HiGHS under MIT licence terms\n",
      "Coefficient ranges:\n",
      "  Matrix [9e-08, 1e+02]\n",
      "  Cost   [6e+01, 2e+06]\n",
      "  Bound  [0e+00, 0e+00]\n",
      "  RHS    [4e+01, 1e+02]\n"
     ]
    },
    {
     "name": "stderr",
     "output_type": "stream",
     "text": [
      "INFO:linopy.constants: Optimization successful: \n",
      "Status: ok\n",
      "Termination condition: optimal\n",
      "Solution: 43818 primals, 96380 duals\n",
      "Objective: 8.75e+08\n",
      "Solver model: available\n",
      "Solver message: optimal\n",
      "\n"
     ]
    },
    {
     "name": "stdout",
     "output_type": "stream",
     "text": [
      "Presolving model\n",
      "44599 rows, 35847 cols, 116325 nonzeros  0s\n",
      "37978 rows, 29226 cols, 107219 nonzeros  0s\n",
      "37237 rows, 28485 cols, 109685 nonzeros  0s\n",
      "\n",
      "Solving MIP model with:\n",
      "   37237 rows\n",
      "   28485 cols (0 binary, 5 integer, 0 implied int., 28480 continuous)\n",
      "   109685 nonzeros\n",
      "\n",
      "        Nodes      |    B&B Tree     |            Objective Bounds              |  Dynamic Constraints |       Work      \n",
      "     Proc. InQueue |  Leaves   Expl. | BestBound       BestSol              Gap |   Cuts   InLp Confl. | LpIters     Time\n",
      "\n",
      "         0       0         0   0.00%   -inf            inf                  inf        0      0      0         0     0.2s\n",
      " S       0       0         0   0.00%   -inf            876965486.4215     Large        0      0      0         0    11.3s\n",
      " R       0       0         0   0.00%   874513492.4365  874661335.6218     0.02%        0      0      0     46285    11.6s\n",
      "\n",
      "40.0% inactive integer columns, restarting\n",
      "Model after restart has 27323 rows, 18569 cols (0 bin., 3 int., 0 impl., 18566 cont.), and 89753 nonzeros\n",
      "\n",
      "         0       0         0   0.00%   874513492.4365  874661335.6218     0.02%        0      0      0     46285    11.7s\n",
      " R       0       0         0   0.00%   874513492.4365  874547718.3526     0.00%        0      0      0     47471    12.4s\n",
      "\n",
      "Solving report\n",
      "  Status            Optimal\n",
      "  Primal bound      874547718.353\n",
      "  Dual bound        874513492.436\n",
      "  Gap               0.00391% (tolerance: 0.01%)\n",
      "  Solution status   feasible\n",
      "                    874547718.353 (objective)\n",
      "                    0 (bound viol.)\n",
      "                    0 (int. viol.)\n",
      "                    0 (row viol.)\n",
      "  Timing            12.40 (total)\n",
      "                    0.32 (presolve)\n",
      "                    0.00 (postsolve)\n",
      "  Nodes             1\n",
      "  LP iterations     47471 (total)\n",
      "                    0 (strong br.)\n",
      "                    0 (separation)\n",
      "                    0 (heuristics)\n",
      "Writing the solution to /tmp/linopy-solve-1awa43ba.sol\n"
     ]
    },
    {
     "name": "stderr",
     "output_type": "stream",
     "text": [
      "INFO:pypsa.optimization.optimize:The shadow-prices of the constraints Generator-ext-p-lower, Generator-ext-p-upper, Link-ext-p-lower, Link-ext-p-upper, Store-ext-e-lower, Store-ext-e-upper, Store-energy_balance, self_sufficiency_constraint were not assigned to the network.\n",
      "INFO:pypsa.io:Exported network network.nc has buses, links, loads, stores, generators, carriers\n",
      "INFO:pypsa.io:Imported network network.nc has buses, carriers, generators, links, loads, stores\n"
     ]
    },
    {
     "name": "stdout",
     "output_type": "stream",
     "text": [
      "70 out of 144: ('1496', 2030, 1, 0.2, True, True, 0)\n",
      "Check the get_geo(config) function\n",
      "Create and store parameters\n",
      "Check weather files\n",
      "Check renewables data\n",
      "Renewables files do not exist for geography 1496. Please see /input/renewables/generate-renewables.ipynb\n",
      "Create and store demand\n",
      "Create and store network\n",
      "Using config:\n",
      "\tself-sufficiency:1\n",
      "\th2:True\n",
      "\toffwind:True\n",
      "\tbiogas:0.5\n"
     ]
    },
    {
     "name": "stderr",
     "output_type": "stream",
     "text": [
      "INFO:pypsa.io:Exported network network.nc has buses, links, loads, stores, generators, carriers\n"
     ]
    },
    {
     "name": "stdout",
     "output_type": "stream",
     "text": [
      "Run optimization\n"
     ]
    },
    {
     "name": "stderr",
     "output_type": "stream",
     "text": [
      "INFO:pypsa.io:Imported network network.nc has buses, carriers, generators, links, loads, stores\n",
      "INFO:linopy.model: Solve problem using Highs solver\n",
      "INFO:linopy.io:Writing objective.\n",
      "Writing constraints.: 100%|\u001b[38;2;128;191;255m██████████\u001b[0m| 18/18 [00:00<00:00, 29.86it/s]\n",
      "Writing continuous variables.: 100%|\u001b[38;2;128;191;255m██████████\u001b[0m| 9/9 [00:00<00:00, 97.24it/s]\n",
      "Writing integer variables.: 100%|\u001b[38;2;128;191;255m██████████\u001b[0m| 2/2 [00:00<00:00, 710.24it/s]\n",
      "INFO:linopy.io: Writing time: 0.74s\n",
      "INFO:linopy.solvers:Log file at /tmp/highs.log\n"
     ]
    },
    {
     "name": "stdout",
     "output_type": "stream",
     "text": [
      "Running HiGHS 1.7.2 (git hash: 184e327): Copyright (c) 2024 HiGHS under MIT licence terms\n",
      "Coefficient ranges:\n",
      "  Matrix [9e-08, 1e+02]\n",
      "  Cost   [6e+01, 2e+06]\n",
      "  Bound  [0e+00, 0e+00]\n",
      "  RHS    [4e+01, 1e+02]\n",
      "Presolving model\n",
      "47519 rows, 41687 cols, 125085 nonzeros  0s\n",
      "37990 rows, 32158 cols, 113005 nonzeros  0s\n",
      "37247 rows, 31415 cols, 115417 nonzeros  0s\n",
      "\n",
      "Solving MIP model with:\n",
      "   37247 rows\n",
      "   31415 cols (0 binary, 5 integer, 0 implied int., 31410 continuous)\n",
      "   115417 nonzeros\n",
      "\n",
      "        Nodes      |    B&B Tree     |            Objective Bounds              |  Dynamic Constraints |       Work      \n",
      "     Proc. InQueue |  Leaves   Expl. | BestBound       BestSol              Gap |   Cuts   InLp Confl. | LpIters     Time\n",
      "\n",
      "         0       0         0   0.00%   -inf            inf                  inf        0      0      0         0     0.3s\n",
      " S       0       0         0   0.00%   -inf            648297247.2199     Large        0      0      0         0    19.6s\n",
      " R       0       0         0   0.00%   640352214.0818  644726278.889      0.68%        0      0      0     58992    20.1s\n",
      "\n",
      "20.0% inactive integer columns, restarting\n",
      "Model after restart has 32595 rows, 26762 cols (0 bin., 4 int., 0 impl., 26758 cont.), and 106043 nonzeros\n",
      "\n",
      "         0       0         0   0.00%   640352214.0818  644726278.889      0.68%        0      0      0     58992    20.3s\n",
      " R       0       0         0   0.00%   640352214.0818  641335569.0124     0.15%        0      0      0     59073    20.7s\n",
      "\n",
      "Solving report\n",
      "  Status            Optimal\n",
      "  Primal bound      641335569.012\n",
      "  Dual bound        641326396.768\n",
      "  Gap               0.00143% (tolerance: 0.01%)\n",
      "  Solution status   feasible\n",
      "                    641335569.012 (objective)\n",
      "                    0 (bound viol.)\n",
      "                    1.22097057464e-16 (int. viol.)\n",
      "                    0 (row viol.)\n",
      "  Timing            22.25 (total)\n",
      "                    0.39 (presolve)\n",
      "                    0.00 (postsolve)\n",
      "  Nodes             1\n",
      "  LP iterations     60104 (total)\n",
      "                    0 (strong br.)\n",
      "                    1031 (separation)\n",
      "                    0 (heur"
     ]
    },
    {
     "name": "stderr",
     "output_type": "stream",
     "text": [
      "INFO:linopy.constants: Optimization successful: \n",
      "Status: ok\n",
      "Termination condition: optimal\n",
      "Solution: 46739 primals, 102222 duals\n",
      "Objective: 6.41e+08\n",
      "Solver model: available\n",
      "Solver message: optimal\n",
      "\n"
     ]
    },
    {
     "name": "stdout",
     "output_type": "stream",
     "text": [
      "istics)\n",
      "Writing the solution to /tmp/linopy-solve-fuzoe3s9.sol\n"
     ]
    },
    {
     "name": "stderr",
     "output_type": "stream",
     "text": [
      "INFO:pypsa.optimization.optimize:The shadow-prices of the constraints Generator-ext-p-lower, Generator-ext-p-upper, Link-ext-p-lower, Link-ext-p-upper, Store-ext-e-lower, Store-ext-e-upper, Store-energy_balance, self_sufficiency_constraint were not assigned to the network.\n",
      "INFO:pypsa.io:Exported network network.nc has buses, links, loads, stores, generators, carriers\n",
      "INFO:pypsa.io:Imported network network.nc has buses, carriers, generators, links, loads, stores\n"
     ]
    },
    {
     "name": "stdout",
     "output_type": "stream",
     "text": [
      "71 out of 144: ('1496', 2030, 1, 0.2, True, True, 0.5)\n",
      "Check the get_geo(config) function\n",
      "Create and store parameters\n",
      "Check weather files\n",
      "Check renewables data\n",
      "Renewables files do not exist for geography 1496. Please see /input/renewables/generate-renewables.ipynb\n",
      "Create and store demand\n",
      "Create and store network\n",
      "Using config:\n",
      "\tself-sufficiency:1\n",
      "\th2:True\n",
      "\toffwind:True\n",
      "\tbiogas:1\n"
     ]
    },
    {
     "name": "stderr",
     "output_type": "stream",
     "text": [
      "INFO:pypsa.io:Exported network network.nc has buses, links, loads, stores, generators, carriers\n"
     ]
    },
    {
     "name": "stdout",
     "output_type": "stream",
     "text": [
      "Run optimization\n"
     ]
    },
    {
     "name": "stderr",
     "output_type": "stream",
     "text": [
      "INFO:pypsa.io:Imported network network.nc has buses, carriers, generators, links, loads, stores\n",
      "INFO:linopy.model: Solve problem using Highs solver\n",
      "INFO:linopy.io:Writing objective.\n",
      "Writing constraints.: 100%|\u001b[38;2;128;191;255m██████████\u001b[0m| 18/18 [00:00<00:00, 31.53it/s]\n",
      "Writing continuous variables.: 100%|\u001b[38;2;128;191;255m██████████\u001b[0m| 9/9 [00:00<00:00, 84.26it/s]\n",
      "Writing integer variables.: 100%|\u001b[38;2;128;191;255m██████████\u001b[0m| 2/2 [00:00<00:00, 662.61it/s]\n",
      "INFO:linopy.io: Writing time: 0.73s\n",
      "INFO:linopy.solvers:Log file at /tmp/highs.log\n"
     ]
    },
    {
     "name": "stdout",
     "output_type": "stream",
     "text": [
      "Running HiGHS 1.7.2 (git hash: 184e327): Copyright (c) 2024 HiGHS under MIT licence terms\n",
      "Coefficient ranges:\n",
      "  Matrix [9e-08, 1e+02]\n",
      "  Cost   [6e+01, 2e+06]\n",
      "  Bound  [0e+00, 0e+00]\n",
      "  RHS    [4e+01, 1e+02]\n"
     ]
    },
    {
     "name": "stderr",
     "output_type": "stream",
     "text": [
      "INFO:linopy.constants: Optimization successful: \n",
      "Status: ok\n",
      "Termination condition: optimal\n",
      "Solution: 46739 primals, 102222 duals\n",
      "Objective: 5.25e+08\n",
      "Solver model: available\n",
      "Solver message: optimal\n",
      "\n"
     ]
    },
    {
     "name": "stdout",
     "output_type": "stream",
     "text": [
      "Presolving model\n",
      "47519 rows, 41687 cols, 125085 nonzeros  0s\n",
      "37990 rows, 32158 cols, 113005 nonzeros  0s\n",
      "37247 rows, 31415 cols, 115417 nonzeros  0s\n",
      "\n",
      "Solving MIP model with:\n",
      "   37247 rows\n",
      "   31415 cols (0 binary, 5 integer, 0 implied int., 31410 continuous)\n",
      "   115417 nonzeros\n",
      "\n",
      "        Nodes      |    B&B Tree     |            Objective Bounds              |  Dynamic Constraints |       Work      \n",
      "     Proc. InQueue |  Leaves   Expl. | BestBound       BestSol              Gap |   Cuts   InLp Confl. | LpIters     Time\n",
      "\n",
      "         0       0         0   0.00%   -inf            inf                  inf        0      0      0         0     0.3s\n",
      " S       0       0         0   0.00%   -inf            531051595.8292     Large        0      0      0         0    27.5s\n",
      " R       0       0         0   0.00%   524683328.0459  528787583.3107     0.78%        0      0      0     77791    27.9s\n",
      "\n",
      "20.0% inactive integer columns, restarting\n",
      "Model after restart has 32595 rows, 26762 cols (0 bin., 4 int., 0 impl., 26758 cont.), and 106043 nonzeros\n",
      "\n",
      "         0       0         0   0.00%   524683328.0459  528787583.3107     0.78%        0      0      0     77791    28.1s\n",
      " R       0       0         0   0.00%   524683328.0459  524895820.7951     0.04%        0      0      0     77791    28.3s\n",
      "         0       0         0   0.00%   524688809.7383  524895820.7951     0.04%      256      1      0     77817    34.8s\n",
      " L       0       0         0   0.00%   524688809.7383  524866374.3769     0.03%      256      1      0     77817    38.9s\n",
      "\n",
      "25.0% inactive integer columns, restarting\n",
      "Model after restart has 27328 rows, 21494 cols (0 bin., 3 int., 0 impl., 21491 cont.), and 95721 nonzeros\n",
      "\n",
      "         0       0         0   0.00%   524688809.7383  524866374.3769     0.03%        1      0      0     87709    39.2s\n",
      "         0       0         0   0.00%   524688809.7383  524866374.3769     0.03%        1      1      0     89088    40.0s\n",
      " L       0       0         0   0.00%   524695360.301   524865803.9587     0.03%      258     15      0     89132    45.6s\n",
      "\n",
      "Solving report\n",
      "  Status            Optimal\n",
      "  Primal bound      524865803.959\n",
      "  Dual bound        524854394.547\n",
      "  Gap               0.00217% (tolerance: 0.01%)\n",
      "  Solution status   feasible\n",
      "                    524865803.959 (objective)\n",
      "                    0 (bound viol.)\n",
      "                    0 (int. viol.)\n",
      "                    0 (row viol.)\n",
      "  Timing            46.05 (total)\n",
      "                    0.59 (presolve)\n",
      "                    0.00 (postsolve)\n",
      "  Nodes             1\n",
      "  LP iterations     94496 (total)\n",
      "                    456 (strong br.)\n",
      "                    70 (separation)\n",
      "                    14758 (heuristics)\n",
      "Writing the solution to /tmp/linopy-solve-03jc7r2j.sol\n"
     ]
    },
    {
     "name": "stderr",
     "output_type": "stream",
     "text": [
      "INFO:pypsa.optimization.optimize:The shadow-prices of the constraints Generator-ext-p-lower, Generator-ext-p-upper, Link-ext-p-lower, Link-ext-p-upper, Store-ext-e-lower, Store-ext-e-upper, Store-energy_balance, self_sufficiency_constraint were not assigned to the network.\n",
      "INFO:pypsa.io:Exported network network.nc has buses, links, loads, stores, generators, carriers\n",
      "INFO:pypsa.io:Imported network network.nc has buses, carriers, generators, links, loads, stores\n"
     ]
    },
    {
     "name": "stdout",
     "output_type": "stream",
     "text": [
      "72 out of 144: ('1496', 2030, 1, 0.2, True, True, 1)\n",
      "Check the get_geo(config) function\n",
      "Create and store parameters\n",
      "Check weather files\n",
      "Check renewables data\n",
      "Renewables files do not exist for geography 1480. Please see /input/renewables/generate-renewables.ipynb\n",
      "Create and store demand\n",
      "Create and store network\n",
      "Using config:\n",
      "\tself-sufficiency:0.5\n",
      "\th2:True\n",
      "\toffwind:True\n",
      "\tbiogas:0\n"
     ]
    },
    {
     "name": "stderr",
     "output_type": "stream",
     "text": [
      "INFO:pypsa.io:Exported network network.nc has buses, links, loads, stores, generators, carriers\n"
     ]
    },
    {
     "name": "stdout",
     "output_type": "stream",
     "text": [
      "Run optimization\n"
     ]
    },
    {
     "name": "stderr",
     "output_type": "stream",
     "text": [
      "INFO:pypsa.io:Imported network network.nc has buses, carriers, generators, links, loads, stores\n",
      "INFO:linopy.model: Solve problem using Highs solver\n",
      "INFO:linopy.io:Writing objective.\n",
      "Writing constraints.: 100%|\u001b[38;2;128;191;255m██████████\u001b[0m| 18/18 [00:00<00:00, 33.03it/s]\n",
      "Writing continuous variables.: 100%|\u001b[38;2;128;191;255m██████████\u001b[0m| 9/9 [00:00<00:00, 92.87it/s]\n",
      "Writing integer variables.: 100%|\u001b[38;2;128;191;255m██████████\u001b[0m| 2/2 [00:00<00:00, 728.75it/s]\n",
      "INFO:linopy.io: Writing time: 0.69s\n",
      "INFO:linopy.solvers:Log file at /tmp/highs.log\n"
     ]
    },
    {
     "name": "stdout",
     "output_type": "stream",
     "text": [
      "Running HiGHS 1.7.2 (git hash: 184e327): Copyright (c) 2024 HiGHS under MIT licence terms\n"
     ]
    },
    {
     "name": "stderr",
     "output_type": "stream",
     "text": [
      "INFO:linopy.constants: Optimization successful: \n",
      "Status: ok\n",
      "Termination condition: optimal\n",
      "Solution: 43818 primals, 96380 duals\n",
      "Objective: 1.92e+09\n",
      "Solver model: available\n",
      "Solver message: optimal\n",
      "\n"
     ]
    },
    {
     "name": "stdout",
     "output_type": "stream",
     "text": [
      "Coefficient ranges:\n",
      "  Matrix [8e-07, 1e+02]\n",
      "  Cost   [6e+01, 2e+06]\n",
      "  Bound  [0e+00, 0e+00]\n",
      "  RHS    [3e+02, 8e+05]\n",
      "Presolving model\n",
      "44760 rows, 38927 cols, 122634 nonzeros  0s\n",
      "38188 rows, 32355 cols, 113590 nonzeros  0s\n",
      "37448 rows, 31615 cols, 116028 nonzeros  0s\n",
      "\n",
      "Solving MIP model with:\n",
      "   37448 rows\n",
      "   31615 cols (0 binary, 5 integer, 0 implied int., 31610 continuous)\n",
      "   116028 nonzeros\n",
      "\n",
      "        Nodes      |    B&B Tree     |            Objective Bounds              |  Dynamic Constraints |       Work      \n",
      "     Proc. InQueue |  Leaves   Expl. | BestBound       BestSol              Gap |   Cuts   InLp Confl. | LpIters     Time\n",
      "\n",
      "         0       0         0   0.00%   -inf            inf                  inf        0      0      0         0     0.2s\n",
      " S       0       0         0   0.00%   -inf            1922594995.648     Large        0      0      0         0    17.3s\n",
      " R       0       0         0   0.00%   1919323703.459  1919335659.043     0.00%        0      0      0     48437    17.6s\n",
      "\n",
      "Solving report\n",
      "  Status            Optimal\n",
      "  Primal bound      1919335659.04\n",
      "  Dual bound        1919323703.46\n",
      "  Gap               0.000623% (tolerance: 0.01%)\n",
      "  Solution status   feasible\n",
      "                    1919335659.04 (objective)\n",
      "                    0 (bound viol.)\n",
      "                    0 (int. viol.)\n",
      "                    0 (row viol.)\n",
      "  Timing            17.60 (total)\n",
      "                    0.20 (presolve)\n",
      "                    0.00 (postsolve)\n",
      "  Nodes             1\n",
      "  LP iterations     48437 (total)\n",
      "                    0 (strong br.)\n",
      "                    0 (separation)\n",
      "                    0 (heuristics)\n",
      "Writing the solution to /tmp/linopy-solve-rbv4cge4.sol\n"
     ]
    },
    {
     "name": "stderr",
     "output_type": "stream",
     "text": [
      "INFO:pypsa.optimization.optimize:The shadow-prices of the constraints Generator-ext-p-lower, Generator-ext-p-upper, Link-ext-p-lower, Link-ext-p-upper, Store-ext-e-lower, Store-ext-e-upper, Store-energy_balance, self_sufficiency_constraint were not assigned to the network.\n",
      "INFO:pypsa.io:Exported network network.nc has buses, links, loads, stores, generators, carriers\n",
      "INFO:pypsa.io:Imported network network.nc has buses, carriers, generators, links, loads, stores\n"
     ]
    },
    {
     "name": "stdout",
     "output_type": "stream",
     "text": [
      "73 out of 144: ('1480', 2030, 0.5, -0.2, True, True, 0)\n",
      "Check the get_geo(config) function\n",
      "Create and store parameters\n",
      "Check weather files\n",
      "Check renewables data\n",
      "Renewables files do not exist for geography 1480. Please see /input/renewables/generate-renewables.ipynb\n",
      "Create and store demand\n",
      "Create and store network\n",
      "Using config:\n",
      "\tself-sufficiency:0.5\n",
      "\th2:True\n",
      "\toffwind:True\n",
      "\tbiogas:0.5\n"
     ]
    },
    {
     "name": "stderr",
     "output_type": "stream",
     "text": [
      "INFO:pypsa.io:Exported network network.nc has buses, links, loads, stores, generators, carriers\n"
     ]
    },
    {
     "name": "stdout",
     "output_type": "stream",
     "text": [
      "Run optimization\n"
     ]
    },
    {
     "name": "stderr",
     "output_type": "stream",
     "text": [
      "INFO:pypsa.io:Imported network network.nc has buses, carriers, generators, links, loads, stores\n",
      "INFO:linopy.model: Solve problem using Highs solver\n",
      "INFO:linopy.io:Writing objective.\n",
      "Writing constraints.: 100%|\u001b[38;2;128;191;255m██████████\u001b[0m| 18/18 [00:00<00:00, 30.14it/s]\n",
      "Writing continuous variables.: 100%|\u001b[38;2;128;191;255m██████████\u001b[0m| 9/9 [00:00<00:00, 77.87it/s]\n",
      "Writing integer variables.: 100%|\u001b[38;2;128;191;255m██████████\u001b[0m| 2/2 [00:00<00:00, 547.70it/s]\n",
      "INFO:linopy.io: Writing time: 0.77s\n",
      "INFO:linopy.solvers:Log file at /tmp/highs.log\n"
     ]
    },
    {
     "name": "stdout",
     "output_type": "stream",
     "text": [
      "Running HiGHS 1.7.2 (git hash: 184e327): Copyright (c) 2024 HiGHS under MIT licence terms\n"
     ]
    },
    {
     "name": "stderr",
     "output_type": "stream",
     "text": [
      "INFO:linopy.constants: Optimization successful: \n",
      "Status: ok\n",
      "Termination condition: optimal\n",
      "Solution: 46739 primals, 102222 duals\n",
      "Objective: 1.92e+09\n",
      "Solver model: available\n",
      "Solver message: optimal\n",
      "\n",
      "INFO:pypsa.optimization.optimize:The shadow-prices of the constraints Generator-ext-p-lower, Generator-ext-p-upper, Link-ext-p-lower, Link-ext-p-upper, Store-ext-e-lower, Store-ext-e-upper, Store-energy_balance, self_sufficiency_constraint were not assigned to the network.\n"
     ]
    },
    {
     "name": "stdout",
     "output_type": "stream",
     "text": [
      "Coefficient ranges:\n",
      "  Matrix [8e-07, 1e+02]\n",
      "  Cost   [6e+01, 2e+06]\n",
      "  Bound  [0e+00, 0e+00]\n",
      "  RHS    [3e+02, 8e+05]\n",
      "Presolving model\n",
      "47680 rows, 44767 cols, 131394 nonzeros  0s\n",
      "38195 rows, 35282 cols, 119395 nonzeros  0s\n",
      "37459 rows, 34546 cols, 121771 nonzeros  0s\n",
      "\n",
      "Solving MIP model with:\n",
      "   37459 rows\n",
      "   34546 cols (0 binary, 5 integer, 0 implied int., 34541 continuous)\n",
      "   121771 nonzeros\n",
      "\n",
      "        Nodes      |    B&B Tree     |            Objective Bounds              |  Dynamic Constraints |       Work      \n",
      "     Proc. InQueue |  Leaves   Expl. | BestBound       BestSol              Gap |   Cuts   InLp Confl. | LpIters     Time\n",
      "\n",
      "         0       0         0   0.00%   -inf            inf                  inf        0      0      0         0     0.3s\n",
      " S       0       0         0   0.00%   -inf            1922594995.648     Large        0      0      0         0    16.8s\n",
      " R       0       0         0   0.00%   1919323703.459  1919335659.043     0.00%        0      0      0     47172    17.0s\n",
      "\n",
      "Solving report\n",
      "  Status            Optimal\n",
      "  Primal bound      1919335659.04\n",
      "  Dual bound        1919323703.46\n",
      "  Gap               0.000623% (tolerance: 0.01%)\n",
      "  Solution status   feasible\n",
      "                    1919335659.04 (objective)\n",
      "                    0 (bound viol.)\n",
      "                    1.85168867435e-17 (int. viol.)\n",
      "                    0 (row viol.)\n",
      "  Timing            17.01 (total)\n",
      "                    0.28 (presolve)\n",
      "                    0.00 (postsolve)\n",
      "  Nodes             1\n",
      "  LP iterations     47172 (total)\n",
      "                    0 (strong br.)\n",
      "                    0 (separation)\n",
      "                    0 (heuristics)\n",
      "Writing the solution to /tmp/linopy-solve-der83uzm.sol\n"
     ]
    },
    {
     "name": "stderr",
     "output_type": "stream",
     "text": [
      "INFO:pypsa.io:Exported network network.nc has buses, links, loads, stores, generators, carriers\n",
      "INFO:pypsa.io:Imported network network.nc has buses, carriers, generators, links, loads, stores\n"
     ]
    },
    {
     "name": "stdout",
     "output_type": "stream",
     "text": [
      "74 out of 144: ('1480', 2030, 0.5, -0.2, True, True, 0.5)\n",
      "Check the get_geo(config) function\n",
      "Create and store parameters\n",
      "Check weather files\n",
      "Check renewables data\n",
      "Renewables files do not exist for geography 1480. Please see /input/renewables/generate-renewables.ipynb\n",
      "Create and store demand\n",
      "Create and store network\n",
      "Using config:\n",
      "\tself-sufficiency:0.5\n",
      "\th2:True\n",
      "\toffwind:True\n",
      "\tbiogas:1\n"
     ]
    },
    {
     "name": "stderr",
     "output_type": "stream",
     "text": [
      "INFO:pypsa.io:Exported network network.nc has buses, links, loads, stores, generators, carriers\n"
     ]
    },
    {
     "name": "stdout",
     "output_type": "stream",
     "text": [
      "Run optimization\n"
     ]
    },
    {
     "name": "stderr",
     "output_type": "stream",
     "text": [
      "INFO:pypsa.io:Imported network network.nc has buses, carriers, generators, links, loads, stores\n",
      "INFO:linopy.model: Solve problem using Highs solver\n",
      "INFO:linopy.io:Writing objective.\n",
      "Writing constraints.: 100%|\u001b[38;2;128;191;255m██████████\u001b[0m| 18/18 [00:00<00:00, 31.64it/s]\n",
      "Writing continuous variables.: 100%|\u001b[38;2;128;191;255m██████████\u001b[0m| 9/9 [00:00<00:00, 91.76it/s]\n",
      "Writing integer variables.: 100%|\u001b[38;2;128;191;255m██████████\u001b[0m| 2/2 [00:00<00:00, 718.57it/s]\n",
      "INFO:linopy.io: Writing time: 0.71s\n",
      "INFO:linopy.solvers:Log file at /tmp/highs.log\n"
     ]
    },
    {
     "name": "stdout",
     "output_type": "stream",
     "text": [
      "Running HiGHS 1.7.2 (git hash: 184e327): Copyright (c) 2024 HiGHS under MIT licence terms\n"
     ]
    },
    {
     "name": "stderr",
     "output_type": "stream",
     "text": [
      "INFO:linopy.constants: Optimization successful: \n",
      "Status: ok\n",
      "Termination condition: optimal\n",
      "Solution: 46739 primals, 102222 duals\n",
      "Objective: 1.92e+09\n",
      "Solver model: available\n",
      "Solver message: optimal\n",
      "\n",
      "INFO:pypsa.optimization.optimize:The shadow-prices of the constraints Generator-ext-p-lower, Generator-ext-p-upper, Link-ext-p-lower, Link-ext-p-upper, Store-ext-e-lower, Store-ext-e-upper, Store-energy_balance, self_sufficiency_constraint were not assigned to the network.\n"
     ]
    },
    {
     "name": "stdout",
     "output_type": "stream",
     "text": [
      "Coefficient ranges:\n",
      "  Matrix [8e-07, 1e+02]\n",
      "  Cost   [6e+01, 2e+06]\n",
      "  Bound  [0e+00, 0e+00]\n",
      "  RHS    [3e+02, 8e+05]\n",
      "Presolving model\n",
      "47680 rows, 44767 cols, 131394 nonzeros  0s\n",
      "38195 rows, 35282 cols, 119395 nonzeros  0s\n",
      "37459 rows, 34546 cols, 121771 nonzeros  0s\n",
      "\n",
      "Solving MIP model with:\n",
      "   37459 rows\n",
      "   34546 cols (0 binary, 5 integer, 0 implied int., 34541 continuous)\n",
      "   121771 nonzeros\n",
      "\n",
      "        Nodes      |    B&B Tree     |            Objective Bounds              |  Dynamic Constraints |       Work      \n",
      "     Proc. InQueue |  Leaves   Expl. | BestBound       BestSol              Gap |   Cuts   InLp Confl. | LpIters     Time\n",
      "\n",
      "         0       0         0   0.00%   -inf            inf                  inf        0      0      0         0     0.3s\n",
      " S       0       0         0   0.00%   -inf            1922594995.648     Large        0      0      0         0    16.7s\n",
      " R       0       0         0   0.00%   1919323703.459  1919335659.043     0.00%        0      0      0     46644    16.9s\n",
      "\n",
      "Solving report\n",
      "  Status            Optimal\n",
      "  Primal bound      1919335659.04\n",
      "  Dual bound        1919323703.46\n",
      "  Gap               0.000623% (tolerance: 0.01%)\n",
      "  Solution status   feasible\n",
      "                    1919335659.04 (objective)\n",
      "                    0 (bound viol.)\n",
      "                    0 (int. viol.)\n",
      "                    0 (row viol.)\n",
      "  Timing            16.93 (total)\n",
      "                    0.26 (presolve)\n",
      "                    0.00 (postsolve)\n",
      "  Nodes             1\n",
      "  LP iterations     46644 (total)\n",
      "                    0 (strong br.)\n",
      "                    0 (separation)\n",
      "                    0 (heuristics)\n",
      "Writing the solution to /tmp/linopy-solve-r6j96hpb.sol\n"
     ]
    },
    {
     "name": "stderr",
     "output_type": "stream",
     "text": [
      "INFO:pypsa.io:Exported network network.nc has buses, links, loads, stores, generators, carriers\n",
      "INFO:pypsa.io:Imported network network.nc has buses, carriers, generators, links, loads, stores\n",
      "/home/viktor/code/pypsa-vgr/generator/library/api/generators_core.py:51: RuntimeWarning:\n",
      "\n",
      "invalid value encountered in scalar divide\n",
      "\n"
     ]
    },
    {
     "name": "stdout",
     "output_type": "stream",
     "text": [
      "75 out of 144: ('1480', 2030, 0.5, -0.2, True, True, 1)\n",
      "Check the get_geo(config) function\n",
      "Create and store parameters\n",
      "Check weather files\n",
      "Check renewables data\n",
      "Renewables files do not exist for geography 1480. Please see /input/renewables/generate-renewables.ipynb\n",
      "Create and store demand\n",
      "Create and store network\n",
      "Using config:\n",
      "\tself-sufficiency:0.5\n",
      "\th2:True\n",
      "\toffwind:True\n",
      "\tbiogas:0\n"
     ]
    },
    {
     "name": "stderr",
     "output_type": "stream",
     "text": [
      "INFO:pypsa.io:Exported network network.nc has buses, links, loads, stores, generators, carriers\n"
     ]
    },
    {
     "name": "stdout",
     "output_type": "stream",
     "text": [
      "Run optimization\n"
     ]
    },
    {
     "name": "stderr",
     "output_type": "stream",
     "text": [
      "INFO:pypsa.io:Imported network network.nc has buses, carriers, generators, links, loads, stores\n",
      "INFO:linopy.model: Solve problem using Highs solver\n",
      "INFO:linopy.io:Writing objective.\n",
      "Writing constraints.: 100%|\u001b[38;2;128;191;255m██████████\u001b[0m| 18/18 [00:00<00:00, 32.89it/s]\n",
      "Writing continuous variables.: 100%|\u001b[38;2;128;191;255m██████████\u001b[0m| 9/9 [00:00<00:00, 99.49it/s]\n",
      "Writing integer variables.: 100%|\u001b[38;2;128;191;255m██████████\u001b[0m| 2/2 [00:00<00:00, 603.37it/s]\n",
      "INFO:linopy.io: Writing time: 0.68s\n",
      "INFO:linopy.solvers:Log file at /tmp/highs.log\n"
     ]
    },
    {
     "name": "stdout",
     "output_type": "stream",
     "text": [
      "Running HiGHS 1.7.2 (git hash: 184e327): Copyright (c) 2024 HiGHS under MIT licence terms\n"
     ]
    },
    {
     "name": "stderr",
     "output_type": "stream",
     "text": [
      "INFO:linopy.constants: Optimization successful: \n",
      "Status: ok\n",
      "Termination condition: optimal\n",
      "Solution: 43818 primals, 96380 duals\n",
      "Objective: 2.40e+09\n",
      "Solver model: available\n",
      "Solver message: optimal\n",
      "\n",
      "INFO:pypsa.optimization.optimize:The shadow-prices of the constraints Generator-ext-p-lower, Generator-ext-p-upper, Link-ext-p-lower, Link-ext-p-upper, Store-ext-e-lower, Store-ext-e-upper, Store-energy_balance, self_sufficiency_constraint were not assigned to the network.\n"
     ]
    },
    {
     "name": "stdout",
     "output_type": "stream",
     "text": [
      "Coefficient ranges:\n",
      "  Matrix [8e-07, 1e+02]\n",
      "  Cost   [6e+01, 2e+06]\n",
      "  Bound  [0e+00, 0e+00]\n",
      "  RHS    [4e+02, 1e+06]\n",
      "Presolving model\n",
      "44760 rows, 38927 cols, 122634 nonzeros  0s\n",
      "38188 rows, 32355 cols, 113590 nonzeros  0s\n",
      "37448 rows, 31615 cols, 116028 nonzeros  0s\n",
      "\n",
      "Solving MIP model with:\n",
      "   37448 rows\n",
      "   31615 cols (0 binary, 5 integer, 0 implied int., 31610 continuous)\n",
      "   116028 nonzeros\n",
      "\n",
      "        Nodes      |    B&B Tree     |            Objective Bounds              |  Dynamic Constraints |       Work      \n",
      "     Proc. InQueue |  Leaves   Expl. | BestBound       BestSol              Gap |   Cuts   InLp Confl. | LpIters     Time\n",
      "\n",
      "         0       0         0   0.00%   -inf            inf                  inf        0      0      0         0     0.3s\n",
      " S       0       0         0   0.00%   -inf            2403243744.561     Large        0      0      0         0    17.6s\n",
      " R       0       0         0   0.00%   2399154629.324  2399169573.804     0.00%        0      0      0     50813    17.9s\n",
      "\n",
      "Solving report\n",
      "  Status            Optimal\n",
      "  Primal bound      2399169573.8\n",
      "  Dual bound        2399154629.32\n",
      "  Gap               0.000623% (tolerance: 0.01%)\n",
      "  Solution status   feasible\n",
      "                    2399169573.8 (objective)\n",
      "                    0 (bound viol.)\n",
      "                    0 (int. viol.)\n",
      "                    0 (row viol.)\n",
      "  Timing            17.90 (total)\n",
      "                    0.26 (presolve)\n",
      "                    0.00 (postsolve)\n",
      "  Nodes             1\n",
      "  LP iterations     50813 (total)\n",
      "                    0 (strong br.)\n",
      "                    0 (separation)\n",
      "                    0 (heuristics)\n",
      "Writing the solution to /tmp/linopy-solve-xnz5hstq.sol\n"
     ]
    },
    {
     "name": "stderr",
     "output_type": "stream",
     "text": [
      "INFO:pypsa.io:Exported network network.nc has buses, links, loads, stores, generators, carriers\n",
      "INFO:pypsa.io:Imported network network.nc has buses, carriers, generators, links, loads, stores\n"
     ]
    },
    {
     "name": "stdout",
     "output_type": "stream",
     "text": [
      "76 out of 144: ('1480', 2030, 0.5, 0, True, True, 0)\n",
      "Check the get_geo(config) function\n",
      "Create and store parameters\n",
      "Check weather files\n",
      "Check renewables data\n",
      "Renewables files do not exist for geography 1480. Please see /input/renewables/generate-renewables.ipynb\n",
      "Create and store demand\n",
      "Create and store network\n",
      "Using config:\n",
      "\tself-sufficiency:0.5\n",
      "\th2:True\n",
      "\toffwind:True\n",
      "\tbiogas:0.5\n"
     ]
    },
    {
     "name": "stderr",
     "output_type": "stream",
     "text": [
      "INFO:pypsa.io:Exported network network.nc has buses, links, loads, stores, generators, carriers\n"
     ]
    },
    {
     "name": "stdout",
     "output_type": "stream",
     "text": [
      "Run optimization\n"
     ]
    },
    {
     "name": "stderr",
     "output_type": "stream",
     "text": [
      "INFO:pypsa.io:Imported network network.nc has buses, carriers, generators, links, loads, stores\n",
      "INFO:linopy.model: Solve problem using Highs solver\n",
      "INFO:linopy.io:Writing objective.\n",
      "Writing constraints.: 100%|\u001b[38;2;128;191;255m██████████\u001b[0m| 18/18 [00:00<00:00, 29.56it/s]\n",
      "Writing continuous variables.: 100%|\u001b[38;2;128;191;255m██████████\u001b[0m| 9/9 [00:00<00:00, 73.53it/s]\n",
      "Writing integer variables.: 100%|\u001b[38;2;128;191;255m██████████\u001b[0m| 2/2 [00:00<00:00, 480.81it/s]\n",
      "INFO:linopy.io: Writing time: 0.8s\n",
      "INFO:linopy.solvers:Log file at /tmp/highs.log\n"
     ]
    },
    {
     "name": "stdout",
     "output_type": "stream",
     "text": [
      "Running HiGHS 1.7.2 (git hash: 184e327): Copyright (c) 2024 HiGHS under MIT licence terms\n",
      "Coefficient ranges:\n",
      "  Matrix [8e-07, 1e+02]\n",
      "  Cost   [6e+01, 2e+06]\n",
      "  Bound  [0e+00, 0e+00]\n",
      "  RHS    [4e+02, 1e+06]\n"
     ]
    },
    {
     "name": "stderr",
     "output_type": "stream",
     "text": [
      "INFO:linopy.constants: Optimization successful: \n",
      "Status: ok\n",
      "Termination condition: optimal\n",
      "Solution: 46739 primals, 102222 duals\n",
      "Objective: 2.40e+09\n",
      "Solver model: available\n",
      "Solver message: optimal\n",
      "\n"
     ]
    },
    {
     "name": "stdout",
     "output_type": "stream",
     "text": [
      "Presolving model\n",
      "47680 rows, 44767 cols, 131394 nonzeros  0s\n",
      "38195 rows, 35282 cols, 119395 nonzeros  0s\n",
      "37459 rows, 34546 cols, 121771 nonzeros  0s\n",
      "\n",
      "Solving MIP model with:\n",
      "   37459 rows\n",
      "   34546 cols (0 binary, 5 integer, 0 implied int., 34541 continuous)\n",
      "   121771 nonzeros\n",
      "\n",
      "        Nodes      |    B&B Tree     |            Objective Bounds              |  Dynamic Constraints |       Work      \n",
      "     Proc. InQueue |  Leaves   Expl. | BestBound       BestSol              Gap |   Cuts   InLp Confl. | LpIters     Time\n",
      "\n",
      "         0       0         0   0.00%   -inf            inf                  inf        0      0      0         0     0.3s\n",
      " S       0       0         0   0.00%   -inf            2403243744.561     Large        0      0      0         0    18.1s\n",
      " R       0       0         0   0.00%   2399154629.324  2399169573.804     0.00%        0      0      0     49713    18.3s\n",
      "\n",
      "Solving report\n",
      "  Status            Optimal\n",
      "  Primal bound      2399169573.8\n",
      "  Dual bound        2399154629.32\n",
      "  Gap               0.000623% (tolerance: 0.01%)\n",
      "  Solution status   feasible\n",
      "                    2399169573.8 (objective)\n",
      "                    0 (bound viol.)\n",
      "                    3.00790445609e-15 (int. viol.)\n",
      "                    0 (row viol.)\n",
      "  Timing            18.32 (total)\n",
      "                    0.24 (presolve)\n",
      "                    0.00 (postsolve)\n",
      "  Nodes             1\n",
      "  LP iterations     49713 (total)\n",
      "                    0 (strong br.)\n",
      "                    0 (separation)\n",
      "                    0 (heuristics)\n",
      "Writing the solution to /tmp/linopy-solve-ns8em960.sol\n"
     ]
    },
    {
     "name": "stderr",
     "output_type": "stream",
     "text": [
      "INFO:pypsa.optimization.optimize:The shadow-prices of the constraints Generator-ext-p-lower, Generator-ext-p-upper, Link-ext-p-lower, Link-ext-p-upper, Store-ext-e-lower, Store-ext-e-upper, Store-energy_balance, self_sufficiency_constraint were not assigned to the network.\n",
      "INFO:pypsa.io:Exported network network.nc has buses, links, loads, stores, generators, carriers\n",
      "INFO:pypsa.io:Imported network network.nc has buses, carriers, generators, links, loads, stores\n"
     ]
    },
    {
     "name": "stdout",
     "output_type": "stream",
     "text": [
      "77 out of 144: ('1480', 2030, 0.5, 0, True, True, 0.5)\n",
      "Check the get_geo(config) function\n",
      "Create and store parameters\n",
      "Check weather files\n",
      "Check renewables data\n",
      "Renewables files do not exist for geography 1480. Please see /input/renewables/generate-renewables.ipynb\n",
      "Create and store demand\n",
      "Create and store network\n",
      "Using config:\n",
      "\tself-sufficiency:0.5\n",
      "\th2:True\n",
      "\toffwind:True\n",
      "\tbiogas:1\n"
     ]
    },
    {
     "name": "stderr",
     "output_type": "stream",
     "text": [
      "INFO:pypsa.io:Exported network network.nc has buses, links, loads, stores, generators, carriers\n"
     ]
    },
    {
     "name": "stdout",
     "output_type": "stream",
     "text": [
      "Run optimization\n"
     ]
    },
    {
     "name": "stderr",
     "output_type": "stream",
     "text": [
      "INFO:pypsa.io:Imported network network.nc has buses, carriers, generators, links, loads, stores\n",
      "INFO:linopy.model: Solve problem using Highs solver\n",
      "INFO:linopy.io:Writing objective.\n",
      "Writing constraints.: 100%|\u001b[38;2;128;191;255m██████████\u001b[0m| 18/18 [00:00<00:00, 29.62it/s]\n",
      "Writing continuous variables.: 100%|\u001b[38;2;128;191;255m██████████\u001b[0m| 9/9 [00:00<00:00, 90.36it/s]\n",
      "Writing integer variables.: 100%|\u001b[38;2;128;191;255m██████████\u001b[0m| 2/2 [00:00<00:00, 499.59it/s]\n",
      "INFO:linopy.io: Writing time: 0.76s\n",
      "INFO:linopy.solvers:Log file at /tmp/highs.log\n"
     ]
    },
    {
     "name": "stdout",
     "output_type": "stream",
     "text": [
      "Running HiGHS 1.7.2 (git hash: 184e327): Copyright (c) 2024 HiGHS under MIT licence terms\n",
      "Coefficient ranges:\n",
      "  Matrix [8e-07, 1e+02]\n",
      "  Cost   [6e+01, 2e+06]\n",
      "  Bound  [0e+00, 0e+00]\n",
      "  RHS    [4e+02, 1e+06]\n",
      "Presolving model\n",
      "47680 rows, 44767 cols, 131394 nonzeros  0s\n",
      "38195 rows, 35282 cols, 119395 nonzeros  0s\n",
      "37459 rows, 34546 cols, 121771 nonzeros  0s\n",
      "\n",
      "Solving MIP model with:\n",
      "   37459 rows\n",
      "   34546 cols (0 binary, 5 integer, 0 implied int., 34541 continuous)\n",
      "   121771 nonzeros\n",
      "\n",
      "        Nodes      |    B&B Tree     |            Objective Bounds              |  Dynamic Constraints |       Work      \n",
      "     Proc. InQueue |  Leaves   Expl. | BestBound       BestSol              Gap |   Cuts   InLp Confl. | LpIters     Time\n",
      "\n",
      "         0       0         0   0.00%   -inf            inf                  inf        0      0      0         0     0.3s\n",
      " S       0       0         0   0.00%   -inf            2403243744.561     Large        0      0      0         0    18.2s\n",
      " R       0       0         0   0.00%   2399154629.324  2399169573.804     0.00%        0      0      0     48328    18.4s\n",
      "\n",
      "Solving report\n",
      "  Status            Optimal\n",
      "  Primal bound      2399169573.8\n",
      "  Dual bound        2399154629.32\n",
      "  Gap               0.000623% (tolerance: 0.01%)\n",
      "  Solution status   feasible\n",
      "                    2399169573.8 (objective)\n",
      "                    0 (bound viol.)\n",
      "                    0 (int. viol.)\n",
      "                    0 (row viol.)\n",
      "  Timing            18.45 (total)\n",
      "                    0.28 (presolve)\n",
      "                    0.00 (postsolve)\n",
      "  Nodes             1\n",
      "  LP iterations     48328 (total)\n",
      "                    0 (strong br.)\n",
      "                    0 (separation)\n",
      "                    0 (heuristics)\n",
      "Writing the solution to /tmp/linopy-solve-ahrx7nms.sol\n"
     ]
    },
    {
     "name": "stderr",
     "output_type": "stream",
     "text": [
      "INFO:linopy.constants: Optimization successful: \n",
      "Status: ok\n",
      "Termination condition: optimal\n",
      "Solution: 46739 primals, 102222 duals\n",
      "Objective: 2.40e+09\n",
      "Solver model: available\n",
      "Solver message: optimal\n",
      "\n",
      "INFO:pypsa.optimization.optimize:The shadow-prices of the constraints Generator-ext-p-lower, Generator-ext-p-upper, Link-ext-p-lower, Link-ext-p-upper, Store-ext-e-lower, Store-ext-e-upper, Store-energy_balance, self_sufficiency_constraint were not assigned to the network.\n",
      "INFO:pypsa.io:Exported network network.nc has buses, links, loads, stores, generators, carriers\n",
      "INFO:pypsa.io:Imported network network.nc has buses, carriers, generators, links, loads, stores\n",
      "/home/viktor/code/pypsa-vgr/generator/library/api/generators_core.py:51: RuntimeWarning:\n",
      "\n",
      "invalid value encountered in scalar divide\n",
      "\n"
     ]
    },
    {
     "name": "stdout",
     "output_type": "stream",
     "text": [
      "78 out of 144: ('1480', 2030, 0.5, 0, True, True, 1)\n",
      "Check the get_geo(config) function\n",
      "Create and store parameters\n",
      "Check weather files\n",
      "Check renewables data\n",
      "Renewables files do not exist for geography 1480. Please see /input/renewables/generate-renewables.ipynb\n",
      "Create and store demand\n",
      "Create and store network\n",
      "Using config:\n",
      "\tself-sufficiency:0.5\n",
      "\th2:True\n",
      "\toffwind:True\n",
      "\tbiogas:0\n"
     ]
    },
    {
     "name": "stderr",
     "output_type": "stream",
     "text": [
      "INFO:pypsa.io:Exported network network.nc has buses, links, loads, stores, generators, carriers\n"
     ]
    },
    {
     "name": "stdout",
     "output_type": "stream",
     "text": [
      "Run optimization\n"
     ]
    },
    {
     "name": "stderr",
     "output_type": "stream",
     "text": [
      "INFO:pypsa.io:Imported network network.nc has buses, carriers, generators, links, loads, stores\n",
      "INFO:linopy.model: Solve problem using Highs solver\n",
      "INFO:linopy.io:Writing objective.\n",
      "Writing constraints.: 100%|\u001b[38;2;128;191;255m██████████\u001b[0m| 18/18 [00:00<00:00, 36.86it/s]\n",
      "Writing continuous variables.: 100%|\u001b[38;2;128;191;255m██████████\u001b[0m| 9/9 [00:00<00:00, 81.16it/s]\n",
      "Writing integer variables.: 100%|\u001b[38;2;128;191;255m██████████\u001b[0m| 2/2 [00:00<00:00, 532.37it/s]\n",
      "INFO:linopy.io: Writing time: 0.65s\n",
      "INFO:linopy.solvers:Log file at /tmp/highs.log\n"
     ]
    },
    {
     "name": "stdout",
     "output_type": "stream",
     "text": [
      "Running HiGHS 1.7.2 (git hash: 184e327): Copyright (c) 2024 HiGHS under MIT licence terms\n"
     ]
    },
    {
     "name": "stderr",
     "output_type": "stream",
     "text": [
      "INFO:linopy.constants: Optimization successful: \n",
      "Status: ok\n",
      "Termination condition: optimal\n",
      "Solution: 43818 primals, 96380 duals\n",
      "Objective: 2.88e+09\n",
      "Solver model: available\n",
      "Solver message: optimal\n",
      "\n"
     ]
    },
    {
     "name": "stdout",
     "output_type": "stream",
     "text": [
      "Coefficient ranges:\n",
      "  Matrix [8e-07, 1e+02]\n",
      "  Cost   [6e+01, 2e+06]\n",
      "  Bound  [0e+00, 0e+00]\n",
      "  RHS    [5e+02, 1e+06]\n",
      "Presolving model\n",
      "44760 rows, 38927 cols, 122634 nonzeros  0s\n",
      "38188 rows, 32355 cols, 113590 nonzeros  0s\n",
      "37448 rows, 31615 cols, 116028 nonzeros  0s\n",
      "\n",
      "Solving MIP model with:\n",
      "   37448 rows\n",
      "   31615 cols (0 binary, 5 integer, 0 implied int., 31610 continuous)\n",
      "   116028 nonzeros\n",
      "\n",
      "        Nodes      |    B&B Tree     |            Objective Bounds              |  Dynamic Constraints |       Work      \n",
      "     Proc. InQueue |  Leaves   Expl. | BestBound       BestSol              Gap |   Cuts   InLp Confl. | LpIters     Time\n",
      "\n",
      "         0       0         0   0.00%   -inf            inf                  inf        0      0      0         0     0.3s\n",
      " S       0       0         0   0.00%   -inf            2879608483.92      Large        0      0      0         0    17.6s\n",
      " R       0       0         0   0.00%   2878985555.189  2878986034.896     0.00%        0      0      0     46576    17.8s\n",
      "\n",
      "Solving report\n",
      "  Status            Optimal\n",
      "  Primal bound      2878986034.9\n",
      "  Dual bound        2878985555.19\n",
      "  Gap               1.7e-05% (tolerance: 0.01%)\n",
      "  Solution status   feasible\n",
      "                    2878986034.9 (objective)\n",
      "                    0 (bound viol.)\n",
      "                    0 (int. viol.)\n",
      "                    0 (row viol.)\n",
      "  Timing            17.82 (total)\n",
      "                    0.25 (presolve)\n",
      "                    0.00 (postsolve)\n",
      "  Nodes             1\n",
      "  LP iterations     46576 (total)\n",
      "                    0 (strong br.)\n",
      "                    0 (separation)\n",
      "                    0 (heuristics)\n",
      "Writing the solution to /tmp/linopy-solve-6wwt2fz4.sol\n"
     ]
    },
    {
     "name": "stderr",
     "output_type": "stream",
     "text": [
      "INFO:pypsa.optimization.optimize:The shadow-prices of the constraints Generator-ext-p-lower, Generator-ext-p-upper, Link-ext-p-lower, Link-ext-p-upper, Store-ext-e-lower, Store-ext-e-upper, Store-energy_balance, self_sufficiency_constraint were not assigned to the network.\n",
      "INFO:pypsa.io:Exported network network.nc has buses, links, loads, stores, generators, carriers\n",
      "INFO:pypsa.io:Imported network network.nc has buses, carriers, generators, links, loads, stores\n"
     ]
    },
    {
     "name": "stdout",
     "output_type": "stream",
     "text": [
      "79 out of 144: ('1480', 2030, 0.5, 0.2, True, True, 0)\n",
      "Check the get_geo(config) function\n",
      "Create and store parameters\n",
      "Check weather files\n",
      "Check renewables data\n",
      "Renewables files do not exist for geography 1480. Please see /input/renewables/generate-renewables.ipynb\n",
      "Create and store demand\n",
      "Create and store network\n",
      "Using config:\n",
      "\tself-sufficiency:0.5\n",
      "\th2:True\n",
      "\toffwind:True\n",
      "\tbiogas:0.5\n"
     ]
    },
    {
     "name": "stderr",
     "output_type": "stream",
     "text": [
      "INFO:pypsa.io:Exported network network.nc has buses, links, loads, stores, generators, carriers\n"
     ]
    },
    {
     "name": "stdout",
     "output_type": "stream",
     "text": [
      "Run optimization\n"
     ]
    },
    {
     "name": "stderr",
     "output_type": "stream",
     "text": [
      "INFO:pypsa.io:Imported network network.nc has buses, carriers, generators, links, loads, stores\n",
      "INFO:linopy.model: Solve problem using Highs solver\n",
      "INFO:linopy.io:Writing objective.\n",
      "Writing constraints.: 100%|\u001b[38;2;128;191;255m██████████\u001b[0m| 18/18 [00:00<00:00, 24.92it/s]\n",
      "Writing continuous variables.: 100%|\u001b[38;2;128;191;255m██████████\u001b[0m| 9/9 [00:00<00:00, 78.88it/s]\n",
      "Writing integer variables.: 100%|\u001b[38;2;128;191;255m██████████\u001b[0m| 2/2 [00:00<00:00, 483.27it/s]\n",
      "INFO:linopy.io: Writing time: 0.91s\n",
      "INFO:linopy.solvers:Log file at /tmp/highs.log\n"
     ]
    },
    {
     "name": "stdout",
     "output_type": "stream",
     "text": [
      "Running HiGHS 1.7.2 (git hash: 184e327): Copyright (c) 2024 HiGHS under MIT licence terms\n",
      "Coefficient ranges:\n",
      "  Matrix [8e-07, 1e+02]\n",
      "  Cost   [6e+01, 2e+06]\n",
      "  Bound  [0e+00, 0e+00]\n",
      "  RHS    [5e+02, 1e+06]\n",
      "Presolving model\n",
      "47680 rows, 44767 cols, 131394 nonzeros  0s\n",
      "38195 rows, 35282 cols, 119395 nonzeros  0s\n",
      "37459 rows, 34546 cols, 121771 nonzeros  0s\n",
      "\n",
      "Solving MIP model with:\n",
      "   37459 rows\n",
      "   34546 cols (0 binary, 5 integer, 0 implied int., 34541 continuous)\n",
      "   121771 nonzeros\n",
      "\n",
      "        Nodes      |    B&B Tree     |            Objective Bounds              |  Dynamic Constraints |       Work      \n",
      "     Proc. InQueue |  Leaves   Expl. | BestBound       BestSol              Gap |   Cuts   InLp Confl. | LpIters     Time\n",
      "\n",
      "         0       0         0   0.00%   -inf            inf                  inf        0      0      0         0     0.3s\n",
      " S       0       0         0   0.00%   -inf            2879608483.92      Large        0      0      0         0    17.3s\n",
      " R       0       0         0   0.00%   2878985555.189  2878986034.896     0.00%        0      0      0     46553    17.4s\n",
      "\n",
      "Solving report\n",
      "  Status            Optimal\n",
      "  Primal bound     "
     ]
    },
    {
     "name": "stderr",
     "output_type": "stream",
     "text": [
      "INFO:linopy.constants: Optimization successful: \n",
      "Status: ok\n",
      "Termination condition: optimal\n",
      "Solution: 46739 primals, 102222 duals\n",
      "Objective: 2.88e+09\n",
      "Solver model: available\n",
      "Solver message: optimal\n",
      "\n"
     ]
    },
    {
     "name": "stdout",
     "output_type": "stream",
     "text": [
      " 2878986034.9\n",
      "  Dual bound        2878985555.19\n",
      "  Gap               1.7e-05% (tolerance: 0.01%)\n",
      "  Solution status   feasible\n",
      "                    2878986034.9 (objective)\n",
      "                    0 (bound viol.)\n",
      "                    0 (int. viol.)\n",
      "                    0 (row viol.)\n",
      "  Timing            17.44 (total)\n",
      "                    0.26 (presolve)\n",
      "                    0.00 (postsolve)\n",
      "  Nodes             1\n",
      "  LP iterations     46553 (total)\n",
      "                    0 (strong br.)\n",
      "                    0 (separation)\n",
      "                    0 (heuristics)\n",
      "Writing the solution to /tmp/linopy-solve-kn5euwzf.sol\n"
     ]
    },
    {
     "name": "stderr",
     "output_type": "stream",
     "text": [
      "INFO:pypsa.optimization.optimize:The shadow-prices of the constraints Generator-ext-p-lower, Generator-ext-p-upper, Link-ext-p-lower, Link-ext-p-upper, Store-ext-e-lower, Store-ext-e-upper, Store-energy_balance, self_sufficiency_constraint were not assigned to the network.\n",
      "INFO:pypsa.io:Exported network network.nc has buses, links, loads, stores, generators, carriers\n",
      "INFO:pypsa.io:Imported network network.nc has buses, carriers, generators, links, loads, stores\n",
      "/home/viktor/code/pypsa-vgr/generator/library/api/generators_core.py:51: RuntimeWarning:\n",
      "\n",
      "invalid value encountered in scalar divide\n",
      "\n",
      "/home/viktor/code/pypsa-vgr/generator/library/api/price_core.py:50: RuntimeWarning:\n",
      "\n",
      "invalid value encountered in scalar divide\n",
      "\n"
     ]
    },
    {
     "name": "stdout",
     "output_type": "stream",
     "text": [
      "80 out of 144: ('1480', 2030, 0.5, 0.2, True, True, 0.5)\n",
      "Check the get_geo(config) function\n",
      "Create and store parameters\n",
      "Check weather files\n",
      "Check renewables data\n",
      "Renewables files do not exist for geography 1480. Please see /input/renewables/generate-renewables.ipynb\n",
      "Create and store demand\n",
      "Create and store network\n",
      "Using config:\n",
      "\tself-sufficiency:0.5\n",
      "\th2:True\n",
      "\toffwind:True\n",
      "\tbiogas:1\n"
     ]
    },
    {
     "name": "stderr",
     "output_type": "stream",
     "text": [
      "INFO:pypsa.io:Exported network network.nc has buses, links, loads, stores, generators, carriers\n"
     ]
    },
    {
     "name": "stdout",
     "output_type": "stream",
     "text": [
      "Run optimization\n"
     ]
    },
    {
     "name": "stderr",
     "output_type": "stream",
     "text": [
      "INFO:pypsa.io:Imported network network.nc has buses, carriers, generators, links, loads, stores\n",
      "INFO:linopy.model: Solve problem using Highs solver\n",
      "INFO:linopy.io:Writing objective.\n",
      "Writing constraints.: 100%|\u001b[38;2;128;191;255m██████████\u001b[0m| 18/18 [00:00<00:00, 25.03it/s]\n",
      "Writing continuous variables.: 100%|\u001b[38;2;128;191;255m██████████\u001b[0m| 9/9 [00:00<00:00, 76.06it/s]\n",
      "Writing integer variables.: 100%|\u001b[38;2;128;191;255m██████████\u001b[0m| 2/2 [00:00<00:00, 518.42it/s]\n",
      "INFO:linopy.io: Writing time: 0.9s\n",
      "INFO:linopy.solvers:Log file at /tmp/highs.log\n"
     ]
    },
    {
     "name": "stdout",
     "output_type": "stream",
     "text": [
      "Running HiGHS 1.7.2 (git hash: 184e327): Copyright (c) 2024 HiGHS under MIT licence terms\n"
     ]
    },
    {
     "name": "stderr",
     "output_type": "stream",
     "text": [
      "INFO:linopy.constants: Optimization successful: \n",
      "Status: ok\n",
      "Termination condition: optimal\n",
      "Solution: 46739 primals, 102222 duals\n",
      "Objective: 2.88e+09\n",
      "Solver model: available\n",
      "Solver message: optimal\n",
      "\n"
     ]
    },
    {
     "name": "stdout",
     "output_type": "stream",
     "text": [
      "Coefficient ranges:\n",
      "  Matrix [8e-07, 1e+02]\n",
      "  Cost   [6e+01, 2e+06]\n",
      "  Bound  [0e+00, 0e+00]\n",
      "  RHS    [5e+02, 1e+06]\n",
      "Presolving model\n",
      "47680 rows, 44767 cols, 131394 nonzeros  0s\n",
      "38195 rows, 35282 cols, 119395 nonzeros  0s\n",
      "37459 rows, 34546 cols, 121771 nonzeros  0s\n",
      "\n",
      "Solving MIP model with:\n",
      "   37459 rows\n",
      "   34546 cols (0 binary, 5 integer, 0 implied int., 34541 continuous)\n",
      "   121771 nonzeros\n",
      "\n",
      "        Nodes      |    B&B Tree     |            Objective Bounds              |  Dynamic Constraints |       Work      \n",
      "     Proc. InQueue |  Leaves   Expl. | BestBound       BestSol              Gap |   Cuts   InLp Confl. | LpIters     Time\n",
      "\n",
      "         0       0         0   0.00%   -inf            inf                  inf        0      0      0         0     0.4s\n",
      " S       0       0         0   0.00%   -inf            2879608483.92      Large        0      0      0         0    17.1s\n",
      " R       0       0         0   0.00%   2878985555.189  2878986034.896     0.00%        0      0      0     46938    17.4s\n",
      "\n",
      "Solving report\n",
      "  Status            Optimal\n",
      "  Primal bound      2878986034.9\n",
      "  Dual bound        2878985555.19\n",
      "  Gap               1.7e-05% (tolerance: 0.01%)\n",
      "  Solution status   feasible\n",
      "                    2878986034.9 (objective)\n",
      "                    0 (bound viol.)\n",
      "                    0 (int. viol.)\n",
      "                    0 (row viol.)\n",
      "  Timing            17.43 (total)\n",
      "                    0.33 (presolve)\n",
      "                    0.00 (postsolve)\n",
      "  Nodes             1\n",
      "  LP iterations     46938 (total)\n",
      "                    0 (strong br.)\n",
      "                    0 (separation)\n",
      "                    0 (heuristics)\n",
      "Writing the solution to /tmp/linopy-solve-ca1fcr_l.sol\n"
     ]
    },
    {
     "name": "stderr",
     "output_type": "stream",
     "text": [
      "INFO:pypsa.optimization.optimize:The shadow-prices of the constraints Generator-ext-p-lower, Generator-ext-p-upper, Link-ext-p-lower, Link-ext-p-upper, Store-ext-e-lower, Store-ext-e-upper, Store-energy_balance, self_sufficiency_constraint were not assigned to the network.\n",
      "INFO:pypsa.io:Exported network network.nc has buses, links, loads, stores, generators, carriers\n",
      "INFO:pypsa.io:Imported network network.nc has buses, carriers, generators, links, loads, stores\n",
      "/home/viktor/code/pypsa-vgr/generator/library/api/generators_core.py:51: RuntimeWarning:\n",
      "\n",
      "invalid value encountered in scalar divide\n",
      "\n"
     ]
    },
    {
     "name": "stdout",
     "output_type": "stream",
     "text": [
      "81 out of 144: ('1480', 2030, 0.5, 0.2, True, True, 1)\n",
      "Check the get_geo(config) function\n",
      "Create and store parameters\n",
      "Check weather files\n",
      "Check renewables data\n",
      "Renewables files do not exist for geography 1480. Please see /input/renewables/generate-renewables.ipynb\n",
      "Create and store demand\n",
      "Create and store network\n",
      "Using config:\n",
      "\tself-sufficiency:0.8\n",
      "\th2:True\n",
      "\toffwind:True\n",
      "\tbiogas:0\n"
     ]
    },
    {
     "name": "stderr",
     "output_type": "stream",
     "text": [
      "INFO:pypsa.io:Exported network network.nc has buses, links, loads, stores, generators, carriers\n"
     ]
    },
    {
     "name": "stdout",
     "output_type": "stream",
     "text": [
      "Run optimization\n"
     ]
    },
    {
     "name": "stderr",
     "output_type": "stream",
     "text": [
      "INFO:pypsa.io:Imported network network.nc has buses, carriers, generators, links, loads, stores\n",
      "INFO:linopy.model: Solve problem using Highs solver\n",
      "INFO:linopy.io:Writing objective.\n",
      "Writing constraints.: 100%|\u001b[38;2;128;191;255m██████████\u001b[0m| 18/18 [00:00<00:00, 32.11it/s]\n",
      "Writing continuous variables.: 100%|\u001b[38;2;128;191;255m██████████\u001b[0m| 9/9 [00:00<00:00, 80.96it/s]\n",
      "Writing integer variables.: 100%|\u001b[38;2;128;191;255m██████████\u001b[0m| 2/2 [00:00<00:00, 505.37it/s]\n",
      "INFO:linopy.io: Writing time: 0.72s\n",
      "INFO:linopy.solvers:Log file at /tmp/highs.log\n"
     ]
    },
    {
     "name": "stdout",
     "output_type": "stream",
     "text": [
      "Running HiGHS 1.7.2 (git hash: 184e327): Copyright (c) 2024 HiGHS under MIT licence terms\n",
      "Coefficient ranges:\n",
      "  Matrix [8e-07, 1e+02]\n",
      "  Cost   [6e+01, 2e+06]\n",
      "  Bound  [0e+00, 0e+00]\n",
      "  RHS    [3e+02, 3e+05]\n"
     ]
    },
    {
     "name": "stderr",
     "output_type": "stream",
     "text": [
      "INFO:linopy.constants: Optimization successful: \n",
      "Status: ok\n",
      "Termination condition: optimal\n",
      "Solution: 43818 primals, 96380 duals\n",
      "Objective: 2.20e+09\n",
      "Solver model: available\n",
      "Solver message: optimal\n",
      "\n",
      "INFO:pypsa.optimization.optimize:The shadow-prices of the constraints Generator-ext-p-lower, Generator-ext-p-upper, Link-ext-p-lower, Link-ext-p-upper, Store-ext-e-lower, Store-ext-e-upper, Store-energy_balance, self_sufficiency_constraint were not assigned to the network.\n"
     ]
    },
    {
     "name": "stdout",
     "output_type": "stream",
     "text": [
      "Presolving model\n",
      "44760 rows, 38927 cols, 122634 nonzeros  0s\n",
      "38188 rows, 32355 cols, 113590 nonzeros  0s\n",
      "37448 rows, 31615 cols, 116028 nonzeros  0s\n",
      "\n",
      "Solving MIP model with:\n",
      "   37448 rows\n",
      "   31615 cols (0 binary, 5 integer, 0 implied int., 31610 continuous)\n",
      "   116028 nonzeros\n",
      "\n",
      "        Nodes      |    B&B Tree     |            Objective Bounds              |  Dynamic Constraints |       Work      \n",
      "     Proc. InQueue |  Leaves   Expl. | BestBound       BestSol              Gap |   Cuts   InLp Confl. | LpIters     Time\n",
      "\n",
      "         0       0         0   0.00%   -inf            inf                  inf        0      0      0         0     0.3s\n",
      " S       0       0         0   0.00%   -inf            2202672458.82      Large        0      0      0         0    48.0s\n",
      " R       0       0         0   0.00%   2202184121.501  2202188119.863     0.00%        0      0      0     55328    52.9s\n",
      "\n",
      "Solving report\n",
      "  Status            Optimal\n",
      "  Primal bound      2202188119.86\n",
      "  Dual bound        2202184121.5\n",
      "  Gap               0.000182% (tolerance: 0.01%)\n",
      "  Solution status   feasible\n",
      "                    2202188119.86 (objective)\n",
      "                    0 (bound viol.)\n",
      "                    0 (int. viol.)\n",
      "                    0 (row viol.)\n",
      "  Timing            52.91 (total)\n",
      "                    0.25 (presolve)\n",
      "                    0.00 (postsolve)\n",
      "  Nodes             1\n",
      "  LP iterations     55328 (total)\n",
      "                    0 (strong br.)\n",
      "                    0 (separation)\n",
      "                    0 (heuristics)\n",
      "Writing the solution to /tmp/linopy-solve-8dmk0krp.sol\n"
     ]
    },
    {
     "name": "stderr",
     "output_type": "stream",
     "text": [
      "INFO:pypsa.io:Exported network network.nc has buses, links, loads, stores, generators, carriers\n",
      "INFO:pypsa.io:Imported network network.nc has buses, carriers, generators, links, loads, stores\n"
     ]
    },
    {
     "name": "stdout",
     "output_type": "stream",
     "text": [
      "82 out of 144: ('1480', 2030, 0.8, -0.2, True, True, 0)\n",
      "Check the get_geo(config) function\n",
      "Create and store parameters\n",
      "Check weather files\n",
      "Check renewables data\n",
      "Renewables files do not exist for geography 1480. Please see /input/renewables/generate-renewables.ipynb\n",
      "Create and store demand\n",
      "Create and store network\n",
      "Using config:\n",
      "\tself-sufficiency:0.8\n",
      "\th2:True\n",
      "\toffwind:True\n",
      "\tbiogas:0.5\n"
     ]
    },
    {
     "name": "stderr",
     "output_type": "stream",
     "text": [
      "INFO:pypsa.io:Exported network network.nc has buses, links, loads, stores, generators, carriers\n"
     ]
    },
    {
     "name": "stdout",
     "output_type": "stream",
     "text": [
      "Run optimization\n"
     ]
    },
    {
     "name": "stderr",
     "output_type": "stream",
     "text": [
      "INFO:pypsa.io:Imported network network.nc has buses, carriers, generators, links, loads, stores\n",
      "INFO:linopy.model: Solve problem using Highs solver\n",
      "INFO:linopy.io:Writing objective.\n",
      "Writing constraints.: 100%|\u001b[38;2;128;191;255m██████████\u001b[0m| 18/18 [00:00<00:00, 26.18it/s]\n",
      "Writing continuous variables.: 100%|\u001b[38;2;128;191;255m██████████\u001b[0m| 9/9 [00:00<00:00, 86.43it/s]\n",
      "Writing integer variables.: 100%|\u001b[38;2;128;191;255m██████████\u001b[0m| 2/2 [00:00<00:00, 520.90it/s]\n",
      "INFO:linopy.io: Writing time: 0.85s\n",
      "INFO:linopy.solvers:Log file at /tmp/highs.log\n"
     ]
    },
    {
     "name": "stdout",
     "output_type": "stream",
     "text": [
      "Running HiGHS 1.7.2 (git hash: 184e327): Copyright (c) 2024 HiGHS under MIT licence terms\n"
     ]
    },
    {
     "name": "stderr",
     "output_type": "stream",
     "text": [
      "INFO:linopy.constants: Optimization successful: \n",
      "Status: ok\n",
      "Termination condition: optimal\n",
      "Solution: 46739 primals, 102222 duals\n",
      "Objective: 2.20e+09\n",
      "Solver model: available\n",
      "Solver message: optimal\n",
      "\n",
      "INFO:pypsa.optimization.optimize:The shadow-prices of the constraints Generator-ext-p-lower, Generator-ext-p-upper, Link-ext-p-lower, Link-ext-p-upper, Store-ext-e-lower, Store-ext-e-upper, Store-energy_balance, self_sufficiency_constraint were not assigned to the network.\n"
     ]
    },
    {
     "name": "stdout",
     "output_type": "stream",
     "text": [
      "Coefficient ranges:\n",
      "  Matrix [8e-07, 1e+02]\n",
      "  Cost   [6e+01, 2e+06]\n",
      "  Bound  [0e+00, 0e+00]\n",
      "  RHS    [3e+02, 3e+05]\n",
      "Presolving model\n",
      "47680 rows, 44767 cols, 131394 nonzeros  0s\n",
      "38195 rows, 35282 cols, 119395 nonzeros  0s\n",
      "37459 rows, 34546 cols, 121771 nonzeros  0s\n",
      "\n",
      "Solving MIP model with:\n",
      "   37459 rows\n",
      "   34546 cols (0 binary, 5 integer, 0 implied int., 34541 continuous)\n",
      "   121771 nonzeros\n",
      "\n",
      "        Nodes      |    B&B Tree     |            Objective Bounds              |  Dynamic Constraints |       Work      \n",
      "     Proc. InQueue |  Leaves   Expl. | BestBound       BestSol              Gap |   Cuts   InLp Confl. | LpIters     Time\n",
      "\n",
      "         0       0         0   0.00%   -inf            inf                  inf        0      0      0         0     0.3s\n",
      " S       0       0         0   0.00%   -inf            2202672458.82      Large        0      0      0         0    52.0s\n",
      " R       0       0         0   0.00%   2202184121.501  2202188119.863     0.00%        0      0      0     57930    56.5s\n",
      "\n",
      "Solving report\n",
      "  Status            Optimal\n",
      "  Primal bound      2202188119.86\n",
      "  Dual bound        2202184121.5\n",
      "  Gap               0.000182% (tolerance: 0.01%)\n",
      "  Solution status   feasible\n",
      "                    2202188119.86 (objective)\n",
      "                    0 (bound viol.)\n",
      "                    0 (int. viol.)\n",
      "                    0 (row viol.)\n",
      "  Timing            56.49 (total)\n",
      "                    0.31 (presolve)\n",
      "                    0.00 (postsolve)\n",
      "  Nodes             1\n",
      "  LP iterations     57930 (total)\n",
      "                    0 (strong br.)\n",
      "                    0 (separation)\n",
      "                    0 (heuristics)\n",
      "Writing the solution to /tmp/linopy-solve-gwaw9sr5.sol\n"
     ]
    },
    {
     "name": "stderr",
     "output_type": "stream",
     "text": [
      "INFO:pypsa.io:Exported network network.nc has buses, links, loads, stores, generators, carriers\n",
      "INFO:pypsa.io:Imported network network.nc has buses, carriers, generators, links, loads, stores\n",
      "/home/viktor/code/pypsa-vgr/generator/library/api/generators_core.py:51: RuntimeWarning:\n",
      "\n",
      "invalid value encountered in scalar divide\n",
      "\n",
      "/home/viktor/code/pypsa-vgr/generator/library/api/price_core.py:50: RuntimeWarning:\n",
      "\n",
      "divide by zero encountered in scalar divide\n",
      "\n",
      "/home/viktor/code/pypsa-vgr/generator/library/api/price_core.py:55: RuntimeWarning:\n",
      "\n",
      "invalid value encountered in scalar multiply\n",
      "\n",
      "/home/viktor/code/pypsa-vgr/generator/library/api/price_core.py:64: RuntimeWarning:\n",
      "\n",
      "invalid value encountered in scalar multiply\n",
      "\n",
      "/home/viktor/code/pypsa-vgr/generator/library/api/price_core.py:72: RuntimeWarning:\n",
      "\n",
      "invalid value encountered in scalar multiply\n",
      "\n",
      "/home/viktor/code/pypsa-vgr/generator/library/api/price_core.py:77: RuntimeWarning:\n",
      "\n",
      "invalid value encountered in scalar multiply\n",
      "\n"
     ]
    },
    {
     "name": "stdout",
     "output_type": "stream",
     "text": [
      "83 out of 144: ('1480', 2030, 0.8, -0.2, True, True, 0.5)\n",
      "Check the get_geo(config) function\n",
      "Create and store parameters\n",
      "Check weather files\n",
      "Check renewables data\n",
      "Renewables files do not exist for geography 1480. Please see /input/renewables/generate-renewables.ipynb\n",
      "Create and store demand\n",
      "Create and store network\n",
      "Using config:\n",
      "\tself-sufficiency:0.8\n",
      "\th2:True\n",
      "\toffwind:True\n",
      "\tbiogas:1\n"
     ]
    },
    {
     "name": "stderr",
     "output_type": "stream",
     "text": [
      "INFO:pypsa.io:Exported network network.nc has buses, links, loads, stores, generators, carriers\n"
     ]
    },
    {
     "name": "stdout",
     "output_type": "stream",
     "text": [
      "Run optimization\n"
     ]
    },
    {
     "name": "stderr",
     "output_type": "stream",
     "text": [
      "INFO:pypsa.io:Imported network network.nc has buses, carriers, generators, links, loads, stores\n",
      "INFO:linopy.model: Solve problem using Highs solver\n",
      "INFO:linopy.io:Writing objective.\n",
      "Writing constraints.: 100%|\u001b[38;2;128;191;255m██████████\u001b[0m| 18/18 [00:00<00:00, 31.59it/s]\n",
      "Writing continuous variables.: 100%|\u001b[38;2;128;191;255m██████████\u001b[0m| 9/9 [00:00<00:00, 76.32it/s]\n",
      "Writing integer variables.: 100%|\u001b[38;2;128;191;255m██████████\u001b[0m| 2/2 [00:00<00:00, 762.88it/s]\n",
      "INFO:linopy.io: Writing time: 0.74s\n",
      "INFO:linopy.solvers:Log file at /tmp/highs.log\n"
     ]
    },
    {
     "name": "stdout",
     "output_type": "stream",
     "text": [
      "Running HiGHS 1.7.2 (git hash: 184e327): Copyright (c) 2024 HiGHS under MIT licence terms\n",
      "Coefficient ranges:\n",
      "  Matrix [8e-07, 1e+02]\n",
      "  Cost   [6e+01, 2e+06]\n",
      "  Bound  [0e+00, 0e+00]\n",
      "  RHS    [3e+02, 3e+05]\n",
      "Presolving model\n",
      "47680 rows, 44767 cols, 131394 nonzeros  0s\n",
      "38195 rows, 35282 cols, 119395 nonzeros  0s\n",
      "37459 rows, 34546 cols, 121771 nonzeros  0s\n",
      "\n",
      "Solving MIP model with:\n",
      "   37459 rows\n",
      "   34546 cols (0 binary, 5 integer, 0 implied int., 34541 continuous)\n",
      "   121771 nonzeros\n",
      "\n",
      "        Nodes      |    B&B Tree     |            Objective Bounds              |  Dynamic Constraints |       Work      \n",
      "     Proc. InQueue |  Leaves   Expl. | BestBound       BestSol              Gap |   Cuts   InLp Confl. | LpIters     Time\n",
      "\n",
      "         0       0         0   0.00%   -inf            inf                  inf        0      0      0         0     0.2s\n",
      " S       0       0         0   0.00%   -inf            2202672458.82      Large        0      0      0         0    46.5s\n",
      " R       0       0         0   0.00%   2202184121.501  2202188119.863     0.00%        0      0      0     53983    51.2s\n",
      "\n",
      "Solving report\n",
      "  Status            Optimal\n",
      "  Primal bound      2202188119.86\n",
      "  Dual bound        2202184121.5\n",
      "  Gap               0.000182% (tolerance: 0.01%)\n",
      "  Solution status   feasible\n",
      "                    2202188119.86 (objective)\n",
      "                    0 (bound viol.)\n",
      "                    4.48443623076e-18 (int. viol.)\n",
      "                    0 (row viol.)\n",
      "  Timing            51.18 (total)\n",
      "                    0.22 (presolve)\n",
      "                    0.00 (postsolve)\n",
      "  Nodes             1\n",
      "  LP iterations     53983 (total)\n",
      "                    0 (strong br.)\n",
      "                    0 (separation)\n",
      "                    0 (heuristics)\n",
      "Writing the solution to /tmp/linopy-solve-0zaq1_hd.sol\n"
     ]
    },
    {
     "name": "stderr",
     "output_type": "stream",
     "text": [
      "INFO:linopy.constants: Optimization successful: \n",
      "Status: ok\n",
      "Termination condition: optimal\n",
      "Solution: 46739 primals, 102222 duals\n",
      "Objective: 2.20e+09\n",
      "Solver model: available\n",
      "Solver message: optimal\n",
      "\n",
      "INFO:pypsa.optimization.optimize:The shadow-prices of the constraints Generator-ext-p-lower, Generator-ext-p-upper, Link-ext-p-lower, Link-ext-p-upper, Store-ext-e-lower, Store-ext-e-upper, Store-energy_balance, self_sufficiency_constraint were not assigned to the network.\n",
      "INFO:pypsa.io:Exported network network.nc has buses, links, loads, stores, generators, carriers\n",
      "INFO:pypsa.io:Imported network network.nc has buses, carriers, generators, links, loads, stores\n"
     ]
    },
    {
     "name": "stdout",
     "output_type": "stream",
     "text": [
      "84 out of 144: ('1480', 2030, 0.8, -0.2, True, True, 1)\n",
      "Check the get_geo(config) function\n",
      "Create and store parameters\n",
      "Check weather files\n",
      "Check renewables data\n",
      "Renewables files do not exist for geography 1480. Please see /input/renewables/generate-renewables.ipynb\n",
      "Create and store demand\n",
      "Create and store network\n",
      "Using config:\n",
      "\tself-sufficiency:0.8\n",
      "\th2:True\n",
      "\toffwind:True\n",
      "\tbiogas:0\n"
     ]
    },
    {
     "name": "stderr",
     "output_type": "stream",
     "text": [
      "INFO:pypsa.io:Exported network network.nc has buses, links, loads, stores, generators, carriers\n"
     ]
    },
    {
     "name": "stdout",
     "output_type": "stream",
     "text": [
      "Run optimization\n"
     ]
    },
    {
     "name": "stderr",
     "output_type": "stream",
     "text": [
      "INFO:pypsa.io:Imported network network.nc has buses, carriers, generators, links, loads, stores\n",
      "INFO:linopy.model: Solve problem using Highs solver\n",
      "INFO:linopy.io:Writing objective.\n",
      "Writing constraints.: 100%|\u001b[38;2;128;191;255m██████████\u001b[0m| 18/18 [00:00<00:00, 32.69it/s]\n",
      "Writing continuous variables.: 100%|\u001b[38;2;128;191;255m██████████\u001b[0m| 9/9 [00:00<00:00, 88.26it/s]\n",
      "Writing integer variables.: 100%|\u001b[38;2;128;191;255m██████████\u001b[0m| 2/2 [00:00<00:00, 517.24it/s]\n",
      "INFO:linopy.io: Writing time: 0.7s\n",
      "INFO:linopy.solvers:Log file at /tmp/highs.log\n"
     ]
    },
    {
     "name": "stdout",
     "output_type": "stream",
     "text": [
      "Running HiGHS 1.7.2 (git hash: 184e327): Copyright (c) 2024 HiGHS under MIT licence terms\n",
      "Coefficient ranges:\n",
      "  Matrix [8e-07, 1e+02]\n",
      "  Cost   [6e+01, 2e+06]\n",
      "  Bound  [0e+00, 0e+00]\n",
      "  RHS    [4e+02, 4e+05]\n",
      "Presolving model\n",
      "44760 rows, 38927 cols, 122634 nonzeros  0s\n",
      "38188 rows, 32355 cols, 113590 nonzeros  0s\n",
      "37448 rows, 31615 cols, 116028 nonzeros  0s\n",
      "\n",
      "Solving MIP model with:\n",
      "   37448 rows\n",
      "   31615 cols (0 binary, 5 integer, 0 implied int., 31610 continuous)\n",
      "   116028 nonzeros\n",
      "\n",
      "        Nodes      |    B&B Tree     |            Objective Bounds              |  Dynamic Constraints |       Work      \n",
      "     Proc. InQueue |  Leaves   Expl. | BestBound       BestSol              Gap |   Cuts   InLp Confl. | LpIters     Time\n",
      "\n",
      "         0       0         0   0.00%   -inf            inf                  inf        0      0      0         0     0.5s\n",
      " S       0       0         0   0.00%   -inf            2754273408.706     Large        0      0      0         0    44.4s\n",
      " R       0       0         0   0.00%   2752730151.875  2752742852.572     0.00%        0      0      0     51859    49.2s\n",
      "\n",
      "Solving report\n",
      "  Status            Optimal\n",
      "  Primal bound      2752742852.57\n",
      "  Dual bound        2752730151.87\n",
      "  Gap               0.000461% (tolerance: 0.01%)\n",
      "  Solution status   feasible\n",
      "                    2752742852.57 (objective)\n",
      "                    0 (bound viol.)\n",
      "                    0 (int. viol.)\n",
      "                    0 (row viol.)\n",
      "  Timing            49.21 (total)\n",
      "                    0.46 (presolve)\n",
      "                    0.00 (postsolve)\n",
      "  Nodes             1\n",
      "  LP iterations     51859 (total)\n",
      "                    0 (strong br.)\n",
      "                    0 (separation)\n",
      "                    0 (heuristics)\n",
      "Writing the solution to /tmp/linopy-solve-fqn0n5el.sol\n"
     ]
    },
    {
     "name": "stderr",
     "output_type": "stream",
     "text": [
      "INFO:linopy.constants: Optimization successful: \n",
      "Status: ok\n",
      "Termination condition: optimal\n",
      "Solution: 43818 primals, 96380 duals\n",
      "Objective: 2.75e+09\n",
      "Solver model: available\n",
      "Solver message: optimal\n",
      "\n",
      "INFO:pypsa.optimization.optimize:The shadow-prices of the constraints Generator-ext-p-lower, Generator-ext-p-upper, Link-ext-p-lower, Link-ext-p-upper, Store-ext-e-lower, Store-ext-e-upper, Store-energy_balance, self_sufficiency_constraint were not assigned to the network.\n",
      "INFO:pypsa.io:Exported network network.nc has buses, links, loads, stores, generators, carriers\n",
      "INFO:pypsa.io:Imported network network.nc has buses, carriers, generators, links, loads, stores\n"
     ]
    },
    {
     "name": "stdout",
     "output_type": "stream",
     "text": [
      "85 out of 144: ('1480', 2030, 0.8, 0, True, True, 0)\n",
      "Check the get_geo(config) function\n",
      "Create and store parameters\n",
      "Check weather files\n",
      "Check renewables data\n",
      "Renewables files do not exist for geography 1480. Please see /input/renewables/generate-renewables.ipynb\n",
      "Create and store demand\n",
      "Create and store network\n",
      "Using config:\n",
      "\tself-sufficiency:0.8\n",
      "\th2:True\n",
      "\toffwind:True\n",
      "\tbiogas:0.5\n"
     ]
    },
    {
     "name": "stderr",
     "output_type": "stream",
     "text": [
      "INFO:pypsa.io:Exported network network.nc has buses, links, loads, stores, generators, carriers\n"
     ]
    },
    {
     "name": "stdout",
     "output_type": "stream",
     "text": [
      "Run optimization\n"
     ]
    },
    {
     "name": "stderr",
     "output_type": "stream",
     "text": [
      "INFO:pypsa.io:Imported network network.nc has buses, carriers, generators, links, loads, stores\n",
      "INFO:linopy.model: Solve problem using Highs solver\n",
      "INFO:linopy.io:Writing objective.\n",
      "Writing constraints.: 100%|\u001b[38;2;128;191;255m██████████\u001b[0m| 18/18 [00:00<00:00, 25.00it/s]\n",
      "Writing continuous variables.: 100%|\u001b[38;2;128;191;255m██████████\u001b[0m| 9/9 [00:00<00:00, 71.58it/s]\n",
      "Writing integer variables.: 100%|\u001b[38;2;128;191;255m██████████\u001b[0m| 2/2 [00:00<00:00, 261.41it/s]\n",
      "INFO:linopy.io: Writing time: 0.91s\n",
      "INFO:linopy.solvers:Log file at /tmp/highs.log\n"
     ]
    },
    {
     "name": "stdout",
     "output_type": "stream",
     "text": [
      "Running HiGHS 1.7.2 (git hash: 184e327): Copyright (c) 2024 HiGHS under MIT licence terms\n",
      "Coefficient ranges:\n"
     ]
    },
    {
     "name": "stderr",
     "output_type": "stream",
     "text": [
      "INFO:linopy.constants: Optimization successful: \n",
      "Status: ok\n",
      "Termination condition: optimal\n",
      "Solution: 46739 primals, 102222 duals\n",
      "Objective: 2.75e+09\n",
      "Solver model: available\n",
      "Solver message: optimal\n",
      "\n",
      "INFO:pypsa.optimization.optimize:The shadow-prices of the constraints Generator-ext-p-lower, Generator-ext-p-upper, Link-ext-p-lower, Link-ext-p-upper, Store-ext-e-lower, Store-ext-e-upper, Store-energy_balance, self_sufficiency_constraint were not assigned to the network.\n"
     ]
    },
    {
     "name": "stdout",
     "output_type": "stream",
     "text": [
      "  Matrix [8e-07, 1e+02]\n",
      "  Cost   [6e+01, 2e+06]\n",
      "  Bound  [0e+00, 0e+00]\n",
      "  RHS    [4e+02, 4e+05]\n",
      "Presolving model\n",
      "47680 rows, 44767 cols, 131394 nonzeros  0s\n",
      "38195 rows, 35282 cols, 119395 nonzeros  0s\n",
      "37459 rows, 34546 cols, 121771 nonzeros  0s\n",
      "\n",
      "Solving MIP model with:\n",
      "   37459 rows\n",
      "   34546 cols (0 binary, 5 integer, 0 implied int., 34541 continuous)\n",
      "   121771 nonzeros\n",
      "\n",
      "        Nodes      |    B&B Tree     |            Objective Bounds              |  Dynamic Constraints |       Work      \n",
      "     Proc. InQueue |  Leaves   Expl. | BestBound       BestSol              Gap |   Cuts   InLp Confl. | LpIters     Time\n",
      "\n",
      "         0       0         0   0.00%   -inf            inf                  inf        0      0      0         0     0.5s\n",
      " S       0       0         0   0.00%   -inf            2754273408.706     Large        0      0      0         0    48.9s\n",
      " R       0       0         0   0.00%   2752730151.875  2752742852.572     0.00%        0      0      0     55354    53.2s\n",
      "\n",
      "Solving report\n",
      "  Status            Optimal\n",
      "  Primal bound      2752742852.57\n",
      "  Dual bound        2752730151.87\n",
      "  Gap               0.000461% (tolerance: 0.01%)\n",
      "  Solution status   feasible\n",
      "                    2752742852.57 (objective)\n",
      "                    0 (bound viol.)\n",
      "                    0 (int. viol.)\n",
      "                    0 (row viol.)\n",
      "  Timing            53.19 (total)\n",
      "                    0.41 (presolve)\n",
      "                    0.00 (postsolve)\n",
      "  Nodes             1\n",
      "  LP iterations     55354 (total)\n",
      "                    0 (strong br.)\n",
      "                    0 (separation)\n",
      "                    0 (heuristics)\n",
      "Writing the solution to /tmp/linopy-solve-4d87aco_.sol\n"
     ]
    },
    {
     "name": "stderr",
     "output_type": "stream",
     "text": [
      "INFO:pypsa.io:Exported network network.nc has buses, links, loads, stores, generators, carriers\n",
      "INFO:pypsa.io:Imported network network.nc has buses, carriers, generators, links, loads, stores\n",
      "/home/viktor/code/pypsa-vgr/generator/library/api/generators_core.py:51: RuntimeWarning:\n",
      "\n",
      "invalid value encountered in scalar divide\n",
      "\n",
      "/home/viktor/code/pypsa-vgr/generator/library/api/price_core.py:50: RuntimeWarning:\n",
      "\n",
      "divide by zero encountered in scalar divide\n",
      "\n",
      "/home/viktor/code/pypsa-vgr/generator/library/api/price_core.py:55: RuntimeWarning:\n",
      "\n",
      "invalid value encountered in scalar multiply\n",
      "\n",
      "/home/viktor/code/pypsa-vgr/generator/library/api/price_core.py:64: RuntimeWarning:\n",
      "\n",
      "invalid value encountered in scalar multiply\n",
      "\n",
      "/home/viktor/code/pypsa-vgr/generator/library/api/price_core.py:72: RuntimeWarning:\n",
      "\n",
      "invalid value encountered in scalar multiply\n",
      "\n",
      "/home/viktor/code/pypsa-vgr/generator/library/api/price_core.py:77: RuntimeWarning:\n",
      "\n",
      "invalid value encountered in scalar multiply\n",
      "\n"
     ]
    },
    {
     "name": "stdout",
     "output_type": "stream",
     "text": [
      "86 out of 144: ('1480', 2030, 0.8, 0, True, True, 0.5)\n",
      "Check the get_geo(config) function\n",
      "Create and store parameters\n",
      "Check weather files\n",
      "Check renewables data\n",
      "Renewables files do not exist for geography 1480. Please see /input/renewables/generate-renewables.ipynb\n",
      "Create and store demand\n",
      "Create and store network\n",
      "Using config:\n",
      "\tself-sufficiency:0.8\n",
      "\th2:True\n",
      "\toffwind:True\n",
      "\tbiogas:1\n"
     ]
    },
    {
     "name": "stderr",
     "output_type": "stream",
     "text": [
      "INFO:pypsa.io:Exported network network.nc has buses, links, loads, stores, generators, carriers\n"
     ]
    },
    {
     "name": "stdout",
     "output_type": "stream",
     "text": [
      "Run optimization\n"
     ]
    },
    {
     "name": "stderr",
     "output_type": "stream",
     "text": [
      "INFO:pypsa.io:Imported network network.nc has buses, carriers, generators, links, loads, stores\n",
      "INFO:linopy.model: Solve problem using Highs solver\n",
      "INFO:linopy.io:Writing objective.\n",
      "Writing constraints.: 100%|\u001b[38;2;128;191;255m██████████\u001b[0m| 18/18 [00:00<00:00, 31.14it/s]\n",
      "Writing continuous variables.: 100%|\u001b[38;2;128;191;255m██████████\u001b[0m| 9/9 [00:00<00:00, 82.01it/s]\n",
      "Writing integer variables.: 100%|\u001b[38;2;128;191;255m██████████\u001b[0m| 2/2 [00:00<00:00, 521.26it/s]\n",
      "INFO:linopy.io: Writing time: 0.75s\n",
      "INFO:linopy.solvers:Log file at /tmp/highs.log\n"
     ]
    },
    {
     "name": "stdout",
     "output_type": "stream",
     "text": [
      "Running HiGHS 1.7.2 (git hash: 184e327): Copyright (c) 2024 HiGHS under MIT licence terms\n",
      "Coefficient ranges:\n",
      "  Matrix [8e-07, 1e+02]\n",
      "  Cost   [6e+01, 2e+06]\n",
      "  Bound  [0e+00, 0e+00]\n",
      "  RHS    [4e+02, 4e+05]\n",
      "Presolving model\n",
      "47680 rows, 44767 cols, 131394 nonzeros  0s\n",
      "38195 rows, 35282 cols, 119395 nonzeros  0s\n",
      "37459 rows, 34546 cols, 121771 nonzeros  0s\n",
      "\n",
      "Solving MIP model with:\n",
      "   37459 rows\n",
      "   34546 cols (0 binary, 5 integer, 0 implied int., 34541 continuous)\n",
      "   121771 nonzeros\n",
      "\n",
      "        Nodes      |    B&B Tree     |            Objective Bounds              |  Dynamic Constraints |       Work      \n",
      "     Proc. InQueue |  Leaves   Expl. | BestBound       BestSol              Gap |   Cuts   InLp Confl. | LpIters     Time\n",
      "\n",
      "         0       0         0   0.00%   -inf            inf                  inf        0      0      0         0     0.3s\n",
      " S       0       0         0   0.00%   -inf            2754273408.706     Large        0      0      0         0    49.3s\n",
      " R       0       0         0   0.00%   2752730151.875  2752742852.572     0.00%        0      0      0     59454    54.2s\n",
      "\n",
      "Solving report\n",
      "  Status            Optimal\n",
      "  Primal bound      2752742852.57\n",
      "  Dual bound        2752730151.87\n",
      "  Gap               0.000461% (tolerance: 0.01%)\n",
      "  Solution status   feasible\n",
      "                    2752742852.57 (objective)\n",
      "                    0 (bound viol.)\n",
      "                    7.111427962e-19 (int. viol.)\n",
      "                    0 (row viol.)\n",
      "  Timing            54.22 (total)\n",
      "                    0.24 (presolve)\n",
      "                    0.00 (postsolve)\n",
      "  Nodes             1\n",
      "  LP iterations     59454 (total)\n",
      "                    0 (strong br.)\n",
      "                    0 (separation)\n",
      "                    0 (heuristics)\n"
     ]
    },
    {
     "name": "stderr",
     "output_type": "stream",
     "text": [
      "INFO:linopy.constants: Optimization successful: \n",
      "Status: ok\n",
      "Termination condition: optimal\n",
      "Solution: 46739 primals, 102222 duals\n",
      "Objective: 2.75e+09\n",
      "Solver model: available\n",
      "Solver message: optimal\n",
      "\n"
     ]
    },
    {
     "name": "stdout",
     "output_type": "stream",
     "text": [
      "Writing the solution to /tmp/linopy-solve-4ueuz42b.sol\n"
     ]
    },
    {
     "name": "stderr",
     "output_type": "stream",
     "text": [
      "INFO:pypsa.optimization.optimize:The shadow-prices of the constraints Generator-ext-p-lower, Generator-ext-p-upper, Link-ext-p-lower, Link-ext-p-upper, Store-ext-e-lower, Store-ext-e-upper, Store-energy_balance, self_sufficiency_constraint were not assigned to the network.\n",
      "INFO:pypsa.io:Exported network network.nc has buses, links, loads, stores, generators, carriers\n",
      "INFO:pypsa.io:Imported network network.nc has buses, carriers, generators, links, loads, stores\n"
     ]
    },
    {
     "name": "stdout",
     "output_type": "stream",
     "text": [
      "87 out of 144: ('1480', 2030, 0.8, 0, True, True, 1)\n",
      "Check the get_geo(config) function\n",
      "Create and store parameters\n",
      "Check weather files\n",
      "Check renewables data\n",
      "Renewables files do not exist for geography 1480. Please see /input/renewables/generate-renewables.ipynb\n",
      "Create and store demand\n",
      "Create and store network\n",
      "Using config:\n",
      "\tself-sufficiency:0.8\n",
      "\th2:True\n",
      "\toffwind:True\n",
      "\tbiogas:0\n"
     ]
    },
    {
     "name": "stderr",
     "output_type": "stream",
     "text": [
      "INFO:pypsa.io:Exported network network.nc has buses, links, loads, stores, generators, carriers\n"
     ]
    },
    {
     "name": "stdout",
     "output_type": "stream",
     "text": [
      "Run optimization\n"
     ]
    },
    {
     "name": "stderr",
     "output_type": "stream",
     "text": [
      "INFO:pypsa.io:Imported network network.nc has buses, carriers, generators, links, loads, stores\n",
      "INFO:linopy.model: Solve problem using Highs solver\n",
      "INFO:linopy.io:Writing objective.\n",
      "Writing constraints.: 100%|\u001b[38;2;128;191;255m██████████\u001b[0m| 18/18 [00:00<00:00, 31.15it/s]\n",
      "Writing continuous variables.: 100%|\u001b[38;2;128;191;255m██████████\u001b[0m| 9/9 [00:00<00:00, 93.14it/s]\n",
      "Writing integer variables.: 100%|\u001b[38;2;128;191;255m██████████\u001b[0m| 2/2 [00:00<00:00, 455.01it/s]\n",
      "INFO:linopy.io: Writing time: 0.72s\n",
      "INFO:linopy.solvers:Log file at /tmp/highs.log\n"
     ]
    },
    {
     "name": "stdout",
     "output_type": "stream",
     "text": [
      "Running HiGHS 1.7.2 (git hash: 184e327): Copyright (c) 2024 HiGHS under MIT licence terms\n",
      "Coefficient ranges:\n",
      "  Matrix [8e-07, 1e+02]\n",
      "  Cost   [6e+01, 2e+06]\n",
      "  Bound  [0e+00, 0e+00]\n",
      "  RHS    [5e+02, 5e+05]\n",
      "Presolving model\n",
      "44760 rows, 38927 cols, 122634 nonzeros  0s\n",
      "38188 rows, 32355 cols, 113590 nonzeros  0s\n",
      "37448 rows, 31615 cols, 116028 nonzeros  0s\n",
      "\n",
      "Solving MIP model with:\n",
      "   37448 rows\n",
      "   31615 cols (0 binary, 5 integer, 0 implied int., 31610 continuous)\n",
      "   116028 nonzeros\n",
      "\n",
      "        Nodes      |    B&B Tree     |            Objective Bounds              |  Dynamic Constraints |       Work      \n",
      "     Proc. InQueue |  Leaves   Expl. | BestBound       BestSol              Gap |   Cuts   InLp Confl. | LpIters     Time\n",
      "\n",
      "         0       0         0   0.00%   -inf            inf                  inf        0      0      0         0     0.3s\n",
      " S       0       0         0   0.00%   -inf            3305874358.594     Large        0      0      0         0    41.8s\n",
      " R       0       0         0   0.00%   3303276182.25   3303297585.41      0.00%        0      0      0     51379    46.7s\n",
      "\n",
      "Solving report\n",
      "  Status            Optimal\n",
      "  Primal bound      3303297585.41\n",
      "  Dual bound        3303276182.25\n",
      "  Gap               0.000648% (tolerance: 0.01%)\n",
      "  Solution status   feasible\n",
      "                    3303297585.41 (objective)\n",
      "                    0 (bound viol.)\n",
      "                    3.62545179257e-18 (int. viol.)\n",
      "                    0 (row viol.)\n",
      "  Timing            46.67 (total)\n",
      "                    0.22 (presolve)\n",
      "                    0.00 (postsolve)\n",
      "  Nodes             1\n",
      "  LP iterations     51379 (total)\n",
      "                    0 (strong br.)\n",
      "                    0 (separation)\n",
      "                    0 (heuristics)\n",
      "Writing the solution to /tmp/linopy-solve-zufarvlz.sol\n"
     ]
    },
    {
     "name": "stderr",
     "output_type": "stream",
     "text": [
      "INFO:linopy.constants: Optimization successful: \n",
      "Status: ok\n",
      "Termination condition: optimal\n",
      "Solution: 43818 primals, 96380 duals\n",
      "Objective: 3.30e+09\n",
      "Solver model: available\n",
      "Solver message: optimal\n",
      "\n",
      "INFO:pypsa.optimization.optimize:The shadow-prices of the constraints Generator-ext-p-lower, Generator-ext-p-upper, Link-ext-p-lower, Link-ext-p-upper, Store-ext-e-lower, Store-ext-e-upper, Store-energy_balance, self_sufficiency_constraint were not assigned to the network.\n",
      "INFO:pypsa.io:Exported network network.nc has buses, links, loads, stores, generators, carriers\n",
      "INFO:pypsa.io:Imported network network.nc has buses, carriers, generators, links, loads, stores\n"
     ]
    },
    {
     "name": "stdout",
     "output_type": "stream",
     "text": [
      "88 out of 144: ('1480', 2030, 0.8, 0.2, True, True, 0)\n",
      "Check the get_geo(config) function\n",
      "Create and store parameters\n",
      "Check weather files\n",
      "Check renewables data\n",
      "Renewables files do not exist for geography 1480. Please see /input/renewables/generate-renewables.ipynb\n",
      "Create and store demand\n",
      "Create and store network\n",
      "Using config:\n",
      "\tself-sufficiency:0.8\n",
      "\th2:True\n",
      "\toffwind:True\n",
      "\tbiogas:0.5\n"
     ]
    },
    {
     "name": "stderr",
     "output_type": "stream",
     "text": [
      "INFO:pypsa.io:Exported network network.nc has buses, links, loads, stores, generators, carriers\n"
     ]
    },
    {
     "name": "stdout",
     "output_type": "stream",
     "text": [
      "Run optimization\n"
     ]
    },
    {
     "name": "stderr",
     "output_type": "stream",
     "text": [
      "INFO:pypsa.io:Imported network network.nc has buses, carriers, generators, links, loads, stores\n",
      "INFO:linopy.model: Solve problem using Highs solver\n",
      "INFO:linopy.io:Writing objective.\n",
      "Writing constraints.: 100%|\u001b[38;2;128;191;255m██████████\u001b[0m| 18/18 [00:00<00:00, 27.21it/s]\n",
      "Writing continuous variables.: 100%|\u001b[38;2;128;191;255m██████████\u001b[0m| 9/9 [00:00<00:00, 81.99it/s]\n",
      "Writing integer variables.: 100%|\u001b[38;2;128;191;255m██████████\u001b[0m| 2/2 [00:00<00:00, 463.41it/s]\n",
      "INFO:linopy.io: Writing time: 0.83s\n",
      "INFO:linopy.solvers:Log file at /tmp/highs.log\n"
     ]
    },
    {
     "name": "stdout",
     "output_type": "stream",
     "text": [
      "Running HiGHS 1.7.2 (git hash: 184e327): Copyright (c) 2024 HiGHS under MIT licence terms\n",
      "Coefficient ranges:\n",
      "  Matrix [8e-07, 1e+02]\n",
      "  Cost   [6e+01, 2e+06]\n",
      "  Bound  [0e+00, 0e+00]\n",
      "  RHS    [5e+02, 5e+05]\n",
      "Presolving model\n",
      "47680 rows, 44767 cols, 131394 nonzeros  0s\n",
      "38195 rows, 35282 cols, 119395 nonzeros  0s\n",
      "37459 rows, 34546 cols, 121771 nonzeros  0s\n",
      "\n",
      "Solving MIP model with:\n",
      "   37459 rows\n",
      "   34546 cols (0 binary, 5 integer, 0 implied int., 34541 continuous)\n",
      "   121771 nonzeros\n",
      "\n",
      "        Nodes      |    B&B Tree     |            Objective Bounds              |  Dynamic Constraints |       Work      \n",
      "     Proc. InQueue |  Leaves   Expl. | BestBound       BestSol              Gap |   Cuts   InLp Confl. | LpIters     Time\n",
      "\n",
      "         0       0         0   0.00%   -inf            inf                  inf        0      0      0         0     0.3s\n",
      " S       0       0         0   0.00%   -inf            3305874358.594     Large        0      0      0         0    54.7s\n",
      " R       0       0         0   0.00%   3303276182.25   3303297585.41      0.00%        0      0      0     59452    59.1s\n",
      "\n",
      "Solving report\n",
      "  Status            Optimal\n",
      "  Primal bound      3303297585.41\n",
      "  Dual bound        3303276182.25\n",
      "  Gap               0.000648% (tolerance: 0.01%)\n",
      "  Solution status   feasible\n",
      "                    3303297585.41 (objective)\n",
      "                    0 (bound viol.)\n",
      "                    1.39974688543e-16 (int. viol.)\n",
      "                    0 (row viol.)\n",
      "  Timing            59.08 (total)\n",
      "                    0.27 (presolve)\n",
      "                    0.00 (postsolve)\n",
      "  Nodes             1\n",
      "  LP iterations     59452 (total)\n",
      "                    0 (strong br.)\n",
      "                    0 (separation)\n",
      "                    0 (heuristics)\n",
      "Writing the solution to /tmp/linopy-solve-7_pdifne.sol\n"
     ]
    },
    {
     "name": "stderr",
     "output_type": "stream",
     "text": [
      "INFO:linopy.constants: Optimization successful: \n",
      "Status: ok\n",
      "Termination condition: optimal\n",
      "Solution: 46739 primals, 102222 duals\n",
      "Objective: 3.30e+09\n",
      "Solver model: available\n",
      "Solver message: optimal\n",
      "\n",
      "INFO:pypsa.optimization.optimize:The shadow-prices of the constraints Generator-ext-p-lower, Generator-ext-p-upper, Link-ext-p-lower, Link-ext-p-upper, Store-ext-e-lower, Store-ext-e-upper, Store-energy_balance, self_sufficiency_constraint were not assigned to the network.\n",
      "INFO:pypsa.io:Exported network network.nc has buses, links, loads, stores, generators, carriers\n",
      "INFO:pypsa.io:Imported network network.nc has buses, carriers, generators, links, loads, stores\n"
     ]
    },
    {
     "name": "stdout",
     "output_type": "stream",
     "text": [
      "89 out of 144: ('1480', 2030, 0.8, 0.2, True, True, 0.5)\n",
      "Check the get_geo(config) function\n",
      "Create and store parameters\n",
      "Check weather files\n",
      "Check renewables data\n",
      "Renewables files do not exist for geography 1480. Please see /input/renewables/generate-renewables.ipynb\n",
      "Create and store demand\n",
      "Create and store network\n",
      "Using config:\n",
      "\tself-sufficiency:0.8\n",
      "\th2:True\n",
      "\toffwind:True\n",
      "\tbiogas:1\n"
     ]
    },
    {
     "name": "stderr",
     "output_type": "stream",
     "text": [
      "INFO:pypsa.io:Exported network network.nc has buses, links, loads, stores, generators, carriers\n"
     ]
    },
    {
     "name": "stdout",
     "output_type": "stream",
     "text": [
      "Run optimization\n"
     ]
    },
    {
     "name": "stderr",
     "output_type": "stream",
     "text": [
      "INFO:pypsa.io:Imported network network.nc has buses, carriers, generators, links, loads, stores\n",
      "INFO:linopy.model: Solve problem using Highs solver\n",
      "INFO:linopy.io:Writing objective.\n",
      "Writing constraints.: 100%|\u001b[38;2;128;191;255m██████████\u001b[0m| 18/18 [00:00<00:00, 29.89it/s]\n",
      "Writing continuous variables.: 100%|\u001b[38;2;128;191;255m██████████\u001b[0m| 9/9 [00:00<00:00, 86.06it/s]\n",
      "Writing integer variables.: 100%|\u001b[38;2;128;191;255m██████████\u001b[0m| 2/2 [00:00<00:00, 552.79it/s]\n",
      "INFO:linopy.io: Writing time: 0.76s\n",
      "INFO:linopy.solvers:Log file at /tmp/highs.log\n"
     ]
    },
    {
     "name": "stdout",
     "output_type": "stream",
     "text": [
      "Running HiGHS 1.7.2 (git hash: 184e327): Copyright (c) 2024 HiGHS under MIT licence terms\n"
     ]
    },
    {
     "name": "stderr",
     "output_type": "stream",
     "text": [
      "INFO:linopy.constants: Optimization successful: \n",
      "Status: ok\n",
      "Termination condition: optimal\n",
      "Solution: 46739 primals, 102222 duals\n",
      "Objective: 3.30e+09\n",
      "Solver model: available\n",
      "Solver message: optimal\n",
      "\n",
      "INFO:pypsa.optimization.optimize:The shadow-prices of the constraints Generator-ext-p-lower, Generator-ext-p-upper, Link-ext-p-lower, Link-ext-p-upper, Store-ext-e-lower, Store-ext-e-upper, Store-energy_balance, self_sufficiency_constraint were not assigned to the network.\n"
     ]
    },
    {
     "name": "stdout",
     "output_type": "stream",
     "text": [
      "Coefficient ranges:\n",
      "  Matrix [8e-07, 1e+02]\n",
      "  Cost   [6e+01, 2e+06]\n",
      "  Bound  [0e+00, 0e+00]\n",
      "  RHS    [5e+02, 5e+05]\n",
      "Presolving model\n",
      "47680 rows, 44767 cols, 131394 nonzeros  0s\n",
      "38195 rows, 35282 cols, 119395 nonzeros  0s\n",
      "37459 rows, 34546 cols, 121771 nonzeros  0s\n",
      "\n",
      "Solving MIP model with:\n",
      "   37459 rows\n",
      "   34546 cols (0 binary, 5 integer, 0 implied int., 34541 continuous)\n",
      "   121771 nonzeros\n",
      "\n",
      "        Nodes      |    B&B Tree     |            Objective Bounds              |  Dynamic Constraints |       Work      \n",
      "     Proc. InQueue |  Leaves   Expl. | BestBound       BestSol              Gap |   Cuts   InLp Confl. | LpIters     Time\n",
      "\n",
      "         0       0         0   0.00%   -inf            inf                  inf        0      0      0         0     0.3s\n",
      " S       0       0         0   0.00%   -inf            3305874358.594     Large        0      0      0         0    52.0s\n",
      " R       0       0         0   0.00%   3303276182.25   3303297585.41      0.00%        0      0      0     56511    56.8s\n",
      "\n",
      "Solving report\n",
      "  Status            Optimal\n",
      "  Primal bound      3303297585.41\n",
      "  Dual bound        3303276182.25\n",
      "  Gap               0.000648% (tolerance: 0.01%)\n",
      "  Solution status   feasible\n",
      "                    3303297585.41 (objective)\n",
      "                    0 (bound viol.)\n",
      "                    0 (int. viol.)\n",
      "                    0 (row viol.)\n",
      "  Timing            56.80 (total)\n",
      "                    0.32 (presolve)\n",
      "                    0.00 (postsolve)\n",
      "  Nodes             1\n",
      "  LP iterations     56511 (total)\n",
      "                    0 (strong br.)\n",
      "                    0 (separation)\n",
      "                    0 (heuristics)\n",
      "Writing the solution to /tmp/linopy-solve-pgi160dg.sol\n"
     ]
    },
    {
     "name": "stderr",
     "output_type": "stream",
     "text": [
      "INFO:pypsa.io:Exported network network.nc has buses, links, loads, stores, generators, carriers\n",
      "INFO:pypsa.io:Imported network network.nc has buses, carriers, generators, links, loads, stores\n",
      "/home/viktor/code/pypsa-vgr/generator/library/api/generators_core.py:51: RuntimeWarning:\n",
      "\n",
      "invalid value encountered in scalar divide\n",
      "\n"
     ]
    },
    {
     "name": "stdout",
     "output_type": "stream",
     "text": [
      "90 out of 144: ('1480', 2030, 0.8, 0.2, True, True, 1)\n",
      "Check the get_geo(config) function\n",
      "Create and store parameters\n",
      "Check weather files\n",
      "Check renewables data\n",
      "Renewables files do not exist for geography 1480. Please see /input/renewables/generate-renewables.ipynb\n",
      "Create and store demand\n",
      "Create and store network\n",
      "Using config:\n",
      "\tself-sufficiency:0.925\n",
      "\th2:True\n",
      "\toffwind:True\n",
      "\tbiogas:0\n"
     ]
    },
    {
     "name": "stderr",
     "output_type": "stream",
     "text": [
      "INFO:pypsa.io:Exported network network.nc has buses, links, loads, stores, generators, carriers\n"
     ]
    },
    {
     "name": "stdout",
     "output_type": "stream",
     "text": [
      "Run optimization\n"
     ]
    },
    {
     "name": "stderr",
     "output_type": "stream",
     "text": [
      "INFO:pypsa.io:Imported network network.nc has buses, carriers, generators, links, loads, stores\n",
      "INFO:linopy.model: Solve problem using Highs solver\n",
      "INFO:linopy.io:Writing objective.\n",
      "Writing constraints.: 100%|\u001b[38;2;128;191;255m██████████\u001b[0m| 18/18 [00:00<00:00, 35.63it/s]\n",
      "Writing continuous variables.: 100%|\u001b[38;2;128;191;255m██████████\u001b[0m| 9/9 [00:00<00:00, 96.85it/s]\n",
      "Writing integer variables.: 100%|\u001b[38;2;128;191;255m██████████\u001b[0m| 2/2 [00:00<00:00, 535.71it/s]\n",
      "INFO:linopy.io: Writing time: 0.64s\n",
      "INFO:linopy.solvers:Log file at /tmp/highs.log\n"
     ]
    },
    {
     "name": "stdout",
     "output_type": "stream",
     "text": [
      "Running HiGHS 1.7.2 (git hash: 184e327): Copyright (c) 2024 HiGHS under MIT licence terms\n"
     ]
    },
    {
     "name": "stderr",
     "output_type": "stream",
     "text": [
      "INFO:linopy.constants: Optimization successful: \n",
      "Status: ok\n",
      "Termination condition: optimal\n",
      "Solution: 43818 primals, 96380 duals\n",
      "Objective: 3.00e+09\n",
      "Solver model: available\n",
      "Solver message: optimal\n",
      "\n",
      "INFO:pypsa.optimization.optimize:The shadow-prices of the constraints Generator-ext-p-lower, Generator-ext-p-upper, Link-ext-p-lower, Link-ext-p-upper, Store-ext-e-lower, Store-ext-e-upper, Store-energy_balance, self_sufficiency_constraint were not assigned to the network.\n"
     ]
    },
    {
     "name": "stdout",
     "output_type": "stream",
     "text": [
      "Coefficient ranges:\n",
      "  Matrix [8e-07, 1e+02]\n",
      "  Cost   [6e+01, 2e+06]\n",
      "  Bound  [0e+00, 0e+00]\n",
      "  RHS    [3e+02, 1e+05]\n",
      "Presolving model\n",
      "44760 rows, 38927 cols, 122634 nonzeros  0s\n",
      "38188 rows, 32355 cols, 113590 nonzeros  0s\n",
      "37448 rows, 31615 cols, 116028 nonzeros  0s\n",
      "\n",
      "Solving MIP model with:\n",
      "   37448 rows\n",
      "   31615 cols (0 binary, 5 integer, 0 implied int., 31610 continuous)\n",
      "   116028 nonzeros\n",
      "\n",
      "        Nodes      |    B&B Tree     |            Objective Bounds              |  Dynamic Constraints |       Work      \n",
      "     Proc. InQueue |  Leaves   Expl. | BestBound       BestSol              Gap |   Cuts   InLp Confl. | LpIters     Time\n",
      "\n",
      "         0       0         0   0.00%   -inf            inf                  inf        0      0      0         0     0.2s\n",
      " S       0       0         0   0.00%   -inf            2996842829.223     Large        0      0      0         0    28.3s\n",
      "\n",
      "Solving report\n",
      "  Status            Optimal\n",
      "  Primal bound      2996842829.22\n",
      "  Dual bound        2996578616.03\n",
      "  Gap               0.00882% (tolerance: 0.01%)\n",
      "  Solution status   feasible\n",
      "                    2996842829.22 (objective)\n",
      "                    0 (bound viol.)\n",
      "                    0 (int. viol.)\n",
      "                    0 (row viol.)\n",
      "  Timing            28.31 (total)\n",
      "                    0.20 (presolve)\n",
      "                    0.00 (postsolve)\n",
      "  Nodes             1\n",
      "  LP iterations     48852 (total)\n",
      "                    0 (strong br.)\n",
      "                    0 (separation)\n",
      "                    0 (heuristics)\n",
      "Writing the solution to /tmp/linopy-solve-urecs53n.sol\n"
     ]
    },
    {
     "name": "stderr",
     "output_type": "stream",
     "text": [
      "INFO:pypsa.io:Exported network network.nc has buses, links, loads, stores, generators, carriers\n",
      "INFO:pypsa.io:Imported network network.nc has buses, carriers, generators, links, loads, stores\n"
     ]
    },
    {
     "name": "stdout",
     "output_type": "stream",
     "text": [
      "91 out of 144: ('1480', 2030, 0.925, -0.2, True, True, 0)\n",
      "Check the get_geo(config) function\n",
      "Create and store parameters\n",
      "Check weather files\n",
      "Check renewables data\n",
      "Renewables files do not exist for geography 1480. Please see /input/renewables/generate-renewables.ipynb\n",
      "Create and store demand\n",
      "Create and store network\n",
      "Using config:\n",
      "\tself-sufficiency:0.925\n",
      "\th2:True\n",
      "\toffwind:True\n",
      "\tbiogas:0.5\n"
     ]
    },
    {
     "name": "stderr",
     "output_type": "stream",
     "text": [
      "INFO:pypsa.io:Exported network network.nc has buses, links, loads, stores, generators, carriers\n",
      "INFO:pypsa.io:Imported network network.nc has buses, carriers, generators, links, loads, stores\n"
     ]
    },
    {
     "name": "stdout",
     "output_type": "stream",
     "text": [
      "Run optimization\n"
     ]
    },
    {
     "name": "stderr",
     "output_type": "stream",
     "text": [
      "INFO:linopy.model: Solve problem using Highs solver\n",
      "INFO:linopy.io:Writing objective.\n",
      "Writing constraints.: 100%|\u001b[38;2;128;191;255m██████████\u001b[0m| 18/18 [00:00<00:00, 30.32it/s]\n",
      "Writing continuous variables.: 100%|\u001b[38;2;128;191;255m██████████\u001b[0m| 9/9 [00:00<00:00, 73.67it/s]\n",
      "Writing integer variables.: 100%|\u001b[38;2;128;191;255m██████████\u001b[0m| 2/2 [00:00<00:00, 544.26it/s]\n",
      "INFO:linopy.io: Writing time: 0.77s\n",
      "INFO:linopy.solvers:Log file at /tmp/highs.log\n"
     ]
    },
    {
     "name": "stdout",
     "output_type": "stream",
     "text": [
      "Running HiGHS 1.7.2 (git hash: 184e327): Copyright (c) 2024 HiGHS under MIT licence terms\n",
      "Coefficient ranges:\n",
      "  Matrix [8e-07, 1e+02]\n",
      "  Cost   [6e+01, 2e+06]\n",
      "  Bound  [0e+00, 0e+00]\n",
      "  RHS    [3e+02, 1e+05]\n",
      "Presolving model\n",
      "47680 rows, 44767 cols, 131394 nonzeros  0s\n",
      "38195 rows, 35282 cols, 119395 nonzeros  0s\n",
      "37459 rows, 34546 cols, 121771 nonzeros  0s\n",
      "\n",
      "Solving MIP model with:\n",
      "   37459 rows\n",
      "   34546 cols (0 binary, 5 integer, 0 implied int., 34541 continuous)\n",
      "   121771 nonzeros\n",
      "\n",
      "        Nodes      |    B&B Tree     |            Objective Bounds              |  Dynamic Constraints |       Work      \n",
      "     Proc. InQueue |  Leaves   Expl. | BestBound       BestSol              Gap |   Cuts   InLp Confl. | LpIters     Time\n",
      "\n",
      "         0       0         0   0.00%   -inf            inf                  inf        0      0      0         0     0.3s\n",
      " S       0       0         0   0.00%   -inf            2765203318.749     Large        0      0      0         0    44.5s\n",
      " R       0       0         0   0.00%   2760666515.588  2760719829.151     0.00%        0      0      0     61916    47.4s\n",
      "\n",
      "Solving report\n",
      "  Status            Optimal\n",
      "  Primal bound      2760719829.15\n",
      "  Dual bound        2760666515.59\n",
      "  Gap               0.00193% (tolerance: 0.01%)\n",
      "  Solution status   feasible\n",
      "                    2760719829.15 (objective)\n",
      "                    0 (bound viol.)\n",
      "                    5.39911959044e-19 (int. viol.)\n",
      "                    0 (row viol.)\n",
      "  Timing            47.46 (total)\n",
      "                    0.26 (presolve)\n",
      "                    0.00 (postsolve)\n",
      "  Nodes             1\n",
      "  LP iterations     61916 (total)\n",
      "                    0 (strong br.)\n",
      "                    0 (separation)\n",
      "                    0 (heuristics)\n",
      "Writing the solution to /tmp/linopy-solve-_kwojsa6.sol\n"
     ]
    },
    {
     "name": "stderr",
     "output_type": "stream",
     "text": [
      "INFO:linopy.constants: Optimization successful: \n",
      "Status: ok\n",
      "Termination condition: optimal\n",
      "Solution: 46739 primals, 102222 duals\n",
      "Objective: 2.76e+09\n",
      "Solver model: available\n",
      "Solver message: optimal\n",
      "\n",
      "INFO:pypsa.optimization.optimize:The shadow-prices of the constraints Generator-ext-p-lower, Generator-ext-p-upper, Link-ext-p-lower, Link-ext-p-upper, Store-ext-e-lower, Store-ext-e-upper, Store-energy_balance, self_sufficiency_constraint were not assigned to the network.\n",
      "INFO:pypsa.io:Exported network network.nc has buses, links, loads, stores, generators, carriers\n",
      "INFO:pypsa.io:Imported network network.nc has buses, carriers, generators, links, loads, stores\n"
     ]
    },
    {
     "name": "stdout",
     "output_type": "stream",
     "text": [
      "92 out of 144: ('1480', 2030, 0.925, -0.2, True, True, 0.5)\n",
      "Check the get_geo(config) function\n",
      "Create and store parameters\n",
      "Check weather files\n",
      "Check renewables data\n",
      "Renewables files do not exist for geography 1480. Please see /input/renewables/generate-renewables.ipynb\n",
      "Create and store demand\n",
      "Create and store network\n",
      "Using config:\n",
      "\tself-sufficiency:0.925\n",
      "\th2:True\n",
      "\toffwind:True\n",
      "\tbiogas:1\n"
     ]
    },
    {
     "name": "stderr",
     "output_type": "stream",
     "text": [
      "INFO:pypsa.io:Exported network network.nc has buses, links, loads, stores, generators, carriers\n",
      "INFO:pypsa.io:Imported network network.nc has buses, carriers, generators, links, loads, stores\n"
     ]
    },
    {
     "name": "stdout",
     "output_type": "stream",
     "text": [
      "Run optimization\n"
     ]
    },
    {
     "name": "stderr",
     "output_type": "stream",
     "text": [
      "INFO:linopy.model: Solve problem using Highs solver\n",
      "INFO:linopy.io:Writing objective.\n",
      "Writing constraints.: 100%|\u001b[38;2;128;191;255m██████████\u001b[0m| 18/18 [00:00<00:00, 32.82it/s]\n",
      "Writing continuous variables.: 100%|\u001b[38;2;128;191;255m██████████\u001b[0m| 9/9 [00:00<00:00, 90.65it/s]\n",
      "Writing integer variables.: 100%|\u001b[38;2;128;191;255m██████████\u001b[0m| 2/2 [00:00<00:00, 680.07it/s]\n",
      "INFO:linopy.io: Writing time: 0.7s\n",
      "INFO:linopy.solvers:Log file at /tmp/highs.log\n"
     ]
    },
    {
     "name": "stdout",
     "output_type": "stream",
     "text": [
      "Running HiGHS 1.7.2 (git hash: 184e327): Copyright (c) 2024 HiGHS under MIT licence terms\n",
      "Coefficient ranges:\n",
      "  Matrix [8e-07, 1e+02]\n",
      "  Cost   [6e+01, 2e+06]\n",
      "  Bound  [0e+00, 0e+00]\n",
      "  RHS    [3e+02, 1e+05]\n",
      "Presolving model\n",
      "47680 rows, 44767 cols, 131394 nonzeros  0s\n",
      "38195 rows, 35282 cols, 119395 nonzeros  0s\n",
      "37459 rows, 34546 cols, 121771 nonzeros  0s\n",
      "\n",
      "Solving MIP model with:\n",
      "   37459 rows\n",
      "   34546 cols (0 binary, 5 integer, 0 implied int., 34541 continuous)\n",
      "   121771 nonzeros\n",
      "\n",
      "        Nodes      |    B&B Tree     |            Objective Bounds              |  Dynamic Constraints |       Work      \n",
      "     Proc. InQueue |  Leaves   Expl. | BestBound       BestSol              Gap |   Cuts   InLp Confl. | LpIters     Time\n",
      "\n",
      "         0       0         0   0.00%   -inf            inf                  inf        0      0      0         0     0.3s\n",
      " S       0       0         0   0.00%   -inf            2765203318.749     Large        0      0      0         0    41.5s\n",
      " R       0       0         0   0.00%   2760666515.588  2760719829.151     0.00%        0      0      0     61845    44.6s\n",
      "\n",
      "Solving report\n",
      "  Status            Optimal\n",
      "  Primal bound      2760719829.15\n",
      "  Dual bound        2760666515.59\n",
      "  Gap               0.00193% (tolerance: 0.01%)\n",
      "  Solution status   feasible\n",
      "                    2760719829.15 (objective)\n",
      "                    0 (bound viol.)\n",
      "                    0 (int. viol.)\n",
      "                    0 (row viol.)\n",
      "  Timing            44.66 (total)\n",
      "                    0.29 (presolve)\n",
      "                    0.00 (postsolve)\n",
      "  Nodes             1\n",
      "  LP iterations     61845 (total)\n",
      "                    0 (strong br.)\n",
      "                    0 (separation)\n",
      "                    0 (heuristics)\n"
     ]
    },
    {
     "name": "stderr",
     "output_type": "stream",
     "text": [
      "INFO:linopy.constants: Optimization successful: \n",
      "Status: ok\n",
      "Termination condition: optimal\n",
      "Solution: 46739 primals, 102222 duals\n",
      "Objective: 2.76e+09\n",
      "Solver model: available\n",
      "Solver message: optimal\n",
      "\n",
      "INFO:pypsa.optimization.optimize:The shadow-prices of the constraints Generator-ext-p-lower, Generator-ext-p-upper, Link-ext-p-lower, Link-ext-p-upper, Store-ext-e-lower, Store-ext-e-upper, Store-energy_balance, self_sufficiency_constraint were not assigned to the network.\n"
     ]
    },
    {
     "name": "stdout",
     "output_type": "stream",
     "text": [
      "Writing the solution to /tmp/linopy-solve-rmy_xsxb.sol\n"
     ]
    },
    {
     "name": "stderr",
     "output_type": "stream",
     "text": [
      "INFO:pypsa.io:Exported network network.nc has buses, links, loads, stores, generators, carriers\n",
      "INFO:pypsa.io:Imported network network.nc has buses, carriers, generators, links, loads, stores\n"
     ]
    },
    {
     "name": "stdout",
     "output_type": "stream",
     "text": [
      "93 out of 144: ('1480', 2030, 0.925, -0.2, True, True, 1)\n",
      "Check the get_geo(config) function\n",
      "Create and store parameters\n",
      "Check weather files\n",
      "Check renewables data\n",
      "Renewables files do not exist for geography 1480. Please see /input/renewables/generate-renewables.ipynb\n",
      "Create and store demand\n",
      "Create and store network\n",
      "Using config:\n",
      "\tself-sufficiency:0.925\n",
      "\th2:True\n",
      "\toffwind:True\n",
      "\tbiogas:0\n"
     ]
    },
    {
     "name": "stderr",
     "output_type": "stream",
     "text": [
      "INFO:pypsa.io:Exported network network.nc has buses, links, loads, stores, generators, carriers\n"
     ]
    },
    {
     "name": "stdout",
     "output_type": "stream",
     "text": [
      "Run optimization\n"
     ]
    },
    {
     "name": "stderr",
     "output_type": "stream",
     "text": [
      "INFO:pypsa.io:Imported network network.nc has buses, carriers, generators, links, loads, stores\n",
      "INFO:linopy.model: Solve problem using Highs solver\n",
      "INFO:linopy.io:Writing objective.\n",
      "Writing constraints.: 100%|\u001b[38;2;128;191;255m██████████\u001b[0m| 18/18 [00:01<00:00, 17.75it/s]\n",
      "Writing continuous variables.: 100%|\u001b[38;2;128;191;255m██████████\u001b[0m| 9/9 [00:00<00:00, 80.76it/s]\n",
      "Writing integer variables.: 100%|\u001b[38;2;128;191;255m██████████\u001b[0m| 2/2 [00:00<00:00, 463.28it/s]\n",
      "INFO:linopy.io: Writing time: 1.28s\n",
      "INFO:linopy.solvers:Log file at /tmp/highs.log\n"
     ]
    },
    {
     "name": "stdout",
     "output_type": "stream",
     "text": [
      "Running HiGHS 1.7.2 (git hash: 184e327): Copyright (c) 2024 HiGHS under MIT licence terms\n",
      "Coefficient ranges:\n",
      "  Matrix [8e-07, 1e+02]\n",
      "  Cost   [6e+01, 2e+06]\n",
      "  Bound  [0e+00, 0e+00]\n",
      "  RHS    [4e+02, 1e+05]\n",
      "Presolving model\n",
      "44760 rows, 38927 cols, 122634 nonzeros  0s\n",
      "38188 rows, 32355 cols, 113590 nonzeros  0s\n",
      "37448 rows, 31615 cols, 116028 nonzeros  0s\n",
      "\n",
      "Solving MIP model with:\n",
      "   37448 rows\n",
      "   31615 cols (0 binary, 5 integer, 0 implied int., 31610 continuous)\n",
      "   116028 nonzeros\n",
      "\n",
      "        Nodes      |    B&B Tree     |            Objective Bounds              |  Dynamic Constraints |       Work      \n",
      "     Proc. InQueue |  Leaves   Expl. | BestBound       BestSol              Gap |   Cuts   InLp Confl. | LpIters     Time\n",
      "\n",
      "         0       0         0   0.00%   -inf            inf                  inf        0      0      0         0     0.3s\n",
      " S       0       0         0   0.00%   -inf            3749266543.692     Large        0      0      0         0    34.0s\n",
      " R       0       0         0   0.00%   3745723270.049  3745757156.024     0.00%        0      0      0     56145    36.2s\n",
      "\n",
      "Solving report\n",
      "  Status            Optimal\n",
      "  Primal bound      3745757156.02\n",
      "  Dual bound        3745723270.05\n",
      "  Gap               0.000905% (tolerance: 0.01%)\n",
      "  Solution status   feasible\n",
      "                    3745757156.02 (objective)\n",
      "                    0 (bound viol.)\n",
      "                    0 (int. viol.)\n",
      "                    0 (row viol.)\n",
      "  Timing            36.19 (total)\n",
      "                    0.24 (presolve)\n",
      "                    0.00 (postsolve)\n",
      "  Nodes             1\n",
      "  LP iterations     56145 (total)\n",
      "                    0 (strong br.)\n",
      "                    0 (separation)\n",
      "                    0 (heuristics)\n"
     ]
    },
    {
     "name": "stderr",
     "output_type": "stream",
     "text": [
      "INFO:linopy.constants: Optimization successful: \n",
      "Status: ok\n",
      "Termination condition: optimal\n",
      "Solution: 43818 primals, 96380 duals\n",
      "Objective: 3.75e+09\n",
      "Solver model: available\n",
      "Solver message: optimal\n",
      "\n",
      "INFO:pypsa.optimization.optimize:The shadow-prices of the constraints Generator-ext-p-lower, Generator-ext-p-upper, Link-ext-p-lower, Link-ext-p-upper, Store-ext-e-lower, Store-ext-e-upper, Store-energy_balance, self_sufficiency_constraint were not assigned to the network.\n"
     ]
    },
    {
     "name": "stdout",
     "output_type": "stream",
     "text": [
      "Writing the solution to /tmp/linopy-solve-co3ob3im.sol\n"
     ]
    },
    {
     "name": "stderr",
     "output_type": "stream",
     "text": [
      "INFO:pypsa.io:Exported network network.nc has buses, links, loads, stores, generators, carriers\n",
      "INFO:pypsa.io:Imported network network.nc has buses, carriers, generators, links, loads, stores\n"
     ]
    },
    {
     "name": "stdout",
     "output_type": "stream",
     "text": [
      "94 out of 144: ('1480', 2030, 0.925, 0, True, True, 0)\n",
      "Check the get_geo(config) function\n",
      "Create and store parameters\n",
      "Check weather files\n",
      "Check renewables data\n",
      "Renewables files do not exist for geography 1480. Please see /input/renewables/generate-renewables.ipynb\n",
      "Create and store demand\n",
      "Create and store network\n",
      "Using config:\n",
      "\tself-sufficiency:0.925\n",
      "\th2:True\n",
      "\toffwind:True\n",
      "\tbiogas:0.5\n"
     ]
    },
    {
     "name": "stderr",
     "output_type": "stream",
     "text": [
      "INFO:pypsa.io:Exported network network.nc has buses, links, loads, stores, generators, carriers\n"
     ]
    },
    {
     "name": "stdout",
     "output_type": "stream",
     "text": [
      "Run optimization\n"
     ]
    },
    {
     "name": "stderr",
     "output_type": "stream",
     "text": [
      "INFO:pypsa.io:Imported network network.nc has buses, carriers, generators, links, loads, stores\n",
      "INFO:linopy.model: Solve problem using Highs solver\n",
      "INFO:linopy.io:Writing objective.\n",
      "Writing constraints.: 100%|\u001b[38;2;128;191;255m██████████\u001b[0m| 18/18 [00:00<00:00, 28.89it/s]\n",
      "Writing continuous variables.: 100%|\u001b[38;2;128;191;255m██████████\u001b[0m| 9/9 [00:00<00:00, 70.27it/s]\n",
      "Writing integer variables.: 100%|\u001b[38;2;128;191;255m██████████\u001b[0m| 2/2 [00:00<00:00, 499.53it/s]\n",
      "INFO:linopy.io: Writing time: 0.82s\n",
      "INFO:linopy.solvers:Log file at /tmp/highs.log\n"
     ]
    },
    {
     "name": "stdout",
     "output_type": "stream",
     "text": [
      "Running HiGHS 1.7.2 (git hash: 184e327): Copyright (c) 2024 HiGHS under MIT licence terms\n"
     ]
    },
    {
     "name": "stderr",
     "output_type": "stream",
     "text": [
      "INFO:linopy.constants: Optimization successful: \n",
      "Status: ok\n",
      "Termination condition: optimal\n",
      "Solution: 46739 primals, 102222 duals\n",
      "Objective: 3.45e+09\n",
      "Solver model: available\n",
      "Solver message: optimal\n",
      "\n",
      "INFO:pypsa.optimization.optimize:The shadow-prices of the constraints Generator-ext-p-lower, Generator-ext-p-upper, Link-ext-p-lower, Link-ext-p-upper, Store-ext-e-lower, Store-ext-e-upper, Store-energy_balance, self_sufficiency_constraint were not assigned to the network.\n"
     ]
    },
    {
     "name": "stdout",
     "output_type": "stream",
     "text": [
      "Coefficient ranges:\n",
      "  Matrix [8e-07, 1e+02]\n",
      "  Cost   [6e+01, 2e+06]\n",
      "  Bound  [0e+00, 0e+00]\n",
      "  RHS    [4e+02, 1e+05]\n",
      "Presolving model\n",
      "47680 rows, 44767 cols, 131394 nonzeros  0s\n",
      "38195 rows, 35282 cols, 119395 nonzeros  0s\n",
      "37459 rows, 34546 cols, 121771 nonzeros  0s\n",
      "\n",
      "Solving MIP model with:\n",
      "   37459 rows\n",
      "   34546 cols (0 binary, 5 integer, 0 implied int., 34541 continuous)\n",
      "   121771 nonzeros\n",
      "\n",
      "        Nodes      |    B&B Tree     |            Objective Bounds              |  Dynamic Constraints |       Work      \n",
      "     Proc. InQueue |  Leaves   Expl. | BestBound       BestSol              Gap |   Cuts   InLp Confl. | LpIters     Time\n",
      "\n",
      "         0       0         0   0.00%   -inf            inf                  inf        0      0      0         0     0.3s\n",
      " S       0       0         0   0.00%   -inf            3457674290.477     Large        0      0      0         0    40.9s\n",
      " R       0       0         0   0.00%   3450833144.488  3451022547.666     0.01%        0      0      0     60145    43.8s\n",
      "\n",
      "Solving report\n",
      "  Status            Optimal\n",
      "  Primal bound      3451022547.67\n",
      "  Dual bound        3450833144.49\n",
      "  Gap               0.00549% (tolerance: 0.01%)\n",
      "  Solution status   feasible\n",
      "                    3451022547.67 (objective)\n",
      "                    0 (bound viol.)\n",
      "                    6.42811414771e-17 (int. viol.)\n",
      "                    0 (row viol.)\n",
      "  Timing            43.81 (total)\n",
      "                    0.28 (presolve)\n",
      "                    0.00 (postsolve)\n",
      "  Nodes             1\n",
      "  LP iterations     60145 (total)\n",
      "                    0 (strong br.)\n",
      "                    0 (separation)\n",
      "                    0 (heuristics)\n",
      "Writing the solution to /tmp/linopy-solve-noi_i0rj.sol\n"
     ]
    },
    {
     "name": "stderr",
     "output_type": "stream",
     "text": [
      "INFO:pypsa.io:Exported network network.nc has buses, links, loads, stores, generators, carriers\n",
      "INFO:pypsa.io:Imported network network.nc has buses, carriers, generators, links, loads, stores\n"
     ]
    },
    {
     "name": "stdout",
     "output_type": "stream",
     "text": [
      "95 out of 144: ('1480', 2030, 0.925, 0, True, True, 0.5)\n",
      "Check the get_geo(config) function\n",
      "Create and store parameters\n",
      "Check weather files\n",
      "Check renewables data\n",
      "Renewables files do not exist for geography 1480. Please see /input/renewables/generate-renewables.ipynb\n",
      "Create and store demand\n",
      "Create and store network\n",
      "Using config:\n",
      "\tself-sufficiency:0.925\n",
      "\th2:True\n",
      "\toffwind:True\n",
      "\tbiogas:1\n"
     ]
    },
    {
     "name": "stderr",
     "output_type": "stream",
     "text": [
      "INFO:pypsa.io:Exported network network.nc has buses, links, loads, stores, generators, carriers\n"
     ]
    },
    {
     "name": "stdout",
     "output_type": "stream",
     "text": [
      "Run optimization\n"
     ]
    },
    {
     "name": "stderr",
     "output_type": "stream",
     "text": [
      "INFO:pypsa.io:Imported network network.nc has buses, carriers, generators, links, loads, stores\n",
      "INFO:linopy.model: Solve problem using Highs solver\n",
      "INFO:linopy.io:Writing objective.\n",
      "Writing constraints.: 100%|\u001b[38;2;128;191;255m██████████\u001b[0m| 18/18 [00:00<00:00, 31.05it/s]\n",
      "Writing continuous variables.: 100%|\u001b[38;2;128;191;255m██████████\u001b[0m| 9/9 [00:00<00:00, 70.23it/s]\n",
      "Writing integer variables.: 100%|\u001b[38;2;128;191;255m██████████\u001b[0m| 2/2 [00:00<00:00, 453.49it/s]\n",
      "INFO:linopy.io: Writing time: 0.76s\n",
      "INFO:linopy.solvers:Log file at /tmp/highs.log\n"
     ]
    },
    {
     "name": "stdout",
     "output_type": "stream",
     "text": [
      "Running HiGHS 1.7.2 (git hash: 184e327): Copyright (c) 2024 HiGHS under MIT licence terms\n",
      "Coefficient ranges:\n",
      "  Matrix [8e-07, 1e+02]\n",
      "  Cost   [6e+01, 2e+06]\n",
      "  Bound  [0e+00, 0e+00]\n",
      "  RHS    [4e+02, 1e+05]\n",
      "Presolving model\n",
      "47680 rows, 44767 cols, 131394 nonzeros  0s\n",
      "38195 rows, 35282 cols, 119395 nonzeros  0s\n",
      "37459 rows, 34546 cols, 121771 nonzeros  0s\n",
      "\n",
      "Solving MIP model with:\n",
      "   37459 rows\n",
      "   34546 cols (0 binary, 5 integer, 0 implied int., 34541 continuous)\n",
      "   121771 nonzeros\n",
      "\n",
      "        Nodes      |    B&B Tree     |            Objective Bounds              |  Dynamic Constraints |       Work      \n",
      "     Proc. InQueue |  Leaves   Expl. | BestBound       BestSol              Gap |   Cuts   InLp Confl. | LpIters     Time\n",
      "\n",
      "         0       0         0   0.00%   -inf            inf                  inf        0      0      0         0     0.3s\n",
      " S       0       0         0   0.00%   -inf            3457674290.477     Large        0      0      0         0    44.2s\n",
      " R       0       0         0   0.00%   3450833144.488  3451022547.666     0.01%        0      0      0     61970    47.3s\n",
      "\n",
      "Solving report\n",
      "  Status            Optimal\n",
      "  Primal bound      3451022547.67\n",
      "  Dual bound        3450833144.49\n",
      "  Gap               0.00549% (tolerance: 0.01%)\n",
      "  Solution status   feasible\n",
      "                    3451022547.67 (objective)\n",
      "                    0 (bound viol.)\n",
      "                    3.19964678552e-16 (int. viol.)\n",
      "                    0 (row viol.)\n",
      "  Timing            47.30 (total)\n",
      "                    0.26 (presolve)\n",
      "                    0.00 (postsolve)\n",
      "  Nodes             1\n",
      "  LP iterations     61970 (total)\n",
      "                    0 (strong br.)\n",
      "                    0 (separation)\n",
      "                    0 (heuristics)\n",
      "Writing the solution to /tmp/linopy-solve-7a2ev5jp.sol\n"
     ]
    },
    {
     "name": "stderr",
     "output_type": "stream",
     "text": [
      "INFO:linopy.constants: Optimization successful: \n",
      "Status: ok\n",
      "Termination condition: optimal\n",
      "Solution: 46739 primals, 102222 duals\n",
      "Objective: 3.45e+09\n",
      "Solver model: available\n",
      "Solver message: optimal\n",
      "\n",
      "INFO:pypsa.optimization.optimize:The shadow-prices of the constraints Generator-ext-p-lower, Generator-ext-p-upper, Link-ext-p-lower, Link-ext-p-upper, Store-ext-e-lower, Store-ext-e-upper, Store-energy_balance, self_sufficiency_constraint were not assigned to the network.\n",
      "INFO:pypsa.io:Exported network network.nc has buses, links, loads, stores, generators, carriers\n",
      "INFO:pypsa.io:Imported network network.nc has buses, carriers, generators, links, loads, stores\n"
     ]
    },
    {
     "name": "stdout",
     "output_type": "stream",
     "text": [
      "96 out of 144: ('1480', 2030, 0.925, 0, True, True, 1)\n",
      "Check the get_geo(config) function\n",
      "Create and store parameters\n",
      "Check weather files\n",
      "Check renewables data\n",
      "Renewables files do not exist for geography 1480. Please see /input/renewables/generate-renewables.ipynb\n",
      "Create and store demand\n",
      "Create and store network\n",
      "Using config:\n",
      "\tself-sufficiency:0.925\n",
      "\th2:True\n",
      "\toffwind:True\n",
      "\tbiogas:0\n"
     ]
    },
    {
     "name": "stderr",
     "output_type": "stream",
     "text": [
      "INFO:pypsa.io:Exported network network.nc has buses, links, loads, stores, generators, carriers\n"
     ]
    },
    {
     "name": "stdout",
     "output_type": "stream",
     "text": [
      "Run optimization\n"
     ]
    },
    {
     "name": "stderr",
     "output_type": "stream",
     "text": [
      "INFO:pypsa.io:Imported network network.nc has buses, carriers, generators, links, loads, stores\n",
      "INFO:linopy.model: Solve problem using Highs solver\n",
      "INFO:linopy.io:Writing objective.\n",
      "Writing constraints.: 100%|\u001b[38;2;128;191;255m██████████\u001b[0m| 18/18 [00:00<00:00, 33.29it/s]\n",
      "Writing continuous variables.: 100%|\u001b[38;2;128;191;255m██████████\u001b[0m| 9/9 [00:00<00:00, 84.52it/s]\n",
      "Writing integer variables.: 100%|\u001b[38;2;128;191;255m██████████\u001b[0m| 2/2 [00:00<00:00, 539.36it/s]\n",
      "INFO:linopy.io: Writing time: 0.69s\n",
      "INFO:linopy.solvers:Log file at /tmp/highs.log\n"
     ]
    },
    {
     "name": "stdout",
     "output_type": "stream",
     "text": [
      "Running HiGHS 1.7.2 (git hash: 184e327): Copyright (c) 2024 HiGHS under MIT licence terms\n"
     ]
    },
    {
     "name": "stderr",
     "output_type": "stream",
     "text": [
      "INFO:linopy.constants: Optimization successful: \n",
      "Status: ok\n",
      "Termination condition: optimal\n",
      "Solution: 43818 primals, 96380 duals\n",
      "Objective: 4.49e+09\n",
      "Solver model: available\n",
      "Solver message: optimal\n",
      "\n"
     ]
    },
    {
     "name": "stdout",
     "output_type": "stream",
     "text": [
      "Coefficient ranges:\n",
      "  Matrix [8e-07, 1e+02]\n",
      "  Cost   [6e+01, 2e+06]\n",
      "  Bound  [0e+00, 0e+00]\n",
      "  RHS    [5e+02, 2e+05]\n",
      "Presolving model\n",
      "44760 rows, 38927 cols, 122634 nonzeros  0s\n",
      "38188 rows, 32355 cols, 113590 nonzeros  0s\n",
      "37448 rows, 31615 cols, 116028 nonzeros  0s\n",
      "\n",
      "Solving MIP model with:\n",
      "   37448 rows\n",
      "   31615 cols (0 binary, 5 integer, 0 implied int., 31610 continuous)\n",
      "   116028 nonzeros\n",
      "\n",
      "        Nodes      |    B&B Tree     |            Objective Bounds              |  Dynamic Constraints |       Work      \n",
      "     Proc. InQueue |  Leaves   Expl. | BestBound       BestSol              Gap |   Cuts   InLp Confl. | LpIters     Time\n",
      "\n",
      "         0       0         0   0.00%   -inf            inf                  inf        0      0      0         0     0.3s\n",
      " S       0       0         0   0.00%   -inf            4497129914.198     Large        0      0      0         0    32.9s\n",
      " R       0       0         0   0.00%   4494867924.056  4494884493.868     0.00%        0      0      0     51994    35.0s\n",
      "\n",
      "Solving report\n",
      "  Status            Optimal\n",
      "  Primal bound      4494884493.87\n",
      "  Dual bound        4494867924.06\n",
      "  Gap               0.000369% (tolerance: 0.01%)\n",
      "  Solution status   feasible\n",
      "                    4494884493.87 (objective)\n",
      "                    0 (bound viol.)\n",
      "                    0 (int. viol.)\n",
      "                    0 (row viol.)\n",
      "  Timing            35.00 (total)\n",
      "                    0.24 (presolve)\n",
      "                    0.00 (postsolve)\n",
      "  Nodes             1\n",
      "  LP iterations     51994 (total)\n",
      "                    0 (strong br.)\n",
      "                    0 (separation)\n",
      "                    0 (heuristics)\n",
      "Writing the solution to /tmp/linopy-solve-urd8glp1.sol\n"
     ]
    },
    {
     "name": "stderr",
     "output_type": "stream",
     "text": [
      "INFO:pypsa.optimization.optimize:The shadow-prices of the constraints Generator-ext-p-lower, Generator-ext-p-upper, Link-ext-p-lower, Link-ext-p-upper, Store-ext-e-lower, Store-ext-e-upper, Store-energy_balance, self_sufficiency_constraint were not assigned to the network.\n",
      "INFO:pypsa.io:Exported network network.nc has buses, links, loads, stores, generators, carriers\n",
      "INFO:pypsa.io:Imported network network.nc has buses, carriers, generators, links, loads, stores\n"
     ]
    },
    {
     "name": "stdout",
     "output_type": "stream",
     "text": [
      "97 out of 144: ('1480', 2030, 0.925, 0.2, True, True, 0)\n",
      "Check the get_geo(config) function\n",
      "Create and store parameters\n",
      "Check weather files\n",
      "Check renewables data\n",
      "Renewables files do not exist for geography 1480. Please see /input/renewables/generate-renewables.ipynb\n",
      "Create and store demand\n",
      "Create and store network\n",
      "Using config:\n",
      "\tself-sufficiency:0.925\n",
      "\th2:True\n",
      "\toffwind:True\n",
      "\tbiogas:0.5\n"
     ]
    },
    {
     "name": "stderr",
     "output_type": "stream",
     "text": [
      "INFO:pypsa.io:Exported network network.nc has buses, links, loads, stores, generators, carriers\n"
     ]
    },
    {
     "name": "stdout",
     "output_type": "stream",
     "text": [
      "Run optimization\n"
     ]
    },
    {
     "name": "stderr",
     "output_type": "stream",
     "text": [
      "INFO:pypsa.io:Imported network network.nc has buses, carriers, generators, links, loads, stores\n",
      "INFO:linopy.model: Solve problem using Highs solver\n",
      "INFO:linopy.io:Writing objective.\n",
      "Writing constraints.: 100%|\u001b[38;2;128;191;255m██████████\u001b[0m| 18/18 [00:00<00:00, 31.95it/s]\n",
      "Writing continuous variables.: 100%|\u001b[38;2;128;191;255m██████████\u001b[0m| 9/9 [00:00<00:00, 86.65it/s]\n",
      "Writing integer variables.: 100%|\u001b[38;2;128;191;255m██████████\u001b[0m| 2/2 [00:00<00:00, 643.05it/s]\n",
      "INFO:linopy.io: Writing time: 0.72s\n",
      "INFO:linopy.solvers:Log file at /tmp/highs.log\n"
     ]
    },
    {
     "name": "stdout",
     "output_type": "stream",
     "text": [
      "Running HiGHS 1.7.2 (git hash: 184e327): Copyright (c) 2024 HiGHS under MIT licence terms\n",
      "Coefficient ranges:\n",
      "  Matrix [8e-07, 1e+02]\n",
      "  Cost   [6e+01, 2e+06]\n",
      "  Bound  [0e+00, 0e+00]\n",
      "  RHS    [5e+02, 2e+05]\n",
      "Presolving model\n",
      "47680 rows, 44767 cols, 131394 nonzeros  0s\n",
      "38195 rows, 35282 cols, 119395 nonzeros  0s\n",
      "37459 rows, 34546 cols, 121771 nonzeros  0s\n",
      "\n",
      "Solving MIP model with:\n",
      "   37459 rows\n",
      "   34546 cols (0 binary, 5 integer, 0 implied int., 34541 continuous)\n",
      "   121771 nonzeros\n",
      "\n",
      "        Nodes      |    B&B Tree     |            Objective Bounds              |  Dynamic Constraints |       Work      \n",
      "     Proc. InQueue |  Leaves   Expl. | BestBound       BestSol              Gap |   Cuts   InLp Confl. | LpIters     Time\n",
      "\n",
      "         0       0         0   0.00%   -inf            inf                  inf        0      0      0         0     0.3s\n",
      " S       0       0         0   0.00%   -inf            4145544843.506     Large        0      0      0         0    42.4s\n",
      " R       0       0         0   0.00%   4140999773.384  4141111881.636     0.00%        0      0      0     62138    4"
     ]
    },
    {
     "name": "stderr",
     "output_type": "stream",
     "text": [
      "INFO:linopy.constants: Optimization successful: \n",
      "Status: ok\n",
      "Termination condition: optimal\n",
      "Solution: 46739 primals, 102222 duals\n",
      "Objective: 4.14e+09\n",
      "Solver model: available\n",
      "Solver message: optimal\n",
      "\n"
     ]
    },
    {
     "name": "stdout",
     "output_type": "stream",
     "text": [
      "5.4s\n",
      "\n",
      "Solving report\n",
      "  Status            Optimal\n",
      "  Primal bound      4141111881.64\n",
      "  Dual bound        4140999773.38\n",
      "  Gap               0.00271% (tolerance: 0.01%)\n",
      "  Solution status   feasible\n",
      "                    4141111881.64 (objective)\n",
      "                    0 (bound viol.)\n",
      "                    0 (int. viol.)\n",
      "                    0 (row viol.)\n",
      "  Timing            45.40 (total)\n",
      "                    0.23 (presolve)\n",
      "                    0.00 (postsolve)\n",
      "  Nodes             1\n",
      "  LP iterations     62138 (total)\n",
      "                    0 (strong br.)\n",
      "                    0 (separation)\n",
      "                    0 (heuristics)\n",
      "Writing the solution to /tmp/linopy-solve-b3kcxt6y.sol\n"
     ]
    },
    {
     "name": "stderr",
     "output_type": "stream",
     "text": [
      "INFO:pypsa.optimization.optimize:The shadow-prices of the constraints Generator-ext-p-lower, Generator-ext-p-upper, Link-ext-p-lower, Link-ext-p-upper, Store-ext-e-lower, Store-ext-e-upper, Store-energy_balance, self_sufficiency_constraint were not assigned to the network.\n",
      "INFO:pypsa.io:Exported network network.nc has buses, links, loads, stores, generators, carriers\n",
      "INFO:pypsa.io:Imported network network.nc has buses, carriers, generators, links, loads, stores\n"
     ]
    },
    {
     "name": "stdout",
     "output_type": "stream",
     "text": [
      "98 out of 144: ('1480', 2030, 0.925, 0.2, True, True, 0.5)\n",
      "Check the get_geo(config) function\n",
      "Create and store parameters\n",
      "Check weather files\n",
      "Check renewables data\n",
      "Renewables files do not exist for geography 1480. Please see /input/renewables/generate-renewables.ipynb\n",
      "Create and store demand\n",
      "Create and store network\n",
      "Using config:\n",
      "\tself-sufficiency:0.925\n",
      "\th2:True\n",
      "\toffwind:True\n",
      "\tbiogas:1\n"
     ]
    },
    {
     "name": "stderr",
     "output_type": "stream",
     "text": [
      "INFO:pypsa.io:Exported network network.nc has buses, links, loads, stores, generators, carriers\n"
     ]
    },
    {
     "name": "stdout",
     "output_type": "stream",
     "text": [
      "Run optimization\n"
     ]
    },
    {
     "name": "stderr",
     "output_type": "stream",
     "text": [
      "INFO:pypsa.io:Imported network network.nc has buses, carriers, generators, links, loads, stores\n",
      "INFO:linopy.model: Solve problem using Highs solver\n",
      "INFO:linopy.io:Writing objective.\n",
      "Writing constraints.: 100%|\u001b[38;2;128;191;255m██████████\u001b[0m| 18/18 [00:00<00:00, 30.26it/s]\n",
      "Writing continuous variables.: 100%|\u001b[38;2;128;191;255m██████████\u001b[0m| 9/9 [00:00<00:00, 90.73it/s]\n",
      "Writing integer variables.: 100%|\u001b[38;2;128;191;255m██████████\u001b[0m| 2/2 [00:00<00:00, 774.50it/s]\n",
      "INFO:linopy.io: Writing time: 0.75s\n",
      "INFO:linopy.solvers:Log file at /tmp/highs.log\n"
     ]
    },
    {
     "name": "stdout",
     "output_type": "stream",
     "text": [
      "Running HiGHS 1.7.2 (git hash: 184e327): Copyright (c) 2024 HiGHS under MIT licence terms\n"
     ]
    },
    {
     "name": "stderr",
     "output_type": "stream",
     "text": [
      "INFO:linopy.constants: Optimization successful: \n",
      "Status: ok\n",
      "Termination condition: optimal\n",
      "Solution: 46739 primals, 102222 duals\n",
      "Objective: 4.14e+09\n",
      "Solver model: available\n",
      "Solver message: optimal\n",
      "\n"
     ]
    },
    {
     "name": "stdout",
     "output_type": "stream",
     "text": [
      "Coefficient ranges:\n",
      "  Matrix [8e-07, 1e+02]\n",
      "  Cost   [6e+01, 2e+06]\n",
      "  Bound  [0e+00, 0e+00]\n",
      "  RHS    [5e+02, 2e+05]\n",
      "Presolving model\n",
      "47680 rows, 44767 cols, 131394 nonzeros  0s\n",
      "38195 rows, 35282 cols, 119395 nonzeros  0s\n",
      "37459 rows, 34546 cols, 121771 nonzeros  0s\n",
      "\n",
      "Solving MIP model with:\n",
      "   37459 rows\n",
      "   34546 cols (0 binary, 5 integer, 0 implied int., 34541 continuous)\n",
      "   121771 nonzeros\n",
      "\n",
      "        Nodes      |    B&B Tree     |            Objective Bounds              |  Dynamic Constraints |       Work      \n",
      "     Proc. InQueue |  Leaves   Expl. | BestBound       BestSol              Gap |   Cuts   InLp Confl. | LpIters     Time\n",
      "\n",
      "         0       0         0   0.00%   -inf            inf                  inf        0      0      0         0     0.3s\n",
      " S       0       0         0   0.00%   -inf            4145544843.506     Large        0      0      0         0    47.5s\n",
      " R       0       0         0   0.00%   4140999773.384  4141111881.636     0.00%        0      0      0     63645    50.4s\n",
      "\n",
      "Solving report\n",
      "  Status            Optimal\n",
      "  Primal bound      4141111881.64\n",
      "  Dual bound        4140999773.38\n",
      "  Gap               0.00271% (tolerance: 0.01%)\n",
      "  Solution status   feasible\n",
      "                    4141111881.64 (objective)\n",
      "                    0 (bound viol.)\n",
      "                    0 (int. viol.)\n",
      "                    0 (row viol.)\n",
      "  Timing            50.44 (total)\n",
      "                    0.27 (presolve)\n",
      "                    0.00 (postsolve)\n",
      "  Nodes             1\n",
      "  LP iterations     63645 (total)\n",
      "                    0 (strong br.)\n",
      "                    0 (separation)\n",
      "                    0 (heuristics)\n",
      "Writing the solution to /tmp/linopy-solve-tt89r4w4.sol\n"
     ]
    },
    {
     "name": "stderr",
     "output_type": "stream",
     "text": [
      "INFO:pypsa.optimization.optimize:The shadow-prices of the constraints Generator-ext-p-lower, Generator-ext-p-upper, Link-ext-p-lower, Link-ext-p-upper, Store-ext-e-lower, Store-ext-e-upper, Store-energy_balance, self_sufficiency_constraint were not assigned to the network.\n",
      "INFO:pypsa.io:Exported network network.nc has buses, links, loads, stores, generators, carriers\n",
      "INFO:pypsa.io:Imported network network.nc has buses, carriers, generators, links, loads, stores\n"
     ]
    },
    {
     "name": "stdout",
     "output_type": "stream",
     "text": [
      "99 out of 144: ('1480', 2030, 0.925, 0.2, True, True, 1)\n",
      "Check the get_geo(config) function\n",
      "Create and store parameters\n",
      "Check weather files\n",
      "Check renewables data\n",
      "Renewables files do not exist for geography 1480. Please see /input/renewables/generate-renewables.ipynb\n",
      "Create and store demand\n",
      "Create and store network\n",
      "Using config:\n",
      "\tself-sufficiency:1\n",
      "\th2:True\n",
      "\toffwind:True\n",
      "\tbiogas:0\n"
     ]
    },
    {
     "name": "stderr",
     "output_type": "stream",
     "text": [
      "INFO:pypsa.io:Exported network network.nc has buses, links, loads, stores, generators, carriers\n"
     ]
    },
    {
     "name": "stdout",
     "output_type": "stream",
     "text": [
      "Run optimization\n"
     ]
    },
    {
     "name": "stderr",
     "output_type": "stream",
     "text": [
      "INFO:pypsa.io:Imported network network.nc has buses, carriers, generators, links, loads, stores\n",
      "INFO:linopy.model: Solve problem using Highs solver\n",
      "INFO:linopy.io:Writing objective.\n",
      "Writing constraints.: 100%|\u001b[38;2;128;191;255m██████████\u001b[0m| 18/18 [00:00<00:00, 32.08it/s]\n",
      "Writing continuous variables.: 100%|\u001b[38;2;128;191;255m██████████\u001b[0m| 9/9 [00:00<00:00, 84.12it/s]\n",
      "Writing integer variables.: 100%|\u001b[38;2;128;191;255m██████████\u001b[0m| 2/2 [00:00<00:00, 510.19it/s]\n",
      "INFO:linopy.io: Writing time: 0.72s\n",
      "INFO:linopy.solvers:Log file at /tmp/highs.log\n"
     ]
    },
    {
     "name": "stdout",
     "output_type": "stream",
     "text": [
      "Running HiGHS 1.7.2 (git hash: 184e327): Copyright (c) 2024 HiGHS under MIT licence terms\n"
     ]
    },
    {
     "name": "stderr",
     "output_type": "stream",
     "text": [
      "INFO:linopy.constants: Optimization successful: \n",
      "Status: ok\n",
      "Termination condition: optimal\n",
      "Solution: 43818 primals, 96380 duals\n",
      "Objective: 5.29e+09\n",
      "Solver model: available\n",
      "Solver message: optimal\n",
      "\n"
     ]
    },
    {
     "name": "stdout",
     "output_type": "stream",
     "text": [
      "Coefficient ranges:\n",
      "  Matrix [8e-07, 1e+02]\n",
      "  Cost   [6e+01, 2e+06]\n",
      "  Bound  [0e+00, 0e+00]\n",
      "  RHS    [3e+02, 9e+02]\n",
      "Presolving model\n",
      "44759 rows, 36007 cols, 116794 nonzeros  0s\n",
      "38187 rows, 29435 cols, 107750 nonzeros  0s\n",
      "37447 rows, 28695 cols, 110188 nonzeros  0s\n",
      "\n",
      "Solving MIP model with:\n",
      "   37447 rows\n",
      "   28695 cols (0 binary, 5 integer, 0 implied int., 28690 continuous)\n",
      "   110188 nonzeros\n",
      "\n",
      "        Nodes      |    B&B Tree     |            Objective Bounds              |  Dynamic Constraints |       Work      \n",
      "     Proc. InQueue |  Leaves   Expl. | BestBound       BestSol              Gap |   Cuts   InLp Confl. | LpIters     Time\n",
      "\n",
      "         0       0         0   0.00%   -inf            inf                  inf        0      0      0         0     0.3s\n",
      " S       0       0         0   0.00%   -inf            5294081575.877     Large        0      0      0         0     9.2s\n",
      " R       0       0         0   0.00%   5292309844.795  5292413974.905     0.00%        0      0      0     42760     9.4s\n",
      "\n",
      "Solving report\n",
      "  Status            Optimal\n",
      "  Primal bound      5292413974.9\n",
      "  Dual bound        5292309844.8\n",
      "  Gap               0.00197% (tolerance: 0.01%)\n",
      "  Solution status   feasible\n",
      "                    5292413974.9 (objective)\n",
      "                    0 (bound viol.)\n",
      "                    1.32330041835e-17 (int. viol.)\n",
      "                    0 (row viol.)\n",
      "  Timing            12.47 (total)\n",
      "                    0.24 (presolve)\n",
      "                    0.00 (postsolve)\n",
      "  Nodes             1\n",
      "  LP iterations     42760 (total)\n",
      "                    0 (strong br.)\n",
      "                    0 (separation)\n",
      "                    0 (heuristics)\n",
      "Writing the solution to /tmp/linopy-solve-fvbtu6n_.sol\n"
     ]
    },
    {
     "name": "stderr",
     "output_type": "stream",
     "text": [
      "INFO:pypsa.optimization.optimize:The shadow-prices of the constraints Generator-ext-p-lower, Generator-ext-p-upper, Link-ext-p-lower, Link-ext-p-upper, Store-ext-e-lower, Store-ext-e-upper, Store-energy_balance, self_sufficiency_constraint were not assigned to the network.\n",
      "INFO:pypsa.io:Exported network network.nc has buses, links, loads, stores, generators, carriers\n",
      "INFO:pypsa.io:Imported network network.nc has buses, carriers, generators, links, loads, stores\n"
     ]
    },
    {
     "name": "stdout",
     "output_type": "stream",
     "text": [
      "100 out of 144: ('1480', 2030, 1, -0.2, True, True, 0)\n",
      "Check the get_geo(config) function\n",
      "Create and store parameters\n",
      "Check weather files\n",
      "Check renewables data\n",
      "Renewables files do not exist for geography 1480. Please see /input/renewables/generate-renewables.ipynb\n",
      "Create and store demand\n",
      "Create and store network\n",
      "Using config:\n",
      "\tself-sufficiency:1\n",
      "\th2:True\n",
      "\toffwind:True\n",
      "\tbiogas:0.5\n"
     ]
    },
    {
     "name": "stderr",
     "output_type": "stream",
     "text": [
      "INFO:pypsa.io:Exported network network.nc has buses, links, loads, stores, generators, carriers\n"
     ]
    },
    {
     "name": "stdout",
     "output_type": "stream",
     "text": [
      "Run optimization\n"
     ]
    },
    {
     "name": "stderr",
     "output_type": "stream",
     "text": [
      "INFO:pypsa.io:Imported network network.nc has buses, carriers, generators, links, loads, stores\n",
      "INFO:linopy.model: Solve problem using Highs solver\n",
      "INFO:linopy.io:Writing objective.\n",
      "Writing constraints.: 100%|\u001b[38;2;128;191;255m██████████\u001b[0m| 18/18 [00:00<00:00, 29.43it/s]\n",
      "Writing continuous variables.: 100%|\u001b[38;2;128;191;255m██████████\u001b[0m| 9/9 [00:00<00:00, 86.34it/s]\n",
      "Writing integer variables.: 100%|\u001b[38;2;128;191;255m██████████\u001b[0m| 2/2 [00:00<00:00, 640.45it/s]\n",
      "INFO:linopy.io: Writing time: 0.77s\n",
      "INFO:linopy.solvers:Log file at /tmp/highs.log\n"
     ]
    },
    {
     "name": "stdout",
     "output_type": "stream",
     "text": [
      "Running HiGHS 1.7.2 (git hash: 184e327): Copyright (c) 2024 HiGHS under MIT licence terms\n"
     ]
    },
    {
     "name": "stderr",
     "output_type": "stream",
     "text": [
      "INFO:linopy.constants: Optimization successful: \n",
      "Status: ok\n",
      "Termination condition: optimal\n",
      "Solution: 46739 primals, 102222 duals\n",
      "Objective: 3.98e+09\n",
      "Solver model: available\n",
      "Solver message: optimal\n",
      "\n",
      "INFO:pypsa.optimization.optimize:The shadow-prices of the constraints Generator-ext-p-lower, Generator-ext-p-upper, Link-ext-p-lower, Link-ext-p-upper, Store-ext-e-lower, Store-ext-e-upper, Store-energy_balance, self_sufficiency_constraint were not assigned to the network.\n"
     ]
    },
    {
     "name": "stdout",
     "output_type": "stream",
     "text": [
      "Coefficient ranges:\n",
      "  Matrix [8e-07, 1e+02]\n",
      "  Cost   [6e+01, 2e+06]\n",
      "  Bound  [0e+00, 0e+00]\n",
      "  RHS    [3e+02, 9e+02]\n",
      "Presolving model\n",
      "47679 rows, 41847 cols, 125554 nonzeros  0s\n",
      "38194 rows, 32362 cols, 113555 nonzeros  0s\n",
      "37458 rows, 31626 cols, 115931 nonzeros  0s\n",
      "\n",
      "Solving MIP model with:\n",
      "   37458 rows\n",
      "   31626 cols (0 binary, 5 integer, 0 implied int., 31621 continuous)\n",
      "   115931 nonzeros\n",
      "\n",
      "        Nodes      |    B&B Tree     |            Objective Bounds              |  Dynamic Constraints |       Work      \n",
      "     Proc. InQueue |  Leaves   Expl. | BestBound       BestSol              Gap |   Cuts   InLp Confl. | LpIters     Time\n",
      "\n",
      "         0       0         0   0.00%   -inf            inf                  inf        0      0      0         0     0.3s\n",
      " S       0       0         0   0.00%   -inf            3982890558.54      Large        0      0      0         0    17.5s\n",
      " R       0       0         0   0.00%   3977563359.642  3981855897.849     0.11%        0      0      0     52206    17.8s\n",
      "\n",
      "20.0% inactive integer columns, restarting\n",
      "Model after restart has 32659 rows, 26826 cols (1 bin., 3 int., 0 impl., 26822 cont.), and 106002 nonzeros\n",
      "\n",
      "         0       0         0   0.00%   3977563359.642  3981855897.849     0.11%        0      0      0     52206    18.0s\n",
      " R       0       0         0   0.00%   3977563359.642  3978337779.76      0.02%        0      0      0     52850    18.7s\n",
      "         0       0         0   0.00%   3977572676.081  3978337779.76      0.02%      792      5      0     52861    28.6s\n",
      "         0       0         0   0.00%   3977595875.158  3978337779.76      0.02%      792     14      0     61373    37.4s\n",
      " L       0       0         0   0.00%   3977595875.158  3978329350.016     0.02%      792     14      0     61373    52.4s\n",
      "\n",
      "Solving report\n",
      "  Status            Optimal\n",
      "  Primal bound      3978329350.02\n",
      "  Dual bound        3978327867.5\n",
      "  Gap               3.7e-05% (tolerance: 0.01%)\n",
      "  Solution status   feasible\n",
      "                    3978329350.02 (objective)\n",
      "                    0 (bound viol.)\n",
      "                    0 (int. viol.)\n",
      "                    0 (row viol.)\n",
      "  Timing            53.27 (total)\n",
      "                    0.45 (presolve)\n",
      "                    0.00 (postsolve)\n",
      "  Nodes             1\n",
      "  LP iterations     75117 (total)\n",
      "                    460 (strong br.)\n",
      "                    115 (separation)\n",
      "                    20573 (heuristics)\n",
      "Writing the solution to /tmp/linopy-solve-_zod0c49.sol\n"
     ]
    },
    {
     "name": "stderr",
     "output_type": "stream",
     "text": [
      "INFO:pypsa.io:Exported network network.nc has buses, links, loads, stores, generators, carriers\n",
      "INFO:pypsa.io:Imported network network.nc has buses, carriers, generators, links, loads, stores\n"
     ]
    },
    {
     "name": "stdout",
     "output_type": "stream",
     "text": [
      "101 out of 144: ('1480', 2030, 1, -0.2, True, True, 0.5)\n",
      "Check the get_geo(config) function\n",
      "Create and store parameters\n",
      "Check weather files\n",
      "Check renewables data\n",
      "Renewables files do not exist for geography 1480. Please see /input/renewables/generate-renewables.ipynb\n",
      "Create and store demand\n",
      "Create and store network\n",
      "Using config:\n",
      "\tself-sufficiency:1\n",
      "\th2:True\n",
      "\toffwind:True\n",
      "\tbiogas:1\n"
     ]
    },
    {
     "name": "stderr",
     "output_type": "stream",
     "text": [
      "INFO:pypsa.io:Exported network network.nc has buses, links, loads, stores, generators, carriers\n"
     ]
    },
    {
     "name": "stdout",
     "output_type": "stream",
     "text": [
      "Run optimization\n"
     ]
    },
    {
     "name": "stderr",
     "output_type": "stream",
     "text": [
      "INFO:pypsa.io:Imported network network.nc has buses, carriers, generators, links, loads, stores\n",
      "INFO:linopy.model: Solve problem using Highs solver\n",
      "INFO:linopy.io:Writing objective.\n",
      "Writing constraints.: 100%|\u001b[38;2;128;191;255m██████████\u001b[0m| 18/18 [00:00<00:00, 26.42it/s]\n",
      "Writing continuous variables.: 100%|\u001b[38;2;128;191;255m██████████\u001b[0m| 9/9 [00:00<00:00, 74.68it/s]\n",
      "Writing integer variables.: 100%|\u001b[38;2;128;191;255m██████████\u001b[0m| 2/2 [00:00<00:00, 657.78it/s]\n",
      "INFO:linopy.io: Writing time: 0.87s\n",
      "INFO:linopy.solvers:Log file at /tmp/highs.log\n"
     ]
    },
    {
     "name": "stdout",
     "output_type": "stream",
     "text": [
      "Running HiGHS 1.7.2 (git hash: 184e327): Copyright (c) 2024 HiGHS under MIT licence terms\n"
     ]
    },
    {
     "name": "stderr",
     "output_type": "stream",
     "text": [
      "INFO:linopy.constants: Optimization successful: \n",
      "Status: ok\n",
      "Termination condition: optimal\n",
      "Solution: 46739 primals, 102222 duals\n",
      "Objective: 3.52e+09\n",
      "Solver model: available\n",
      "Solver message: optimal\n",
      "\n"
     ]
    },
    {
     "name": "stdout",
     "output_type": "stream",
     "text": [
      "Coefficient ranges:\n",
      "  Matrix [8e-07, 1e+02]\n",
      "  Cost   [6e+01, 2e+06]\n",
      "  Bound  [0e+00, 0e+00]\n",
      "  RHS    [3e+02, 9e+02]\n",
      "Presolving model\n",
      "47679 rows, 41847 cols, 125554 nonzeros  0s\n",
      "38194 rows, 32362 cols, 113555 nonzeros  0s\n",
      "37458 rows, 31626 cols, 115931 nonzeros  0s\n",
      "\n",
      "Solving MIP model with:\n",
      "   37458 rows\n",
      "   31626 cols (0 binary, 5 integer, 0 implied int., 31621 continuous)\n",
      "   115931 nonzeros\n",
      "\n",
      "        Nodes      |    B&B Tree     |            Objective Bounds              |  Dynamic Constraints |       Work      \n",
      "     Proc. InQueue |  Leaves   Expl. | BestBound       BestSol              Gap |   Cuts   InLp Confl. | LpIters     Time\n",
      "\n",
      "         0       0         0   0.00%   -inf            inf                  inf        0      0      0         0     0.3s\n",
      " S       0       0         0   0.00%   -inf            3520503379.411     Large        0      0      0         0    28.4s\n",
      " R       0       0         0   0.00%   3516029737.298  3516086223.353     0.00%        0      0      0     72098    28.6s\n",
      "\n",
      "Solving report\n",
      "  Status            Optimal\n",
      "  Primal bound      3516086223.35\n",
      "  Dual bound        3516029737.3\n",
      "  Gap               0.00161% (tolerance: 0.01%)\n",
      "  Solution status   feasible\n",
      "                    3516086223.35 (objective)\n",
      "                    0 (bound viol.)\n",
      "                    4.52506822167e-18 (int. viol.)\n",
      "                    0 (row viol.)\n",
      "  Timing            28.65 (total)\n",
      "                    0.30 (presolve)\n",
      "                    0.00 (postsolve)\n",
      "  Nodes             1\n",
      "  LP iterations     72098 (total)\n",
      "                    0 (strong br.)\n",
      "                    0 (separation)\n",
      "                    0 (heuristics)\n",
      "Writing the solution to /tmp/linopy-solve-pri5gl8z.sol\n"
     ]
    },
    {
     "name": "stderr",
     "output_type": "stream",
     "text": [
      "INFO:pypsa.optimization.optimize:The shadow-prices of the constraints Generator-ext-p-lower, Generator-ext-p-upper, Link-ext-p-lower, Link-ext-p-upper, Store-ext-e-lower, Store-ext-e-upper, Store-energy_balance, self_sufficiency_constraint were not assigned to the network.\n",
      "INFO:pypsa.io:Exported network network.nc has buses, links, loads, stores, generators, carriers\n",
      "INFO:pypsa.io:Imported network network.nc has buses, carriers, generators, links, loads, stores\n"
     ]
    },
    {
     "name": "stdout",
     "output_type": "stream",
     "text": [
      "102 out of 144: ('1480', 2030, 1, -0.2, True, True, 1)\n",
      "Check the get_geo(config) function\n",
      "Create and store parameters\n",
      "Check weather files\n",
      "Check renewables data\n",
      "Renewables files do not exist for geography 1480. Please see /input/renewables/generate-renewables.ipynb\n",
      "Create and store demand\n",
      "Create and store network\n",
      "Using config:\n",
      "\tself-sufficiency:1\n",
      "\th2:True\n",
      "\toffwind:True\n",
      "\tbiogas:0\n"
     ]
    },
    {
     "name": "stderr",
     "output_type": "stream",
     "text": [
      "INFO:pypsa.io:Exported network network.nc has buses, links, loads, stores, generators, carriers\n"
     ]
    },
    {
     "name": "stdout",
     "output_type": "stream",
     "text": [
      "Run optimization\n"
     ]
    },
    {
     "name": "stderr",
     "output_type": "stream",
     "text": [
      "INFO:pypsa.io:Imported network network.nc has buses, carriers, generators, links, loads, stores\n",
      "INFO:linopy.model: Solve problem using Highs solver\n",
      "INFO:linopy.io:Writing objective.\n",
      "Writing constraints.: 100%|\u001b[38;2;128;191;255m██████████\u001b[0m| 18/18 [00:00<00:00, 30.50it/s]\n",
      "Writing continuous variables.: 100%|\u001b[38;2;128;191;255m██████████\u001b[0m| 9/9 [00:00<00:00, 86.96it/s]\n",
      "Writing integer variables.: 100%|\u001b[38;2;128;191;255m██████████\u001b[0m| 2/2 [00:00<00:00, 771.15it/s]\n",
      "INFO:linopy.io: Writing time: 0.74s\n",
      "INFO:linopy.solvers:Log file at /tmp/highs.log\n"
     ]
    },
    {
     "name": "stdout",
     "output_type": "stream",
     "text": [
      "Running HiGHS 1.7.2 (git hash: 184e327): Copyright (c) 2024 HiGHS under MIT licence terms\n",
      "Coefficient ranges:\n",
      "  Matrix [8e-07, 1e+02]\n",
      "  Cost   [6e+01, 2e+06]\n",
      "  Bound  [0e+00, 0e+00]\n",
      "  RHS    [4e+02, 1e+03]\n",
      "Presolving model\n",
      "44759 rows, 36007 cols, 116794 nonzeros  0s\n",
      "38187 rows, 29435 cols, 107750 nonzeros  0s\n",
      "37447 rows, 28695 cols, 110188 nonzeros  0s\n",
      "\n",
      "Solving MIP model with:\n",
      "   37447 rows\n",
      "   28695 cols (0 binary, 5 integer, 0 implied int., 28690 continuous)\n",
      "   110188 nonzeros\n",
      "\n",
      "        Nodes      |    B&B Tree     |            Objective Bounds              |  Dynamic Constraints |       Work      \n",
      "     Proc. InQueue |  Leaves   Expl. | BestBound       BestSol              Gap |   Cuts   InLp Confl. | LpIters     Time\n",
      "\n",
      "         0       0         0   0.00%   -inf            inf                  inf        0      0      0         0     0.2s\n",
      " S       0       0         0   0.00%   -inf            6618811139.441     Large        0      0      0         0     9.9s\n",
      " R       0       0         0   0.00%   6615387305.994  6615590639.273     0.00%        0      0      0     40703    10.2s\n",
      "\n",
      "Solving report\n",
      "  Status            Optimal\n",
      "  Primal bound      6615590639.27\n",
      "  Dual bound        6615387305.99\n",
      "  Gap               0.00307% (tolerance: 0.01%)\n",
      "  Solution status   feasible\n",
      "                    6615590639.27 (objective)\n",
      "                    0 (bound viol.)\n",
      "                    0 (int. viol.)\n",
      "                    0 (row viol.)\n",
      "  Timing            10.46 (total)\n",
      "                    0.22 (presolve)\n",
      "                    0.00 (postsolve)\n",
      "  Nodes             1\n",
      "  LP iterations     40703 (total)\n",
      "                    0 (strong br.)\n",
      "                    0 (separation)\n",
      "                    0 (heuristics)\n",
      "Writing the solution to /tmp/linopy-solve-dq3nuxud.sol\n"
     ]
    },
    {
     "name": "stderr",
     "output_type": "stream",
     "text": [
      "INFO:linopy.constants: Optimization successful: \n",
      "Status: ok\n",
      "Termination condition: optimal\n",
      "Solution: 43818 primals, 96380 duals\n",
      "Objective: 6.62e+09\n",
      "Solver model: available\n",
      "Solver message: optimal\n",
      "\n",
      "INFO:pypsa.optimization.optimize:The shadow-prices of the constraints Generator-ext-p-lower, Generator-ext-p-upper, Link-ext-p-lower, Link-ext-p-upper, Store-ext-e-lower, Store-ext-e-upper, Store-energy_balance, self_sufficiency_constraint were not assigned to the network.\n",
      "INFO:pypsa.io:Exported network network.nc has buses, links, loads, stores, generators, carriers\n",
      "INFO:pypsa.io:Imported network network.nc has buses, carriers, generators, links, loads, stores\n"
     ]
    },
    {
     "name": "stdout",
     "output_type": "stream",
     "text": [
      "103 out of 144: ('1480', 2030, 1, 0, True, True, 0)\n",
      "Check the get_geo(config) function\n",
      "Create and store parameters\n",
      "Check weather files\n",
      "Check renewables data\n",
      "Renewables files do not exist for geography 1480. Please see /input/renewables/generate-renewables.ipynb\n",
      "Create and store demand\n",
      "Create and store network\n",
      "Using config:\n",
      "\tself-sufficiency:1\n",
      "\th2:True\n",
      "\toffwind:True\n",
      "\tbiogas:0.5\n"
     ]
    },
    {
     "name": "stderr",
     "output_type": "stream",
     "text": [
      "INFO:pypsa.io:Exported network network.nc has buses, links, loads, stores, generators, carriers\n"
     ]
    },
    {
     "name": "stdout",
     "output_type": "stream",
     "text": [
      "Run optimization\n"
     ]
    },
    {
     "name": "stderr",
     "output_type": "stream",
     "text": [
      "INFO:pypsa.io:Imported network network.nc has buses, carriers, generators, links, loads, stores\n",
      "INFO:linopy.model: Solve problem using Highs solver\n",
      "INFO:linopy.io:Writing objective.\n",
      "Writing constraints.: 100%|\u001b[38;2;128;191;255m██████████\u001b[0m| 18/18 [00:00<00:00, 31.33it/s]\n",
      "Writing continuous variables.: 100%|\u001b[38;2;128;191;255m██████████\u001b[0m| 9/9 [00:00<00:00, 78.45it/s]\n",
      "Writing integer variables.: 100%|\u001b[38;2;128;191;255m██████████\u001b[0m| 2/2 [00:00<00:00, 623.55it/s]\n",
      "INFO:linopy.io: Writing time: 0.74s\n",
      "INFO:linopy.solvers:Log file at /tmp/highs.log\n"
     ]
    },
    {
     "name": "stdout",
     "output_type": "stream",
     "text": [
      "Running HiGHS 1.7.2 (git hash: 184e327): Copyright (c) 2024 HiGHS under MIT licence terms\n"
     ]
    },
    {
     "name": "stderr",
     "output_type": "stream",
     "text": [
      "INFO:linopy.constants: Optimization successful: \n",
      "Status: ok\n",
      "Termination condition: optimal\n",
      "Solution: 46739 primals, 102222 duals\n",
      "Objective: 4.97e+09\n",
      "Solver model: available\n",
      "Solver message: optimal\n",
      "\n",
      "INFO:pypsa.optimization.optimize:The shadow-prices of the constraints Generator-ext-p-lower, Generator-ext-p-upper, Link-ext-p-lower, Link-ext-p-upper, Store-ext-e-lower, Store-ext-e-upper, Store-energy_balance, self_sufficiency_constraint were not assigned to the network.\n"
     ]
    },
    {
     "name": "stdout",
     "output_type": "stream",
     "text": [
      "Coefficient ranges:\n",
      "  Matrix [8e-07, 1e+02]\n",
      "  Cost   [6e+01, 2e+06]\n",
      "  Bound  [0e+00, 0e+00]\n",
      "  RHS    [4e+02, 1e+03]\n",
      "Presolving model\n",
      "47679 rows, 41847 cols, 125554 nonzeros  0s\n",
      "38194 rows, 32362 cols, 113555 nonzeros  0s\n",
      "37458 rows, 31626 cols, 115931 nonzeros  0s\n",
      "\n",
      "Solving MIP model with:\n",
      "   37458 rows\n",
      "   31626 cols (0 binary, 5 integer, 0 implied int., 31621 continuous)\n",
      "   115931 nonzeros\n",
      "\n",
      "        Nodes      |    B&B Tree     |            Objective Bounds              |  Dynamic Constraints |       Work      \n",
      "     Proc. InQueue |  Leaves   Expl. | BestBound       BestSol              Gap |   Cuts   InLp Confl. | LpIters     Time\n",
      "\n",
      "         0       0         0   0.00%   -inf            inf                  inf        0      0      0         0     0.3s\n",
      " S       0       0         0   0.00%   -inf            4977532177.103     Large        0      0      0         0    18.0s\n",
      " R       0       0         0   0.00%   4971954199.551  4976170074.58      0.08%        0      0      0     54120    18.5s\n",
      "\n",
      "40.0% inactive integer columns, restarting\n",
      "Model after restart has 27376 rows, 21542 cols (0 bin., 3 int., 0 impl., 21539 cont.), and 96091 nonzeros\n",
      "\n",
      "         0       0         0   0.00%   4971954199.551  4976170074.58      0.08%        0      0      0     54120    18.7s\n",
      " R       0       0         0   0.00%   4971954199.551  4972922531.856     0.02%        0      0      0     54658    19.1s\n",
      "         0       0         0   0.00%   4971971583.962  4972922531.856     0.02%      787      5      0     54676    24.4s\n",
      "\n",
      "Solving report\n",
      "  Status            Optimal\n",
      "  Primal bound      4972922531.86\n",
      "  Dual bound        4972909834.38\n",
      "  Gap               0.000255% (tolerance: 0.01%)\n",
      "  Solution status   feasible\n",
      "                    4972922531.86 (objective)\n",
      "                    0 (bound viol.)\n",
      "                    0 (int. viol.)\n",
      "                    0 (row viol.)\n",
      "  Timing            24.76 (total)\n",
      "                    0.40 (presolve)\n",
      "                    0.00 (postsolve)\n",
      "  Nodes             1\n",
      "  LP iterations     55175 (total)\n",
      "                    0 (strong br.)\n",
      "                    517 (separation)\n",
      "                    0 (heuristics)\n",
      "Writing the solution to /tmp/linopy-solve-53zm7ix_.sol\n"
     ]
    },
    {
     "name": "stderr",
     "output_type": "stream",
     "text": [
      "INFO:pypsa.io:Exported network network.nc has buses, links, loads, stores, generators, carriers\n",
      "INFO:pypsa.io:Imported network network.nc has buses, carriers, generators, links, loads, stores\n"
     ]
    },
    {
     "name": "stdout",
     "output_type": "stream",
     "text": [
      "104 out of 144: ('1480', 2030, 1, 0, True, True, 0.5)\n",
      "Check the get_geo(config) function\n",
      "Create and store parameters\n",
      "Check weather files\n",
      "Check renewables data\n",
      "Renewables files do not exist for geography 1480. Please see /input/renewables/generate-renewables.ipynb\n",
      "Create and store demand\n",
      "Create and store network\n",
      "Using config:\n",
      "\tself-sufficiency:1\n",
      "\th2:True\n",
      "\toffwind:True\n",
      "\tbiogas:1\n"
     ]
    },
    {
     "name": "stderr",
     "output_type": "stream",
     "text": [
      "INFO:pypsa.io:Exported network network.nc has buses, links, loads, stores, generators, carriers\n"
     ]
    },
    {
     "name": "stdout",
     "output_type": "stream",
     "text": [
      "Run optimization\n"
     ]
    },
    {
     "name": "stderr",
     "output_type": "stream",
     "text": [
      "INFO:pypsa.io:Imported network network.nc has buses, carriers, generators, links, loads, stores\n",
      "INFO:linopy.model: Solve problem using Highs solver\n",
      "INFO:linopy.io:Writing objective.\n",
      "Writing constraints.: 100%|\u001b[38;2;128;191;255m██████████\u001b[0m| 18/18 [00:00<00:00, 26.36it/s]\n",
      "Writing continuous variables.: 100%|\u001b[38;2;128;191;255m██████████\u001b[0m| 9/9 [00:00<00:00, 87.56it/s]\n",
      "Writing integer variables.: 100%|\u001b[38;2;128;191;255m██████████\u001b[0m| 2/2 [00:00<00:00, 508.03it/s]\n",
      "INFO:linopy.io: Writing time: 0.85s\n",
      "INFO:linopy.solvers:Log file at /tmp/highs.log\n"
     ]
    },
    {
     "name": "stdout",
     "output_type": "stream",
     "text": [
      "Running HiGHS 1.7.2 (git hash: 184e327): Copyright (c) 2024 HiGHS under MIT licence terms\n"
     ]
    },
    {
     "name": "stderr",
     "output_type": "stream",
     "text": [
      "INFO:linopy.constants: Optimization successful: \n",
      "Status: ok\n",
      "Termination condition: optimal\n",
      "Solution: 46739 primals, 102222 duals\n",
      "Objective: 4.40e+09\n",
      "Solver model: available\n",
      "Solver message: optimal\n",
      "\n"
     ]
    },
    {
     "name": "stdout",
     "output_type": "stream",
     "text": [
      "Coefficient ranges:\n",
      "  Matrix [8e-07, 1e+02]\n",
      "  Cost   [6e+01, 2e+06]\n",
      "  Bound  [0e+00, 0e+00]\n",
      "  RHS    [4e+02, 1e+03]\n",
      "Presolving model\n",
      "47679 rows, 41847 cols, 125554 nonzeros  0s\n",
      "38194 rows, 32362 cols, 113555 nonzeros  0s\n",
      "37458 rows, 31626 cols, 115931 nonzeros  0s\n",
      "\n",
      "Solving MIP model with:\n",
      "   37458 rows\n",
      "   31626 cols (0 binary, 5 integer, 0 implied int., 31621 continuous)\n",
      "   115931 nonzeros\n",
      "\n",
      "        Nodes      |    B&B Tree     |            Objective Bounds              |  Dynamic Constraints |       Work      \n",
      "     Proc. InQueue |  Leaves   Expl. | BestBound       BestSol              Gap |   Cuts   InLp Confl. | LpIters     Time\n",
      "\n",
      "         0       0         0   0.00%   -inf            inf                  inf        0      0      0         0     0.3s\n",
      " S       0       0         0   0.00%   -inf            4399568240.558     Large        0      0      0         0    25.5s\n",
      " R       0       0         0   0.00%   4395037171.622  4395128376.801     0.00%        0      0      0     75751    25.7s\n",
      "\n",
      "Solving report\n",
      "  Status            Optimal\n",
      "  Primal bound      4395128376.8\n",
      "  Dual bound        4395037171.62\n",
      "  Gap               0.00208% (tolerance: 0.01%)\n",
      "  Solution status   feasible\n",
      "                    4395128376.8 (objective)\n",
      "                    0 (bound viol.)\n",
      "                    0 (int. viol.)\n",
      "                    0 (row viol.)\n",
      "  Timing            25.72 (total)\n",
      "                    0.25 (presolve)\n",
      "                    0.00 (postsolve)\n",
      "  Nodes             1\n",
      "  LP iterations     75751 (total)\n",
      "                    0 (strong br.)\n",
      "                    0 (separation)\n",
      "                    0 (heuristics)\n",
      "Writing the solution to /tmp/linopy-solve-a7a7qswr.sol\n"
     ]
    },
    {
     "name": "stderr",
     "output_type": "stream",
     "text": [
      "INFO:pypsa.optimization.optimize:The shadow-prices of the constraints Generator-ext-p-lower, Generator-ext-p-upper, Link-ext-p-lower, Link-ext-p-upper, Store-ext-e-lower, Store-ext-e-upper, Store-energy_balance, self_sufficiency_constraint were not assigned to the network.\n",
      "INFO:pypsa.io:Exported network network.nc has buses, links, loads, stores, generators, carriers\n",
      "INFO:pypsa.io:Imported network network.nc has buses, carriers, generators, links, loads, stores\n"
     ]
    },
    {
     "name": "stdout",
     "output_type": "stream",
     "text": [
      "105 out of 144: ('1480', 2030, 1, 0, True, True, 1)\n",
      "Check the get_geo(config) function\n",
      "Create and store parameters\n",
      "Check weather files\n",
      "Check renewables data\n",
      "Renewables files do not exist for geography 1480. Please see /input/renewables/generate-renewables.ipynb\n",
      "Create and store demand\n",
      "Create and store network\n",
      "Using config:\n",
      "\tself-sufficiency:1\n",
      "\th2:True\n",
      "\toffwind:True\n",
      "\tbiogas:0\n"
     ]
    },
    {
     "name": "stderr",
     "output_type": "stream",
     "text": [
      "INFO:pypsa.io:Exported network network.nc has buses, links, loads, stores, generators, carriers\n"
     ]
    },
    {
     "name": "stdout",
     "output_type": "stream",
     "text": [
      "Run optimization\n"
     ]
    },
    {
     "name": "stderr",
     "output_type": "stream",
     "text": [
      "INFO:pypsa.io:Imported network network.nc has buses, carriers, generators, links, loads, stores\n",
      "INFO:linopy.model: Solve problem using Highs solver\n",
      "INFO:linopy.io:Writing objective.\n",
      "Writing constraints.: 100%|\u001b[38;2;128;191;255m██████████\u001b[0m| 18/18 [00:00<00:00, 34.52it/s]\n",
      "Writing continuous variables.: 100%|\u001b[38;2;128;191;255m██████████\u001b[0m| 9/9 [00:00<00:00, 91.97it/s]\n",
      "Writing integer variables.: 100%|\u001b[38;2;128;191;255m██████████\u001b[0m| 2/2 [00:00<00:00, 704.45it/s]\n",
      "INFO:linopy.io: Writing time: 0.66s\n",
      "INFO:linopy.solvers:Log file at /tmp/highs.log\n"
     ]
    },
    {
     "name": "stdout",
     "output_type": "stream",
     "text": [
      "Running HiGHS 1.7.2 (git hash: 184e327): Copyright (c) 2024 HiGHS under MIT licence terms\n",
      "Coefficient ranges:\n",
      "  Matrix [8e-07, 1e+02]\n",
      "  Cost   [6e+01, 2e+06]\n",
      "  Bound  [0e+00, 0e+00]\n",
      "  RHS    [5e+02, 1e+03]\n"
     ]
    },
    {
     "name": "stderr",
     "output_type": "stream",
     "text": [
      "INFO:linopy.constants: Optimization successful: \n",
      "Status: ok\n",
      "Termination condition: optimal\n",
      "Solution: 43818 primals, 96380 duals\n",
      "Objective: 7.94e+09\n",
      "Solver model: available\n",
      "Solver message: optimal\n",
      "\n"
     ]
    },
    {
     "name": "stdout",
     "output_type": "stream",
     "text": [
      "Presolving model\n",
      "44759 rows, 36007 cols, 116794 nonzeros  0s\n",
      "38187 rows, 29435 cols, 107750 nonzeros  0s\n",
      "37447 rows, 28695 cols, 110188 nonzeros  0s\n",
      "\n",
      "Solving MIP model with:\n",
      "   37447 rows\n",
      "   28695 cols (0 binary, 5 integer, 0 implied int., 28690 continuous)\n",
      "   110188 nonzeros\n",
      "\n",
      "        Nodes      |    B&B Tree     |            Objective Bounds              |  Dynamic Constraints |       Work      \n",
      "     Proc. InQueue |  Leaves   Expl. | BestBound       BestSol              Gap |   Cuts   InLp Confl. | LpIters     Time\n",
      "\n",
      "         0       0         0   0.00%   -inf            inf                  inf        0      0      0         0     0.3s\n",
      " S       0       0         0   0.00%   -inf            7938980359.038     Large        0      0      0         0     9.4s\n",
      "\n",
      "Solving report\n",
      "  Status            Optimal\n",
      "  Primal bound      7938980359.04\n",
      "  Dual bound        7938464767.19\n",
      "  Gap               0.00649% (tolerance: 0.01%)\n",
      "  Solution status   feasible\n",
      "                    7938980359.04 (objective)\n",
      "                    0 (bound viol.)\n",
      "                    0 (int. viol.)\n",
      "                    0 (row viol.)\n",
      "  Timing            9.38 (total)\n",
      "                    0.24 (presolve)\n",
      "                    0.00 (postsolve)\n",
      "  Nodes             1\n",
      "  LP iterations     39419 (total)\n",
      "                    0 (strong br.)\n",
      "                    0 (separation)\n",
      "                    0 (heuristics)\n",
      "Writing the solution to /tmp/linopy-solve-kisj7714.sol\n"
     ]
    },
    {
     "name": "stderr",
     "output_type": "stream",
     "text": [
      "INFO:pypsa.optimization.optimize:The shadow-prices of the constraints Generator-ext-p-lower, Generator-ext-p-upper, Link-ext-p-lower, Link-ext-p-upper, Store-ext-e-lower, Store-ext-e-upper, Store-energy_balance, self_sufficiency_constraint were not assigned to the network.\n",
      "INFO:pypsa.io:Exported network network.nc has buses, links, loads, stores, generators, carriers\n",
      "INFO:pypsa.io:Imported network network.nc has buses, carriers, generators, links, loads, stores\n"
     ]
    },
    {
     "name": "stdout",
     "output_type": "stream",
     "text": [
      "106 out of 144: ('1480', 2030, 1, 0.2, True, True, 0)\n",
      "Check the get_geo(config) function\n",
      "Create and store parameters\n",
      "Check weather files\n",
      "Check renewables data\n",
      "Renewables files do not exist for geography 1480. Please see /input/renewables/generate-renewables.ipynb\n",
      "Create and store demand\n",
      "Create and store network\n",
      "Using config:\n",
      "\tself-sufficiency:1\n",
      "\th2:True\n",
      "\toffwind:True\n",
      "\tbiogas:0.5\n"
     ]
    },
    {
     "name": "stderr",
     "output_type": "stream",
     "text": [
      "INFO:pypsa.io:Exported network network.nc has buses, links, loads, stores, generators, carriers\n"
     ]
    },
    {
     "name": "stdout",
     "output_type": "stream",
     "text": [
      "Run optimization\n"
     ]
    },
    {
     "name": "stderr",
     "output_type": "stream",
     "text": [
      "INFO:pypsa.io:Imported network network.nc has buses, carriers, generators, links, loads, stores\n",
      "INFO:linopy.model: Solve problem using Highs solver\n",
      "INFO:linopy.io:Writing objective.\n",
      "Writing constraints.: 100%|\u001b[38;2;128;191;255m██████████\u001b[0m| 18/18 [00:00<00:00, 31.93it/s]\n",
      "Writing continuous variables.: 100%|\u001b[38;2;128;191;255m██████████\u001b[0m| 9/9 [00:00<00:00, 68.21it/s]\n",
      "Writing integer variables.: 100%|\u001b[38;2;128;191;255m██████████\u001b[0m| 2/2 [00:00<00:00, 467.64it/s]\n",
      "INFO:linopy.io: Writing time: 0.75s\n",
      "INFO:linopy.solvers:Log file at /tmp/highs.log\n"
     ]
    },
    {
     "name": "stdout",
     "output_type": "stream",
     "text": [
      "Running HiGHS 1.7.2 (git hash: 184e327): Copyright (c) 2024 HiGHS under MIT licence terms\n",
      "Coefficient ranges:\n",
      "  Matrix [8e-07, 1e+02]\n",
      "  Cost   [6e+01, 2e+06]\n",
      "  Bound  [0e+00, 0e+00]\n",
      "  RHS    [5e+02, 1e+03]\n",
      "Presolving model\n",
      "47679 rows, 41847 cols, 125554 nonzeros  0s\n",
      "38194 rows, 32362 cols, 113555 nonzeros  0s\n",
      "37458 rows, 31626 cols, 115931 nonzeros  0s\n",
      "\n",
      "Solving MIP model with:\n",
      "   37458 rows\n",
      "   31626 cols (0 binary, 5 integer, 0 implied int., 31621 continuous)\n",
      "   115931 nonzeros\n",
      "\n",
      "        Nodes      |    B&B Tree     |            Objective Bounds              |  Dynamic Constraints |       Work      \n",
      "     Proc. InQueue |  Leaves   Expl. | BestBound       BestSol              Gap |   Cuts   InLp Confl. | LpIters     Time\n",
      "\n",
      "         0       0         0   0.00%   -inf            inf                  inf        0      0      0         0     0.3s\n",
      " S       0       0         0   0.00%   -inf            5972173795.653     Large        0      0      0         0    20.9s\n",
      " R       0       0         0   0.00%   5966345039.462  5970484251.313     0.07%        0      0      0     57684    21.3s\n",
      "\n",
      "20.0% inactive integer columns, restarting\n",
      "Model after restart has 32659 rows, 26826 cols (0 bin., 4 int., 0 impl., 26822 cont.), and 106002 nonzeros\n",
      "\n",
      "         0       0         0   0.00%   5966345039.462  5970484251.313     0.07%        0      0      0     57684    21.5s\n",
      " R       0       0         0   0.00%   5966345039.462  5967506055.327     0.02%        0      0      0     58379    22.2s\n",
      "         0       0         0   0.00%   5966351934.501  5967506055.327     0.02%      791      5      0     58486    31.1s\n",
      "         0       0         0   0.00%   5966351934.501  5967506055.327     0.02%      791      5      0     68072    37.4s\n",
      "\n",
      "25.0% inactive integer columns, restarting\n",
      "Model after restart has 27372 rows, 21538 cols (0 bin., 3 int., 0 impl., 21535 cont.), and 95851 nonzeros\n",
      "\n",
      "         0       0         0   0.00%   5966351934.501  5967506055.327     0.02%        5      0      0     68072    37.6s\n",
      " R       0       0         0   0.00%   5966351934.501  5967502868.161     0.02%        5      5      0     68521    38.0s\n",
      "         0       0         0   0.00%   5966388402.038  5967502868.161     0."
     ]
    },
    {
     "name": "stderr",
     "output_type": "stream",
     "text": [
      "INFO:linopy.constants: Optimization successful: \n",
      "Status: ok\n",
      "Termination condition: optimal\n",
      "Solution: 46739 primals, 102222 duals\n",
      "Objective: 5.97e+09\n",
      "Solver model: available\n",
      "Solver message: optimal\n",
      "\n"
     ]
    },
    {
     "name": "stdout",
     "output_type": "stream",
     "text": [
      "02%      793     19      0     78472    47.1s\n",
      "\n",
      "Solving report\n",
      "  Status            Optimal\n",
      "  Primal bound      5967502868.16\n",
      "  Dual bound        5967491801.25\n",
      "  Gap               0.000185% (tolerance: 0.01%)\n",
      "  Solution status   feasible\n",
      "                    5967502868.16 (objective)\n",
      "                    0 (bound viol.)\n",
      "                    0 (int. viol.)\n",
      "                    0 (row viol.)\n",
      "  Timing            47.43 (total)\n",
      "                    0.55 (presolve)\n",
      "                    0.00 (postsolve)\n",
      "  Nodes             1\n",
      "  LP iterations     78971 (total)\n",
      "                    429 (strong br.)\n",
      "                    199 (separation)\n",
      "                    19445 (heuristics)\n",
      "Writing the solution to /tmp/linopy-solve-k4zxns81.sol\n"
     ]
    },
    {
     "name": "stderr",
     "output_type": "stream",
     "text": [
      "INFO:pypsa.optimization.optimize:The shadow-prices of the constraints Generator-ext-p-lower, Generator-ext-p-upper, Link-ext-p-lower, Link-ext-p-upper, Store-ext-e-lower, Store-ext-e-upper, Store-energy_balance, self_sufficiency_constraint were not assigned to the network.\n",
      "INFO:pypsa.io:Exported network network.nc has buses, links, loads, stores, generators, carriers\n",
      "INFO:pypsa.io:Imported network network.nc has buses, carriers, generators, links, loads, stores\n"
     ]
    },
    {
     "name": "stdout",
     "output_type": "stream",
     "text": [
      "107 out of 144: ('1480', 2030, 1, 0.2, True, True, 0.5)\n",
      "Check the get_geo(config) function\n",
      "Create and store parameters\n",
      "Check weather files\n",
      "Check renewables data\n",
      "Renewables files do not exist for geography 1480. Please see /input/renewables/generate-renewables.ipynb\n",
      "Create and store demand\n",
      "Create and store network\n",
      "Using config:\n",
      "\tself-sufficiency:1\n",
      "\th2:True\n",
      "\toffwind:True\n",
      "\tbiogas:1\n"
     ]
    },
    {
     "name": "stderr",
     "output_type": "stream",
     "text": [
      "INFO:pypsa.io:Exported network network.nc has buses, links, loads, stores, generators, carriers\n"
     ]
    },
    {
     "name": "stdout",
     "output_type": "stream",
     "text": [
      "Run optimization\n"
     ]
    },
    {
     "name": "stderr",
     "output_type": "stream",
     "text": [
      "INFO:pypsa.io:Imported network network.nc has buses, carriers, generators, links, loads, stores\n",
      "INFO:linopy.model: Solve problem using Highs solver\n",
      "INFO:linopy.io:Writing objective.\n",
      "Writing constraints.: 100%|\u001b[38;2;128;191;255m██████████\u001b[0m| 18/18 [00:00<00:00, 27.25it/s]\n",
      "Writing continuous variables.: 100%|\u001b[38;2;128;191;255m██████████\u001b[0m| 9/9 [00:00<00:00, 76.24it/s]\n",
      "Writing integer variables.: 100%|\u001b[38;2;128;191;255m██████████\u001b[0m| 2/2 [00:00<00:00, 401.14it/s]\n",
      "INFO:linopy.io: Writing time: 0.84s\n",
      "INFO:linopy.solvers:Log file at /tmp/highs.log\n"
     ]
    },
    {
     "name": "stdout",
     "output_type": "stream",
     "text": [
      "Running HiGHS 1.7.2 (git hash: 184e327): Copyright (c) 2024 HiGHS under MIT licence terms\n"
     ]
    },
    {
     "name": "stderr",
     "output_type": "stream",
     "text": [
      "INFO:linopy.constants: Optimization successful: \n",
      "Status: ok\n",
      "Termination condition: optimal\n",
      "Solution: 46739 primals, 102222 duals\n",
      "Objective: 5.27e+09\n",
      "Solver model: available\n",
      "Solver message: optimal\n",
      "\n",
      "INFO:pypsa.optimization.optimize:The shadow-prices of the constraints Generator-ext-p-lower, Generator-ext-p-upper, Link-ext-p-lower, Link-ext-p-upper, Store-ext-e-lower, Store-ext-e-upper, Store-energy_balance, self_sufficiency_constraint were not assigned to the network.\n"
     ]
    },
    {
     "name": "stdout",
     "output_type": "stream",
     "text": [
      "Coefficient ranges:\n",
      "  Matrix [8e-07, 1e+02]\n",
      "  Cost   [6e+01, 2e+06]\n",
      "  Bound  [0e+00, 0e+00]\n",
      "  RHS    [5e+02, 1e+03]\n",
      "Presolving model\n",
      "47679 rows, 41847 cols, 125554 nonzeros  0s\n",
      "38194 rows, 32362 cols, 113555 nonzeros  0s\n",
      "37458 rows, 31626 cols, 115931 nonzeros  0s\n",
      "\n",
      "Solving MIP model with:\n",
      "   37458 rows\n",
      "   31626 cols (0 binary, 5 integer, 0 implied int., 31621 continuous)\n",
      "   115931 nonzeros\n",
      "\n",
      "        Nodes      |    B&B Tree     |            Objective Bounds              |  Dynamic Constraints |       Work      \n",
      "     Proc. InQueue |  Leaves   Expl. | BestBound       BestSol              Gap |   Cuts   InLp Confl. | LpIters     Time\n",
      "\n",
      "         0       0         0   0.00%   -inf            inf                  inf        0      0      0         0     0.3s\n",
      " S       0       0         0   0.00%   -inf            5278316692.561     Large        0      0      0         0    28.5s\n",
      " R       0       0         0   0.00%   5274044605.946  5274104574.262     0.00%        0      0      0     71567    28.7s\n",
      "\n",
      "Solving report\n",
      "  Status            Optimal\n",
      "  Primal bound      5274104574.26\n",
      "  Dual bound        5274044605.95\n",
      "  Gap               0.00114% (tolerance: 0.01%)\n",
      "  Solution status   feasible\n",
      "                    5274104574.26 (objective)\n",
      "                    0 (bound viol.)\n",
      "                    0 (int. viol.)\n",
      "                    0 (row viol.)\n",
      "  Timing            28.73 (total)\n",
      "                    0.27 (presolve)\n",
      "                    0.00 (postsolve)\n",
      "  Nodes             1\n",
      "  LP iterations     71567 (total)\n",
      "                    0 (strong br.)\n",
      "                    0 (separation)\n",
      "                    0 (heuristics)\n",
      "Writing the solution to /tmp/linopy-solve-v19tu9qr.sol\n"
     ]
    },
    {
     "name": "stderr",
     "output_type": "stream",
     "text": [
      "INFO:pypsa.io:Exported network network.nc has buses, links, loads, stores, generators, carriers\n",
      "INFO:pypsa.io:Imported network network.nc has buses, carriers, generators, links, loads, stores\n"
     ]
    },
    {
     "name": "stdout",
     "output_type": "stream",
     "text": [
      "108 out of 144: ('1480', 2030, 1, 0.2, True, True, 1)\n",
      "Check the get_geo(config) function\n",
      "Create and store parameters\n",
      "Check weather files\n",
      "Check renewables data\n",
      "Renewables files do not exist for geography 1487. Please see /input/renewables/generate-renewables.ipynb\n",
      "Create and store demand\n",
      "Create and store network\n",
      "Using config:\n",
      "\tself-sufficiency:0.5\n",
      "\th2:True\n",
      "\toffwind:True\n",
      "\tbiogas:0\n"
     ]
    },
    {
     "name": "stderr",
     "output_type": "stream",
     "text": [
      "INFO:pypsa.io:Exported network network.nc has buses, links, loads, stores, generators, carriers\n"
     ]
    },
    {
     "name": "stdout",
     "output_type": "stream",
     "text": [
      "Run optimization\n"
     ]
    },
    {
     "name": "stderr",
     "output_type": "stream",
     "text": [
      "INFO:pypsa.io:Imported network network.nc has buses, carriers, generators, links, loads, stores\n",
      "INFO:linopy.model: Solve problem using Highs solver\n",
      "INFO:linopy.io:Writing objective.\n",
      "Writing constraints.: 100%|\u001b[38;2;128;191;255m██████████\u001b[0m| 18/18 [00:00<00:00, 24.18it/s]\n",
      "Writing continuous variables.: 100%|\u001b[38;2;128;191;255m██████████\u001b[0m| 9/9 [00:00<00:00, 59.07it/s]\n",
      "Writing integer variables.: 100%|\u001b[38;2;128;191;255m██████████\u001b[0m| 2/2 [00:00<00:00, 420.31it/s]\n",
      "INFO:linopy.io: Writing time: 0.95s\n",
      "INFO:linopy.solvers:Log file at /tmp/highs.log\n"
     ]
    },
    {
     "name": "stdout",
     "output_type": "stream",
     "text": [
      "Running HiGHS 1.7.2 (git hash: 184e327): Copyright (c) 2024 HiGHS under MIT licence terms\n",
      "Coefficient ranges:\n",
      "  Matrix [3e-07, 1e+02]\n",
      "  Cost   [6e+01, 2e+06]\n",
      "  Bound  [0e+00, 0e+00]\n",
      "  RHS    [2e+01, 6e+04]\n",
      "Presolving model\n",
      "44708 rows, 38875 cols, 122480 nonzeros  0s\n",
      "38111 rows, 32278 cols, 113377 nonzeros  0s\n",
      "37371 rows, 31538 cols, 115861 nonzeros  0s\n",
      "\n",
      "Solving MIP model with:\n",
      "   37371 rows\n",
      "   31538 cols (0 binary, 5 integer, 0 implied int., 31533 continuous)\n",
      "   115861 nonzeros\n",
      "\n",
      "        Nodes      |    B&B Tree     |            Objective Bounds              |  Dynamic Constraints |       Work      \n",
      "     Proc. InQueue |  Leaves   Expl. | BestBound       BestSol              Gap |   Cuts   InLp Confl. | LpIters     Time\n",
      "\n",
      "         0       0         0   0.00%   -inf            inf                  inf        0      0      0         0     0.3s\n",
      " S       0       0         0   0.00%   -inf            156124437.1739     Large        0      0      0         0    16.6s\n",
      " R       0       0         0   0.00%   155857944.1514  155858755.3492     0.00%        0      0      0     50653    16.7s\n",
      "\n",
      "Solving report\n",
      "  Status            Optimal\n",
      "  Primal bound      155858755.349\n",
      "  Dual bound        155857944.151\n",
      "  Gap               0.00052% (tolerance: 0.01%)\n",
      "  Solution status   feasible\n",
      "                    155858755.349 (objective)\n",
      "                    0 (bound viol.)\n",
      "                    0 (int. viol.)\n",
      "                    0 (row viol.)\n",
      "  Timing            16.76 (total)\n",
      "                    0.26 (presolve)\n",
      "                    0.00 (postsolve)\n",
      "  Nodes             1\n",
      "  LP iterations     50653 (total)\n",
      "                    0 (strong br.)\n",
      "                    0 (separation)\n",
      "                    0 (heuristics)\n",
      "Writing the solution to /tmp/linopy-solve-fkwimsam.sol\n"
     ]
    },
    {
     "name": "stderr",
     "output_type": "stream",
     "text": [
      "INFO:linopy.constants: Optimization successful: \n",
      "Status: ok\n",
      "Termination condition: optimal\n",
      "Solution: 43818 primals, 96380 duals\n",
      "Objective: 1.56e+08\n",
      "Solver model: available\n",
      "Solver message: optimal\n",
      "\n",
      "INFO:pypsa.optimization.optimize:The shadow-prices of the constraints Generator-ext-p-lower, Generator-ext-p-upper, Link-ext-p-lower, Link-ext-p-upper, Store-ext-e-lower, Store-ext-e-upper, Store-energy_balance, self_sufficiency_constraint were not assigned to the network.\n",
      "INFO:pypsa.io:Exported network network.nc has buses, links, loads, stores, generators, carriers\n",
      "INFO:pypsa.io:Imported network network.nc has buses, carriers, generators, links, loads, stores\n"
     ]
    },
    {
     "name": "stdout",
     "output_type": "stream",
     "text": [
      "109 out of 144: ('1487', 2030, 0.5, -0.2, True, True, 0)\n",
      "Check the get_geo(config) function\n",
      "Create and store parameters\n",
      "Check weather files\n",
      "Check renewables data\n",
      "Renewables files do not exist for geography 1487. Please see /input/renewables/generate-renewables.ipynb\n",
      "Create and store demand\n",
      "Create and store network\n",
      "Using config:\n",
      "\tself-sufficiency:0.5\n",
      "\th2:True\n",
      "\toffwind:True\n",
      "\tbiogas:0.5\n"
     ]
    },
    {
     "name": "stderr",
     "output_type": "stream",
     "text": [
      "INFO:pypsa.io:Exported network network.nc has buses, links, loads, stores, generators, carriers\n"
     ]
    },
    {
     "name": "stdout",
     "output_type": "stream",
     "text": [
      "Run optimization\n"
     ]
    },
    {
     "name": "stderr",
     "output_type": "stream",
     "text": [
      "INFO:pypsa.io:Imported network network.nc has buses, carriers, generators, links, loads, stores\n",
      "INFO:linopy.model: Solve problem using Highs solver\n",
      "INFO:linopy.io:Writing objective.\n",
      "Writing constraints.: 100%|\u001b[38;2;128;191;255m██████████\u001b[0m| 18/18 [00:00<00:00, 28.93it/s]\n",
      "Writing continuous variables.: 100%|\u001b[38;2;128;191;255m██████████\u001b[0m| 9/9 [00:00<00:00, 83.92it/s]\n",
      "Writing integer variables.: 100%|\u001b[38;2;128;191;255m██████████\u001b[0m| 2/2 [00:00<00:00, 749.18it/s]\n",
      "INFO:linopy.io: Writing time: 0.78s\n",
      "INFO:linopy.solvers:Log file at /tmp/highs.log\n"
     ]
    },
    {
     "name": "stdout",
     "output_type": "stream",
     "text": [
      "Running HiGHS 1.7.2 (git hash: 184e327): Copyright (c) 2024 HiGHS under MIT licence terms\n",
      "Coefficient ranges:\n",
      "  Matrix [3e-07, 1e+02]\n",
      "  Cost   [6e+01, 2e+06]\n",
      "  Bound  [0e+00, 0e+00]\n",
      "  RHS    [2e+01, 6e+04]\n",
      "Presolving model\n",
      "47628 rows, 44715 cols, 131240 nonzeros  0s\n",
      "38121 rows, 35208 cols, 119194 nonzeros  0s\n",
      "37382 rows, 34469 cols, 121594 nonzeros  0s\n",
      "\n",
      "Solving MIP model with:\n",
      "   37382 rows\n",
      "   34469 cols (0 binary, 5 integer, 0 implied int., 34464 continuous)\n",
      "   121594 nonzeros\n",
      "\n",
      "        Nodes      |    B&B Tree     |            Objective Bounds              |  Dynamic Constraints |       Work      \n",
      "     Proc. InQueue |  Leaves   Expl. | BestBound       BestSol              Gap |   Cuts   InLp Confl. | LpIters     Time\n",
      "\n",
      "         0       0         0   0.00%   -inf            inf                  inf        0      0      0         0     0.3s\n",
      " S       0       0         0   0.00%   -inf            156124437.1739     Large        0      0      0         0    17.4s\n",
      " R       0       0         0   0.00%   155857944.1514  155858755.3492     0.00%        0      0      0     50967    17.5s\n",
      "\n",
      "Solving report\n",
      "  Status            Optimal\n",
      "  Primal bound      155858755.349\n",
      "  Dual bound        155857944.151\n",
      "  Gap               0.00052% (tolerance: 0.01%)\n",
      "  Solution status   feasible\n",
      "                    155858755.349 (objective)\n",
      "                    0 (bound viol.)\n",
      "                    0 (int. viol.)\n",
      "                    0 (row viol.)\n",
      "  Timing            17.56 (total)\n",
      "                    0.27 (presolve)\n",
      "                    0.00 (postsolve)\n",
      "  Nodes             1\n",
      "  LP iterations     50967 (total)\n",
      "                    0 (strong br.)\n",
      "                    0 (separation)\n",
      "                    0 (heuristics)\n",
      "Writing the solution to /tmp/linopy-solve-tr4vs_9b.sol\n"
     ]
    },
    {
     "name": "stderr",
     "output_type": "stream",
     "text": [
      "INFO:linopy.constants: Optimization successful: \n",
      "Status: ok\n",
      "Termination condition: optimal\n",
      "Solution: 46739 primals, 102222 duals\n",
      "Objective: 1.56e+08\n",
      "Solver model: available\n",
      "Solver message: optimal\n",
      "\n",
      "INFO:pypsa.optimization.optimize:The shadow-prices of the constraints Generator-ext-p-lower, Generator-ext-p-upper, Link-ext-p-lower, Link-ext-p-upper, Store-ext-e-lower, Store-ext-e-upper, Store-energy_balance, self_sufficiency_constraint were not assigned to the network.\n",
      "INFO:pypsa.io:Exported network network.nc has buses, links, loads, stores, generators, carriers\n",
      "INFO:pypsa.io:Imported network network.nc has buses, carriers, generators, links, loads, stores\n",
      "/home/viktor/code/pypsa-vgr/generator/library/api/generators_core.py:51: RuntimeWarning:\n",
      "\n",
      "invalid value encountered in scalar divide\n",
      "\n"
     ]
    },
    {
     "name": "stdout",
     "output_type": "stream",
     "text": [
      "110 out of 144: ('1487', 2030, 0.5, -0.2, True, True, 0.5)\n",
      "Check the get_geo(config) function\n",
      "Create and store parameters\n",
      "Check weather files\n",
      "Check renewables data\n",
      "Renewables files do not exist for geography 1487. Please see /input/renewables/generate-renewables.ipynb\n",
      "Create and store demand\n",
      "Create and store network\n",
      "Using config:\n",
      "\tself-sufficiency:0.5\n",
      "\th2:True\n",
      "\toffwind:True\n",
      "\tbiogas:1\n"
     ]
    },
    {
     "name": "stderr",
     "output_type": "stream",
     "text": [
      "INFO:pypsa.io:Exported network network.nc has buses, links, loads, stores, generators, carriers\n"
     ]
    },
    {
     "name": "stdout",
     "output_type": "stream",
     "text": [
      "Run optimization\n"
     ]
    },
    {
     "name": "stderr",
     "output_type": "stream",
     "text": [
      "INFO:pypsa.io:Imported network network.nc has buses, carriers, generators, links, loads, stores\n",
      "INFO:linopy.model: Solve problem using Highs solver\n",
      "INFO:linopy.io:Writing objective.\n",
      "Writing constraints.: 100%|\u001b[38;2;128;191;255m██████████\u001b[0m| 18/18 [00:00<00:00, 30.16it/s]\n",
      "Writing continuous variables.: 100%|\u001b[38;2;128;191;255m██████████\u001b[0m| 9/9 [00:00<00:00, 86.36it/s]\n",
      "Writing integer variables.: 100%|\u001b[38;2;128;191;255m██████████\u001b[0m| 2/2 [00:00<00:00, 707.66it/s]\n",
      "INFO:linopy.io: Writing time: 0.75s\n",
      "INFO:linopy.solvers:Log file at /tmp/highs.log\n"
     ]
    },
    {
     "name": "stdout",
     "output_type": "stream",
     "text": [
      "Running HiGHS 1.7.2 (git hash: 184e327): Copyright (c) 2024 HiGHS under MIT licence terms\n",
      "Coefficient ranges:\n",
      "  Matrix [3e-07, 1e+02]\n",
      "  Cost   [6e+01, 2e+06]\n",
      "  Bound  [0e+00, 0e+00]\n",
      "  RHS    [2e+01, 6e+04]\n",
      "Presolving model\n",
      "47628 rows, 44715 cols, 131240 nonzeros  0s\n",
      "38121 rows, 35208 cols, 119194 nonzeros  0s\n",
      "37382 rows, 34469 cols, 121594 nonzeros  0s\n",
      "\n",
      "Solving MIP model with:\n",
      "   37382 rows\n",
      "   34469 cols (0 binary, 5 integer, 0 implied int., 34464 continuous)\n",
      "   121594 nonzeros\n",
      "\n",
      "        Nodes      |    B&B Tree     |            Objective Bounds              |  Dynamic Constraints |       Work      \n",
      "     Proc. InQueue |  Leaves   Expl. | BestBound       BestSol              Gap |   Cuts   InLp Confl. | LpIters     Time\n",
      "\n",
      "         0       0         0   0.00%   -inf            inf                  inf        0      0      0         0     0.3s\n",
      " S       0       0         0   0.00%   -inf            156124437.1739     Large        0      0      0         0    18.4s\n",
      " R       0       0         0   0.00%   155857944.1514  155858755.3492     0.00%        0      0      0     52534    18.6s\n",
      "\n",
      "Solving report\n",
      "  Status            Optimal\n",
      "  Primal bound      155858755.349\n",
      "  Dual bound        155857944.151\n",
      "  Gap               0.00052% (tolerance: 0.01%)\n",
      "  Solution status   feasible\n",
      "                    155858755.349 (objective)\n",
      "                    0 (bound viol.)\n",
      "                    0 (int. viol.)\n",
      "                    0 (row viol.)\n",
      "  Timing            18.56 (total)\n",
      "                    0.27 (presolve)\n",
      "                    0.00 (postsolve)\n",
      "  Nodes             1\n",
      "  LP iterations     52534 (total)\n",
      "                    0 (strong br.)\n",
      "                    0 (separation)\n",
      "                    0 (heuristics)\n",
      "Writing the solution to /tmp/linopy-solve-4raw6ys1.sol\n"
     ]
    },
    {
     "name": "stderr",
     "output_type": "stream",
     "text": [
      "INFO:linopy.constants: Optimization successful: \n",
      "Status: ok\n",
      "Termination condition: optimal\n",
      "Solution: 46739 primals, 102222 duals\n",
      "Objective: 1.56e+08\n",
      "Solver model: available\n",
      "Solver message: optimal\n",
      "\n",
      "INFO:pypsa.optimization.optimize:The shadow-prices of the constraints Generator-ext-p-lower, Generator-ext-p-upper, Link-ext-p-lower, Link-ext-p-upper, Store-ext-e-lower, Store-ext-e-upper, Store-energy_balance, self_sufficiency_constraint were not assigned to the network.\n",
      "INFO:pypsa.io:Exported network network.nc has buses, links, loads, stores, generators, carriers\n",
      "INFO:pypsa.io:Imported network network.nc has buses, carriers, generators, links, loads, stores\n",
      "/home/viktor/code/pypsa-vgr/generator/library/api/generators_core.py:51: RuntimeWarning:\n",
      "\n",
      "invalid value encountered in scalar divide\n",
      "\n",
      "/home/viktor/code/pypsa-vgr/generator/library/api/price_core.py:50: RuntimeWarning:\n",
      "\n",
      "invalid value encountered in scalar divide\n",
      "\n"
     ]
    },
    {
     "name": "stdout",
     "output_type": "stream",
     "text": [
      "111 out of 144: ('1487', 2030, 0.5, -0.2, True, True, 1)\n",
      "Check the get_geo(config) function\n",
      "Create and store parameters\n",
      "Check weather files\n",
      "Check renewables data\n",
      "Renewables files do not exist for geography 1487. Please see /input/renewables/generate-renewables.ipynb\n",
      "Create and store demand\n",
      "Create and store network\n",
      "Using config:\n",
      "\tself-sufficiency:0.5\n",
      "\th2:True\n",
      "\toffwind:True\n",
      "\tbiogas:0\n"
     ]
    },
    {
     "name": "stderr",
     "output_type": "stream",
     "text": [
      "INFO:pypsa.io:Exported network network.nc has buses, links, loads, stores, generators, carriers\n"
     ]
    },
    {
     "name": "stdout",
     "output_type": "stream",
     "text": [
      "Run optimization\n"
     ]
    },
    {
     "name": "stderr",
     "output_type": "stream",
     "text": [
      "INFO:pypsa.io:Imported network network.nc has buses, carriers, generators, links, loads, stores\n",
      "INFO:linopy.model: Solve problem using Highs solver\n",
      "INFO:linopy.io:Writing objective.\n",
      "Writing constraints.: 100%|\u001b[38;2;128;191;255m██████████\u001b[0m| 18/18 [00:00<00:00, 32.07it/s]\n",
      "Writing continuous variables.: 100%|\u001b[38;2;128;191;255m██████████\u001b[0m| 9/9 [00:00<00:00, 88.52it/s]\n",
      "Writing integer variables.: 100%|\u001b[38;2;128;191;255m██████████\u001b[0m| 2/2 [00:00<00:00, 454.10it/s]\n",
      "INFO:linopy.io: Writing time: 0.71s\n",
      "INFO:linopy.solvers:Log file at /tmp/highs.log\n"
     ]
    },
    {
     "name": "stdout",
     "output_type": "stream",
     "text": [
      "Running HiGHS 1.7.2 (git hash: 184e327): Copyright (c) 2024 HiGHS under MIT licence terms\n",
      "Coefficient ranges:\n",
      "  Matrix [3e-07, 1e+02]\n",
      "  Cost   [6e+01, 2e+06]\n",
      "  Bound  [0e+00, 0e+00]\n",
      "  RHS    [3e+01, 7e+04]\n",
      "Presolving model\n",
      "44708 rows, 38875 cols, 122480 nonzeros  0s\n",
      "38111 rows, 32278 cols, 113377 nonzeros  0s\n",
      "37371 rows, 31538 cols, 115861 nonzeros  0s\n",
      "\n",
      "Solving MIP model with:\n",
      "   37371 rows\n",
      "   31538 cols (0 binary, 5 integer, 0 implied int., 31533 continuous)\n",
      "   115861 nonzeros\n",
      "\n",
      "        Nodes      |    B&B Tree     |            Objective Bounds              |  Dynamic Constraints |       Work      \n",
      "     Proc. InQueue |  Leaves   Expl. | BestBound       BestSol              Gap |   Cuts   InLp Confl. | LpIters     Time\n",
      "\n",
      "         0       0         0   0.00%   -inf            inf                  inf        0      0      0         0     0.2s\n",
      " S       0       0         0   0.00%   -inf            196226548.8562     Large        0      0      0         0    18.5s\n",
      " R       0       0         0   0.00%   194822430.1893  194837234.1333     0.01%        0      0      0     53186    18.9s\n",
      "\n",
      "Solving report\n",
      "  Status            Optimal\n",
      "  Primal bound      194837234.133\n",
      "  Dual bound        194822430.189\n",
      "  Gap               0.0076% (tolerance: 0.01%)\n",
      "  Solution status   feasible\n",
      "                    194837234.133 (objective)\n",
      "                    0 (bound viol.)\n",
      "                    0 (int. viol.)\n",
      "                    0 (row viol.)\n",
      "  Timing            18.90 (total)\n",
      "                    0.21 (presolve)\n",
      "                    0.00 (postsolve)\n",
      "  Nodes             1\n",
      "  LP iterations     53186 (total)\n",
      "                    0 (strong br.)\n",
      "                    0 (separation)\n",
      "                    0 (heuristics)\n",
      "Writing the solution to /tmp/linopy-solve-_tz3f4wp.sol\n"
     ]
    },
    {
     "name": "stderr",
     "output_type": "stream",
     "text": [
      "INFO:linopy.constants: Optimization successful: \n",
      "Status: ok\n",
      "Termination condition: optimal\n",
      "Solution: 43818 primals, 96380 duals\n",
      "Objective: 1.95e+08\n",
      "Solver model: available\n",
      "Solver message: optimal\n",
      "\n",
      "INFO:pypsa.optimization.optimize:The shadow-prices of the constraints Generator-ext-p-lower, Generator-ext-p-upper, Link-ext-p-lower, Link-ext-p-upper, Store-ext-e-lower, Store-ext-e-upper, Store-energy_balance, self_sufficiency_constraint were not assigned to the network.\n",
      "INFO:pypsa.io:Exported network network.nc has buses, links, loads, stores, generators, carriers\n",
      "INFO:pypsa.io:Imported network network.nc has buses, carriers, generators, links, loads, stores\n"
     ]
    },
    {
     "name": "stdout",
     "output_type": "stream",
     "text": [
      "112 out of 144: ('1487', 2030, 0.5, 0, True, True, 0)\n",
      "Check the get_geo(config) function\n",
      "Create and store parameters\n",
      "Check weather files\n",
      "Check renewables data\n",
      "Renewables files do not exist for geography 1487. Please see /input/renewables/generate-renewables.ipynb\n",
      "Create and store demand\n",
      "Create and store network\n",
      "Using config:\n",
      "\tself-sufficiency:0.5\n",
      "\th2:True\n",
      "\toffwind:True\n",
      "\tbiogas:0.5\n"
     ]
    },
    {
     "name": "stderr",
     "output_type": "stream",
     "text": [
      "INFO:pypsa.io:Exported network network.nc has buses, links, loads, stores, generators, carriers\n",
      "INFO:pypsa.io:Imported network network.nc has buses, carriers, generators, links, loads, stores\n"
     ]
    },
    {
     "name": "stdout",
     "output_type": "stream",
     "text": [
      "Run optimization\n"
     ]
    },
    {
     "name": "stderr",
     "output_type": "stream",
     "text": [
      "INFO:linopy.model: Solve problem using Highs solver\n",
      "INFO:linopy.io:Writing objective.\n",
      "Writing constraints.: 100%|\u001b[38;2;128;191;255m██████████\u001b[0m| 18/18 [00:00<00:00, 29.39it/s]\n",
      "Writing continuous variables.: 100%|\u001b[38;2;128;191;255m██████████\u001b[0m| 9/9 [00:00<00:00, 74.04it/s]\n",
      "Writing integer variables.: 100%|\u001b[38;2;128;191;255m██████████\u001b[0m| 2/2 [00:00<00:00, 680.78it/s]\n",
      "INFO:linopy.io: Writing time: 0.79s\n",
      "INFO:linopy.solvers:Log file at /tmp/highs.log\n"
     ]
    },
    {
     "name": "stdout",
     "output_type": "stream",
     "text": [
      "Running HiGHS 1.7.2 (git hash: 184e327): Copyright (c) 2024 HiGHS under MIT licence terms\n",
      "Coefficient ranges:\n",
      "  Matrix [3e-07, 1e+02]\n",
      "  Cost   [6e+01, 2e+06]\n",
      "  Bound  [0e+00, 0e+00]\n",
      "  RHS    [3e+01, 7e+04]\n",
      "Presolving model\n",
      "47628 rows, 44715 cols, 131240 nonzeros  0s\n",
      "38121 rows, 35208 cols, 119194 nonzeros  0s\n",
      "37382 rows, 34469 cols, 121594 nonzeros  0s\n",
      "\n",
      "Solving MIP model with:\n",
      "   37382 rows\n",
      "   34469 cols (0 binary, 5 integer, 0 implied int., 34464 continuous)\n",
      "   121594 nonzeros\n",
      "\n",
      "        Nodes      |    B&B Tree     |            Objective Bounds              |  Dynamic Constraints |       Work      \n",
      "     Proc. InQueue |  Leaves   Expl. | BestBound       BestSol              Gap |   Cuts   InLp Confl. | LpIters     Time\n",
      "\n",
      "         0       0         0   0.00%   -inf            inf                  inf        0      0      0         0     0.3s\n",
      " S       0       0         0   0.00%   -inf            196226548.8562     Large        0      0      0         0    19.2s\n",
      " R       0       0         0   0.00%   194822430.1893  194837234.1333     0.01%        0      0      0     54572    19.5s\n",
      "\n",
      "Solving report\n",
      "  Status            Optimal\n",
      "  Primal bound      194837234.133\n",
      "  Dual bound        194822430.189\n",
      "  Gap               0.0076% (tolerance: 0.01%)\n",
      "  Solution status   feasible\n",
      "                    194837234.133 (objective)\n",
      "                    0 (bound viol.)\n",
      "                    7.16967800749e-19 (int. viol.)\n",
      "                    0 (row viol.)\n",
      "  Timing            19.55 (total)\n",
      "                    0.26 (presolve)\n",
      "                    0.00 (postsolve)\n",
      "  Nodes             1\n",
      "  LP iterations     54572 (total)\n",
      "                    0 (strong br.)\n",
      "                    0 (separation)\n",
      "                    0 (heuristics)\n",
      "Writing the solution to /tmp/linopy-solve-8a6xh61z.sol\n"
     ]
    },
    {
     "name": "stderr",
     "output_type": "stream",
     "text": [
      "INFO:linopy.constants: Optimization successful: \n",
      "Status: ok\n",
      "Termination condition: optimal\n",
      "Solution: 46739 primals, 102222 duals\n",
      "Objective: 1.95e+08\n",
      "Solver model: available\n",
      "Solver message: optimal\n",
      "\n",
      "INFO:pypsa.optimization.optimize:The shadow-prices of the constraints Generator-ext-p-lower, Generator-ext-p-upper, Link-ext-p-lower, Link-ext-p-upper, Store-ext-e-lower, Store-ext-e-upper, Store-energy_balance, self_sufficiency_constraint were not assigned to the network.\n",
      "INFO:pypsa.io:Exported network network.nc has buses, links, loads, stores, generators, carriers\n",
      "INFO:pypsa.io:Imported network network.nc has buses, carriers, generators, links, loads, stores\n"
     ]
    },
    {
     "name": "stdout",
     "output_type": "stream",
     "text": [
      "113 out of 144: ('1487', 2030, 0.5, 0, True, True, 0.5)\n",
      "Check the get_geo(config) function\n",
      "Create and store parameters\n",
      "Check weather files\n",
      "Check renewables data\n",
      "Renewables files do not exist for geography 1487. Please see /input/renewables/generate-renewables.ipynb\n",
      "Create and store demand\n",
      "Create and store network\n",
      "Using config:\n",
      "\tself-sufficiency:0.5\n",
      "\th2:True\n",
      "\toffwind:True\n",
      "\tbiogas:1\n"
     ]
    },
    {
     "name": "stderr",
     "output_type": "stream",
     "text": [
      "INFO:pypsa.io:Exported network network.nc has buses, links, loads, stores, generators, carriers\n"
     ]
    },
    {
     "name": "stdout",
     "output_type": "stream",
     "text": [
      "Run optimization\n"
     ]
    },
    {
     "name": "stderr",
     "output_type": "stream",
     "text": [
      "INFO:pypsa.io:Imported network network.nc has buses, carriers, generators, links, loads, stores\n",
      "INFO:linopy.model: Solve problem using Highs solver\n",
      "INFO:linopy.io:Writing objective.\n",
      "Writing constraints.: 100%|\u001b[38;2;128;191;255m██████████\u001b[0m| 18/18 [00:00<00:00, 30.95it/s]\n",
      "Writing continuous variables.: 100%|\u001b[38;2;128;191;255m██████████\u001b[0m| 9/9 [00:00<00:00, 84.44it/s]\n",
      "Writing integer variables.: 100%|\u001b[38;2;128;191;255m██████████\u001b[0m| 2/2 [00:00<00:00, 548.42it/s]\n",
      "INFO:linopy.io: Writing time: 0.75s\n",
      "INFO:linopy.solvers:Log file at /tmp/highs.log\n"
     ]
    },
    {
     "name": "stdout",
     "output_type": "stream",
     "text": [
      "Running HiGHS 1.7.2 (git hash: 184e327): Copyright (c) 2024 HiGHS under MIT licence terms\n"
     ]
    },
    {
     "name": "stderr",
     "output_type": "stream",
     "text": [
      "INFO:linopy.constants: Optimization successful: \n",
      "Status: ok\n",
      "Termination condition: optimal\n",
      "Solution: 46739 primals, 102222 duals\n",
      "Objective: 1.95e+08\n",
      "Solver model: available\n",
      "Solver message: optimal\n",
      "\n",
      "INFO:pypsa.optimization.optimize:The shadow-prices of the constraints Generator-ext-p-lower, Generator-ext-p-upper, Link-ext-p-lower, Link-ext-p-upper, Store-ext-e-lower, Store-ext-e-upper, Store-energy_balance, self_sufficiency_constraint were not assigned to the network.\n"
     ]
    },
    {
     "name": "stdout",
     "output_type": "stream",
     "text": [
      "Coefficient ranges:\n",
      "  Matrix [3e-07, 1e+02]\n",
      "  Cost   [6e+01, 2e+06]\n",
      "  Bound  [0e+00, 0e+00]\n",
      "  RHS    [3e+01, 7e+04]\n",
      "Presolving model\n",
      "47628 rows, 44715 cols, 131240 nonzeros  0s\n",
      "38121 rows, 35208 cols, 119194 nonzeros  0s\n",
      "37382 rows, 34469 cols, 121594 nonzeros  0s\n",
      "\n",
      "Solving MIP model with:\n",
      "   37382 rows\n",
      "   34469 cols (0 binary, 5 integer, 0 implied int., 34464 continuous)\n",
      "   121594 nonzeros\n",
      "\n",
      "        Nodes      |    B&B Tree     |            Objective Bounds              |  Dynamic Constraints |       Work      \n",
      "     Proc. InQueue |  Leaves   Expl. | BestBound       BestSol              Gap |   Cuts   InLp Confl. | LpIters     Time\n",
      "\n",
      "         0       0         0   0.00%   -inf            inf                  inf        0      0      0         0     0.3s\n",
      " S       0       0         0   0.00%   -inf            196226548.8562     Large        0      0      0         0    17.1s\n",
      " R       0       0         0   0.00%   194822430.1893  194837234.1333     0.01%        0      0      0     51743    17.4s\n",
      "\n",
      "Solving report\n",
      "  Status            Optimal\n",
      "  Primal bound      194837234.133\n",
      "  Dual bound        194822430.189\n",
      "  Gap               0.0076% (tolerance: 0.01%)\n",
      "  Solution status   feasible\n",
      "                    194837234.133 (objective)\n",
      "                    0 (bound viol.)\n",
      "                    0 (int. viol.)\n",
      "                    0 (row viol.)\n",
      "  Timing            17.39 (total)\n",
      "                    0.28 (presolve)\n",
      "                    0.00 (postsolve)\n",
      "  Nodes             1\n",
      "  LP iterations     51743 (total)\n",
      "                    0 (strong br.)\n",
      "                    0 (separation)\n",
      "                    0 (heuristics)\n",
      "Writing the solution to /tmp/linopy-solve-qwv454rs.sol\n"
     ]
    },
    {
     "name": "stderr",
     "output_type": "stream",
     "text": [
      "INFO:pypsa.io:Exported network network.nc has buses, links, loads, stores, generators, carriers\n",
      "INFO:pypsa.io:Imported network network.nc has buses, carriers, generators, links, loads, stores\n",
      "/home/viktor/code/pypsa-vgr/generator/library/api/generators_core.py:51: RuntimeWarning:\n",
      "\n",
      "invalid value encountered in scalar divide\n",
      "\n"
     ]
    },
    {
     "name": "stdout",
     "output_type": "stream",
     "text": [
      "114 out of 144: ('1487', 2030, 0.5, 0, True, True, 1)\n",
      "Check the get_geo(config) function\n",
      "Create and store parameters\n",
      "Check weather files\n",
      "Check renewables data\n",
      "Renewables files do not exist for geography 1487. Please see /input/renewables/generate-renewables.ipynb\n",
      "Create and store demand\n",
      "Create and store network\n",
      "Using config:\n",
      "\tself-sufficiency:0.5\n",
      "\th2:True\n",
      "\toffwind:True\n",
      "\tbiogas:0\n"
     ]
    },
    {
     "name": "stderr",
     "output_type": "stream",
     "text": [
      "INFO:pypsa.io:Exported network network.nc has buses, links, loads, stores, generators, carriers\n"
     ]
    },
    {
     "name": "stdout",
     "output_type": "stream",
     "text": [
      "Run optimization\n"
     ]
    },
    {
     "name": "stderr",
     "output_type": "stream",
     "text": [
      "INFO:pypsa.io:Imported network network.nc has buses, carriers, generators, links, loads, stores\n",
      "INFO:linopy.model: Solve problem using Highs solver\n",
      "INFO:linopy.io:Writing objective.\n",
      "Writing constraints.: 100%|\u001b[38;2;128;191;255m██████████\u001b[0m| 18/18 [00:00<00:00, 31.71it/s]\n",
      "Writing continuous variables.: 100%|\u001b[38;2;128;191;255m██████████\u001b[0m| 9/9 [00:00<00:00, 85.85it/s]\n",
      "Writing integer variables.: 100%|\u001b[38;2;128;191;255m██████████\u001b[0m| 2/2 [00:00<00:00, 787.51it/s]\n",
      "INFO:linopy.io: Writing time: 0.72s\n",
      "INFO:linopy.solvers:Log file at /tmp/highs.log\n",
      "INFO:linopy.constants: Optimization successful: \n",
      "Status: ok\n",
      "Termination condition: optimal\n",
      "Solution: 43818 primals, 96380 duals\n",
      "Objective: 2.34e+08\n",
      "Solver model: available\n",
      "Solver message: optimal\n",
      "\n",
      "INFO:pypsa.optimization.optimize:The shadow-prices of the constraints Generator-ext-p-lower, Generator-ext-p-upper, Link-ext-p-lower, Link-ext-p-upper, Store-ext-e-lower, Store-ext-e-upper, Store-energy_balance, self_sufficiency_constraint were not assigned to the network.\n"
     ]
    },
    {
     "name": "stdout",
     "output_type": "stream",
     "text": [
      "Running HiGHS 1.7.2 (git hash: 184e327): Copyright (c) 2024 HiGHS under MIT licence terms\n",
      "Coefficient ranges:\n",
      "  Matrix [3e-07, 1e+02]\n",
      "  Cost   [6e+01, 2e+06]\n",
      "  Bound  [0e+00, 0e+00]\n",
      "  RHS    [3e+01, 9e+04]\n",
      "Presolving model\n",
      "44708 rows, 38875 cols, 122480 nonzeros  0s\n",
      "38111 rows, 32278 cols, 113377 nonzeros  0s\n",
      "37371 rows, 31538 cols, 115861 nonzeros  0s\n",
      "\n",
      "Solving MIP model with:\n",
      "   37371 rows\n",
      "   31538 cols (0 binary, 5 integer, 0 implied int., 31533 continuous)\n",
      "   115861 nonzeros\n",
      "\n",
      "        Nodes      |    B&B Tree     |            Objective Bounds              |  Dynamic Constraints |       Work      \n",
      "     Proc. InQueue |  Leaves   Expl. | BestBound       BestSol              Gap |   Cuts   InLp Confl. | LpIters     Time\n",
      "\n",
      "         0       0         0   0.00%   -inf            inf                  inf        0      0      0         0     0.3s\n",
      " S       0       0         0   0.00%   -inf            236052326.1254     Large        0      0      0         0    17.5s\n",
      " R       0       0         0   0.00%   233786916.2271  233831580.4383     0.02%        0      0      0     51495    17.8s\n",
      "\n",
      "60.0% inactive integer columns, restarting\n",
      "Model after restart has 21050 rows, 18133 cols (0 bin., 2 int., 0 impl., 18131 cont.), and 71367 nonzeros\n",
      "\n",
      "         0       0         0   0.00%   233786916.2271  233831580.4383     0.02%        0      0      0     51495    18.0s\n",
      "         0       0         0   0.00%   233786916.2271  233831580.4383     0.02%        0      0      0     51522    18.2s\n",
      " H       0       0         0   0.00%   233807053.2912  233831512.8159     0.01%      104     15      0     51773    22.9s\n",
      "\n",
      "Solving report\n",
      "  Status            Optimal\n",
      "  Primal bound      233831512.816\n",
      "  Dual bound        233830898.572\n",
      "  Gap               0.000263% (tolerance: 0.01%)\n",
      "  Solution status   feasible\n",
      "                    233831512.816 (objective)\n",
      "                    0 (bound viol.)\n",
      "                    0 (int. viol.)\n",
      "                    0 (row viol.)\n",
      "  Timing            26.29 (total)\n",
      "                    0.38 (presolve)\n",
      "                    0.00 (postsolve)\n",
      "  Nodes             1\n",
      "  LP iterations     56232 (total)\n",
      "                    165 (strong br.)\n",
      "                    264 (separation)\n",
      "                    4200 (heuristics)\n",
      "Writing the solution to /tmp/linopy-solve-7ddenczq.sol\n"
     ]
    },
    {
     "name": "stderr",
     "output_type": "stream",
     "text": [
      "INFO:pypsa.io:Exported network network.nc has buses, links, loads, stores, generators, carriers\n",
      "INFO:pypsa.io:Imported network network.nc has buses, carriers, generators, links, loads, stores\n"
     ]
    },
    {
     "name": "stdout",
     "output_type": "stream",
     "text": [
      "115 out of 144: ('1487', 2030, 0.5, 0.2, True, True, 0)\n",
      "Check the get_geo(config) function\n",
      "Create and store parameters\n",
      "Check weather files\n",
      "Check renewables data\n",
      "Renewables files do not exist for geography 1487. Please see /input/renewables/generate-renewables.ipynb\n",
      "Create and store demand\n",
      "Create and store network\n",
      "Using config:\n",
      "\tself-sufficiency:0.5\n",
      "\th2:True\n",
      "\toffwind:True\n",
      "\tbiogas:0.5\n"
     ]
    },
    {
     "name": "stderr",
     "output_type": "stream",
     "text": [
      "INFO:pypsa.io:Exported network network.nc has buses, links, loads, stores, generators, carriers\n"
     ]
    },
    {
     "name": "stdout",
     "output_type": "stream",
     "text": [
      "Run optimization\n"
     ]
    },
    {
     "name": "stderr",
     "output_type": "stream",
     "text": [
      "INFO:pypsa.io:Imported network network.nc has buses, carriers, generators, links, loads, stores\n",
      "INFO:linopy.model: Solve problem using Highs solver\n",
      "INFO:linopy.io:Writing objective.\n",
      "Writing constraints.: 100%|\u001b[38;2;128;191;255m██████████\u001b[0m| 18/18 [00:00<00:00, 30.34it/s]\n",
      "Writing continuous variables.: 100%|\u001b[38;2;128;191;255m██████████\u001b[0m| 9/9 [00:00<00:00, 80.59it/s]\n",
      "Writing integer variables.: 100%|\u001b[38;2;128;191;255m██████████\u001b[0m| 2/2 [00:00<00:00, 575.07it/s]\n",
      "INFO:linopy.io: Writing time: 0.75s\n",
      "INFO:linopy.solvers:Log file at /tmp/highs.log\n"
     ]
    },
    {
     "name": "stdout",
     "output_type": "stream",
     "text": [
      "Running HiGHS 1.7.2 (git hash: 184e327): Copyright (c) 2024 HiGHS under MIT licence terms\n"
     ]
    },
    {
     "name": "stderr",
     "output_type": "stream",
     "text": [
      "INFO:linopy.constants: Optimization successful: \n",
      "Status: ok\n",
      "Termination condition: optimal\n",
      "Solution: 46739 primals, 102222 duals\n",
      "Objective: 2.34e+08\n",
      "Solver model: available\n",
      "Solver message: optimal\n",
      "\n"
     ]
    },
    {
     "name": "stdout",
     "output_type": "stream",
     "text": [
      "Coefficient ranges:\n",
      "  Matrix [3e-07, 1e+02]\n",
      "  Cost   [6e+01, 2e+06]\n",
      "  Bound  [0e+00, 0e+00]\n",
      "  RHS    [3e+01, 9e+04]\n",
      "Presolving model\n",
      "47628 rows, 44715 cols, 131240 nonzeros  0s\n",
      "38121 rows, 35208 cols, 119194 nonzeros  0s\n",
      "37382 rows, 34469 cols, 121594 nonzeros  0s\n",
      "\n",
      "Solving MIP model with:\n",
      "   37382 rows\n",
      "   34469 cols (0 binary, 5 integer, 0 implied int., 34464 continuous)\n",
      "   121594 nonzeros\n",
      "\n",
      "        Nodes      |    B&B Tree     |            Objective Bounds              |  Dynamic Constraints |       Work      \n",
      "     Proc. InQueue |  Leaves   Expl. | BestBound       BestSol              Gap |   Cuts   InLp Confl. | LpIters     Time\n",
      "\n",
      "         0       0         0   0.00%   -inf            inf                  inf        0      0      0         0     0.3s\n",
      " S       0       0         0   0.00%   -inf            236052326.1254     Large        0      0      0         0    18.0s\n",
      " R       0       0         0   0.00%   233786916.2271  233831580.4383     0.02%        0      0      0     51052    18.2s\n",
      "\n",
      "40.0% inactive integer columns, restarting\n",
      "Model after restart has 27373 rows, 24458 cols (0 bin., 3 int., 0 impl., 24455 cont.), and 101460 nonzeros\n",
      "\n",
      "         0       0         0   0.00%   233786916.2271  233831580.4383     0.02%        0      0      0     51052    18.4s\n",
      "\n",
      "33.3% inactive integer columns, restarting\n",
      "Model after restart has 21045 rows, 18128 cols (0 bin., 2 int., 0 impl., 18126 cont.), and 71271 nonzeros\n",
      "\n",
      "         0       0         0   0.00%   233786916.2271  233831580.4383     0.02%        0      0      0     51604    19.0s\n",
      "         0       0         0   0.00%   233786916.2271  233831580.4383     0.02%        0      0      0     51625    19.2s\n",
      " H       0       0         0   0.00%   233807053.2912  233831512.8159     0.01%      100     15      0     51887    23.7s\n",
      "\n",
      "Solving report\n",
      "  Status            Optimal\n",
      "  Primal bound      233831512.816\n",
      "  Dual bound        233830898.572\n",
      "  Gap               0.000263% (tolerance: 0.01%)\n",
      "  Solution status   feasible\n",
      "                    233831512.816 (objective)\n",
      "                    0 (bound viol.)\n",
      "                    0 (int. viol.)\n",
      "                    0 (row viol.)\n",
      "  Timing            27.07 (total)\n",
      "                    0.53 (presolve)\n",
      "                    0.00 (postsolve)\n",
      "  Nodes             1\n",
      "  LP iterations     56204 (total)\n",
      "                    93 (strong br.)\n",
      "                    269 (separation)\n",
      "                    4143 (heuristics)\n",
      "Writing the solution to /tmp/linopy-solve-7euydfb1.sol\n"
     ]
    },
    {
     "name": "stderr",
     "output_type": "stream",
     "text": [
      "INFO:pypsa.optimization.optimize:The shadow-prices of the constraints Generator-ext-p-lower, Generator-ext-p-upper, Link-ext-p-lower, Link-ext-p-upper, Store-ext-e-lower, Store-ext-e-upper, Store-energy_balance, self_sufficiency_constraint were not assigned to the network.\n",
      "INFO:pypsa.io:Exported network network.nc has buses, links, loads, stores, generators, carriers\n",
      "INFO:pypsa.io:Imported network network.nc has buses, carriers, generators, links, loads, stores\n",
      "/home/viktor/code/pypsa-vgr/generator/library/api/generators_core.py:51: RuntimeWarning:\n",
      "\n",
      "invalid value encountered in scalar divide\n",
      "\n",
      "/home/viktor/code/pypsa-vgr/generator/library/api/price_core.py:50: RuntimeWarning:\n",
      "\n",
      "invalid value encountered in scalar divide\n",
      "\n"
     ]
    },
    {
     "name": "stdout",
     "output_type": "stream",
     "text": [
      "116 out of 144: ('1487', 2030, 0.5, 0.2, True, True, 0.5)\n",
      "Check the get_geo(config) function\n",
      "Create and store parameters\n",
      "Check weather files\n",
      "Check renewables data\n",
      "Renewables files do not exist for geography 1487. Please see /input/renewables/generate-renewables.ipynb\n",
      "Create and store demand\n",
      "Create and store network\n",
      "Using config:\n",
      "\tself-sufficiency:0.5\n",
      "\th2:True\n",
      "\toffwind:True\n",
      "\tbiogas:1\n"
     ]
    },
    {
     "name": "stderr",
     "output_type": "stream",
     "text": [
      "INFO:pypsa.io:Exported network network.nc has buses, links, loads, stores, generators, carriers\n"
     ]
    },
    {
     "name": "stdout",
     "output_type": "stream",
     "text": [
      "Run optimization\n"
     ]
    },
    {
     "name": "stderr",
     "output_type": "stream",
     "text": [
      "INFO:pypsa.io:Imported network network.nc has buses, carriers, generators, links, loads, stores\n",
      "INFO:linopy.model: Solve problem using Highs solver\n",
      "INFO:linopy.io:Writing objective.\n",
      "Writing constraints.: 100%|\u001b[38;2;128;191;255m██████████\u001b[0m| 18/18 [00:00<00:00, 29.87it/s]\n",
      "Writing continuous variables.: 100%|\u001b[38;2;128;191;255m██████████\u001b[0m| 9/9 [00:00<00:00, 79.24it/s]\n",
      "Writing integer variables.: 100%|\u001b[38;2;128;191;255m██████████\u001b[0m| 2/2 [00:00<00:00, 531.19it/s]\n",
      "INFO:linopy.io: Writing time: 0.78s\n",
      "INFO:linopy.solvers:Log file at /tmp/highs.log\n"
     ]
    },
    {
     "name": "stdout",
     "output_type": "stream",
     "text": [
      "Running HiGHS 1.7.2 (git hash: 184e327): Copyright (c) 2024 HiGHS under MIT licence terms\n"
     ]
    },
    {
     "name": "stderr",
     "output_type": "stream",
     "text": [
      "INFO:linopy.constants: Optimization successful: \n",
      "Status: ok\n",
      "Termination condition: optimal\n",
      "Solution: 46739 primals, 102222 duals\n",
      "Objective: 2.34e+08\n",
      "Solver model: available\n",
      "Solver message: optimal\n",
      "\n"
     ]
    },
    {
     "name": "stdout",
     "output_type": "stream",
     "text": [
      "Coefficient ranges:\n",
      "  Matrix [3e-07, 1e+02]\n",
      "  Cost   [6e+01, 2e+06]\n",
      "  Bound  [0e+00, 0e+00]\n",
      "  RHS    [3e+01, 9e+04]\n",
      "Presolving model\n",
      "47628 rows, 44715 cols, 131240 nonzeros  0s\n",
      "38121 rows, 35208 cols, 119194 nonzeros  0s\n",
      "37382 rows, 34469 cols, 121594 nonzeros  0s\n",
      "\n",
      "Solving MIP model with:\n",
      "   37382 rows\n",
      "   34469 cols (0 binary, 5 integer, 0 implied int., 34464 continuous)\n",
      "   121594 nonzeros\n",
      "\n",
      "        Nodes      |    B&B Tree     |            Objective Bounds              |  Dynamic Constraints |       Work      \n",
      "     Proc. InQueue |  Leaves   Expl. | BestBound       BestSol              Gap |   Cuts   InLp Confl. | LpIters     Time\n",
      "\n",
      "         0       0         0   0.00%   -inf            inf                  inf        0      0      0         0     0.3s\n",
      " S       0       0         0   0.00%   -inf            236052326.1254     Large        0      0      0         0    17.4s\n",
      " R       0       0         0   0.00%   233786916.2271  233831580.4383     0.02%        0      0      0     51052    17.7s\n",
      "\n",
      "40.0% inactive integer columns, restarting\n",
      "Model after restart has 27373 rows, 24458 cols (0 bin., 3 int., 0 impl., 24455 cont.), and 101460 nonzeros\n",
      "\n",
      "         0       0         0   0.00%   233786916.2271  233831580.4383     0.02%        0      0      0     51052    17.9s\n",
      "\n",
      "33.3% inactive integer columns, restarting\n",
      "Model after restart has 21045 rows, 18128 cols (0 bin., 2 int., 0 impl., 18126 cont.), and 71271 nonzeros\n",
      "\n",
      "         0       0         0   0.00%   233786916.2271  233831580.4383     0.02%        0      0      0     51604    18.4s\n",
      "         0       0         0   0.00%   233786916.2271  233831580.4383     0.02%        0      0      0     51625    18.7s\n",
      " H       0       0         0   0.00%   233807053.2912  233831512.8159     0.01%      100     15      0     51887    23.4s\n",
      "\n",
      "Solving report\n",
      "  Status            Optimal\n",
      "  Primal bound      233831512.816\n",
      "  Dual bound        233830898.572\n",
      "  Gap               0.000263% (tolerance: 0.01%)\n",
      "  Solution status   feasible\n",
      "                    233831512.816 (objective)\n",
      "                    0 (bound viol.)\n",
      "                    0 (int. viol.)\n",
      "                    0 (row viol.)\n",
      "  Timing            27.05 (total)\n",
      "                    0.54 (presolve)\n",
      "                    0.00 (postsolve)\n",
      "  Nodes             1\n",
      "  LP iterations     56204 (total)\n",
      "                    93 (strong br.)\n",
      "                    269 (separation)\n",
      "                    4143 (heuristics)\n",
      "Writing the solution to /tmp/linopy-solve-3mkd65e6.sol\n"
     ]
    },
    {
     "name": "stderr",
     "output_type": "stream",
     "text": [
      "INFO:pypsa.optimization.optimize:The shadow-prices of the constraints Generator-ext-p-lower, Generator-ext-p-upper, Link-ext-p-lower, Link-ext-p-upper, Store-ext-e-lower, Store-ext-e-upper, Store-energy_balance, self_sufficiency_constraint were not assigned to the network.\n",
      "INFO:pypsa.io:Exported network network.nc has buses, links, loads, stores, generators, carriers\n",
      "INFO:pypsa.io:Imported network network.nc has buses, carriers, generators, links, loads, stores\n",
      "/home/viktor/code/pypsa-vgr/generator/library/api/generators_core.py:51: RuntimeWarning:\n",
      "\n",
      "invalid value encountered in scalar divide\n",
      "\n",
      "/home/viktor/code/pypsa-vgr/generator/library/api/price_core.py:50: RuntimeWarning:\n",
      "\n",
      "invalid value encountered in scalar divide\n",
      "\n"
     ]
    },
    {
     "name": "stdout",
     "output_type": "stream",
     "text": [
      "117 out of 144: ('1487', 2030, 0.5, 0.2, True, True, 1)\n",
      "Check the get_geo(config) function\n",
      "Create and store parameters\n",
      "Check weather files\n",
      "Check renewables data\n",
      "Renewables files do not exist for geography 1487. Please see /input/renewables/generate-renewables.ipynb\n",
      "Create and store demand\n",
      "Create and store network\n",
      "Using config:\n",
      "\tself-sufficiency:0.8\n",
      "\th2:True\n",
      "\toffwind:True\n",
      "\tbiogas:0\n"
     ]
    },
    {
     "name": "stderr",
     "output_type": "stream",
     "text": [
      "INFO:pypsa.io:Exported network network.nc has buses, links, loads, stores, generators, carriers\n"
     ]
    },
    {
     "name": "stdout",
     "output_type": "stream",
     "text": [
      "Run optimization\n"
     ]
    },
    {
     "name": "stderr",
     "output_type": "stream",
     "text": [
      "INFO:pypsa.io:Imported network network.nc has buses, carriers, generators, links, loads, stores\n",
      "INFO:linopy.model: Solve problem using Highs solver\n",
      "INFO:linopy.io:Writing objective.\n",
      "Writing constraints.: 100%|\u001b[38;2;128;191;255m██████████\u001b[0m| 18/18 [00:00<00:00, 31.50it/s]\n",
      "Writing continuous variables.: 100%|\u001b[38;2;128;191;255m██████████\u001b[0m| 9/9 [00:00<00:00, 68.61it/s]\n",
      "Writing integer variables.: 100%|\u001b[38;2;128;191;255m██████████\u001b[0m| 2/2 [00:00<00:00, 612.89it/s]\n",
      "INFO:linopy.io: Writing time: 0.75s\n",
      "INFO:linopy.solvers:Log file at /tmp/highs.log\n"
     ]
    },
    {
     "name": "stdout",
     "output_type": "stream",
     "text": [
      "Running HiGHS 1.7.2 (git hash: 184e327): Copyright (c) 2024 HiGHS under MIT licence terms\n"
     ]
    },
    {
     "name": "stderr",
     "output_type": "stream",
     "text": [
      "INFO:linopy.constants: Optimization successful: \n",
      "Status: ok\n",
      "Termination condition: optimal\n",
      "Solution: 43818 primals, 96380 duals\n",
      "Objective: 1.85e+08\n",
      "Solver model: available\n",
      "Solver message: optimal\n",
      "\n"
     ]
    },
    {
     "name": "stdout",
     "output_type": "stream",
     "text": [
      "Coefficient ranges:\n",
      "  Matrix [3e-07, 1e+02]\n",
      "  Cost   [6e+01, 2e+06]\n",
      "  Bound  [0e+00, 0e+00]\n",
      "  RHS    [2e+01, 2e+04]\n",
      "Presolving model\n",
      "44708 rows, 38875 cols, 122480 nonzeros  0s\n",
      "38111 rows, 32278 cols, 113377 nonzeros  0s\n",
      "37371 rows, 31538 cols, 115861 nonzeros  0s\n",
      "\n",
      "Solving MIP model with:\n",
      "   37371 rows\n",
      "   31538 cols (0 binary, 5 integer, 0 implied int., 31533 continuous)\n",
      "   115861 nonzeros\n",
      "\n",
      "        Nodes      |    B&B Tree     |            Objective Bounds              |  Dynamic Constraints |       Work      \n",
      "     Proc. InQueue |  Leaves   Expl. | BestBound       BestSol              Gap |   Cuts   InLp Confl. | LpIters     Time\n",
      "\n",
      "         0       0         0   0.00%   -inf            inf                  inf        0      0      0         0     0.3s\n",
      " S       0       0         0   0.00%   -inf            186345702.5853     Large        0      0      0         0    53.4s\n",
      " R       0       0         0   0.00%   184633017.1034  184723654.0449     0.05%        0      0      0     58848    59.0s\n",
      "\n",
      "60.0% inactive integer columns, restarting\n",
      "Model after restart has 21050 rows, 18133 cols (0 bin., 2 int., 0 impl., 18131 cont.), and 71367 nonzeros\n",
      "\n",
      "         0       0         0   0.00%   184633017.1034  184723654.0449     0.05%        0      0      0     58848    59.2s\n",
      " R       0       0         0   0.00%   184633017.1034  184701504.0474     0.04%        0      0      0     58983    64.8s\n",
      "         0       0         0   0.00%   184633294.8271  184701504.0474     0.04%       33      2      0     58987    72.0s\n",
      "         0       0         0   0.00%   184633528.2673  184701504.0474     0.04%       33      4      0     58989    78.9s\n",
      "         0       0         0   0.00%   184633665.5903  184701504.0474     0.04%       33      5      0     58991    84.6s\n",
      "         0       0         0   0.00%   184633881.6447  184701504.0474     0.04%       33      7      0     58993    91.6s\n",
      "         0       0         0   0.00%   184633977.9097  184701504.0474     0.04%       33      9      0     58995    98.3s\n",
      "         0       0         0   0.00%   184634110.3178  184701504.0474     0.04%       33     11      0     58998   104.8s\n",
      "         0       0         0   0.00%   184634248.9222  184701504.0474     0.04%       33     13      0     59001   111.5s\n",
      " H       0       0         0   0.00%   184634331.4957  184681575.9004     0.03%       33     14      0     59002   139.2s\n",
      " H       0       0         0   0.00%   184634331.4957  184678889.0627     0.02%       33     14      0     59002   141.1s\n",
      "         1       0         0 100.00%   184678627.5975  184678889.0627     0.00%       33     14      0     66495   187.3s\n",
      "\n",
      "Solving report\n",
      "  Status            Optimal\n",
      "  Primal bound      184678889.063\n",
      "  Dual bound        184678627.597\n",
      "  Gap               0.000142% (tolerance: 0.01%)\n",
      "  Solution status   feasible\n",
      "                    184678889.063 (objective)\n",
      "                    0 (bound viol.)\n",
      "                    0 (int. viol.)\n",
      "                    0 (row viol.)\n",
      "  Timing            187.31 (total)\n",
      "                    0.37 (presolve)\n",
      "                    0.00 (postsolve)\n",
      "  Nodes             1\n",
      "  LP iterations     66495 (total)\n",
      "                    35 (strong br.)\n",
      "                    19 (separation)\n",
      "                    7320 (heuristics)\n",
      "Writing the solution to /tmp/linopy-solve-uqq4xawe.sol\n"
     ]
    },
    {
     "name": "stderr",
     "output_type": "stream",
     "text": [
      "INFO:pypsa.optimization.optimize:The shadow-prices of the constraints Generator-ext-p-lower, Generator-ext-p-upper, Link-ext-p-lower, Link-ext-p-upper, Store-ext-e-lower, Store-ext-e-upper, Store-energy_balance, self_sufficiency_constraint were not assigned to the network.\n",
      "INFO:pypsa.io:Exported network network.nc has buses, links, loads, stores, generators, carriers\n",
      "INFO:pypsa.io:Imported network network.nc has buses, carriers, generators, links, loads, stores\n"
     ]
    },
    {
     "name": "stdout",
     "output_type": "stream",
     "text": [
      "118 out of 144: ('1487', 2030, 0.8, -0.2, True, True, 0)\n",
      "Check the get_geo(config) function\n",
      "Create and store parameters\n",
      "Check weather files\n",
      "Check renewables data\n",
      "Renewables files do not exist for geography 1487. Please see /input/renewables/generate-renewables.ipynb\n",
      "Create and store demand\n",
      "Create and store network\n",
      "Using config:\n",
      "\tself-sufficiency:0.8\n",
      "\th2:True\n",
      "\toffwind:True\n",
      "\tbiogas:0.5\n"
     ]
    },
    {
     "name": "stderr",
     "output_type": "stream",
     "text": [
      "INFO:pypsa.io:Exported network network.nc has buses, links, loads, stores, generators, carriers\n"
     ]
    },
    {
     "name": "stdout",
     "output_type": "stream",
     "text": [
      "Run optimization\n"
     ]
    },
    {
     "name": "stderr",
     "output_type": "stream",
     "text": [
      "INFO:pypsa.io:Imported network network.nc has buses, carriers, generators, links, loads, stores\n",
      "INFO:linopy.model: Solve problem using Highs solver\n",
      "INFO:linopy.io:Writing objective.\n",
      "Writing constraints.: 100%|\u001b[38;2;128;191;255m██████████\u001b[0m| 18/18 [00:00<00:00, 32.90it/s]\n",
      "Writing continuous variables.: 100%|\u001b[38;2;128;191;255m██████████\u001b[0m| 9/9 [00:00<00:00, 80.53it/s]\n",
      "Writing integer variables.: 100%|\u001b[38;2;128;191;255m██████████\u001b[0m| 2/2 [00:00<00:00, 557.60it/s]\n",
      "INFO:linopy.io: Writing time: 0.71s\n",
      "INFO:linopy.solvers:Log file at /tmp/highs.log\n"
     ]
    },
    {
     "name": "stdout",
     "output_type": "stream",
     "text": [
      "Running HiGHS 1.7.2 (git hash: 184e327): Copyright (c) 2024 HiGHS under MIT licence terms\n",
      "Coefficient ranges:\n",
      "  Matrix [3e-07, 1e+02]\n",
      "  Cost   [6e+01, 2e+06]\n",
      "  Bound  [0e+00, 0e+00]\n",
      "  RHS    [2e+01, 2e+04]\n",
      "Presolving model\n",
      "47628 rows, 44715 cols, 131240 nonzeros  0s\n",
      "38121 rows, 35208 cols, 119194 nonzeros  0s\n",
      "37382 rows, 34469 cols, 121594 nonzeros  0s\n",
      "\n",
      "Solving MIP model with:\n",
      "   37382 rows\n",
      "   34469 cols (0 binary, 5 integer, 0 implied int., 34464 continuous)\n",
      "   121594 nonzeros\n",
      "\n",
      "        Nodes      |    B&B Tree     |            Objective Bounds              |  Dynamic Constraints |       Work      \n",
      "     Proc. InQueue |  Leaves   Expl. | BestBound       BestSol              Gap |   Cuts   InLp Confl. | LpIters     Time\n",
      "\n",
      "         0       0         0   0.00%   -inf            inf                  inf        0      0      0         0     0.3s\n",
      " S       0       0         0   0.00%   -inf            186345702.5853     Large        0      0      0         0    57.0s\n",
      " R       0       0         0   0.00%   184633017.1034  184723654.0449     0.05%        0      0      0     62261    61.8s\n",
      "\n",
      "40.0% inactive integer columns, restarting\n",
      "Model after restart has 27373 rows, 24458 cols (0 bin., 3 int., 0 impl., 24455 cont.), and 101460 nonzeros\n",
      "\n",
      "         0       0         0   0.00%   184633017.1034  184723654.0449     0.05%        0      0      0     62261    62.0s\n",
      " R       0       0         0   0.00%   184633017.1034  184701504.0474     0.04%        0      0      0     63299    69.9s\n",
      "         0       0         0   0.00%   184633294.8271  184701504.0474     0.04%       33      2      0     63304    79.0s\n",
      "         0       0         0   0.00%   184633414.255   184701504.0474     0.04%       33      3      0     63305    84.2s\n",
      "         0       0         0   0.00%   184633665.5903  184701504.0474     0.04%       33      5      0     63308    96.0s\n",
      "         0       0         0   0.00%   184633881.6447  184701504.0474     0.04%       42      7      0     63310   105.1s\n",
      "         0       0         0   0.00%   184633977.9097  184701504.0474     0.04%       42      9      0     63312   113.7s\n",
      "         0       0         0   0.00%   184634110.3178  184701504.0474     0.04%       42     11      0     63315   122.5s\n",
      "         0       0         0   0.00%   184634248.9222  184701504.0474     0.04%       42     13      0     63318   130.9s\n",
      " L       0       0         0   0.00%   184634331.4957  184678889.0627     0.02%       42     14      0     63319   205.3s\n",
      "         0       0         0   0.00%   184634331.4958  184678889.0627     0.02%       42     15      0     74992   242.8s\n",
      "         1       0         0 100.00%   184678627.5975  184678889.0627     0.00%       42     15      0     76936   485.1s\n",
      "\n",
      "Solving report\n",
      "  Status            Optimal\n",
      "  Primal bound      184678889.063\n",
      "  Dual bound        184678627.597\n",
      "  Gap               0.000142% (tolerance: 0.01%)\n",
      "  Solution status   feasible\n",
      "                    184678889.063 (objective)\n",
      "                    0 (bound viol.)\n",
      "                    0 (int. viol.)\n",
      "                    0 (row viol.)\n",
      "  Timing            485.11 (total)\n",
      "                    0.39 (presolve)\n",
      "                    0.00 (postsolve)\n",
      "  Nodes             1\n",
      "  LP iterations     76936 (total)\n",
      "                    239 (strong br.)\n",
      "                    21 (separation)\n",
      "                    13220 (heuristics)\n",
      "Writing the solution to /tmp/linopy-solve-zzdbpg0p.sol\n"
     ]
    },
    {
     "name": "stderr",
     "output_type": "stream",
     "text": [
      "INFO:linopy.constants: Optimization successful: \n",
      "Status: ok\n",
      "Termination condition: optimal\n",
      "Solution: 46739 primals, 102222 duals\n",
      "Objective: 1.85e+08\n",
      "Solver model: available\n",
      "Solver message: optimal\n",
      "\n",
      "INFO:pypsa.optimization.optimize:The shadow-prices of the constraints Generator-ext-p-lower, Generator-ext-p-upper, Link-ext-p-lower, Link-ext-p-upper, Store-ext-e-lower, Store-ext-e-upper, Store-energy_balance, self_sufficiency_constraint were not assigned to the network.\n",
      "INFO:pypsa.io:Exported network network.nc has buses, links, loads, stores, generators, carriers\n",
      "INFO:pypsa.io:Imported network network.nc has buses, carriers, generators, links, loads, stores\n",
      "/home/viktor/code/pypsa-vgr/generator/library/api/generators_core.py:51: RuntimeWarning:\n",
      "\n",
      "invalid value encountered in scalar divide\n",
      "\n",
      "/home/viktor/code/pypsa-vgr/generator/library/api/price_core.py:50: RuntimeWarning:\n",
      "\n",
      "invalid value encountered in scalar divide\n",
      "\n"
     ]
    },
    {
     "name": "stdout",
     "output_type": "stream",
     "text": [
      "119 out of 144: ('1487', 2030, 0.8, -0.2, True, True, 0.5)\n",
      "Check the get_geo(config) function\n",
      "Create and store parameters\n",
      "Check weather files\n",
      "Check renewables data\n",
      "Renewables files do not exist for geography 1487. Please see /input/renewables/generate-renewables.ipynb\n",
      "Create and store demand\n",
      "Create and store network\n",
      "Using config:\n",
      "\tself-sufficiency:0.8\n",
      "\th2:True\n",
      "\toffwind:True\n",
      "\tbiogas:1\n"
     ]
    },
    {
     "name": "stderr",
     "output_type": "stream",
     "text": [
      "INFO:pypsa.io:Exported network network.nc has buses, links, loads, stores, generators, carriers\n",
      "INFO:pypsa.io:Imported network network.nc has buses, carriers, generators, links, loads, stores\n"
     ]
    },
    {
     "name": "stdout",
     "output_type": "stream",
     "text": [
      "Run optimization\n"
     ]
    },
    {
     "name": "stderr",
     "output_type": "stream",
     "text": [
      "INFO:linopy.model: Solve problem using Highs solver\n",
      "INFO:linopy.io:Writing objective.\n",
      "Writing constraints.: 100%|\u001b[38;2;128;191;255m██████████\u001b[0m| 18/18 [00:00<00:00, 40.53it/s]\n",
      "Writing continuous variables.: 100%|\u001b[38;2;128;191;255m██████████\u001b[0m| 9/9 [00:00<00:00, 113.54it/s]\n",
      "Writing integer variables.: 100%|\u001b[38;2;128;191;255m██████████\u001b[0m| 2/2 [00:00<00:00, 825.41it/s]\n",
      "INFO:linopy.io: Writing time: 0.57s\n",
      "INFO:linopy.solvers:Log file at /tmp/highs.log\n"
     ]
    },
    {
     "name": "stdout",
     "output_type": "stream",
     "text": [
      "Running HiGHS 1.7.2 (git hash: 184e327): Copyright (c) 2024 HiGHS under MIT licence terms\n",
      "Coefficient ranges:\n",
      "  Matrix [3e-07, 1e+02]\n",
      "  Cost   [6e+01, 2e+06]\n",
      "  Bound  [0e+00, 0e+00]\n",
      "  RHS    [2e+01, 2e+04]\n",
      "Presolving model\n",
      "47628 rows, 44715 cols, 131240 nonzeros  0s\n",
      "38121 rows, 35208 cols, 119194 nonzeros  0s\n",
      "37382 rows, 34469 cols, 121594 nonzeros  0s\n",
      "\n",
      "Solving MIP model with:\n",
      "   37382 rows\n",
      "   34469 cols (0 binary, 5 integer, 0 implied int., 34464 continuous)\n",
      "   121594 nonzeros\n",
      "\n",
      "        Nodes      |    B&B Tree     |            Objective Bounds              |  Dynamic Constraints |       Work      \n",
      "     Proc. InQueue |  Leaves   Expl. | BestBound       BestSol              Gap |   Cuts   InLp Confl. | LpIters     Time\n",
      "\n",
      "         0       0         0   0.00%   -inf            inf                  inf        0      0      0         0     0.3s\n",
      " S       0       0         0   0.00%   -inf            186345702.5853     Large        0      0      0         0    38.1s\n",
      " R       0       0         0   0.00%   184633017.1034  184723654.0449     0.05%        0      0      0     57494    41.9s\n",
      "\n",
      "40.0% inactive integer columns, restarting\n",
      "Model after restart has 27373 rows, 24458 cols (0 bin., 3 int., 0 impl., 24455 cont.), and 101460 nonzeros\n",
      "\n",
      "         0       0         0   0.00%   184633017.1034  184723654.0449     0.05%        0      0      0     57494    42.1s\n",
      " R       0       0         0   0.00%   184633017.1034  184701504.0474     0.04%        0      0      0     58378    47.3s\n",
      "         0       0         0   0.00%   184633294.8271  184701504.0474     0.04%       33      2      0     58383    54.1s\n",
      "         0       0         0   0.00%   184633528.2673  184701504.0474     0.04%       33      4      0     58385    60.6s\n",
      "         0       0         0   0.00%   184633665.5903  184701504.0474     0.04%       33      5      0     58387    66.3s\n",
      "         0       0         0   0.00%   184633881.6447  184701504.0474     0.04%       42      7      0     58389    73.0s\n",
      "         0       0         0   0.00%   184633977.9097  184701504.0474     0.04%       42      9      0     58391    79.5s\n",
      "         0       0         0   0.00%   184634110.3178  184701504.0474     0.04%       42     11      0     58394    86.3s\n",
      "         0       0         0   0.00%   184634248.9222  184701504.0474     0.04%       42     13      0     58397    93.0s\n",
      " L       0       0         0   0.00%   184634331.4957  184678889.0627     0.02%       42     14      0     58398   157.6s\n",
      "         0       0         0   0.00%   184634331.4958  184678889.0627     0.02%       42     15      0     70128   192.2s\n",
      "         1       0         0 100.00%   184678627.5975  184678889.0627     0.00%       42     15      0     71960   264.0s\n",
      "\n",
      "Solving report\n",
      "  Status            Optimal\n",
      "  Primal bound      184678889.063\n",
      "  Dual bound        184678627.597\n",
      "  Gap               0.000142% (tolerance: 0.01%)\n",
      "  Solution status   feasible\n",
      "                    184678889.063 (objective)\n",
      "                    0 (bound viol.)\n",
      "                    0 (int. viol.)\n",
      "                    0 (row viol.)\n",
      "  Timing            264.00 (total)\n",
      "                    0.45 (presolve)\n",
      "                    0.00 (postsolve)\n",
      "  Nodes             1\n",
      "  LP iterations     71960 (total)\n",
      "                    259 (strong br.)\n",
      "                    21 (separation)\n",
      "                    13148 (heuristics)\n",
      "Writing the solution to /tmp/linopy-solve-vbnzlx4q.sol\n"
     ]
    },
    {
     "name": "stderr",
     "output_type": "stream",
     "text": [
      "INFO:linopy.constants: Optimization successful: \n",
      "Status: ok\n",
      "Termination condition: optimal\n",
      "Solution: 46739 primals, 102222 duals\n",
      "Objective: 1.85e+08\n",
      "Solver model: available\n",
      "Solver message: optimal\n",
      "\n",
      "INFO:pypsa.optimization.optimize:The shadow-prices of the constraints Generator-ext-p-lower, Generator-ext-p-upper, Link-ext-p-lower, Link-ext-p-upper, Store-ext-e-lower, Store-ext-e-upper, Store-energy_balance, self_sufficiency_constraint were not assigned to the network.\n",
      "INFO:pypsa.io:Exported network network.nc has buses, links, loads, stores, generators, carriers\n",
      "INFO:pypsa.io:Imported network network.nc has buses, carriers, generators, links, loads, stores\n",
      "/home/viktor/code/pypsa-vgr/generator/library/api/generators_core.py:51: RuntimeWarning:\n",
      "\n",
      "invalid value encountered in scalar divide\n",
      "\n",
      "/home/viktor/code/pypsa-vgr/generator/library/api/price_core.py:50: RuntimeWarning:\n",
      "\n",
      "invalid value encountered in scalar divide\n",
      "\n"
     ]
    },
    {
     "name": "stdout",
     "output_type": "stream",
     "text": [
      "120 out of 144: ('1487', 2030, 0.8, -0.2, True, True, 1)\n",
      "Check the get_geo(config) function\n",
      "Create and store parameters\n",
      "Check weather files\n",
      "Check renewables data\n",
      "Renewables files do not exist for geography 1487. Please see /input/renewables/generate-renewables.ipynb\n",
      "Create and store demand\n",
      "Create and store network\n",
      "Using config:\n",
      "\tself-sufficiency:0.8\n",
      "\th2:True\n",
      "\toffwind:True\n",
      "\tbiogas:0\n"
     ]
    },
    {
     "name": "stderr",
     "output_type": "stream",
     "text": [
      "INFO:pypsa.io:Exported network network.nc has buses, links, loads, stores, generators, carriers\n"
     ]
    },
    {
     "name": "stdout",
     "output_type": "stream",
     "text": [
      "Run optimization\n"
     ]
    },
    {
     "name": "stderr",
     "output_type": "stream",
     "text": [
      "INFO:pypsa.io:Imported network network.nc has buses, carriers, generators, links, loads, stores\n",
      "INFO:linopy.model: Solve problem using Highs solver\n",
      "INFO:linopy.io:Writing objective.\n",
      "Writing constraints.: 100%|\u001b[38;2;128;191;255m██████████\u001b[0m| 18/18 [00:00<00:00, 30.88it/s]\n",
      "Writing continuous variables.: 100%|\u001b[38;2;128;191;255m██████████\u001b[0m| 9/9 [00:00<00:00, 94.38it/s]\n",
      "Writing integer variables.: 100%|\u001b[38;2;128;191;255m██████████\u001b[0m| 2/2 [00:00<00:00, 825.24it/s]\n",
      "INFO:linopy.io: Writing time: 0.73s\n",
      "INFO:linopy.solvers:Log file at /tmp/highs.log\n"
     ]
    },
    {
     "name": "stdout",
     "output_type": "stream",
     "text": [
      "Running HiGHS 1.7.2 (git hash: 184e327): Copyright (c) 2024 HiGHS under MIT licence terms\n",
      "Coefficient ranges:\n",
      "  Matrix [3e-07, 1e+02]\n",
      "  Cost   [6e+01, 2e+06]\n",
      "  Bound  [0e+00, 0e+00]\n",
      "  RHS    [3e+01, 3e+04]\n",
      "Presolving model\n",
      "44708 rows, 38875 cols, 122480 nonzeros  0s\n",
      "38111 rows, 32278 cols, 113377 nonzeros  0s\n",
      "37371 rows, 31538 cols, 115861 nonzeros  0s\n",
      "\n",
      "Solving MIP model with:\n",
      "   37371 rows\n",
      "   31538 cols (0 binary, 5 integer, 0 implied int., 31533 continuous)\n",
      "   115861 nonzeros\n",
      "\n",
      "        Nodes      |    B&B Tree     |            Objective Bounds              |  Dynamic Constraints |       Work      \n",
      "     Proc. InQueue |  Leaves   Expl. | BestBound       BestSol              Gap |   Cuts   InLp Confl. | LpIters     Time\n",
      "\n",
      "         0       0         0   0.00%   -inf            inf                  inf        0      0      0         0     0.3s\n",
      " S       0       0         0   0.00%   -inf            234003130.6201     Large        0      0      0         0    53.9s\n",
      " R       0       0         0   0.00%   230791271.3792  231000301.7298     0.09%        0      0      0     58790    59.4s\n",
      "\n",
      "20.0% inactive integer columns, restarting\n",
      "Model after restart has 32642 rows, 26808 cols (0 bin., 4 int., 0 impl., 26804 cont.), and 106209 nonzeros\n",
      "\n",
      "         0       0         0   0.00%   230791271.3792  231000301.7298     0.09%        0      0      0     58790    59.6s\n",
      " R       0       0         0   0.00%   230791271.3792  230851415.6088     0.03%        0      0      0     58791    67.6s\n",
      "         0       0         0   0.00%   230791404.7518  230851415.6088     0.03%       42      1      0     58792    75.9s\n",
      " L       0       0         0   0.00%   230791404.7518  230822288.63       0.01%       42      1      0     58792   152.1s\n",
      "         0       0         0   0.00%   230791538.2689  230822288.63       0.01%       65      2      0     59738   158.1s\n",
      " L       0       0         0   0.00%   230791538.2689  230822288.63       0.01%       65      2      0     59738   199.9s\n",
      "\n",
      "25.0% inactive integer columns, restarting\n",
      "Model after restart has 27336 rows, 21501 cols (1 bin., 2 int., 0 impl., 21498 cont.), and 96166 nonzeros\n",
      "\n",
      "         0       0         0   0.00%   230791538.2689  230822288.63       0.01%        2      0      0     68831   200.3s\n",
      "\n",
      "33.3% inactive integer columns, restarting\n",
      "Model after restart has 21036 rows, 18119 cols (0 bin., 2 int., 0 impl., 18117 cont.), and 71451 nonzeros\n",
      "\n",
      "         0       0         0   0.00%   230791538.2689  230822288.63       0.01%        2      0      0     83414   216.4s\n",
      "         0       0         0   0.00%   230791538.2689  230822288.63       0.01%        2      2      0     83561   223.3s\n",
      "         0       0         0   0.00%   230791743.4531  230822288.63       0.01%       41      4      0     83567   230.4s\n",
      "         0       0         0   0.00%   230791973.5804  230822288.63       0.01%       41      9      0     83573   238.5s\n",
      "         0       0         0   0.00%   230792062.125   230822288.63       0.01%       41     10      0     83574   244.9s\n",
      "         0       0         0   0.00%   230792063.9748  230822288.63       0.01%       41     11      0     83575   250.7s\n",
      "         0       0         0   0.00%   230792065.082   230822288.63       0.01%       41     13      0     83577   258.3s\n",
      "         0       0         0   0.00%   230792194.3596  230822288.63       0.01%       41     15      0     83581   265.6s\n",
      "         0       0         0   0.00%   230792303.5654  230822288.63       0.01%       41     17      0     83583   272.7s\n",
      "         0       0         0   0.00%   230792398.9262  230822288.63       0.01%       41     20      0     83588   279.7s\n",
      "\n",
      "        Nodes      |    B&B Tree     |            Objective Bounds              |  Dynamic Constraints |       Work      \n",
      "     Proc. InQueue |  Leaves   Expl. | BestBound       BestSol              Gap |   Cuts   InLp Confl. | LpIters     Time\n",
      "\n",
      "         0       0         0   0.00%   230792398.9262  230822288.63       0.01%       41     20      0     94784   318.0s\n",
      "\n",
      "Solving report\n",
      "  Status            Optimal\n",
      "  Primal bound      230822288.63\n",
      "  Dual bound        230821126.711\n",
      "  Gap               0.000503% (tolerance: 0.01%)\n",
      "  Solution status   feasible\n",
      "                    230822288.63 (objective)\n",
      "                    0 (bound viol.)\n",
      "                    0 (int. viol.)\n",
      "                    0 (row viol.)\n",
      "  Timing            318.28 (total)\n",
      "                    0.82 (presolve)\n",
      "                    0.00 (postsolve)\n",
      "  Nodes             1\n",
      "  LP iterations     94941 (total)\n",
      "                    125 (strong br.)\n",
      "                    30 (separation)\n",
      "                    21233 (heuristics)\n"
     ]
    },
    {
     "name": "stderr",
     "output_type": "stream",
     "text": [
      "INFO:linopy.constants: Optimization successful: \n",
      "Status: ok\n",
      "Termination condition: optimal\n",
      "Solution: 43818 primals, 96380 duals\n",
      "Objective: 2.31e+08\n",
      "Solver model: available\n",
      "Solver message: optimal\n",
      "\n",
      "INFO:pypsa.optimization.optimize:The shadow-prices of the constraints Generator-ext-p-lower, Generator-ext-p-upper, Link-ext-p-lower, Link-ext-p-upper, Store-ext-e-lower, Store-ext-e-upper, Store-energy_balance, self_sufficiency_constraint were not assigned to the network.\n"
     ]
    },
    {
     "name": "stdout",
     "output_type": "stream",
     "text": [
      "Writing the solution to /tmp/linopy-solve-p61ilseq.sol\n"
     ]
    },
    {
     "name": "stderr",
     "output_type": "stream",
     "text": [
      "INFO:pypsa.io:Exported network network.nc has buses, links, loads, stores, generators, carriers\n",
      "INFO:pypsa.io:Imported network network.nc has buses, carriers, generators, links, loads, stores\n"
     ]
    },
    {
     "name": "stdout",
     "output_type": "stream",
     "text": [
      "121 out of 144: ('1487', 2030, 0.8, 0, True, True, 0)\n",
      "Check the get_geo(config) function\n",
      "Create and store parameters\n",
      "Check weather files\n",
      "Check renewables data\n",
      "Renewables files do not exist for geography 1487. Please see /input/renewables/generate-renewables.ipynb\n",
      "Create and store demand\n",
      "Create and store network\n",
      "Using config:\n",
      "\tself-sufficiency:0.8\n",
      "\th2:True\n",
      "\toffwind:True\n",
      "\tbiogas:0.5\n"
     ]
    },
    {
     "name": "stderr",
     "output_type": "stream",
     "text": [
      "INFO:pypsa.io:Exported network network.nc has buses, links, loads, stores, generators, carriers\n"
     ]
    },
    {
     "name": "stdout",
     "output_type": "stream",
     "text": [
      "Run optimization\n"
     ]
    },
    {
     "name": "stderr",
     "output_type": "stream",
     "text": [
      "INFO:pypsa.io:Imported network network.nc has buses, carriers, generators, links, loads, stores\n",
      "INFO:linopy.model: Solve problem using Highs solver\n",
      "INFO:linopy.io:Writing objective.\n",
      "Writing constraints.: 100%|\u001b[38;2;128;191;255m██████████\u001b[0m| 18/18 [00:00<00:00, 35.89it/s]\n",
      "Writing continuous variables.: 100%|\u001b[38;2;128;191;255m██████████\u001b[0m| 9/9 [00:00<00:00, 97.20it/s]\n",
      "Writing integer variables.: 100%|\u001b[38;2;128;191;255m██████████\u001b[0m| 2/2 [00:00<00:00, 562.65it/s]\n",
      "INFO:linopy.io: Writing time: 0.64s\n",
      "INFO:linopy.solvers:Log file at /tmp/highs.log\n"
     ]
    },
    {
     "name": "stdout",
     "output_type": "stream",
     "text": [
      "Running HiGHS 1.7.2 (git hash: 184e327): Copyright (c) 2024 HiGHS under MIT licence terms\n",
      "Coefficient ranges:\n"
     ]
    },
    {
     "name": "stderr",
     "output_type": "stream",
     "text": [
      "INFO:linopy.constants: Optimization successful: \n",
      "Status: ok\n",
      "Termination condition: optimal\n",
      "Solution: 46739 primals, 102222 duals\n",
      "Objective: 2.31e+08\n",
      "Solver model: available\n",
      "Solver message: optimal\n",
      "\n"
     ]
    },
    {
     "name": "stdout",
     "output_type": "stream",
     "text": [
      "  Matrix [3e-07, 1e+02]\n",
      "  Cost   [6e+01, 2e+06]\n",
      "  Bound  [0e+00, 0e+00]\n",
      "  RHS    [3e+01, 3e+04]\n",
      "Presolving model\n",
      "47628 rows, 44715 cols, 131240 nonzeros  0s\n",
      "38121 rows, 35208 cols, 119194 nonzeros  0s\n",
      "37382 rows, 34469 cols, 121594 nonzeros  0s\n",
      "\n",
      "Solving MIP model with:\n",
      "   37382 rows\n",
      "   34469 cols (0 binary, 5 integer, 0 implied int., 34464 continuous)\n",
      "   121594 nonzeros\n",
      "\n",
      "        Nodes      |    B&B Tree     |            Objective Bounds              |  Dynamic Constraints |       Work      \n",
      "     Proc. InQueue |  Leaves   Expl. | BestBound       BestSol              Gap |   Cuts   InLp Confl. | LpIters     Time\n",
      "\n",
      "         0       0         0   0.00%   -inf            inf                  inf        0      0      0         0     0.3s\n",
      " S       0       0         0   0.00%   -inf            234003130.6201     Large        0      0      0         0    59.5s\n",
      " R       0       0         0   0.00%   230791271.3792  231000301.7298     0.09%        0      0      0     62241    64.7s\n",
      "\n",
      "40.0% inactive integer columns, restarting\n",
      "Model after restart has 27373 rows, 24458 cols (0 bin., 3 int., 0 impl., 24455 cont.), and 101460 nonzeros\n",
      "\n",
      "         0       0         0   0.00%   230791271.3792  231000301.7298     0.09%        0      0      0     62241    64.9s\n",
      " R       0       0         0   0.00%   230791271.3792  230851415.6088     0.03%        0      0      0     63377    72.0s\n",
      "         0       0         0   0.00%   230791612.6246  230851415.6088     0.03%       42      4      0     63382    80.9s\n",
      "         0       0         0   0.00%   230791817.7947  230851415.6088     0.03%       42      6      0     63388    89.6s\n",
      "         0       0         0   0.00%   230791954.3814  230851415.6088     0.03%       42      7      0     63390    96.9s\n",
      "         0       0         0   0.00%   230792044.7465  230851415.6088     0.03%       56      9      0     63392   105.5s\n",
      "         0       0         0   0.00%   230792046.5963  230851415.6088     0.03%       56     11      0     63394   113.9s\n",
      "         0       0         0   0.00%   230792123.3149  230851415.6088     0.03%       56     13      0     63397   122.7s\n",
      "         0       0         0   0.00%   230792231.2285  230851415.6088     0.03%       56     15      0     63400   130.9s\n",
      " L       0       0         0   0.00%   230792286.2415  230822288.63       0.01%       56     16      0     63401   218.5s\n",
      " L       0       0         0   0.00%   230792286.2415  230822288.63       0.01%       56     16      0     65818   259.6s\n",
      "         1       0         1 100.00%   230821126.7111  230822288.63       0.00%       56     16      0     85696   358.2s\n",
      "\n",
      "Solving report\n",
      "  Status            Optimal\n",
      "  Primal bound      230822288.63\n",
      "  Dual bound        230821126.711\n",
      "  Gap               0.000503% (tolerance: 0.01%)\n",
      "  Solution status   feasible\n",
      "                    230822288.63 (objective)\n",
      "                    0 (bound viol.)\n",
      "                    0 (int. viol.)\n",
      "                    0 (row viol.)\n",
      "  Timing            358.24 (total)\n",
      "                    0.43 (presolve)\n",
      "                    0.00 (postsolve)\n",
      "  Nodes             1\n",
      "  LP iterations     85696 (total)\n",
      "                    324 (strong br.)\n",
      "                    24 (separation)\n",
      "                    21742 (heuristics)\n",
      "Writing the solution to /tmp/linopy-solve-yt1at589.sol\n"
     ]
    },
    {
     "name": "stderr",
     "output_type": "stream",
     "text": [
      "INFO:pypsa.optimization.optimize:The shadow-prices of the constraints Generator-ext-p-lower, Generator-ext-p-upper, Link-ext-p-lower, Link-ext-p-upper, Store-ext-e-lower, Store-ext-e-upper, Store-energy_balance, self_sufficiency_constraint were not assigned to the network.\n",
      "INFO:pypsa.io:Exported network network.nc has buses, links, loads, stores, generators, carriers\n",
      "INFO:pypsa.io:Imported network network.nc has buses, carriers, generators, links, loads, stores\n",
      "/home/viktor/code/pypsa-vgr/generator/library/api/generators_core.py:51: RuntimeWarning:\n",
      "\n",
      "invalid value encountered in scalar divide\n",
      "\n",
      "/home/viktor/code/pypsa-vgr/generator/library/api/price_core.py:50: RuntimeWarning:\n",
      "\n",
      "invalid value encountered in scalar divide\n",
      "\n"
     ]
    },
    {
     "name": "stdout",
     "output_type": "stream",
     "text": [
      "122 out of 144: ('1487', 2030, 0.8, 0, True, True, 0.5)\n",
      "Check the get_geo(config) function\n",
      "Create and store parameters\n",
      "Check weather files\n",
      "Check renewables data\n",
      "Renewables files do not exist for geography 1487. Please see /input/renewables/generate-renewables.ipynb\n",
      "Create and store demand\n",
      "Create and store network\n",
      "Using config:\n",
      "\tself-sufficiency:0.8\n",
      "\th2:True\n",
      "\toffwind:True\n",
      "\tbiogas:1\n"
     ]
    },
    {
     "name": "stderr",
     "output_type": "stream",
     "text": [
      "INFO:pypsa.io:Exported network network.nc has buses, links, loads, stores, generators, carriers\n"
     ]
    },
    {
     "name": "stdout",
     "output_type": "stream",
     "text": [
      "Run optimization\n"
     ]
    },
    {
     "name": "stderr",
     "output_type": "stream",
     "text": [
      "INFO:pypsa.io:Imported network network.nc has buses, carriers, generators, links, loads, stores\n",
      "INFO:linopy.model: Solve problem using Highs solver\n",
      "INFO:linopy.io:Writing objective.\n",
      "Writing constraints.: 100%|\u001b[38;2;128;191;255m██████████\u001b[0m| 18/18 [00:00<00:00, 23.68it/s]\n",
      "Writing continuous variables.: 100%|\u001b[38;2;128;191;255m██████████\u001b[0m| 9/9 [00:00<00:00, 72.39it/s]\n",
      "Writing integer variables.: 100%|\u001b[38;2;128;191;255m██████████\u001b[0m| 2/2 [00:00<00:00, 376.20it/s]\n",
      "INFO:linopy.io: Writing time: 0.96s\n",
      "INFO:linopy.solvers:Log file at /tmp/highs.log\n"
     ]
    },
    {
     "name": "stdout",
     "output_type": "stream",
     "text": [
      "Running HiGHS 1.7.2 (git hash: 184e327): Copyright (c) 2024 HiGHS under MIT licence terms\n"
     ]
    },
    {
     "name": "stderr",
     "output_type": "stream",
     "text": [
      "INFO:linopy.constants: Optimization successful: \n",
      "Status: ok\n",
      "Termination condition: optimal\n",
      "Solution: 46739 primals, 102222 duals\n",
      "Objective: 2.31e+08\n",
      "Solver model: available\n",
      "Solver message: optimal\n",
      "\n",
      "INFO:pypsa.optimization.optimize:The shadow-prices of the constraints Generator-ext-p-lower, Generator-ext-p-upper, Link-ext-p-lower, Link-ext-p-upper, Store-ext-e-lower, Store-ext-e-upper, Store-energy_balance, self_sufficiency_constraint were not assigned to the network.\n"
     ]
    },
    {
     "name": "stdout",
     "output_type": "stream",
     "text": [
      "Coefficient ranges:\n",
      "  Matrix [3e-07, 1e+02]\n",
      "  Cost   [6e+01, 2e+06]\n",
      "  Bound  [0e+00, 0e+00]\n",
      "  RHS    [3e+01, 3e+04]\n",
      "Presolving model\n",
      "47628 rows, 44715 cols, 131240 nonzeros  0s\n",
      "38121 rows, 35208 cols, 119194 nonzeros  0s\n",
      "37382 rows, 34469 cols, 121594 nonzeros  0s\n",
      "\n",
      "Solving MIP model with:\n",
      "   37382 rows\n",
      "   34469 cols (0 binary, 5 integer, 0 implied int., 34464 continuous)\n",
      "   121594 nonzeros\n",
      "\n",
      "        Nodes      |    B&B Tree     |            Objective Bounds              |  Dynamic Constraints |       Work      \n",
      "     Proc. InQueue |  Leaves   Expl. | BestBound       BestSol              Gap |   Cuts   InLp Confl. | LpIters     Time\n",
      "\n",
      "         0       0         0   0.00%   -inf            inf                  inf        0      0      0         0     0.3s\n",
      " S       0       0         0   0.00%   -inf            234003130.6201     Large        0      0      0         0    66.3s\n",
      " R       0       0         0   0.00%   230791271.3792  231000301.7298     0.09%        0      0      0     61304    72.9s\n",
      "\n",
      "20.0% inactive integer columns, restarting\n",
      "Model after restart has 32659 rows, 29745 cols (0 bin., 4 int., 0 impl., 29741 cont.), and 111807 nonzeros\n",
      "\n",
      "         0       0         0   0.00%   230791271.3792  231000301.7298     0.09%        0      0      0     61304    73.2s\n",
      " R       0       0         0   0.00%   230791271.3792  230851415.6088     0.03%        0      0      0     61304    79.7s\n",
      "\n",
      "25.0% inactive integer columns, restarting\n",
      "Model after restart has 27362 rows, 24447 cols (0 bin., 3 int., 0 impl., 24444 cont.), and 101610 nonzeros\n",
      "\n",
      "         0       0         0   0.00%   230791271.3792  230851415.6088     0.03%        0      0      0     61304    80.4s\n",
      "         0       0         0   0.00%   230791271.3792  230851415.6088     0.03%        0      0      0     62131    90.6s\n",
      "         0       0         0   0.00%   230791404.7518  230851415.6088     0.03%       42      1      0     62132    96.9s\n",
      "         0       0         0   0.00%   230791612.6246  230851415.6088     0.03%       42      4      0     62136   102.4s\n",
      "         0       0         0   0.00%   230791672.3812  230851415.6088     0.03%       42      5      0     62140   108.5s\n",
      "         0       0         0   0.00%   230791817.7947  230851415.6088     0.03%       42      6      0     62142   116.1s\n",
      "         0       0         0   0.00%   230791954.3814  230851415.6088     0.03%       42      7      0     62144   125.5s\n",
      "         0       0         0   0.00%   230792044.7465  230851415.6088     0.03%       56      9      0     62146   134.4s\n",
      "         0       0         0   0.00%   230792046.5963  230851415.6088     0.03%       56     11      0     62148   143.3s\n",
      "         0       0         0   0.00%   230792123.3149  230851415.6088     0.03%       56     13      0     62151   152.3s\n",
      "         0       0         0   0.00%   230792231.2285  230851415.6088     0.03%       56     15      0     62154   161.5s\n",
      " L       0       0         0   0.00%   230792286.2415  230822288.63       0.01%       56     16      0     62155   237.1s\n",
      " L       0       0         0   0.00%   230792355.4058  230822288.63       0.01%       61     18      0     64541   275.4s\n",
      "\n",
      "33.3% inactive integer columns, restarting\n",
      "Model after restart has 21063 rows, 18146 cols (0 bin., 2 int., 0 impl., 18144 cont.), and 71147 nonzeros\n",
      "\n",
      "         0       0         0   0.00%   230792355.4058  230822288.63       0.01%       18      0      0     74505   275.5s\n",
      "         0       0         0   0.00%   230792355.4058  230822288.63       0.01%       18     18      0     74653   281.3s\n",
      "\n",
      "        Nodes      |    B&B Tree     |            Objective Bounds              |  Dynamic Constraints |       Work      \n",
      "     Proc. InQueue |  Leaves   Expl. | BestBound       BestSol              Gap |   Cuts   InLp Confl. | LpIters     Time\n",
      "\n",
      "         0       0         0   0.00%   230792394.1177  230822288.63       0.01%       29     20      0     74656   287.4s\n",
      "         0       0         0   0.00%   230792401.2519  230822288.63       0.01%       29     25      0     74661   293.8s\n",
      "         0       0         0   0.00%   230792401.2519  230822288.63       0.01%       29     24      0     84798   327.1s\n",
      "\n",
      "Solving report\n",
      "  Status            Optimal\n",
      "  Primal bound      230822288.63\n",
      "  Dual bound        230821126.711\n",
      "  Gap               0.000503% (tolerance: 0.01%)\n",
      "  Solution status   feasible\n",
      "                    230822288.63 (objective)\n",
      "                    0 (bound viol.)\n",
      "                    0 (int. viol.)\n",
      "                    0 (row viol.)\n",
      "  Timing            331.25 (total)\n",
      "                    0.71 (presolve)\n",
      "                    0.00 (postsolve)\n",
      "  Nodes             1\n",
      "  LP iterations     85124 (total)\n",
      "                    125 (strong br.)\n",
      "                    35 (separation)\n",
      "                    22484 (heuristics)\n",
      "Writing the solution to /tmp/linopy-solve-zut_98uc.sol\n"
     ]
    },
    {
     "name": "stderr",
     "output_type": "stream",
     "text": [
      "INFO:pypsa.io:Exported network network.nc has buses, links, loads, stores, generators, carriers\n",
      "INFO:pypsa.io:Imported network network.nc has buses, carriers, generators, links, loads, stores\n",
      "/home/viktor/code/pypsa-vgr/generator/library/api/generators_core.py:51: RuntimeWarning:\n",
      "\n",
      "invalid value encountered in scalar divide\n",
      "\n",
      "/home/viktor/code/pypsa-vgr/generator/library/api/price_core.py:50: RuntimeWarning:\n",
      "\n",
      "invalid value encountered in scalar divide\n",
      "\n"
     ]
    },
    {
     "name": "stdout",
     "output_type": "stream",
     "text": [
      "123 out of 144: ('1487', 2030, 0.8, 0, True, True, 1)\n",
      "Check the get_geo(config) function\n",
      "Create and store parameters\n",
      "Check weather files\n",
      "Check renewables data\n",
      "Renewables files do not exist for geography 1487. Please see /input/renewables/generate-renewables.ipynb\n",
      "Create and store demand\n",
      "Create and store network\n",
      "Using config:\n",
      "\tself-sufficiency:0.8\n",
      "\th2:True\n",
      "\toffwind:True\n",
      "\tbiogas:0\n"
     ]
    },
    {
     "name": "stderr",
     "output_type": "stream",
     "text": [
      "INFO:pypsa.io:Exported network network.nc has buses, links, loads, stores, generators, carriers\n"
     ]
    },
    {
     "name": "stdout",
     "output_type": "stream",
     "text": [
      "Run optimization\n"
     ]
    },
    {
     "name": "stderr",
     "output_type": "stream",
     "text": [
      "INFO:pypsa.io:Imported network network.nc has buses, carriers, generators, links, loads, stores\n",
      "INFO:linopy.model: Solve problem using Highs solver\n",
      "INFO:linopy.io:Writing objective.\n",
      "Writing constraints.: 100%|\u001b[38;2;128;191;255m██████████\u001b[0m| 18/18 [00:00<00:00, 34.10it/s]\n",
      "Writing continuous variables.: 100%|\u001b[38;2;128;191;255m██████████\u001b[0m| 9/9 [00:00<00:00, 101.24it/s]\n",
      "Writing integer variables.: 100%|\u001b[38;2;128;191;255m██████████\u001b[0m| 2/2 [00:00<00:00, 920.01it/s]\n",
      "INFO:linopy.io: Writing time: 0.65s\n",
      "INFO:linopy.solvers:Log file at /tmp/highs.log\n"
     ]
    },
    {
     "name": "stdout",
     "output_type": "stream",
     "text": [
      "Running HiGHS 1.7.2 (git hash: 184e327): Copyright (c) 2024 HiGHS under MIT licence terms\n",
      "Coefficient ranges:\n",
      "  Matrix [3e-07, 1e+02]\n",
      "  Cost   [6e+01, 2e+06]\n",
      "  Bound  [0e+00, 0e+00]\n",
      "  RHS    [3e+01, 3e+04]\n",
      "Presolving model\n",
      "44708 rows, 38875 cols, 122480 nonzeros  0s\n",
      "38111 rows, 32278 cols, 113377 nonzeros  0s\n",
      "37371 rows, 31538 cols, 115861 nonzeros  0s\n",
      "\n",
      "Solving MIP model with:\n",
      "   37371 rows\n",
      "   31538 cols (0 binary, 5 integer, 0 implied int., 31533 continuous)\n",
      "   115861 nonzeros\n",
      "\n",
      "        Nodes      |    B&B Tree     |            Objective Bounds              |  Dynamic Constraints |       Work      \n",
      "     Proc. InQueue |  Leaves   Expl. | BestBound       BestSol              Gap |   Cuts   InLp Confl. | LpIters     Time\n",
      "\n",
      "         0       0         0   0.00%   -inf            inf                  inf        0      0      0         0     0.2s\n",
      " S       0       0         0   0.00%   -inf            277100214.6886     Large        0      0      0         0    50.7s\n",
      " R       0       0         0   0.00%   276949525.6552  276951909.4619     0.00%        0      0      0     60460    56.3s\n",
      "\n",
      "Solving report\n",
      "  Status            Optimal\n",
      "  Primal bound      276951909.462\n",
      "  Dual bound        276949525.655\n",
      "  Gap               0.000861% (tolerance: 0.01%)\n",
      "  Solution status   feasible\n",
      "                    276951909.462 (objective)\n",
      "                    0 (bound viol.)\n",
      "                    3.63628703868e-19 (int. viol.)\n",
      "                    0 (row viol.)\n",
      "  Timing            56.34 (total)\n",
      "                    0.21 (presolve)\n",
      "                    0.00 (postsolve)\n",
      "  Nodes             1\n",
      "  LP iterations     60460 (total)\n",
      "                    0 (strong br.)\n",
      "                    0 (separation)\n",
      "                    0 (heuristics)\n",
      "Writing the solution to /tmp/linopy-solve-tpl4le6p.sol\n"
     ]
    },
    {
     "name": "stderr",
     "output_type": "stream",
     "text": [
      "INFO:linopy.constants: Optimization successful: \n",
      "Status: ok\n",
      "Termination condition: optimal\n",
      "Solution: 43818 primals, 96380 duals\n",
      "Objective: 2.77e+08\n",
      "Solver model: available\n",
      "Solver message: optimal\n",
      "\n",
      "INFO:pypsa.optimization.optimize:The shadow-prices of the constraints Generator-ext-p-lower, Generator-ext-p-upper, Link-ext-p-lower, Link-ext-p-upper, Store-ext-e-lower, Store-ext-e-upper, Store-energy_balance, self_sufficiency_constraint were not assigned to the network.\n",
      "INFO:pypsa.io:Exported network network.nc has buses, links, loads, stores, generators, carriers\n",
      "INFO:pypsa.io:Imported network network.nc has buses, carriers, generators, links, loads, stores\n"
     ]
    },
    {
     "name": "stdout",
     "output_type": "stream",
     "text": [
      "124 out of 144: ('1487', 2030, 0.8, 0.2, True, True, 0)\n",
      "Check the get_geo(config) function\n",
      "Create and store parameters\n",
      "Check weather files\n",
      "Check renewables data\n",
      "Renewables files do not exist for geography 1487. Please see /input/renewables/generate-renewables.ipynb\n",
      "Create and store demand\n",
      "Create and store network\n",
      "Using config:\n",
      "\tself-sufficiency:0.8\n",
      "\th2:True\n",
      "\toffwind:True\n",
      "\tbiogas:0.5\n"
     ]
    },
    {
     "name": "stderr",
     "output_type": "stream",
     "text": [
      "INFO:pypsa.io:Exported network network.nc has buses, links, loads, stores, generators, carriers\n"
     ]
    },
    {
     "name": "stdout",
     "output_type": "stream",
     "text": [
      "Run optimization\n"
     ]
    },
    {
     "name": "stderr",
     "output_type": "stream",
     "text": [
      "INFO:pypsa.io:Imported network network.nc has buses, carriers, generators, links, loads, stores\n",
      "INFO:linopy.model: Solve problem using Highs solver\n",
      "INFO:linopy.io:Writing objective.\n",
      "Writing constraints.: 100%|\u001b[38;2;128;191;255m██████████\u001b[0m| 18/18 [00:00<00:00, 30.58it/s]\n",
      "Writing continuous variables.: 100%|\u001b[38;2;128;191;255m██████████\u001b[0m| 9/9 [00:00<00:00, 85.50it/s]\n",
      "Writing integer variables.: 100%|\u001b[38;2;128;191;255m██████████\u001b[0m| 2/2 [00:00<00:00, 495.58it/s]\n",
      "INFO:linopy.io: Writing time: 0.74s\n",
      "INFO:linopy.solvers:Log file at /tmp/highs.log\n"
     ]
    },
    {
     "name": "stdout",
     "output_type": "stream",
     "text": [
      "Running HiGHS 1.7.2 (git hash: 184e327): Copyright (c) 2024 HiGHS under MIT licence terms\n",
      "Coefficient ranges:\n",
      "  Matrix [3e-07, 1e+02]\n",
      "  Cost   [6e+01, 2e+06]\n",
      "  Bound  [0e+00, 0e+00]\n",
      "  RHS    [3e+01, 3e+04]\n",
      "Presolving model\n",
      "47628 rows, 44715 cols, 131240 nonzeros  0s\n",
      "38121 rows, 35208 cols, 119194 nonzeros  0s\n",
      "37382 rows, 34469 cols, 121594 nonzeros  0s\n",
      "\n",
      "Solving MIP model with:\n",
      "   37382 rows\n",
      "   34469 cols (0 binary, 5 integer, 0 implied int., 34464 continuous)\n",
      "   121594 nonzeros\n",
      "\n",
      "        Nodes      |    B&B Tree     |            Objective Bounds              |  Dynamic Constraints |       Work      \n",
      "     Proc. InQueue |  Leaves   Expl. | BestBound       BestSol              Gap |   Cuts   InLp Confl. | LpIters     Time\n",
      "\n",
      "         0       0         0   0.00%   -inf            inf                  inf        0      0      0         0     0.4s\n",
      " S       0       0         0   0.00%   -inf            277100214.6886     Large        0      0      0         0    59.5s\n",
      " R       0       0         0   0.00%   276949525.6552  276951909.4619     0.00%        0      0      0     65128    63.9s\n",
      "\n",
      "Solving report\n",
      "  Status            Optimal\n",
      "  Primal bound      276951909.462\n",
      "  Dual bound        276949525.655\n",
      "  Gap               0.000861% (tolerance: 0.01%)\n",
      "  Solution status   feasible\n",
      "                    276951909.462 (objective)\n",
      "                    0 (bound viol.)\n",
      "                    0 (int. viol.)\n",
      "                    0 (row viol.)\n",
      "  Timing            63.93 (total)\n",
      "                    0.33 (presolve)\n",
      "                    0.00 (postsolve)\n",
      "  Nodes             1\n",
      "  LP iterations     65128 (total)\n",
      "                    0 (strong br.)\n",
      "                    0 (separation)\n",
      "                    0 (heuristics)\n",
      "Writing the solution to /tmp/linopy-solve-nxgdd6le.sol\n"
     ]
    },
    {
     "name": "stderr",
     "output_type": "stream",
     "text": [
      "INFO:linopy.constants: Optimization successful: \n",
      "Status: ok\n",
      "Termination condition: optimal\n",
      "Solution: 46739 primals, 102222 duals\n",
      "Objective: 2.77e+08\n",
      "Solver model: available\n",
      "Solver message: optimal\n",
      "\n",
      "INFO:pypsa.optimization.optimize:The shadow-prices of the constraints Generator-ext-p-lower, Generator-ext-p-upper, Link-ext-p-lower, Link-ext-p-upper, Store-ext-e-lower, Store-ext-e-upper, Store-energy_balance, self_sufficiency_constraint were not assigned to the network.\n",
      "INFO:pypsa.io:Exported network network.nc has buses, links, loads, stores, generators, carriers\n",
      "INFO:pypsa.io:Imported network network.nc has buses, carriers, generators, links, loads, stores\n",
      "/home/viktor/code/pypsa-vgr/generator/library/api/generators_core.py:51: RuntimeWarning:\n",
      "\n",
      "invalid value encountered in scalar divide\n",
      "\n",
      "/home/viktor/code/pypsa-vgr/generator/library/api/price_core.py:50: RuntimeWarning:\n",
      "\n",
      "invalid value encountered in scalar divide\n",
      "\n"
     ]
    },
    {
     "name": "stdout",
     "output_type": "stream",
     "text": [
      "125 out of 144: ('1487', 2030, 0.8, 0.2, True, True, 0.5)\n",
      "Check the get_geo(config) function\n",
      "Create and store parameters\n",
      "Check weather files\n",
      "Check renewables data\n",
      "Renewables files do not exist for geography 1487. Please see /input/renewables/generate-renewables.ipynb\n",
      "Create and store demand\n",
      "Create and store network\n",
      "Using config:\n",
      "\tself-sufficiency:0.8\n",
      "\th2:True\n",
      "\toffwind:True\n",
      "\tbiogas:1\n"
     ]
    },
    {
     "name": "stderr",
     "output_type": "stream",
     "text": [
      "INFO:pypsa.io:Exported network network.nc has buses, links, loads, stores, generators, carriers\n"
     ]
    },
    {
     "name": "stdout",
     "output_type": "stream",
     "text": [
      "Run optimization\n"
     ]
    },
    {
     "name": "stderr",
     "output_type": "stream",
     "text": [
      "INFO:pypsa.io:Imported network network.nc has buses, carriers, generators, links, loads, stores\n",
      "INFO:linopy.model: Solve problem using Highs solver\n",
      "INFO:linopy.io:Writing objective.\n",
      "Writing constraints.: 100%|\u001b[38;2;128;191;255m██████████\u001b[0m| 18/18 [00:00<00:00, 34.07it/s]\n",
      "Writing continuous variables.: 100%|\u001b[38;2;128;191;255m██████████\u001b[0m| 9/9 [00:00<00:00, 92.80it/s]\n",
      "Writing integer variables.: 100%|\u001b[38;2;128;191;255m██████████\u001b[0m| 2/2 [00:00<00:00, 525.08it/s]\n",
      "INFO:linopy.io: Writing time: 0.67s\n",
      "INFO:linopy.solvers:Log file at /tmp/highs.log\n"
     ]
    },
    {
     "name": "stdout",
     "output_type": "stream",
     "text": [
      "Running HiGHS 1.7.2 (git hash: 184e327): Copyright (c) 2024 HiGHS under MIT licence terms\n"
     ]
    },
    {
     "name": "stderr",
     "output_type": "stream",
     "text": [
      "INFO:linopy.constants: Optimization successful: \n",
      "Status: ok\n",
      "Termination condition: optimal\n",
      "Solution: 46739 primals, 102222 duals\n",
      "Objective: 2.77e+08\n",
      "Solver model: available\n",
      "Solver message: optimal\n",
      "\n",
      "INFO:pypsa.optimization.optimize:The shadow-prices of the constraints Generator-ext-p-lower, Generator-ext-p-upper, Link-ext-p-lower, Link-ext-p-upper, Store-ext-e-lower, Store-ext-e-upper, Store-energy_balance, self_sufficiency_constraint were not assigned to the network.\n"
     ]
    },
    {
     "name": "stdout",
     "output_type": "stream",
     "text": [
      "Coefficient ranges:\n",
      "  Matrix [3e-07, 1e+02]\n",
      "  Cost   [6e+01, 2e+06]\n",
      "  Bound  [0e+00, 0e+00]\n",
      "  RHS    [3e+01, 3e+04]\n",
      "Presolving model\n",
      "47628 rows, 44715 cols, 131240 nonzeros  0s\n",
      "38121 rows, 35208 cols, 119194 nonzeros  0s\n",
      "37382 rows, 34469 cols, 121594 nonzeros  0s\n",
      "\n",
      "Solving MIP model with:\n",
      "   37382 rows\n",
      "   34469 cols (0 binary, 5 integer, 0 implied int., 34464 continuous)\n",
      "   121594 nonzeros\n",
      "\n",
      "        Nodes      |    B&B Tree     |            Objective Bounds              |  Dynamic Constraints |       Work      \n",
      "     Proc. InQueue |  Leaves   Expl. | BestBound       BestSol              Gap |   Cuts   InLp Confl. | LpIters     Time\n",
      "\n",
      "         0       0         0   0.00%   -inf            inf                  inf        0      0      0         0     0.3s\n",
      " S       0       0         0   0.00%   -inf            277100214.6886     Large        0      0      0         0    55.8s\n",
      " R       0       0         0   0.00%   276949525.6552  276951909.4619     0.00%        0      0      0     61443    60.3s\n",
      "\n",
      "Solving report\n",
      "  Status            Optimal\n",
      "  Primal bound      276951909.462\n",
      "  Dual bound        276949525.655\n",
      "  Gap               0.000861% (tolerance: 0.01%)\n",
      "  Solution status   feasible\n",
      "                    276951909.462 (objective)\n",
      "                    0 (bound viol.)\n",
      "                    0 (int. viol.)\n",
      "                    0 (row viol.)\n",
      "  Timing            60.35 (total)\n",
      "                    0.26 (presolve)\n",
      "                    0.00 (postsolve)\n",
      "  Nodes             1\n",
      "  LP iterations     61443 (total)\n",
      "                    0 (strong br.)\n",
      "                    0 (separation)\n",
      "                    0 (heuristics)\n",
      "Writing the solution to /tmp/linopy-solve-7ldss4zz.sol\n"
     ]
    },
    {
     "name": "stderr",
     "output_type": "stream",
     "text": [
      "INFO:pypsa.io:Exported network network.nc has buses, links, loads, stores, generators, carriers\n",
      "INFO:pypsa.io:Imported network network.nc has buses, carriers, generators, links, loads, stores\n",
      "/home/viktor/code/pypsa-vgr/generator/library/api/generators_core.py:51: RuntimeWarning:\n",
      "\n",
      "invalid value encountered in scalar divide\n",
      "\n"
     ]
    },
    {
     "name": "stdout",
     "output_type": "stream",
     "text": [
      "126 out of 144: ('1487', 2030, 0.8, 0.2, True, True, 1)\n",
      "Check the get_geo(config) function\n",
      "Create and store parameters\n",
      "Check weather files\n",
      "Check renewables data\n",
      "Renewables files do not exist for geography 1487. Please see /input/renewables/generate-renewables.ipynb\n",
      "Create and store demand\n",
      "Create and store network\n",
      "Using config:\n",
      "\tself-sufficiency:0.925\n",
      "\th2:True\n",
      "\toffwind:True\n",
      "\tbiogas:0\n"
     ]
    },
    {
     "name": "stderr",
     "output_type": "stream",
     "text": [
      "INFO:pypsa.io:Exported network network.nc has buses, links, loads, stores, generators, carriers\n"
     ]
    },
    {
     "name": "stdout",
     "output_type": "stream",
     "text": [
      "Run optimization\n"
     ]
    },
    {
     "name": "stderr",
     "output_type": "stream",
     "text": [
      "INFO:pypsa.io:Imported network network.nc has buses, carriers, generators, links, loads, stores\n",
      "INFO:linopy.model: Solve problem using Highs solver\n",
      "INFO:linopy.io:Writing objective.\n",
      "Writing constraints.: 100%|\u001b[38;2;128;191;255m██████████\u001b[0m| 18/18 [00:00<00:00, 39.95it/s]\n",
      "Writing continuous variables.: 100%|\u001b[38;2;128;191;255m██████████\u001b[0m| 9/9 [00:00<00:00, 112.18it/s]\n",
      "Writing integer variables.: 100%|\u001b[38;2;128;191;255m██████████\u001b[0m| 2/2 [00:00<00:00, 504.88it/s]\n",
      "INFO:linopy.io: Writing time: 0.57s\n",
      "INFO:linopy.solvers:Log file at /tmp/highs.log\n"
     ]
    },
    {
     "name": "stdout",
     "output_type": "stream",
     "text": [
      "Running HiGHS 1.7.2 (git hash: 184e327): Copyright (c) 2024 HiGHS under MIT licence terms\n",
      "Coefficient ranges:\n",
      "  Matrix [3e-07, 1e+02]\n",
      "  Cost   [6e+01, 2e+06]\n",
      "  Bound  [0e+00, 0e+00]\n",
      "  RHS    [2e+01, 9e+03]\n",
      "Presolving model\n",
      "44708 rows, 38875 cols, 122480 nonzeros  0s\n",
      "38111 rows, 32278 cols, 113377 nonzeros  0s\n",
      "37371 rows, 31538 cols, 115861 nonzeros  0s\n",
      "\n",
      "Solving MIP model with:\n",
      "   37371 rows\n",
      "   31538 cols (0 binary, 5 integer, 0 implied int., 31533 continuous)\n",
      "   115861 nonzeros\n",
      "\n",
      "        Nodes      |    B&B Tree     |            Objective Bounds              |  Dynamic Constraints |       Work      \n",
      "     Proc. InQueue |  Leaves   Expl. | BestBound       BestSol              Gap |   Cuts   InLp Confl. | LpIters     Time\n",
      "\n",
      "         0       0         0   0.00%   -inf            inf                  inf        0      0      0         0     0.2s\n",
      " S       0       0         0   0.00%   -inf            249867861.0345     Large        0      0      0         0    29.0s\n",
      " R       0       0         0   0.00%   247057833.4042  247531697.758      0.19%        0      0      0     49217    31.5s\n",
      "\n",
      "20.0% inactive integer columns, restarting\n",
      "Model after restart has 32642 rows, 26808 cols (0 bin., 4 int., 0 impl., 26804 cont.), and 106209 nonzeros\n",
      "\n",
      "         0       0         0   0.00%   247057833.4042  247531697.758      0.19%        0      0      0     49217    31.6s\n",
      " R       0       0         0   0.00%   247057833.4042  247118703.7853     0.02%        0      0      0     61807    43.5s\n",
      "\n",
      "25.0% inactive integer columns, restarting\n",
      "Model after restart has 27260 rows, 21467 cols (0 bin., 3 int., 0 impl., 21464 cont.), and 95093 nonzeros\n",
      "\n",
      "         0       0         0   0.00%   247057833.4042  247118703.7853     0.02%        0      0      0     61807    43.7s\n",
      "\n",
      "33.3% inactive integer columns, restarting\n",
      "Model after restart has 21049 rows, 18132 cols (0 bin., 2 int., 0 impl., 18130 cont.), and 71373 nonzeros\n",
      "\n",
      "         0       0         0   0.00%   247057833.4042  247118703.7853     0.02%        0      0      0     69038    48.9s\n",
      " R       0       0         0   0.00%   247057833.4042  247118703.7853     0.02%        0      0      0     69038    50.4s\n",
      "         0       0         0   0.00%   247058577.7385  247118703.7853     0.02%       26      5      0     69043    56.7s\n",
      "         0       0         0   0.00%   247059046.2501  247118703.7853     0.02%       26      8      0     69046    62.2s\n",
      "         0       0         0   0.00%   247059090.2516  247118703.7853     0.02%       26     13      0     69051    68.3s\n",
      " H       0       0         0   0.00%   247059107.7287  247088998.2761     0.01%       26     15      0     69053    73.7s\n",
      " H       0       0         0   0.00%   247059107.7287  247086912.3427     0.01%       26     15      0     69053    77.8s\n",
      "         0       0         0   0.00%   247059107.7287  247086912.3427     0.01%       26     15      0     70529    83.8s\n",
      "         1       0         1 100.00%   247083856.6316  247086912.3427     0.00%       26     15      0     83659   106.1s\n",
      "\n",
      "Solving report\n",
      "  Status            Optimal\n",
      "  Primal bound      247086912.343\n",
      "  Dual bound        247083856.632\n",
      "  Gap               0.00124% (tolerance: 0.01%)\n",
      "  Solution status   feasible\n",
      "                    247086912.343 (objective)\n",
      "                    0 (bound viol.)\n",
      "                    0 (int. viol.)\n",
      "                    0 (row viol.)\n",
      "  Timing            106.08 (total)\n",
      "                    0.52 (presolve)\n",
      "                    0.00 (postsolve)\n",
      "  Nodes             1\n",
      "  LP iterations     83659 (total)\n",
      "                    51 (strong br.)\n",
      "                    15 (separation)\n",
      "                    14433 (heuristics)\n",
      "Writing the solution to /tmp/linopy-solve-0atlz4db.sol\n"
     ]
    },
    {
     "name": "stderr",
     "output_type": "stream",
     "text": [
      "INFO:linopy.constants: Optimization successful: \n",
      "Status: ok\n",
      "Termination condition: optimal\n",
      "Solution: 43818 primals, 96380 duals\n",
      "Objective: 2.47e+08\n",
      "Solver model: available\n",
      "Solver message: optimal\n",
      "\n",
      "INFO:pypsa.optimization.optimize:The shadow-prices of the constraints Generator-ext-p-lower, Generator-ext-p-upper, Link-ext-p-lower, Link-ext-p-upper, Store-ext-e-lower, Store-ext-e-upper, Store-energy_balance, self_sufficiency_constraint were not assigned to the network.\n",
      "INFO:pypsa.io:Exported network network.nc has buses, links, loads, stores, generators, carriers\n",
      "INFO:pypsa.io:Imported network network.nc has buses, carriers, generators, links, loads, stores\n"
     ]
    },
    {
     "name": "stdout",
     "output_type": "stream",
     "text": [
      "127 out of 144: ('1487', 2030, 0.925, -0.2, True, True, 0)\n",
      "Check the get_geo(config) function\n",
      "Create and store parameters\n",
      "Check weather files\n",
      "Check renewables data\n",
      "Renewables files do not exist for geography 1487. Please see /input/renewables/generate-renewables.ipynb\n",
      "Create and store demand\n",
      "Create and store network\n",
      "Using config:\n",
      "\tself-sufficiency:0.925\n",
      "\th2:True\n",
      "\toffwind:True\n",
      "\tbiogas:0.5\n"
     ]
    },
    {
     "name": "stderr",
     "output_type": "stream",
     "text": [
      "INFO:pypsa.io:Exported network network.nc has buses, links, loads, stores, generators, carriers\n"
     ]
    },
    {
     "name": "stdout",
     "output_type": "stream",
     "text": [
      "Run optimization\n"
     ]
    },
    {
     "name": "stderr",
     "output_type": "stream",
     "text": [
      "INFO:pypsa.io:Imported network network.nc has buses, carriers, generators, links, loads, stores\n",
      "INFO:linopy.model: Solve problem using Highs solver\n",
      "INFO:linopy.io:Writing objective.\n",
      "Writing constraints.: 100%|\u001b[38;2;128;191;255m██████████\u001b[0m| 18/18 [00:00<00:00, 35.52it/s]\n",
      "Writing continuous variables.: 100%|\u001b[38;2;128;191;255m██████████\u001b[0m| 9/9 [00:00<00:00, 101.03it/s]\n",
      "Writing integer variables.: 100%|\u001b[38;2;128;191;255m██████████\u001b[0m| 2/2 [00:00<00:00, 645.53it/s]\n",
      "INFO:linopy.io: Writing time: 0.64s\n",
      "INFO:linopy.solvers:Log file at /tmp/highs.log\n"
     ]
    },
    {
     "name": "stdout",
     "output_type": "stream",
     "text": [
      "Running HiGHS 1.7.2 (git hash: 184e327): Copyright (c) 2024 HiGHS under MIT licence terms\n",
      "Coefficient ranges:\n",
      "  Matrix [3e-07, 1e+02]\n",
      "  Cost   [6e+01, 2e+06]\n",
      "  Bound  [0e+00, 0e+00]\n",
      "  RHS    [2e+01, 9e+03]\n"
     ]
    },
    {
     "name": "stderr",
     "output_type": "stream",
     "text": [
      "INFO:linopy.constants: Optimization successful: \n",
      "Status: ok\n",
      "Termination condition: optimal\n",
      "Solution: 46739 primals, 102222 duals\n",
      "Objective: 2.26e+08\n",
      "Solver model: available\n",
      "Solver message: optimal\n",
      "\n",
      "INFO:pypsa.optimization.optimize:The shadow-prices of the constraints Generator-ext-p-lower, Generator-ext-p-upper, Link-ext-p-lower, Link-ext-p-upper, Store-ext-e-lower, Store-ext-e-upper, Store-energy_balance, self_sufficiency_constraint were not assigned to the network.\n"
     ]
    },
    {
     "name": "stdout",
     "output_type": "stream",
     "text": [
      "Presolving model\n",
      "47628 rows, 44715 cols, 131240 nonzeros  0s\n",
      "38121 rows, 35208 cols, 119194 nonzeros  0s\n",
      "37382 rows, 34469 cols, 121594 nonzeros  0s\n",
      "\n",
      "Solving MIP model with:\n",
      "   37382 rows\n",
      "   34469 cols (0 binary, 5 integer, 0 implied int., 34464 continuous)\n",
      "   121594 nonzeros\n",
      "\n",
      "        Nodes      |    B&B Tree     |            Objective Bounds              |  Dynamic Constraints |       Work      \n",
      "     Proc. InQueue |  Leaves   Expl. | BestBound       BestSol              Gap |   Cuts   InLp Confl. | LpIters     Time\n",
      "\n",
      "         0       0         0   0.00%   -inf            inf                  inf        0      0      0         0     0.3s\n",
      " S       0       0         0   0.00%   -inf            232080446.8977     Large        0      0      0         0    52.3s\n",
      " R       0       0         0   0.00%   226014584.9684  228283642.5541     0.99%        0      0      0     62651    57.0s\n",
      "\n",
      "20.0% inactive integer columns, restarting\n",
      "Model after restart has 32659 rows, 29745 cols (0 bin., 4 int., 0 impl., 29741 cont.), and 111807 nonzeros\n",
      "\n",
      "         0       0         0   0.00%   226014584.9684  228283642.5541     0.99%        0      0      0     62651    57.2s\n",
      " R       0       0         0   0.00%   226014584.9684  226053886.9583     0.02%        0      0      0     62655    63.3s\n",
      "\n",
      "25.0% inactive integer columns, restarting\n",
      "Model after restart has 27362 rows, 24447 cols (0 bin., 3 int., 0 impl., 24444 cont.), and 101610 nonzeros\n",
      "\n",
      "         0       0         0   0.00%   226014584.9684  226053886.9583     0.02%        0      0      0     62655    63.5s\n",
      " R       0       0         0   0.00%   226014584.9684  226053886.9583     0.02%        0      0      0     63289    68.8s\n",
      "         0       0         0   0.00%   226014691.1767  226053886.9583     0.02%       29      2      0     63291    74.0s\n",
      "         0       0         0   0.00%   226014876.3426  226053886.9583     0.02%       29      4      0     63293    79.1s\n",
      "         0       0         0   0.00%   226014984.9468  226053886.9583     0.02%       36      6      0     63296    86.0s\n",
      "         0       0         0   0.00%   226015167.3418  226053886.9583     0.02%       36      9      0     63299    93.4s\n",
      "         0       0         0   0.00%   226015233.1763  226053886.9583     0.02%       36     13      0     63303   100.8s\n",
      "         0       0         0   0.00%   226015235.2736  226053886.9583     0.02%       36     16      0     80340   126.2s\n",
      "         1       0         0 100.00%   226050939.7634  226053886.9583     0.00%       36     16      0     80638   133.1s\n",
      "\n",
      "Solving report\n",
      "  Status            Optimal\n",
      "  Primal bound      226053886.958\n",
      "  Dual bound        226050939.763\n",
      "  Gap               0.0013% (tolerance: 0.01%)\n",
      "  Solution status   feasible\n",
      "                    226053886.958 (objective)\n",
      "                    0 (bound viol.)\n",
      "                    0 (int. viol.)\n",
      "                    0 (row viol.)\n",
      "  Timing            133.09 (total)\n",
      "                    0.53 (presolve)\n",
      "                    0.00 (postsolve)\n",
      "  Nodes             1\n",
      "  LP iterations     80638 (total)\n",
      "                    205 (strong br.)\n",
      "                    17 (separation)\n",
      "                    17034 (heuristics)\n",
      "Writing the solution to /tmp/linopy-solve-ht6rp4jz.sol\n"
     ]
    },
    {
     "name": "stderr",
     "output_type": "stream",
     "text": [
      "INFO:pypsa.io:Exported network network.nc has buses, links, loads, stores, generators, carriers\n",
      "INFO:pypsa.io:Imported network network.nc has buses, carriers, generators, links, loads, stores\n"
     ]
    },
    {
     "name": "stdout",
     "output_type": "stream",
     "text": [
      "128 out of 144: ('1487', 2030, 0.925, -0.2, True, True, 0.5)\n",
      "Check the get_geo(config) function\n",
      "Create and store parameters\n",
      "Check weather files\n",
      "Check renewables data\n",
      "Renewables files do not exist for geography 1487. Please see /input/renewables/generate-renewables.ipynb\n",
      "Create and store demand\n",
      "Create and store network\n",
      "Using config:\n",
      "\tself-sufficiency:0.925\n",
      "\th2:True\n",
      "\toffwind:True\n",
      "\tbiogas:1\n"
     ]
    },
    {
     "name": "stderr",
     "output_type": "stream",
     "text": [
      "INFO:pypsa.io:Exported network network.nc has buses, links, loads, stores, generators, carriers\n",
      "INFO:pypsa.io:Imported network network.nc has buses, carriers, generators, links, loads, stores\n"
     ]
    },
    {
     "name": "stdout",
     "output_type": "stream",
     "text": [
      "Run optimization\n"
     ]
    },
    {
     "name": "stderr",
     "output_type": "stream",
     "text": [
      "INFO:linopy.model: Solve problem using Highs solver\n",
      "INFO:linopy.io:Writing objective.\n",
      "Writing constraints.: 100%|\u001b[38;2;128;191;255m██████████\u001b[0m| 18/18 [00:00<00:00, 38.02it/s]\n",
      "Writing continuous variables.: 100%|\u001b[38;2;128;191;255m██████████\u001b[0m| 9/9 [00:00<00:00, 100.63it/s]\n",
      "Writing integer variables.: 100%|\u001b[38;2;128;191;255m██████████\u001b[0m| 2/2 [00:00<00:00, 798.15it/s]\n",
      "INFO:linopy.io: Writing time: 0.6s\n",
      "INFO:linopy.solvers:Log file at /tmp/highs.log\n"
     ]
    },
    {
     "name": "stdout",
     "output_type": "stream",
     "text": [
      "Running HiGHS 1.7.2 (git hash: 184e327): Copyright (c) 2024 HiGHS under MIT licence terms\n",
      "Coefficient ranges:\n",
      "  Matrix [3e-07, 1e+02]\n",
      "  Cost   [6e+01, 2e+06]\n",
      "  Bound  [0e+00, 0e+00]\n",
      "  RHS    [2e+01, 9e+03]\n",
      "Presolving model\n",
      "47628 rows, 44715 cols, 131240 nonzeros  0s\n",
      "38121 rows, 35208 cols, 119194 nonzeros  0s\n",
      "37382 rows, 34469 cols, 121594 nonzeros  0s\n",
      "\n",
      "Solving MIP model with:\n",
      "   37382 rows\n",
      "   34469 cols (0 binary, 5 integer, 0 implied int., 34464 continuous)\n",
      "   121594 nonzeros\n",
      "\n",
      "        Nodes      |    B&B Tree     |            Objective Bounds              |  Dynamic Constraints |       Work      \n",
      "     Proc. InQueue |  Leaves   Expl. | BestBound       BestSol              Gap |   Cuts   InLp Confl. | LpIters     Time\n",
      "\n",
      "         0       0         0   0.00%   -inf            inf                  inf        0      0      0         0     0.2s\n",
      " S       0       0         0   0.00%   -inf            232080446.8977     Large        0      0      0         0    44.5s\n",
      " R       0       0         0   0.00%   226014584.9684  228283642.5541     0.99%        0      0      0     66584    49.1s\n",
      "\n",
      "20.0% inactive integer columns, restarting\n",
      "Model after restart has 32659 rows, 29745 cols (0 bin., 4 int., 0 impl., 29741 cont.), and 111807 nonzeros\n",
      "\n",
      "         0       0         0   0.00%   226014584.9684  228283642.5541     0.99%        0      0      0     66584    49.4s\n",
      " R       0       0         0   0.00%   226014584.9684  226053886.9583     0.02%        0      0      0     66591    54.9s\n",
      "\n",
      "25.0% inactive integer columns, restarting\n",
      "Model after restart has 27362 rows, 24447 cols (0 bin., 3 int., 0 impl., 24444 cont.), and 101610 nonzeros\n",
      "\n",
      "         0       0         0   0.00%   226014584.9684  226053886.9583     0.02%        0      0      0     66591    56.9s\n",
      "         0       0         0   0.00%   226014584.9684  226053886.9583     0.02%        0      0      0     67115    62.0s\n",
      "         0       0         0   0.00%   226014785.0332  226053886.9583     0.02%       29      3      0     67118    69.2s\n",
      "         0       0         0   0.00%   226014983.0732  226053886.9583     0.02%       29      5      0     67121    76.2s\n",
      "         0       0         0   0.00%   226015061.9584  226053886.9583     0.02%       36      8      0     67124    83.7s\n",
      "         0       0         0   0.00%   226015168.9205  226053886.9583     0.02%       36     11      0     67127    88.7s\n",
      "         0       0         0   0.00%   226015233.1763  226053886.9583     0.02%       36     13      0     67129    93.8s\n",
      " L       0       0         0   0.00%   226015235.2736  226053886.9583     0.02%       36     17      0     67132   118.9s\n",
      "         1       0         0 100.00%   226050939.7634  226053886.9583     0.00%       36     16      0     83908   126.1s\n",
      "\n",
      "Solving report\n",
      "  Status            Optimal\n",
      "  Primal bound      226053886.958\n",
      "  Dual bound        226050939.763\n",
      "  Gap               0.0013% (tolerance: 0.01%)\n",
      "  Solution status   feasible\n",
      "                    226053886.958 (objective)\n",
      "                    0 (bound viol.)\n",
      "                    0 (int. viol.)\n",
      "                    0 (row viol.)\n",
      "  Timing            126.06 (total)\n",
      "                    0.54 (presolve)\n",
      "                    0.00 (postsolve)\n",
      "  Nodes           "
     ]
    },
    {
     "name": "stderr",
     "output_type": "stream",
     "text": [
      "INFO:linopy.constants: Optimization successful: \n",
      "Status: ok\n",
      "Termination condition: optimal\n",
      "Solution: 46739 primals, 102222 duals\n",
      "Objective: 2.26e+08\n",
      "Solver model: available\n",
      "Solver message: optimal\n",
      "\n",
      "INFO:pypsa.optimization.optimize:The shadow-prices of the constraints Generator-ext-p-lower, Generator-ext-p-upper, Link-ext-p-lower, Link-ext-p-upper, Store-ext-e-lower, Store-ext-e-upper, Store-energy_balance, self_sufficiency_constraint were not assigned to the network.\n"
     ]
    },
    {
     "name": "stdout",
     "output_type": "stream",
     "text": [
      "  1\n",
      "  LP iterations     83908 (total)\n",
      "                    80 (strong br.)\n",
      "                    17 (separation)\n",
      "                    16602 (heuristics)\n",
      "Writing the solution to /tmp/linopy-solve-fhxzpjgw.sol\n"
     ]
    },
    {
     "name": "stderr",
     "output_type": "stream",
     "text": [
      "INFO:pypsa.io:Exported network network.nc has buses, links, loads, stores, generators, carriers\n",
      "INFO:pypsa.io:Imported network network.nc has buses, carriers, generators, links, loads, stores\n"
     ]
    },
    {
     "name": "stdout",
     "output_type": "stream",
     "text": [
      "129 out of 144: ('1487', 2030, 0.925, -0.2, True, True, 1)\n",
      "Check the get_geo(config) function\n",
      "Create and store parameters\n",
      "Check weather files\n",
      "Check renewables data\n",
      "Renewables files do not exist for geography 1487. Please see /input/renewables/generate-renewables.ipynb\n",
      "Create and store demand\n",
      "Create and store network\n",
      "Using config:\n",
      "\tself-sufficiency:0.925\n",
      "\th2:True\n",
      "\toffwind:True\n",
      "\tbiogas:0\n"
     ]
    },
    {
     "name": "stderr",
     "output_type": "stream",
     "text": [
      "INFO:pypsa.io:Exported network network.nc has buses, links, loads, stores, generators, carriers\n"
     ]
    },
    {
     "name": "stdout",
     "output_type": "stream",
     "text": [
      "Run optimization\n"
     ]
    },
    {
     "name": "stderr",
     "output_type": "stream",
     "text": [
      "INFO:pypsa.io:Imported network network.nc has buses, carriers, generators, links, loads, stores\n",
      "INFO:linopy.model: Solve problem using Highs solver\n",
      "INFO:linopy.io:Writing objective.\n",
      "Writing constraints.: 100%|\u001b[38;2;128;191;255m██████████\u001b[0m| 18/18 [00:00<00:00, 39.72it/s]\n",
      "Writing continuous variables.: 100%|\u001b[38;2;128;191;255m██████████\u001b[0m| 9/9 [00:00<00:00, 97.16it/s]\n",
      "Writing integer variables.: 100%|\u001b[38;2;128;191;255m██████████\u001b[0m| 2/2 [00:00<00:00, 401.14it/s]\n",
      "INFO:linopy.io: Writing time: 0.59s\n",
      "INFO:linopy.solvers:Log file at /tmp/highs.log\n"
     ]
    },
    {
     "name": "stdout",
     "output_type": "stream",
     "text": [
      "Running HiGHS 1.7.2 (git hash: 184e327): Copyright (c) 2024 HiGHS under MIT licence terms\n",
      "Coefficient ranges:\n",
      "  Matrix [3e-07, 1e+02]\n",
      "  Cost   [6e+01, 2e+06]\n",
      "  Bound  [0e+00, 0e+00]\n",
      "  RHS    [3e+01, 1e+04]\n",
      "Presolving model\n",
      "44708 rows, 38875 cols, 122480 nonzeros  0s\n",
      "38111 rows, 32278 cols, 113377 nonzeros  0s\n",
      "37371 rows, 31538 cols, 115861 nonzeros  0s\n",
      "\n",
      "Solving MIP model with:\n",
      "   37371 rows\n",
      "   31538 cols (0 binary, 5 integer, 0 implied int., 31533 continuous)\n",
      "   115861 nonzeros\n",
      "\n",
      "        Nodes      |    B&B Tree     |            Objective Bounds              |  Dynamic Constraints |       Work      \n",
      "     Proc. InQueue |  Leaves   Expl. | BestBound       BestSol              Gap |   Cuts   InLp Confl. | LpIters     Time\n",
      "\n",
      "         0       0         0   0.00%   -inf            inf                  inf        0      0      0         0     0.2s\n",
      " S       0       0         0   0.00%   -inf            312265742.69       Large        0      0      0         0    30.8s\n",
      " R       0       0         0   0.00%   308822291.7552  309406130.8708     0.19%        0      0      0     53041    33.4s\n",
      "\n",
      "20.0% inactive integer columns, restarting\n",
      "Model after restart has 32642 rows, 26808 cols (1 bin., 3 int., 0 impl., 26804 cont.), and 106209 nonzeros\n",
      "\n",
      "         0       0         0   0.00%   308822291.7552  309406130.8708     0.19%        0      0      0     53041    33.6s\n",
      " R       0       0         0   0.00%   308822291.7552  308850239.8253     0.01%        0      0      0     53948    39.0s\n",
      "\n",
      "Solving report\n",
      "  Status            Optimal\n",
      "  Primal bound      308850239.825\n",
      "  Dual bound        308822291.755\n",
      "  Gap               0.00905% (tolerance: 0.01%)\n",
      "  Solution status   feasible\n",
      "                    308850239.825 (objective)\n",
      "                    0 (bound viol.)\n",
      "                    6.61350452625e-16 (int. viol.)\n",
      "                    0 (row viol.)\n",
      "  Timing            39.02 (total)\n",
      "                    0.30 (presolve)\n",
      "                    0.00 (postsolve)\n",
      "  Nodes             1\n",
      "  LP iterations     53948 (total)\n",
      "                    0 (strong br.)\n",
      "                    0 (separation)\n",
      "                    0 (heuristics)\n",
      "Writing the solution to /tmp/linopy-solve-0eb67nci.sol\n"
     ]
    },
    {
     "name": "stderr",
     "output_type": "stream",
     "text": [
      "INFO:linopy.constants: Optimization successful: \n",
      "Status: ok\n",
      "Termination condition: optimal\n",
      "Solution: 43818 primals, 96380 duals\n",
      "Objective: 3.09e+08\n",
      "Solver model: available\n",
      "Solver message: optimal\n",
      "\n",
      "INFO:pypsa.optimization.optimize:The shadow-prices of the constraints Generator-ext-p-lower, Generator-ext-p-upper, Link-ext-p-lower, Link-ext-p-upper, Store-ext-e-lower, Store-ext-e-upper, Store-energy_balance, self_sufficiency_constraint were not assigned to the network.\n",
      "INFO:pypsa.io:Exported network network.nc has buses, links, loads, stores, generators, carriers\n",
      "INFO:pypsa.io:Imported network network.nc has buses, carriers, generators, links, loads, stores\n"
     ]
    },
    {
     "name": "stdout",
     "output_type": "stream",
     "text": [
      "130 out of 144: ('1487', 2030, 0.925, 0, True, True, 0)\n",
      "Check the get_geo(config) function\n",
      "Create and store parameters\n",
      "Check weather files\n",
      "Check renewables data\n",
      "Renewables files do not exist for geography 1487. Please see /input/renewables/generate-renewables.ipynb\n",
      "Create and store demand\n",
      "Create and store network\n",
      "Using config:\n",
      "\tself-sufficiency:0.925\n",
      "\th2:True\n",
      "\toffwind:True\n",
      "\tbiogas:0.5\n"
     ]
    },
    {
     "name": "stderr",
     "output_type": "stream",
     "text": [
      "INFO:pypsa.io:Exported network network.nc has buses, links, loads, stores, generators, carriers\n",
      "INFO:pypsa.io:Imported network network.nc has buses, carriers, generators, links, loads, stores\n"
     ]
    },
    {
     "name": "stdout",
     "output_type": "stream",
     "text": [
      "Run optimization\n"
     ]
    },
    {
     "name": "stderr",
     "output_type": "stream",
     "text": [
      "INFO:linopy.model: Solve problem using Highs solver\n",
      "INFO:linopy.io:Writing objective.\n",
      "Writing constraints.: 100%|\u001b[38;2;128;191;255m██████████\u001b[0m| 18/18 [00:00<00:00, 33.37it/s]\n",
      "Writing continuous variables.: 100%|\u001b[38;2;128;191;255m██████████\u001b[0m| 9/9 [00:00<00:00, 91.13it/s]\n",
      "Writing integer variables.: 100%|\u001b[38;2;128;191;255m██████████\u001b[0m| 2/2 [00:00<00:00, 619.82it/s]\n",
      "INFO:linopy.io: Writing time: 0.69s\n",
      "INFO:linopy.solvers:Log file at /tmp/highs.log\n"
     ]
    },
    {
     "name": "stdout",
     "output_type": "stream",
     "text": [
      "Running HiGHS 1.7.2 (git hash: 184e327): Copyright (c) 2024 HiGHS under MIT licence terms\n"
     ]
    },
    {
     "name": "stderr",
     "output_type": "stream",
     "text": [
      "INFO:linopy.constants: Optimization successful: \n",
      "Status: ok\n",
      "Termination condition: optimal\n",
      "Solution: 46739 primals, 102222 duals\n",
      "Objective: 2.83e+08\n",
      "Solver model: available\n",
      "Solver message: optimal\n",
      "\n",
      "INFO:pypsa.optimization.optimize:The shadow-prices of the constraints Generator-ext-p-lower, Generator-ext-p-upper, Link-ext-p-lower, Link-ext-p-upper, Store-ext-e-lower, Store-ext-e-upper, Store-energy_balance, self_sufficiency_constraint were not assigned to the network.\n"
     ]
    },
    {
     "name": "stdout",
     "output_type": "stream",
     "text": [
      "Coefficient ranges:\n",
      "  Matrix [3e-07, 1e+02]\n",
      "  Cost   [6e+01, 2e+06]\n",
      "  Bound  [0e+00, 0e+00]\n",
      "  RHS    [3e+01, 1e+04]\n",
      "Presolving model\n",
      "47628 rows, 44715 cols, 131240 nonzeros  0s\n",
      "38121 rows, 35208 cols, 119194 nonzeros  0s\n",
      "37382 rows, 34469 cols, 121594 nonzeros  0s\n",
      "\n",
      "Solving MIP model with:\n",
      "   37382 rows\n",
      "   34469 cols (0 binary, 5 integer, 0 implied int., 34464 continuous)\n",
      "   121594 nonzeros\n",
      "\n",
      "        Nodes      |    B&B Tree     |            Objective Bounds              |  Dynamic Constraints |       Work      \n",
      "     Proc. InQueue |  Leaves   Expl. | BestBound       BestSol              Gap |   Cuts   InLp Confl. | LpIters     Time\n",
      "\n",
      "         0       0         0   0.00%   -inf            inf                  inf        0      0      0         0     0.3s\n",
      " S       0       0         0   0.00%   -inf            289952372.733      Large        0      0      0         0    46.4s\n",
      " R       0       0         0   0.00%   282518231.2104  284637692.0259     0.74%        0      0      0     67651    50.8s\n",
      "\n",
      "20.0% inactive integer columns, restarting\n",
      "Model after restart has 32659 rows, 29745 cols (0 bin., 4 int., 0 impl., 29741 cont.), and 111807 nonzeros\n",
      "\n",
      "         0       0         0   0.00%   282518231.2104  284637692.0259     0.74%        0      0      0     67651    51.0s\n",
      " R       0       0         0   0.00%   282518231.2104  282603202.4908     0.03%        0      0      0     67656    57.0s\n",
      "\n",
      "25.0% inactive integer columns, restarting\n",
      "Model after restart has 27362 rows, 24447 cols (0 bin., 3 int., 0 impl., 24444 cont.), and 101610 nonzeros\n",
      "\n",
      "         0       0         0   0.00%   282518231.2104  282603202.4908     0.03%        0      0      0     67656    57.3s\n",
      "         0       0         0   0.00%   282518231.2104  282603202.4908     0.03%        0      0      0     68338    62.6s\n",
      "         0       0         0   0.00%   282518325.9312  282603202.4908     0.03%       35      2      0     68340    67.7s\n",
      " C       0       0         0   0.00%   282518597.8095  282584905.0949     0.02%       35      7      0     68346    77.0s\n",
      "         0       0         0   0.00%   282518667.3216  282584905.0949     0.02%       46     10      0     68349    84.3s\n",
      "         0       0         0   0.00%   282518722.6671  282584905.0949     0.02%       46     12      0     68355    89.5s\n",
      "         0       0         0   0.00%   282518800.3289  282584905.0949     0.02%       46     15      0     68362    97.0s\n",
      "         0       0         0   0.00%   282518814.5654  282584905.0949     0.02%       46     18      0     82042   114.8s\n",
      "         1       0         1 100.00%   282569152.0093  282584905.0949     0.01%       46     18      0     92980   150.1s\n",
      "\n",
      "Solving report\n",
      "  Status            Optimal\n",
      "  Primal bound      282584905.095\n",
      "  Dual bound        282569152.009\n",
      "  Gap               0.00557% (tolerance: 0.01%)\n",
      "  Solution status   feasible\n",
      "                    282584905.095 (objective)\n",
      "                    0 (bound viol.)\n",
      "                    0 (int. viol.)\n",
      "                    0 (row viol.)\n",
      "  Timing            150.15 (total)\n",
      "                    0.58 (presolve)\n",
      "                    0.00 (postsolve)\n",
      "  Nodes             1\n",
      "  LP iterations     92980 (total)\n",
      "                    266 (strong br.)\n",
      "                    27 (separation)\n",
      "                    24230 (heuristics)\n",
      "Writing the solution to /tmp/linopy-solve-phbpuu_f.sol\n"
     ]
    },
    {
     "name": "stderr",
     "output_type": "stream",
     "text": [
      "INFO:pypsa.io:Exported network network.nc has buses, links, loads, stores, generators, carriers\n",
      "INFO:pypsa.io:Imported network network.nc has buses, carriers, generators, links, loads, stores\n"
     ]
    },
    {
     "name": "stdout",
     "output_type": "stream",
     "text": [
      "131 out of 144: ('1487', 2030, 0.925, 0, True, True, 0.5)\n",
      "Check the get_geo(config) function\n",
      "Create and store parameters\n",
      "Check weather files\n",
      "Check renewables data\n",
      "Renewables files do not exist for geography 1487. Please see /input/renewables/generate-renewables.ipynb\n",
      "Create and store demand\n",
      "Create and store network\n",
      "Using config:\n",
      "\tself-sufficiency:0.925\n",
      "\th2:True\n",
      "\toffwind:True\n",
      "\tbiogas:1\n"
     ]
    },
    {
     "name": "stderr",
     "output_type": "stream",
     "text": [
      "INFO:pypsa.io:Exported network network.nc has buses, links, loads, stores, generators, carriers\n",
      "INFO:pypsa.io:Imported network network.nc has buses, carriers, generators, links, loads, stores\n"
     ]
    },
    {
     "name": "stdout",
     "output_type": "stream",
     "text": [
      "Run optimization\n"
     ]
    },
    {
     "name": "stderr",
     "output_type": "stream",
     "text": [
      "INFO:linopy.model: Solve problem using Highs solver\n",
      "INFO:linopy.io:Writing objective.\n",
      "Writing constraints.: 100%|\u001b[38;2;128;191;255m██████████\u001b[0m| 18/18 [00:00<00:00, 34.73it/s]\n",
      "Writing continuous variables.: 100%|\u001b[38;2;128;191;255m██████████\u001b[0m| 9/9 [00:00<00:00, 102.18it/s]\n",
      "Writing integer variables.: 100%|\u001b[38;2;128;191;255m██████████\u001b[0m| 2/2 [00:00<00:00, 667.94it/s]\n",
      "INFO:linopy.io: Writing time: 0.65s\n",
      "INFO:linopy.solvers:Log file at /tmp/highs.log\n"
     ]
    },
    {
     "name": "stdout",
     "output_type": "stream",
     "text": [
      "Running HiGHS 1.7.2 (git hash: 184e327): Copyright (c) 2024 HiGHS under MIT licence terms\n",
      "Coefficient ranges:\n",
      "  Matrix [3e-07, 1e+02]\n",
      "  Cost   [6e+01, 2e+06]\n",
      "  Bound  [0e+00, 0e+00]\n",
      "  RHS    [3e+01, 1e+04]\n",
      "Presolving model\n",
      "47628 rows, 44715 cols, 131240 nonzeros  0s\n",
      "38121 rows, 35208 cols, 119194 nonzeros  0s\n",
      "37382 rows, 34469 cols, 121594 nonzeros  0s\n",
      "\n",
      "Solving MIP model with:\n",
      "   37382 rows\n",
      "   34469 cols (0 binary, 5 integer, 0 implied int., 34464 continuous)\n",
      "   121594 nonzeros\n",
      "\n",
      "        Nodes      |    B&B Tree     |            Objective Bounds              |  Dynamic Constraints |       Work      \n",
      "     Proc. InQueue |  Leaves   Expl. | BestBound       BestSol              Gap |   Cuts   InLp Confl. | LpIters     Time\n",
      "\n",
      "         0       0         0   0.00%   -inf            inf                  inf        0      0      0         0     0.3s\n",
      " S       0       0         0   0.00%   -inf            289952372.733      Large        0      0      0         0    44.2s\n",
      " R       0       0         0   0.00%   282518231.2104  284637692.0259     0.74%        0      0      0     65226    49.0s\n",
      "\n",
      "20.0% inactive integer columns, restarting\n",
      "Model after restart has 32659 rows, 29745 cols (0 bin., 4 int., 0 i"
     ]
    },
    {
     "name": "stderr",
     "output_type": "stream",
     "text": [
      "INFO:linopy.constants: Optimization successful: \n",
      "Status: ok\n",
      "Termination condition: optimal\n",
      "Solution: 46739 primals, 102222 duals\n",
      "Objective: 2.83e+08\n",
      "Solver model: available\n",
      "Solver message: optimal\n",
      "\n",
      "INFO:pypsa.optimization.optimize:The shadow-prices of the constraints Generator-ext-p-lower, Generator-ext-p-upper, Link-ext-p-lower, Link-ext-p-upper, Store-ext-e-lower, Store-ext-e-upper, Store-energy_balance, self_sufficiency_constraint were not assigned to the network.\n"
     ]
    },
    {
     "name": "stdout",
     "output_type": "stream",
     "text": [
      "mpl., 29741 cont.), and 111807 nonzeros\n",
      "\n",
      "         0       0         0   0.00%   282518231.2104  284637692.0259     0.74%        0      0      0     65226    49.2s\n",
      " R       0       0         0   0.00%   282518231.2104  282603202.4908     0.03%        0      0      0     72008    58.2s\n",
      "\n",
      "25.0% inactive integer columns, restarting\n",
      "Model after restart has 27362 rows, 24447 cols (0 bin., 3 int., 0 impl., 24444 cont.), and 101610 nonzeros\n",
      "\n",
      "         0       0         0   0.00%   282518231.2104  282603202.4908     0.03%        0      0      0     72008    58.4s\n",
      "         0       0         0   0.00%   282518231.2104  282603202.4908     0.03%        0      0      0     72991    64.1s\n",
      "         0       0         0   0.00%   282518325.9312  282603202.4908     0.03%       35      2      0     72993    70.0s\n",
      " C       0       0         0   0.00%   282518597.8095  282584905.0949     0.02%       35      7      0     72999    79.2s\n",
      "         0       0         0   0.00%   282518667.3216  282584905.0949     0.02%       46     10      0     73002    86.6s\n",
      "         0       0         0   0.00%   282518762.9954  282584905.0949     0.02%       46     13      0     73009    93.9s\n",
      "         0       0         0   0.00%   282518814.5654  282584905.0949     0.02%       46     19      0     73018   101.0s\n",
      "         0       0         0   0.00%   282518814.5654  282584905.0949     0.02%       46     18      0     87484   116.4s\n",
      "         1       0         1 100.00%   282569152.0093  282584905.0949     0.01%       46     18      0     87996   125.1s\n",
      "\n",
      "Solving report\n",
      "  Status            Optimal\n",
      "  Primal bound      282584905.095\n",
      "  Dual bound        282569152.009\n",
      "  Gap               0.00557% (tolerance: 0.01%)\n",
      "  Solution status   feasible\n",
      "                    282584905.095 (objective)\n",
      "                    0 (bound viol.)\n",
      "                    0 (int. viol.)\n",
      "                    0 (row viol.)\n",
      "  Timing            125.07 (total)\n",
      "                    0.57 (presolve)\n",
      "                    0.00 (postsolve)\n",
      "  Nodes             1\n",
      "  LP iterations     87996 (total)\n",
      "                    394 (strong br.)\n",
      "                    27 (separation)\n",
      "                    14466 (heuristics)\n",
      "Writing the solution to /tmp/linopy-solve-1ncurtrb.sol\n"
     ]
    },
    {
     "name": "stderr",
     "output_type": "stream",
     "text": [
      "INFO:pypsa.io:Exported network network.nc has buses, links, loads, stores, generators, carriers\n",
      "INFO:pypsa.io:Imported network network.nc has buses, carriers, generators, links, loads, stores\n"
     ]
    },
    {
     "name": "stdout",
     "output_type": "stream",
     "text": [
      "132 out of 144: ('1487', 2030, 0.925, 0, True, True, 1)\n",
      "Check the get_geo(config) function\n",
      "Create and store parameters\n",
      "Check weather files\n",
      "Check renewables data\n",
      "Renewables files do not exist for geography 1487. Please see /input/renewables/generate-renewables.ipynb\n",
      "Create and store demand\n",
      "Create and store network\n",
      "Using config:\n",
      "\tself-sufficiency:0.925\n",
      "\th2:True\n",
      "\toffwind:True\n",
      "\tbiogas:0\n"
     ]
    },
    {
     "name": "stderr",
     "output_type": "stream",
     "text": [
      "INFO:pypsa.io:Exported network network.nc has buses, links, loads, stores, generators, carriers\n",
      "INFO:pypsa.io:Imported network network.nc has buses, carriers, generators, links, loads, stores\n"
     ]
    },
    {
     "name": "stdout",
     "output_type": "stream",
     "text": [
      "Run optimization\n"
     ]
    },
    {
     "name": "stderr",
     "output_type": "stream",
     "text": [
      "INFO:linopy.model: Solve problem using Highs solver\n",
      "INFO:linopy.io:Writing objective.\n",
      "Writing constraints.: 100%|\u001b[38;2;128;191;255m██████████\u001b[0m| 18/18 [00:00<00:00, 41.00it/s]\n",
      "Writing continuous variables.: 100%|\u001b[38;2;128;191;255m██████████\u001b[0m| 9/9 [00:00<00:00, 101.07it/s]\n",
      "Writing integer variables.: 100%|\u001b[38;2;128;191;255m██████████\u001b[0m| 2/2 [00:00<00:00, 587.89it/s]\n",
      "INFO:linopy.io: Writing time: 0.57s\n",
      "INFO:linopy.solvers:Log file at /tmp/highs.log\n"
     ]
    },
    {
     "name": "stdout",
     "output_type": "stream",
     "text": [
      "Running HiGHS 1.7.2 (git hash: 184e327): Copyright (c) 2024 HiGHS under MIT licence terms\n"
     ]
    },
    {
     "name": "stderr",
     "output_type": "stream",
     "text": [
      "INFO:linopy.constants: Optimization successful: \n",
      "Status: ok\n",
      "Termination condition: optimal\n",
      "Solution: 43818 primals, 96380 duals\n",
      "Objective: 3.71e+08\n",
      "Solver model: available\n",
      "Solver message: optimal\n",
      "\n",
      "INFO:pypsa.optimization.optimize:The shadow-prices of the constraints Generator-ext-p-lower, Generator-ext-p-upper, Link-ext-p-lower, Link-ext-p-upper, Store-ext-e-lower, Store-ext-e-upper, Store-energy_balance, self_sufficiency_constraint were not assigned to the network.\n"
     ]
    },
    {
     "name": "stdout",
     "output_type": "stream",
     "text": [
      "Coefficient ranges:\n",
      "  Matrix [3e-07, 1e+02]\n",
      "  Cost   [6e+01, 2e+06]\n",
      "  Bound  [0e+00, 0e+00]\n",
      "  RHS    [3e+01, 1e+04]\n",
      "Presolving model\n",
      "44708 rows, 38875 cols, 122480 nonzeros  0s\n",
      "38111 rows, 32278 cols, 113377 nonzeros  0s\n",
      "37371 rows, 31538 cols, 115861 nonzeros  0s\n",
      "\n",
      "Solving MIP model with:\n",
      "   37371 rows\n",
      "   31538 cols (0 binary, 5 integer, 0 implied int., 31533 continuous)\n",
      "   115861 nonzeros\n",
      "\n",
      "        Nodes      |    B&B Tree     |            Objective Bounds              |  Dynamic Constraints |       Work      \n",
      "     Proc. InQueue |  Leaves   Expl. | BestBound       BestSol              Gap |   Cuts   InLp Confl. | LpIters     Time\n",
      "\n",
      "         0       0         0   0.00%   -inf            inf                  inf        0      0      0         0     0.3s\n",
      " S       0       0         0   0.00%   -inf            374663624.3456     Large        0      0      0         0    26.4s\n",
      " R       0       0         0   0.00%   370586750.1058  371280612.0697     0.19%        0      0      0     49684    28.8s\n",
      "\n",
      "40.0% inactive integer columns, restarting\n",
      "Model after restart has 27351 rows, 21516 cols (0 bin., 3 int., 0 impl., 21513 cont.), and 96261 nonzeros\n",
      "\n",
      "         0       0         0   0.00%   370586750.1058  371280612.0697     0.19%        0      0      0     49684    29.0s\n",
      " R       0       0         0   0.00%   370586750.1058  370589495.1478     0.00%        0      0      0     62681    37.0s\n",
      "\n",
      "Solving report\n",
      "  Status            Optimal\n",
      "  Primal bound      370589495.148\n",
      "  Dual bound        370586750.106\n",
      "  Gap               0.000741% (tolerance: 0.01%)\n",
      "  Solution status   feasible\n",
      "                    370589495.148 (objective)\n",
      "                    0 (bound viol.)\n",
      "                    0 (int. viol.)\n",
      "                    0 (row viol.)\n",
      "  Timing            37.00 (total)\n",
      "                    0.38 (presolve)\n",
      "                    0.00 (postsolve)\n",
      "  Nodes             1\n",
      "  LP iterations     62681 (total)\n",
      "                    0 (strong br.)\n",
      "                    0 (separation)\n",
      "                    0 (heuristics)\n",
      "Writing the solution to /tmp/linopy-solve-bt92v2ze.sol\n"
     ]
    },
    {
     "name": "stderr",
     "output_type": "stream",
     "text": [
      "INFO:pypsa.io:Exported network network.nc has buses, links, loads, stores, generators, carriers\n",
      "INFO:pypsa.io:Imported network network.nc has buses, carriers, generators, links, loads, stores\n"
     ]
    },
    {
     "name": "stdout",
     "output_type": "stream",
     "text": [
      "133 out of 144: ('1487', 2030, 0.925, 0.2, True, True, 0)\n",
      "Check the get_geo(config) function\n",
      "Create and store parameters\n",
      "Check weather files\n",
      "Check renewables data\n",
      "Renewables files do not exist for geography 1487. Please see /input/renewables/generate-renewables.ipynb\n",
      "Create and store demand\n",
      "Create and store network\n",
      "Using config:\n",
      "\tself-sufficiency:0.925\n",
      "\th2:True\n",
      "\toffwind:True\n",
      "\tbiogas:0.5\n"
     ]
    },
    {
     "name": "stderr",
     "output_type": "stream",
     "text": [
      "INFO:pypsa.io:Exported network network.nc has buses, links, loads, stores, generators, carriers\n",
      "INFO:pypsa.io:Imported network network.nc has buses, carriers, generators, links, loads, stores\n"
     ]
    },
    {
     "name": "stdout",
     "output_type": "stream",
     "text": [
      "Run optimization\n"
     ]
    },
    {
     "name": "stderr",
     "output_type": "stream",
     "text": [
      "INFO:linopy.model: Solve problem using Highs solver\n",
      "INFO:linopy.io:Writing objective.\n",
      "Writing constraints.: 100%|\u001b[38;2;128;191;255m██████████\u001b[0m| 18/18 [00:00<00:00, 35.68it/s]\n",
      "Writing continuous variables.: 100%|\u001b[38;2;128;191;255m██████████\u001b[0m| 9/9 [00:00<00:00, 100.20it/s]\n",
      "Writing integer variables.: 100%|\u001b[38;2;128;191;255m██████████\u001b[0m| 2/2 [00:00<00:00, 571.98it/s]\n",
      "INFO:linopy.io: Writing time: 0.64s\n",
      "INFO:linopy.solvers:Log file at /tmp/highs.log\n"
     ]
    },
    {
     "name": "stdout",
     "output_type": "stream",
     "text": [
      "Running HiGHS 1.7.2 (git hash: 184e327): Copyright (c) 2024 HiGHS under MIT licence terms\n"
     ]
    },
    {
     "name": "stderr",
     "output_type": "stream",
     "text": [
      "INFO:linopy.constants: Optimization successful: \n",
      "Status: ok\n",
      "Termination condition: optimal\n",
      "Solution: 46739 primals, 102222 duals\n",
      "Objective: 3.39e+08\n",
      "Solver model: available\n",
      "Solver message: optimal\n",
      "\n",
      "INFO:pypsa.optimization.optimize:The shadow-prices of the constraints Generator-ext-p-lower, Generator-ext-p-upper, Link-ext-p-lower, Link-ext-p-upper, Store-ext-e-lower, Store-ext-e-upper, Store-energy_balance, self_sufficiency_constraint were not assigned to the network.\n"
     ]
    },
    {
     "name": "stdout",
     "output_type": "stream",
     "text": [
      "Coefficient ranges:\n",
      "  Matrix [3e-07, 1e+02]\n",
      "  Cost   [6e+01, 2e+06]\n",
      "  Bound  [0e+00, 0e+00]\n",
      "  RHS    [3e+01, 1e+04]\n",
      "Presolving model\n",
      "47628 rows, 44715 cols, 131240 nonzeros  0s\n",
      "38121 rows, 35208 cols, 119194 nonzeros  0s\n",
      "37382 rows, 34469 cols, 121594 nonzeros  0s\n",
      "\n",
      "Solving MIP model with:\n",
      "   37382 rows\n",
      "   34469 cols (0 binary, 5 integer, 0 implied int., 34464 continuous)\n",
      "   121594 nonzeros\n",
      "\n",
      "        Nodes      |    B&B Tree     |            Objective Bounds              |  Dynamic Constraints |       Work      \n",
      "     Proc. InQueue |  Leaves   Expl. | BestBound       BestSol              Gap |   Cuts   InLp Confl. | LpIters     Time\n",
      "\n",
      "         0       0         0   0.00%   -inf            inf                  inf        0      0      0         0     0.2s\n",
      " S       0       0         0   0.00%   -inf            343540289.0146     Large        0      0      0         0    48.4s\n",
      " R       0       0         0   0.00%   339021877.4523  340341319.7718     0.39%        0      0      0     68303    52.5s\n",
      "\n",
      "20.0% inactive integer columns, restarting\n",
      "Model after restart has 32659 rows, 29745 cols (1 bin., 3 int., 0 impl., 29741 cont.), and 111807 nonzeros\n",
      "\n",
      "         0       0         0   0.00%   339021877.4523  340341319.7718     0.39%        0      0      0     68303    52.6s\n",
      " R       0       0         0   0.00%   339021877.4523  339038249.5137     0.00%        0      0      0     68307    58.8s\n",
      "\n",
      "Solving report\n",
      "  Status            Optimal\n",
      "  Primal bound      339038249.514\n",
      "  Dual bound        339021877.452\n",
      "  Gap               0.00483% (tolerance: 0.01%)\n",
      "  Solution status   feasible\n",
      "                    339038249.514 (objective)\n",
      "                    0 (bound viol.)\n",
      "                    0 (int. viol.)\n",
      "                    0 (row viol.)\n",
      "  Timing            58.83 (total)\n",
      "                    0.34 (presolve)\n",
      "                    0.00 (postsolve)\n",
      "  Nodes             1\n",
      "  LP iterations     68307 (total)\n",
      "                    0 (strong br.)\n",
      "                    0 (separation)\n",
      "                    0 (heuristics)\n",
      "Writing the solution to /tmp/linopy-solve-iviely0o.sol\n"
     ]
    },
    {
     "name": "stderr",
     "output_type": "stream",
     "text": [
      "INFO:pypsa.io:Exported network network.nc has buses, links, loads, stores, generators, carriers\n",
      "INFO:pypsa.io:Imported network network.nc has buses, carriers, generators, links, loads, stores\n"
     ]
    },
    {
     "name": "stdout",
     "output_type": "stream",
     "text": [
      "134 out of 144: ('1487', 2030, 0.925, 0.2, True, True, 0.5)\n",
      "Check the get_geo(config) function\n",
      "Create and store parameters\n",
      "Check weather files\n",
      "Check renewables data\n",
      "Renewables files do not exist for geography 1487. Please see /input/renewables/generate-renewables.ipynb\n",
      "Create and store demand\n",
      "Create and store network\n",
      "Using config:\n",
      "\tself-sufficiency:0.925\n",
      "\th2:True\n",
      "\toffwind:True\n",
      "\tbiogas:1\n"
     ]
    },
    {
     "name": "stderr",
     "output_type": "stream",
     "text": [
      "INFO:pypsa.io:Exported network network.nc has buses, links, loads, stores, generators, carriers\n"
     ]
    },
    {
     "name": "stdout",
     "output_type": "stream",
     "text": [
      "Run optimization\n"
     ]
    },
    {
     "name": "stderr",
     "output_type": "stream",
     "text": [
      "INFO:pypsa.io:Imported network network.nc has buses, carriers, generators, links, loads, stores\n",
      "INFO:linopy.model: Solve problem using Highs solver\n",
      "INFO:linopy.io:Writing objective.\n",
      "Writing constraints.: 100%|\u001b[38;2;128;191;255m██████████\u001b[0m| 18/18 [00:00<00:00, 33.75it/s]\n",
      "Writing continuous variables.: 100%|\u001b[38;2;128;191;255m██████████\u001b[0m| 9/9 [00:00<00:00, 82.57it/s]\n",
      "Writing integer variables.: 100%|\u001b[38;2;128;191;255m██████████\u001b[0m| 2/2 [00:00<00:00, 760.73it/s]\n",
      "INFO:linopy.io: Writing time: 0.69s\n",
      "INFO:linopy.solvers:Log file at /tmp/highs.log\n"
     ]
    },
    {
     "name": "stdout",
     "output_type": "stream",
     "text": [
      "Running HiGHS 1.7.2 (git hash: 184e327): Copyright (c) 2024 HiGHS under MIT licence terms\n",
      "Coefficient ranges:\n",
      "  Matrix [3e-07, 1e+02]\n",
      "  Cost   [6e+01, 2e+06]\n",
      "  Bound  [0e+00, 0e+00]\n",
      "  RHS    [3e+01, 1e+04]\n"
     ]
    },
    {
     "name": "stderr",
     "output_type": "stream",
     "text": [
      "INFO:linopy.constants: Optimization successful: \n",
      "Status: ok\n",
      "Termination condition: optimal\n",
      "Solution: 46739 primals, 102222 duals\n",
      "Objective: 3.39e+08\n",
      "Solver model: available\n",
      "Solver message: optimal\n",
      "\n",
      "INFO:pypsa.optimization.optimize:The shadow-prices of the constraints Generator-ext-p-lower, Generator-ext-p-upper, Link-ext-p-lower, Link-ext-p-upper, Store-ext-e-lower, Store-ext-e-upper, Store-energy_balance, self_sufficiency_constraint were not assigned to the network.\n"
     ]
    },
    {
     "name": "stdout",
     "output_type": "stream",
     "text": [
      "Presolving model\n",
      "47628 rows, 44715 cols, 131240 nonzeros  0s\n",
      "38121 rows, 35208 cols, 119194 nonzeros  0s\n",
      "37382 rows, 34469 cols, 121594 nonzeros  0s\n",
      "\n",
      "Solving MIP model with:\n",
      "   37382 rows\n",
      "   34469 cols (0 binary, 5 integer, 0 implied int., 34464 continuous)\n",
      "   121594 nonzeros\n",
      "\n",
      "        Nodes      |    B&B Tree     |            Objective Bounds              |  Dynamic Constraints |       Work      \n",
      "     Proc. InQueue |  Leaves   Expl. | BestBound       BestSol              Gap |   Cuts   InLp Confl. | LpIters     Time\n",
      "\n",
      "         0       0         0   0.00%   -inf            inf                  inf        0      0      0         0     0.3s\n",
      " S       0       0         0   0.00%   -inf            343540289.0146     Large        0      0      0         0    45.2s\n",
      " R       0       0         0   0.00%   339021877.4523  340341319.7718     0.39%        0      0      0     64442    49.4s\n",
      "\n",
      "40.0% inactive integer columns, restarting\n",
      "Model after restart has 27373 rows, 24458 cols (0 bin., 3 int., 0 impl., 24455 cont.), and 101460 nonzeros\n",
      "\n",
      "         0       0         0   0.00%   339021877.4523  340341319.7718     0.39%        0      0      0     64442    49.5s\n",
      " R       0       0         0   0.00%   339021877.4523  339038249.5137     0.00%        0      0      0     65243    54.7s\n",
      "\n",
      "Solving report\n",
      "  Status            Optimal\n",
      "  Primal bound      339038249.514\n",
      "  Dual bound        339021877.452\n",
      "  Gap               0.00483% (tolerance: 0.01%)\n",
      "  Solution status   feasible\n",
      "                    339038249.514 (objective)\n",
      "                    0 (bound viol.)\n",
      "                    0 (int. viol.)\n",
      "                    0 (row viol.)\n",
      "  Timing            54.77 (total)\n",
      "                    0.40 (presolve)\n",
      "                    0.00 (postsolve)\n",
      "  Nodes             1\n",
      "  LP iterations     65243 (total)\n",
      "                    0 (strong br.)\n",
      "                    0 (separation)\n",
      "                    0 (heuristics)\n",
      "Writing the solution to /tmp/linopy-solve-g6t1wrfk.sol\n"
     ]
    },
    {
     "name": "stderr",
     "output_type": "stream",
     "text": [
      "INFO:pypsa.io:Exported network network.nc has buses, links, loads, stores, generators, carriers\n",
      "INFO:pypsa.io:Imported network network.nc has buses, carriers, generators, links, loads, stores\n"
     ]
    },
    {
     "name": "stdout",
     "output_type": "stream",
     "text": [
      "135 out of 144: ('1487', 2030, 0.925, 0.2, True, True, 1)\n",
      "Check the get_geo(config) function\n",
      "Create and store parameters\n",
      "Check weather files\n",
      "Check renewables data\n",
      "Renewables files do not exist for geography 1487. Please see /input/renewables/generate-renewables.ipynb\n",
      "Create and store demand\n",
      "Create and store network\n",
      "Using config:\n",
      "\tself-sufficiency:1\n",
      "\th2:True\n",
      "\toffwind:True\n",
      "\tbiogas:0\n"
     ]
    },
    {
     "name": "stderr",
     "output_type": "stream",
     "text": [
      "INFO:pypsa.io:Exported network network.nc has buses, links, loads, stores, generators, carriers\n"
     ]
    },
    {
     "name": "stdout",
     "output_type": "stream",
     "text": [
      "Run optimization\n"
     ]
    },
    {
     "name": "stderr",
     "output_type": "stream",
     "text": [
      "INFO:pypsa.io:Imported network network.nc has buses, carriers, generators, links, loads, stores\n",
      "INFO:linopy.model: Solve problem using Highs solver\n",
      "INFO:linopy.io:Writing objective.\n",
      "Writing constraints.: 100%|\u001b[38;2;128;191;255m██████████\u001b[0m| 18/18 [00:00<00:00, 35.33it/s]\n",
      "Writing continuous variables.: 100%|\u001b[38;2;128;191;255m██████████\u001b[0m| 9/9 [00:00<00:00, 105.16it/s]\n",
      "Writing integer variables.: 100%|\u001b[38;2;128;191;255m██████████\u001b[0m| 2/2 [00:00<00:00, 787.22it/s]\n",
      "INFO:linopy.io: Writing time: 0.64s\n",
      "INFO:linopy.solvers:Log file at /tmp/highs.log\n"
     ]
    },
    {
     "name": "stdout",
     "output_type": "stream",
     "text": [
      "Running HiGHS 1.7.2 (git hash: 184e327): Copyright (c) 2024 HiGHS under MIT licence terms\n",
      "Coefficient ranges:\n",
      "  Matrix [3e-07, 1e+02]\n",
      "  Cost   [6e+01, 2e+06]\n",
      "  Bound  [0e+00, 0e+00]\n",
      "  RHS    [2e+01, 6e+01]\n",
      "Presolving model\n",
      "44707 rows, 35955 cols, 116640 nonzeros  0s\n",
      "38110 rows, 29358 cols, 107537 nonzeros  0s\n",
      "37370 rows, 28618 cols, 110021 nonzeros  0s\n",
      "\n",
      "Solving MIP model with:\n",
      "   37370 rows\n",
      "   28618 cols (0 binary, 5 integer, 0 implied int., 28613 continuous)\n",
      "   110021 nonzeros\n",
      "\n",
      "        Nodes      |    B&B Tree     |            Objective Bounds              |  Dynamic Constraints |       Work      \n",
      "     Proc. InQueue |  Leaves   Expl. | BestBound       BestSol              Gap |   Cuts   InLp Confl. | LpIters     Time\n",
      "\n",
      "         0       0         0   0.00%   -inf            inf                  inf        0      0      0         0     0.2s\n",
      " S       0       0         0   0.00%   -inf            423658061.2878     Large        0      0      0         0     9.1s\n",
      " R       0       0         0   0.00%   421560746.2101  421704630.6913     0.03%        0      0      0     41554     9.5s\n",
      "\n",
      "60.0% inactive integer columns, restarting\n",
      "Model after restart has 21013 rows, 15177 cols (0 bin., 2 int., 0 impl., 15175 cont.), and 65231 nonzeros\n",
      "\n",
      "         0       0         0   0.00%   421560746.2101  421704630.6913     0.03%        0      0      0     41554     9.8s\n",
      " R       0       0         0   0.00%   421560746.2101  421619408.7191     0.01%        0      0      0     44297    10.8s\n",
      "\n",
      "Solving report\n",
      "  Status            Optimal\n",
      "  Primal bound      421619408.719\n",
      "  Dual bound        421580751.517\n",
      "  Gap               0.00917% (tolerance: 0.01%)\n",
      "  Solution status   feasible\n",
      "                    421619408.719 (objective)\n",
      "                    0 (bound viol.)\n",
      "                    0 (int. viol.)\n",
      "                    0 (row viol.)\n",
      "  Timing            14.51 (total)\n",
      "                    0.34 (presolve)\n",
      "                    0.00 (postsolve)\n",
      "  Nodes             1\n",
      "  LP iterations     44346 (total)\n",
      "                    0 (strong br.)\n",
      "                    49 (separation)\n",
      "                    0 (heu"
     ]
    },
    {
     "name": "stderr",
     "output_type": "stream",
     "text": [
      "INFO:linopy.constants: Optimization successful: \n",
      "Status: ok\n",
      "Termination condition: optimal\n",
      "Solution: 43818 primals, 96380 duals\n",
      "Objective: 4.22e+08\n",
      "Solver model: available\n",
      "Solver message: optimal\n",
      "\n",
      "INFO:pypsa.optimization.optimize:The shadow-prices of the constraints Generator-ext-p-lower, Generator-ext-p-upper, Link-ext-p-lower, Link-ext-p-upper, Store-ext-e-lower, Store-ext-e-upper, Store-energy_balance, self_sufficiency_constraint were not assigned to the network.\n"
     ]
    },
    {
     "name": "stdout",
     "output_type": "stream",
     "text": [
      "ristics)\n",
      "Writing the solution to /tmp/linopy-solve-a_2b8r3s.sol\n"
     ]
    },
    {
     "name": "stderr",
     "output_type": "stream",
     "text": [
      "INFO:pypsa.io:Exported network network.nc has buses, links, loads, stores, generators, carriers\n",
      "INFO:pypsa.io:Imported network network.nc has buses, carriers, generators, links, loads, stores\n"
     ]
    },
    {
     "name": "stdout",
     "output_type": "stream",
     "text": [
      "136 out of 144: ('1487', 2030, 1, -0.2, True, True, 0)\n",
      "Check the get_geo(config) function\n",
      "Create and store parameters\n",
      "Check weather files\n",
      "Check renewables data\n",
      "Renewables files do not exist for geography 1487. Please see /input/renewables/generate-renewables.ipynb\n",
      "Create and store demand\n",
      "Create and store network\n",
      "Using config:\n",
      "\tself-sufficiency:1\n",
      "\th2:True\n",
      "\toffwind:True\n",
      "\tbiogas:0.5\n"
     ]
    },
    {
     "name": "stderr",
     "output_type": "stream",
     "text": [
      "INFO:pypsa.io:Exported network network.nc has buses, links, loads, stores, generators, carriers\n"
     ]
    },
    {
     "name": "stdout",
     "output_type": "stream",
     "text": [
      "Run optimization\n"
     ]
    },
    {
     "name": "stderr",
     "output_type": "stream",
     "text": [
      "INFO:pypsa.io:Imported network network.nc has buses, carriers, generators, links, loads, stores\n",
      "INFO:linopy.model: Solve problem using Highs solver\n",
      "INFO:linopy.io:Writing objective.\n",
      "Writing constraints.: 100%|\u001b[38;2;128;191;255m██████████\u001b[0m| 18/18 [00:00<00:00, 35.14it/s]\n",
      "Writing continuous variables.: 100%|\u001b[38;2;128;191;255m██████████\u001b[0m| 9/9 [00:00<00:00, 85.26it/s]\n",
      "Writing integer variables.: 100%|\u001b[38;2;128;191;255m██████████\u001b[0m| 2/2 [00:00<00:00, 580.65it/s]\n",
      "INFO:linopy.io: Writing time: 0.67s\n",
      "INFO:linopy.solvers:Log file at /tmp/highs.log\n"
     ]
    },
    {
     "name": "stdout",
     "output_type": "stream",
     "text": [
      "Running HiGHS 1.7.2 (git hash: 184e327): Copyright (c) 2024 HiGHS under MIT licence terms\n",
      "Coefficient ranges:\n",
      "  Matrix [3e-07, 1e+02]\n",
      "  Cost   [6e+01, 2e+06]\n",
      "  Bound  [0e+00, 0e+00]\n",
      "  RHS    [2e+01, 6e+01]\n",
      "Presolving model\n",
      "47627 rows, 41795 cols, 125400 nonzeros  0s\n",
      "38120 rows, 32288 cols, 113354 nonzeros  0s\n",
      "37381 rows, 31549 cols, 115754 nonzeros  0s\n",
      "\n",
      "Solving MIP model with:\n",
      "   37381 rows\n",
      "   31549 cols (0 binary, 5 integer, 0 implied int., 31544 continuous)\n",
      "   115754 nonzeros\n",
      "\n",
      "        Nodes      |    B&B Tree     |            Objective Bounds              |  Dynamic Constraints |       Work      \n",
      "     Proc. InQueue |  Leaves   Expl. | BestBound       BestSol              Gap |   Cuts   InLp Confl. | LpIters     Time\n",
      "\n",
      "         0       0         0   0.00%   -inf            inf                  inf        0      0      0         0     0.2s\n",
      " S       0       0         0   0.00%   -inf            320644598.6161     Large        0      0      0         0    20.0s\n",
      " R       0       0         0   0.00%   315566577.9795  316385212.247      0.26%        0      0      0     63714    20.5s\n",
      "\n",
      "20.0% inactive integer columns, restarting\n",
      "Model after restart has 32649 rows, 26816 cols (0 bin., 4 int., 0 impl., 26812 cont.), and 106028 nonzeros\n",
      "\n",
      "         0       0         0   0.00%   315566577.9795  316385212.247      0.26%        0      0      0     63714    20.6s\n",
      " R       0       0         0   0.00%   315566577.9795  316287040.4092     0.23%        0      0      0     64503    21.5s\n",
      " C       0       0         0   0.00%   315576076.6682  316286173.54       0.22%      840      2      0     64709    27.6s\n",
      "         0       0         0   0.00%   315576076.6682  316286173.54       0.22%      840      2      0     73798    32.6s\n",
      "\n",
      "25.0% inactive integer columns, restarting\n",
      "Model after restart has 27355 rows, 21521 cols (0 bin., 3 int., 0 impl., 21518 cont.), and 95990 nonzeros\n",
      "\n",
      "         0       0         0   0.00%   315576076.6682  316286173.54       0.22%        2      0      0     73798    32.8s\n",
      "         0       0         0   0.00%   315576076.6682  316286173.54       0.22%   "
     ]
    },
    {
     "name": "stderr",
     "output_type": "stream",
     "text": [
      "INFO:linopy.constants: Optimization successful: \n",
      "Status: ok\n",
      "Termination condition: optimal\n",
      "Solution: 46739 primals, 102222 duals\n",
      "Objective: 3.16e+08\n",
      "Solver model: available\n",
      "Solver message: optimal\n",
      "\n",
      "INFO:pypsa.optimization.optimize:The shadow-prices of the constraints Generator-ext-p-lower, Generator-ext-p-upper, Link-ext-p-lower, Link-ext-p-upper, Store-ext-e-lower, Store-ext-e-upper, Store-energy_balance, self_sufficiency_constraint were not assigned to the network.\n"
     ]
    },
    {
     "name": "stdout",
     "output_type": "stream",
     "text": [
      "     2      2      0     74437    33.3s\n",
      "         0       0         0   0.00%   315652187.0526  316286173.54       0.20%      866     16      0     84462    40.7s\n",
      "\n",
      "Solving report\n",
      "  Status            Optimal\n",
      "  Primal bound      316286173.54\n",
      "  Dual bound        316286107.498\n",
      "  Gap               2.1e-05% (tolerance: 0.01%)\n",
      "  Solution status   feasible\n",
      "                    316286173.54 (objective)\n",
      "                    0 (bound viol.)\n",
      "                    0 (int. viol.)\n",
      "                    0 (row viol.)\n",
      "  Timing            41.17 (total)\n",
      "                    0.43 (presolve)\n",
      "                    0.00 (postsolve)\n",
      "  Nodes             1\n",
      "  LP iterations     85096 (total)\n",
      "                    292 (strong br.)\n",
      "                    268 (separation)\n",
      "                    19052 (heuristics)\n",
      "Writing the solution to /tmp/linopy-solve-si6j1xkf.sol\n"
     ]
    },
    {
     "name": "stderr",
     "output_type": "stream",
     "text": [
      "INFO:pypsa.io:Exported network network.nc has buses, links, loads, stores, generators, carriers\n",
      "INFO:pypsa.io:Imported network network.nc has buses, carriers, generators, links, loads, stores\n"
     ]
    },
    {
     "name": "stdout",
     "output_type": "stream",
     "text": [
      "137 out of 144: ('1487', 2030, 1, -0.2, True, True, 0.5)\n",
      "Check the get_geo(config) function\n",
      "Create and store parameters\n",
      "Check weather files\n",
      "Check renewables data\n",
      "Renewables files do not exist for geography 1487. Please see /input/renewables/generate-renewables.ipynb\n",
      "Create and store demand\n",
      "Create and store network\n",
      "Using config:\n",
      "\tself-sufficiency:1\n",
      "\th2:True\n",
      "\toffwind:True\n",
      "\tbiogas:1\n"
     ]
    },
    {
     "name": "stderr",
     "output_type": "stream",
     "text": [
      "INFO:pypsa.io:Exported network network.nc has buses, links, loads, stores, generators, carriers\n",
      "INFO:pypsa.io:Imported network network.nc has buses, carriers, generators, links, loads, stores\n"
     ]
    },
    {
     "name": "stdout",
     "output_type": "stream",
     "text": [
      "Run optimization\n"
     ]
    },
    {
     "name": "stderr",
     "output_type": "stream",
     "text": [
      "INFO:linopy.model: Solve problem using Highs solver\n",
      "INFO:linopy.io:Writing objective.\n",
      "Writing constraints.: 100%|\u001b[38;2;128;191;255m██████████\u001b[0m| 18/18 [00:00<00:00, 36.63it/s]\n",
      "Writing continuous variables.: 100%|\u001b[38;2;128;191;255m██████████\u001b[0m| 9/9 [00:00<00:00, 97.93it/s]\n",
      "Writing integer variables.: 100%|\u001b[38;2;128;191;255m██████████\u001b[0m| 2/2 [00:00<00:00, 573.74it/s]\n",
      "INFO:linopy.io: Writing time: 0.63s\n",
      "INFO:linopy.solvers:Log file at /tmp/highs.log\n"
     ]
    },
    {
     "name": "stdout",
     "output_type": "stream",
     "text": [
      "Running HiGHS 1.7.2 (git hash: 184e327): Copyright (c) 2024 HiGHS under MIT licence terms\n"
     ]
    },
    {
     "name": "stderr",
     "output_type": "stream",
     "text": [
      "INFO:linopy.constants: Optimization successful: \n",
      "Status: ok\n",
      "Termination condition: optimal\n",
      "Solution: 46739 primals, 102222 duals\n",
      "Objective: 2.81e+08\n",
      "Solver model: available\n",
      "Solver message: optimal\n",
      "\n",
      "INFO:pypsa.optimization.optimize:The shadow-prices of the constraints Generator-ext-p-lower, Generator-ext-p-upper, Link-ext-p-lower, Link-ext-p-upper, Store-ext-e-lower, Store-ext-e-upper, Store-energy_balance, self_sufficiency_constraint were not assigned to the network.\n"
     ]
    },
    {
     "name": "stdout",
     "output_type": "stream",
     "text": [
      "Coefficient ranges:\n",
      "  Matrix [3e-07, 1e+02]\n",
      "  Cost   [6e+01, 2e+06]\n",
      "  Bound  [0e+00, 0e+00]\n",
      "  RHS    [2e+01, 7e+01]\n",
      "Presolving model\n",
      "47627 rows, 41795 cols, 125400 nonzeros  0s\n",
      "38120 rows, 32288 cols, 113354 nonzeros  0s\n",
      "37381 rows, 31549 cols, 115754 nonzeros  0s\n",
      "\n",
      "Solving MIP model with:\n",
      "   37381 rows\n",
      "   31549 cols (0 binary, 5 integer, 0 implied int., 31544 continuous)\n",
      "   115754 nonzeros\n",
      "\n",
      "        Nodes      |    B&B Tree     |            Objective Bounds              |  Dynamic Constraints |       Work      \n",
      "     Proc. InQueue |  Leaves   Expl. | BestBound       BestSol              Gap |   Cuts   InLp Confl. | LpIters     Time\n",
      "\n",
      "         0       0         0   0.00%   -inf            inf                  inf        0      0      0         0     0.3s\n",
      " S       0       0         0   0.00%   -inf            284119069.1803     Large        0      0      0         0    24.3s\n",
      " R       0       0         0   0.00%   280558191.5309  281346662.5839     0.28%        0      0      0     79989    24.8s\n",
      "\n",
      "20.0% inactive integer columns, restarting\n",
      "Model after restart has 32649 rows, 26816 cols (0 bin., 4 int., 0 impl., 26812 cont.), and 106028 nonzeros\n",
      "\n",
      "         0       0         0   0.00%   280558191.5309  281346662.5839     0.28%        0      0      0     79989    24.9s\n",
      " R       0       0         0   0.00%   280558191.5309  280623494.4206     0.02%        0      0      0     79989    25.1s\n",
      "\n",
      "25.0% inactive integer columns, restarting\n",
      "Model after restart has 27355 rows, 21521 cols (0 bin., 3 int., 0 impl., 21518 cont.), and 95990 nonzeros\n",
      "\n",
      "         0       0         0   0.00%   280558191.5309  280623494.4206     0.02%        0      0      0     79989    25.3s\n",
      "         0       0         0   0.00%   280558191.5309  280623494.4206     0.02%        0      0      0     80430    25.8s\n",
      "         0       0         0   0.00%   280565588.5632  280623494.4206     0.02%       67     15      0     80558    30.9s\n",
      "         1       0         1 100.00%   280615775.7592  280623494.4206     0.00%       67     20      0     91138    41.8s\n",
      "\n",
      "Solving report\n",
      "  Status            Optimal\n",
      "  Primal bound      280623494.421\n",
      "  Dual bound        280615775.759\n",
      "  Gap               0.00275% (tolerance: 0.01%)\n",
      "  Solution status   feasible\n",
      "                    280623494.421 (objective)\n",
      "                    0 (bound viol.)\n",
      "                    9.04400544416e-20 (int. viol.)\n",
      "                    0 (row viol.)\n",
      "  Timing            41.75 (total)\n",
      "                    0.50 (presolve)\n",
      "                    0.00 (postsolve)\n",
      "  Nodes             1\n",
      "  LP iterations     91138 (total)\n",
      "                    481 (strong br.)\n",
      "                    133 (separation)\n",
      "                    9976 (heuristics)\n",
      "Writing the solution to /tmp/linopy-solve-lu9atguw.sol\n"
     ]
    },
    {
     "name": "stderr",
     "output_type": "stream",
     "text": [
      "INFO:pypsa.io:Exported network network.nc has buses, links, loads, stores, generators, carriers\n",
      "INFO:pypsa.io:Imported network network.nc has buses, carriers, generators, links, loads, stores\n"
     ]
    },
    {
     "name": "stdout",
     "output_type": "stream",
     "text": [
      "138 out of 144: ('1487', 2030, 1, -0.2, True, True, 1)\n",
      "Check the get_geo(config) function\n",
      "Create and store parameters\n",
      "Check weather files\n",
      "Check renewables data\n",
      "Renewables files do not exist for geography 1487. Please see /input/renewables/generate-renewables.ipynb\n",
      "Create and store demand\n",
      "Create and store network\n",
      "Using config:\n",
      "\tself-sufficiency:1\n",
      "\th2:True\n",
      "\toffwind:True\n",
      "\tbiogas:0\n"
     ]
    },
    {
     "name": "stderr",
     "output_type": "stream",
     "text": [
      "INFO:pypsa.io:Exported network network.nc has buses, links, loads, stores, generators, carriers\n"
     ]
    },
    {
     "name": "stdout",
     "output_type": "stream",
     "text": [
      "Run optimization\n"
     ]
    },
    {
     "name": "stderr",
     "output_type": "stream",
     "text": [
      "INFO:pypsa.io:Imported network network.nc has buses, carriers, generators, links, loads, stores\n",
      "INFO:linopy.model: Solve problem using Highs solver\n",
      "INFO:linopy.io:Writing objective.\n",
      "Writing constraints.: 100%|\u001b[38;2;128;191;255m██████████\u001b[0m| 18/18 [00:00<00:00, 35.98it/s]\n",
      "Writing continuous variables.: 100%|\u001b[38;2;128;191;255m██████████\u001b[0m| 9/9 [00:00<00:00, 98.91it/s]\n",
      "Writing integer variables.: 100%|\u001b[38;2;128;191;255m██████████\u001b[0m| 2/2 [00:00<00:00, 816.01it/s]\n",
      "INFO:linopy.io: Writing time: 0.63s\n",
      "INFO:linopy.solvers:Log file at /tmp/highs.log\n"
     ]
    },
    {
     "name": "stdout",
     "output_type": "stream",
     "text": [
      "Running HiGHS 1.7.2 (git hash: 184e327): Copyright (c) 2024 HiGHS under MIT licence terms\n"
     ]
    },
    {
     "name": "stderr",
     "output_type": "stream",
     "text": [
      "INFO:linopy.constants: Optimization successful: \n",
      "Status: ok\n",
      "Termination condition: optimal\n",
      "Solution: 43818 primals, 96380 duals\n",
      "Objective: 5.27e+08\n",
      "Solver model: available\n",
      "Solver message: optimal\n",
      "\n",
      "INFO:pypsa.optimization.optimize:The shadow-prices of the constraints Generator-ext-p-lower, Generator-ext-p-upper, Link-ext-p-lower, Link-ext-p-upper, Store-ext-e-lower, Store-ext-e-upper, Store-energy_balance, self_sufficiency_constraint were not assigned to the network.\n"
     ]
    },
    {
     "name": "stdout",
     "output_type": "stream",
     "text": [
      "Coefficient ranges:\n",
      "  Matrix [3e-07, 1e+02]\n",
      "  Cost   [6e+01, 2e+06]\n",
      "  Bound  [0e+00, 0e+00]\n",
      "  RHS    [3e+01, 8e+01]\n",
      "Presolving model\n",
      "44707 rows, 35955 cols, 116640 nonzeros  0s\n",
      "38110 rows, 29358 cols, 107537 nonzeros  0s\n",
      "37370 rows, 28618 cols, 110021 nonzeros  0s\n",
      "\n",
      "Solving MIP model with:\n",
      "   37370 rows\n",
      "   28618 cols (0 binary, 5 integer, 0 implied int., 28613 continuous)\n",
      "   110021 nonzeros\n",
      "\n",
      "        Nodes      |    B&B Tree     |            Objective Bounds              |  Dynamic Constraints |       Work      \n",
      "     Proc. InQueue |  Leaves   Expl. | BestBound       BestSol              Gap |   Cuts   InLp Confl. | LpIters     Time\n",
      "\n",
      "         0       0         0   0.00%   -inf            inf                  inf        0      0      0         0     0.3s\n",
      " S       0       0         0   0.00%   -inf            529710743.8162     Large        0      0      0         0     8.2s\n",
      " R       0       0         0   0.00%   526950932.7626  527153994.0474     0.04%        0      0      0     39024     8.6s\n",
      "\n",
      "40.0% inactive integer columns, restarting\n",
      "Model after restart has 27352 rows, 18598 cols (1 bin., 2 int., 0 impl., 18595 cont.), and 90153 nonzeros\n",
      "\n",
      "         0       0         0   0.00%   526950932.7626  527153994.0474     0.04%        0      0      0     39024    10.4s\n",
      " R       0       0         0   0.00%   526950932.7626  526998950.2274     0.01%        0      0      0     40264    11.1s\n",
      "\n",
      "Solving report\n",
      "  Status            Optimal\n",
      "  Primal bound      526998950.227\n",
      "  Dual bound        526950932.763\n",
      "  Gap               0.00911% (tolerance: 0.01%)\n",
      "  Solution status   feasible\n",
      "                    526998950.227 (objective)\n",
      "                    0 (bound viol.)\n",
      "                    0 (int. viol.)\n",
      "                    0 (row viol.)\n",
      "  Timing            11.07 (total)\n",
      "                    0.42 (presolve)\n",
      "                    0.00 (postsolve)\n",
      "  Nodes             1\n",
      "  LP iterations     40264 (total)\n",
      "                    0 (strong br.)\n",
      "                    0 (separation)\n",
      "                    0 (heuristics)\n",
      "Writing the solution to /tmp/linopy-solve-5lwz4a9s.sol\n"
     ]
    },
    {
     "name": "stderr",
     "output_type": "stream",
     "text": [
      "INFO:pypsa.io:Exported network network.nc has buses, links, loads, stores, generators, carriers\n",
      "INFO:pypsa.io:Imported network network.nc has buses, carriers, generators, links, loads, stores\n"
     ]
    },
    {
     "name": "stdout",
     "output_type": "stream",
     "text": [
      "139 out of 144: ('1487', 2030, 1, 0, True, True, 0)\n",
      "Check the get_geo(config) function\n",
      "Create and store parameters\n",
      "Check weather files\n",
      "Check renewables data\n",
      "Renewables files do not exist for geography 1487. Please see /input/renewables/generate-renewables.ipynb\n",
      "Create and store demand\n",
      "Create and store network\n",
      "Using config:\n",
      "\tself-sufficiency:1\n",
      "\th2:True\n",
      "\toffwind:True\n",
      "\tbiogas:0.5\n"
     ]
    },
    {
     "name": "stderr",
     "output_type": "stream",
     "text": [
      "INFO:pypsa.io:Exported network network.nc has buses, links, loads, stores, generators, carriers\n",
      "INFO:pypsa.io:Imported network network.nc has buses, carriers, generators, links, loads, stores\n"
     ]
    },
    {
     "name": "stdout",
     "output_type": "stream",
     "text": [
      "Run optimization\n"
     ]
    },
    {
     "name": "stderr",
     "output_type": "stream",
     "text": [
      "INFO:linopy.model: Solve problem using Highs solver\n",
      "INFO:linopy.io:Writing objective.\n",
      "Writing constraints.: 100%|\u001b[38;2;128;191;255m██████████\u001b[0m| 18/18 [00:00<00:00, 31.29it/s]\n",
      "Writing continuous variables.: 100%|\u001b[38;2;128;191;255m██████████\u001b[0m| 9/9 [00:00<00:00, 100.07it/s]\n",
      "Writing integer variables.: 100%|\u001b[38;2;128;191;255m██████████\u001b[0m| 2/2 [00:00<00:00, 871.27it/s]\n",
      "INFO:linopy.io: Writing time: 0.71s\n",
      "INFO:linopy.solvers:Log file at /tmp/highs.log\n"
     ]
    },
    {
     "name": "stdout",
     "output_type": "stream",
     "text": [
      "Running HiGHS 1.7.2 (git hash: 184e327): Copyright (c) 2024 HiGHS under MIT licence terms\n"
     ]
    },
    {
     "name": "stderr",
     "output_type": "stream",
     "text": [
      "INFO:linopy.constants: Optimization successful: \n",
      "Status: ok\n",
      "Termination condition: optimal\n",
      "Solution: 46739 primals, 102222 duals\n",
      "Objective: 3.97e+08\n",
      "Solver model: available\n",
      "Solver message: optimal\n",
      "\n",
      "INFO:pypsa.optimization.optimize:The shadow-prices of the constraints Generator-ext-p-lower, Generator-ext-p-upper, Link-ext-p-lower, Link-ext-p-upper, Store-ext-e-lower, Store-ext-e-upper, Store-energy_balance, self_sufficiency_constraint were not assigned to the network.\n"
     ]
    },
    {
     "name": "stdout",
     "output_type": "stream",
     "text": [
      "Coefficient ranges:\n",
      "  Matrix [3e-07, 1e+02]\n",
      "  Cost   [6e+01, 2e+06]\n",
      "  Bound  [0e+00, 0e+00]\n",
      "  RHS    [3e+01, 8e+01]\n",
      "Presolving model\n",
      "47627 rows, 41795 cols, 125400 nonzeros  0s\n",
      "38120 rows, 32288 cols, 113354 nonzeros  0s\n",
      "37381 rows, 31549 cols, 115754 nonzeros  0s\n",
      "\n",
      "Solving MIP model with:\n",
      "   37381 rows\n",
      "   31549 cols (0 binary, 5 integer, 0 implied int., 31544 continuous)\n",
      "   115754 nonzeros\n",
      "\n",
      "        Nodes      |    B&B Tree     |            Objective Bounds              |  Dynamic Constraints |       Work      \n",
      "     Proc. InQueue |  Leaves   Expl. | BestBound       BestSol              Gap |   Cuts   InLp Confl. | LpIters     Time\n",
      "\n",
      "         0       0         0   0.00%   -inf            inf                  inf        0      0      0         0     0.3s\n",
      " S       0       0         0   0.00%   -inf            401023017.7624     Large        0      0      0         0    22.5s\n",
      " R       0       0         0   0.00%   394458222.4745  396584485.8316     0.54%        0      0      0     67120    23.0s\n",
      "\n",
      "40.0% inactive integer columns, restarting\n",
      "Model after restart has 27354 rows, 21520 cols (0 bin., 3 int., 0 impl., 21517 cont.), and 95878 nonzeros\n",
      "\n",
      "         0       0         0   0.00%   394458222.4745  396584485.8316     0.54%        0      0      0     67120    23.2s\n",
      " R       0       0         0   0.00%   394458222.4745  396507808.5078     0.52%        0      0      0     68602    24.1s\n",
      "         0       0         0   0.00%   394527988.6635  396507808.5078     0.50%      875     12      0     68640    29.3s\n",
      "         1       0         0 100.00%   396507739.0472  396507808.5078     0.00%      875     14      0     90782    39.5s\n",
      "\n",
      "Solving report\n",
      "  Status            Optimal\n",
      "  Primal bound      396507808.508\n",
      "  Dual bound        396507739.047\n",
      "  Gap               1.8e-05% (tolerance: 0.01%)\n",
      "  Solution status   feasible\n",
      "                    396507808.508 (objective)\n",
      "                    0 (bound viol.)\n",
      "                    0 (int. viol.)\n",
      "                    0 (row viol.)\n",
      "  Timing            39.46 (total)\n",
      "                    0.46 (presolve)\n",
      "                    0.00 (postsolve)\n",
      "  Nodes             1\n",
      "  LP iterations     90782 (total)\n",
      "                    397 (strong br.)\n",
      "                    42 (separation)\n",
      "                    21473 (heuristics)\n",
      "Writing the solution to /tmp/linopy-solve-vfc_4ikb.sol\n"
     ]
    },
    {
     "name": "stderr",
     "output_type": "stream",
     "text": [
      "INFO:pypsa.io:Exported network network.nc has buses, links, loads, stores, generators, carriers\n",
      "INFO:pypsa.io:Imported network network.nc has buses, carriers, generators, links, loads, stores\n"
     ]
    },
    {
     "name": "stdout",
     "output_type": "stream",
     "text": [
      "140 out of 144: ('1487', 2030, 1, 0, True, True, 0.5)\n",
      "Check the get_geo(config) function\n",
      "Create and store parameters\n",
      "Check weather files\n",
      "Check renewables data\n",
      "Renewables files do not exist for geography 1487. Please see /input/renewables/generate-renewables.ipynb\n",
      "Create and store demand\n",
      "Create and store network\n",
      "Using config:\n",
      "\tself-sufficiency:1\n",
      "\th2:True\n",
      "\toffwind:True\n",
      "\tbiogas:1\n"
     ]
    },
    {
     "name": "stderr",
     "output_type": "stream",
     "text": [
      "INFO:pypsa.io:Exported network network.nc has buses, links, loads, stores, generators, carriers\n",
      "INFO:pypsa.io:Imported network network.nc has buses, carriers, generators, links, loads, stores\n"
     ]
    },
    {
     "name": "stdout",
     "output_type": "stream",
     "text": [
      "Run optimization\n"
     ]
    },
    {
     "name": "stderr",
     "output_type": "stream",
     "text": [
      "INFO:linopy.model: Solve problem using Highs solver\n",
      "INFO:linopy.io:Writing objective.\n",
      "Writing constraints.: 100%|\u001b[38;2;128;191;255m██████████\u001b[0m| 18/18 [00:00<00:00, 34.27it/s]\n",
      "Writing continuous variables.: 100%|\u001b[38;2;128;191;255m██████████\u001b[0m| 9/9 [00:00<00:00, 81.01it/s]\n",
      "Writing integer variables.: 100%|\u001b[38;2;128;191;255m██████████\u001b[0m| 2/2 [00:00<00:00, 481.19it/s]\n",
      "INFO:linopy.io: Writing time: 0.68s\n",
      "INFO:linopy.solvers:Log file at /tmp/highs.log\n"
     ]
    },
    {
     "name": "stdout",
     "output_type": "stream",
     "text": [
      "Running HiGHS 1.7.2 (git hash: 184e327): Copyright (c) 2024 HiGHS under MIT licence terms\n"
     ]
    },
    {
     "name": "stderr",
     "output_type": "stream",
     "text": [
      "INFO:linopy.constants: Optimization successful: \n",
      "Status: ok\n",
      "Termination condition: optimal\n",
      "Solution: 46739 primals, 102222 duals\n",
      "Objective: 3.51e+08\n",
      "Solver model: available\n",
      "Solver message: optimal\n",
      "\n",
      "INFO:pypsa.optimization.optimize:The shadow-prices of the constraints Generator-ext-p-lower, Generator-ext-p-upper, Link-ext-p-lower, Link-ext-p-upper, Store-ext-e-lower, Store-ext-e-upper, Store-energy_balance, self_sufficiency_constraint were not assigned to the network.\n"
     ]
    },
    {
     "name": "stdout",
     "output_type": "stream",
     "text": [
      "Coefficient ranges:\n",
      "  Matrix [3e-07, 1e+02]\n",
      "  Cost   [6e+01, 2e+06]\n",
      "  Bound  [0e+00, 0e+00]\n",
      "  RHS    [3e+01, 9e+01]\n",
      "Presolving model\n",
      "47627 rows, 41795 cols, 125400 nonzeros  0s\n",
      "38120 rows, 32288 cols, 113354 nonzeros  0s\n",
      "37381 rows, 31549 cols, 115754 nonzeros  0s\n",
      "\n",
      "Solving MIP model with:\n",
      "   37381 rows\n",
      "   31549 cols (0 binary, 5 integer, 0 implied int., 31544 continuous)\n",
      "   115754 nonzeros\n",
      "\n",
      "        Nodes      |    B&B Tree     |            Objective Bounds              |  Dynamic Constraints |       Work      \n",
      "     Proc. InQueue |  Leaves   Expl. | BestBound       BestSol              Gap |   Cuts   InLp Confl. | LpIters     Time\n",
      "\n",
      "         0       0         0   0.00%   -inf            inf                  inf        0      0      0         0     0.3s\n",
      " S       0       0         0   0.00%   -inf            357073571.7599     Large        0      0      0         0    23.2s\n",
      " R       0       0         0   0.00%   350697739.4136  351388890.7326     0.20%        0      0      0     74438    23.6s\n",
      "\n",
      "20.0% inactive integer columns, restarting\n",
      "Model after restart has 32649 rows, 26816 cols (0 bin., 4 int., 0 impl., 26812 cont.), and 106028 nonzeros\n",
      "\n",
      "         0       0         0   0.00%   350697739.4136  351388890.7326     0.20%        0      0      0     74438    23.7s\n",
      " R       0       0         0   0.00%   350697739.4136  351125606.521      0.12%        0      0      0     74438    24.1s\n",
      "         0       0         0   0.00%   350698055.8867  351125606.521      0.12%       59     13      0     74459    30.2s\n",
      " L       0       0         0   0.00%   350698101.7268  350809697.2985     0.03%       59     22      0     74476    38.0s\n",
      "\n",
      "25.0% inactive integer columns, restarting\n",
      "Model after restart has 27355 rows, 21521 cols (0 bin., 3 int., 0 impl., 21518 cont.), and 95990 nonzeros\n",
      "\n",
      "         0       0         0   0.00%   350698101.7917  350809697.2985     0.03%       22      0      0     83894    38.4s\n",
      "         0       0         0   0.00%   350698101.7917  350809697.2985     0.03%       22     22      0     84362    38.7s\n",
      "         0       0         0   0.00%   350698104.5571  350809697.2985     0.03%       31     26      0     95087    45.0s\n",
      "\n",
      "Solving report\n",
      "  Status            Optimal\n",
      "  Primal bound      350809697.299\n",
      "  Dual bound        350778317.986\n",
      "  Gap               0.00894% (tolerance: 0.01%)\n",
      "  Solution status   feasible\n",
      "                    350809697.299 (objective)\n",
      "                    0 (bound viol.)\n",
      "                    0 (int. viol.)\n",
      "                    0 (row viol.)\n",
      "  Timing            45.59 (total)\n",
      "                    0.49 (presolve)\n",
      "                    0.00 (postsolve)\n",
      "  Nodes             1\n",
      "  LP iterations     95968 (total)\n",
      "                    355 (strong br.)\n",
      "                    43 (separation)\n",
      "                    20138 (heuristics)\n",
      "Writing the solution to /tmp/linopy-solve-oo87fud5.sol\n"
     ]
    },
    {
     "name": "stderr",
     "output_type": "stream",
     "text": [
      "INFO:pypsa.io:Exported network network.nc has buses, links, loads, stores, generators, carriers\n",
      "INFO:pypsa.io:Imported network network.nc has buses, carriers, generators, links, loads, stores\n"
     ]
    },
    {
     "name": "stdout",
     "output_type": "stream",
     "text": [
      "141 out of 144: ('1487', 2030, 1, 0, True, True, 1)\n",
      "Check the get_geo(config) function\n",
      "Create and store parameters\n",
      "Check weather files\n",
      "Check renewables data\n",
      "Renewables files do not exist for geography 1487. Please see /input/renewables/generate-renewables.ipynb\n",
      "Create and store demand\n",
      "Create and store network\n",
      "Using config:\n",
      "\tself-sufficiency:1\n",
      "\th2:True\n",
      "\toffwind:True\n",
      "\tbiogas:0\n"
     ]
    },
    {
     "name": "stderr",
     "output_type": "stream",
     "text": [
      "INFO:pypsa.io:Exported network network.nc has buses, links, loads, stores, generators, carriers\n"
     ]
    },
    {
     "name": "stdout",
     "output_type": "stream",
     "text": [
      "Run optimization\n"
     ]
    },
    {
     "name": "stderr",
     "output_type": "stream",
     "text": [
      "INFO:pypsa.io:Imported network network.nc has buses, carriers, generators, links, loads, stores\n",
      "INFO:linopy.model: Solve problem using Highs solver\n",
      "INFO:linopy.io:Writing objective.\n",
      "Writing constraints.: 100%|\u001b[38;2;128;191;255m██████████\u001b[0m| 18/18 [00:00<00:00, 36.04it/s]\n",
      "Writing continuous variables.: 100%|\u001b[38;2;128;191;255m██████████\u001b[0m| 9/9 [00:00<00:00, 105.08it/s]\n",
      "Writing integer variables.: 100%|\u001b[38;2;128;191;255m██████████\u001b[0m| 2/2 [00:00<00:00, 622.90it/s]\n",
      "INFO:linopy.io: Writing time: 0.63s\n",
      "INFO:linopy.solvers:Log file at /tmp/highs.log\n"
     ]
    },
    {
     "name": "stdout",
     "output_type": "stream",
     "text": [
      "Running HiGHS 1.7.2 (git hash: 184e327): Copyright (c) 2024 HiGHS under MIT licence terms\n",
      "Coefficient ranges:\n",
      "  Matrix [3e-07, 1e+02]\n",
      "  Cost   [6e+01, 2e+06]\n",
      "  Bound  [0e+00, 0e+00]\n",
      "  RHS    [3e+01, 9e+01]\n",
      "Presolving model\n",
      "44707 rows, 35955 cols, 116640 nonzeros  0s\n",
      "38110 rows, 29358 cols, 107537 nonzeros  0s\n",
      "37370 rows, 28618 cols, 110021 nonzeros  0s\n",
      "\n",
      "Solving MIP model with:\n",
      "   37370 rows\n",
      "   28618 cols (0 binary, 5 integer, 0 implied int., 28613 continuous)\n",
      "   110021 nonzeros\n",
      "\n",
      "        Nodes      |    B&B Tree     |            Objective Bounds              |  Dynamic Constraints |       Work      \n",
      "     Proc. InQueue |  Leaves   Expl. | BestBound       BestSol              Gap |   Cuts   InLp Confl. | LpIters     Time\n",
      "\n",
      "         0       0         0   0.00%   -inf            inf                  inf        0      0      0         0     0.2s\n",
      " S       0       0         0   0.00%   -inf            635487091.9319     Large        0      0      0         0     8.4s\n",
      " R       0       0         0   0.00%   632341119.3152  632556946.037      0.03%        0      0      0     40957     8.7s\n",
      "\n",
      "40.0% inactive integer columns, restarting\n",
      "Model after restart has 27352 rows, 18598 cols (0 bin., 3 int., 0 i"
     ]
    },
    {
     "name": "stderr",
     "output_type": "stream",
     "text": [
      "INFO:linopy.constants: Optimization successful: \n",
      "Status: ok\n",
      "Termination condition: optimal\n",
      "Solution: 43818 primals, 96380 duals\n",
      "Objective: 6.32e+08\n",
      "Solver model: available\n",
      "Solver message: optimal\n",
      "\n",
      "INFO:pypsa.optimization.optimize:The shadow-prices of the constraints Generator-ext-p-lower, Generator-ext-p-upper, Link-ext-p-lower, Link-ext-p-upper, Store-ext-e-lower, Store-ext-e-upper, Store-energy_balance, self_sufficiency_constraint were not assigned to the network.\n"
     ]
    },
    {
     "name": "stdout",
     "output_type": "stream",
     "text": [
      "mpl., 18595 cont.), and 90153 nonzeros\n",
      "\n",
      "         0       0         0   0.00%   632341119.3152  632556946.037      0.03%        0      0      0     40957    10.1s\n",
      " R       0       0         0   0.00%   632341119.3152  632364933.0131     0.00%        0      0      0     44546    11.7s\n",
      "\n",
      "Solving report\n",
      "  Status            Optimal\n",
      "  Primal bound      632364933.013\n",
      "  Dual bound        632341119.315\n",
      "  Gap               0.00377% (tolerance: 0.01%)\n",
      "  Solution status   feasible\n",
      "                    632364933.013 (objective)\n",
      "                    0 (bound viol.)\n",
      "                    0 (int. viol.)\n",
      "                    0 (row viol.)\n",
      "  Timing            11.73 (total)\n",
      "                    0.35 (presolve)\n",
      "                    0.00 (postsolve)\n",
      "  Nodes             1\n",
      "  LP iterations     44546 (total)\n",
      "                    0 (strong br.)\n",
      "                    0 (separation)\n",
      "                    0 (heuristics)\n",
      "Writing the solution to /tmp/linopy-solve-3jtokxn9.sol\n"
     ]
    },
    {
     "name": "stderr",
     "output_type": "stream",
     "text": [
      "INFO:pypsa.io:Exported network network.nc has buses, links, loads, stores, generators, carriers\n",
      "INFO:pypsa.io:Imported network network.nc has buses, carriers, generators, links, loads, stores\n"
     ]
    },
    {
     "name": "stdout",
     "output_type": "stream",
     "text": [
      "142 out of 144: ('1487', 2030, 1, 0.2, True, True, 0)\n",
      "Check the get_geo(config) function\n",
      "Create and store parameters\n",
      "Check weather files\n",
      "Check renewables data\n",
      "Renewables files do not exist for geography 1487. Please see /input/renewables/generate-renewables.ipynb\n",
      "Create and store demand\n",
      "Create and store network\n",
      "Using config:\n",
      "\tself-sufficiency:1\n",
      "\th2:True\n",
      "\toffwind:True\n",
      "\tbiogas:0.5\n"
     ]
    },
    {
     "name": "stderr",
     "output_type": "stream",
     "text": [
      "INFO:pypsa.io:Exported network network.nc has buses, links, loads, stores, generators, carriers\n"
     ]
    },
    {
     "name": "stdout",
     "output_type": "stream",
     "text": [
      "Run optimization\n"
     ]
    },
    {
     "name": "stderr",
     "output_type": "stream",
     "text": [
      "INFO:pypsa.io:Imported network network.nc has buses, carriers, generators, links, loads, stores\n",
      "INFO:linopy.model: Solve problem using Highs solver\n",
      "INFO:linopy.io:Writing objective.\n",
      "Writing constraints.: 100%|\u001b[38;2;128;191;255m██████████\u001b[0m| 18/18 [00:00<00:00, 36.08it/s]\n",
      "Writing continuous variables.: 100%|\u001b[38;2;128;191;255m██████████\u001b[0m| 9/9 [00:00<00:00, 87.47it/s]\n",
      "Writing integer variables.: 100%|\u001b[38;2;128;191;255m██████████\u001b[0m| 2/2 [00:00<00:00, 642.51it/s]\n",
      "INFO:linopy.io: Writing time: 0.65s\n",
      "INFO:linopy.solvers:Log file at /tmp/highs.log\n"
     ]
    },
    {
     "name": "stdout",
     "output_type": "stream",
     "text": [
      "Running HiGHS 1.7.2 (git hash: 184e327): Copyright (c) 2024 HiGHS under MIT licence terms\n"
     ]
    },
    {
     "name": "stderr",
     "output_type": "stream",
     "text": [
      "INFO:linopy.constants: Optimization successful: \n",
      "Status: ok\n",
      "Termination condition: optimal\n",
      "Solution: 46739 primals, 102222 duals\n",
      "Objective: 4.76e+08\n",
      "Solver model: available\n",
      "Solver message: optimal\n",
      "\n",
      "INFO:pypsa.optimization.optimize:The shadow-prices of the constraints Generator-ext-p-lower, Generator-ext-p-upper, Link-ext-p-lower, Link-ext-p-upper, Store-ext-e-lower, Store-ext-e-upper, Store-energy_balance, self_sufficiency_constraint were not assigned to the network.\n"
     ]
    },
    {
     "name": "stdout",
     "output_type": "stream",
     "text": [
      "Coefficient ranges:\n",
      "  Matrix [3e-07, 1e+02]\n",
      "  Cost   [6e+01, 2e+06]\n",
      "  Bound  [0e+00, 0e+00]\n",
      "  RHS    [3e+01, 9e+01]\n",
      "Presolving model\n",
      "47627 rows, 41795 cols, 125400 nonzeros  0s\n",
      "38120 rows, 32288 cols, 113354 nonzeros  0s\n",
      "37381 rows, 31549 cols, 115754 nonzeros  0s\n",
      "\n",
      "Solving MIP model with:\n",
      "   37381 rows\n",
      "   31549 cols (0 binary, 5 integer, 0 implied int., 31544 continuous)\n",
      "   115754 nonzeros\n",
      "\n",
      "        Nodes      |    B&B Tree     |            Objective Bounds              |  Dynamic Constraints |       Work      \n",
      "     Proc. InQueue |  Leaves   Expl. | BestBound       BestSol              Gap |   Cuts   InLp Confl. | LpIters     Time\n",
      "\n",
      "         0       0         0   0.00%   -inf            inf                  inf        0      0      0         0     0.3s\n",
      " S       0       0         0   0.00%   -inf            481125102.4962     Large        0      0      0         0    19.6s\n",
      " R       0       0         0   0.00%   473349866.9694  476784747.648      0.72%        0      0      0     61176    20.0s\n",
      "\n",
      "20.0% inactive integer columns, restarting\n",
      "Model after restart has 32649 rows, 26816 cols (0 bin., 4 int., 0 impl., 26812 cont.), and 106028 nonzeros\n",
      "\n",
      "         0       0         0   0.00%   473349866.9694  476784747.648      0.72%        0      0      0     61176    20.2s\n",
      " R       0       0         0   0.00%   473349866.9694  476532706.0875     0.67%        0      0      0     62008    20.9s\n",
      "         0       0         0   0.00%   473349879.8911  476532706.0875     0.67%      439      6      0     62025    25.9s\n",
      " L       0       0         0   0.00%   473406471.0966  476396610.6753     0.63%      445     13      0     62165    32.8s\n",
      "\n",
      "25.0% inactive integer columns, restarting\n",
      "Model after restart has 27355 rows, 21521 cols (0 bin., 3 int., 0 impl., 21518 cont.), and 95990 nonzeros\n",
      "\n",
      "         0       0         0   0.00%   473406471.0966  476396610.6753     0.63%       13      0      0     72264    33.0s\n",
      "         0       0         0   0.00%   473406471.0966  476396610.6753     0.63%       13     13      0     72749    33.4s\n",
      "         0       0         0   0.00%   473420509.9602  476396610.6753     0.62%      441     27      0     83399    41.4s\n",
      "\n",
      "Solving report\n",
      "  Status            Optimal\n",
      "  Primal bound      476396610.675\n",
      "  Dual bound        476363961.616\n",
      "  Gap               0.00685% (tolerance: 0.01%)\n",
      "  Solution status   feasible\n",
      "                    476396610.675 (objective)\n",
      "                    0 (bound viol.)\n",
      "                    0 (int. viol.)\n",
      "                    0 (row viol.)\n",
      "  Timing            41.94 (total)\n",
      "                    0.48 (presolve)\n",
      "                    0.00 (postsolve)\n",
      "  Nodes             1\n",
      "  LP iterations     84297 (total)\n",
      "                    617 (strong br.)\n",
      "                    177 (separation)\n",
      "                    20729 (heuristics)\n",
      "Writing the solution to /tmp/linopy-solve-x5on5r6c.sol\n"
     ]
    },
    {
     "name": "stderr",
     "output_type": "stream",
     "text": [
      "INFO:pypsa.io:Exported network network.nc has buses, links, loads, stores, generators, carriers\n",
      "INFO:pypsa.io:Imported network network.nc has buses, carriers, generators, links, loads, stores\n"
     ]
    },
    {
     "name": "stdout",
     "output_type": "stream",
     "text": [
      "143 out of 144: ('1487', 2030, 1, 0.2, True, True, 0.5)\n",
      "Check the get_geo(config) function\n",
      "Create and store parameters\n",
      "Check weather files\n",
      "Check renewables data\n",
      "Renewables files do not exist for geography 1487. Please see /input/renewables/generate-renewables.ipynb\n",
      "Create and store demand\n",
      "Create and store network\n",
      "Using config:\n",
      "\tself-sufficiency:1\n",
      "\th2:True\n",
      "\toffwind:True\n",
      "\tbiogas:1\n"
     ]
    },
    {
     "name": "stderr",
     "output_type": "stream",
     "text": [
      "INFO:pypsa.io:Exported network network.nc has buses, links, loads, stores, generators, carriers\n",
      "INFO:pypsa.io:Imported network network.nc has buses, carriers, generators, links, loads, stores\n"
     ]
    },
    {
     "name": "stdout",
     "output_type": "stream",
     "text": [
      "Run optimization\n"
     ]
    },
    {
     "name": "stderr",
     "output_type": "stream",
     "text": [
      "INFO:linopy.model: Solve problem using Highs solver\n",
      "INFO:linopy.io:Writing objective.\n",
      "Writing constraints.: 100%|\u001b[38;2;128;191;255m██████████\u001b[0m| 18/18 [00:00<00:00, 34.82it/s]\n",
      "Writing continuous variables.: 100%|\u001b[38;2;128;191;255m██████████\u001b[0m| 9/9 [00:00<00:00, 100.95it/s]\n",
      "Writing integer variables.: 100%|\u001b[38;2;128;191;255m██████████\u001b[0m| 2/2 [00:00<00:00, 531.50it/s]\n",
      "INFO:linopy.io: Writing time: 0.66s\n",
      "INFO:linopy.solvers:Log file at /tmp/highs.log\n"
     ]
    },
    {
     "name": "stdout",
     "output_type": "stream",
     "text": [
      "Running HiGHS 1.7.2 (git hash: 184e327): Copyright (c) 2024 HiGHS under MIT licence terms\n"
     ]
    },
    {
     "name": "stderr",
     "output_type": "stream",
     "text": [
      "INFO:linopy.constants: Optimization successful: \n",
      "Status: ok\n",
      "Termination condition: optimal\n",
      "Solution: 46739 primals, 102222 duals\n",
      "Objective: 4.21e+08\n",
      "Solver model: available\n",
      "Solver message: optimal\n",
      "\n"
     ]
    },
    {
     "name": "stdout",
     "output_type": "stream",
     "text": [
      "Coefficient ranges:\n",
      "  Matrix [3e-07, 1e+02]\n",
      "  Cost   [6e+01, 2e+06]\n",
      "  Bound  [0e+00, 0e+00]\n",
      "  RHS    [3e+01, 1e+02]\n",
      "Presolving model\n",
      "47627 rows, 41795 cols, 125400 nonzeros  0s\n",
      "38120 rows, 32288 cols, 113354 nonzeros  0s\n",
      "37381 rows, 31549 cols, 115754 nonzeros  0s\n",
      "\n",
      "Solving MIP model with:\n",
      "   37381 rows\n",
      "   31549 cols (0 binary, 5 integer, 0 implied int., 31544 continuous)\n",
      "   115754 nonzeros\n",
      "\n",
      "        Nodes      |    B&B Tree     |            Objective Bounds              |  Dynamic Constraints |       Work      \n",
      "     Proc. InQueue |  Leaves   Expl. | BestBound       BestSol              Gap |   Cuts   InLp Confl. | LpIters     Time\n",
      "\n",
      "         0       0         0   0.00%   -inf            inf                  inf        0      0      0         0     0.3s\n",
      " S       0       0         0   0.00%   -inf            425744064.7858     Large        0      0      0         0    24.3s\n",
      " R       0       0         0   0.00%   420837287.2964  421181021.7256     0.08%        0      0      0     76527    24.7s\n",
      "\n",
      "40.0% inactive integer columns, restarting\n",
      "Model after restart has 27354 rows, 21520 cols (0 bin., 3 int., 0 impl., 21517 cont.), and 95878 nonzeros\n",
      "\n",
      "         0       0         0   0.00%   420837287.2964  421181021.7256     0.08%        0      0      0     76527    24.9s\n",
      " R       0       0         0   0.00%   420837287.2964  421011147.1373     0.04%        0      0      0     77157    25.3s\n",
      "         0       0         0   0.00%   420837946.9881  421011147.1373     0.04%       41     13      0     77177    30.3s\n",
      " L       0       0         0   0.00%   420838062.7205  420927637.4799     0.02%       41     16      0     77181    35.7s\n",
      "         1       0         0 100.00%   420914597.0817  420927637.4799     0.00%       41     16      0    106363    45.9s\n",
      "\n",
      "Solving report\n",
      "  Status            Optimal\n",
      "  Primal bound      420927637.48\n",
      "  Dual bound        420914597.082\n",
      "  Gap               0.0031% (tolerance: 0.01%)\n",
      "  Solution status   feasible\n",
      "                    420927637.48 (objective)\n",
      "                    0 (bound viol.)\n",
      "                    0 (int. viol.)\n",
      "                    0 (row viol.)\n",
      "  Timing            45.88 (total)\n",
      "                    0.48 (presolve)\n",
      "                    0.00 (postsolve)\n",
      "  Nodes             1\n",
      "  LP iterations     106363 (total)\n",
      "                    395 (strong br.)\n",
      "                    24 (separation)\n",
      "                    28433 (heuristics)\n",
      "Writing the solution to /tmp/linopy-solve-vdcy60u4.sol\n"
     ]
    },
    {
     "name": "stderr",
     "output_type": "stream",
     "text": [
      "INFO:pypsa.optimization.optimize:The shadow-prices of the constraints Generator-ext-p-lower, Generator-ext-p-upper, Link-ext-p-lower, Link-ext-p-upper, Store-ext-e-lower, Store-ext-e-upper, Store-energy_balance, self_sufficiency_constraint were not assigned to the network.\n",
      "INFO:pypsa.io:Exported network network.nc has buses, links, loads, stores, generators, carriers\n",
      "INFO:pypsa.io:Imported network network.nc has buses, carriers, generators, links, loads, stores\n"
     ]
    },
    {
     "name": "stdout",
     "output_type": "stream",
     "text": [
      "144 out of 144: ('1487', 2030, 1, 0.2, True, True, 1)\n",
      "Execution time: 109.8380 minutes\n"
     ]
    }
   ],
   "source": [
    "CONFIG_NAME=\"single\"\n",
    "\n",
    "# Iterates using the configuration specified, and runs everything needed to create all the outputs\n",
    "%run generator.py \"create\" \"$CONFIG_NAME\" False True"
   ]
  },
  {
   "cell_type": "markdown",
   "id": "5ef01af3-efa1-4791-ab78-76fcd372f3ae",
   "metadata": {},
   "source": [
    "### "
   ]
  }
 ],
 "metadata": {
  "kernelspec": {
   "display_name": "pypsa-vgr",
   "language": "python",
   "name": "python3"
  },
  "language_info": {
   "codemirror_mode": {
    "name": "ipython",
    "version": 3
   },
   "file_extension": ".py",
   "mimetype": "text/x-python",
   "name": "python",
   "nbconvert_exporter": "python",
   "pygments_lexer": "ipython3",
   "version": "3.11.9"
  }
 },
 "nbformat": 4,
 "nbformat_minor": 5
}
